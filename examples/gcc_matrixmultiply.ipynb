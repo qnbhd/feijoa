{
 "cells": [
  {
   "cell_type": "code",
   "execution_count": 1,
   "id": "7f61e6c3",
   "metadata": {},
   "outputs": [],
   "source": [
    "from feijoa import load_job, SearchSpace\n",
    "from feijoa.models.experiment import ExperimentState\n",
    "from examples.gcc.utils.run_tools import run_baselines"
   ]
  },
  {
   "cell_type": "code",
   "execution_count": 2,
   "id": "6a9d6a15",
   "metadata": {},
   "outputs": [],
   "source": [
    "baselines = {\n",
    "  \"O3\": {\n",
    "    \"time\": 0.18,\n",
    "    \"std\": 0.0,\n",
    "    \"cv\": 0.0,\n",
    "    \"low\": 0.18,\n",
    "    \"high\": 0.18\n",
    "  },\n",
    "  \"O2\": {\n",
    "    \"time\": 0.1825,\n",
    "    \"std\": 0.004330127018922198,\n",
    "    \"cv\": 0.02372672339135451,\n",
    "    \"low\": 0.18,\n",
    "    \"high\": 0.19\n",
    "  },\n",
    "  \"O1\": {\n",
    "    \"time\": 0.185,\n",
    "    \"std\": 0.0050000000000000044,\n",
    "    \"cv\": 0.027027027027027053,\n",
    "    \"low\": 0.18,\n",
    "    \"high\": 0.19\n",
    "  }\n",
    "} "
   ]
  },
  {
   "cell_type": "code",
   "execution_count": 3,
   "id": "cadd189e",
   "metadata": {},
   "outputs": [
    {
     "data": {
      "text/plain": [
       "{'O3': {'time': 0.18, 'std': 0.0, 'cv': 0.0, 'low': 0.18, 'high': 0.18},\n",
       " 'O2': {'time': 0.1825,\n",
       "  'std': 0.004330127018922198,\n",
       "  'cv': 0.02372672339135451,\n",
       "  'low': 0.18,\n",
       "  'high': 0.19},\n",
       " 'O1': {'time': 0.185,\n",
       "  'std': 0.0050000000000000044,\n",
       "  'cv': 0.027027027027027053,\n",
       "  'low': 0.18,\n",
       "  'high': 0.19}}"
      ]
     },
     "execution_count": 3,
     "metadata": {},
     "output_type": "execute_result"
    }
   ],
   "source": [
    "baselines"
   ]
  },
  {
   "cell_type": "code",
   "execution_count": 4,
   "id": "138c7647",
   "metadata": {},
   "outputs": [],
   "source": [
    "space = SearchSpace.from_yaml_file('/Users/qnbhd/Development/feijoa/examples/gcc/space_wided.yaml')"
   ]
  },
  {
   "cell_type": "code",
   "execution_count": 5,
   "id": "3208ccb5",
   "metadata": {},
   "outputs": [],
   "source": [
    "job = load_job(\n",
    "    search_space=space, \n",
    "    storage='sqlite:////Users/qnbhd/Development/feijoa/examples/gcc/gcc_matrixmultiply_v2.db',\n",
    "    name='12:54:11_04_19_2022'\n",
    ")"
   ]
  },
  {
   "cell_type": "code",
   "execution_count": 6,
   "id": "27a048c2",
   "metadata": {},
   "outputs": [
    {
     "data": {
      "text/html": [
       "<div>\n",
       "<style scoped>\n",
       "    .dataframe tbody tr th:only-of-type {\n",
       "        vertical-align: middle;\n",
       "    }\n",
       "\n",
       "    .dataframe tbody tr th {\n",
       "        vertical-align: top;\n",
       "    }\n",
       "\n",
       "    .dataframe thead th {\n",
       "        text-align: right;\n",
       "    }\n",
       "</style>\n",
       "<table border=\"1\" class=\"dataframe\">\n",
       "  <thead>\n",
       "    <tr style=\"text-align: right;\">\n",
       "      <th></th>\n",
       "      <th>id</th>\n",
       "      <th>job_id</th>\n",
       "      <th>state</th>\n",
       "      <th>hash</th>\n",
       "      <th>objective_result</th>\n",
       "      <th>requestor</th>\n",
       "      <th>create_time</th>\n",
       "      <th>finish_time</th>\n",
       "      <th>--param=predictable-branch-outcome</th>\n",
       "      <th>--param=uninlined-function-insns</th>\n",
       "      <th>...</th>\n",
       "      <th>-fweb</th>\n",
       "      <th>-fwrapv</th>\n",
       "      <th>-fwrapv-pointer</th>\n",
       "      <th>compile_time</th>\n",
       "      <th>time</th>\n",
       "      <th>size</th>\n",
       "      <th>std</th>\n",
       "      <th>cv</th>\n",
       "      <th>low</th>\n",
       "      <th>high</th>\n",
       "    </tr>\n",
       "  </thead>\n",
       "  <tbody>\n",
       "    <tr>\n",
       "      <th>0</th>\n",
       "      <td>1</td>\n",
       "      <td>1</td>\n",
       "      <td>ExperimentState.ERROR</td>\n",
       "      <td>de2c3984a9a7838202fde678e4ea9591a3f660a087f495...</td>\n",
       "      <td>1.000000e+10</td>\n",
       "      <td>SkoptBayesianAlgorithm</td>\n",
       "      <td>2022-04-19 13:54:15.683616</td>\n",
       "      <td>2022-04-19 13:54:16.220929</td>\n",
       "      <td>26</td>\n",
       "      <td>956860</td>\n",
       "      <td>...</td>\n",
       "      <td>-fno-web</td>\n",
       "      <td>-fwrapv</td>\n",
       "      <td>-fwrapv-pointer</td>\n",
       "      <td>1.000000e+10</td>\n",
       "      <td>1.000000e+10</td>\n",
       "      <td>1.000000e+10</td>\n",
       "      <td>1.000000e+10</td>\n",
       "      <td>1.000000e+10</td>\n",
       "      <td>1.000000e+10</td>\n",
       "      <td>1.000000e+10</td>\n",
       "    </tr>\n",
       "    <tr>\n",
       "      <th>1</th>\n",
       "      <td>2</td>\n",
       "      <td>1</td>\n",
       "      <td>ExperimentState.ERROR</td>\n",
       "      <td>709bbc2cb2f5adc31399615c12f8ad5f58c0137c87f495...</td>\n",
       "      <td>1.000000e+10</td>\n",
       "      <td>SkoptBayesianAlgorithm</td>\n",
       "      <td>2022-04-19 13:54:16.258329</td>\n",
       "      <td>2022-04-19 13:54:16.796609</td>\n",
       "      <td>24</td>\n",
       "      <td>406488</td>\n",
       "      <td>...</td>\n",
       "      <td>-fweb</td>\n",
       "      <td>-fno-wrapv</td>\n",
       "      <td>None</td>\n",
       "      <td>1.000000e+10</td>\n",
       "      <td>1.000000e+10</td>\n",
       "      <td>1.000000e+10</td>\n",
       "      <td>1.000000e+10</td>\n",
       "      <td>1.000000e+10</td>\n",
       "      <td>1.000000e+10</td>\n",
       "      <td>1.000000e+10</td>\n",
       "    </tr>\n",
       "    <tr>\n",
       "      <th>2</th>\n",
       "      <td>3</td>\n",
       "      <td>1</td>\n",
       "      <td>ExperimentState.ERROR</td>\n",
       "      <td>5702cd9ff320403f2aa51de7e91f463e18c93e7587f495...</td>\n",
       "      <td>1.000000e+10</td>\n",
       "      <td>SkoptBayesianAlgorithm</td>\n",
       "      <td>2022-04-19 13:54:16.831199</td>\n",
       "      <td>2022-04-19 13:54:17.396469</td>\n",
       "      <td>2</td>\n",
       "      <td>24152</td>\n",
       "      <td>...</td>\n",
       "      <td>-fweb</td>\n",
       "      <td>-fwrapv</td>\n",
       "      <td>None</td>\n",
       "      <td>1.000000e+10</td>\n",
       "      <td>1.000000e+10</td>\n",
       "      <td>1.000000e+10</td>\n",
       "      <td>1.000000e+10</td>\n",
       "      <td>1.000000e+10</td>\n",
       "      <td>1.000000e+10</td>\n",
       "      <td>1.000000e+10</td>\n",
       "    </tr>\n",
       "    <tr>\n",
       "      <th>3</th>\n",
       "      <td>4</td>\n",
       "      <td>1</td>\n",
       "      <td>ExperimentState.ERROR</td>\n",
       "      <td>8705d7fa1463de420700c332156c1ca97bc07ba887f495...</td>\n",
       "      <td>1.000000e+10</td>\n",
       "      <td>SkoptBayesianAlgorithm</td>\n",
       "      <td>2022-04-19 13:54:17.432387</td>\n",
       "      <td>2022-04-19 13:54:18.090854</td>\n",
       "      <td>50</td>\n",
       "      <td>920664</td>\n",
       "      <td>...</td>\n",
       "      <td>-fweb</td>\n",
       "      <td>-fwrapv</td>\n",
       "      <td>-fwrapv-pointer</td>\n",
       "      <td>1.000000e+10</td>\n",
       "      <td>1.000000e+10</td>\n",
       "      <td>1.000000e+10</td>\n",
       "      <td>1.000000e+10</td>\n",
       "      <td>1.000000e+10</td>\n",
       "      <td>1.000000e+10</td>\n",
       "      <td>1.000000e+10</td>\n",
       "    </tr>\n",
       "    <tr>\n",
       "      <th>4</th>\n",
       "      <td>5</td>\n",
       "      <td>1</td>\n",
       "      <td>ExperimentState.ERROR</td>\n",
       "      <td>4238534ae23f6550e9e3a28da23e0a1a172b632787f495...</td>\n",
       "      <td>1.000000e+10</td>\n",
       "      <td>SkoptBayesianAlgorithm</td>\n",
       "      <td>2022-04-19 13:54:18.129488</td>\n",
       "      <td>2022-04-19 13:54:18.786403</td>\n",
       "      <td>3</td>\n",
       "      <td>516314</td>\n",
       "      <td>...</td>\n",
       "      <td>None</td>\n",
       "      <td>-fno-wrapv</td>\n",
       "      <td>-fwrapv-pointer</td>\n",
       "      <td>1.000000e+10</td>\n",
       "      <td>1.000000e+10</td>\n",
       "      <td>1.000000e+10</td>\n",
       "      <td>1.000000e+10</td>\n",
       "      <td>1.000000e+10</td>\n",
       "      <td>1.000000e+10</td>\n",
       "      <td>1.000000e+10</td>\n",
       "    </tr>\n",
       "    <tr>\n",
       "      <th>...</th>\n",
       "      <td>...</td>\n",
       "      <td>...</td>\n",
       "      <td>...</td>\n",
       "      <td>...</td>\n",
       "      <td>...</td>\n",
       "      <td>...</td>\n",
       "      <td>...</td>\n",
       "      <td>...</td>\n",
       "      <td>...</td>\n",
       "      <td>...</td>\n",
       "      <td>...</td>\n",
       "      <td>...</td>\n",
       "      <td>...</td>\n",
       "      <td>...</td>\n",
       "      <td>...</td>\n",
       "      <td>...</td>\n",
       "      <td>...</td>\n",
       "      <td>...</td>\n",
       "      <td>...</td>\n",
       "      <td>...</td>\n",
       "      <td>...</td>\n",
       "    </tr>\n",
       "    <tr>\n",
       "      <th>995</th>\n",
       "      <td>996</td>\n",
       "      <td>1</td>\n",
       "      <td>ExperimentState.OK</td>\n",
       "      <td>31dadc1d3778a6d84909282ce9f37fa574dff90449de56...</td>\n",
       "      <td>7.900000e-01</td>\n",
       "      <td>SkoptBayesianAlgorithm</td>\n",
       "      <td>2022-04-19 15:26:07.334955</td>\n",
       "      <td>2022-04-19 15:26:11.354664</td>\n",
       "      <td>46</td>\n",
       "      <td>687134</td>\n",
       "      <td>...</td>\n",
       "      <td>-fno-web</td>\n",
       "      <td>None</td>\n",
       "      <td>-fwrapv-pointer</td>\n",
       "      <td>3.800000e-01</td>\n",
       "      <td>7.900000e-01</td>\n",
       "      <td>1.905600e+04</td>\n",
       "      <td>1.581139e-02</td>\n",
       "      <td>2.001442e-02</td>\n",
       "      <td>7.700000e-01</td>\n",
       "      <td>8.100000e-01</td>\n",
       "    </tr>\n",
       "    <tr>\n",
       "      <th>996</th>\n",
       "      <td>997</td>\n",
       "      <td>1</td>\n",
       "      <td>ExperimentState.OK</td>\n",
       "      <td>15882cc8860ba486403d41f4e2c3d6c0d913b299b188e7...</td>\n",
       "      <td>1.900000e-01</td>\n",
       "      <td>SkoptBayesianAlgorithm</td>\n",
       "      <td>2022-04-19 15:26:16.929395</td>\n",
       "      <td>2022-04-19 15:26:18.591928</td>\n",
       "      <td>45</td>\n",
       "      <td>675553</td>\n",
       "      <td>...</td>\n",
       "      <td>-fno-web</td>\n",
       "      <td>None</td>\n",
       "      <td>-fwrapv-pointer</td>\n",
       "      <td>4.100000e-01</td>\n",
       "      <td>1.900000e-01</td>\n",
       "      <td>1.776800e+04</td>\n",
       "      <td>0.000000e+00</td>\n",
       "      <td>0.000000e+00</td>\n",
       "      <td>1.900000e-01</td>\n",
       "      <td>1.900000e-01</td>\n",
       "    </tr>\n",
       "    <tr>\n",
       "      <th>997</th>\n",
       "      <td>998</td>\n",
       "      <td>1</td>\n",
       "      <td>ExperimentState.OK</td>\n",
       "      <td>19cd43998e97d1681207145da2971533676b75079d7766...</td>\n",
       "      <td>4.425000e-01</td>\n",
       "      <td>SkoptBayesianAlgorithm</td>\n",
       "      <td>2022-04-19 15:26:24.155886</td>\n",
       "      <td>2022-04-19 15:26:26.805173</td>\n",
       "      <td>46</td>\n",
       "      <td>450538</td>\n",
       "      <td>...</td>\n",
       "      <td>-fno-web</td>\n",
       "      <td>-fwrapv</td>\n",
       "      <td>None</td>\n",
       "      <td>3.900000e-01</td>\n",
       "      <td>4.425000e-01</td>\n",
       "      <td>1.696000e+04</td>\n",
       "      <td>4.330127e-03</td>\n",
       "      <td>9.785598e-03</td>\n",
       "      <td>4.400000e-01</td>\n",
       "      <td>4.500000e-01</td>\n",
       "    </tr>\n",
       "    <tr>\n",
       "      <th>998</th>\n",
       "      <td>999</td>\n",
       "      <td>1</td>\n",
       "      <td>ExperimentState.OK</td>\n",
       "      <td>0bbe74ccc9e72f00b0b160b22ec4e264bd210296b188e7...</td>\n",
       "      <td>1.900000e-01</td>\n",
       "      <td>SkoptBayesianAlgorithm</td>\n",
       "      <td>2022-04-19 15:26:32.438364</td>\n",
       "      <td>2022-04-19 15:26:34.109361</td>\n",
       "      <td>31</td>\n",
       "      <td>856159</td>\n",
       "      <td>...</td>\n",
       "      <td>-fweb</td>\n",
       "      <td>-fwrapv</td>\n",
       "      <td>None</td>\n",
       "      <td>4.100000e-01</td>\n",
       "      <td>1.900000e-01</td>\n",
       "      <td>1.676800e+04</td>\n",
       "      <td>0.000000e+00</td>\n",
       "      <td>0.000000e+00</td>\n",
       "      <td>1.900000e-01</td>\n",
       "      <td>1.900000e-01</td>\n",
       "    </tr>\n",
       "    <tr>\n",
       "      <th>999</th>\n",
       "      <td>1000</td>\n",
       "      <td>1</td>\n",
       "      <td>ExperimentState.OK</td>\n",
       "      <td>54845a9e4f3d9d718d7e732312d249cb5e7d3106880736...</td>\n",
       "      <td>6.400000e-01</td>\n",
       "      <td>SkoptBayesianAlgorithm</td>\n",
       "      <td>2022-04-19 15:26:39.895484</td>\n",
       "      <td>2022-04-19 15:26:43.536727</td>\n",
       "      <td>6</td>\n",
       "      <td>344468</td>\n",
       "      <td>...</td>\n",
       "      <td>None</td>\n",
       "      <td>-fwrapv</td>\n",
       "      <td>None</td>\n",
       "      <td>3.700000e-01</td>\n",
       "      <td>6.400000e-01</td>\n",
       "      <td>1.739200e+04</td>\n",
       "      <td>0.000000e+00</td>\n",
       "      <td>0.000000e+00</td>\n",
       "      <td>6.400000e-01</td>\n",
       "      <td>6.400000e-01</td>\n",
       "    </tr>\n",
       "  </tbody>\n",
       "</table>\n",
       "<p>1000 rows × 272 columns</p>\n",
       "</div>"
      ],
      "text/plain": [
       "       id  job_id                  state  \\\n",
       "0       1       1  ExperimentState.ERROR   \n",
       "1       2       1  ExperimentState.ERROR   \n",
       "2       3       1  ExperimentState.ERROR   \n",
       "3       4       1  ExperimentState.ERROR   \n",
       "4       5       1  ExperimentState.ERROR   \n",
       "..    ...     ...                    ...   \n",
       "995   996       1     ExperimentState.OK   \n",
       "996   997       1     ExperimentState.OK   \n",
       "997   998       1     ExperimentState.OK   \n",
       "998   999       1     ExperimentState.OK   \n",
       "999  1000       1     ExperimentState.OK   \n",
       "\n",
       "                                                  hash  objective_result  \\\n",
       "0    de2c3984a9a7838202fde678e4ea9591a3f660a087f495...      1.000000e+10   \n",
       "1    709bbc2cb2f5adc31399615c12f8ad5f58c0137c87f495...      1.000000e+10   \n",
       "2    5702cd9ff320403f2aa51de7e91f463e18c93e7587f495...      1.000000e+10   \n",
       "3    8705d7fa1463de420700c332156c1ca97bc07ba887f495...      1.000000e+10   \n",
       "4    4238534ae23f6550e9e3a28da23e0a1a172b632787f495...      1.000000e+10   \n",
       "..                                                 ...               ...   \n",
       "995  31dadc1d3778a6d84909282ce9f37fa574dff90449de56...      7.900000e-01   \n",
       "996  15882cc8860ba486403d41f4e2c3d6c0d913b299b188e7...      1.900000e-01   \n",
       "997  19cd43998e97d1681207145da2971533676b75079d7766...      4.425000e-01   \n",
       "998  0bbe74ccc9e72f00b0b160b22ec4e264bd210296b188e7...      1.900000e-01   \n",
       "999  54845a9e4f3d9d718d7e732312d249cb5e7d3106880736...      6.400000e-01   \n",
       "\n",
       "                  requestor                create_time  \\\n",
       "0    SkoptBayesianAlgorithm 2022-04-19 13:54:15.683616   \n",
       "1    SkoptBayesianAlgorithm 2022-04-19 13:54:16.258329   \n",
       "2    SkoptBayesianAlgorithm 2022-04-19 13:54:16.831199   \n",
       "3    SkoptBayesianAlgorithm 2022-04-19 13:54:17.432387   \n",
       "4    SkoptBayesianAlgorithm 2022-04-19 13:54:18.129488   \n",
       "..                      ...                        ...   \n",
       "995  SkoptBayesianAlgorithm 2022-04-19 15:26:07.334955   \n",
       "996  SkoptBayesianAlgorithm 2022-04-19 15:26:16.929395   \n",
       "997  SkoptBayesianAlgorithm 2022-04-19 15:26:24.155886   \n",
       "998  SkoptBayesianAlgorithm 2022-04-19 15:26:32.438364   \n",
       "999  SkoptBayesianAlgorithm 2022-04-19 15:26:39.895484   \n",
       "\n",
       "                   finish_time  --param=predictable-branch-outcome  \\\n",
       "0   2022-04-19 13:54:16.220929                                  26   \n",
       "1   2022-04-19 13:54:16.796609                                  24   \n",
       "2   2022-04-19 13:54:17.396469                                   2   \n",
       "3   2022-04-19 13:54:18.090854                                  50   \n",
       "4   2022-04-19 13:54:18.786403                                   3   \n",
       "..                         ...                                 ...   \n",
       "995 2022-04-19 15:26:11.354664                                  46   \n",
       "996 2022-04-19 15:26:18.591928                                  45   \n",
       "997 2022-04-19 15:26:26.805173                                  46   \n",
       "998 2022-04-19 15:26:34.109361                                  31   \n",
       "999 2022-04-19 15:26:43.536727                                   6   \n",
       "\n",
       "     --param=uninlined-function-insns  ...     -fweb     -fwrapv  \\\n",
       "0                              956860  ...  -fno-web     -fwrapv   \n",
       "1                              406488  ...     -fweb  -fno-wrapv   \n",
       "2                               24152  ...     -fweb     -fwrapv   \n",
       "3                              920664  ...     -fweb     -fwrapv   \n",
       "4                              516314  ...      None  -fno-wrapv   \n",
       "..                                ...  ...       ...         ...   \n",
       "995                            687134  ...  -fno-web        None   \n",
       "996                            675553  ...  -fno-web        None   \n",
       "997                            450538  ...  -fno-web     -fwrapv   \n",
       "998                            856159  ...     -fweb     -fwrapv   \n",
       "999                            344468  ...      None     -fwrapv   \n",
       "\n",
       "     -fwrapv-pointer  compile_time          time          size           std  \\\n",
       "0    -fwrapv-pointer  1.000000e+10  1.000000e+10  1.000000e+10  1.000000e+10   \n",
       "1               None  1.000000e+10  1.000000e+10  1.000000e+10  1.000000e+10   \n",
       "2               None  1.000000e+10  1.000000e+10  1.000000e+10  1.000000e+10   \n",
       "3    -fwrapv-pointer  1.000000e+10  1.000000e+10  1.000000e+10  1.000000e+10   \n",
       "4    -fwrapv-pointer  1.000000e+10  1.000000e+10  1.000000e+10  1.000000e+10   \n",
       "..               ...           ...           ...           ...           ...   \n",
       "995  -fwrapv-pointer  3.800000e-01  7.900000e-01  1.905600e+04  1.581139e-02   \n",
       "996  -fwrapv-pointer  4.100000e-01  1.900000e-01  1.776800e+04  0.000000e+00   \n",
       "997             None  3.900000e-01  4.425000e-01  1.696000e+04  4.330127e-03   \n",
       "998             None  4.100000e-01  1.900000e-01  1.676800e+04  0.000000e+00   \n",
       "999             None  3.700000e-01  6.400000e-01  1.739200e+04  0.000000e+00   \n",
       "\n",
       "               cv           low          high  \n",
       "0    1.000000e+10  1.000000e+10  1.000000e+10  \n",
       "1    1.000000e+10  1.000000e+10  1.000000e+10  \n",
       "2    1.000000e+10  1.000000e+10  1.000000e+10  \n",
       "3    1.000000e+10  1.000000e+10  1.000000e+10  \n",
       "4    1.000000e+10  1.000000e+10  1.000000e+10  \n",
       "..            ...           ...           ...  \n",
       "995  2.001442e-02  7.700000e-01  8.100000e-01  \n",
       "996  0.000000e+00  1.900000e-01  1.900000e-01  \n",
       "997  9.785598e-03  4.400000e-01  4.500000e-01  \n",
       "998  0.000000e+00  1.900000e-01  1.900000e-01  \n",
       "999  0.000000e+00  6.400000e-01  6.400000e-01  \n",
       "\n",
       "[1000 rows x 272 columns]"
      ]
     },
     "execution_count": 6,
     "metadata": {},
     "output_type": "execute_result"
    }
   ],
   "source": [
    "job.dataframe"
   ]
  },
  {
   "cell_type": "code",
   "execution_count": 7,
   "id": "a4ddc892",
   "metadata": {},
   "outputs": [],
   "source": [
    "df = job.dataframe"
   ]
  },
  {
   "cell_type": "code",
   "execution_count": 8,
   "id": "f3fc686e",
   "metadata": {},
   "outputs": [],
   "source": [
    "valid_df = df[df['state'] == ExperimentState.OK]"
   ]
  },
  {
   "cell_type": "code",
   "execution_count": 9,
   "id": "a41e7925",
   "metadata": {},
   "outputs": [
    {
     "data": {
      "text/html": [
       "<div>\n",
       "<style scoped>\n",
       "    .dataframe tbody tr th:only-of-type {\n",
       "        vertical-align: middle;\n",
       "    }\n",
       "\n",
       "    .dataframe tbody tr th {\n",
       "        vertical-align: top;\n",
       "    }\n",
       "\n",
       "    .dataframe thead th {\n",
       "        text-align: right;\n",
       "    }\n",
       "</style>\n",
       "<table border=\"1\" class=\"dataframe\">\n",
       "  <thead>\n",
       "    <tr style=\"text-align: right;\">\n",
       "      <th></th>\n",
       "      <th>id</th>\n",
       "      <th>job_id</th>\n",
       "      <th>state</th>\n",
       "      <th>hash</th>\n",
       "      <th>objective_result</th>\n",
       "      <th>requestor</th>\n",
       "      <th>create_time</th>\n",
       "      <th>finish_time</th>\n",
       "      <th>--param=predictable-branch-outcome</th>\n",
       "      <th>--param=uninlined-function-insns</th>\n",
       "      <th>...</th>\n",
       "      <th>-fweb</th>\n",
       "      <th>-fwrapv</th>\n",
       "      <th>-fwrapv-pointer</th>\n",
       "      <th>compile_time</th>\n",
       "      <th>time</th>\n",
       "      <th>size</th>\n",
       "      <th>std</th>\n",
       "      <th>cv</th>\n",
       "      <th>low</th>\n",
       "      <th>high</th>\n",
       "    </tr>\n",
       "  </thead>\n",
       "  <tbody>\n",
       "    <tr>\n",
       "      <th>5</th>\n",
       "      <td>6</td>\n",
       "      <td>1</td>\n",
       "      <td>ExperimentState.OK</td>\n",
       "      <td>0622db4a61b207cfe51d977bc3a67b1282511ed5ee6a06...</td>\n",
       "      <td>0.4450</td>\n",
       "      <td>SkoptBayesianAlgorithm</td>\n",
       "      <td>2022-04-19 13:54:18.822460</td>\n",
       "      <td>2022-04-19 13:54:21.198296</td>\n",
       "      <td>10</td>\n",
       "      <td>18216</td>\n",
       "      <td>...</td>\n",
       "      <td>-fweb</td>\n",
       "      <td>-fwrapv</td>\n",
       "      <td>-fno-wrapv-pointer</td>\n",
       "      <td>0.44</td>\n",
       "      <td>0.4450</td>\n",
       "      <td>22632.0</td>\n",
       "      <td>0.005000</td>\n",
       "      <td>0.011236</td>\n",
       "      <td>0.44</td>\n",
       "      <td>0.45</td>\n",
       "    </tr>\n",
       "    <tr>\n",
       "      <th>10</th>\n",
       "      <td>11</td>\n",
       "      <td>1</td>\n",
       "      <td>ExperimentState.OK</td>\n",
       "      <td>069bf99df4652435d7d4ac38430fea0f95f6e042180822...</td>\n",
       "      <td>0.4575</td>\n",
       "      <td>SkoptBayesianAlgorithm</td>\n",
       "      <td>2022-04-19 13:54:26.339227</td>\n",
       "      <td>2022-04-19 13:54:28.718637</td>\n",
       "      <td>7</td>\n",
       "      <td>305301</td>\n",
       "      <td>...</td>\n",
       "      <td>-fno-web</td>\n",
       "      <td>-fno-wrapv</td>\n",
       "      <td>-fno-wrapv-pointer</td>\n",
       "      <td>0.40</td>\n",
       "      <td>0.4575</td>\n",
       "      <td>17440.0</td>\n",
       "      <td>0.008292</td>\n",
       "      <td>0.018124</td>\n",
       "      <td>0.45</td>\n",
       "      <td>0.47</td>\n",
       "    </tr>\n",
       "    <tr>\n",
       "      <th>12</th>\n",
       "      <td>13</td>\n",
       "      <td>1</td>\n",
       "      <td>ExperimentState.OK</td>\n",
       "      <td>d59386c0b1ad6d5d9853ae398b04c5a6682c9228ba2fee...</td>\n",
       "      <td>0.1950</td>\n",
       "      <td>SkoptBayesianAlgorithm</td>\n",
       "      <td>2022-04-19 13:54:34.952575</td>\n",
       "      <td>2022-04-19 13:54:36.303479</td>\n",
       "      <td>16</td>\n",
       "      <td>962255</td>\n",
       "      <td>...</td>\n",
       "      <td>None</td>\n",
       "      <td>None</td>\n",
       "      <td>-fno-wrapv-pointer</td>\n",
       "      <td>0.42</td>\n",
       "      <td>0.1950</td>\n",
       "      <td>17224.0</td>\n",
       "      <td>0.005000</td>\n",
       "      <td>0.025641</td>\n",
       "      <td>0.19</td>\n",
       "      <td>0.20</td>\n",
       "    </tr>\n",
       "    <tr>\n",
       "      <th>14</th>\n",
       "      <td>15</td>\n",
       "      <td>1</td>\n",
       "      <td>ExperimentState.OK</td>\n",
       "      <td>28f647eaf3bde28179011f89b4b0dffb22a08e40d52900...</td>\n",
       "      <td>0.4925</td>\n",
       "      <td>SkoptBayesianAlgorithm</td>\n",
       "      <td>2022-04-19 13:54:42.417050</td>\n",
       "      <td>2022-04-19 13:54:44.953473</td>\n",
       "      <td>37</td>\n",
       "      <td>482441</td>\n",
       "      <td>...</td>\n",
       "      <td>-fno-web</td>\n",
       "      <td>-fno-wrapv</td>\n",
       "      <td>-fwrapv-pointer</td>\n",
       "      <td>0.42</td>\n",
       "      <td>0.4925</td>\n",
       "      <td>17840.0</td>\n",
       "      <td>0.032692</td>\n",
       "      <td>0.066379</td>\n",
       "      <td>0.45</td>\n",
       "      <td>0.54</td>\n",
       "    </tr>\n",
       "    <tr>\n",
       "      <th>15</th>\n",
       "      <td>16</td>\n",
       "      <td>1</td>\n",
       "      <td>ExperimentState.OK</td>\n",
       "      <td>4e3c7935d0de655a85a61f3abefb0201b5837466c8e01d...</td>\n",
       "      <td>0.6625</td>\n",
       "      <td>SkoptBayesianAlgorithm</td>\n",
       "      <td>2022-04-19 13:54:47.740791</td>\n",
       "      <td>2022-04-19 13:54:50.953565</td>\n",
       "      <td>44</td>\n",
       "      <td>255916</td>\n",
       "      <td>...</td>\n",
       "      <td>-fweb</td>\n",
       "      <td>None</td>\n",
       "      <td>-fno-wrapv-pointer</td>\n",
       "      <td>0.38</td>\n",
       "      <td>0.6625</td>\n",
       "      <td>17392.0</td>\n",
       "      <td>0.027726</td>\n",
       "      <td>0.041851</td>\n",
       "      <td>0.64</td>\n",
       "      <td>0.71</td>\n",
       "    </tr>\n",
       "    <tr>\n",
       "      <th>...</th>\n",
       "      <td>...</td>\n",
       "      <td>...</td>\n",
       "      <td>...</td>\n",
       "      <td>...</td>\n",
       "      <td>...</td>\n",
       "      <td>...</td>\n",
       "      <td>...</td>\n",
       "      <td>...</td>\n",
       "      <td>...</td>\n",
       "      <td>...</td>\n",
       "      <td>...</td>\n",
       "      <td>...</td>\n",
       "      <td>...</td>\n",
       "      <td>...</td>\n",
       "      <td>...</td>\n",
       "      <td>...</td>\n",
       "      <td>...</td>\n",
       "      <td>...</td>\n",
       "      <td>...</td>\n",
       "      <td>...</td>\n",
       "      <td>...</td>\n",
       "    </tr>\n",
       "    <tr>\n",
       "      <th>995</th>\n",
       "      <td>996</td>\n",
       "      <td>1</td>\n",
       "      <td>ExperimentState.OK</td>\n",
       "      <td>31dadc1d3778a6d84909282ce9f37fa574dff90449de56...</td>\n",
       "      <td>0.7900</td>\n",
       "      <td>SkoptBayesianAlgorithm</td>\n",
       "      <td>2022-04-19 15:26:07.334955</td>\n",
       "      <td>2022-04-19 15:26:11.354664</td>\n",
       "      <td>46</td>\n",
       "      <td>687134</td>\n",
       "      <td>...</td>\n",
       "      <td>-fno-web</td>\n",
       "      <td>None</td>\n",
       "      <td>-fwrapv-pointer</td>\n",
       "      <td>0.38</td>\n",
       "      <td>0.7900</td>\n",
       "      <td>19056.0</td>\n",
       "      <td>0.015811</td>\n",
       "      <td>0.020014</td>\n",
       "      <td>0.77</td>\n",
       "      <td>0.81</td>\n",
       "    </tr>\n",
       "    <tr>\n",
       "      <th>996</th>\n",
       "      <td>997</td>\n",
       "      <td>1</td>\n",
       "      <td>ExperimentState.OK</td>\n",
       "      <td>15882cc8860ba486403d41f4e2c3d6c0d913b299b188e7...</td>\n",
       "      <td>0.1900</td>\n",
       "      <td>SkoptBayesianAlgorithm</td>\n",
       "      <td>2022-04-19 15:26:16.929395</td>\n",
       "      <td>2022-04-19 15:26:18.591928</td>\n",
       "      <td>45</td>\n",
       "      <td>675553</td>\n",
       "      <td>...</td>\n",
       "      <td>-fno-web</td>\n",
       "      <td>None</td>\n",
       "      <td>-fwrapv-pointer</td>\n",
       "      <td>0.41</td>\n",
       "      <td>0.1900</td>\n",
       "      <td>17768.0</td>\n",
       "      <td>0.000000</td>\n",
       "      <td>0.000000</td>\n",
       "      <td>0.19</td>\n",
       "      <td>0.19</td>\n",
       "    </tr>\n",
       "    <tr>\n",
       "      <th>997</th>\n",
       "      <td>998</td>\n",
       "      <td>1</td>\n",
       "      <td>ExperimentState.OK</td>\n",
       "      <td>19cd43998e97d1681207145da2971533676b75079d7766...</td>\n",
       "      <td>0.4425</td>\n",
       "      <td>SkoptBayesianAlgorithm</td>\n",
       "      <td>2022-04-19 15:26:24.155886</td>\n",
       "      <td>2022-04-19 15:26:26.805173</td>\n",
       "      <td>46</td>\n",
       "      <td>450538</td>\n",
       "      <td>...</td>\n",
       "      <td>-fno-web</td>\n",
       "      <td>-fwrapv</td>\n",
       "      <td>None</td>\n",
       "      <td>0.39</td>\n",
       "      <td>0.4425</td>\n",
       "      <td>16960.0</td>\n",
       "      <td>0.004330</td>\n",
       "      <td>0.009786</td>\n",
       "      <td>0.44</td>\n",
       "      <td>0.45</td>\n",
       "    </tr>\n",
       "    <tr>\n",
       "      <th>998</th>\n",
       "      <td>999</td>\n",
       "      <td>1</td>\n",
       "      <td>ExperimentState.OK</td>\n",
       "      <td>0bbe74ccc9e72f00b0b160b22ec4e264bd210296b188e7...</td>\n",
       "      <td>0.1900</td>\n",
       "      <td>SkoptBayesianAlgorithm</td>\n",
       "      <td>2022-04-19 15:26:32.438364</td>\n",
       "      <td>2022-04-19 15:26:34.109361</td>\n",
       "      <td>31</td>\n",
       "      <td>856159</td>\n",
       "      <td>...</td>\n",
       "      <td>-fweb</td>\n",
       "      <td>-fwrapv</td>\n",
       "      <td>None</td>\n",
       "      <td>0.41</td>\n",
       "      <td>0.1900</td>\n",
       "      <td>16768.0</td>\n",
       "      <td>0.000000</td>\n",
       "      <td>0.000000</td>\n",
       "      <td>0.19</td>\n",
       "      <td>0.19</td>\n",
       "    </tr>\n",
       "    <tr>\n",
       "      <th>999</th>\n",
       "      <td>1000</td>\n",
       "      <td>1</td>\n",
       "      <td>ExperimentState.OK</td>\n",
       "      <td>54845a9e4f3d9d718d7e732312d249cb5e7d3106880736...</td>\n",
       "      <td>0.6400</td>\n",
       "      <td>SkoptBayesianAlgorithm</td>\n",
       "      <td>2022-04-19 15:26:39.895484</td>\n",
       "      <td>2022-04-19 15:26:43.536727</td>\n",
       "      <td>6</td>\n",
       "      <td>344468</td>\n",
       "      <td>...</td>\n",
       "      <td>None</td>\n",
       "      <td>-fwrapv</td>\n",
       "      <td>None</td>\n",
       "      <td>0.37</td>\n",
       "      <td>0.6400</td>\n",
       "      <td>17392.0</td>\n",
       "      <td>0.000000</td>\n",
       "      <td>0.000000</td>\n",
       "      <td>0.64</td>\n",
       "      <td>0.64</td>\n",
       "    </tr>\n",
       "  </tbody>\n",
       "</table>\n",
       "<p>605 rows × 272 columns</p>\n",
       "</div>"
      ],
      "text/plain": [
       "       id  job_id               state  \\\n",
       "5       6       1  ExperimentState.OK   \n",
       "10     11       1  ExperimentState.OK   \n",
       "12     13       1  ExperimentState.OK   \n",
       "14     15       1  ExperimentState.OK   \n",
       "15     16       1  ExperimentState.OK   \n",
       "..    ...     ...                 ...   \n",
       "995   996       1  ExperimentState.OK   \n",
       "996   997       1  ExperimentState.OK   \n",
       "997   998       1  ExperimentState.OK   \n",
       "998   999       1  ExperimentState.OK   \n",
       "999  1000       1  ExperimentState.OK   \n",
       "\n",
       "                                                  hash  objective_result  \\\n",
       "5    0622db4a61b207cfe51d977bc3a67b1282511ed5ee6a06...            0.4450   \n",
       "10   069bf99df4652435d7d4ac38430fea0f95f6e042180822...            0.4575   \n",
       "12   d59386c0b1ad6d5d9853ae398b04c5a6682c9228ba2fee...            0.1950   \n",
       "14   28f647eaf3bde28179011f89b4b0dffb22a08e40d52900...            0.4925   \n",
       "15   4e3c7935d0de655a85a61f3abefb0201b5837466c8e01d...            0.6625   \n",
       "..                                                 ...               ...   \n",
       "995  31dadc1d3778a6d84909282ce9f37fa574dff90449de56...            0.7900   \n",
       "996  15882cc8860ba486403d41f4e2c3d6c0d913b299b188e7...            0.1900   \n",
       "997  19cd43998e97d1681207145da2971533676b75079d7766...            0.4425   \n",
       "998  0bbe74ccc9e72f00b0b160b22ec4e264bd210296b188e7...            0.1900   \n",
       "999  54845a9e4f3d9d718d7e732312d249cb5e7d3106880736...            0.6400   \n",
       "\n",
       "                  requestor                create_time  \\\n",
       "5    SkoptBayesianAlgorithm 2022-04-19 13:54:18.822460   \n",
       "10   SkoptBayesianAlgorithm 2022-04-19 13:54:26.339227   \n",
       "12   SkoptBayesianAlgorithm 2022-04-19 13:54:34.952575   \n",
       "14   SkoptBayesianAlgorithm 2022-04-19 13:54:42.417050   \n",
       "15   SkoptBayesianAlgorithm 2022-04-19 13:54:47.740791   \n",
       "..                      ...                        ...   \n",
       "995  SkoptBayesianAlgorithm 2022-04-19 15:26:07.334955   \n",
       "996  SkoptBayesianAlgorithm 2022-04-19 15:26:16.929395   \n",
       "997  SkoptBayesianAlgorithm 2022-04-19 15:26:24.155886   \n",
       "998  SkoptBayesianAlgorithm 2022-04-19 15:26:32.438364   \n",
       "999  SkoptBayesianAlgorithm 2022-04-19 15:26:39.895484   \n",
       "\n",
       "                   finish_time  --param=predictable-branch-outcome  \\\n",
       "5   2022-04-19 13:54:21.198296                                  10   \n",
       "10  2022-04-19 13:54:28.718637                                   7   \n",
       "12  2022-04-19 13:54:36.303479                                  16   \n",
       "14  2022-04-19 13:54:44.953473                                  37   \n",
       "15  2022-04-19 13:54:50.953565                                  44   \n",
       "..                         ...                                 ...   \n",
       "995 2022-04-19 15:26:11.354664                                  46   \n",
       "996 2022-04-19 15:26:18.591928                                  45   \n",
       "997 2022-04-19 15:26:26.805173                                  46   \n",
       "998 2022-04-19 15:26:34.109361                                  31   \n",
       "999 2022-04-19 15:26:43.536727                                   6   \n",
       "\n",
       "     --param=uninlined-function-insns  ...     -fweb     -fwrapv  \\\n",
       "5                               18216  ...     -fweb     -fwrapv   \n",
       "10                             305301  ...  -fno-web  -fno-wrapv   \n",
       "12                             962255  ...      None        None   \n",
       "14                             482441  ...  -fno-web  -fno-wrapv   \n",
       "15                             255916  ...     -fweb        None   \n",
       "..                                ...  ...       ...         ...   \n",
       "995                            687134  ...  -fno-web        None   \n",
       "996                            675553  ...  -fno-web        None   \n",
       "997                            450538  ...  -fno-web     -fwrapv   \n",
       "998                            856159  ...     -fweb     -fwrapv   \n",
       "999                            344468  ...      None     -fwrapv   \n",
       "\n",
       "        -fwrapv-pointer  compile_time    time     size       std        cv  \\\n",
       "5    -fno-wrapv-pointer          0.44  0.4450  22632.0  0.005000  0.011236   \n",
       "10   -fno-wrapv-pointer          0.40  0.4575  17440.0  0.008292  0.018124   \n",
       "12   -fno-wrapv-pointer          0.42  0.1950  17224.0  0.005000  0.025641   \n",
       "14      -fwrapv-pointer          0.42  0.4925  17840.0  0.032692  0.066379   \n",
       "15   -fno-wrapv-pointer          0.38  0.6625  17392.0  0.027726  0.041851   \n",
       "..                  ...           ...     ...      ...       ...       ...   \n",
       "995     -fwrapv-pointer          0.38  0.7900  19056.0  0.015811  0.020014   \n",
       "996     -fwrapv-pointer          0.41  0.1900  17768.0  0.000000  0.000000   \n",
       "997                None          0.39  0.4425  16960.0  0.004330  0.009786   \n",
       "998                None          0.41  0.1900  16768.0  0.000000  0.000000   \n",
       "999                None          0.37  0.6400  17392.0  0.000000  0.000000   \n",
       "\n",
       "      low  high  \n",
       "5    0.44  0.45  \n",
       "10   0.45  0.47  \n",
       "12   0.19  0.20  \n",
       "14   0.45  0.54  \n",
       "15   0.64  0.71  \n",
       "..    ...   ...  \n",
       "995  0.77  0.81  \n",
       "996  0.19  0.19  \n",
       "997  0.44  0.45  \n",
       "998  0.19  0.19  \n",
       "999  0.64  0.64  \n",
       "\n",
       "[605 rows x 272 columns]"
      ]
     },
     "execution_count": 9,
     "metadata": {},
     "output_type": "execute_result"
    }
   ],
   "source": [
    "valid_df"
   ]
  },
  {
   "cell_type": "code",
   "execution_count": 10,
   "id": "f2427138",
   "metadata": {},
   "outputs": [
    {
     "name": "stdout",
     "output_type": "stream",
     "text": [
      "Empty DataFrame\n",
      "Columns: [finish_time, objective_result, std]\n",
      "Index: []\n"
     ]
    },
    {
     "name": "stderr",
     "output_type": "stream",
     "text": [
      "/var/folders/gp/1qc74rb50b9cp66q8cxshnwh0000gn/T/ipykernel_34248/390794594.py:12: FutureWarning: The frame.append method is deprecated and will be removed from pandas in a future version. Use pandas.concat instead.\n",
      "  ddf = ddf.append({'finish_time': rows['finish_time'],\n",
      "/var/folders/gp/1qc74rb50b9cp66q8cxshnwh0000gn/T/ipykernel_34248/390794594.py:12: FutureWarning: The frame.append method is deprecated and will be removed from pandas in a future version. Use pandas.concat instead.\n",
      "  ddf = ddf.append({'finish_time': rows['finish_time'],\n",
      "/var/folders/gp/1qc74rb50b9cp66q8cxshnwh0000gn/T/ipykernel_34248/390794594.py:12: FutureWarning: The frame.append method is deprecated and will be removed from pandas in a future version. Use pandas.concat instead.\n",
      "  ddf = ddf.append({'finish_time': rows['finish_time'],\n",
      "/var/folders/gp/1qc74rb50b9cp66q8cxshnwh0000gn/T/ipykernel_34248/390794594.py:12: FutureWarning: The frame.append method is deprecated and will be removed from pandas in a future version. Use pandas.concat instead.\n",
      "  ddf = ddf.append({'finish_time': rows['finish_time'],\n",
      "/var/folders/gp/1qc74rb50b9cp66q8cxshnwh0000gn/T/ipykernel_34248/390794594.py:12: FutureWarning: The frame.append method is deprecated and will be removed from pandas in a future version. Use pandas.concat instead.\n",
      "  ddf = ddf.append({'finish_time': rows['finish_time'],\n",
      "/var/folders/gp/1qc74rb50b9cp66q8cxshnwh0000gn/T/ipykernel_34248/390794594.py:12: FutureWarning: The frame.append method is deprecated and will be removed from pandas in a future version. Use pandas.concat instead.\n",
      "  ddf = ddf.append({'finish_time': rows['finish_time'],\n"
     ]
    }
   ],
   "source": [
    "import pandas as pd\n",
    "\n",
    "ddf = pd.DataFrame(columns=['finish_time', 'objective_result', 'std'])\n",
    "\n",
    "print(ddf)\n",
    "\n",
    "minima = 1e100\n",
    "\n",
    "for index, rows in valid_df.iterrows():\n",
    "    if rows['objective_result'] <= minima:\n",
    "        minima = rows['objective_result']\n",
    "        ddf = ddf.append({'finish_time': rows['finish_time'],\n",
    "             'objective_result': rows['objective_result'],\n",
    "             'std': rows['std']}, ignore_index=True)"
   ]
  },
  {
   "cell_type": "code",
   "execution_count": 11,
   "id": "690f7dff",
   "metadata": {},
   "outputs": [
    {
     "data": {
      "text/html": [
       "<div>\n",
       "<style scoped>\n",
       "    .dataframe tbody tr th:only-of-type {\n",
       "        vertical-align: middle;\n",
       "    }\n",
       "\n",
       "    .dataframe tbody tr th {\n",
       "        vertical-align: top;\n",
       "    }\n",
       "\n",
       "    .dataframe thead th {\n",
       "        text-align: right;\n",
       "    }\n",
       "</style>\n",
       "<table border=\"1\" class=\"dataframe\">\n",
       "  <thead>\n",
       "    <tr style=\"text-align: right;\">\n",
       "      <th></th>\n",
       "      <th>finish_time</th>\n",
       "      <th>objective_result</th>\n",
       "      <th>std</th>\n",
       "    </tr>\n",
       "  </thead>\n",
       "  <tbody>\n",
       "    <tr>\n",
       "      <th>0</th>\n",
       "      <td>2022-04-19 13:54:21.198296</td>\n",
       "      <td>0.445</td>\n",
       "      <td>0.005</td>\n",
       "    </tr>\n",
       "    <tr>\n",
       "      <th>1</th>\n",
       "      <td>2022-04-19 13:54:36.303479</td>\n",
       "      <td>0.195</td>\n",
       "      <td>0.005</td>\n",
       "    </tr>\n",
       "    <tr>\n",
       "      <th>2</th>\n",
       "      <td>2022-04-19 13:55:06.730280</td>\n",
       "      <td>0.19</td>\n",
       "      <td>0.0</td>\n",
       "    </tr>\n",
       "    <tr>\n",
       "      <th>3</th>\n",
       "      <td>2022-04-19 13:55:22.171473</td>\n",
       "      <td>0.04</td>\n",
       "      <td>0.0</td>\n",
       "    </tr>\n",
       "    <tr>\n",
       "      <th>4</th>\n",
       "      <td>2022-04-19 14:04:40.371908</td>\n",
       "      <td>0.0225</td>\n",
       "      <td>0.00433</td>\n",
       "    </tr>\n",
       "    <tr>\n",
       "      <th>5</th>\n",
       "      <td>2022-04-19 14:12:51.657655</td>\n",
       "      <td>0.02</td>\n",
       "      <td>0.0</td>\n",
       "    </tr>\n",
       "  </tbody>\n",
       "</table>\n",
       "</div>"
      ],
      "text/plain": [
       "                  finish_time objective_result      std\n",
       "0  2022-04-19 13:54:21.198296            0.445    0.005\n",
       "1  2022-04-19 13:54:36.303479            0.195    0.005\n",
       "2  2022-04-19 13:55:06.730280             0.19      0.0\n",
       "3  2022-04-19 13:55:22.171473             0.04      0.0\n",
       "4  2022-04-19 14:04:40.371908           0.0225  0.00433\n",
       "5  2022-04-19 14:12:51.657655             0.02      0.0"
      ]
     },
     "execution_count": 11,
     "metadata": {},
     "output_type": "execute_result"
    }
   ],
   "source": [
    "import plotly.graph_objects as go\n",
    "ddf"
   ]
  },
  {
   "cell_type": "code",
   "execution_count": null,
   "id": "842cce47",
   "metadata": {},
   "outputs": [],
   "source": []
  },
  {
   "cell_type": "code",
   "execution_count": 13,
   "id": "2530ca95",
   "metadata": {},
   "outputs": [
    {
     "data": {
      "application/vnd.plotly.v1+json": {
       "config": {
        "plotlyServerURL": "https://plot.ly"
       },
       "data": [
        {
         "error_y": {
          "array": [
           0.0050000000000000044,
           0.0050000000000000044,
           0,
           0,
           0.004330127018922192,
           0
          ],
          "type": "data",
          "visible": true
         },
         "name": "run time",
         "type": "scatter",
         "x": [
          "2022-04-19T13:54:21.198296",
          "2022-04-19T13:54:36.303479",
          "2022-04-19T13:55:06.730280",
          "2022-04-19T13:55:22.171473",
          "2022-04-19T14:04:40.371908",
          "2022-04-19T14:12:51.657655"
         ],
         "y": [
          0.445,
          0.195,
          0.19,
          0.04,
          0.0225,
          0.02
         ]
        },
        {
         "line": {
          "color": "green",
          "dash": "dashdot",
          "width": 2
         },
         "name": "gcc -O3",
         "type": "scatter",
         "x": [
          "2022-04-19T13:54:21.198296",
          "2022-04-19T14:12:51.657655"
         ],
         "y": [
          0.18,
          0.18
         ]
        },
        {
         "line": {
          "color": "red",
          "dash": "dashdot",
          "width": 2
         },
         "name": "gcc -O2",
         "type": "scatter",
         "x": [
          "2022-04-19T13:54:21.198296",
          "2022-04-19T14:12:51.657655"
         ],
         "y": [
          0.1825,
          0.1825
         ]
        },
        {
         "line": {
          "color": "black",
          "dash": "dashdot",
          "width": 2
         },
         "name": "gcc -O1",
         "type": "scatter",
         "x": [
          "2022-04-19T13:54:21.198296",
          "2022-04-19T14:12:51.657655"
         ],
         "y": [
          0.185,
          0.185
         ]
        }
       ],
       "layout": {
        "template": {
         "data": {
          "bar": [
           {
            "error_x": {
             "color": "#2a3f5f"
            },
            "error_y": {
             "color": "#2a3f5f"
            },
            "marker": {
             "line": {
              "color": "#E5ECF6",
              "width": 0.5
             },
             "pattern": {
              "fillmode": "overlay",
              "size": 10,
              "solidity": 0.2
             }
            },
            "type": "bar"
           }
          ],
          "barpolar": [
           {
            "marker": {
             "line": {
              "color": "#E5ECF6",
              "width": 0.5
             },
             "pattern": {
              "fillmode": "overlay",
              "size": 10,
              "solidity": 0.2
             }
            },
            "type": "barpolar"
           }
          ],
          "carpet": [
           {
            "aaxis": {
             "endlinecolor": "#2a3f5f",
             "gridcolor": "white",
             "linecolor": "white",
             "minorgridcolor": "white",
             "startlinecolor": "#2a3f5f"
            },
            "baxis": {
             "endlinecolor": "#2a3f5f",
             "gridcolor": "white",
             "linecolor": "white",
             "minorgridcolor": "white",
             "startlinecolor": "#2a3f5f"
            },
            "type": "carpet"
           }
          ],
          "choropleth": [
           {
            "colorbar": {
             "outlinewidth": 0,
             "ticks": ""
            },
            "type": "choropleth"
           }
          ],
          "contour": [
           {
            "colorbar": {
             "outlinewidth": 0,
             "ticks": ""
            },
            "colorscale": [
             [
              0,
              "#0d0887"
             ],
             [
              0.1111111111111111,
              "#46039f"
             ],
             [
              0.2222222222222222,
              "#7201a8"
             ],
             [
              0.3333333333333333,
              "#9c179e"
             ],
             [
              0.4444444444444444,
              "#bd3786"
             ],
             [
              0.5555555555555556,
              "#d8576b"
             ],
             [
              0.6666666666666666,
              "#ed7953"
             ],
             [
              0.7777777777777778,
              "#fb9f3a"
             ],
             [
              0.8888888888888888,
              "#fdca26"
             ],
             [
              1,
              "#f0f921"
             ]
            ],
            "type": "contour"
           }
          ],
          "contourcarpet": [
           {
            "colorbar": {
             "outlinewidth": 0,
             "ticks": ""
            },
            "type": "contourcarpet"
           }
          ],
          "heatmap": [
           {
            "colorbar": {
             "outlinewidth": 0,
             "ticks": ""
            },
            "colorscale": [
             [
              0,
              "#0d0887"
             ],
             [
              0.1111111111111111,
              "#46039f"
             ],
             [
              0.2222222222222222,
              "#7201a8"
             ],
             [
              0.3333333333333333,
              "#9c179e"
             ],
             [
              0.4444444444444444,
              "#bd3786"
             ],
             [
              0.5555555555555556,
              "#d8576b"
             ],
             [
              0.6666666666666666,
              "#ed7953"
             ],
             [
              0.7777777777777778,
              "#fb9f3a"
             ],
             [
              0.8888888888888888,
              "#fdca26"
             ],
             [
              1,
              "#f0f921"
             ]
            ],
            "type": "heatmap"
           }
          ],
          "heatmapgl": [
           {
            "colorbar": {
             "outlinewidth": 0,
             "ticks": ""
            },
            "colorscale": [
             [
              0,
              "#0d0887"
             ],
             [
              0.1111111111111111,
              "#46039f"
             ],
             [
              0.2222222222222222,
              "#7201a8"
             ],
             [
              0.3333333333333333,
              "#9c179e"
             ],
             [
              0.4444444444444444,
              "#bd3786"
             ],
             [
              0.5555555555555556,
              "#d8576b"
             ],
             [
              0.6666666666666666,
              "#ed7953"
             ],
             [
              0.7777777777777778,
              "#fb9f3a"
             ],
             [
              0.8888888888888888,
              "#fdca26"
             ],
             [
              1,
              "#f0f921"
             ]
            ],
            "type": "heatmapgl"
           }
          ],
          "histogram": [
           {
            "marker": {
             "pattern": {
              "fillmode": "overlay",
              "size": 10,
              "solidity": 0.2
             }
            },
            "type": "histogram"
           }
          ],
          "histogram2d": [
           {
            "colorbar": {
             "outlinewidth": 0,
             "ticks": ""
            },
            "colorscale": [
             [
              0,
              "#0d0887"
             ],
             [
              0.1111111111111111,
              "#46039f"
             ],
             [
              0.2222222222222222,
              "#7201a8"
             ],
             [
              0.3333333333333333,
              "#9c179e"
             ],
             [
              0.4444444444444444,
              "#bd3786"
             ],
             [
              0.5555555555555556,
              "#d8576b"
             ],
             [
              0.6666666666666666,
              "#ed7953"
             ],
             [
              0.7777777777777778,
              "#fb9f3a"
             ],
             [
              0.8888888888888888,
              "#fdca26"
             ],
             [
              1,
              "#f0f921"
             ]
            ],
            "type": "histogram2d"
           }
          ],
          "histogram2dcontour": [
           {
            "colorbar": {
             "outlinewidth": 0,
             "ticks": ""
            },
            "colorscale": [
             [
              0,
              "#0d0887"
             ],
             [
              0.1111111111111111,
              "#46039f"
             ],
             [
              0.2222222222222222,
              "#7201a8"
             ],
             [
              0.3333333333333333,
              "#9c179e"
             ],
             [
              0.4444444444444444,
              "#bd3786"
             ],
             [
              0.5555555555555556,
              "#d8576b"
             ],
             [
              0.6666666666666666,
              "#ed7953"
             ],
             [
              0.7777777777777778,
              "#fb9f3a"
             ],
             [
              0.8888888888888888,
              "#fdca26"
             ],
             [
              1,
              "#f0f921"
             ]
            ],
            "type": "histogram2dcontour"
           }
          ],
          "mesh3d": [
           {
            "colorbar": {
             "outlinewidth": 0,
             "ticks": ""
            },
            "type": "mesh3d"
           }
          ],
          "parcoords": [
           {
            "line": {
             "colorbar": {
              "outlinewidth": 0,
              "ticks": ""
             }
            },
            "type": "parcoords"
           }
          ],
          "pie": [
           {
            "automargin": true,
            "type": "pie"
           }
          ],
          "scatter": [
           {
            "fillpattern": {
             "fillmode": "overlay",
             "size": 10,
             "solidity": 0.2
            },
            "type": "scatter"
           }
          ],
          "scatter3d": [
           {
            "line": {
             "colorbar": {
              "outlinewidth": 0,
              "ticks": ""
             }
            },
            "marker": {
             "colorbar": {
              "outlinewidth": 0,
              "ticks": ""
             }
            },
            "type": "scatter3d"
           }
          ],
          "scattercarpet": [
           {
            "marker": {
             "colorbar": {
              "outlinewidth": 0,
              "ticks": ""
             }
            },
            "type": "scattercarpet"
           }
          ],
          "scattergeo": [
           {
            "marker": {
             "colorbar": {
              "outlinewidth": 0,
              "ticks": ""
             }
            },
            "type": "scattergeo"
           }
          ],
          "scattergl": [
           {
            "marker": {
             "colorbar": {
              "outlinewidth": 0,
              "ticks": ""
             }
            },
            "type": "scattergl"
           }
          ],
          "scattermapbox": [
           {
            "marker": {
             "colorbar": {
              "outlinewidth": 0,
              "ticks": ""
             }
            },
            "type": "scattermapbox"
           }
          ],
          "scatterpolar": [
           {
            "marker": {
             "colorbar": {
              "outlinewidth": 0,
              "ticks": ""
             }
            },
            "type": "scatterpolar"
           }
          ],
          "scatterpolargl": [
           {
            "marker": {
             "colorbar": {
              "outlinewidth": 0,
              "ticks": ""
             }
            },
            "type": "scatterpolargl"
           }
          ],
          "scatterternary": [
           {
            "marker": {
             "colorbar": {
              "outlinewidth": 0,
              "ticks": ""
             }
            },
            "type": "scatterternary"
           }
          ],
          "surface": [
           {
            "colorbar": {
             "outlinewidth": 0,
             "ticks": ""
            },
            "colorscale": [
             [
              0,
              "#0d0887"
             ],
             [
              0.1111111111111111,
              "#46039f"
             ],
             [
              0.2222222222222222,
              "#7201a8"
             ],
             [
              0.3333333333333333,
              "#9c179e"
             ],
             [
              0.4444444444444444,
              "#bd3786"
             ],
             [
              0.5555555555555556,
              "#d8576b"
             ],
             [
              0.6666666666666666,
              "#ed7953"
             ],
             [
              0.7777777777777778,
              "#fb9f3a"
             ],
             [
              0.8888888888888888,
              "#fdca26"
             ],
             [
              1,
              "#f0f921"
             ]
            ],
            "type": "surface"
           }
          ],
          "table": [
           {
            "cells": {
             "fill": {
              "color": "#EBF0F8"
             },
             "line": {
              "color": "white"
             }
            },
            "header": {
             "fill": {
              "color": "#C8D4E3"
             },
             "line": {
              "color": "white"
             }
            },
            "type": "table"
           }
          ]
         },
         "layout": {
          "annotationdefaults": {
           "arrowcolor": "#2a3f5f",
           "arrowhead": 0,
           "arrowwidth": 1
          },
          "autotypenumbers": "strict",
          "coloraxis": {
           "colorbar": {
            "outlinewidth": 0,
            "ticks": ""
           }
          },
          "colorscale": {
           "diverging": [
            [
             0,
             "#8e0152"
            ],
            [
             0.1,
             "#c51b7d"
            ],
            [
             0.2,
             "#de77ae"
            ],
            [
             0.3,
             "#f1b6da"
            ],
            [
             0.4,
             "#fde0ef"
            ],
            [
             0.5,
             "#f7f7f7"
            ],
            [
             0.6,
             "#e6f5d0"
            ],
            [
             0.7,
             "#b8e186"
            ],
            [
             0.8,
             "#7fbc41"
            ],
            [
             0.9,
             "#4d9221"
            ],
            [
             1,
             "#276419"
            ]
           ],
           "sequential": [
            [
             0,
             "#0d0887"
            ],
            [
             0.1111111111111111,
             "#46039f"
            ],
            [
             0.2222222222222222,
             "#7201a8"
            ],
            [
             0.3333333333333333,
             "#9c179e"
            ],
            [
             0.4444444444444444,
             "#bd3786"
            ],
            [
             0.5555555555555556,
             "#d8576b"
            ],
            [
             0.6666666666666666,
             "#ed7953"
            ],
            [
             0.7777777777777778,
             "#fb9f3a"
            ],
            [
             0.8888888888888888,
             "#fdca26"
            ],
            [
             1,
             "#f0f921"
            ]
           ],
           "sequentialminus": [
            [
             0,
             "#0d0887"
            ],
            [
             0.1111111111111111,
             "#46039f"
            ],
            [
             0.2222222222222222,
             "#7201a8"
            ],
            [
             0.3333333333333333,
             "#9c179e"
            ],
            [
             0.4444444444444444,
             "#bd3786"
            ],
            [
             0.5555555555555556,
             "#d8576b"
            ],
            [
             0.6666666666666666,
             "#ed7953"
            ],
            [
             0.7777777777777778,
             "#fb9f3a"
            ],
            [
             0.8888888888888888,
             "#fdca26"
            ],
            [
             1,
             "#f0f921"
            ]
           ]
          },
          "colorway": [
           "#636efa",
           "#EF553B",
           "#00cc96",
           "#ab63fa",
           "#FFA15A",
           "#19d3f3",
           "#FF6692",
           "#B6E880",
           "#FF97FF",
           "#FECB52"
          ],
          "font": {
           "color": "#2a3f5f"
          },
          "geo": {
           "bgcolor": "white",
           "lakecolor": "white",
           "landcolor": "#E5ECF6",
           "showlakes": true,
           "showland": true,
           "subunitcolor": "white"
          },
          "hoverlabel": {
           "align": "left"
          },
          "hovermode": "closest",
          "mapbox": {
           "style": "light"
          },
          "paper_bgcolor": "white",
          "plot_bgcolor": "#E5ECF6",
          "polar": {
           "angularaxis": {
            "gridcolor": "white",
            "linecolor": "white",
            "ticks": ""
           },
           "bgcolor": "#E5ECF6",
           "radialaxis": {
            "gridcolor": "white",
            "linecolor": "white",
            "ticks": ""
           }
          },
          "scene": {
           "xaxis": {
            "backgroundcolor": "#E5ECF6",
            "gridcolor": "white",
            "gridwidth": 2,
            "linecolor": "white",
            "showbackground": true,
            "ticks": "",
            "zerolinecolor": "white"
           },
           "yaxis": {
            "backgroundcolor": "#E5ECF6",
            "gridcolor": "white",
            "gridwidth": 2,
            "linecolor": "white",
            "showbackground": true,
            "ticks": "",
            "zerolinecolor": "white"
           },
           "zaxis": {
            "backgroundcolor": "#E5ECF6",
            "gridcolor": "white",
            "gridwidth": 2,
            "linecolor": "white",
            "showbackground": true,
            "ticks": "",
            "zerolinecolor": "white"
           }
          },
          "shapedefaults": {
           "line": {
            "color": "#2a3f5f"
           }
          },
          "ternary": {
           "aaxis": {
            "gridcolor": "white",
            "linecolor": "white",
            "ticks": ""
           },
           "baxis": {
            "gridcolor": "white",
            "linecolor": "white",
            "ticks": ""
           },
           "bgcolor": "#E5ECF6",
           "caxis": {
            "gridcolor": "white",
            "linecolor": "white",
            "ticks": ""
           }
          },
          "title": {
           "x": 0.05
          },
          "xaxis": {
           "automargin": true,
           "gridcolor": "white",
           "linecolor": "white",
           "ticks": "",
           "title": {
            "standoff": 15
           },
           "zerolinecolor": "white",
           "zerolinewidth": 2
          },
          "yaxis": {
           "automargin": true,
           "gridcolor": "white",
           "linecolor": "white",
           "ticks": "",
           "title": {
            "standoff": 15
           },
           "zerolinecolor": "white",
           "zerolinewidth": 2
          }
         }
        },
        "title": {
         "text": "Оптимизация времени исполнения проекта Matrixmultiply"
        },
        "xaxis": {
         "title": {
          "text": "Время оптимизации (дата)"
         }
        },
        "yaxis": {
         "title": {
          "text": "Время исполнения (секунды)"
         }
        }
       }
      },
      "text/html": [
       "<div>                            <div id=\"315f9f56-2ee5-44b5-92c6-f072843180fa\" class=\"plotly-graph-div\" style=\"height:525px; width:100%;\"></div>            <script type=\"text/javascript\">                require([\"plotly\"], function(Plotly) {                    window.PLOTLYENV=window.PLOTLYENV || {};                                    if (document.getElementById(\"315f9f56-2ee5-44b5-92c6-f072843180fa\")) {                    Plotly.newPlot(                        \"315f9f56-2ee5-44b5-92c6-f072843180fa\",                        [{\"error_y\":{\"array\":[0.0050000000000000044,0.0050000000000000044,0.0,0.0,0.004330127018922192,0.0],\"type\":\"data\",\"visible\":true},\"name\":\"run time\",\"x\":[\"2022-04-19T13:54:21.198296\",\"2022-04-19T13:54:36.303479\",\"2022-04-19T13:55:06.730280\",\"2022-04-19T13:55:22.171473\",\"2022-04-19T14:04:40.371908\",\"2022-04-19T14:12:51.657655\"],\"y\":[0.445,0.195,0.19,0.04,0.0225,0.02],\"type\":\"scatter\"},{\"line\":{\"color\":\"green\",\"dash\":\"dashdot\",\"width\":2},\"name\":\"gcc -O3\",\"x\":[\"2022-04-19T13:54:21.198296\",\"2022-04-19T14:12:51.657655\"],\"y\":[0.18,0.18],\"type\":\"scatter\"},{\"line\":{\"color\":\"red\",\"dash\":\"dashdot\",\"width\":2},\"name\":\"gcc -O2\",\"x\":[\"2022-04-19T13:54:21.198296\",\"2022-04-19T14:12:51.657655\"],\"y\":[0.1825,0.1825],\"type\":\"scatter\"},{\"line\":{\"color\":\"black\",\"dash\":\"dashdot\",\"width\":2},\"name\":\"gcc -O1\",\"x\":[\"2022-04-19T13:54:21.198296\",\"2022-04-19T14:12:51.657655\"],\"y\":[0.185,0.185],\"type\":\"scatter\"}],                        {\"title\":{\"text\":\"\\u041e\\u043f\\u0442\\u0438\\u043c\\u0438\\u0437\\u0430\\u0446\\u0438\\u044f \\u0432\\u0440\\u0435\\u043c\\u0435\\u043d\\u0438 \\u0438\\u0441\\u043f\\u043e\\u043b\\u043d\\u0435\\u043d\\u0438\\u044f \\u043f\\u0440\\u043e\\u0435\\u043a\\u0442\\u0430 Matrixmultiply\"},\"xaxis\":{\"title\":{\"text\":\"\\u0412\\u0440\\u0435\\u043c\\u044f \\u043e\\u043f\\u0442\\u0438\\u043c\\u0438\\u0437\\u0430\\u0446\\u0438\\u0438 (\\u0434\\u0430\\u0442\\u0430)\"}},\"yaxis\":{\"title\":{\"text\":\"\\u0412\\u0440\\u0435\\u043c\\u044f \\u0438\\u0441\\u043f\\u043e\\u043b\\u043d\\u0435\\u043d\\u0438\\u044f (\\u0441\\u0435\\u043a\\u0443\\u043d\\u0434\\u044b)\"}},\"template\":{\"data\":{\"histogram2dcontour\":[{\"type\":\"histogram2dcontour\",\"colorbar\":{\"outlinewidth\":0,\"ticks\":\"\"},\"colorscale\":[[0.0,\"#0d0887\"],[0.1111111111111111,\"#46039f\"],[0.2222222222222222,\"#7201a8\"],[0.3333333333333333,\"#9c179e\"],[0.4444444444444444,\"#bd3786\"],[0.5555555555555556,\"#d8576b\"],[0.6666666666666666,\"#ed7953\"],[0.7777777777777778,\"#fb9f3a\"],[0.8888888888888888,\"#fdca26\"],[1.0,\"#f0f921\"]]}],\"choropleth\":[{\"type\":\"choropleth\",\"colorbar\":{\"outlinewidth\":0,\"ticks\":\"\"}}],\"histogram2d\":[{\"type\":\"histogram2d\",\"colorbar\":{\"outlinewidth\":0,\"ticks\":\"\"},\"colorscale\":[[0.0,\"#0d0887\"],[0.1111111111111111,\"#46039f\"],[0.2222222222222222,\"#7201a8\"],[0.3333333333333333,\"#9c179e\"],[0.4444444444444444,\"#bd3786\"],[0.5555555555555556,\"#d8576b\"],[0.6666666666666666,\"#ed7953\"],[0.7777777777777778,\"#fb9f3a\"],[0.8888888888888888,\"#fdca26\"],[1.0,\"#f0f921\"]]}],\"heatmap\":[{\"type\":\"heatmap\",\"colorbar\":{\"outlinewidth\":0,\"ticks\":\"\"},\"colorscale\":[[0.0,\"#0d0887\"],[0.1111111111111111,\"#46039f\"],[0.2222222222222222,\"#7201a8\"],[0.3333333333333333,\"#9c179e\"],[0.4444444444444444,\"#bd3786\"],[0.5555555555555556,\"#d8576b\"],[0.6666666666666666,\"#ed7953\"],[0.7777777777777778,\"#fb9f3a\"],[0.8888888888888888,\"#fdca26\"],[1.0,\"#f0f921\"]]}],\"heatmapgl\":[{\"type\":\"heatmapgl\",\"colorbar\":{\"outlinewidth\":0,\"ticks\":\"\"},\"colorscale\":[[0.0,\"#0d0887\"],[0.1111111111111111,\"#46039f\"],[0.2222222222222222,\"#7201a8\"],[0.3333333333333333,\"#9c179e\"],[0.4444444444444444,\"#bd3786\"],[0.5555555555555556,\"#d8576b\"],[0.6666666666666666,\"#ed7953\"],[0.7777777777777778,\"#fb9f3a\"],[0.8888888888888888,\"#fdca26\"],[1.0,\"#f0f921\"]]}],\"contourcarpet\":[{\"type\":\"contourcarpet\",\"colorbar\":{\"outlinewidth\":0,\"ticks\":\"\"}}],\"contour\":[{\"type\":\"contour\",\"colorbar\":{\"outlinewidth\":0,\"ticks\":\"\"},\"colorscale\":[[0.0,\"#0d0887\"],[0.1111111111111111,\"#46039f\"],[0.2222222222222222,\"#7201a8\"],[0.3333333333333333,\"#9c179e\"],[0.4444444444444444,\"#bd3786\"],[0.5555555555555556,\"#d8576b\"],[0.6666666666666666,\"#ed7953\"],[0.7777777777777778,\"#fb9f3a\"],[0.8888888888888888,\"#fdca26\"],[1.0,\"#f0f921\"]]}],\"surface\":[{\"type\":\"surface\",\"colorbar\":{\"outlinewidth\":0,\"ticks\":\"\"},\"colorscale\":[[0.0,\"#0d0887\"],[0.1111111111111111,\"#46039f\"],[0.2222222222222222,\"#7201a8\"],[0.3333333333333333,\"#9c179e\"],[0.4444444444444444,\"#bd3786\"],[0.5555555555555556,\"#d8576b\"],[0.6666666666666666,\"#ed7953\"],[0.7777777777777778,\"#fb9f3a\"],[0.8888888888888888,\"#fdca26\"],[1.0,\"#f0f921\"]]}],\"mesh3d\":[{\"type\":\"mesh3d\",\"colorbar\":{\"outlinewidth\":0,\"ticks\":\"\"}}],\"scatter\":[{\"fillpattern\":{\"fillmode\":\"overlay\",\"size\":10,\"solidity\":0.2},\"type\":\"scatter\"}],\"parcoords\":[{\"type\":\"parcoords\",\"line\":{\"colorbar\":{\"outlinewidth\":0,\"ticks\":\"\"}}}],\"scatterpolargl\":[{\"type\":\"scatterpolargl\",\"marker\":{\"colorbar\":{\"outlinewidth\":0,\"ticks\":\"\"}}}],\"bar\":[{\"error_x\":{\"color\":\"#2a3f5f\"},\"error_y\":{\"color\":\"#2a3f5f\"},\"marker\":{\"line\":{\"color\":\"#E5ECF6\",\"width\":0.5},\"pattern\":{\"fillmode\":\"overlay\",\"size\":10,\"solidity\":0.2}},\"type\":\"bar\"}],\"scattergeo\":[{\"type\":\"scattergeo\",\"marker\":{\"colorbar\":{\"outlinewidth\":0,\"ticks\":\"\"}}}],\"scatterpolar\":[{\"type\":\"scatterpolar\",\"marker\":{\"colorbar\":{\"outlinewidth\":0,\"ticks\":\"\"}}}],\"histogram\":[{\"marker\":{\"pattern\":{\"fillmode\":\"overlay\",\"size\":10,\"solidity\":0.2}},\"type\":\"histogram\"}],\"scattergl\":[{\"type\":\"scattergl\",\"marker\":{\"colorbar\":{\"outlinewidth\":0,\"ticks\":\"\"}}}],\"scatter3d\":[{\"type\":\"scatter3d\",\"line\":{\"colorbar\":{\"outlinewidth\":0,\"ticks\":\"\"}},\"marker\":{\"colorbar\":{\"outlinewidth\":0,\"ticks\":\"\"}}}],\"scattermapbox\":[{\"type\":\"scattermapbox\",\"marker\":{\"colorbar\":{\"outlinewidth\":0,\"ticks\":\"\"}}}],\"scatterternary\":[{\"type\":\"scatterternary\",\"marker\":{\"colorbar\":{\"outlinewidth\":0,\"ticks\":\"\"}}}],\"scattercarpet\":[{\"type\":\"scattercarpet\",\"marker\":{\"colorbar\":{\"outlinewidth\":0,\"ticks\":\"\"}}}],\"carpet\":[{\"aaxis\":{\"endlinecolor\":\"#2a3f5f\",\"gridcolor\":\"white\",\"linecolor\":\"white\",\"minorgridcolor\":\"white\",\"startlinecolor\":\"#2a3f5f\"},\"baxis\":{\"endlinecolor\":\"#2a3f5f\",\"gridcolor\":\"white\",\"linecolor\":\"white\",\"minorgridcolor\":\"white\",\"startlinecolor\":\"#2a3f5f\"},\"type\":\"carpet\"}],\"table\":[{\"cells\":{\"fill\":{\"color\":\"#EBF0F8\"},\"line\":{\"color\":\"white\"}},\"header\":{\"fill\":{\"color\":\"#C8D4E3\"},\"line\":{\"color\":\"white\"}},\"type\":\"table\"}],\"barpolar\":[{\"marker\":{\"line\":{\"color\":\"#E5ECF6\",\"width\":0.5},\"pattern\":{\"fillmode\":\"overlay\",\"size\":10,\"solidity\":0.2}},\"type\":\"barpolar\"}],\"pie\":[{\"automargin\":true,\"type\":\"pie\"}]},\"layout\":{\"autotypenumbers\":\"strict\",\"colorway\":[\"#636efa\",\"#EF553B\",\"#00cc96\",\"#ab63fa\",\"#FFA15A\",\"#19d3f3\",\"#FF6692\",\"#B6E880\",\"#FF97FF\",\"#FECB52\"],\"font\":{\"color\":\"#2a3f5f\"},\"hovermode\":\"closest\",\"hoverlabel\":{\"align\":\"left\"},\"paper_bgcolor\":\"white\",\"plot_bgcolor\":\"#E5ECF6\",\"polar\":{\"bgcolor\":\"#E5ECF6\",\"angularaxis\":{\"gridcolor\":\"white\",\"linecolor\":\"white\",\"ticks\":\"\"},\"radialaxis\":{\"gridcolor\":\"white\",\"linecolor\":\"white\",\"ticks\":\"\"}},\"ternary\":{\"bgcolor\":\"#E5ECF6\",\"aaxis\":{\"gridcolor\":\"white\",\"linecolor\":\"white\",\"ticks\":\"\"},\"baxis\":{\"gridcolor\":\"white\",\"linecolor\":\"white\",\"ticks\":\"\"},\"caxis\":{\"gridcolor\":\"white\",\"linecolor\":\"white\",\"ticks\":\"\"}},\"coloraxis\":{\"colorbar\":{\"outlinewidth\":0,\"ticks\":\"\"}},\"colorscale\":{\"sequential\":[[0.0,\"#0d0887\"],[0.1111111111111111,\"#46039f\"],[0.2222222222222222,\"#7201a8\"],[0.3333333333333333,\"#9c179e\"],[0.4444444444444444,\"#bd3786\"],[0.5555555555555556,\"#d8576b\"],[0.6666666666666666,\"#ed7953\"],[0.7777777777777778,\"#fb9f3a\"],[0.8888888888888888,\"#fdca26\"],[1.0,\"#f0f921\"]],\"sequentialminus\":[[0.0,\"#0d0887\"],[0.1111111111111111,\"#46039f\"],[0.2222222222222222,\"#7201a8\"],[0.3333333333333333,\"#9c179e\"],[0.4444444444444444,\"#bd3786\"],[0.5555555555555556,\"#d8576b\"],[0.6666666666666666,\"#ed7953\"],[0.7777777777777778,\"#fb9f3a\"],[0.8888888888888888,\"#fdca26\"],[1.0,\"#f0f921\"]],\"diverging\":[[0,\"#8e0152\"],[0.1,\"#c51b7d\"],[0.2,\"#de77ae\"],[0.3,\"#f1b6da\"],[0.4,\"#fde0ef\"],[0.5,\"#f7f7f7\"],[0.6,\"#e6f5d0\"],[0.7,\"#b8e186\"],[0.8,\"#7fbc41\"],[0.9,\"#4d9221\"],[1,\"#276419\"]]},\"xaxis\":{\"gridcolor\":\"white\",\"linecolor\":\"white\",\"ticks\":\"\",\"title\":{\"standoff\":15},\"zerolinecolor\":\"white\",\"automargin\":true,\"zerolinewidth\":2},\"yaxis\":{\"gridcolor\":\"white\",\"linecolor\":\"white\",\"ticks\":\"\",\"title\":{\"standoff\":15},\"zerolinecolor\":\"white\",\"automargin\":true,\"zerolinewidth\":2},\"scene\":{\"xaxis\":{\"backgroundcolor\":\"#E5ECF6\",\"gridcolor\":\"white\",\"linecolor\":\"white\",\"showbackground\":true,\"ticks\":\"\",\"zerolinecolor\":\"white\",\"gridwidth\":2},\"yaxis\":{\"backgroundcolor\":\"#E5ECF6\",\"gridcolor\":\"white\",\"linecolor\":\"white\",\"showbackground\":true,\"ticks\":\"\",\"zerolinecolor\":\"white\",\"gridwidth\":2},\"zaxis\":{\"backgroundcolor\":\"#E5ECF6\",\"gridcolor\":\"white\",\"linecolor\":\"white\",\"showbackground\":true,\"ticks\":\"\",\"zerolinecolor\":\"white\",\"gridwidth\":2}},\"shapedefaults\":{\"line\":{\"color\":\"#2a3f5f\"}},\"annotationdefaults\":{\"arrowcolor\":\"#2a3f5f\",\"arrowhead\":0,\"arrowwidth\":1},\"geo\":{\"bgcolor\":\"white\",\"landcolor\":\"#E5ECF6\",\"subunitcolor\":\"white\",\"showland\":true,\"showlakes\":true,\"lakecolor\":\"white\"},\"title\":{\"x\":0.05},\"mapbox\":{\"style\":\"light\"}}}},                        {\"responsive\": true}                    ).then(function(){\n",
       "                            \n",
       "var gd = document.getElementById('315f9f56-2ee5-44b5-92c6-f072843180fa');\n",
       "var x = new MutationObserver(function (mutations, observer) {{\n",
       "        var display = window.getComputedStyle(gd).display;\n",
       "        if (!display || display === 'none') {{\n",
       "            console.log([gd, 'removed!']);\n",
       "            Plotly.purge(gd);\n",
       "            observer.disconnect();\n",
       "        }}\n",
       "}});\n",
       "\n",
       "// Listen for the removal of the full notebook cells\n",
       "var notebookContainer = gd.closest('#notebook-container');\n",
       "if (notebookContainer) {{\n",
       "    x.observe(notebookContainer, {childList: true});\n",
       "}}\n",
       "\n",
       "// Listen for the clearing of the current output cell\n",
       "var outputEl = gd.closest('.output');\n",
       "if (outputEl) {{\n",
       "    x.observe(outputEl, {childList: true});\n",
       "}}\n",
       "\n",
       "                        })                };                });            </script>        </div>"
      ]
     },
     "metadata": {},
     "output_type": "display_data"
    }
   ],
   "source": [
    "layout = dict(\n",
    "    title='Оптимизация времени исполнения проекта Matrixmultiply',\n",
    "    xaxis=dict(title='Время оптимизации (дата)'),\n",
    "    yaxis=dict(title='Время исполнения (секунды)')\n",
    ")\n",
    "\n",
    "fig = go.Figure(layout=layout)\n",
    "\n",
    "fig.add_scatter(\n",
    "    x=ddf['finish_time'], \n",
    "    y=ddf['objective_result'], \n",
    "    name='run time',\n",
    "    error_y=dict( type='data',array=ddf['std'],visible=True)\n",
    ")\n",
    "\n",
    "o3x = baselines['O3']['time']\n",
    "o2x = baselines['O2']['time']\n",
    "o1x = baselines['O1']['time']\n",
    "\n",
    "start_time = ddf.iloc[0]['finish_time']\n",
    "finish_time = ddf.iloc[-1]['finish_time']\n",
    "\n",
    "fig.add_trace(\n",
    "    go.Scatter(\n",
    "        x=[start_time, finish_time],\n",
    "        y=[o3x, o3x], \n",
    "        line={\n",
    "            'color': 'green',\n",
    "            'width': 2,\n",
    "            'dash': 'dashdot',\n",
    "        }, name='gcc -O3'\n",
    "    )\n",
    ")\n",
    "fig.add_trace(\n",
    "    go.Scatter(\n",
    "        x=[start_time, finish_time],\n",
    "        y=[o2x, o2x], \n",
    "        line={\n",
    "            'color': 'red',\n",
    "            'width': 2,\n",
    "            'dash': 'dashdot',\n",
    "        }, name='gcc -O2'\n",
    "    )\n",
    ")\n",
    "fig.add_trace(\n",
    "    go.Scatter(\n",
    "        x=[start_time, finish_time],\n",
    "        y=[o1x, o1x], \n",
    "        line={\n",
    "            'color': 'black',\n",
    "            'width': 2,\n",
    "            'dash': 'dashdot',\n",
    "        }, name='gcc -O1'\n",
    "    ),\n",
    ")\n",
    "fig.show()"
   ]
  },
  {
   "cell_type": "code",
   "execution_count": null,
   "id": "6a4c32ab",
   "metadata": {},
   "outputs": [],
   "source": []
  }
 ],
 "metadata": {
  "kernelspec": {
   "display_name": "Python 3 (ipykernel)",
   "language": "python",
   "name": "python3"
  },
  "language_info": {
   "codemirror_mode": {
    "name": "ipython",
    "version": 3
   },
   "file_extension": ".py",
   "mimetype": "text/x-python",
   "name": "python",
   "nbconvert_exporter": "python",
   "pygments_lexer": "ipython3",
   "version": "3.9.7"
  }
 },
 "nbformat": 4,
 "nbformat_minor": 5
}
