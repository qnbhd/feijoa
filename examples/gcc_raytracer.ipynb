{
 "cells": [
  {
   "cell_type": "code",
   "execution_count": 2,
   "id": "7f61e6c3",
   "metadata": {},
   "outputs": [],
   "source": [
    "from feijoa import load_job, SearchSpace\n",
    "from feijoa.models.experiment import ExperimentState\n",
    "from examples.gcc.utils.run_tools import run_baselines"
   ]
  },
  {
   "cell_type": "code",
   "execution_count": 3,
   "id": "6a9d6a15",
   "metadata": {},
   "outputs": [],
   "source": [
    "baselines = {\n",
    "  \"O3\": {\n",
    "    \"time\": 0.16,\n",
    "    \"std\": 0.0,\n",
    "    \"cv\": 0.0,\n",
    "    \"low\": 0.16,\n",
    "    \"high\": 0.16\n",
    "  },\n",
    "  \"O2\": {\n",
    "    \"time\": 0.16,\n",
    "    \"std\": 0.0,\n",
    "    \"cv\": 0.0,\n",
    "    \"low\": 0.16,\n",
    "    \"high\": 0.16\n",
    "  },\n",
    "  \"O1\": {\n",
    "    \"time\": 0.18,\n",
    "    \"std\": 0.0,\n",
    "    \"cv\": 0.0,\n",
    "    \"low\": 0.18,\n",
    "    \"high\": 0.18\n",
    "  }\n",
    "}"
   ]
  },
  {
   "cell_type": "code",
   "execution_count": 4,
   "id": "cadd189e",
   "metadata": {},
   "outputs": [
    {
     "data": {
      "text/plain": [
       "{'O3': {'time': 0.16, 'std': 0.0, 'cv': 0.0, 'low': 0.16, 'high': 0.16},\n",
       " 'O2': {'time': 0.16, 'std': 0.0, 'cv': 0.0, 'low': 0.16, 'high': 0.16},\n",
       " 'O1': {'time': 0.18, 'std': 0.0, 'cv': 0.0, 'low': 0.18, 'high': 0.18}}"
      ]
     },
     "execution_count": 4,
     "metadata": {},
     "output_type": "execute_result"
    }
   ],
   "source": [
    "baselines"
   ]
  },
  {
   "cell_type": "code",
   "execution_count": 5,
   "id": "138c7647",
   "metadata": {},
   "outputs": [],
   "source": [
    "space = SearchSpace.from_yaml_file('/Users/qnbhd/Development/feijoa/examples/gcc/space_wided.yaml')"
   ]
  },
  {
   "cell_type": "code",
   "execution_count": 6,
   "id": "3208ccb5",
   "metadata": {},
   "outputs": [],
   "source": [
    "job = load_job(\n",
    "    search_space=space, \n",
    "    storage='sqlite:////Users/qnbhd/Development/feijoa/examples/gcc/gcc_tuning_example.db',\n",
    "    name='22:37:43_04_18_2022'\n",
    ")"
   ]
  },
  {
   "cell_type": "code",
   "execution_count": 7,
   "id": "a4ddc892",
   "metadata": {},
   "outputs": [],
   "source": [
    "df = job.dataframe"
   ]
  },
  {
   "cell_type": "code",
   "execution_count": 8,
   "id": "f3fc686e",
   "metadata": {},
   "outputs": [],
   "source": [
    "valid_df = df[df['state'] == ExperimentState.OK]"
   ]
  },
  {
   "cell_type": "code",
   "execution_count": 9,
   "id": "a41e7925",
   "metadata": {},
   "outputs": [
    {
     "data": {
      "text/html": [
       "<div>\n",
       "<style scoped>\n",
       "    .dataframe tbody tr th:only-of-type {\n",
       "        vertical-align: middle;\n",
       "    }\n",
       "\n",
       "    .dataframe tbody tr th {\n",
       "        vertical-align: top;\n",
       "    }\n",
       "\n",
       "    .dataframe thead th {\n",
       "        text-align: right;\n",
       "    }\n",
       "</style>\n",
       "<table border=\"1\" class=\"dataframe\">\n",
       "  <thead>\n",
       "    <tr style=\"text-align: right;\">\n",
       "      <th></th>\n",
       "      <th>id</th>\n",
       "      <th>job_id</th>\n",
       "      <th>state</th>\n",
       "      <th>hash</th>\n",
       "      <th>objective_result</th>\n",
       "      <th>requestor</th>\n",
       "      <th>create_time</th>\n",
       "      <th>finish_time</th>\n",
       "      <th>--param=predictable-branch-outcome</th>\n",
       "      <th>--param=uninlined-function-insns</th>\n",
       "      <th>...</th>\n",
       "      <th>-fweb</th>\n",
       "      <th>-fwrapv</th>\n",
       "      <th>-fwrapv-pointer</th>\n",
       "      <th>compile_time</th>\n",
       "      <th>time</th>\n",
       "      <th>size</th>\n",
       "      <th>std</th>\n",
       "      <th>cv</th>\n",
       "      <th>low</th>\n",
       "      <th>high</th>\n",
       "    </tr>\n",
       "  </thead>\n",
       "  <tbody>\n",
       "    <tr>\n",
       "      <th>8</th>\n",
       "      <td>9</td>\n",
       "      <td>1</td>\n",
       "      <td>ExperimentState.OK</td>\n",
       "      <td>5e41daa9861144613ae9deddb14f3bfb9bbd1921281c05...</td>\n",
       "      <td>0.295</td>\n",
       "      <td>SkoptBayesianAlgorithm</td>\n",
       "      <td>2022-04-18 23:37:56.742572</td>\n",
       "      <td>2022-04-18 23:37:58.054864</td>\n",
       "      <td>28</td>\n",
       "      <td>416724</td>\n",
       "      <td>...</td>\n",
       "      <td>-fweb</td>\n",
       "      <td>-fwrapv</td>\n",
       "      <td>-fwrapv-pointer</td>\n",
       "      <td>0.61</td>\n",
       "      <td>0.295</td>\n",
       "      <td>23392.0</td>\n",
       "      <td>0.005</td>\n",
       "      <td>0.016949</td>\n",
       "      <td>0.29</td>\n",
       "      <td>0.30</td>\n",
       "    </tr>\n",
       "    <tr>\n",
       "      <th>11</th>\n",
       "      <td>12</td>\n",
       "      <td>1</td>\n",
       "      <td>ExperimentState.OK</td>\n",
       "      <td>683001c03eadcb4a00d4e092d47039d9f8bf1a54e1bd4f...</td>\n",
       "      <td>0.455</td>\n",
       "      <td>SkoptBayesianAlgorithm</td>\n",
       "      <td>2022-04-18 23:38:05.333232</td>\n",
       "      <td>2022-04-18 23:38:06.893993</td>\n",
       "      <td>19</td>\n",
       "      <td>408477</td>\n",
       "      <td>...</td>\n",
       "      <td>None</td>\n",
       "      <td>-fno-wrapv</td>\n",
       "      <td>-fno-wrapv-pointer</td>\n",
       "      <td>0.54</td>\n",
       "      <td>0.455</td>\n",
       "      <td>30608.0</td>\n",
       "      <td>0.005</td>\n",
       "      <td>0.010989</td>\n",
       "      <td>0.45</td>\n",
       "      <td>0.46</td>\n",
       "    </tr>\n",
       "    <tr>\n",
       "      <th>13</th>\n",
       "      <td>14</td>\n",
       "      <td>1</td>\n",
       "      <td>ExperimentState.OK</td>\n",
       "      <td>56d79fb86702ceb45fcfdaae60dd36d00aacd215f7448a...</td>\n",
       "      <td>1.055</td>\n",
       "      <td>SkoptBayesianAlgorithm</td>\n",
       "      <td>2022-04-18 23:38:14.968311</td>\n",
       "      <td>2022-04-18 23:38:17.749967</td>\n",
       "      <td>42</td>\n",
       "      <td>765907</td>\n",
       "      <td>...</td>\n",
       "      <td>-fweb</td>\n",
       "      <td>-fwrapv</td>\n",
       "      <td>None</td>\n",
       "      <td>0.57</td>\n",
       "      <td>1.055</td>\n",
       "      <td>44472.0</td>\n",
       "      <td>0.005</td>\n",
       "      <td>0.004739</td>\n",
       "      <td>1.05</td>\n",
       "      <td>1.06</td>\n",
       "    </tr>\n",
       "    <tr>\n",
       "      <th>16</th>\n",
       "      <td>17</td>\n",
       "      <td>1</td>\n",
       "      <td>ExperimentState.OK</td>\n",
       "      <td>eb8cadd5e9e6e18e9a96ca47d86632e2a948714db188e7...</td>\n",
       "      <td>0.190</td>\n",
       "      <td>SkoptBayesianAlgorithm</td>\n",
       "      <td>2022-04-18 23:38:29.160534</td>\n",
       "      <td>2022-04-18 23:38:30.187727</td>\n",
       "      <td>30</td>\n",
       "      <td>593926</td>\n",
       "      <td>...</td>\n",
       "      <td>-fweb</td>\n",
       "      <td>None</td>\n",
       "      <td>-fwrapv-pointer</td>\n",
       "      <td>0.55</td>\n",
       "      <td>0.190</td>\n",
       "      <td>21584.0</td>\n",
       "      <td>0.000</td>\n",
       "      <td>0.000000</td>\n",
       "      <td>0.19</td>\n",
       "      <td>0.19</td>\n",
       "    </tr>\n",
       "    <tr>\n",
       "      <th>17</th>\n",
       "      <td>18</td>\n",
       "      <td>1</td>\n",
       "      <td>ExperimentState.OK</td>\n",
       "      <td>ad77fd8ec830a77dc53d1f433998349c1af22c25088cb2...</td>\n",
       "      <td>0.225</td>\n",
       "      <td>SkoptBayesianAlgorithm</td>\n",
       "      <td>2022-04-18 23:38:32.954062</td>\n",
       "      <td>2022-04-18 23:38:34.190463</td>\n",
       "      <td>17</td>\n",
       "      <td>438126</td>\n",
       "      <td>...</td>\n",
       "      <td>-fweb</td>\n",
       "      <td>-fno-wrapv</td>\n",
       "      <td>-fwrapv-pointer</td>\n",
       "      <td>0.68</td>\n",
       "      <td>0.225</td>\n",
       "      <td>26328.0</td>\n",
       "      <td>0.005</td>\n",
       "      <td>0.022222</td>\n",
       "      <td>0.22</td>\n",
       "      <td>0.23</td>\n",
       "    </tr>\n",
       "    <tr>\n",
       "      <th>...</th>\n",
       "      <td>...</td>\n",
       "      <td>...</td>\n",
       "      <td>...</td>\n",
       "      <td>...</td>\n",
       "      <td>...</td>\n",
       "      <td>...</td>\n",
       "      <td>...</td>\n",
       "      <td>...</td>\n",
       "      <td>...</td>\n",
       "      <td>...</td>\n",
       "      <td>...</td>\n",
       "      <td>...</td>\n",
       "      <td>...</td>\n",
       "      <td>...</td>\n",
       "      <td>...</td>\n",
       "      <td>...</td>\n",
       "      <td>...</td>\n",
       "      <td>...</td>\n",
       "      <td>...</td>\n",
       "      <td>...</td>\n",
       "      <td>...</td>\n",
       "    </tr>\n",
       "    <tr>\n",
       "      <th>4501</th>\n",
       "      <td>4502</td>\n",
       "      <td>1</td>\n",
       "      <td>ExperimentState.OK</td>\n",
       "      <td>e9433d6f2673eccdc2f2e14a82d0674f6a172e52bbe225...</td>\n",
       "      <td>0.165</td>\n",
       "      <td>SkoptBayesianAlgorithm</td>\n",
       "      <td>2022-04-19 12:40:37.600367</td>\n",
       "      <td>2022-04-19 12:40:40.203662</td>\n",
       "      <td>0</td>\n",
       "      <td>671672</td>\n",
       "      <td>...</td>\n",
       "      <td>-fno-web</td>\n",
       "      <td>-fwrapv</td>\n",
       "      <td>-fwrapv-pointer</td>\n",
       "      <td>0.55</td>\n",
       "      <td>0.165</td>\n",
       "      <td>22064.0</td>\n",
       "      <td>0.005</td>\n",
       "      <td>0.030303</td>\n",
       "      <td>0.16</td>\n",
       "      <td>0.17</td>\n",
       "    </tr>\n",
       "    <tr>\n",
       "      <th>4503</th>\n",
       "      <td>4504</td>\n",
       "      <td>1</td>\n",
       "      <td>ExperimentState.OK</td>\n",
       "      <td>51071cf0baba70b8fa00d57fa366e05057c765cb1d49b2...</td>\n",
       "      <td>0.155</td>\n",
       "      <td>SkoptBayesianAlgorithm</td>\n",
       "      <td>2022-04-19 12:41:12.600465</td>\n",
       "      <td>2022-04-19 12:41:15.134439</td>\n",
       "      <td>19</td>\n",
       "      <td>881962</td>\n",
       "      <td>...</td>\n",
       "      <td>-fno-web</td>\n",
       "      <td>None</td>\n",
       "      <td>None</td>\n",
       "      <td>0.59</td>\n",
       "      <td>0.155</td>\n",
       "      <td>21952.0</td>\n",
       "      <td>0.005</td>\n",
       "      <td>0.032258</td>\n",
       "      <td>0.15</td>\n",
       "      <td>0.16</td>\n",
       "    </tr>\n",
       "    <tr>\n",
       "      <th>4504</th>\n",
       "      <td>4505</td>\n",
       "      <td>1</td>\n",
       "      <td>ExperimentState.OK</td>\n",
       "      <td>34d0376e2babb677f749706e3aed327c1f95b4523bfea4...</td>\n",
       "      <td>0.160</td>\n",
       "      <td>SkoptBayesianAlgorithm</td>\n",
       "      <td>2022-04-19 12:41:28.142197</td>\n",
       "      <td>2022-04-19 12:41:31.376024</td>\n",
       "      <td>45</td>\n",
       "      <td>975395</td>\n",
       "      <td>...</td>\n",
       "      <td>-fweb</td>\n",
       "      <td>-fwrapv</td>\n",
       "      <td>None</td>\n",
       "      <td>0.64</td>\n",
       "      <td>0.160</td>\n",
       "      <td>23496.0</td>\n",
       "      <td>0.000</td>\n",
       "      <td>0.000000</td>\n",
       "      <td>0.16</td>\n",
       "      <td>0.16</td>\n",
       "    </tr>\n",
       "    <tr>\n",
       "      <th>4505</th>\n",
       "      <td>4506</td>\n",
       "      <td>1</td>\n",
       "      <td>ExperimentState.OK</td>\n",
       "      <td>baeffeb056357fc6f9172646b315ba3fb7047db5bbe225...</td>\n",
       "      <td>0.165</td>\n",
       "      <td>SkoptBayesianAlgorithm</td>\n",
       "      <td>2022-04-19 12:41:44.381001</td>\n",
       "      <td>2022-04-19 12:41:46.952129</td>\n",
       "      <td>35</td>\n",
       "      <td>606802</td>\n",
       "      <td>...</td>\n",
       "      <td>None</td>\n",
       "      <td>-fwrapv</td>\n",
       "      <td>-fwrapv-pointer</td>\n",
       "      <td>0.59</td>\n",
       "      <td>0.165</td>\n",
       "      <td>21920.0</td>\n",
       "      <td>0.005</td>\n",
       "      <td>0.030303</td>\n",
       "      <td>0.16</td>\n",
       "      <td>0.17</td>\n",
       "    </tr>\n",
       "    <tr>\n",
       "      <th>4506</th>\n",
       "      <td>4507</td>\n",
       "      <td>1</td>\n",
       "      <td>ExperimentState.OK</td>\n",
       "      <td>d5bc5a6b5c270270fad1d50a1f621bf50dc2f7f23bfea4...</td>\n",
       "      <td>0.160</td>\n",
       "      <td>SkoptBayesianAlgorithm</td>\n",
       "      <td>2022-04-19 12:42:00.082098</td>\n",
       "      <td>2022-04-19 12:42:02.691554</td>\n",
       "      <td>24</td>\n",
       "      <td>602378</td>\n",
       "      <td>...</td>\n",
       "      <td>-fno-web</td>\n",
       "      <td>None</td>\n",
       "      <td>None</td>\n",
       "      <td>0.64</td>\n",
       "      <td>0.160</td>\n",
       "      <td>21808.0</td>\n",
       "      <td>0.000</td>\n",
       "      <td>0.000000</td>\n",
       "      <td>0.16</td>\n",
       "      <td>0.16</td>\n",
       "    </tr>\n",
       "  </tbody>\n",
       "</table>\n",
       "<p>3785 rows × 272 columns</p>\n",
       "</div>"
      ],
      "text/plain": [
       "        id  job_id               state  \\\n",
       "8        9       1  ExperimentState.OK   \n",
       "11      12       1  ExperimentState.OK   \n",
       "13      14       1  ExperimentState.OK   \n",
       "16      17       1  ExperimentState.OK   \n",
       "17      18       1  ExperimentState.OK   \n",
       "...    ...     ...                 ...   \n",
       "4501  4502       1  ExperimentState.OK   \n",
       "4503  4504       1  ExperimentState.OK   \n",
       "4504  4505       1  ExperimentState.OK   \n",
       "4505  4506       1  ExperimentState.OK   \n",
       "4506  4507       1  ExperimentState.OK   \n",
       "\n",
       "                                                   hash  objective_result  \\\n",
       "8     5e41daa9861144613ae9deddb14f3bfb9bbd1921281c05...             0.295   \n",
       "11    683001c03eadcb4a00d4e092d47039d9f8bf1a54e1bd4f...             0.455   \n",
       "13    56d79fb86702ceb45fcfdaae60dd36d00aacd215f7448a...             1.055   \n",
       "16    eb8cadd5e9e6e18e9a96ca47d86632e2a948714db188e7...             0.190   \n",
       "17    ad77fd8ec830a77dc53d1f433998349c1af22c25088cb2...             0.225   \n",
       "...                                                 ...               ...   \n",
       "4501  e9433d6f2673eccdc2f2e14a82d0674f6a172e52bbe225...             0.165   \n",
       "4503  51071cf0baba70b8fa00d57fa366e05057c765cb1d49b2...             0.155   \n",
       "4504  34d0376e2babb677f749706e3aed327c1f95b4523bfea4...             0.160   \n",
       "4505  baeffeb056357fc6f9172646b315ba3fb7047db5bbe225...             0.165   \n",
       "4506  d5bc5a6b5c270270fad1d50a1f621bf50dc2f7f23bfea4...             0.160   \n",
       "\n",
       "                   requestor                create_time  \\\n",
       "8     SkoptBayesianAlgorithm 2022-04-18 23:37:56.742572   \n",
       "11    SkoptBayesianAlgorithm 2022-04-18 23:38:05.333232   \n",
       "13    SkoptBayesianAlgorithm 2022-04-18 23:38:14.968311   \n",
       "16    SkoptBayesianAlgorithm 2022-04-18 23:38:29.160534   \n",
       "17    SkoptBayesianAlgorithm 2022-04-18 23:38:32.954062   \n",
       "...                      ...                        ...   \n",
       "4501  SkoptBayesianAlgorithm 2022-04-19 12:40:37.600367   \n",
       "4503  SkoptBayesianAlgorithm 2022-04-19 12:41:12.600465   \n",
       "4504  SkoptBayesianAlgorithm 2022-04-19 12:41:28.142197   \n",
       "4505  SkoptBayesianAlgorithm 2022-04-19 12:41:44.381001   \n",
       "4506  SkoptBayesianAlgorithm 2022-04-19 12:42:00.082098   \n",
       "\n",
       "                    finish_time  --param=predictable-branch-outcome  \\\n",
       "8    2022-04-18 23:37:58.054864                                  28   \n",
       "11   2022-04-18 23:38:06.893993                                  19   \n",
       "13   2022-04-18 23:38:17.749967                                  42   \n",
       "16   2022-04-18 23:38:30.187727                                  30   \n",
       "17   2022-04-18 23:38:34.190463                                  17   \n",
       "...                         ...                                 ...   \n",
       "4501 2022-04-19 12:40:40.203662                                   0   \n",
       "4503 2022-04-19 12:41:15.134439                                  19   \n",
       "4504 2022-04-19 12:41:31.376024                                  45   \n",
       "4505 2022-04-19 12:41:46.952129                                  35   \n",
       "4506 2022-04-19 12:42:02.691554                                  24   \n",
       "\n",
       "      --param=uninlined-function-insns  ...     -fweb     -fwrapv  \\\n",
       "8                               416724  ...     -fweb     -fwrapv   \n",
       "11                              408477  ...      None  -fno-wrapv   \n",
       "13                              765907  ...     -fweb     -fwrapv   \n",
       "16                              593926  ...     -fweb        None   \n",
       "17                              438126  ...     -fweb  -fno-wrapv   \n",
       "...                                ...  ...       ...         ...   \n",
       "4501                            671672  ...  -fno-web     -fwrapv   \n",
       "4503                            881962  ...  -fno-web        None   \n",
       "4504                            975395  ...     -fweb     -fwrapv   \n",
       "4505                            606802  ...      None     -fwrapv   \n",
       "4506                            602378  ...  -fno-web        None   \n",
       "\n",
       "         -fwrapv-pointer  compile_time   time     size    std        cv   low  \\\n",
       "8        -fwrapv-pointer          0.61  0.295  23392.0  0.005  0.016949  0.29   \n",
       "11    -fno-wrapv-pointer          0.54  0.455  30608.0  0.005  0.010989  0.45   \n",
       "13                  None          0.57  1.055  44472.0  0.005  0.004739  1.05   \n",
       "16       -fwrapv-pointer          0.55  0.190  21584.0  0.000  0.000000  0.19   \n",
       "17       -fwrapv-pointer          0.68  0.225  26328.0  0.005  0.022222  0.22   \n",
       "...                  ...           ...    ...      ...    ...       ...   ...   \n",
       "4501     -fwrapv-pointer          0.55  0.165  22064.0  0.005  0.030303  0.16   \n",
       "4503                None          0.59  0.155  21952.0  0.005  0.032258  0.15   \n",
       "4504                None          0.64  0.160  23496.0  0.000  0.000000  0.16   \n",
       "4505     -fwrapv-pointer          0.59  0.165  21920.0  0.005  0.030303  0.16   \n",
       "4506                None          0.64  0.160  21808.0  0.000  0.000000  0.16   \n",
       "\n",
       "      high  \n",
       "8     0.30  \n",
       "11    0.46  \n",
       "13    1.06  \n",
       "16    0.19  \n",
       "17    0.23  \n",
       "...    ...  \n",
       "4501  0.17  \n",
       "4503  0.16  \n",
       "4504  0.16  \n",
       "4505  0.17  \n",
       "4506  0.16  \n",
       "\n",
       "[3785 rows x 272 columns]"
      ]
     },
     "execution_count": 9,
     "metadata": {},
     "output_type": "execute_result"
    }
   ],
   "source": [
    "valid_df"
   ]
  },
  {
   "cell_type": "code",
   "execution_count": 10,
   "id": "f2427138",
   "metadata": {},
   "outputs": [
    {
     "name": "stdout",
     "output_type": "stream",
     "text": [
      "Empty DataFrame\n",
      "Columns: [finish_time, objective_result, std]\n",
      "Index: []\n"
     ]
    },
    {
     "name": "stderr",
     "output_type": "stream",
     "text": [
      "/var/folders/gp/1qc74rb50b9cp66q8cxshnwh0000gn/T/ipykernel_34308/390794594.py:12: FutureWarning: The frame.append method is deprecated and will be removed from pandas in a future version. Use pandas.concat instead.\n",
      "  ddf = ddf.append({'finish_time': rows['finish_time'],\n",
      "/var/folders/gp/1qc74rb50b9cp66q8cxshnwh0000gn/T/ipykernel_34308/390794594.py:12: FutureWarning: The frame.append method is deprecated and will be removed from pandas in a future version. Use pandas.concat instead.\n",
      "  ddf = ddf.append({'finish_time': rows['finish_time'],\n",
      "/var/folders/gp/1qc74rb50b9cp66q8cxshnwh0000gn/T/ipykernel_34308/390794594.py:12: FutureWarning: The frame.append method is deprecated and will be removed from pandas in a future version. Use pandas.concat instead.\n",
      "  ddf = ddf.append({'finish_time': rows['finish_time'],\n",
      "/var/folders/gp/1qc74rb50b9cp66q8cxshnwh0000gn/T/ipykernel_34308/390794594.py:12: FutureWarning: The frame.append method is deprecated and will be removed from pandas in a future version. Use pandas.concat instead.\n",
      "  ddf = ddf.append({'finish_time': rows['finish_time'],\n",
      "/var/folders/gp/1qc74rb50b9cp66q8cxshnwh0000gn/T/ipykernel_34308/390794594.py:12: FutureWarning: The frame.append method is deprecated and will be removed from pandas in a future version. Use pandas.concat instead.\n",
      "  ddf = ddf.append({'finish_time': rows['finish_time'],\n"
     ]
    }
   ],
   "source": [
    "import pandas as pd\n",
    "\n",
    "ddf = pd.DataFrame(columns=['finish_time', 'objective_result', 'std'])\n",
    "\n",
    "print(ddf)\n",
    "\n",
    "minima = 1e100\n",
    "\n",
    "for index, rows in valid_df.iterrows():\n",
    "    if rows['objective_result'] <= minima:\n",
    "        minima = rows['objective_result']\n",
    "        ddf = ddf.append({'finish_time': rows['finish_time'],\n",
    "             'objective_result': rows['objective_result'],\n",
    "             'std': rows['std']}, ignore_index=True)"
   ]
  },
  {
   "cell_type": "code",
   "execution_count": 11,
   "id": "690f7dff",
   "metadata": {},
   "outputs": [
    {
     "data": {
      "text/html": [
       "<div>\n",
       "<style scoped>\n",
       "    .dataframe tbody tr th:only-of-type {\n",
       "        vertical-align: middle;\n",
       "    }\n",
       "\n",
       "    .dataframe tbody tr th {\n",
       "        vertical-align: top;\n",
       "    }\n",
       "\n",
       "    .dataframe thead th {\n",
       "        text-align: right;\n",
       "    }\n",
       "</style>\n",
       "<table border=\"1\" class=\"dataframe\">\n",
       "  <thead>\n",
       "    <tr style=\"text-align: right;\">\n",
       "      <th></th>\n",
       "      <th>finish_time</th>\n",
       "      <th>objective_result</th>\n",
       "      <th>std</th>\n",
       "    </tr>\n",
       "  </thead>\n",
       "  <tbody>\n",
       "    <tr>\n",
       "      <th>0</th>\n",
       "      <td>2022-04-18 23:37:58.054864</td>\n",
       "      <td>0.295</td>\n",
       "      <td>0.005</td>\n",
       "    </tr>\n",
       "    <tr>\n",
       "      <th>1</th>\n",
       "      <td>2022-04-18 23:38:30.187727</td>\n",
       "      <td>0.19</td>\n",
       "      <td>0.0</td>\n",
       "    </tr>\n",
       "    <tr>\n",
       "      <th>2</th>\n",
       "      <td>2022-04-18 23:38:55.942164</td>\n",
       "      <td>0.15</td>\n",
       "      <td>0.0</td>\n",
       "    </tr>\n",
       "    <tr>\n",
       "      <th>3</th>\n",
       "      <td>2022-04-18 23:58:26.082718</td>\n",
       "      <td>0.15</td>\n",
       "      <td>0.0</td>\n",
       "    </tr>\n",
       "    <tr>\n",
       "      <th>4</th>\n",
       "      <td>2022-04-19 00:19:09.399236</td>\n",
       "      <td>0.14</td>\n",
       "      <td>0.0</td>\n",
       "    </tr>\n",
       "  </tbody>\n",
       "</table>\n",
       "</div>"
      ],
      "text/plain": [
       "                  finish_time objective_result    std\n",
       "0  2022-04-18 23:37:58.054864            0.295  0.005\n",
       "1  2022-04-18 23:38:30.187727             0.19    0.0\n",
       "2  2022-04-18 23:38:55.942164             0.15    0.0\n",
       "3  2022-04-18 23:58:26.082718             0.15    0.0\n",
       "4  2022-04-19 00:19:09.399236             0.14    0.0"
      ]
     },
     "execution_count": 11,
     "metadata": {},
     "output_type": "execute_result"
    }
   ],
   "source": [
    "import plotly.graph_objects as go\n",
    "ddf"
   ]
  },
  {
   "cell_type": "code",
   "execution_count": 13,
   "id": "3649df9a",
   "metadata": {},
   "outputs": [
    {
     "data": {
      "application/vnd.plotly.v1+json": {
       "config": {
        "plotlyServerURL": "https://plot.ly"
       },
       "data": [
        {
         "error_y": {
          "array": [
           0.0050000000000000044,
           0,
           0,
           0,
           0
          ],
          "type": "data",
          "visible": true
         },
         "name": "run time",
         "type": "scatter",
         "x": [
          "2022-04-18T23:37:58.054864",
          "2022-04-18T23:38:30.187727",
          "2022-04-18T23:38:55.942164",
          "2022-04-18T23:58:26.082718",
          "2022-04-19T00:19:09.399236"
         ],
         "y": [
          0.295,
          0.19,
          0.15,
          0.15,
          0.14
         ]
        },
        {
         "line": {
          "color": "green",
          "dash": "dashdot",
          "width": 5
         },
         "name": "gcc -O3",
         "type": "scatter",
         "x": [
          "2022-04-18T23:37:58.054864",
          "2022-04-19T00:19:09.399236"
         ],
         "y": [
          0.16,
          0.16
         ]
        },
        {
         "line": {
          "color": "red",
          "dash": "dashdot",
          "width": 2
         },
         "name": "gcc -O2",
         "type": "scatter",
         "x": [
          "2022-04-18T23:37:58.054864",
          "2022-04-19T00:19:09.399236"
         ],
         "y": [
          0.16,
          0.16
         ]
        },
        {
         "line": {
          "color": "black",
          "dash": "dashdot",
          "width": 2
         },
         "name": "gcc -O1",
         "type": "scatter",
         "x": [
          "2022-04-18T23:37:58.054864",
          "2022-04-19T00:19:09.399236"
         ],
         "y": [
          0.18,
          0.18
         ]
        }
       ],
       "layout": {
        "template": {
         "data": {
          "bar": [
           {
            "error_x": {
             "color": "#2a3f5f"
            },
            "error_y": {
             "color": "#2a3f5f"
            },
            "marker": {
             "line": {
              "color": "#E5ECF6",
              "width": 0.5
             },
             "pattern": {
              "fillmode": "overlay",
              "size": 10,
              "solidity": 0.2
             }
            },
            "type": "bar"
           }
          ],
          "barpolar": [
           {
            "marker": {
             "line": {
              "color": "#E5ECF6",
              "width": 0.5
             },
             "pattern": {
              "fillmode": "overlay",
              "size": 10,
              "solidity": 0.2
             }
            },
            "type": "barpolar"
           }
          ],
          "carpet": [
           {
            "aaxis": {
             "endlinecolor": "#2a3f5f",
             "gridcolor": "white",
             "linecolor": "white",
             "minorgridcolor": "white",
             "startlinecolor": "#2a3f5f"
            },
            "baxis": {
             "endlinecolor": "#2a3f5f",
             "gridcolor": "white",
             "linecolor": "white",
             "minorgridcolor": "white",
             "startlinecolor": "#2a3f5f"
            },
            "type": "carpet"
           }
          ],
          "choropleth": [
           {
            "colorbar": {
             "outlinewidth": 0,
             "ticks": ""
            },
            "type": "choropleth"
           }
          ],
          "contour": [
           {
            "colorbar": {
             "outlinewidth": 0,
             "ticks": ""
            },
            "colorscale": [
             [
              0,
              "#0d0887"
             ],
             [
              0.1111111111111111,
              "#46039f"
             ],
             [
              0.2222222222222222,
              "#7201a8"
             ],
             [
              0.3333333333333333,
              "#9c179e"
             ],
             [
              0.4444444444444444,
              "#bd3786"
             ],
             [
              0.5555555555555556,
              "#d8576b"
             ],
             [
              0.6666666666666666,
              "#ed7953"
             ],
             [
              0.7777777777777778,
              "#fb9f3a"
             ],
             [
              0.8888888888888888,
              "#fdca26"
             ],
             [
              1,
              "#f0f921"
             ]
            ],
            "type": "contour"
           }
          ],
          "contourcarpet": [
           {
            "colorbar": {
             "outlinewidth": 0,
             "ticks": ""
            },
            "type": "contourcarpet"
           }
          ],
          "heatmap": [
           {
            "colorbar": {
             "outlinewidth": 0,
             "ticks": ""
            },
            "colorscale": [
             [
              0,
              "#0d0887"
             ],
             [
              0.1111111111111111,
              "#46039f"
             ],
             [
              0.2222222222222222,
              "#7201a8"
             ],
             [
              0.3333333333333333,
              "#9c179e"
             ],
             [
              0.4444444444444444,
              "#bd3786"
             ],
             [
              0.5555555555555556,
              "#d8576b"
             ],
             [
              0.6666666666666666,
              "#ed7953"
             ],
             [
              0.7777777777777778,
              "#fb9f3a"
             ],
             [
              0.8888888888888888,
              "#fdca26"
             ],
             [
              1,
              "#f0f921"
             ]
            ],
            "type": "heatmap"
           }
          ],
          "heatmapgl": [
           {
            "colorbar": {
             "outlinewidth": 0,
             "ticks": ""
            },
            "colorscale": [
             [
              0,
              "#0d0887"
             ],
             [
              0.1111111111111111,
              "#46039f"
             ],
             [
              0.2222222222222222,
              "#7201a8"
             ],
             [
              0.3333333333333333,
              "#9c179e"
             ],
             [
              0.4444444444444444,
              "#bd3786"
             ],
             [
              0.5555555555555556,
              "#d8576b"
             ],
             [
              0.6666666666666666,
              "#ed7953"
             ],
             [
              0.7777777777777778,
              "#fb9f3a"
             ],
             [
              0.8888888888888888,
              "#fdca26"
             ],
             [
              1,
              "#f0f921"
             ]
            ],
            "type": "heatmapgl"
           }
          ],
          "histogram": [
           {
            "marker": {
             "pattern": {
              "fillmode": "overlay",
              "size": 10,
              "solidity": 0.2
             }
            },
            "type": "histogram"
           }
          ],
          "histogram2d": [
           {
            "colorbar": {
             "outlinewidth": 0,
             "ticks": ""
            },
            "colorscale": [
             [
              0,
              "#0d0887"
             ],
             [
              0.1111111111111111,
              "#46039f"
             ],
             [
              0.2222222222222222,
              "#7201a8"
             ],
             [
              0.3333333333333333,
              "#9c179e"
             ],
             [
              0.4444444444444444,
              "#bd3786"
             ],
             [
              0.5555555555555556,
              "#d8576b"
             ],
             [
              0.6666666666666666,
              "#ed7953"
             ],
             [
              0.7777777777777778,
              "#fb9f3a"
             ],
             [
              0.8888888888888888,
              "#fdca26"
             ],
             [
              1,
              "#f0f921"
             ]
            ],
            "type": "histogram2d"
           }
          ],
          "histogram2dcontour": [
           {
            "colorbar": {
             "outlinewidth": 0,
             "ticks": ""
            },
            "colorscale": [
             [
              0,
              "#0d0887"
             ],
             [
              0.1111111111111111,
              "#46039f"
             ],
             [
              0.2222222222222222,
              "#7201a8"
             ],
             [
              0.3333333333333333,
              "#9c179e"
             ],
             [
              0.4444444444444444,
              "#bd3786"
             ],
             [
              0.5555555555555556,
              "#d8576b"
             ],
             [
              0.6666666666666666,
              "#ed7953"
             ],
             [
              0.7777777777777778,
              "#fb9f3a"
             ],
             [
              0.8888888888888888,
              "#fdca26"
             ],
             [
              1,
              "#f0f921"
             ]
            ],
            "type": "histogram2dcontour"
           }
          ],
          "mesh3d": [
           {
            "colorbar": {
             "outlinewidth": 0,
             "ticks": ""
            },
            "type": "mesh3d"
           }
          ],
          "parcoords": [
           {
            "line": {
             "colorbar": {
              "outlinewidth": 0,
              "ticks": ""
             }
            },
            "type": "parcoords"
           }
          ],
          "pie": [
           {
            "automargin": true,
            "type": "pie"
           }
          ],
          "scatter": [
           {
            "fillpattern": {
             "fillmode": "overlay",
             "size": 10,
             "solidity": 0.2
            },
            "type": "scatter"
           }
          ],
          "scatter3d": [
           {
            "line": {
             "colorbar": {
              "outlinewidth": 0,
              "ticks": ""
             }
            },
            "marker": {
             "colorbar": {
              "outlinewidth": 0,
              "ticks": ""
             }
            },
            "type": "scatter3d"
           }
          ],
          "scattercarpet": [
           {
            "marker": {
             "colorbar": {
              "outlinewidth": 0,
              "ticks": ""
             }
            },
            "type": "scattercarpet"
           }
          ],
          "scattergeo": [
           {
            "marker": {
             "colorbar": {
              "outlinewidth": 0,
              "ticks": ""
             }
            },
            "type": "scattergeo"
           }
          ],
          "scattergl": [
           {
            "marker": {
             "colorbar": {
              "outlinewidth": 0,
              "ticks": ""
             }
            },
            "type": "scattergl"
           }
          ],
          "scattermapbox": [
           {
            "marker": {
             "colorbar": {
              "outlinewidth": 0,
              "ticks": ""
             }
            },
            "type": "scattermapbox"
           }
          ],
          "scatterpolar": [
           {
            "marker": {
             "colorbar": {
              "outlinewidth": 0,
              "ticks": ""
             }
            },
            "type": "scatterpolar"
           }
          ],
          "scatterpolargl": [
           {
            "marker": {
             "colorbar": {
              "outlinewidth": 0,
              "ticks": ""
             }
            },
            "type": "scatterpolargl"
           }
          ],
          "scatterternary": [
           {
            "marker": {
             "colorbar": {
              "outlinewidth": 0,
              "ticks": ""
             }
            },
            "type": "scatterternary"
           }
          ],
          "surface": [
           {
            "colorbar": {
             "outlinewidth": 0,
             "ticks": ""
            },
            "colorscale": [
             [
              0,
              "#0d0887"
             ],
             [
              0.1111111111111111,
              "#46039f"
             ],
             [
              0.2222222222222222,
              "#7201a8"
             ],
             [
              0.3333333333333333,
              "#9c179e"
             ],
             [
              0.4444444444444444,
              "#bd3786"
             ],
             [
              0.5555555555555556,
              "#d8576b"
             ],
             [
              0.6666666666666666,
              "#ed7953"
             ],
             [
              0.7777777777777778,
              "#fb9f3a"
             ],
             [
              0.8888888888888888,
              "#fdca26"
             ],
             [
              1,
              "#f0f921"
             ]
            ],
            "type": "surface"
           }
          ],
          "table": [
           {
            "cells": {
             "fill": {
              "color": "#EBF0F8"
             },
             "line": {
              "color": "white"
             }
            },
            "header": {
             "fill": {
              "color": "#C8D4E3"
             },
             "line": {
              "color": "white"
             }
            },
            "type": "table"
           }
          ]
         },
         "layout": {
          "annotationdefaults": {
           "arrowcolor": "#2a3f5f",
           "arrowhead": 0,
           "arrowwidth": 1
          },
          "autotypenumbers": "strict",
          "coloraxis": {
           "colorbar": {
            "outlinewidth": 0,
            "ticks": ""
           }
          },
          "colorscale": {
           "diverging": [
            [
             0,
             "#8e0152"
            ],
            [
             0.1,
             "#c51b7d"
            ],
            [
             0.2,
             "#de77ae"
            ],
            [
             0.3,
             "#f1b6da"
            ],
            [
             0.4,
             "#fde0ef"
            ],
            [
             0.5,
             "#f7f7f7"
            ],
            [
             0.6,
             "#e6f5d0"
            ],
            [
             0.7,
             "#b8e186"
            ],
            [
             0.8,
             "#7fbc41"
            ],
            [
             0.9,
             "#4d9221"
            ],
            [
             1,
             "#276419"
            ]
           ],
           "sequential": [
            [
             0,
             "#0d0887"
            ],
            [
             0.1111111111111111,
             "#46039f"
            ],
            [
             0.2222222222222222,
             "#7201a8"
            ],
            [
             0.3333333333333333,
             "#9c179e"
            ],
            [
             0.4444444444444444,
             "#bd3786"
            ],
            [
             0.5555555555555556,
             "#d8576b"
            ],
            [
             0.6666666666666666,
             "#ed7953"
            ],
            [
             0.7777777777777778,
             "#fb9f3a"
            ],
            [
             0.8888888888888888,
             "#fdca26"
            ],
            [
             1,
             "#f0f921"
            ]
           ],
           "sequentialminus": [
            [
             0,
             "#0d0887"
            ],
            [
             0.1111111111111111,
             "#46039f"
            ],
            [
             0.2222222222222222,
             "#7201a8"
            ],
            [
             0.3333333333333333,
             "#9c179e"
            ],
            [
             0.4444444444444444,
             "#bd3786"
            ],
            [
             0.5555555555555556,
             "#d8576b"
            ],
            [
             0.6666666666666666,
             "#ed7953"
            ],
            [
             0.7777777777777778,
             "#fb9f3a"
            ],
            [
             0.8888888888888888,
             "#fdca26"
            ],
            [
             1,
             "#f0f921"
            ]
           ]
          },
          "colorway": [
           "#636efa",
           "#EF553B",
           "#00cc96",
           "#ab63fa",
           "#FFA15A",
           "#19d3f3",
           "#FF6692",
           "#B6E880",
           "#FF97FF",
           "#FECB52"
          ],
          "font": {
           "color": "#2a3f5f"
          },
          "geo": {
           "bgcolor": "white",
           "lakecolor": "white",
           "landcolor": "#E5ECF6",
           "showlakes": true,
           "showland": true,
           "subunitcolor": "white"
          },
          "hoverlabel": {
           "align": "left"
          },
          "hovermode": "closest",
          "mapbox": {
           "style": "light"
          },
          "paper_bgcolor": "white",
          "plot_bgcolor": "#E5ECF6",
          "polar": {
           "angularaxis": {
            "gridcolor": "white",
            "linecolor": "white",
            "ticks": ""
           },
           "bgcolor": "#E5ECF6",
           "radialaxis": {
            "gridcolor": "white",
            "linecolor": "white",
            "ticks": ""
           }
          },
          "scene": {
           "xaxis": {
            "backgroundcolor": "#E5ECF6",
            "gridcolor": "white",
            "gridwidth": 2,
            "linecolor": "white",
            "showbackground": true,
            "ticks": "",
            "zerolinecolor": "white"
           },
           "yaxis": {
            "backgroundcolor": "#E5ECF6",
            "gridcolor": "white",
            "gridwidth": 2,
            "linecolor": "white",
            "showbackground": true,
            "ticks": "",
            "zerolinecolor": "white"
           },
           "zaxis": {
            "backgroundcolor": "#E5ECF6",
            "gridcolor": "white",
            "gridwidth": 2,
            "linecolor": "white",
            "showbackground": true,
            "ticks": "",
            "zerolinecolor": "white"
           }
          },
          "shapedefaults": {
           "line": {
            "color": "#2a3f5f"
           }
          },
          "ternary": {
           "aaxis": {
            "gridcolor": "white",
            "linecolor": "white",
            "ticks": ""
           },
           "baxis": {
            "gridcolor": "white",
            "linecolor": "white",
            "ticks": ""
           },
           "bgcolor": "#E5ECF6",
           "caxis": {
            "gridcolor": "white",
            "linecolor": "white",
            "ticks": ""
           }
          },
          "title": {
           "x": 0.05
          },
          "xaxis": {
           "automargin": true,
           "gridcolor": "white",
           "linecolor": "white",
           "ticks": "",
           "title": {
            "standoff": 15
           },
           "zerolinecolor": "white",
           "zerolinewidth": 2
          },
          "yaxis": {
           "automargin": true,
           "gridcolor": "white",
           "linecolor": "white",
           "ticks": "",
           "title": {
            "standoff": 15
           },
           "zerolinecolor": "white",
           "zerolinewidth": 2
          }
         }
        },
        "title": {
         "text": "Оптимизация времени исполнения проекта Raytracer"
        },
        "xaxis": {
         "title": {
          "text": "Время оптимизации (дата)"
         }
        },
        "yaxis": {
         "title": {
          "text": "Время исполнения (секунды)"
         }
        }
       }
      },
      "text/html": [
       "<div>                            <div id=\"31dc1526-6906-402c-9b5d-da5f7276f0ee\" class=\"plotly-graph-div\" style=\"height:525px; width:100%;\"></div>            <script type=\"text/javascript\">                require([\"plotly\"], function(Plotly) {                    window.PLOTLYENV=window.PLOTLYENV || {};                                    if (document.getElementById(\"31dc1526-6906-402c-9b5d-da5f7276f0ee\")) {                    Plotly.newPlot(                        \"31dc1526-6906-402c-9b5d-da5f7276f0ee\",                        [{\"error_y\":{\"array\":[0.0050000000000000044,0.0,0.0,0.0,0.0],\"type\":\"data\",\"visible\":true},\"name\":\"run time\",\"x\":[\"2022-04-18T23:37:58.054864\",\"2022-04-18T23:38:30.187727\",\"2022-04-18T23:38:55.942164\",\"2022-04-18T23:58:26.082718\",\"2022-04-19T00:19:09.399236\"],\"y\":[0.295,0.19,0.15,0.15,0.14],\"type\":\"scatter\"},{\"line\":{\"color\":\"green\",\"dash\":\"dashdot\",\"width\":5},\"name\":\"gcc -O3\",\"x\":[\"2022-04-18T23:37:58.054864\",\"2022-04-19T00:19:09.399236\"],\"y\":[0.16,0.16],\"type\":\"scatter\"},{\"line\":{\"color\":\"red\",\"dash\":\"dashdot\",\"width\":2},\"name\":\"gcc -O2\",\"x\":[\"2022-04-18T23:37:58.054864\",\"2022-04-19T00:19:09.399236\"],\"y\":[0.16,0.16],\"type\":\"scatter\"},{\"line\":{\"color\":\"black\",\"dash\":\"dashdot\",\"width\":2},\"name\":\"gcc -O1\",\"x\":[\"2022-04-18T23:37:58.054864\",\"2022-04-19T00:19:09.399236\"],\"y\":[0.18,0.18],\"type\":\"scatter\"}],                        {\"title\":{\"text\":\"\\u041e\\u043f\\u0442\\u0438\\u043c\\u0438\\u0437\\u0430\\u0446\\u0438\\u044f \\u0432\\u0440\\u0435\\u043c\\u0435\\u043d\\u0438 \\u0438\\u0441\\u043f\\u043e\\u043b\\u043d\\u0435\\u043d\\u0438\\u044f \\u043f\\u0440\\u043e\\u0435\\u043a\\u0442\\u0430 Raytracer\"},\"xaxis\":{\"title\":{\"text\":\"\\u0412\\u0440\\u0435\\u043c\\u044f \\u043e\\u043f\\u0442\\u0438\\u043c\\u0438\\u0437\\u0430\\u0446\\u0438\\u0438 (\\u0434\\u0430\\u0442\\u0430)\"}},\"yaxis\":{\"title\":{\"text\":\"\\u0412\\u0440\\u0435\\u043c\\u044f \\u0438\\u0441\\u043f\\u043e\\u043b\\u043d\\u0435\\u043d\\u0438\\u044f (\\u0441\\u0435\\u043a\\u0443\\u043d\\u0434\\u044b)\"}},\"template\":{\"data\":{\"histogram2dcontour\":[{\"type\":\"histogram2dcontour\",\"colorbar\":{\"outlinewidth\":0,\"ticks\":\"\"},\"colorscale\":[[0.0,\"#0d0887\"],[0.1111111111111111,\"#46039f\"],[0.2222222222222222,\"#7201a8\"],[0.3333333333333333,\"#9c179e\"],[0.4444444444444444,\"#bd3786\"],[0.5555555555555556,\"#d8576b\"],[0.6666666666666666,\"#ed7953\"],[0.7777777777777778,\"#fb9f3a\"],[0.8888888888888888,\"#fdca26\"],[1.0,\"#f0f921\"]]}],\"choropleth\":[{\"type\":\"choropleth\",\"colorbar\":{\"outlinewidth\":0,\"ticks\":\"\"}}],\"histogram2d\":[{\"type\":\"histogram2d\",\"colorbar\":{\"outlinewidth\":0,\"ticks\":\"\"},\"colorscale\":[[0.0,\"#0d0887\"],[0.1111111111111111,\"#46039f\"],[0.2222222222222222,\"#7201a8\"],[0.3333333333333333,\"#9c179e\"],[0.4444444444444444,\"#bd3786\"],[0.5555555555555556,\"#d8576b\"],[0.6666666666666666,\"#ed7953\"],[0.7777777777777778,\"#fb9f3a\"],[0.8888888888888888,\"#fdca26\"],[1.0,\"#f0f921\"]]}],\"heatmap\":[{\"type\":\"heatmap\",\"colorbar\":{\"outlinewidth\":0,\"ticks\":\"\"},\"colorscale\":[[0.0,\"#0d0887\"],[0.1111111111111111,\"#46039f\"],[0.2222222222222222,\"#7201a8\"],[0.3333333333333333,\"#9c179e\"],[0.4444444444444444,\"#bd3786\"],[0.5555555555555556,\"#d8576b\"],[0.6666666666666666,\"#ed7953\"],[0.7777777777777778,\"#fb9f3a\"],[0.8888888888888888,\"#fdca26\"],[1.0,\"#f0f921\"]]}],\"heatmapgl\":[{\"type\":\"heatmapgl\",\"colorbar\":{\"outlinewidth\":0,\"ticks\":\"\"},\"colorscale\":[[0.0,\"#0d0887\"],[0.1111111111111111,\"#46039f\"],[0.2222222222222222,\"#7201a8\"],[0.3333333333333333,\"#9c179e\"],[0.4444444444444444,\"#bd3786\"],[0.5555555555555556,\"#d8576b\"],[0.6666666666666666,\"#ed7953\"],[0.7777777777777778,\"#fb9f3a\"],[0.8888888888888888,\"#fdca26\"],[1.0,\"#f0f921\"]]}],\"contourcarpet\":[{\"type\":\"contourcarpet\",\"colorbar\":{\"outlinewidth\":0,\"ticks\":\"\"}}],\"contour\":[{\"type\":\"contour\",\"colorbar\":{\"outlinewidth\":0,\"ticks\":\"\"},\"colorscale\":[[0.0,\"#0d0887\"],[0.1111111111111111,\"#46039f\"],[0.2222222222222222,\"#7201a8\"],[0.3333333333333333,\"#9c179e\"],[0.4444444444444444,\"#bd3786\"],[0.5555555555555556,\"#d8576b\"],[0.6666666666666666,\"#ed7953\"],[0.7777777777777778,\"#fb9f3a\"],[0.8888888888888888,\"#fdca26\"],[1.0,\"#f0f921\"]]}],\"surface\":[{\"type\":\"surface\",\"colorbar\":{\"outlinewidth\":0,\"ticks\":\"\"},\"colorscale\":[[0.0,\"#0d0887\"],[0.1111111111111111,\"#46039f\"],[0.2222222222222222,\"#7201a8\"],[0.3333333333333333,\"#9c179e\"],[0.4444444444444444,\"#bd3786\"],[0.5555555555555556,\"#d8576b\"],[0.6666666666666666,\"#ed7953\"],[0.7777777777777778,\"#fb9f3a\"],[0.8888888888888888,\"#fdca26\"],[1.0,\"#f0f921\"]]}],\"mesh3d\":[{\"type\":\"mesh3d\",\"colorbar\":{\"outlinewidth\":0,\"ticks\":\"\"}}],\"scatter\":[{\"fillpattern\":{\"fillmode\":\"overlay\",\"size\":10,\"solidity\":0.2},\"type\":\"scatter\"}],\"parcoords\":[{\"type\":\"parcoords\",\"line\":{\"colorbar\":{\"outlinewidth\":0,\"ticks\":\"\"}}}],\"scatterpolargl\":[{\"type\":\"scatterpolargl\",\"marker\":{\"colorbar\":{\"outlinewidth\":0,\"ticks\":\"\"}}}],\"bar\":[{\"error_x\":{\"color\":\"#2a3f5f\"},\"error_y\":{\"color\":\"#2a3f5f\"},\"marker\":{\"line\":{\"color\":\"#E5ECF6\",\"width\":0.5},\"pattern\":{\"fillmode\":\"overlay\",\"size\":10,\"solidity\":0.2}},\"type\":\"bar\"}],\"scattergeo\":[{\"type\":\"scattergeo\",\"marker\":{\"colorbar\":{\"outlinewidth\":0,\"ticks\":\"\"}}}],\"scatterpolar\":[{\"type\":\"scatterpolar\",\"marker\":{\"colorbar\":{\"outlinewidth\":0,\"ticks\":\"\"}}}],\"histogram\":[{\"marker\":{\"pattern\":{\"fillmode\":\"overlay\",\"size\":10,\"solidity\":0.2}},\"type\":\"histogram\"}],\"scattergl\":[{\"type\":\"scattergl\",\"marker\":{\"colorbar\":{\"outlinewidth\":0,\"ticks\":\"\"}}}],\"scatter3d\":[{\"type\":\"scatter3d\",\"line\":{\"colorbar\":{\"outlinewidth\":0,\"ticks\":\"\"}},\"marker\":{\"colorbar\":{\"outlinewidth\":0,\"ticks\":\"\"}}}],\"scattermapbox\":[{\"type\":\"scattermapbox\",\"marker\":{\"colorbar\":{\"outlinewidth\":0,\"ticks\":\"\"}}}],\"scatterternary\":[{\"type\":\"scatterternary\",\"marker\":{\"colorbar\":{\"outlinewidth\":0,\"ticks\":\"\"}}}],\"scattercarpet\":[{\"type\":\"scattercarpet\",\"marker\":{\"colorbar\":{\"outlinewidth\":0,\"ticks\":\"\"}}}],\"carpet\":[{\"aaxis\":{\"endlinecolor\":\"#2a3f5f\",\"gridcolor\":\"white\",\"linecolor\":\"white\",\"minorgridcolor\":\"white\",\"startlinecolor\":\"#2a3f5f\"},\"baxis\":{\"endlinecolor\":\"#2a3f5f\",\"gridcolor\":\"white\",\"linecolor\":\"white\",\"minorgridcolor\":\"white\",\"startlinecolor\":\"#2a3f5f\"},\"type\":\"carpet\"}],\"table\":[{\"cells\":{\"fill\":{\"color\":\"#EBF0F8\"},\"line\":{\"color\":\"white\"}},\"header\":{\"fill\":{\"color\":\"#C8D4E3\"},\"line\":{\"color\":\"white\"}},\"type\":\"table\"}],\"barpolar\":[{\"marker\":{\"line\":{\"color\":\"#E5ECF6\",\"width\":0.5},\"pattern\":{\"fillmode\":\"overlay\",\"size\":10,\"solidity\":0.2}},\"type\":\"barpolar\"}],\"pie\":[{\"automargin\":true,\"type\":\"pie\"}]},\"layout\":{\"autotypenumbers\":\"strict\",\"colorway\":[\"#636efa\",\"#EF553B\",\"#00cc96\",\"#ab63fa\",\"#FFA15A\",\"#19d3f3\",\"#FF6692\",\"#B6E880\",\"#FF97FF\",\"#FECB52\"],\"font\":{\"color\":\"#2a3f5f\"},\"hovermode\":\"closest\",\"hoverlabel\":{\"align\":\"left\"},\"paper_bgcolor\":\"white\",\"plot_bgcolor\":\"#E5ECF6\",\"polar\":{\"bgcolor\":\"#E5ECF6\",\"angularaxis\":{\"gridcolor\":\"white\",\"linecolor\":\"white\",\"ticks\":\"\"},\"radialaxis\":{\"gridcolor\":\"white\",\"linecolor\":\"white\",\"ticks\":\"\"}},\"ternary\":{\"bgcolor\":\"#E5ECF6\",\"aaxis\":{\"gridcolor\":\"white\",\"linecolor\":\"white\",\"ticks\":\"\"},\"baxis\":{\"gridcolor\":\"white\",\"linecolor\":\"white\",\"ticks\":\"\"},\"caxis\":{\"gridcolor\":\"white\",\"linecolor\":\"white\",\"ticks\":\"\"}},\"coloraxis\":{\"colorbar\":{\"outlinewidth\":0,\"ticks\":\"\"}},\"colorscale\":{\"sequential\":[[0.0,\"#0d0887\"],[0.1111111111111111,\"#46039f\"],[0.2222222222222222,\"#7201a8\"],[0.3333333333333333,\"#9c179e\"],[0.4444444444444444,\"#bd3786\"],[0.5555555555555556,\"#d8576b\"],[0.6666666666666666,\"#ed7953\"],[0.7777777777777778,\"#fb9f3a\"],[0.8888888888888888,\"#fdca26\"],[1.0,\"#f0f921\"]],\"sequentialminus\":[[0.0,\"#0d0887\"],[0.1111111111111111,\"#46039f\"],[0.2222222222222222,\"#7201a8\"],[0.3333333333333333,\"#9c179e\"],[0.4444444444444444,\"#bd3786\"],[0.5555555555555556,\"#d8576b\"],[0.6666666666666666,\"#ed7953\"],[0.7777777777777778,\"#fb9f3a\"],[0.8888888888888888,\"#fdca26\"],[1.0,\"#f0f921\"]],\"diverging\":[[0,\"#8e0152\"],[0.1,\"#c51b7d\"],[0.2,\"#de77ae\"],[0.3,\"#f1b6da\"],[0.4,\"#fde0ef\"],[0.5,\"#f7f7f7\"],[0.6,\"#e6f5d0\"],[0.7,\"#b8e186\"],[0.8,\"#7fbc41\"],[0.9,\"#4d9221\"],[1,\"#276419\"]]},\"xaxis\":{\"gridcolor\":\"white\",\"linecolor\":\"white\",\"ticks\":\"\",\"title\":{\"standoff\":15},\"zerolinecolor\":\"white\",\"automargin\":true,\"zerolinewidth\":2},\"yaxis\":{\"gridcolor\":\"white\",\"linecolor\":\"white\",\"ticks\":\"\",\"title\":{\"standoff\":15},\"zerolinecolor\":\"white\",\"automargin\":true,\"zerolinewidth\":2},\"scene\":{\"xaxis\":{\"backgroundcolor\":\"#E5ECF6\",\"gridcolor\":\"white\",\"linecolor\":\"white\",\"showbackground\":true,\"ticks\":\"\",\"zerolinecolor\":\"white\",\"gridwidth\":2},\"yaxis\":{\"backgroundcolor\":\"#E5ECF6\",\"gridcolor\":\"white\",\"linecolor\":\"white\",\"showbackground\":true,\"ticks\":\"\",\"zerolinecolor\":\"white\",\"gridwidth\":2},\"zaxis\":{\"backgroundcolor\":\"#E5ECF6\",\"gridcolor\":\"white\",\"linecolor\":\"white\",\"showbackground\":true,\"ticks\":\"\",\"zerolinecolor\":\"white\",\"gridwidth\":2}},\"shapedefaults\":{\"line\":{\"color\":\"#2a3f5f\"}},\"annotationdefaults\":{\"arrowcolor\":\"#2a3f5f\",\"arrowhead\":0,\"arrowwidth\":1},\"geo\":{\"bgcolor\":\"white\",\"landcolor\":\"#E5ECF6\",\"subunitcolor\":\"white\",\"showland\":true,\"showlakes\":true,\"lakecolor\":\"white\"},\"title\":{\"x\":0.05},\"mapbox\":{\"style\":\"light\"}}}},                        {\"responsive\": true}                    ).then(function(){\n",
       "                            \n",
       "var gd = document.getElementById('31dc1526-6906-402c-9b5d-da5f7276f0ee');\n",
       "var x = new MutationObserver(function (mutations, observer) {{\n",
       "        var display = window.getComputedStyle(gd).display;\n",
       "        if (!display || display === 'none') {{\n",
       "            console.log([gd, 'removed!']);\n",
       "            Plotly.purge(gd);\n",
       "            observer.disconnect();\n",
       "        }}\n",
       "}});\n",
       "\n",
       "// Listen for the removal of the full notebook cells\n",
       "var notebookContainer = gd.closest('#notebook-container');\n",
       "if (notebookContainer) {{\n",
       "    x.observe(notebookContainer, {childList: true});\n",
       "}}\n",
       "\n",
       "// Listen for the clearing of the current output cell\n",
       "var outputEl = gd.closest('.output');\n",
       "if (outputEl) {{\n",
       "    x.observe(outputEl, {childList: true});\n",
       "}}\n",
       "\n",
       "                        })                };                });            </script>        </div>"
      ]
     },
     "metadata": {},
     "output_type": "display_data"
    }
   ],
   "source": [
    "layout = dict(\n",
    "    title='Оптимизация времени исполнения проекта Raytracer',\n",
    "    xaxis=dict(title='Время оптимизации (дата)'),\n",
    "    yaxis=dict(title='Время исполнения (секунды)')\n",
    ")\n",
    "\n",
    "fig = go.Figure(layout=layout)\n",
    "\n",
    "fig.add_scatter(\n",
    "    x=ddf['finish_time'], \n",
    "    y=ddf['objective_result'], \n",
    "    name='run time',\n",
    "    error_y=dict( type='data',array=ddf['std'],visible=True)\n",
    ")\n",
    "\n",
    "o3x = baselines['O3']['time']\n",
    "o2x = baselines['O2']['time']\n",
    "o1x = baselines['O1']['time']\n",
    "\n",
    "start_time = ddf.iloc[0]['finish_time']\n",
    "finish_time = ddf.iloc[-1]['finish_time']\n",
    "\n",
    "fig.add_trace(\n",
    "    go.Scatter(\n",
    "        x=[start_time, finish_time],\n",
    "        y=[o3x, o3x], \n",
    "        line={\n",
    "            'color': 'green',\n",
    "            'width': 5,\n",
    "            'dash': 'dashdot',\n",
    "        }, name='gcc -O3'\n",
    "    )\n",
    ")\n",
    "fig.add_trace(\n",
    "    go.Scatter(\n",
    "        x=[start_time, finish_time],\n",
    "        y=[o2x, o2x], \n",
    "        line={\n",
    "            'color': 'red',\n",
    "            'width': 2,\n",
    "            'dash': 'dashdot',\n",
    "        }, name='gcc -O2'\n",
    "    )\n",
    ")\n",
    "fig.add_trace(\n",
    "    go.Scatter(\n",
    "        x=[start_time, finish_time],\n",
    "        y=[o1x, o1x], \n",
    "        line={\n",
    "            'color': 'black',\n",
    "            'width': 2,\n",
    "            'dash': 'dashdot',\n",
    "        }, name='gcc -O1'\n",
    "    ),\n",
    ")\n",
    "fig.show()"
   ]
  },
  {
   "cell_type": "code",
   "execution_count": 27,
   "id": "246e17cc",
   "metadata": {},
   "outputs": [
    {
     "data": {
      "text/html": [
       "<div>\n",
       "<style scoped>\n",
       "    .dataframe tbody tr th:only-of-type {\n",
       "        vertical-align: middle;\n",
       "    }\n",
       "\n",
       "    .dataframe tbody tr th {\n",
       "        vertical-align: top;\n",
       "    }\n",
       "\n",
       "    .dataframe thead th {\n",
       "        text-align: right;\n",
       "    }\n",
       "</style>\n",
       "<table border=\"1\" class=\"dataframe\">\n",
       "  <thead>\n",
       "    <tr style=\"text-align: right;\">\n",
       "      <th></th>\n",
       "      <th>finish_time</th>\n",
       "      <th>objective_result</th>\n",
       "      <th>std</th>\n",
       "    </tr>\n",
       "  </thead>\n",
       "  <tbody>\n",
       "    <tr>\n",
       "      <th>4</th>\n",
       "      <td>2022-04-19 00:19:09.399236</td>\n",
       "      <td>0.14</td>\n",
       "      <td>0.0</td>\n",
       "    </tr>\n",
       "  </tbody>\n",
       "</table>\n",
       "</div>"
      ],
      "text/plain": [
       "                  finish_time objective_result  std\n",
       "4  2022-04-19 00:19:09.399236             0.14  0.0"
      ]
     },
     "execution_count": 27,
     "metadata": {},
     "output_type": "execute_result"
    }
   ],
   "source": [
    "ddf.iloc[[-1]]"
   ]
  },
  {
   "cell_type": "code",
   "execution_count": 28,
   "id": "1f7c514a",
   "metadata": {},
   "outputs": [
    {
     "data": {
      "text/plain": [
       "(0    2022-04-18 23:37:58.054864\n",
       " Name: finish_time, dtype: object,\n",
       " 0.16)"
      ]
     },
     "execution_count": 28,
     "metadata": {},
     "output_type": "execute_result"
    }
   ],
   "source": [
    "ddf.iloc[[0]]['finish_time'], baselines['O3']['time']\n"
   ]
  },
  {
   "cell_type": "code",
   "execution_count": 47,
   "id": "300ddafc",
   "metadata": {},
   "outputs": [
    {
     "data": {
      "text/plain": [
       "(6    2022-04-16 20:48:54.899843\n",
       " Name: finish_time, dtype: object,\n",
       " 0.15599999999999997)"
      ]
     },
     "execution_count": 47,
     "metadata": {},
     "output_type": "execute_result"
    }
   ],
   "source": [
    "ddf.iloc[[-1]]['finish_time'], baselines['O3']['time']"
   ]
  },
  {
   "cell_type": "code",
   "execution_count": 55,
   "id": "2343ccc1",
   "metadata": {},
   "outputs": [
    {
     "data": {
      "text/plain": [
       "Timestamp('2022-04-16 18:33:23.236027')"
      ]
     },
     "execution_count": 55,
     "metadata": {},
     "output_type": "execute_result"
    }
   ],
   "source": [
    "ddf.iloc[[0]]['finish_time'][0]"
   ]
  },
  {
   "cell_type": "code",
   "execution_count": 61,
   "id": "d637de74",
   "metadata": {},
   "outputs": [
    {
     "data": {
      "text/plain": [
       "Timestamp('2022-04-16 20:48:54.899843')"
      ]
     },
     "execution_count": 61,
     "metadata": {},
     "output_type": "execute_result"
    }
   ],
   "source": [
    "ddf.iloc[-1]['finish_time']"
   ]
  },
  {
   "cell_type": "code",
   "execution_count": null,
   "id": "6a4c32ab",
   "metadata": {},
   "outputs": [],
   "source": []
  }
 ],
 "metadata": {
  "kernelspec": {
   "display_name": "Python 3 (ipykernel)",
   "language": "python",
   "name": "python3"
  },
  "language_info": {
   "codemirror_mode": {
    "name": "ipython",
    "version": 3
   },
   "file_extension": ".py",
   "mimetype": "text/x-python",
   "name": "python",
   "nbconvert_exporter": "python",
   "pygments_lexer": "ipython3",
   "version": "3.9.7"
  }
 },
 "nbformat": 4,
 "nbformat_minor": 5
}
