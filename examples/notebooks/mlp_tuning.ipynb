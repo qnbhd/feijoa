{
 "cells": [
  {
   "cell_type": "code",
   "execution_count": 5,
   "id": "fe65bdfd",
   "metadata": {},
   "outputs": [
    {
     "ename": "ModuleNotFoundError",
     "evalue": "No module named 'examples'",
     "output_type": "error",
     "traceback": [
      "\u001b[0;31m---------------------------------------------------------------------------\u001b[0m",
      "\u001b[0;31mModuleNotFoundError\u001b[0m                       Traceback (most recent call last)",
      "\u001b[0;32m/var/folders/gp/1qc74rb50b9cp66q8cxshnwh0000gn/T/ipykernel_33380/2905341695.py\u001b[0m in \u001b[0;36m<module>\u001b[0;34m\u001b[0m\n\u001b[0;32m----> 1\u001b[0;31m \u001b[0;32mimport\u001b[0m \u001b[0mexamples\u001b[0m\u001b[0;34m\u001b[0m\u001b[0;34m\u001b[0m\u001b[0m\n\u001b[0m",
      "\u001b[0;31mModuleNotFoundError\u001b[0m: No module named 'examples'"
     ]
    }
   ],
   "source": [
    "import examples"
   ]
  },
  {
   "cell_type": "code",
   "execution_count": 2,
   "id": "66c1ee54",
   "metadata": {},
   "outputs": [
    {
     "name": "stderr",
     "output_type": "stream",
     "text": [
      "/Users/qnbhd/Development/feijoa/feijoa/search/algorithms/skopt.py:60: UserWarning: Now per-emit count in skopt technique implemented not correctly. Per-emit count is property, return default value (1).\n",
      "  warnings.warn('Now per-emit count in skopt technique implemented not correctly.'\n"
     ]
    }
   ],
   "source": [
    "job = run_training()"
   ]
  },
  {
   "cell_type": "code",
   "execution_count": 3,
   "id": "01015d6a",
   "metadata": {},
   "outputs": [],
   "source": [
    "df = job.dataframe"
   ]
  },
  {
   "cell_type": "code",
   "execution_count": 4,
   "id": "efe33c2f",
   "metadata": {},
   "outputs": [
    {
     "data": {
      "text/html": [
       "<div>\n",
       "<style scoped>\n",
       "    .dataframe tbody tr th:only-of-type {\n",
       "        vertical-align: middle;\n",
       "    }\n",
       "\n",
       "    .dataframe tbody tr th {\n",
       "        vertical-align: top;\n",
       "    }\n",
       "\n",
       "    .dataframe thead th {\n",
       "        text-align: right;\n",
       "    }\n",
       "</style>\n",
       "<table border=\"1\" class=\"dataframe\">\n",
       "  <thead>\n",
       "    <tr style=\"text-align: right;\">\n",
       "      <th></th>\n",
       "      <th>id</th>\n",
       "      <th>job_id</th>\n",
       "      <th>state</th>\n",
       "      <th>hash</th>\n",
       "      <th>objective_result</th>\n",
       "      <th>requestor</th>\n",
       "      <th>metrics</th>\n",
       "      <th>create_time</th>\n",
       "      <th>finish_time</th>\n",
       "      <th>h1</th>\n",
       "      <th>h2</th>\n",
       "      <th>alpha</th>\n",
       "    </tr>\n",
       "  </thead>\n",
       "  <tbody>\n",
       "    <tr>\n",
       "      <th>0</th>\n",
       "      <td>1</td>\n",
       "      <td>2</td>\n",
       "      <td>ExperimentState.OK</td>\n",
       "      <td>7caf44901d84352dfc8f8e51e9b002598a2945cbbdc140...</td>\n",
       "      <td>3.000000</td>\n",
       "      <td>SkoptBayesianAlgorithm</td>\n",
       "      <td>None</td>\n",
       "      <td>2022-04-22 14:45:33.243009</td>\n",
       "      <td>2022-04-22 14:46:12.131685</td>\n",
       "      <td>62</td>\n",
       "      <td>37</td>\n",
       "      <td>9.891799</td>\n",
       "    </tr>\n",
       "    <tr>\n",
       "      <th>1</th>\n",
       "      <td>2</td>\n",
       "      <td>2</td>\n",
       "      <td>ExperimentState.OK</td>\n",
       "      <td>a303618bfef660baac793fedfd93ac68763bd8b0bdc140...</td>\n",
       "      <td>3.000000</td>\n",
       "      <td>SkoptBayesianAlgorithm</td>\n",
       "      <td>None</td>\n",
       "      <td>2022-04-22 14:46:12.137985</td>\n",
       "      <td>2022-04-22 14:46:49.500053</td>\n",
       "      <td>50</td>\n",
       "      <td>60</td>\n",
       "      <td>16.638227</td>\n",
       "    </tr>\n",
       "    <tr>\n",
       "      <th>2</th>\n",
       "      <td>3</td>\n",
       "      <td>2</td>\n",
       "      <td>ExperimentState.OK</td>\n",
       "      <td>7a33bf88bc036e56e8c6acaad427345ba95f892d6b8d5f...</td>\n",
       "      <td>1.333329</td>\n",
       "      <td>SkoptBayesianAlgorithm</td>\n",
       "      <td>None</td>\n",
       "      <td>2022-04-22 14:46:49.503423</td>\n",
       "      <td>2022-04-22 14:47:11.252818</td>\n",
       "      <td>30</td>\n",
       "      <td>49</td>\n",
       "      <td>0.503435</td>\n",
       "    </tr>\n",
       "    <tr>\n",
       "      <th>3</th>\n",
       "      <td>4</td>\n",
       "      <td>2</td>\n",
       "      <td>ExperimentState.OK</td>\n",
       "      <td>3cc5d4339c7fb67d5527fb1a5c085c4be70d0116f8686d...</td>\n",
       "      <td>3.000000</td>\n",
       "      <td>SkoptBayesianAlgorithm</td>\n",
       "      <td>None</td>\n",
       "      <td>2022-04-22 14:47:11.256022</td>\n",
       "      <td>2022-04-22 14:47:40.025904</td>\n",
       "      <td>59</td>\n",
       "      <td>9</td>\n",
       "      <td>5.311323</td>\n",
       "    </tr>\n",
       "    <tr>\n",
       "      <th>4</th>\n",
       "      <td>5</td>\n",
       "      <td>2</td>\n",
       "      <td>ExperimentState.OK</td>\n",
       "      <td>32c6069f5dca5dd1321c3aee3ede48cf23003f9bbdc140...</td>\n",
       "      <td>3.000000</td>\n",
       "      <td>SkoptBayesianAlgorithm</td>\n",
       "      <td>None</td>\n",
       "      <td>2022-04-22 14:47:40.031249</td>\n",
       "      <td>2022-04-22 14:48:08.410520</td>\n",
       "      <td>43</td>\n",
       "      <td>41</td>\n",
       "      <td>3.007557</td>\n",
       "    </tr>\n",
       "    <tr>\n",
       "      <th>...</th>\n",
       "      <td>...</td>\n",
       "      <td>...</td>\n",
       "      <td>...</td>\n",
       "      <td>...</td>\n",
       "      <td>...</td>\n",
       "      <td>...</td>\n",
       "      <td>...</td>\n",
       "      <td>...</td>\n",
       "      <td>...</td>\n",
       "      <td>...</td>\n",
       "      <td>...</td>\n",
       "      <td>...</td>\n",
       "    </tr>\n",
       "    <tr>\n",
       "      <th>95</th>\n",
       "      <td>96</td>\n",
       "      <td>2</td>\n",
       "      <td>ExperimentState.OK</td>\n",
       "      <td>ed16b0da2fa7b115b57e41c1f873dff5ca03e847a86b86...</td>\n",
       "      <td>0.000489</td>\n",
       "      <td>SkoptBayesianAlgorithm</td>\n",
       "      <td>None</td>\n",
       "      <td>2022-04-22 15:08:37.391784</td>\n",
       "      <td>2022-04-22 15:08:46.979262</td>\n",
       "      <td>15</td>\n",
       "      <td>24</td>\n",
       "      <td>0.412893</td>\n",
       "    </tr>\n",
       "    <tr>\n",
       "      <th>96</th>\n",
       "      <td>97</td>\n",
       "      <td>2</td>\n",
       "      <td>ExperimentState.OK</td>\n",
       "      <td>a590f59d1b325f7e71b9c6e81a7626e997a4e999ce6eb4...</td>\n",
       "      <td>0.999996</td>\n",
       "      <td>SkoptBayesianAlgorithm</td>\n",
       "      <td>None</td>\n",
       "      <td>2022-04-22 15:08:47.104661</td>\n",
       "      <td>2022-04-22 15:09:03.179579</td>\n",
       "      <td>25</td>\n",
       "      <td>29</td>\n",
       "      <td>0.397380</td>\n",
       "    </tr>\n",
       "    <tr>\n",
       "      <th>97</th>\n",
       "      <td>98</td>\n",
       "      <td>2</td>\n",
       "      <td>ExperimentState.OK</td>\n",
       "      <td>c25c98d7ef3b862978f934defbb2cc772e2a43c956bf3e...</td>\n",
       "      <td>0.010913</td>\n",
       "      <td>SkoptBayesianAlgorithm</td>\n",
       "      <td>None</td>\n",
       "      <td>2022-04-22 15:09:03.315009</td>\n",
       "      <td>2022-04-22 15:09:16.856609</td>\n",
       "      <td>22</td>\n",
       "      <td>25</td>\n",
       "      <td>0.379648</td>\n",
       "    </tr>\n",
       "    <tr>\n",
       "      <th>98</th>\n",
       "      <td>99</td>\n",
       "      <td>2</td>\n",
       "      <td>ExperimentState.OK</td>\n",
       "      <td>09fc31fcb9d4e854cf631c571043852cb70742780018ea...</td>\n",
       "      <td>0.001926</td>\n",
       "      <td>SkoptBayesianAlgorithm</td>\n",
       "      <td>None</td>\n",
       "      <td>2022-04-22 15:09:16.984049</td>\n",
       "      <td>2022-04-22 15:09:30.080063</td>\n",
       "      <td>18</td>\n",
       "      <td>36</td>\n",
       "      <td>0.186154</td>\n",
       "    </tr>\n",
       "    <tr>\n",
       "      <th>99</th>\n",
       "      <td>100</td>\n",
       "      <td>2</td>\n",
       "      <td>ExperimentState.OK</td>\n",
       "      <td>e5fce5430293bab8050e3a3477a2aa5a15fc83d3ea0bfd...</td>\n",
       "      <td>0.918649</td>\n",
       "      <td>SkoptBayesianAlgorithm</td>\n",
       "      <td>None</td>\n",
       "      <td>2022-04-22 15:09:30.212741</td>\n",
       "      <td>2022-04-22 15:09:45.261882</td>\n",
       "      <td>23</td>\n",
       "      <td>32</td>\n",
       "      <td>0.332437</td>\n",
       "    </tr>\n",
       "  </tbody>\n",
       "</table>\n",
       "<p>100 rows × 12 columns</p>\n",
       "</div>"
      ],
      "text/plain": [
       "     id  job_id               state  \\\n",
       "0     1       2  ExperimentState.OK   \n",
       "1     2       2  ExperimentState.OK   \n",
       "2     3       2  ExperimentState.OK   \n",
       "3     4       2  ExperimentState.OK   \n",
       "4     5       2  ExperimentState.OK   \n",
       "..  ...     ...                 ...   \n",
       "95   96       2  ExperimentState.OK   \n",
       "96   97       2  ExperimentState.OK   \n",
       "97   98       2  ExperimentState.OK   \n",
       "98   99       2  ExperimentState.OK   \n",
       "99  100       2  ExperimentState.OK   \n",
       "\n",
       "                                                 hash  objective_result  \\\n",
       "0   7caf44901d84352dfc8f8e51e9b002598a2945cbbdc140...          3.000000   \n",
       "1   a303618bfef660baac793fedfd93ac68763bd8b0bdc140...          3.000000   \n",
       "2   7a33bf88bc036e56e8c6acaad427345ba95f892d6b8d5f...          1.333329   \n",
       "3   3cc5d4339c7fb67d5527fb1a5c085c4be70d0116f8686d...          3.000000   \n",
       "4   32c6069f5dca5dd1321c3aee3ede48cf23003f9bbdc140...          3.000000   \n",
       "..                                                ...               ...   \n",
       "95  ed16b0da2fa7b115b57e41c1f873dff5ca03e847a86b86...          0.000489   \n",
       "96  a590f59d1b325f7e71b9c6e81a7626e997a4e999ce6eb4...          0.999996   \n",
       "97  c25c98d7ef3b862978f934defbb2cc772e2a43c956bf3e...          0.010913   \n",
       "98  09fc31fcb9d4e854cf631c571043852cb70742780018ea...          0.001926   \n",
       "99  e5fce5430293bab8050e3a3477a2aa5a15fc83d3ea0bfd...          0.918649   \n",
       "\n",
       "                 requestor metrics                create_time  \\\n",
       "0   SkoptBayesianAlgorithm    None 2022-04-22 14:45:33.243009   \n",
       "1   SkoptBayesianAlgorithm    None 2022-04-22 14:46:12.137985   \n",
       "2   SkoptBayesianAlgorithm    None 2022-04-22 14:46:49.503423   \n",
       "3   SkoptBayesianAlgorithm    None 2022-04-22 14:47:11.256022   \n",
       "4   SkoptBayesianAlgorithm    None 2022-04-22 14:47:40.031249   \n",
       "..                     ...     ...                        ...   \n",
       "95  SkoptBayesianAlgorithm    None 2022-04-22 15:08:37.391784   \n",
       "96  SkoptBayesianAlgorithm    None 2022-04-22 15:08:47.104661   \n",
       "97  SkoptBayesianAlgorithm    None 2022-04-22 15:09:03.315009   \n",
       "98  SkoptBayesianAlgorithm    None 2022-04-22 15:09:16.984049   \n",
       "99  SkoptBayesianAlgorithm    None 2022-04-22 15:09:30.212741   \n",
       "\n",
       "                  finish_time  h1  h2      alpha  \n",
       "0  2022-04-22 14:46:12.131685  62  37   9.891799  \n",
       "1  2022-04-22 14:46:49.500053  50  60  16.638227  \n",
       "2  2022-04-22 14:47:11.252818  30  49   0.503435  \n",
       "3  2022-04-22 14:47:40.025904  59   9   5.311323  \n",
       "4  2022-04-22 14:48:08.410520  43  41   3.007557  \n",
       "..                        ...  ..  ..        ...  \n",
       "95 2022-04-22 15:08:46.979262  15  24   0.412893  \n",
       "96 2022-04-22 15:09:03.179579  25  29   0.397380  \n",
       "97 2022-04-22 15:09:16.856609  22  25   0.379648  \n",
       "98 2022-04-22 15:09:30.080063  18  36   0.186154  \n",
       "99 2022-04-22 15:09:45.261882  23  32   0.332437  \n",
       "\n",
       "[100 rows x 12 columns]"
      ]
     },
     "execution_count": 4,
     "metadata": {},
     "output_type": "execute_result"
    }
   ],
   "source": [
    "df"
   ]
  },
  {
   "cell_type": "code",
   "execution_count": 5,
   "id": "35684468",
   "metadata": {},
   "outputs": [
    {
     "data": {
      "text/plain": [
       "{'h1': 15, 'h2': 24, 'alpha': 0.41289336037076524}"
      ]
     },
     "execution_count": 5,
     "metadata": {},
     "output_type": "execute_result"
    }
   ],
   "source": [
    "job.best_parameters"
   ]
  },
  {
   "cell_type": "code",
   "execution_count": 37,
   "id": "757099fa",
   "metadata": {},
   "outputs": [
    {
     "data": {
      "text/plain": [
       "0.0004888548486685224"
      ]
     },
     "execution_count": 37,
     "metadata": {},
     "output_type": "execute_result"
    }
   ],
   "source": [
    "job.best_value"
   ]
  },
  {
   "cell_type": "code",
   "execution_count": 9,
   "id": "551d2332",
   "metadata": {},
   "outputs": [
    {
     "name": "stdout",
     "output_type": "stream",
     "text": [
      "Empty DataFrame\n",
      "Columns: [finish_time, objective_result]\n",
      "Index: []\n"
     ]
    },
    {
     "name": "stderr",
     "output_type": "stream",
     "text": [
      "/var/folders/gp/1qc74rb50b9cp66q8cxshnwh0000gn/T/ipykernel_50545/1987797541.py:12: FutureWarning: The frame.append method is deprecated and will be removed from pandas in a future version. Use pandas.concat instead.\n",
      "  ddf = ddf.append({'finish_time': rows['finish_time'],\n",
      "/var/folders/gp/1qc74rb50b9cp66q8cxshnwh0000gn/T/ipykernel_50545/1987797541.py:12: FutureWarning: The frame.append method is deprecated and will be removed from pandas in a future version. Use pandas.concat instead.\n",
      "  ddf = ddf.append({'finish_time': rows['finish_time'],\n",
      "/var/folders/gp/1qc74rb50b9cp66q8cxshnwh0000gn/T/ipykernel_50545/1987797541.py:12: FutureWarning: The frame.append method is deprecated and will be removed from pandas in a future version. Use pandas.concat instead.\n",
      "  ddf = ddf.append({'finish_time': rows['finish_time'],\n",
      "/var/folders/gp/1qc74rb50b9cp66q8cxshnwh0000gn/T/ipykernel_50545/1987797541.py:12: FutureWarning: The frame.append method is deprecated and will be removed from pandas in a future version. Use pandas.concat instead.\n",
      "  ddf = ddf.append({'finish_time': rows['finish_time'],\n",
      "/var/folders/gp/1qc74rb50b9cp66q8cxshnwh0000gn/T/ipykernel_50545/1987797541.py:12: FutureWarning: The frame.append method is deprecated and will be removed from pandas in a future version. Use pandas.concat instead.\n",
      "  ddf = ddf.append({'finish_time': rows['finish_time'],\n",
      "/var/folders/gp/1qc74rb50b9cp66q8cxshnwh0000gn/T/ipykernel_50545/1987797541.py:12: FutureWarning: The frame.append method is deprecated and will be removed from pandas in a future version. Use pandas.concat instead.\n",
      "  ddf = ddf.append({'finish_time': rows['finish_time'],\n",
      "/var/folders/gp/1qc74rb50b9cp66q8cxshnwh0000gn/T/ipykernel_50545/1987797541.py:12: FutureWarning: The frame.append method is deprecated and will be removed from pandas in a future version. Use pandas.concat instead.\n",
      "  ddf = ddf.append({'finish_time': rows['finish_time'],\n",
      "/var/folders/gp/1qc74rb50b9cp66q8cxshnwh0000gn/T/ipykernel_50545/1987797541.py:12: FutureWarning: The frame.append method is deprecated and will be removed from pandas in a future version. Use pandas.concat instead.\n",
      "  ddf = ddf.append({'finish_time': rows['finish_time'],\n"
     ]
    }
   ],
   "source": [
    "import pandas as pd\n",
    "\n",
    "ddf = pd.DataFrame(columns=['finish_time', 'objective_result'])\n",
    "\n",
    "print(ddf)\n",
    "\n",
    "minima = 1e100\n",
    "\n",
    "for index, rows in df.iterrows():\n",
    "    if rows['objective_result'] <= minima:\n",
    "        minima = rows['objective_result']\n",
    "        ddf = ddf.append({'finish_time': rows['finish_time'],\n",
    "             'objective_result': rows['objective_result']}, ignore_index=True)"
   ]
  },
  {
   "cell_type": "code",
   "execution_count": 8,
   "id": "ebc9ef6a",
   "metadata": {},
   "outputs": [
    {
     "data": {
      "text/html": [
       "<div>\n",
       "<style scoped>\n",
       "    .dataframe tbody tr th:only-of-type {\n",
       "        vertical-align: middle;\n",
       "    }\n",
       "\n",
       "    .dataframe tbody tr th {\n",
       "        vertical-align: top;\n",
       "    }\n",
       "\n",
       "    .dataframe thead th {\n",
       "        text-align: right;\n",
       "    }\n",
       "</style>\n",
       "<table border=\"1\" class=\"dataframe\">\n",
       "  <thead>\n",
       "    <tr style=\"text-align: right;\">\n",
       "      <th></th>\n",
       "      <th>finish_time</th>\n",
       "      <th>objective_result</th>\n",
       "      <th>std</th>\n",
       "    </tr>\n",
       "  </thead>\n",
       "  <tbody>\n",
       "    <tr>\n",
       "      <th>0</th>\n",
       "      <td>2022-04-22 14:46:12.131685</td>\n",
       "      <td>3.0</td>\n",
       "      <td>NaN</td>\n",
       "    </tr>\n",
       "    <tr>\n",
       "      <th>1</th>\n",
       "      <td>2022-04-22 14:46:49.500053</td>\n",
       "      <td>3.0</td>\n",
       "      <td>NaN</td>\n",
       "    </tr>\n",
       "    <tr>\n",
       "      <th>2</th>\n",
       "      <td>2022-04-22 14:47:11.252818</td>\n",
       "      <td>1.333329</td>\n",
       "      <td>NaN</td>\n",
       "    </tr>\n",
       "    <tr>\n",
       "      <th>3</th>\n",
       "      <td>2022-04-22 14:50:36.806928</td>\n",
       "      <td>0.009174</td>\n",
       "      <td>NaN</td>\n",
       "    </tr>\n",
       "    <tr>\n",
       "      <th>4</th>\n",
       "      <td>2022-04-22 14:50:49.718995</td>\n",
       "      <td>0.001346</td>\n",
       "      <td>NaN</td>\n",
       "    </tr>\n",
       "    <tr>\n",
       "      <th>5</th>\n",
       "      <td>2022-04-22 14:52:53.378657</td>\n",
       "      <td>0.001226</td>\n",
       "      <td>NaN</td>\n",
       "    </tr>\n",
       "    <tr>\n",
       "      <th>6</th>\n",
       "      <td>2022-04-22 14:53:23.516759</td>\n",
       "      <td>0.000617</td>\n",
       "      <td>NaN</td>\n",
       "    </tr>\n",
       "    <tr>\n",
       "      <th>7</th>\n",
       "      <td>2022-04-22 15:08:46.979262</td>\n",
       "      <td>0.000489</td>\n",
       "      <td>NaN</td>\n",
       "    </tr>\n",
       "  </tbody>\n",
       "</table>\n",
       "</div>"
      ],
      "text/plain": [
       "                  finish_time objective_result  std\n",
       "0  2022-04-22 14:46:12.131685              3.0  NaN\n",
       "1  2022-04-22 14:46:49.500053              3.0  NaN\n",
       "2  2022-04-22 14:47:11.252818         1.333329  NaN\n",
       "3  2022-04-22 14:50:36.806928         0.009174  NaN\n",
       "4  2022-04-22 14:50:49.718995         0.001346  NaN\n",
       "5  2022-04-22 14:52:53.378657         0.001226  NaN\n",
       "6  2022-04-22 14:53:23.516759         0.000617  NaN\n",
       "7  2022-04-22 15:08:46.979262         0.000489  NaN"
      ]
     },
     "execution_count": 8,
     "metadata": {},
     "output_type": "execute_result"
    }
   ],
   "source": [
    "ddf"
   ]
  },
  {
   "cell_type": "code",
   "execution_count": 15,
   "id": "b62c1eb5",
   "metadata": {},
   "outputs": [
    {
     "data": {
      "application/vnd.plotly.v1+json": {
       "config": {
        "plotlyServerURL": "https://plot.ly"
       },
       "data": [
        {
         "name": "run time",
         "type": "scatter",
         "x": [
          "2022-04-22T14:46:12.131685",
          "2022-04-22T14:46:49.500053",
          "2022-04-22T14:47:11.252818",
          "2022-04-22T14:50:36.806928",
          "2022-04-22T14:50:49.718995",
          "2022-04-22T14:52:53.378657",
          "2022-04-22T14:53:23.516759",
          "2022-04-22T15:08:46.979262"
         ],
         "y": [
          3,
          3,
          1.3333287166863588,
          0.00917352228719595,
          0.0013463370170828002,
          0.0012256185939437964,
          0.0006173306791219588,
          0.0004888548486685224
         ]
        }
       ],
       "layout": {
        "template": {
         "data": {
          "bar": [
           {
            "error_x": {
             "color": "#2a3f5f"
            },
            "error_y": {
             "color": "#2a3f5f"
            },
            "marker": {
             "line": {
              "color": "#E5ECF6",
              "width": 0.5
             },
             "pattern": {
              "fillmode": "overlay",
              "size": 10,
              "solidity": 0.2
             }
            },
            "type": "bar"
           }
          ],
          "barpolar": [
           {
            "marker": {
             "line": {
              "color": "#E5ECF6",
              "width": 0.5
             },
             "pattern": {
              "fillmode": "overlay",
              "size": 10,
              "solidity": 0.2
             }
            },
            "type": "barpolar"
           }
          ],
          "carpet": [
           {
            "aaxis": {
             "endlinecolor": "#2a3f5f",
             "gridcolor": "white",
             "linecolor": "white",
             "minorgridcolor": "white",
             "startlinecolor": "#2a3f5f"
            },
            "baxis": {
             "endlinecolor": "#2a3f5f",
             "gridcolor": "white",
             "linecolor": "white",
             "minorgridcolor": "white",
             "startlinecolor": "#2a3f5f"
            },
            "type": "carpet"
           }
          ],
          "choropleth": [
           {
            "colorbar": {
             "outlinewidth": 0,
             "ticks": ""
            },
            "type": "choropleth"
           }
          ],
          "contour": [
           {
            "colorbar": {
             "outlinewidth": 0,
             "ticks": ""
            },
            "colorscale": [
             [
              0,
              "#0d0887"
             ],
             [
              0.1111111111111111,
              "#46039f"
             ],
             [
              0.2222222222222222,
              "#7201a8"
             ],
             [
              0.3333333333333333,
              "#9c179e"
             ],
             [
              0.4444444444444444,
              "#bd3786"
             ],
             [
              0.5555555555555556,
              "#d8576b"
             ],
             [
              0.6666666666666666,
              "#ed7953"
             ],
             [
              0.7777777777777778,
              "#fb9f3a"
             ],
             [
              0.8888888888888888,
              "#fdca26"
             ],
             [
              1,
              "#f0f921"
             ]
            ],
            "type": "contour"
           }
          ],
          "contourcarpet": [
           {
            "colorbar": {
             "outlinewidth": 0,
             "ticks": ""
            },
            "type": "contourcarpet"
           }
          ],
          "heatmap": [
           {
            "colorbar": {
             "outlinewidth": 0,
             "ticks": ""
            },
            "colorscale": [
             [
              0,
              "#0d0887"
             ],
             [
              0.1111111111111111,
              "#46039f"
             ],
             [
              0.2222222222222222,
              "#7201a8"
             ],
             [
              0.3333333333333333,
              "#9c179e"
             ],
             [
              0.4444444444444444,
              "#bd3786"
             ],
             [
              0.5555555555555556,
              "#d8576b"
             ],
             [
              0.6666666666666666,
              "#ed7953"
             ],
             [
              0.7777777777777778,
              "#fb9f3a"
             ],
             [
              0.8888888888888888,
              "#fdca26"
             ],
             [
              1,
              "#f0f921"
             ]
            ],
            "type": "heatmap"
           }
          ],
          "heatmapgl": [
           {
            "colorbar": {
             "outlinewidth": 0,
             "ticks": ""
            },
            "colorscale": [
             [
              0,
              "#0d0887"
             ],
             [
              0.1111111111111111,
              "#46039f"
             ],
             [
              0.2222222222222222,
              "#7201a8"
             ],
             [
              0.3333333333333333,
              "#9c179e"
             ],
             [
              0.4444444444444444,
              "#bd3786"
             ],
             [
              0.5555555555555556,
              "#d8576b"
             ],
             [
              0.6666666666666666,
              "#ed7953"
             ],
             [
              0.7777777777777778,
              "#fb9f3a"
             ],
             [
              0.8888888888888888,
              "#fdca26"
             ],
             [
              1,
              "#f0f921"
             ]
            ],
            "type": "heatmapgl"
           }
          ],
          "histogram": [
           {
            "marker": {
             "pattern": {
              "fillmode": "overlay",
              "size": 10,
              "solidity": 0.2
             }
            },
            "type": "histogram"
           }
          ],
          "histogram2d": [
           {
            "colorbar": {
             "outlinewidth": 0,
             "ticks": ""
            },
            "colorscale": [
             [
              0,
              "#0d0887"
             ],
             [
              0.1111111111111111,
              "#46039f"
             ],
             [
              0.2222222222222222,
              "#7201a8"
             ],
             [
              0.3333333333333333,
              "#9c179e"
             ],
             [
              0.4444444444444444,
              "#bd3786"
             ],
             [
              0.5555555555555556,
              "#d8576b"
             ],
             [
              0.6666666666666666,
              "#ed7953"
             ],
             [
              0.7777777777777778,
              "#fb9f3a"
             ],
             [
              0.8888888888888888,
              "#fdca26"
             ],
             [
              1,
              "#f0f921"
             ]
            ],
            "type": "histogram2d"
           }
          ],
          "histogram2dcontour": [
           {
            "colorbar": {
             "outlinewidth": 0,
             "ticks": ""
            },
            "colorscale": [
             [
              0,
              "#0d0887"
             ],
             [
              0.1111111111111111,
              "#46039f"
             ],
             [
              0.2222222222222222,
              "#7201a8"
             ],
             [
              0.3333333333333333,
              "#9c179e"
             ],
             [
              0.4444444444444444,
              "#bd3786"
             ],
             [
              0.5555555555555556,
              "#d8576b"
             ],
             [
              0.6666666666666666,
              "#ed7953"
             ],
             [
              0.7777777777777778,
              "#fb9f3a"
             ],
             [
              0.8888888888888888,
              "#fdca26"
             ],
             [
              1,
              "#f0f921"
             ]
            ],
            "type": "histogram2dcontour"
           }
          ],
          "mesh3d": [
           {
            "colorbar": {
             "outlinewidth": 0,
             "ticks": ""
            },
            "type": "mesh3d"
           }
          ],
          "parcoords": [
           {
            "line": {
             "colorbar": {
              "outlinewidth": 0,
              "ticks": ""
             }
            },
            "type": "parcoords"
           }
          ],
          "pie": [
           {
            "automargin": true,
            "type": "pie"
           }
          ],
          "scatter": [
           {
            "fillpattern": {
             "fillmode": "overlay",
             "size": 10,
             "solidity": 0.2
            },
            "type": "scatter"
           }
          ],
          "scatter3d": [
           {
            "line": {
             "colorbar": {
              "outlinewidth": 0,
              "ticks": ""
             }
            },
            "marker": {
             "colorbar": {
              "outlinewidth": 0,
              "ticks": ""
             }
            },
            "type": "scatter3d"
           }
          ],
          "scattercarpet": [
           {
            "marker": {
             "colorbar": {
              "outlinewidth": 0,
              "ticks": ""
             }
            },
            "type": "scattercarpet"
           }
          ],
          "scattergeo": [
           {
            "marker": {
             "colorbar": {
              "outlinewidth": 0,
              "ticks": ""
             }
            },
            "type": "scattergeo"
           }
          ],
          "scattergl": [
           {
            "marker": {
             "colorbar": {
              "outlinewidth": 0,
              "ticks": ""
             }
            },
            "type": "scattergl"
           }
          ],
          "scattermapbox": [
           {
            "marker": {
             "colorbar": {
              "outlinewidth": 0,
              "ticks": ""
             }
            },
            "type": "scattermapbox"
           }
          ],
          "scatterpolar": [
           {
            "marker": {
             "colorbar": {
              "outlinewidth": 0,
              "ticks": ""
             }
            },
            "type": "scatterpolar"
           }
          ],
          "scatterpolargl": [
           {
            "marker": {
             "colorbar": {
              "outlinewidth": 0,
              "ticks": ""
             }
            },
            "type": "scatterpolargl"
           }
          ],
          "scatterternary": [
           {
            "marker": {
             "colorbar": {
              "outlinewidth": 0,
              "ticks": ""
             }
            },
            "type": "scatterternary"
           }
          ],
          "surface": [
           {
            "colorbar": {
             "outlinewidth": 0,
             "ticks": ""
            },
            "colorscale": [
             [
              0,
              "#0d0887"
             ],
             [
              0.1111111111111111,
              "#46039f"
             ],
             [
              0.2222222222222222,
              "#7201a8"
             ],
             [
              0.3333333333333333,
              "#9c179e"
             ],
             [
              0.4444444444444444,
              "#bd3786"
             ],
             [
              0.5555555555555556,
              "#d8576b"
             ],
             [
              0.6666666666666666,
              "#ed7953"
             ],
             [
              0.7777777777777778,
              "#fb9f3a"
             ],
             [
              0.8888888888888888,
              "#fdca26"
             ],
             [
              1,
              "#f0f921"
             ]
            ],
            "type": "surface"
           }
          ],
          "table": [
           {
            "cells": {
             "fill": {
              "color": "#EBF0F8"
             },
             "line": {
              "color": "white"
             }
            },
            "header": {
             "fill": {
              "color": "#C8D4E3"
             },
             "line": {
              "color": "white"
             }
            },
            "type": "table"
           }
          ]
         },
         "layout": {
          "annotationdefaults": {
           "arrowcolor": "#2a3f5f",
           "arrowhead": 0,
           "arrowwidth": 1
          },
          "autotypenumbers": "strict",
          "coloraxis": {
           "colorbar": {
            "outlinewidth": 0,
            "ticks": ""
           }
          },
          "colorscale": {
           "diverging": [
            [
             0,
             "#8e0152"
            ],
            [
             0.1,
             "#c51b7d"
            ],
            [
             0.2,
             "#de77ae"
            ],
            [
             0.3,
             "#f1b6da"
            ],
            [
             0.4,
             "#fde0ef"
            ],
            [
             0.5,
             "#f7f7f7"
            ],
            [
             0.6,
             "#e6f5d0"
            ],
            [
             0.7,
             "#b8e186"
            ],
            [
             0.8,
             "#7fbc41"
            ],
            [
             0.9,
             "#4d9221"
            ],
            [
             1,
             "#276419"
            ]
           ],
           "sequential": [
            [
             0,
             "#0d0887"
            ],
            [
             0.1111111111111111,
             "#46039f"
            ],
            [
             0.2222222222222222,
             "#7201a8"
            ],
            [
             0.3333333333333333,
             "#9c179e"
            ],
            [
             0.4444444444444444,
             "#bd3786"
            ],
            [
             0.5555555555555556,
             "#d8576b"
            ],
            [
             0.6666666666666666,
             "#ed7953"
            ],
            [
             0.7777777777777778,
             "#fb9f3a"
            ],
            [
             0.8888888888888888,
             "#fdca26"
            ],
            [
             1,
             "#f0f921"
            ]
           ],
           "sequentialminus": [
            [
             0,
             "#0d0887"
            ],
            [
             0.1111111111111111,
             "#46039f"
            ],
            [
             0.2222222222222222,
             "#7201a8"
            ],
            [
             0.3333333333333333,
             "#9c179e"
            ],
            [
             0.4444444444444444,
             "#bd3786"
            ],
            [
             0.5555555555555556,
             "#d8576b"
            ],
            [
             0.6666666666666666,
             "#ed7953"
            ],
            [
             0.7777777777777778,
             "#fb9f3a"
            ],
            [
             0.8888888888888888,
             "#fdca26"
            ],
            [
             1,
             "#f0f921"
            ]
           ]
          },
          "colorway": [
           "#636efa",
           "#EF553B",
           "#00cc96",
           "#ab63fa",
           "#FFA15A",
           "#19d3f3",
           "#FF6692",
           "#B6E880",
           "#FF97FF",
           "#FECB52"
          ],
          "font": {
           "color": "#2a3f5f"
          },
          "geo": {
           "bgcolor": "white",
           "lakecolor": "white",
           "landcolor": "#E5ECF6",
           "showlakes": true,
           "showland": true,
           "subunitcolor": "white"
          },
          "hoverlabel": {
           "align": "left"
          },
          "hovermode": "closest",
          "mapbox": {
           "style": "light"
          },
          "paper_bgcolor": "white",
          "plot_bgcolor": "#E5ECF6",
          "polar": {
           "angularaxis": {
            "gridcolor": "white",
            "linecolor": "white",
            "ticks": ""
           },
           "bgcolor": "#E5ECF6",
           "radialaxis": {
            "gridcolor": "white",
            "linecolor": "white",
            "ticks": ""
           }
          },
          "scene": {
           "xaxis": {
            "backgroundcolor": "#E5ECF6",
            "gridcolor": "white",
            "gridwidth": 2,
            "linecolor": "white",
            "showbackground": true,
            "ticks": "",
            "zerolinecolor": "white"
           },
           "yaxis": {
            "backgroundcolor": "#E5ECF6",
            "gridcolor": "white",
            "gridwidth": 2,
            "linecolor": "white",
            "showbackground": true,
            "ticks": "",
            "zerolinecolor": "white"
           },
           "zaxis": {
            "backgroundcolor": "#E5ECF6",
            "gridcolor": "white",
            "gridwidth": 2,
            "linecolor": "white",
            "showbackground": true,
            "ticks": "",
            "zerolinecolor": "white"
           }
          },
          "shapedefaults": {
           "line": {
            "color": "#2a3f5f"
           }
          },
          "ternary": {
           "aaxis": {
            "gridcolor": "white",
            "linecolor": "white",
            "ticks": ""
           },
           "baxis": {
            "gridcolor": "white",
            "linecolor": "white",
            "ticks": ""
           },
           "bgcolor": "#E5ECF6",
           "caxis": {
            "gridcolor": "white",
            "linecolor": "white",
            "ticks": ""
           }
          },
          "title": {
           "x": 0.05
          },
          "xaxis": {
           "automargin": true,
           "gridcolor": "white",
           "linecolor": "white",
           "ticks": "",
           "title": {
            "standoff": 15
           },
           "zerolinecolor": "white",
           "zerolinewidth": 2
          },
          "yaxis": {
           "automargin": true,
           "gridcolor": "white",
           "linecolor": "white",
           "ticks": "",
           "title": {
            "standoff": 15
           },
           "zerolinecolor": "white",
           "zerolinewidth": 2
          }
         }
        },
        "title": {
         "text": "MLP training"
        },
        "xaxis": {
         "title": {
          "text": "Autotuning time (date)"
         }
        },
        "yaxis": {
         "title": {
          "text": "Error"
         }
        }
       }
      },
      "text/html": [
       "<div>                            <div id=\"13b46696-16f6-4b75-958a-0a6276614a73\" class=\"plotly-graph-div\" style=\"height:525px; width:100%;\"></div>            <script type=\"text/javascript\">                require([\"plotly\"], function(Plotly) {                    window.PLOTLYENV=window.PLOTLYENV || {};                                    if (document.getElementById(\"13b46696-16f6-4b75-958a-0a6276614a73\")) {                    Plotly.newPlot(                        \"13b46696-16f6-4b75-958a-0a6276614a73\",                        [{\"name\":\"run time\",\"x\":[\"2022-04-22T14:46:12.131685\",\"2022-04-22T14:46:49.500053\",\"2022-04-22T14:47:11.252818\",\"2022-04-22T14:50:36.806928\",\"2022-04-22T14:50:49.718995\",\"2022-04-22T14:52:53.378657\",\"2022-04-22T14:53:23.516759\",\"2022-04-22T15:08:46.979262\"],\"y\":[3.0,3.0,1.3333287166863588,0.00917352228719595,0.0013463370170828002,0.0012256185939437964,0.0006173306791219588,0.0004888548486685224],\"type\":\"scatter\"}],                        {\"title\":{\"text\":\"MLP training\"},\"xaxis\":{\"title\":{\"text\":\"Autotuning time (date)\"}},\"yaxis\":{\"title\":{\"text\":\"Error\"}},\"template\":{\"data\":{\"histogram2dcontour\":[{\"type\":\"histogram2dcontour\",\"colorbar\":{\"outlinewidth\":0,\"ticks\":\"\"},\"colorscale\":[[0.0,\"#0d0887\"],[0.1111111111111111,\"#46039f\"],[0.2222222222222222,\"#7201a8\"],[0.3333333333333333,\"#9c179e\"],[0.4444444444444444,\"#bd3786\"],[0.5555555555555556,\"#d8576b\"],[0.6666666666666666,\"#ed7953\"],[0.7777777777777778,\"#fb9f3a\"],[0.8888888888888888,\"#fdca26\"],[1.0,\"#f0f921\"]]}],\"choropleth\":[{\"type\":\"choropleth\",\"colorbar\":{\"outlinewidth\":0,\"ticks\":\"\"}}],\"histogram2d\":[{\"type\":\"histogram2d\",\"colorbar\":{\"outlinewidth\":0,\"ticks\":\"\"},\"colorscale\":[[0.0,\"#0d0887\"],[0.1111111111111111,\"#46039f\"],[0.2222222222222222,\"#7201a8\"],[0.3333333333333333,\"#9c179e\"],[0.4444444444444444,\"#bd3786\"],[0.5555555555555556,\"#d8576b\"],[0.6666666666666666,\"#ed7953\"],[0.7777777777777778,\"#fb9f3a\"],[0.8888888888888888,\"#fdca26\"],[1.0,\"#f0f921\"]]}],\"heatmap\":[{\"type\":\"heatmap\",\"colorbar\":{\"outlinewidth\":0,\"ticks\":\"\"},\"colorscale\":[[0.0,\"#0d0887\"],[0.1111111111111111,\"#46039f\"],[0.2222222222222222,\"#7201a8\"],[0.3333333333333333,\"#9c179e\"],[0.4444444444444444,\"#bd3786\"],[0.5555555555555556,\"#d8576b\"],[0.6666666666666666,\"#ed7953\"],[0.7777777777777778,\"#fb9f3a\"],[0.8888888888888888,\"#fdca26\"],[1.0,\"#f0f921\"]]}],\"heatmapgl\":[{\"type\":\"heatmapgl\",\"colorbar\":{\"outlinewidth\":0,\"ticks\":\"\"},\"colorscale\":[[0.0,\"#0d0887\"],[0.1111111111111111,\"#46039f\"],[0.2222222222222222,\"#7201a8\"],[0.3333333333333333,\"#9c179e\"],[0.4444444444444444,\"#bd3786\"],[0.5555555555555556,\"#d8576b\"],[0.6666666666666666,\"#ed7953\"],[0.7777777777777778,\"#fb9f3a\"],[0.8888888888888888,\"#fdca26\"],[1.0,\"#f0f921\"]]}],\"contourcarpet\":[{\"type\":\"contourcarpet\",\"colorbar\":{\"outlinewidth\":0,\"ticks\":\"\"}}],\"contour\":[{\"type\":\"contour\",\"colorbar\":{\"outlinewidth\":0,\"ticks\":\"\"},\"colorscale\":[[0.0,\"#0d0887\"],[0.1111111111111111,\"#46039f\"],[0.2222222222222222,\"#7201a8\"],[0.3333333333333333,\"#9c179e\"],[0.4444444444444444,\"#bd3786\"],[0.5555555555555556,\"#d8576b\"],[0.6666666666666666,\"#ed7953\"],[0.7777777777777778,\"#fb9f3a\"],[0.8888888888888888,\"#fdca26\"],[1.0,\"#f0f921\"]]}],\"surface\":[{\"type\":\"surface\",\"colorbar\":{\"outlinewidth\":0,\"ticks\":\"\"},\"colorscale\":[[0.0,\"#0d0887\"],[0.1111111111111111,\"#46039f\"],[0.2222222222222222,\"#7201a8\"],[0.3333333333333333,\"#9c179e\"],[0.4444444444444444,\"#bd3786\"],[0.5555555555555556,\"#d8576b\"],[0.6666666666666666,\"#ed7953\"],[0.7777777777777778,\"#fb9f3a\"],[0.8888888888888888,\"#fdca26\"],[1.0,\"#f0f921\"]]}],\"mesh3d\":[{\"type\":\"mesh3d\",\"colorbar\":{\"outlinewidth\":0,\"ticks\":\"\"}}],\"scatter\":[{\"fillpattern\":{\"fillmode\":\"overlay\",\"size\":10,\"solidity\":0.2},\"type\":\"scatter\"}],\"parcoords\":[{\"type\":\"parcoords\",\"line\":{\"colorbar\":{\"outlinewidth\":0,\"ticks\":\"\"}}}],\"scatterpolargl\":[{\"type\":\"scatterpolargl\",\"marker\":{\"colorbar\":{\"outlinewidth\":0,\"ticks\":\"\"}}}],\"bar\":[{\"error_x\":{\"color\":\"#2a3f5f\"},\"error_y\":{\"color\":\"#2a3f5f\"},\"marker\":{\"line\":{\"color\":\"#E5ECF6\",\"width\":0.5},\"pattern\":{\"fillmode\":\"overlay\",\"size\":10,\"solidity\":0.2}},\"type\":\"bar\"}],\"scattergeo\":[{\"type\":\"scattergeo\",\"marker\":{\"colorbar\":{\"outlinewidth\":0,\"ticks\":\"\"}}}],\"scatterpolar\":[{\"type\":\"scatterpolar\",\"marker\":{\"colorbar\":{\"outlinewidth\":0,\"ticks\":\"\"}}}],\"histogram\":[{\"marker\":{\"pattern\":{\"fillmode\":\"overlay\",\"size\":10,\"solidity\":0.2}},\"type\":\"histogram\"}],\"scattergl\":[{\"type\":\"scattergl\",\"marker\":{\"colorbar\":{\"outlinewidth\":0,\"ticks\":\"\"}}}],\"scatter3d\":[{\"type\":\"scatter3d\",\"line\":{\"colorbar\":{\"outlinewidth\":0,\"ticks\":\"\"}},\"marker\":{\"colorbar\":{\"outlinewidth\":0,\"ticks\":\"\"}}}],\"scattermapbox\":[{\"type\":\"scattermapbox\",\"marker\":{\"colorbar\":{\"outlinewidth\":0,\"ticks\":\"\"}}}],\"scatterternary\":[{\"type\":\"scatterternary\",\"marker\":{\"colorbar\":{\"outlinewidth\":0,\"ticks\":\"\"}}}],\"scattercarpet\":[{\"type\":\"scattercarpet\",\"marker\":{\"colorbar\":{\"outlinewidth\":0,\"ticks\":\"\"}}}],\"carpet\":[{\"aaxis\":{\"endlinecolor\":\"#2a3f5f\",\"gridcolor\":\"white\",\"linecolor\":\"white\",\"minorgridcolor\":\"white\",\"startlinecolor\":\"#2a3f5f\"},\"baxis\":{\"endlinecolor\":\"#2a3f5f\",\"gridcolor\":\"white\",\"linecolor\":\"white\",\"minorgridcolor\":\"white\",\"startlinecolor\":\"#2a3f5f\"},\"type\":\"carpet\"}],\"table\":[{\"cells\":{\"fill\":{\"color\":\"#EBF0F8\"},\"line\":{\"color\":\"white\"}},\"header\":{\"fill\":{\"color\":\"#C8D4E3\"},\"line\":{\"color\":\"white\"}},\"type\":\"table\"}],\"barpolar\":[{\"marker\":{\"line\":{\"color\":\"#E5ECF6\",\"width\":0.5},\"pattern\":{\"fillmode\":\"overlay\",\"size\":10,\"solidity\":0.2}},\"type\":\"barpolar\"}],\"pie\":[{\"automargin\":true,\"type\":\"pie\"}]},\"layout\":{\"autotypenumbers\":\"strict\",\"colorway\":[\"#636efa\",\"#EF553B\",\"#00cc96\",\"#ab63fa\",\"#FFA15A\",\"#19d3f3\",\"#FF6692\",\"#B6E880\",\"#FF97FF\",\"#FECB52\"],\"font\":{\"color\":\"#2a3f5f\"},\"hovermode\":\"closest\",\"hoverlabel\":{\"align\":\"left\"},\"paper_bgcolor\":\"white\",\"plot_bgcolor\":\"#E5ECF6\",\"polar\":{\"bgcolor\":\"#E5ECF6\",\"angularaxis\":{\"gridcolor\":\"white\",\"linecolor\":\"white\",\"ticks\":\"\"},\"radialaxis\":{\"gridcolor\":\"white\",\"linecolor\":\"white\",\"ticks\":\"\"}},\"ternary\":{\"bgcolor\":\"#E5ECF6\",\"aaxis\":{\"gridcolor\":\"white\",\"linecolor\":\"white\",\"ticks\":\"\"},\"baxis\":{\"gridcolor\":\"white\",\"linecolor\":\"white\",\"ticks\":\"\"},\"caxis\":{\"gridcolor\":\"white\",\"linecolor\":\"white\",\"ticks\":\"\"}},\"coloraxis\":{\"colorbar\":{\"outlinewidth\":0,\"ticks\":\"\"}},\"colorscale\":{\"sequential\":[[0.0,\"#0d0887\"],[0.1111111111111111,\"#46039f\"],[0.2222222222222222,\"#7201a8\"],[0.3333333333333333,\"#9c179e\"],[0.4444444444444444,\"#bd3786\"],[0.5555555555555556,\"#d8576b\"],[0.6666666666666666,\"#ed7953\"],[0.7777777777777778,\"#fb9f3a\"],[0.8888888888888888,\"#fdca26\"],[1.0,\"#f0f921\"]],\"sequentialminus\":[[0.0,\"#0d0887\"],[0.1111111111111111,\"#46039f\"],[0.2222222222222222,\"#7201a8\"],[0.3333333333333333,\"#9c179e\"],[0.4444444444444444,\"#bd3786\"],[0.5555555555555556,\"#d8576b\"],[0.6666666666666666,\"#ed7953\"],[0.7777777777777778,\"#fb9f3a\"],[0.8888888888888888,\"#fdca26\"],[1.0,\"#f0f921\"]],\"diverging\":[[0,\"#8e0152\"],[0.1,\"#c51b7d\"],[0.2,\"#de77ae\"],[0.3,\"#f1b6da\"],[0.4,\"#fde0ef\"],[0.5,\"#f7f7f7\"],[0.6,\"#e6f5d0\"],[0.7,\"#b8e186\"],[0.8,\"#7fbc41\"],[0.9,\"#4d9221\"],[1,\"#276419\"]]},\"xaxis\":{\"gridcolor\":\"white\",\"linecolor\":\"white\",\"ticks\":\"\",\"title\":{\"standoff\":15},\"zerolinecolor\":\"white\",\"automargin\":true,\"zerolinewidth\":2},\"yaxis\":{\"gridcolor\":\"white\",\"linecolor\":\"white\",\"ticks\":\"\",\"title\":{\"standoff\":15},\"zerolinecolor\":\"white\",\"automargin\":true,\"zerolinewidth\":2},\"scene\":{\"xaxis\":{\"backgroundcolor\":\"#E5ECF6\",\"gridcolor\":\"white\",\"linecolor\":\"white\",\"showbackground\":true,\"ticks\":\"\",\"zerolinecolor\":\"white\",\"gridwidth\":2},\"yaxis\":{\"backgroundcolor\":\"#E5ECF6\",\"gridcolor\":\"white\",\"linecolor\":\"white\",\"showbackground\":true,\"ticks\":\"\",\"zerolinecolor\":\"white\",\"gridwidth\":2},\"zaxis\":{\"backgroundcolor\":\"#E5ECF6\",\"gridcolor\":\"white\",\"linecolor\":\"white\",\"showbackground\":true,\"ticks\":\"\",\"zerolinecolor\":\"white\",\"gridwidth\":2}},\"shapedefaults\":{\"line\":{\"color\":\"#2a3f5f\"}},\"annotationdefaults\":{\"arrowcolor\":\"#2a3f5f\",\"arrowhead\":0,\"arrowwidth\":1},\"geo\":{\"bgcolor\":\"white\",\"landcolor\":\"#E5ECF6\",\"subunitcolor\":\"white\",\"showland\":true,\"showlakes\":true,\"lakecolor\":\"white\"},\"title\":{\"x\":0.05},\"mapbox\":{\"style\":\"light\"}}}},                        {\"responsive\": true}                    ).then(function(){\n",
       "                            \n",
       "var gd = document.getElementById('13b46696-16f6-4b75-958a-0a6276614a73');\n",
       "var x = new MutationObserver(function (mutations, observer) {{\n",
       "        var display = window.getComputedStyle(gd).display;\n",
       "        if (!display || display === 'none') {{\n",
       "            console.log([gd, 'removed!']);\n",
       "            Plotly.purge(gd);\n",
       "            observer.disconnect();\n",
       "        }}\n",
       "}});\n",
       "\n",
       "// Listen for the removal of the full notebook cells\n",
       "var notebookContainer = gd.closest('#notebook-container');\n",
       "if (notebookContainer) {{\n",
       "    x.observe(notebookContainer, {childList: true});\n",
       "}}\n",
       "\n",
       "// Listen for the clearing of the current output cell\n",
       "var outputEl = gd.closest('.output');\n",
       "if (outputEl) {{\n",
       "    x.observe(outputEl, {childList: true});\n",
       "}}\n",
       "\n",
       "                        })                };                });            </script>        </div>"
      ]
     },
     "metadata": {},
     "output_type": "display_data"
    }
   ],
   "source": [
    "import plotly.graph_objects as go\n",
    "\n",
    "layout = dict(\n",
    "    title='MLP training',\n",
    "    xaxis=dict(title='Autotuning time (date)'),\n",
    "    yaxis=dict(title='Error')\n",
    ")\n",
    "\n",
    "\n",
    "fig = go.Figure(layout=layout)\n",
    "\n",
    "fig.add_scatter(\n",
    "    x=ddf['finish_time'], \n",
    "    y=ddf['objective_result'], \n",
    "    name='run time',\n",
    "#     error_y=dict( type='data',array=ddf['std'],visible=True)\n",
    ")\n",
    "\n",
    "fig.show()"
   ]
  },
  {
   "cell_type": "code",
   "execution_count": 21,
   "id": "43fd9d0d",
   "metadata": {},
   "outputs": [],
   "source": [
    "import numpy as np\n",
    "\n",
    "study = [\n",
    "    np.array([\n",
    "            1, 1, 1, 1, 1,\n",
    "            0, 0, 0, 0, 1,\n",
    "            0, 0, 0, 0, 1,\n",
    "            0, 0, 0, 1, 0,\n",
    "            0, 0, 1, 0, 0,\n",
    "            0, 1, 0, 0, 0,\n",
    "            1, 0, 0, 0, 0,\n",
    "        ]),\n",
    "        np.array([\n",
    "            1, 1, 1, 1, 1,\n",
    "            1, 0, 0, 0, 1,\n",
    "            1, 0, 0, 0, 1,\n",
    "            1, 1, 1, 1, 1,\n",
    "            1, 0, 0, 0, 1,\n",
    "            1, 0, 0, 0, 1,\n",
    "            1, 1, 1, 1, 1,\n",
    "        ]),\n",
    "        np.array([\n",
    "            1, 1, 1, 1, 1,\n",
    "            1, 1, 0, 1, 1,\n",
    "            1, 1, 1, 1, 1,\n",
    "            0, 0, 1, 0, 0,\n",
    "            0, 0, 1, 0, 0,\n",
    "            0, 0, 1, 0, 0,\n",
    "            0, 0, 1, 0, 0,\n",
    "        ]),\n",
    "        np.array([\n",
    "            0, 0, 0, 0, 0,\n",
    "            0, 0, 0, 0, 0,\n",
    "            0, 1, 1, 1, 0,\n",
    "            0, 1, 1, 1, 0,\n",
    "            1, 1, 1, 1, 1,\n",
    "            1, 0, 0, 0, 1,\n",
    "            1, 0, 0, 0, 1,\n",
    "        ])\n",
    "]"
   ]
  },
  {
   "cell_type": "code",
   "execution_count": 34,
   "id": "def04cd3",
   "metadata": {},
   "outputs": [
    {
     "data": {
      "text/plain": [
       "<matplotlib.image.AxesImage at 0x7fad4931aaf0>"
      ]
     },
     "execution_count": 34,
     "metadata": {},
     "output_type": "execute_result"
    },
    {
     "data": {
      "image/png": "[encoded data removed]",
      "text/plain": [
       "<Figure size 864x864 with 4 Axes>"
      ]
     },
     "metadata": {
      "needs_background": "light"
     },
     "output_type": "display_data"
    }
   ],
   "source": [
    "import numpy as np\n",
    "from matplotlib import pyplot as plt\n",
    "\n",
    "f, axarr = plt.subplots(1, 4) \n",
    "\n",
    "f.set_figheight(12)\n",
    "f.set_figwidth(12)\n",
    "\n",
    "axarr[0].imshow(study[0].reshape((7, 5)), cmap='Greys')\n",
    "axarr[1].imshow(study[1].reshape((7, 5)), cmap='Greys')\n",
    "axarr[2].imshow(study[2].reshape((7, 5)), cmap='Greys')\n",
    "axarr[3].imshow(study[3].reshape((7, 5)), cmap='Greys')\n",
    "# plt.show()"
   ]
  },
  {
   "cell_type": "code",
   "execution_count": 36,
   "id": "b3d5f3db",
   "metadata": {},
   "outputs": [
    {
     "data": {
      "text/plain": [
       "<matplotlib.image.AxesImage at 0x7fad3077e700>"
      ]
     },
     "execution_count": 36,
     "metadata": {},
     "output_type": "execute_result"
    },
    {
     "data": {
      "image/png": "[encoded data removed]",
      "text/plain": [
       "<Figure size 432x432 with 2 Axes>"
      ]
     },
     "metadata": {
      "needs_background": "light"
     },
     "output_type": "display_data"
    }
   ],
   "source": [
    "bl1 = np.array([\n",
    "        1, 1, 1, 1, 1,\n",
    "        0, 0, 0, 0, 1,\n",
    "        0, 0, 0, 0, 1,\n",
    "        0, 0, 1, 1, 0,\n",
    "        0, 0, 1, 1, 0,\n",
    "        0, 1, 0, 0, 0,\n",
    "        1, 0, 0, 0, 0,\n",
    "    ])\n",
    "\n",
    "bl2 = np.array([\n",
    "        1, 1, 1, 1, 1,\n",
    "        1, 1, 0, 1, 1,\n",
    "        1, 1, 1, 1, 1,\n",
    "        0, 1, 1, 1, 0,\n",
    "        0, 1, 1, 1, 0,\n",
    "        0, 1, 1, 1, 0,\n",
    "        0, 1, 1, 1, 0,\n",
    "    ])\n",
    "\n",
    "f, axarr = plt.subplots(1, 2) \n",
    "\n",
    "f.set_figheight(6)\n",
    "f.set_figwidth(6)\n",
    "\n",
    "axarr[0].imshow(bl1.reshape((7, 5)), cmap='Greys')\n",
    "axarr[1].imshow(bl2.reshape((7, 5)), cmap='Greys')"
   ]
  },
  {
   "cell_type": "code",
   "execution_count": null,
   "id": "4b88067c",
   "metadata": {},
   "outputs": [],
   "source": []
  }
 ],
 "metadata": {
  "kernelspec": {
   "display_name": "Python 3 (ipykernel)",
   "language": "python",
   "name": "python3"
  },
  "language_info": {
   "codemirror_mode": {
    "name": "ipython",
    "version": 3
   },
   "file_extension": ".py",
   "mimetype": "text/x-python",
   "name": "python",
   "nbconvert_exporter": "python",
   "pygments_lexer": "ipython3",
   "version": "3.9.7"
  }
 },
 "nbformat": 4,
 "nbformat_minor": 5
}
