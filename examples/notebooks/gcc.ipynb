{
 "cells": [
  {
   "cell_type": "code",
   "execution_count": 1,
   "id": "39ef3e03",
   "metadata": {},
   "outputs": [],
   "source": [
    "from examples.gcc.runner import run_gcc"
   ]
  },
  {
   "cell_type": "code",
   "execution_count": 2,
   "id": "6b2d6a69",
   "metadata": {},
   "outputs": [
    {
     "name": "stderr",
     "output_type": "stream",
     "text": [
      "/Users/qnbhd/Development/gimeltune/gimeltune/search/algorithms/skopt.py:58: UserWarning: Now per-emit count in skopt technique implemented not correctly. Per-emit count is property, return default value (1).\n",
      "  warnings.warn('Now per-emit count in skopt technique implemented not correctly.'\n"
     ]
    },
    {
     "data": {
      "text/html": [
       "<pre style=\"white-space:pre;overflow-x:auto;line-height:normal;font-family:Menlo,'DejaVu Sans Mono',consolas,'Courier New',monospace\"><span style=\"color: #7fbfbf; text-decoration-color: #7fbfbf\">[11:16:53] </span><span style=\"color: #000080; text-decoration-color: #000080\">INFO    </span> Trying experiment: <span style=\"color: #800080; text-decoration-color: #800080; font-weight: bold\">Experiment</span><span style=\"font-weight: bold\">({</span>                             <span style=\"color: #7f7f7f; text-decoration-color: #7f7f7f\">runner.py:156</span>\n",
       "<span style=\"color: #7fbfbf; text-decoration-color: #7fbfbf\">           </span>             <span style=\"color: #008000; text-decoration-color: #008000\">\"id\"</span>: <span style=\"color: #008080; text-decoration-color: #008080; font-weight: bold\">1</span>,                                                <span style=\"color: #7f7f7f; text-decoration-color: #7f7f7f\">             </span>\n",
       "<span style=\"color: #7fbfbf; text-decoration-color: #7fbfbf\">           </span>             <span style=\"color: #008000; text-decoration-color: #008000\">\"job_id\"</span>: <span style=\"color: #008080; text-decoration-color: #008080; font-weight: bold\">1</span>,                                            <span style=\"color: #7f7f7f; text-decoration-color: #7f7f7f\">             </span>\n",
       "<span style=\"color: #7fbfbf; text-decoration-color: #7fbfbf\">           </span>             <span style=\"color: #008000; text-decoration-color: #008000\">\"state\"</span>: <span style=\"color: #008000; text-decoration-color: #008000\">\"WIP\"</span>,                                         <span style=\"color: #7f7f7f; text-decoration-color: #7f7f7f\">             </span>\n",
       "<span style=\"color: #7fbfbf; text-decoration-color: #7fbfbf\">           </span>             <span style=\"color: #008000; text-decoration-color: #008000\">\"hash\"</span>: null,                                           <span style=\"color: #7f7f7f; text-decoration-color: #7f7f7f\">             </span>\n",
       "<span style=\"color: #7fbfbf; text-decoration-color: #7fbfbf\">           </span>             <span style=\"color: #008000; text-decoration-color: #008000\">\"objective_result\"</span>: null,                               <span style=\"color: #7f7f7f; text-decoration-color: #7f7f7f\">             </span>\n",
       "<span style=\"color: #7fbfbf; text-decoration-color: #7fbfbf\">           </span>             <span style=\"color: #008000; text-decoration-color: #008000\">\"params\"</span>: <span style=\"font-weight: bold\">{</span>                                             <span style=\"color: #7f7f7f; text-decoration-color: #7f7f7f\">             </span>\n",
       "<span style=\"color: #7fbfbf; text-decoration-color: #7fbfbf\">           </span>                 <span style=\"color: #008000; text-decoration-color: #008000\">\"-O\"</span>: null,                                         <span style=\"color: #7f7f7f; text-decoration-color: #7f7f7f\">             </span>\n",
       "<span style=\"color: #7fbfbf; text-decoration-color: #7fbfbf\">           </span>                 <span style=\"color: #008000; text-decoration-color: #008000\">\"align-functions\"</span>: <span style=\"color: #008000; text-decoration-color: #008000\">\"-falign-functions\"</span>,             <span style=\"color: #7f7f7f; text-decoration-color: #7f7f7f\">             </span>\n",
       "<span style=\"color: #7fbfbf; text-decoration-color: #7fbfbf\">           </span>                 <span style=\"color: #008000; text-decoration-color: #008000\">\"align-jumps\"</span>: <span style=\"color: #008000; text-decoration-color: #008000\">\"-falign-jumps\"</span>,                     <span style=\"color: #7f7f7f; text-decoration-color: #7f7f7f\">             </span>\n",
       "<span style=\"color: #7fbfbf; text-decoration-color: #7fbfbf\">           </span>                 <span style=\"color: #008000; text-decoration-color: #008000\">\"align-labels\"</span>: <span style=\"color: #008000; text-decoration-color: #008000\">\"-fno-align-labels\"</span>,                <span style=\"color: #7f7f7f; text-decoration-color: #7f7f7f\">             </span>\n",
       "<span style=\"color: #7fbfbf; text-decoration-color: #7fbfbf\">           </span>                 <span style=\"color: #008000; text-decoration-color: #008000\">\"asynchronous-unwind-tables\"</span>:                       <span style=\"color: #7f7f7f; text-decoration-color: #7f7f7f\">             </span>\n",
       "<span style=\"color: #7fbfbf; text-decoration-color: #7fbfbf\">           </span>         <span style=\"color: #008000; text-decoration-color: #008000\">\"-fno-asynchronous-unwind-tables\"</span>,                          <span style=\"color: #7f7f7f; text-decoration-color: #7f7f7f\">             </span>\n",
       "<span style=\"color: #7fbfbf; text-decoration-color: #7fbfbf\">           </span>                 <span style=\"color: #008000; text-decoration-color: #008000\">\"branch-count-reg\"</span>: <span style=\"color: #008000; text-decoration-color: #008000\">\"-fbranch-count-reg\"</span>,           <span style=\"color: #7f7f7f; text-decoration-color: #7f7f7f\">             </span>\n",
       "<span style=\"color: #7fbfbf; text-decoration-color: #7fbfbf\">           </span>                 <span style=\"color: #008000; text-decoration-color: #008000\">\"branch-probabilities\"</span>: <span style=\"color: #008000; text-decoration-color: #008000\">\"-fbranch-probabilities\"</span>,   <span style=\"color: #7f7f7f; text-decoration-color: #7f7f7f\">             </span>\n",
       "<span style=\"color: #7fbfbf; text-decoration-color: #7fbfbf\">           </span>                 <span style=\"color: #008000; text-decoration-color: #008000\">\"early-inlining-insns\"</span>: <span style=\"color: #008080; text-decoration-color: #008080; font-weight: bold\">950</span>,                        <span style=\"color: #7f7f7f; text-decoration-color: #7f7f7f\">             </span>\n",
       "<span style=\"color: #7fbfbf; text-decoration-color: #7fbfbf\">           </span>                 <span style=\"color: #008000; text-decoration-color: #008000\">\"gcse-cost-distance-ratio\"</span>: <span style=\"color: #008080; text-decoration-color: #008080; font-weight: bold\">23</span>,                     <span style=\"color: #7f7f7f; text-decoration-color: #7f7f7f\">             </span>\n",
       "<span style=\"color: #7fbfbf; text-decoration-color: #7fbfbf\">           </span>                 <span style=\"color: #008000; text-decoration-color: #008000\">\"iv-max-considered-uses\"</span>: <span style=\"color: #008080; text-decoration-color: #008080; font-weight: bold\">674</span>                       <span style=\"color: #7f7f7f; text-decoration-color: #7f7f7f\">             </span>\n",
       "<span style=\"color: #7fbfbf; text-decoration-color: #7fbfbf\">           </span>             <span style=\"font-weight: bold\">}</span>,                                                      <span style=\"color: #7f7f7f; text-decoration-color: #7f7f7f\">             </span>\n",
       "<span style=\"color: #7fbfbf; text-decoration-color: #7fbfbf\">           </span>             <span style=\"color: #008000; text-decoration-color: #008000\">\"requestor\"</span>: <span style=\"color: #008000; text-decoration-color: #008000\">\"SkoptBayesianAlgorithm\"</span>,                  <span style=\"color: #7f7f7f; text-decoration-color: #7f7f7f\">             </span>\n",
       "<span style=\"color: #7fbfbf; text-decoration-color: #7fbfbf\">           </span>             <span style=\"color: #008000; text-decoration-color: #008000\">\"create_timestamp\"</span>: <span style=\"color: #008080; text-decoration-color: #008080; font-weight: bold\">1645690613.005715</span>,                  <span style=\"color: #7f7f7f; text-decoration-color: #7f7f7f\">             </span>\n",
       "<span style=\"color: #7fbfbf; text-decoration-color: #7fbfbf\">           </span>             <span style=\"color: #008000; text-decoration-color: #008000\">\"finish_timestamp\"</span>: null                                <span style=\"color: #7f7f7f; text-decoration-color: #7f7f7f\">             </span>\n",
       "<span style=\"color: #7fbfbf; text-decoration-color: #7fbfbf\">           </span>         <span style=\"font-weight: bold\">})</span>                                                          <span style=\"color: #7f7f7f; text-decoration-color: #7f7f7f\">             </span>\n",
       "</pre>\n"
      ],
      "text/plain": [
       "\u001b[2;36m[11:16:53]\u001b[0m\u001b[2;36m \u001b[0m\u001b[34mINFO    \u001b[0m Trying experiment: \u001b[1;35mExperiment\u001b[0m\u001b[1m(\u001b[0m\u001b[1m{\u001b[0m                             \u001b[2mrunner.py\u001b[0m\u001b[2m:\u001b[0m\u001b[2m156\u001b[0m\n",
       "\u001b[2;36m           \u001b[0m             \u001b[32m\"id\"\u001b[0m: \u001b[1;36m1\u001b[0m,                                                \u001b[2m             \u001b[0m\n",
       "\u001b[2;36m           \u001b[0m             \u001b[32m\"job_id\"\u001b[0m: \u001b[1;36m1\u001b[0m,                                            \u001b[2m             \u001b[0m\n",
       "\u001b[2;36m           \u001b[0m             \u001b[32m\"state\"\u001b[0m: \u001b[32m\"WIP\"\u001b[0m,                                         \u001b[2m             \u001b[0m\n",
       "\u001b[2;36m           \u001b[0m             \u001b[32m\"hash\"\u001b[0m: null,                                           \u001b[2m             \u001b[0m\n",
       "\u001b[2;36m           \u001b[0m             \u001b[32m\"objective_result\"\u001b[0m: null,                               \u001b[2m             \u001b[0m\n",
       "\u001b[2;36m           \u001b[0m             \u001b[32m\"params\"\u001b[0m: \u001b[1m{\u001b[0m                                             \u001b[2m             \u001b[0m\n",
       "\u001b[2;36m           \u001b[0m                 \u001b[32m\"-O\"\u001b[0m: null,                                         \u001b[2m             \u001b[0m\n",
       "\u001b[2;36m           \u001b[0m                 \u001b[32m\"align-functions\"\u001b[0m: \u001b[32m\"-falign-functions\"\u001b[0m,             \u001b[2m             \u001b[0m\n",
       "\u001b[2;36m           \u001b[0m                 \u001b[32m\"align-jumps\"\u001b[0m: \u001b[32m\"-falign-jumps\"\u001b[0m,                     \u001b[2m             \u001b[0m\n",
       "\u001b[2;36m           \u001b[0m                 \u001b[32m\"align-labels\"\u001b[0m: \u001b[32m\"-fno-align-labels\"\u001b[0m,                \u001b[2m             \u001b[0m\n",
       "\u001b[2;36m           \u001b[0m                 \u001b[32m\"asynchronous-unwind-tables\"\u001b[0m:                       \u001b[2m             \u001b[0m\n",
       "\u001b[2;36m           \u001b[0m         \u001b[32m\"-fno-asynchronous-unwind-tables\"\u001b[0m,                          \u001b[2m             \u001b[0m\n",
       "\u001b[2;36m           \u001b[0m                 \u001b[32m\"branch-count-reg\"\u001b[0m: \u001b[32m\"-fbranch-count-reg\"\u001b[0m,           \u001b[2m             \u001b[0m\n",
       "\u001b[2;36m           \u001b[0m                 \u001b[32m\"branch-probabilities\"\u001b[0m: \u001b[32m\"-fbranch-probabilities\"\u001b[0m,   \u001b[2m             \u001b[0m\n",
       "\u001b[2;36m           \u001b[0m                 \u001b[32m\"early-inlining-insns\"\u001b[0m: \u001b[1;36m950\u001b[0m,                        \u001b[2m             \u001b[0m\n",
       "\u001b[2;36m           \u001b[0m                 \u001b[32m\"gcse-cost-distance-ratio\"\u001b[0m: \u001b[1;36m23\u001b[0m,                     \u001b[2m             \u001b[0m\n",
       "\u001b[2;36m           \u001b[0m                 \u001b[32m\"iv-max-considered-uses\"\u001b[0m: \u001b[1;36m674\u001b[0m                       \u001b[2m             \u001b[0m\n",
       "\u001b[2;36m           \u001b[0m             \u001b[1m}\u001b[0m,                                                      \u001b[2m             \u001b[0m\n",
       "\u001b[2;36m           \u001b[0m             \u001b[32m\"requestor\"\u001b[0m: \u001b[32m\"SkoptBayesianAlgorithm\"\u001b[0m,                  \u001b[2m             \u001b[0m\n",
       "\u001b[2;36m           \u001b[0m             \u001b[32m\"create_timestamp\"\u001b[0m: \u001b[1;36m1645690613.005715\u001b[0m,                  \u001b[2m             \u001b[0m\n",
       "\u001b[2;36m           \u001b[0m             \u001b[32m\"finish_timestamp\"\u001b[0m: null                                \u001b[2m             \u001b[0m\n",
       "\u001b[2;36m           \u001b[0m         \u001b[1m}\u001b[0m\u001b[1m)\u001b[0m                                                          \u001b[2m             \u001b[0m\n"
      ]
     },
     "metadata": {},
     "output_type": "display_data"
    },
    {
     "data": {
      "text/html": [
       "<pre style=\"white-space:pre;overflow-x:auto;line-height:normal;font-family:Menlo,'DejaVu Sans Mono',consolas,'Courier New',monospace\"><span style=\"color: #7fbfbf; text-decoration-color: #7fbfbf\">           </span><span style=\"color: #008000; text-decoration-color: #008000\">DEBUG   </span> RUN COMMAND:                                                 <span style=\"color: #7f7f7f; text-decoration-color: #7f7f7f\">runner.py:79</span>\n",
       "<span style=\"color: #7fbfbf; text-decoration-color: #7fbfbf\">           </span>         <span style=\"color: #008080; text-decoration-color: #008080; font-weight: bold\">gtime -f </span><span style=\"color: #008000; text-decoration-color: #008000\">'%e'</span><span style=\"color: #008080; text-decoration-color: #008080; font-weight: bold\"> g++</span><span style=\"color: #008080; text-decoration-color: #008080; font-weight: bold\">-11</span><span style=\"color: #008080; text-decoration-color: #008080; font-weight: bold\"> -o </span><span style=\"color: #800080; text-decoration-color: #800080; font-weight: bold\">/Users/qnbhd/Development/gimeltune/ex</span> <span style=\"color: #7f7f7f; text-decoration-color: #7f7f7f\">            </span>\n",
       "<span style=\"color: #7fbfbf; text-decoration-color: #7fbfbf\">           </span>         <span style=\"color: #800080; text-decoration-color: #800080; font-weight: bold\">amples/gcc/</span><span style=\"color: #ff00ff; text-decoration-color: #ff00ff; font-weight: bold\">42364432d8ce59792f7206de462816eb50aaf2420041ed3e0</span> <span style=\"color: #7f7f7f; text-decoration-color: #7f7f7f\">            </span>\n",
       "<span style=\"color: #7fbfbf; text-decoration-color: #7fbfbf\">           </span>         <span style=\"color: #ff00ff; text-decoration-color: #ff00ff; font-weight: bold\">9d2b7929ae1633f45569.out</span><span style=\"color: #008080; text-decoration-color: #008080; font-weight: bold\"> </span><span style=\"color: #800080; text-decoration-color: #800080; font-weight: bold\">/Users/qnbhd/Development/gimeltune/e</span> <span style=\"color: #7f7f7f; text-decoration-color: #7f7f7f\">            </span>\n",
       "<span style=\"color: #7fbfbf; text-decoration-color: #7fbfbf\">           </span>         <span style=\"color: #800080; text-decoration-color: #800080; font-weight: bold\">xamples/gcc/raytracer/</span><span style=\"color: #ff00ff; text-decoration-color: #ff00ff; font-weight: bold\">raytracer.cpp</span><span style=\"color: #008080; text-decoration-color: #008080; font-weight: bold\">  -falign-functions </span>      <span style=\"color: #7f7f7f; text-decoration-color: #7f7f7f\">            </span>\n",
       "<span style=\"color: #7fbfbf; text-decoration-color: #7fbfbf\">           </span>         <span style=\"color: #008080; text-decoration-color: #008080; font-weight: bold\">-falign-jumps -fno-align-labels </span>                             <span style=\"color: #7f7f7f; text-decoration-color: #7f7f7f\">            </span>\n",
       "<span style=\"color: #7fbfbf; text-decoration-color: #7fbfbf\">           </span>         <span style=\"color: #008080; text-decoration-color: #008080; font-weight: bold\">-fno-asynchronous-unwind-tables -fbranch-count-reg </span>          <span style=\"color: #7f7f7f; text-decoration-color: #7f7f7f\">            </span>\n",
       "<span style=\"color: #7fbfbf; text-decoration-color: #7fbfbf\">           </span>         <span style=\"color: #008080; text-decoration-color: #008080; font-weight: bold\">-fbranch-probabilities --param early-inlining-</span><span style=\"color: #808000; text-decoration-color: #808000; font-weight: bold\">insns</span><span style=\"color: #008080; text-decoration-color: #008080; font-weight: bold\">=</span><span style=\"color: #008080; text-decoration-color: #008080; font-weight: bold\">950</span><span style=\"color: #008080; text-decoration-color: #008080; font-weight: bold\"> </span>     <span style=\"color: #7f7f7f; text-decoration-color: #7f7f7f\">            </span>\n",
       "<span style=\"color: #7fbfbf; text-decoration-color: #7fbfbf\">           </span>         <span style=\"color: #008080; text-decoration-color: #008080; font-weight: bold\">--param gcse-cost-distance-</span><span style=\"color: #808000; text-decoration-color: #808000; font-weight: bold\">ratio</span><span style=\"color: #008080; text-decoration-color: #008080; font-weight: bold\">=</span><span style=\"color: #008080; text-decoration-color: #008080; font-weight: bold\">23</span><span style=\"color: #008080; text-decoration-color: #008080; font-weight: bold\"> --param </span>                 <span style=\"color: #7f7f7f; text-decoration-color: #7f7f7f\">            </span>\n",
       "<span style=\"color: #7fbfbf; text-decoration-color: #7fbfbf\">           </span>         <span style=\"color: #008080; text-decoration-color: #008080; font-weight: bold\">iv-max-considered-</span><span style=\"color: #808000; text-decoration-color: #808000; font-weight: bold\">uses</span><span style=\"color: #008080; text-decoration-color: #008080; font-weight: bold\">=</span><span style=\"color: #008080; text-decoration-color: #008080; font-weight: bold\">674</span><span style=\"color: #008080; text-decoration-color: #008080; font-weight: bold\"> </span><span style=\"color: #008080; text-decoration-color: #008080; font-weight: bold\">2</span><span style=\"color: #008080; text-decoration-color: #008080; font-weight: bold\">&gt;&amp;</span><span style=\"color: #008080; text-decoration-color: #008080; font-weight: bold\">1</span>                              <span style=\"color: #7f7f7f; text-decoration-color: #7f7f7f\">            </span>\n",
       "</pre>\n"
      ],
      "text/plain": [
       "\u001b[2;36m          \u001b[0m\u001b[2;36m \u001b[0m\u001b[32mDEBUG   \u001b[0m RUN COMMAND:                                                 \u001b[2mrunner.py\u001b[0m\u001b[2m:\u001b[0m\u001b[2m79\u001b[0m\n",
       "\u001b[2;36m           \u001b[0m         \u001b[1;36mgtime -f \u001b[0m\u001b[32m'%e'\u001b[0m\u001b[1;36m g++\u001b[0m\u001b[1;36m-11\u001b[0m\u001b[1;36m -o \u001b[0m\u001b[1;35m/Users/qnbhd/Development/gimeltune/ex\u001b[0m \u001b[2m            \u001b[0m\n",
       "\u001b[2;36m           \u001b[0m         \u001b[1;35mamples/gcc/\u001b[0m\u001b[1;95m42364432d8ce59792f7206de462816eb50aaf2420041ed3e0\u001b[0m \u001b[2m            \u001b[0m\n",
       "\u001b[2;36m           \u001b[0m         \u001b[1;95m9d2b7929ae1633f45569.out\u001b[0m\u001b[1;36m \u001b[0m\u001b[1;35m/Users/qnbhd/Development/gimeltune/e\u001b[0m \u001b[2m            \u001b[0m\n",
       "\u001b[2;36m           \u001b[0m         \u001b[1;35mxamples/gcc/raytracer/\u001b[0m\u001b[1;95mraytracer.cpp\u001b[0m\u001b[1;36m  -falign-functions \u001b[0m      \u001b[2m            \u001b[0m\n",
       "\u001b[2;36m           \u001b[0m         \u001b[1;36m-falign-jumps -fno-align-labels \u001b[0m                             \u001b[2m            \u001b[0m\n",
       "\u001b[2;36m           \u001b[0m         \u001b[1;36m-fno-asynchronous-unwind-tables -fbranch-count-reg \u001b[0m          \u001b[2m            \u001b[0m\n",
       "\u001b[2;36m           \u001b[0m         \u001b[1;36m-fbranch-probabilities --param early-inlining-\u001b[0m\u001b[1;33minsns\u001b[0m\u001b[1;36m=\u001b[0m\u001b[1;36m950\u001b[0m\u001b[1;36m \u001b[0m     \u001b[2m            \u001b[0m\n",
       "\u001b[2;36m           \u001b[0m         \u001b[1;36m--param gcse-cost-distance-\u001b[0m\u001b[1;33mratio\u001b[0m\u001b[1;36m=\u001b[0m\u001b[1;36m23\u001b[0m\u001b[1;36m --param \u001b[0m                 \u001b[2m            \u001b[0m\n",
       "\u001b[2;36m           \u001b[0m         \u001b[1;36miv-max-considered-\u001b[0m\u001b[1;33muses\u001b[0m\u001b[1;36m=\u001b[0m\u001b[1;36m674\u001b[0m\u001b[1;36m \u001b[0m\u001b[1;36m2\u001b[0m\u001b[1;36m>&\u001b[0m\u001b[1;36m1\u001b[0m                              \u001b[2m            \u001b[0m\n"
      ]
     },
     "metadata": {},
     "output_type": "display_data"
    },
    {
     "data": {
      "text/html": [
       "<pre style=\"white-space:pre;overflow-x:auto;line-height:normal;font-family:Menlo,'DejaVu Sans Mono',consolas,'Courier New',monospace\"><span style=\"color: #7fbfbf; text-decoration-color: #7fbfbf\">[11:16:54] </span><span style=\"color: #000080; text-decoration-color: #000080\">INFO    </span> <span style=\"color: #808000; text-decoration-color: #808000; font-weight: bold\">OUT: </span><span style=\"color: #800080; text-decoration-color: #800080; font-weight: bold\">/Users/qnbhd/Development/gimeltune/examples/gcc/raytrace</span> <span style=\"color: #7f7f7f; text-decoration-color: #7f7f7f\">runner.py:85</span>\n",
       "<span style=\"color: #7fbfbf; text-decoration-color: #7fbfbf\">           </span>         <span style=\"color: #800080; text-decoration-color: #800080; font-weight: bold\">r/</span><span style=\"color: #ff00ff; text-decoration-color: #ff00ff; font-weight: bold\">raytracer.cpp</span><span style=\"color: #808000; text-decoration-color: #808000; font-weight: bold\">: In function </span><span style=\"color: #008000; text-decoration-color: #008000\">'(static initializers for /User</span> <span style=\"color: #7f7f7f; text-decoration-color: #7f7f7f\">            </span>\n",
       "<span style=\"color: #7fbfbf; text-decoration-color: #7fbfbf\">           </span>         <span style=\"color: #008000; text-decoration-color: #008000\">s/qnbhd/Development/gimeltune/examples/gcc/raytracer/raytrace</span> <span style=\"color: #7f7f7f; text-decoration-color: #7f7f7f\">            </span>\n",
       "<span style=\"color: #7fbfbf; text-decoration-color: #7fbfbf\">           </span>         <span style=\"color: #008000; text-decoration-color: #008000\">r.cpp)'</span><span style=\"color: #808000; text-decoration-color: #808000; font-weight: bold\">:</span>                                                     <span style=\"color: #7f7f7f; text-decoration-color: #7f7f7f\">            </span>\n",
       "<span style=\"color: #7fbfbf; text-decoration-color: #7fbfbf\">           </span>         <span style=\"color: #800080; text-decoration-color: #800080; font-weight: bold\">/Users/qnbhd/Development/gimeltune/examples/gcc/raytracer/</span><span style=\"color: #ff00ff; text-decoration-color: #ff00ff; font-weight: bold\">ray</span> <span style=\"color: #7f7f7f; text-decoration-color: #7f7f7f\">            </span>\n",
       "<span style=\"color: #7fbfbf; text-decoration-color: #7fbfbf\">           </span>         <span style=\"color: #ff00ff; text-decoration-color: #ff00ff; font-weight: bold\">tracer.cpp</span><span style=\"color: #808000; text-decoration-color: #808000; font-weight: bold\">:</span><span style=\"color: #00ff00; text-decoration-color: #00ff00; font-weight: bold\">277:1</span><span style=\"color: #808000; text-decoration-color: #808000; font-weight: bold\">: warning: </span><span style=\"color: #008000; text-decoration-color: #008000\">'/Users/qnbhd/Development/polytun</span> <span style=\"color: #7f7f7f; text-decoration-color: #7f7f7f\">            </span>\n",
       "<span style=\"color: #7fbfbf; text-decoration-color: #7fbfbf\">           </span>         <span style=\"color: #008000; text-decoration-color: #008000\">e/examples/gcc/42364432d8ce59792f7206de462816eb50aaf2420041e</span> <span style=\"color: #7f7f7f; text-decoration-color: #7f7f7f\">            </span>\n",
       "<span style=\"color: #7fbfbf; text-decoration-color: #7fbfbf\">           </span>         <span style=\"color: #008000; text-decoration-color: #008000\">d3e09d2b7929ae1633f45569.out-raytracer.gcda'</span><span style=\"color: #808000; text-decoration-color: #808000; font-weight: bold\"> profile count </span>  <span style=\"color: #7f7f7f; text-decoration-color: #7f7f7f\">            </span>\n",
       "<span style=\"color: #7fbfbf; text-decoration-color: #7fbfbf\">           </span>         <span style=\"color: #808000; text-decoration-color: #808000; font-weight: bold\">data file not found [-Wmissing-profile]</span>                      <span style=\"color: #7f7f7f; text-decoration-color: #7f7f7f\">            </span>\n",
       "<span style=\"color: #7fbfbf; text-decoration-color: #7fbfbf\">           </span>         <span style=\"color: #808000; text-decoration-color: #808000; font-weight: bold\">  </span><span style=\"color: #008080; text-decoration-color: #008080; font-weight: bold\">277</span><span style=\"color: #808000; text-decoration-color: #808000; font-weight: bold\"> | }</span>                                                    <span style=\"color: #7f7f7f; text-decoration-color: #7f7f7f\">            </span>\n",
       "<span style=\"color: #7fbfbf; text-decoration-color: #7fbfbf\">           </span>         <span style=\"color: #808000; text-decoration-color: #808000; font-weight: bold\">      | ^</span>                                                    <span style=\"color: #7f7f7f; text-decoration-color: #7f7f7f\">            </span>\n",
       "<span style=\"color: #7fbfbf; text-decoration-color: #7fbfbf\">           </span>         <span style=\"color: #008080; text-decoration-color: #008080; font-weight: bold\">1.06</span>                                                         <span style=\"color: #7f7f7f; text-decoration-color: #7f7f7f\">            </span>\n",
       "</pre>\n"
      ],
      "text/plain": [
       "\u001b[2;36m[11:16:54]\u001b[0m\u001b[2;36m \u001b[0m\u001b[34mINFO    \u001b[0m \u001b[1;33mOUT: \u001b[0m\u001b[1;35m/Users/qnbhd/Development/gimeltune/examples/gcc/raytrace\u001b[0m \u001b[2mrunner.py\u001b[0m\u001b[2m:\u001b[0m\u001b[2m85\u001b[0m\n",
       "\u001b[2;36m           \u001b[0m         \u001b[1;35mr/\u001b[0m\u001b[1;95mraytracer.cpp\u001b[0m\u001b[1;33m: In function \u001b[0m\u001b[32m'\u001b[0m\u001b[32m(\u001b[0m\u001b[32mstatic initializers for /User\u001b[0m \u001b[2m            \u001b[0m\n",
       "\u001b[2;36m           \u001b[0m         \u001b[32ms/qnbhd/Development/gimeltune/examples/gcc/raytracer/raytrace\u001b[0m \u001b[2m            \u001b[0m\n",
       "\u001b[2;36m           \u001b[0m         \u001b[32mr.cpp\u001b[0m\u001b[32m)\u001b[0m\u001b[32m'\u001b[0m\u001b[1;33m:\u001b[0m                                                     \u001b[2m            \u001b[0m\n",
       "\u001b[2;36m           \u001b[0m         \u001b[1;35m/Users/qnbhd/Development/gimeltune/examples/gcc/raytracer/\u001b[0m\u001b[1;95mray\u001b[0m \u001b[2m            \u001b[0m\n",
       "\u001b[2;36m           \u001b[0m         \u001b[1;95mtracer.cpp\u001b[0m\u001b[1;33m:\u001b[0m\u001b[1;92m277:1\u001b[0m\u001b[1;33m: warning: \u001b[0m\u001b[32m'/Users/qnbhd/Development/polytun\u001b[0m \u001b[2m            \u001b[0m\n",
       "\u001b[2;36m           \u001b[0m         \u001b[32me/examples/gcc/42364432d8ce59792f7206de462816eb50aaf2420041e\u001b[0m \u001b[2m            \u001b[0m\n",
       "\u001b[2;36m           \u001b[0m         \u001b[32md3e09d2b7929ae1633f45569.out-raytracer.gcda'\u001b[0m\u001b[1;33m profile count \u001b[0m  \u001b[2m            \u001b[0m\n",
       "\u001b[2;36m           \u001b[0m         \u001b[1;33mdata file not found \u001b[0m\u001b[1;33m[\u001b[0m\u001b[1;33m-Wmissing-profile\u001b[0m\u001b[1;33m]\u001b[0m                      \u001b[2m            \u001b[0m\n",
       "\u001b[2;36m           \u001b[0m         \u001b[1;33m  \u001b[0m\u001b[1;36m277\u001b[0m\u001b[1;33m | \u001b[0m\u001b[1;33m}\u001b[0m                                                    \u001b[2m            \u001b[0m\n",
       "\u001b[2;36m           \u001b[0m         \u001b[1;33m      | ^\u001b[0m                                                    \u001b[2m            \u001b[0m\n",
       "\u001b[2;36m           \u001b[0m         \u001b[1;36m1.06\u001b[0m                                                         \u001b[2m            \u001b[0m\n"
      ]
     },
     "metadata": {},
     "output_type": "display_data"
    },
    {
     "name": "stdout",
     "output_type": "stream",
     "text": [
      "COMPILE could not convert string to float: \"/Users/qnbhd/Development/gimeltune/examples/gcc/raytracer/raytracer.cpp: In function '(static initializers for /Users/qnbhd/Development/gimeltune/examples/gcc/raytracer/raytracer.cpp)':\\n/Users/qnbhd/Development/gimeltune/examples/gcc/raytracer/raytracer.cpp:277:1: warning: '/Users/qnbhd/Development/gimeltune/examples/gcc/42364432d8ce59792f7206de462816eb50aaf2420041ed3e09d2b7929ae1633f45569.out-raytracer.gcda' profile count data file not found [-Wmissing-profile]\\n  277 | }\\n      | ^\\n1.06\"\n"
     ]
    },
    {
     "data": {
      "text/html": [
       "<pre style=\"white-space:pre;overflow-x:auto;line-height:normal;font-family:Menlo,'DejaVu Sans Mono',consolas,'Courier New',monospace\"><span style=\"color: #7fbfbf; text-decoration-color: #7fbfbf\">           </span><span style=\"color: #000080; text-decoration-color: #000080\">INFO    </span> Trying experiment: <span style=\"color: #800080; text-decoration-color: #800080; font-weight: bold\">Experiment</span><span style=\"font-weight: bold\">({</span>                             <span style=\"color: #7f7f7f; text-decoration-color: #7f7f7f\">runner.py:156</span>\n",
       "<span style=\"color: #7fbfbf; text-decoration-color: #7fbfbf\">           </span>             <span style=\"color: #008000; text-decoration-color: #008000\">\"id\"</span>: <span style=\"color: #008080; text-decoration-color: #008080; font-weight: bold\">2</span>,                                                <span style=\"color: #7f7f7f; text-decoration-color: #7f7f7f\">             </span>\n",
       "<span style=\"color: #7fbfbf; text-decoration-color: #7fbfbf\">           </span>             <span style=\"color: #008000; text-decoration-color: #008000\">\"job_id\"</span>: <span style=\"color: #008080; text-decoration-color: #008080; font-weight: bold\">1</span>,                                            <span style=\"color: #7f7f7f; text-decoration-color: #7f7f7f\">             </span>\n",
       "<span style=\"color: #7fbfbf; text-decoration-color: #7fbfbf\">           </span>             <span style=\"color: #008000; text-decoration-color: #008000\">\"state\"</span>: <span style=\"color: #008000; text-decoration-color: #008000\">\"WIP\"</span>,                                         <span style=\"color: #7f7f7f; text-decoration-color: #7f7f7f\">             </span>\n",
       "<span style=\"color: #7fbfbf; text-decoration-color: #7fbfbf\">           </span>             <span style=\"color: #008000; text-decoration-color: #008000\">\"hash\"</span>: null,                                           <span style=\"color: #7f7f7f; text-decoration-color: #7f7f7f\">             </span>\n",
       "<span style=\"color: #7fbfbf; text-decoration-color: #7fbfbf\">           </span>             <span style=\"color: #008000; text-decoration-color: #008000\">\"objective_result\"</span>: null,                               <span style=\"color: #7f7f7f; text-decoration-color: #7f7f7f\">             </span>\n",
       "<span style=\"color: #7fbfbf; text-decoration-color: #7fbfbf\">           </span>             <span style=\"color: #008000; text-decoration-color: #008000\">\"params\"</span>: <span style=\"font-weight: bold\">{</span>                                             <span style=\"color: #7f7f7f; text-decoration-color: #7f7f7f\">             </span>\n",
       "<span style=\"color: #7fbfbf; text-decoration-color: #7fbfbf\">           </span>                 <span style=\"color: #008000; text-decoration-color: #008000\">\"-O\"</span>: <span style=\"color: #008000; text-decoration-color: #008000\">\"-O2\"</span>,                                        <span style=\"color: #7f7f7f; text-decoration-color: #7f7f7f\">             </span>\n",
       "<span style=\"color: #7fbfbf; text-decoration-color: #7fbfbf\">           </span>                 <span style=\"color: #008000; text-decoration-color: #008000\">\"align-functions\"</span>: null,                            <span style=\"color: #7f7f7f; text-decoration-color: #7f7f7f\">             </span>\n",
       "<span style=\"color: #7fbfbf; text-decoration-color: #7fbfbf\">           </span>                 <span style=\"color: #008000; text-decoration-color: #008000\">\"align-jumps\"</span>: <span style=\"color: #008000; text-decoration-color: #008000\">\"-fno-align-jumps\"</span>,                  <span style=\"color: #7f7f7f; text-decoration-color: #7f7f7f\">             </span>\n",
       "<span style=\"color: #7fbfbf; text-decoration-color: #7fbfbf\">           </span>                 <span style=\"color: #008000; text-decoration-color: #008000\">\"align-labels\"</span>: null,                               <span style=\"color: #7f7f7f; text-decoration-color: #7f7f7f\">             </span>\n",
       "<span style=\"color: #7fbfbf; text-decoration-color: #7fbfbf\">           </span>                 <span style=\"color: #008000; text-decoration-color: #008000\">\"asynchronous-unwind-tables\"</span>:                       <span style=\"color: #7f7f7f; text-decoration-color: #7f7f7f\">             </span>\n",
       "<span style=\"color: #7fbfbf; text-decoration-color: #7fbfbf\">           </span>         <span style=\"color: #008000; text-decoration-color: #008000\">\"-fasynchronous-unwind-tables\"</span>,                             <span style=\"color: #7f7f7f; text-decoration-color: #7f7f7f\">             </span>\n",
       "<span style=\"color: #7fbfbf; text-decoration-color: #7fbfbf\">           </span>                 <span style=\"color: #008000; text-decoration-color: #008000\">\"branch-count-reg\"</span>: <span style=\"color: #008000; text-decoration-color: #008000\">\"-fno-branch-count-reg\"</span>,        <span style=\"color: #7f7f7f; text-decoration-color: #7f7f7f\">             </span>\n",
       "<span style=\"color: #7fbfbf; text-decoration-color: #7fbfbf\">           </span>                 <span style=\"color: #008000; text-decoration-color: #008000\">\"branch-probabilities\"</span>: null,                       <span style=\"color: #7f7f7f; text-decoration-color: #7f7f7f\">             </span>\n",
       "<span style=\"color: #7fbfbf; text-decoration-color: #7fbfbf\">           </span>                 <span style=\"color: #008000; text-decoration-color: #008000\">\"early-inlining-insns\"</span>: <span style=\"color: #008080; text-decoration-color: #008080; font-weight: bold\">668</span>,                        <span style=\"color: #7f7f7f; text-decoration-color: #7f7f7f\">             </span>\n",
       "<span style=\"color: #7fbfbf; text-decoration-color: #7fbfbf\">           </span>                 <span style=\"color: #008000; text-decoration-color: #008000\">\"gcse-cost-distance-ratio\"</span>: <span style=\"color: #008080; text-decoration-color: #008080; font-weight: bold\">45</span>,                     <span style=\"color: #7f7f7f; text-decoration-color: #7f7f7f\">             </span>\n",
       "<span style=\"color: #7fbfbf; text-decoration-color: #7fbfbf\">           </span>                 <span style=\"color: #008000; text-decoration-color: #008000\">\"iv-max-considered-uses\"</span>: <span style=\"color: #008080; text-decoration-color: #008080; font-weight: bold\">29</span>                        <span style=\"color: #7f7f7f; text-decoration-color: #7f7f7f\">             </span>\n",
       "<span style=\"color: #7fbfbf; text-decoration-color: #7fbfbf\">           </span>             <span style=\"font-weight: bold\">}</span>,                                                      <span style=\"color: #7f7f7f; text-decoration-color: #7f7f7f\">             </span>\n",
       "<span style=\"color: #7fbfbf; text-decoration-color: #7fbfbf\">           </span>             <span style=\"color: #008000; text-decoration-color: #008000\">\"requestor\"</span>: <span style=\"color: #008000; text-decoration-color: #008000\">\"SkoptBayesianAlgorithm\"</span>,                  <span style=\"color: #7f7f7f; text-decoration-color: #7f7f7f\">             </span>\n",
       "<span style=\"color: #7fbfbf; text-decoration-color: #7fbfbf\">           </span>             <span style=\"color: #008000; text-decoration-color: #008000\">\"create_timestamp\"</span>: <span style=\"color: #008080; text-decoration-color: #008080; font-weight: bold\">1645690613.006942</span>,                  <span style=\"color: #7f7f7f; text-decoration-color: #7f7f7f\">             </span>\n",
       "<span style=\"color: #7fbfbf; text-decoration-color: #7fbfbf\">           </span>             <span style=\"color: #008000; text-decoration-color: #008000\">\"finish_timestamp\"</span>: null                                <span style=\"color: #7f7f7f; text-decoration-color: #7f7f7f\">             </span>\n",
       "<span style=\"color: #7fbfbf; text-decoration-color: #7fbfbf\">           </span>         <span style=\"font-weight: bold\">})</span>                                                          <span style=\"color: #7f7f7f; text-decoration-color: #7f7f7f\">             </span>\n",
       "</pre>\n"
      ],
      "text/plain": [
       "\u001b[2;36m          \u001b[0m\u001b[2;36m \u001b[0m\u001b[34mINFO    \u001b[0m Trying experiment: \u001b[1;35mExperiment\u001b[0m\u001b[1m(\u001b[0m\u001b[1m{\u001b[0m                             \u001b[2mrunner.py\u001b[0m\u001b[2m:\u001b[0m\u001b[2m156\u001b[0m\n",
       "\u001b[2;36m           \u001b[0m             \u001b[32m\"id\"\u001b[0m: \u001b[1;36m2\u001b[0m,                                                \u001b[2m             \u001b[0m\n",
       "\u001b[2;36m           \u001b[0m             \u001b[32m\"job_id\"\u001b[0m: \u001b[1;36m1\u001b[0m,                                            \u001b[2m             \u001b[0m\n",
       "\u001b[2;36m           \u001b[0m             \u001b[32m\"state\"\u001b[0m: \u001b[32m\"WIP\"\u001b[0m,                                         \u001b[2m             \u001b[0m\n",
       "\u001b[2;36m           \u001b[0m             \u001b[32m\"hash\"\u001b[0m: null,                                           \u001b[2m             \u001b[0m\n",
       "\u001b[2;36m           \u001b[0m             \u001b[32m\"objective_result\"\u001b[0m: null,                               \u001b[2m             \u001b[0m\n",
       "\u001b[2;36m           \u001b[0m             \u001b[32m\"params\"\u001b[0m: \u001b[1m{\u001b[0m                                             \u001b[2m             \u001b[0m\n",
       "\u001b[2;36m           \u001b[0m                 \u001b[32m\"-O\"\u001b[0m: \u001b[32m\"-O2\"\u001b[0m,                                        \u001b[2m             \u001b[0m\n",
       "\u001b[2;36m           \u001b[0m                 \u001b[32m\"align-functions\"\u001b[0m: null,                            \u001b[2m             \u001b[0m\n",
       "\u001b[2;36m           \u001b[0m                 \u001b[32m\"align-jumps\"\u001b[0m: \u001b[32m\"-fno-align-jumps\"\u001b[0m,                  \u001b[2m             \u001b[0m\n",
       "\u001b[2;36m           \u001b[0m                 \u001b[32m\"align-labels\"\u001b[0m: null,                               \u001b[2m             \u001b[0m\n",
       "\u001b[2;36m           \u001b[0m                 \u001b[32m\"asynchronous-unwind-tables\"\u001b[0m:                       \u001b[2m             \u001b[0m\n",
       "\u001b[2;36m           \u001b[0m         \u001b[32m\"-fasynchronous-unwind-tables\"\u001b[0m,                             \u001b[2m             \u001b[0m\n",
       "\u001b[2;36m           \u001b[0m                 \u001b[32m\"branch-count-reg\"\u001b[0m: \u001b[32m\"-fno-branch-count-reg\"\u001b[0m,        \u001b[2m             \u001b[0m\n",
       "\u001b[2;36m           \u001b[0m                 \u001b[32m\"branch-probabilities\"\u001b[0m: null,                       \u001b[2m             \u001b[0m\n",
       "\u001b[2;36m           \u001b[0m                 \u001b[32m\"early-inlining-insns\"\u001b[0m: \u001b[1;36m668\u001b[0m,                        \u001b[2m             \u001b[0m\n",
       "\u001b[2;36m           \u001b[0m                 \u001b[32m\"gcse-cost-distance-ratio\"\u001b[0m: \u001b[1;36m45\u001b[0m,                     \u001b[2m             \u001b[0m\n",
       "\u001b[2;36m           \u001b[0m                 \u001b[32m\"iv-max-considered-uses\"\u001b[0m: \u001b[1;36m29\u001b[0m                        \u001b[2m             \u001b[0m\n",
       "\u001b[2;36m           \u001b[0m             \u001b[1m}\u001b[0m,                                                      \u001b[2m             \u001b[0m\n",
       "\u001b[2;36m           \u001b[0m             \u001b[32m\"requestor\"\u001b[0m: \u001b[32m\"SkoptBayesianAlgorithm\"\u001b[0m,                  \u001b[2m             \u001b[0m\n",
       "\u001b[2;36m           \u001b[0m             \u001b[32m\"create_timestamp\"\u001b[0m: \u001b[1;36m1645690613.006942\u001b[0m,                  \u001b[2m             \u001b[0m\n",
       "\u001b[2;36m           \u001b[0m             \u001b[32m\"finish_timestamp\"\u001b[0m: null                                \u001b[2m             \u001b[0m\n",
       "\u001b[2;36m           \u001b[0m         \u001b[1m}\u001b[0m\u001b[1m)\u001b[0m                                                          \u001b[2m             \u001b[0m\n"
      ]
     },
     "metadata": {},
     "output_type": "display_data"
    },
    {
     "data": {
      "text/html": [
       "<pre style=\"white-space:pre;overflow-x:auto;line-height:normal;font-family:Menlo,'DejaVu Sans Mono',consolas,'Courier New',monospace\"><span style=\"color: #7fbfbf; text-decoration-color: #7fbfbf\">           </span><span style=\"color: #008000; text-decoration-color: #008000\">DEBUG   </span> RUN COMMAND:                                                 <span style=\"color: #7f7f7f; text-decoration-color: #7f7f7f\">runner.py:79</span>\n",
       "<span style=\"color: #7fbfbf; text-decoration-color: #7fbfbf\">           </span>         <span style=\"color: #008080; text-decoration-color: #008080; font-weight: bold\">gtime -f </span><span style=\"color: #008000; text-decoration-color: #008000\">'%e'</span><span style=\"color: #008080; text-decoration-color: #008080; font-weight: bold\"> g++</span><span style=\"color: #008080; text-decoration-color: #008080; font-weight: bold\">-11</span><span style=\"color: #008080; text-decoration-color: #008080; font-weight: bold\"> -o </span><span style=\"color: #800080; text-decoration-color: #800080; font-weight: bold\">/Users/qnbhd/Development/gimeltune/ex</span> <span style=\"color: #7f7f7f; text-decoration-color: #7f7f7f\">            </span>\n",
       "<span style=\"color: #7fbfbf; text-decoration-color: #7fbfbf\">           </span>         <span style=\"color: #800080; text-decoration-color: #800080; font-weight: bold\">amples/gcc/</span><span style=\"color: #ff00ff; text-decoration-color: #ff00ff; font-weight: bold\">b433316dec6dcf199e2e67bef5791ab969d5dfde80978e2a7</span> <span style=\"color: #7f7f7f; text-decoration-color: #7f7f7f\">            </span>\n",
       "<span style=\"color: #7fbfbf; text-decoration-color: #7fbfbf\">           </span>         <span style=\"color: #ff00ff; text-decoration-color: #ff00ff; font-weight: bold\">f6f8981625e6f6159493.out</span><span style=\"color: #008080; text-decoration-color: #008080; font-weight: bold\"> </span><span style=\"color: #800080; text-decoration-color: #800080; font-weight: bold\">/Users/qnbhd/Development/gimeltune/e</span> <span style=\"color: #7f7f7f; text-decoration-color: #7f7f7f\">            </span>\n",
       "<span style=\"color: #7fbfbf; text-decoration-color: #7fbfbf\">           </span>         <span style=\"color: #800080; text-decoration-color: #800080; font-weight: bold\">xamples/gcc/raytracer/</span><span style=\"color: #ff00ff; text-decoration-color: #ff00ff; font-weight: bold\">raytracer.cpp</span><span style=\"color: #008080; text-decoration-color: #008080; font-weight: bold\"> -O2  -fno-align-jumps  </span>  <span style=\"color: #7f7f7f; text-decoration-color: #7f7f7f\">            </span>\n",
       "<span style=\"color: #7fbfbf; text-decoration-color: #7fbfbf\">           </span>         <span style=\"color: #008080; text-decoration-color: #008080; font-weight: bold\">-fasynchronous-unwind-tables -fno-branch-count-reg  --param </span> <span style=\"color: #7f7f7f; text-decoration-color: #7f7f7f\">            </span>\n",
       "<span style=\"color: #7fbfbf; text-decoration-color: #7fbfbf\">           </span>         <span style=\"color: #008080; text-decoration-color: #008080; font-weight: bold\">early-inlining-</span><span style=\"color: #808000; text-decoration-color: #808000; font-weight: bold\">insns</span><span style=\"color: #008080; text-decoration-color: #008080; font-weight: bold\">=</span><span style=\"color: #008080; text-decoration-color: #008080; font-weight: bold\">668</span><span style=\"color: #008080; text-decoration-color: #008080; font-weight: bold\"> --param gcse-cost-distance-</span><span style=\"color: #808000; text-decoration-color: #808000; font-weight: bold\">ratio</span><span style=\"color: #008080; text-decoration-color: #008080; font-weight: bold\">=</span><span style=\"color: #008080; text-decoration-color: #008080; font-weight: bold\">45</span> <span style=\"color: #7f7f7f; text-decoration-color: #7f7f7f\">            </span>\n",
       "<span style=\"color: #7fbfbf; text-decoration-color: #7fbfbf\">           </span>         <span style=\"color: #008080; text-decoration-color: #008080; font-weight: bold\">--param iv-max-considered-</span><span style=\"color: #808000; text-decoration-color: #808000; font-weight: bold\">uses</span><span style=\"color: #008080; text-decoration-color: #008080; font-weight: bold\">=</span><span style=\"color: #008080; text-decoration-color: #008080; font-weight: bold\">29</span><span style=\"color: #008080; text-decoration-color: #008080; font-weight: bold\"> </span><span style=\"color: #008080; text-decoration-color: #008080; font-weight: bold\">2</span><span style=\"color: #008080; text-decoration-color: #008080; font-weight: bold\">&gt;&amp;</span><span style=\"color: #008080; text-decoration-color: #008080; font-weight: bold\">1</span>                       <span style=\"color: #7f7f7f; text-decoration-color: #7f7f7f\">            </span>\n",
       "</pre>\n"
      ],
      "text/plain": [
       "\u001b[2;36m          \u001b[0m\u001b[2;36m \u001b[0m\u001b[32mDEBUG   \u001b[0m RUN COMMAND:                                                 \u001b[2mrunner.py\u001b[0m\u001b[2m:\u001b[0m\u001b[2m79\u001b[0m\n",
       "\u001b[2;36m           \u001b[0m         \u001b[1;36mgtime -f \u001b[0m\u001b[32m'%e'\u001b[0m\u001b[1;36m g++\u001b[0m\u001b[1;36m-11\u001b[0m\u001b[1;36m -o \u001b[0m\u001b[1;35m/Users/qnbhd/Development/gimeltune/ex\u001b[0m \u001b[2m            \u001b[0m\n",
       "\u001b[2;36m           \u001b[0m         \u001b[1;35mamples/gcc/\u001b[0m\u001b[1;95mb433316dec6dcf199e2e67bef5791ab969d5dfde80978e2a7\u001b[0m \u001b[2m            \u001b[0m\n",
       "\u001b[2;36m           \u001b[0m         \u001b[1;95mf6f8981625e6f6159493.out\u001b[0m\u001b[1;36m \u001b[0m\u001b[1;35m/Users/qnbhd/Development/gimeltune/e\u001b[0m \u001b[2m            \u001b[0m\n",
       "\u001b[2;36m           \u001b[0m         \u001b[1;35mxamples/gcc/raytracer/\u001b[0m\u001b[1;95mraytracer.cpp\u001b[0m\u001b[1;36m -O2  -fno-align-jumps  \u001b[0m  \u001b[2m            \u001b[0m\n",
       "\u001b[2;36m           \u001b[0m         \u001b[1;36m-fasynchronous-unwind-tables -fno-branch-count-reg  --param \u001b[0m \u001b[2m            \u001b[0m\n",
       "\u001b[2;36m           \u001b[0m         \u001b[1;36mearly-inlining-\u001b[0m\u001b[1;33minsns\u001b[0m\u001b[1;36m=\u001b[0m\u001b[1;36m668\u001b[0m\u001b[1;36m --param gcse-cost-distance-\u001b[0m\u001b[1;33mratio\u001b[0m\u001b[1;36m=\u001b[0m\u001b[1;36m45\u001b[0m \u001b[2m            \u001b[0m\n",
       "\u001b[2;36m           \u001b[0m         \u001b[1;36m--param iv-max-considered-\u001b[0m\u001b[1;33muses\u001b[0m\u001b[1;36m=\u001b[0m\u001b[1;36m29\u001b[0m\u001b[1;36m \u001b[0m\u001b[1;36m2\u001b[0m\u001b[1;36m>&\u001b[0m\u001b[1;36m1\u001b[0m                       \u001b[2m            \u001b[0m\n"
      ]
     },
     "metadata": {},
     "output_type": "display_data"
    },
    {
     "data": {
      "text/html": [
       "<pre style=\"white-space:pre;overflow-x:auto;line-height:normal;font-family:Menlo,'DejaVu Sans Mono',consolas,'Courier New',monospace\"><span style=\"color: #7fbfbf; text-decoration-color: #7fbfbf\">[11:16:55] </span><span style=\"color: #000080; text-decoration-color: #000080\">INFO    </span> <span style=\"color: #808000; text-decoration-color: #808000; font-weight: bold\">OUT: </span><span style=\"color: #008080; text-decoration-color: #008080; font-weight: bold\">0.94</span>                                                    <span style=\"color: #7f7f7f; text-decoration-color: #7f7f7f\">runner.py:85</span>\n",
       "</pre>\n"
      ],
      "text/plain": [
       "\u001b[2;36m[11:16:55]\u001b[0m\u001b[2;36m \u001b[0m\u001b[34mINFO    \u001b[0m \u001b[1;33mOUT: \u001b[0m\u001b[1;36m0.94\u001b[0m                                                    \u001b[2mrunner.py\u001b[0m\u001b[2m:\u001b[0m\u001b[2m85\u001b[0m\n"
      ]
     },
     "metadata": {},
     "output_type": "display_data"
    },
    {
     "data": {
      "text/html": [
       "<pre style=\"white-space:pre;overflow-x:auto;line-height:normal;font-family:Menlo,'DejaVu Sans Mono',consolas,'Courier New',monospace\"><span style=\"color: #7fbfbf; text-decoration-color: #7fbfbf\">           </span><span style=\"color: #008000; text-decoration-color: #008000\">DEBUG   </span> RUN COMMAND:                                                 <span style=\"color: #7f7f7f; text-decoration-color: #7f7f7f\">runner.py:79</span>\n",
       "<span style=\"color: #7fbfbf; text-decoration-color: #7fbfbf\">           </span>         <span style=\"color: #008080; text-decoration-color: #008080; font-weight: bold\">wc -c </span><span style=\"color: #800080; text-decoration-color: #800080; font-weight: bold\">/Users/qnbhd/Development/gimeltune/examples/gcc/</span><span style=\"color: #ff00ff; text-decoration-color: #ff00ff; font-weight: bold\">b433316</span> <span style=\"color: #7f7f7f; text-decoration-color: #7f7f7f\">            </span>\n",
       "<span style=\"color: #7fbfbf; text-decoration-color: #7fbfbf\">           </span>         <span style=\"color: #ff00ff; text-decoration-color: #ff00ff; font-weight: bold\">dec6dcf199e2e67bef5791ab969d5dfde80978e2a7f6f8981625e6f61594</span> <span style=\"color: #7f7f7f; text-decoration-color: #7f7f7f\">            </span>\n",
       "<span style=\"color: #7fbfbf; text-decoration-color: #7fbfbf\">           </span>         <span style=\"color: #ff00ff; text-decoration-color: #ff00ff; font-weight: bold\">93.out</span><span style=\"color: #008080; text-decoration-color: #008080; font-weight: bold\"> | awk </span><span style=\"color: #008000; text-decoration-color: #008000\">'{print $1}'</span>                                    <span style=\"color: #7f7f7f; text-decoration-color: #7f7f7f\">            </span>\n",
       "</pre>\n"
      ],
      "text/plain": [
       "\u001b[2;36m          \u001b[0m\u001b[2;36m \u001b[0m\u001b[32mDEBUG   \u001b[0m RUN COMMAND:                                                 \u001b[2mrunner.py\u001b[0m\u001b[2m:\u001b[0m\u001b[2m79\u001b[0m\n",
       "\u001b[2;36m           \u001b[0m         \u001b[1;36mwc -c \u001b[0m\u001b[1;35m/Users/qnbhd/Development/gimeltune/examples/gcc/\u001b[0m\u001b[1;95mb433316\u001b[0m \u001b[2m            \u001b[0m\n",
       "\u001b[2;36m           \u001b[0m         \u001b[1;95mdec6dcf199e2e67bef5791ab969d5dfde80978e2a7f6f8981625e6f61594\u001b[0m \u001b[2m            \u001b[0m\n",
       "\u001b[2;36m           \u001b[0m         \u001b[1;95m93.out\u001b[0m\u001b[1;36m | awk \u001b[0m\u001b[32m'\u001b[0m\u001b[32m{\u001b[0m\u001b[32mprint $1\u001b[0m\u001b[32m}\u001b[0m\u001b[32m'\u001b[0m                                    \u001b[2m            \u001b[0m\n"
      ]
     },
     "metadata": {},
     "output_type": "display_data"
    },
    {
     "data": {
      "text/html": [
       "<pre style=\"white-space:pre;overflow-x:auto;line-height:normal;font-family:Menlo,'DejaVu Sans Mono',consolas,'Courier New',monospace\"><span style=\"color: #7fbfbf; text-decoration-color: #7fbfbf\">           </span><span style=\"color: #000080; text-decoration-color: #000080\">INFO    </span> <span style=\"color: #808000; text-decoration-color: #808000; font-weight: bold\">OUT: </span><span style=\"color: #008080; text-decoration-color: #008080; font-weight: bold\">50904</span>                                                   <span style=\"color: #7f7f7f; text-decoration-color: #7f7f7f\">runner.py:85</span>\n",
       "</pre>\n"
      ],
      "text/plain": [
       "\u001b[2;36m          \u001b[0m\u001b[2;36m \u001b[0m\u001b[34mINFO    \u001b[0m \u001b[1;33mOUT: \u001b[0m\u001b[1;36m50904\u001b[0m                                                   \u001b[2mrunner.py\u001b[0m\u001b[2m:\u001b[0m\u001b[2m85\u001b[0m\n"
      ]
     },
     "metadata": {},
     "output_type": "display_data"
    },
    {
     "data": {
      "text/html": [
       "<pre style=\"white-space:pre;overflow-x:auto;line-height:normal;font-family:Menlo,'DejaVu Sans Mono',consolas,'Courier New',monospace\"><span style=\"color: #7fbfbf; text-decoration-color: #7fbfbf\">           </span><span style=\"color: #008000; text-decoration-color: #008000\">DEBUG   </span> RUN COMMAND:                                                 <span style=\"color: #7f7f7f; text-decoration-color: #7f7f7f\">runner.py:79</span>\n",
       "<span style=\"color: #7fbfbf; text-decoration-color: #7fbfbf\">           </span>         <span style=\"color: #008080; text-decoration-color: #008080; font-weight: bold\">gtime -f </span><span style=\"color: #008000; text-decoration-color: #008000\">'%e'</span><span style=\"color: #008080; text-decoration-color: #008080; font-weight: bold\"> </span><span style=\"color: #800080; text-decoration-color: #800080; font-weight: bold\">/Users/qnbhd/Development/gimeltune/examples/gcc</span> <span style=\"color: #7f7f7f; text-decoration-color: #7f7f7f\">            </span>\n",
       "<span style=\"color: #7fbfbf; text-decoration-color: #7fbfbf\">           </span>         <span style=\"color: #800080; text-decoration-color: #800080; font-weight: bold\">/</span><span style=\"color: #ff00ff; text-decoration-color: #ff00ff; font-weight: bold\">b433316dec6dcf199e2e67bef5791ab969d5dfde80978e2a7f6f8981625</span> <span style=\"color: #7f7f7f; text-decoration-color: #7f7f7f\">            </span>\n",
       "<span style=\"color: #7fbfbf; text-decoration-color: #7fbfbf\">           </span>         <span style=\"color: #ff00ff; text-decoration-color: #ff00ff; font-weight: bold\">e6f6159493.out</span><span style=\"color: #008080; text-decoration-color: #008080; font-weight: bold\"> </span><span style=\"color: #008080; text-decoration-color: #008080; font-weight: bold\">2</span><span style=\"color: #008080; text-decoration-color: #008080; font-weight: bold\">&gt;&amp;</span><span style=\"color: #008080; text-decoration-color: #008080; font-weight: bold\">1</span>                                          <span style=\"color: #7f7f7f; text-decoration-color: #7f7f7f\">            </span>\n",
       "</pre>\n"
      ],
      "text/plain": [
       "\u001b[2;36m          \u001b[0m\u001b[2;36m \u001b[0m\u001b[32mDEBUG   \u001b[0m RUN COMMAND:                                                 \u001b[2mrunner.py\u001b[0m\u001b[2m:\u001b[0m\u001b[2m79\u001b[0m\n",
       "\u001b[2;36m           \u001b[0m         \u001b[1;36mgtime -f \u001b[0m\u001b[32m'%e'\u001b[0m\u001b[1;36m \u001b[0m\u001b[1;35m/Users/qnbhd/Development/gimeltune/examples/gcc\u001b[0m \u001b[2m            \u001b[0m\n",
       "\u001b[2;36m           \u001b[0m         \u001b[1;35m/\u001b[0m\u001b[1;95mb433316dec6dcf199e2e67bef5791ab969d5dfde80978e2a7f6f8981625\u001b[0m \u001b[2m            \u001b[0m\n",
       "\u001b[2;36m           \u001b[0m         \u001b[1;95me6f6159493.out\u001b[0m\u001b[1;36m \u001b[0m\u001b[1;36m2\u001b[0m\u001b[1;36m>&\u001b[0m\u001b[1;36m1\u001b[0m                                          \u001b[2m            \u001b[0m\n"
      ]
     },
     "metadata": {},
     "output_type": "display_data"
    },
    {
     "data": {
      "text/html": [
       "<pre style=\"white-space:pre;overflow-x:auto;line-height:normal;font-family:Menlo,'DejaVu Sans Mono',consolas,'Courier New',monospace\"><span style=\"color: #7fbfbf; text-decoration-color: #7fbfbf\">           </span><span style=\"color: #000080; text-decoration-color: #000080\">INFO    </span> <span style=\"color: #808000; text-decoration-color: #808000; font-weight: bold\">OUT: </span><span style=\"color: #008080; text-decoration-color: #008080; font-weight: bold\">0.17</span>                                                    <span style=\"color: #7f7f7f; text-decoration-color: #7f7f7f\">runner.py:85</span>\n",
       "</pre>\n"
      ],
      "text/plain": [
       "\u001b[2;36m          \u001b[0m\u001b[2;36m \u001b[0m\u001b[34mINFO    \u001b[0m \u001b[1;33mOUT: \u001b[0m\u001b[1;36m0.17\u001b[0m                                                    \u001b[2mrunner.py\u001b[0m\u001b[2m:\u001b[0m\u001b[2m85\u001b[0m\n"
      ]
     },
     "metadata": {},
     "output_type": "display_data"
    },
    {
     "data": {
      "text/html": [
       "<pre style=\"white-space:pre;overflow-x:auto;line-height:normal;font-family:Menlo,'DejaVu Sans Mono',consolas,'Courier New',monospace\"><span style=\"color: #7fbfbf; text-decoration-color: #7fbfbf\">           </span><span style=\"color: #008000; text-decoration-color: #008000\">DEBUG   </span> RUN COMMAND:                                                 <span style=\"color: #7f7f7f; text-decoration-color: #7f7f7f\">runner.py:79</span>\n",
       "<span style=\"color: #7fbfbf; text-decoration-color: #7fbfbf\">           </span>         <span style=\"color: #008080; text-decoration-color: #008080; font-weight: bold\">gtime -f </span><span style=\"color: #008000; text-decoration-color: #008000\">'%e'</span><span style=\"color: #008080; text-decoration-color: #008080; font-weight: bold\"> </span><span style=\"color: #800080; text-decoration-color: #800080; font-weight: bold\">/Users/qnbhd/Development/gimeltune/examples/gcc</span> <span style=\"color: #7f7f7f; text-decoration-color: #7f7f7f\">            </span>\n",
       "<span style=\"color: #7fbfbf; text-decoration-color: #7fbfbf\">           </span>         <span style=\"color: #800080; text-decoration-color: #800080; font-weight: bold\">/</span><span style=\"color: #ff00ff; text-decoration-color: #ff00ff; font-weight: bold\">b433316dec6dcf199e2e67bef5791ab969d5dfde80978e2a7f6f8981625</span> <span style=\"color: #7f7f7f; text-decoration-color: #7f7f7f\">            </span>\n",
       "<span style=\"color: #7fbfbf; text-decoration-color: #7fbfbf\">           </span>         <span style=\"color: #ff00ff; text-decoration-color: #ff00ff; font-weight: bold\">e6f6159493.out</span><span style=\"color: #008080; text-decoration-color: #008080; font-weight: bold\"> </span><span style=\"color: #008080; text-decoration-color: #008080; font-weight: bold\">2</span><span style=\"color: #008080; text-decoration-color: #008080; font-weight: bold\">&gt;&amp;</span><span style=\"color: #008080; text-decoration-color: #008080; font-weight: bold\">1</span>                                          <span style=\"color: #7f7f7f; text-decoration-color: #7f7f7f\">            </span>\n",
       "</pre>\n"
      ],
      "text/plain": [
       "\u001b[2;36m          \u001b[0m\u001b[2;36m \u001b[0m\u001b[32mDEBUG   \u001b[0m RUN COMMAND:                                                 \u001b[2mrunner.py\u001b[0m\u001b[2m:\u001b[0m\u001b[2m79\u001b[0m\n",
       "\u001b[2;36m           \u001b[0m         \u001b[1;36mgtime -f \u001b[0m\u001b[32m'%e'\u001b[0m\u001b[1;36m \u001b[0m\u001b[1;35m/Users/qnbhd/Development/gimeltune/examples/gcc\u001b[0m \u001b[2m            \u001b[0m\n",
       "\u001b[2;36m           \u001b[0m         \u001b[1;35m/\u001b[0m\u001b[1;95mb433316dec6dcf199e2e67bef5791ab969d5dfde80978e2a7f6f8981625\u001b[0m \u001b[2m            \u001b[0m\n",
       "\u001b[2;36m           \u001b[0m         \u001b[1;95me6f6159493.out\u001b[0m\u001b[1;36m \u001b[0m\u001b[1;36m2\u001b[0m\u001b[1;36m>&\u001b[0m\u001b[1;36m1\u001b[0m                                          \u001b[2m            \u001b[0m\n"
      ]
     },
     "metadata": {},
     "output_type": "display_data"
    },
    {
     "data": {
      "text/html": [
       "<pre style=\"white-space:pre;overflow-x:auto;line-height:normal;font-family:Menlo,'DejaVu Sans Mono',consolas,'Courier New',monospace\"><span style=\"color: #7fbfbf; text-decoration-color: #7fbfbf\">           </span><span style=\"color: #000080; text-decoration-color: #000080\">INFO    </span> <span style=\"color: #808000; text-decoration-color: #808000; font-weight: bold\">OUT: </span><span style=\"color: #008080; text-decoration-color: #008080; font-weight: bold\">0.11</span>                                                    <span style=\"color: #7f7f7f; text-decoration-color: #7f7f7f\">runner.py:85</span>\n",
       "</pre>\n"
      ],
      "text/plain": [
       "\u001b[2;36m          \u001b[0m\u001b[2;36m \u001b[0m\u001b[34mINFO    \u001b[0m \u001b[1;33mOUT: \u001b[0m\u001b[1;36m0.11\u001b[0m                                                    \u001b[2mrunner.py\u001b[0m\u001b[2m:\u001b[0m\u001b[2m85\u001b[0m\n"
      ]
     },
     "metadata": {},
     "output_type": "display_data"
    },
    {
     "data": {
      "text/html": [
       "<pre style=\"white-space:pre;overflow-x:auto;line-height:normal;font-family:Menlo,'DejaVu Sans Mono',consolas,'Courier New',monospace\"><span style=\"color: #7fbfbf; text-decoration-color: #7fbfbf\">           </span><span style=\"color: #008000; text-decoration-color: #008000\">DEBUG   </span> RUN COMMAND:                                                 <span style=\"color: #7f7f7f; text-decoration-color: #7f7f7f\">runner.py:79</span>\n",
       "<span style=\"color: #7fbfbf; text-decoration-color: #7fbfbf\">           </span>         <span style=\"color: #008080; text-decoration-color: #008080; font-weight: bold\">gtime -f </span><span style=\"color: #008000; text-decoration-color: #008000\">'%e'</span><span style=\"color: #008080; text-decoration-color: #008080; font-weight: bold\"> </span><span style=\"color: #800080; text-decoration-color: #800080; font-weight: bold\">/Users/qnbhd/Development/gimeltune/examples/gcc</span> <span style=\"color: #7f7f7f; text-decoration-color: #7f7f7f\">            </span>\n",
       "<span style=\"color: #7fbfbf; text-decoration-color: #7fbfbf\">           </span>         <span style=\"color: #800080; text-decoration-color: #800080; font-weight: bold\">/</span><span style=\"color: #ff00ff; text-decoration-color: #ff00ff; font-weight: bold\">b433316dec6dcf199e2e67bef5791ab969d5dfde80978e2a7f6f8981625</span> <span style=\"color: #7f7f7f; text-decoration-color: #7f7f7f\">            </span>\n",
       "<span style=\"color: #7fbfbf; text-decoration-color: #7fbfbf\">           </span>         <span style=\"color: #ff00ff; text-decoration-color: #ff00ff; font-weight: bold\">e6f6159493.out</span><span style=\"color: #008080; text-decoration-color: #008080; font-weight: bold\"> </span><span style=\"color: #008080; text-decoration-color: #008080; font-weight: bold\">2</span><span style=\"color: #008080; text-decoration-color: #008080; font-weight: bold\">&gt;&amp;</span><span style=\"color: #008080; text-decoration-color: #008080; font-weight: bold\">1</span>                                          <span style=\"color: #7f7f7f; text-decoration-color: #7f7f7f\">            </span>\n",
       "</pre>\n"
      ],
      "text/plain": [
       "\u001b[2;36m          \u001b[0m\u001b[2;36m \u001b[0m\u001b[32mDEBUG   \u001b[0m RUN COMMAND:                                                 \u001b[2mrunner.py\u001b[0m\u001b[2m:\u001b[0m\u001b[2m79\u001b[0m\n",
       "\u001b[2;36m           \u001b[0m         \u001b[1;36mgtime -f \u001b[0m\u001b[32m'%e'\u001b[0m\u001b[1;36m \u001b[0m\u001b[1;35m/Users/qnbhd/Development/gimeltune/examples/gcc\u001b[0m \u001b[2m            \u001b[0m\n",
       "\u001b[2;36m           \u001b[0m         \u001b[1;35m/\u001b[0m\u001b[1;95mb433316dec6dcf199e2e67bef5791ab969d5dfde80978e2a7f6f8981625\u001b[0m \u001b[2m            \u001b[0m\n",
       "\u001b[2;36m           \u001b[0m         \u001b[1;95me6f6159493.out\u001b[0m\u001b[1;36m \u001b[0m\u001b[1;36m2\u001b[0m\u001b[1;36m>&\u001b[0m\u001b[1;36m1\u001b[0m                                          \u001b[2m            \u001b[0m\n"
      ]
     },
     "metadata": {},
     "output_type": "display_data"
    },
    {
     "data": {
      "text/html": [
       "<pre style=\"white-space:pre;overflow-x:auto;line-height:normal;font-family:Menlo,'DejaVu Sans Mono',consolas,'Courier New',monospace\"><span style=\"color: #7fbfbf; text-decoration-color: #7fbfbf\">           </span><span style=\"color: #000080; text-decoration-color: #000080\">INFO    </span> <span style=\"color: #808000; text-decoration-color: #808000; font-weight: bold\">OUT: </span><span style=\"color: #008080; text-decoration-color: #008080; font-weight: bold\">0.11</span>                                                    <span style=\"color: #7f7f7f; text-decoration-color: #7f7f7f\">runner.py:85</span>\n",
       "</pre>\n"
      ],
      "text/plain": [
       "\u001b[2;36m          \u001b[0m\u001b[2;36m \u001b[0m\u001b[34mINFO    \u001b[0m \u001b[1;33mOUT: \u001b[0m\u001b[1;36m0.11\u001b[0m                                                    \u001b[2mrunner.py\u001b[0m\u001b[2m:\u001b[0m\u001b[2m85\u001b[0m\n"
      ]
     },
     "metadata": {},
     "output_type": "display_data"
    },
    {
     "data": {
      "text/html": [
       "<pre style=\"white-space:pre;overflow-x:auto;line-height:normal;font-family:Menlo,'DejaVu Sans Mono',consolas,'Courier New',monospace\"><span style=\"color: #7fbfbf; text-decoration-color: #7fbfbf\">           </span><span style=\"color: #008000; text-decoration-color: #008000\">DEBUG   </span> RUN COMMAND:                                                 <span style=\"color: #7f7f7f; text-decoration-color: #7f7f7f\">runner.py:79</span>\n",
       "<span style=\"color: #7fbfbf; text-decoration-color: #7fbfbf\">           </span>         <span style=\"color: #008080; text-decoration-color: #008080; font-weight: bold\">gtime -f </span><span style=\"color: #008000; text-decoration-color: #008000\">'%e'</span><span style=\"color: #008080; text-decoration-color: #008080; font-weight: bold\"> </span><span style=\"color: #800080; text-decoration-color: #800080; font-weight: bold\">/Users/qnbhd/Development/gimeltune/examples/gcc</span> <span style=\"color: #7f7f7f; text-decoration-color: #7f7f7f\">            </span>\n",
       "<span style=\"color: #7fbfbf; text-decoration-color: #7fbfbf\">           </span>         <span style=\"color: #800080; text-decoration-color: #800080; font-weight: bold\">/</span><span style=\"color: #ff00ff; text-decoration-color: #ff00ff; font-weight: bold\">b433316dec6dcf199e2e67bef5791ab969d5dfde80978e2a7f6f8981625</span> <span style=\"color: #7f7f7f; text-decoration-color: #7f7f7f\">            </span>\n",
       "<span style=\"color: #7fbfbf; text-decoration-color: #7fbfbf\">           </span>         <span style=\"color: #ff00ff; text-decoration-color: #ff00ff; font-weight: bold\">e6f6159493.out</span><span style=\"color: #008080; text-decoration-color: #008080; font-weight: bold\"> </span><span style=\"color: #008080; text-decoration-color: #008080; font-weight: bold\">2</span><span style=\"color: #008080; text-decoration-color: #008080; font-weight: bold\">&gt;&amp;</span><span style=\"color: #008080; text-decoration-color: #008080; font-weight: bold\">1</span>                                          <span style=\"color: #7f7f7f; text-decoration-color: #7f7f7f\">            </span>\n",
       "</pre>\n"
      ],
      "text/plain": [
       "\u001b[2;36m          \u001b[0m\u001b[2;36m \u001b[0m\u001b[32mDEBUG   \u001b[0m RUN COMMAND:                                                 \u001b[2mrunner.py\u001b[0m\u001b[2m:\u001b[0m\u001b[2m79\u001b[0m\n",
       "\u001b[2;36m           \u001b[0m         \u001b[1;36mgtime -f \u001b[0m\u001b[32m'%e'\u001b[0m\u001b[1;36m \u001b[0m\u001b[1;35m/Users/qnbhd/Development/gimeltune/examples/gcc\u001b[0m \u001b[2m            \u001b[0m\n",
       "\u001b[2;36m           \u001b[0m         \u001b[1;35m/\u001b[0m\u001b[1;95mb433316dec6dcf199e2e67bef5791ab969d5dfde80978e2a7f6f8981625\u001b[0m \u001b[2m            \u001b[0m\n",
       "\u001b[2;36m           \u001b[0m         \u001b[1;95me6f6159493.out\u001b[0m\u001b[1;36m \u001b[0m\u001b[1;36m2\u001b[0m\u001b[1;36m>&\u001b[0m\u001b[1;36m1\u001b[0m                                          \u001b[2m            \u001b[0m\n"
      ]
     },
     "metadata": {},
     "output_type": "display_data"
    },
    {
     "data": {
      "text/html": [
       "<pre style=\"white-space:pre;overflow-x:auto;line-height:normal;font-family:Menlo,'DejaVu Sans Mono',consolas,'Courier New',monospace\"><span style=\"color: #7fbfbf; text-decoration-color: #7fbfbf\">           </span><span style=\"color: #000080; text-decoration-color: #000080\">INFO    </span> <span style=\"color: #808000; text-decoration-color: #808000; font-weight: bold\">OUT: </span><span style=\"color: #008080; text-decoration-color: #008080; font-weight: bold\">0.11</span>                                                    <span style=\"color: #7f7f7f; text-decoration-color: #7f7f7f\">runner.py:85</span>\n",
       "</pre>\n"
      ],
      "text/plain": [
       "\u001b[2;36m          \u001b[0m\u001b[2;36m \u001b[0m\u001b[34mINFO    \u001b[0m \u001b[1;33mOUT: \u001b[0m\u001b[1;36m0.11\u001b[0m                                                    \u001b[2mrunner.py\u001b[0m\u001b[2m:\u001b[0m\u001b[2m85\u001b[0m\n"
      ]
     },
     "metadata": {},
     "output_type": "display_data"
    },
    {
     "data": {
      "text/html": [
       "<pre style=\"white-space:pre;overflow-x:auto;line-height:normal;font-family:Menlo,'DejaVu Sans Mono',consolas,'Courier New',monospace\"><span style=\"color: #7fbfbf; text-decoration-color: #7fbfbf\">           </span><span style=\"color: #008000; text-decoration-color: #008000\">DEBUG   </span> RUN COMMAND:                                                 <span style=\"color: #7f7f7f; text-decoration-color: #7f7f7f\">runner.py:79</span>\n",
       "<span style=\"color: #7fbfbf; text-decoration-color: #7fbfbf\">           </span>         <span style=\"color: #008080; text-decoration-color: #008080; font-weight: bold\">gtime -f </span><span style=\"color: #008000; text-decoration-color: #008000\">'%e'</span><span style=\"color: #008080; text-decoration-color: #008080; font-weight: bold\"> </span><span style=\"color: #800080; text-decoration-color: #800080; font-weight: bold\">/Users/qnbhd/Development/gimeltune/examples/gcc</span> <span style=\"color: #7f7f7f; text-decoration-color: #7f7f7f\">            </span>\n",
       "<span style=\"color: #7fbfbf; text-decoration-color: #7fbfbf\">           </span>         <span style=\"color: #800080; text-decoration-color: #800080; font-weight: bold\">/</span><span style=\"color: #ff00ff; text-decoration-color: #ff00ff; font-weight: bold\">b433316dec6dcf199e2e67bef5791ab969d5dfde80978e2a7f6f8981625</span> <span style=\"color: #7f7f7f; text-decoration-color: #7f7f7f\">            </span>\n",
       "<span style=\"color: #7fbfbf; text-decoration-color: #7fbfbf\">           </span>         <span style=\"color: #ff00ff; text-decoration-color: #ff00ff; font-weight: bold\">e6f6159493.out</span><span style=\"color: #008080; text-decoration-color: #008080; font-weight: bold\"> </span><span style=\"color: #008080; text-decoration-color: #008080; font-weight: bold\">2</span><span style=\"color: #008080; text-decoration-color: #008080; font-weight: bold\">&gt;&amp;</span><span style=\"color: #008080; text-decoration-color: #008080; font-weight: bold\">1</span>                                          <span style=\"color: #7f7f7f; text-decoration-color: #7f7f7f\">            </span>\n",
       "</pre>\n"
      ],
      "text/plain": [
       "\u001b[2;36m          \u001b[0m\u001b[2;36m \u001b[0m\u001b[32mDEBUG   \u001b[0m RUN COMMAND:                                                 \u001b[2mrunner.py\u001b[0m\u001b[2m:\u001b[0m\u001b[2m79\u001b[0m\n",
       "\u001b[2;36m           \u001b[0m         \u001b[1;36mgtime -f \u001b[0m\u001b[32m'%e'\u001b[0m\u001b[1;36m \u001b[0m\u001b[1;35m/Users/qnbhd/Development/gimeltune/examples/gcc\u001b[0m \u001b[2m            \u001b[0m\n",
       "\u001b[2;36m           \u001b[0m         \u001b[1;35m/\u001b[0m\u001b[1;95mb433316dec6dcf199e2e67bef5791ab969d5dfde80978e2a7f6f8981625\u001b[0m \u001b[2m            \u001b[0m\n",
       "\u001b[2;36m           \u001b[0m         \u001b[1;95me6f6159493.out\u001b[0m\u001b[1;36m \u001b[0m\u001b[1;36m2\u001b[0m\u001b[1;36m>&\u001b[0m\u001b[1;36m1\u001b[0m                                          \u001b[2m            \u001b[0m\n"
      ]
     },
     "metadata": {},
     "output_type": "display_data"
    },
    {
     "data": {
      "text/html": [
       "<pre style=\"white-space:pre;overflow-x:auto;line-height:normal;font-family:Menlo,'DejaVu Sans Mono',consolas,'Courier New',monospace\"><span style=\"color: #7fbfbf; text-decoration-color: #7fbfbf\">           </span><span style=\"color: #000080; text-decoration-color: #000080\">INFO    </span> <span style=\"color: #808000; text-decoration-color: #808000; font-weight: bold\">OUT: </span><span style=\"color: #008080; text-decoration-color: #008080; font-weight: bold\">0.11</span>                                                    <span style=\"color: #7f7f7f; text-decoration-color: #7f7f7f\">runner.py:85</span>\n",
       "</pre>\n"
      ],
      "text/plain": [
       "\u001b[2;36m          \u001b[0m\u001b[2;36m \u001b[0m\u001b[34mINFO    \u001b[0m \u001b[1;33mOUT: \u001b[0m\u001b[1;36m0.11\u001b[0m                                                    \u001b[2mrunner.py\u001b[0m\u001b[2m:\u001b[0m\u001b[2m85\u001b[0m\n"
      ]
     },
     "metadata": {},
     "output_type": "display_data"
    },
    {
     "data": {
      "text/html": [
       "<pre style=\"white-space:pre;overflow-x:auto;line-height:normal;font-family:Menlo,'DejaVu Sans Mono',consolas,'Courier New',monospace\"><span style=\"color: #7fbfbf; text-decoration-color: #7fbfbf\">           </span><span style=\"color: #008000; text-decoration-color: #008000\">DEBUG   </span> RUN COMMAND:                                                 <span style=\"color: #7f7f7f; text-decoration-color: #7f7f7f\">runner.py:79</span>\n",
       "<span style=\"color: #7fbfbf; text-decoration-color: #7fbfbf\">           </span>         <span style=\"color: #008080; text-decoration-color: #008080; font-weight: bold\">rm </span><span style=\"color: #800080; text-decoration-color: #800080; font-weight: bold\">/Users/qnbhd/Development/gimeltune/examples/gcc/</span><span style=\"color: #ff00ff; text-decoration-color: #ff00ff; font-weight: bold\">b433316dec</span> <span style=\"color: #7f7f7f; text-decoration-color: #7f7f7f\">            </span>\n",
       "<span style=\"color: #7fbfbf; text-decoration-color: #7fbfbf\">           </span>         <span style=\"color: #ff00ff; text-decoration-color: #ff00ff; font-weight: bold\">6dcf199e2e67bef5791ab969d5dfde80978e2a7f6f8981625e6f6159493.</span> <span style=\"color: #7f7f7f; text-decoration-color: #7f7f7f\">            </span>\n",
       "<span style=\"color: #7fbfbf; text-decoration-color: #7fbfbf\">           </span>         <span style=\"color: #ff00ff; text-decoration-color: #ff00ff; font-weight: bold\">out</span>                                                          <span style=\"color: #7f7f7f; text-decoration-color: #7f7f7f\">            </span>\n",
       "</pre>\n"
      ],
      "text/plain": [
       "\u001b[2;36m          \u001b[0m\u001b[2;36m \u001b[0m\u001b[32mDEBUG   \u001b[0m RUN COMMAND:                                                 \u001b[2mrunner.py\u001b[0m\u001b[2m:\u001b[0m\u001b[2m79\u001b[0m\n",
       "\u001b[2;36m           \u001b[0m         \u001b[1;36mrm \u001b[0m\u001b[1;35m/Users/qnbhd/Development/gimeltune/examples/gcc/\u001b[0m\u001b[1;95mb433316dec\u001b[0m \u001b[2m            \u001b[0m\n",
       "\u001b[2;36m           \u001b[0m         \u001b[1;95m6dcf199e2e67bef5791ab969d5dfde80978e2a7f6f8981625e6f6159493.\u001b[0m \u001b[2m            \u001b[0m\n",
       "\u001b[2;36m           \u001b[0m         \u001b[1;95mout\u001b[0m                                                          \u001b[2m            \u001b[0m\n"
      ]
     },
     "metadata": {},
     "output_type": "display_data"
    },
    {
     "data": {
      "text/html": [
       "<pre style=\"white-space:pre;overflow-x:auto;line-height:normal;font-family:Menlo,'DejaVu Sans Mono',consolas,'Courier New',monospace\"><span style=\"color: #7fbfbf; text-decoration-color: #7fbfbf\">           </span><span style=\"color: #000080; text-decoration-color: #000080\">INFO    </span> Experiments <span style=\"color: #800080; text-decoration-color: #800080; font-weight: bold\">Experiment</span><span style=\"font-weight: bold\">({</span>                                    <span style=\"color: #7f7f7f; text-decoration-color: #7f7f7f\">runner.py:174</span>\n",
       "<span style=\"color: #7fbfbf; text-decoration-color: #7fbfbf\">           </span>             <span style=\"color: #008000; text-decoration-color: #008000\">\"id\"</span>: <span style=\"color: #008080; text-decoration-color: #008080; font-weight: bold\">1</span>,                                                <span style=\"color: #7f7f7f; text-decoration-color: #7f7f7f\">             </span>\n",
       "<span style=\"color: #7fbfbf; text-decoration-color: #7fbfbf\">           </span>             <span style=\"color: #008000; text-decoration-color: #008000\">\"job_id\"</span>: <span style=\"color: #008080; text-decoration-color: #008080; font-weight: bold\">1</span>,                                            <span style=\"color: #7f7f7f; text-decoration-color: #7f7f7f\">             </span>\n",
       "<span style=\"color: #7fbfbf; text-decoration-color: #7fbfbf\">           </span>             <span style=\"color: #008000; text-decoration-color: #008000\">\"state\"</span>: <span style=\"color: #008000; text-decoration-color: #008000\">\"WIP\"</span>,                                         <span style=\"color: #7f7f7f; text-decoration-color: #7f7f7f\">             </span>\n",
       "<span style=\"color: #7fbfbf; text-decoration-color: #7fbfbf\">           </span>             <span style=\"color: #008000; text-decoration-color: #008000\">\"hash\"</span>: null,                                           <span style=\"color: #7f7f7f; text-decoration-color: #7f7f7f\">             </span>\n",
       "<span style=\"color: #7fbfbf; text-decoration-color: #7fbfbf\">           </span>             <span style=\"color: #008000; text-decoration-color: #008000\">\"objective_result\"</span>: <span style=\"color: #008080; text-decoration-color: #008080; font-weight: bold\">10000000000.0</span>,                      <span style=\"color: #7f7f7f; text-decoration-color: #7f7f7f\">             </span>\n",
       "<span style=\"color: #7fbfbf; text-decoration-color: #7fbfbf\">           </span>             <span style=\"color: #008000; text-decoration-color: #008000\">\"params\"</span>: <span style=\"font-weight: bold\">{</span>                                             <span style=\"color: #7f7f7f; text-decoration-color: #7f7f7f\">             </span>\n",
       "<span style=\"color: #7fbfbf; text-decoration-color: #7fbfbf\">           </span>                 <span style=\"color: #008000; text-decoration-color: #008000\">\"-O\"</span>: null,                                         <span style=\"color: #7f7f7f; text-decoration-color: #7f7f7f\">             </span>\n",
       "<span style=\"color: #7fbfbf; text-decoration-color: #7fbfbf\">           </span>                 <span style=\"color: #008000; text-decoration-color: #008000\">\"align-functions\"</span>: <span style=\"color: #008000; text-decoration-color: #008000\">\"-falign-functions\"</span>,             <span style=\"color: #7f7f7f; text-decoration-color: #7f7f7f\">             </span>\n",
       "<span style=\"color: #7fbfbf; text-decoration-color: #7fbfbf\">           </span>                 <span style=\"color: #008000; text-decoration-color: #008000\">\"align-jumps\"</span>: <span style=\"color: #008000; text-decoration-color: #008000\">\"-falign-jumps\"</span>,                     <span style=\"color: #7f7f7f; text-decoration-color: #7f7f7f\">             </span>\n",
       "<span style=\"color: #7fbfbf; text-decoration-color: #7fbfbf\">           </span>                 <span style=\"color: #008000; text-decoration-color: #008000\">\"align-labels\"</span>: <span style=\"color: #008000; text-decoration-color: #008000\">\"-fno-align-labels\"</span>,                <span style=\"color: #7f7f7f; text-decoration-color: #7f7f7f\">             </span>\n",
       "<span style=\"color: #7fbfbf; text-decoration-color: #7fbfbf\">           </span>                 <span style=\"color: #008000; text-decoration-color: #008000\">\"asynchronous-unwind-tables\"</span>:                       <span style=\"color: #7f7f7f; text-decoration-color: #7f7f7f\">             </span>\n",
       "<span style=\"color: #7fbfbf; text-decoration-color: #7fbfbf\">           </span>         <span style=\"color: #008000; text-decoration-color: #008000\">\"-fno-asynchronous-unwind-tables\"</span>,                          <span style=\"color: #7f7f7f; text-decoration-color: #7f7f7f\">             </span>\n",
       "<span style=\"color: #7fbfbf; text-decoration-color: #7fbfbf\">           </span>                 <span style=\"color: #008000; text-decoration-color: #008000\">\"branch-count-reg\"</span>: <span style=\"color: #008000; text-decoration-color: #008000\">\"-fbranch-count-reg\"</span>,           <span style=\"color: #7f7f7f; text-decoration-color: #7f7f7f\">             </span>\n",
       "<span style=\"color: #7fbfbf; text-decoration-color: #7fbfbf\">           </span>                 <span style=\"color: #008000; text-decoration-color: #008000\">\"branch-probabilities\"</span>: <span style=\"color: #008000; text-decoration-color: #008000\">\"-fbranch-probabilities\"</span>,   <span style=\"color: #7f7f7f; text-decoration-color: #7f7f7f\">             </span>\n",
       "<span style=\"color: #7fbfbf; text-decoration-color: #7fbfbf\">           </span>                 <span style=\"color: #008000; text-decoration-color: #008000\">\"early-inlining-insns\"</span>: <span style=\"color: #008080; text-decoration-color: #008080; font-weight: bold\">950</span>,                        <span style=\"color: #7f7f7f; text-decoration-color: #7f7f7f\">             </span>\n",
       "<span style=\"color: #7fbfbf; text-decoration-color: #7fbfbf\">           </span>                 <span style=\"color: #008000; text-decoration-color: #008000\">\"gcse-cost-distance-ratio\"</span>: <span style=\"color: #008080; text-decoration-color: #008080; font-weight: bold\">23</span>,                     <span style=\"color: #7f7f7f; text-decoration-color: #7f7f7f\">             </span>\n",
       "<span style=\"color: #7fbfbf; text-decoration-color: #7fbfbf\">           </span>                 <span style=\"color: #008000; text-decoration-color: #008000\">\"iv-max-considered-uses\"</span>: <span style=\"color: #008080; text-decoration-color: #008080; font-weight: bold\">674</span>                       <span style=\"color: #7f7f7f; text-decoration-color: #7f7f7f\">             </span>\n",
       "<span style=\"color: #7fbfbf; text-decoration-color: #7fbfbf\">           </span>             <span style=\"font-weight: bold\">}</span>,                                                      <span style=\"color: #7f7f7f; text-decoration-color: #7f7f7f\">             </span>\n",
       "<span style=\"color: #7fbfbf; text-decoration-color: #7fbfbf\">           </span>             <span style=\"color: #008000; text-decoration-color: #008000\">\"requestor\"</span>: <span style=\"color: #008000; text-decoration-color: #008000\">\"SkoptBayesianAlgorithm\"</span>,                  <span style=\"color: #7f7f7f; text-decoration-color: #7f7f7f\">             </span>\n",
       "<span style=\"color: #7fbfbf; text-decoration-color: #7fbfbf\">           </span>             <span style=\"color: #008000; text-decoration-color: #008000\">\"create_timestamp\"</span>: <span style=\"color: #008080; text-decoration-color: #008080; font-weight: bold\">1645690613.005715</span>,                  <span style=\"color: #7f7f7f; text-decoration-color: #7f7f7f\">             </span>\n",
       "<span style=\"color: #7fbfbf; text-decoration-color: #7fbfbf\">           </span>             <span style=\"color: #008000; text-decoration-color: #008000\">\"finish_timestamp\"</span>: null                                <span style=\"color: #7f7f7f; text-decoration-color: #7f7f7f\">             </span>\n",
       "<span style=\"color: #7fbfbf; text-decoration-color: #7fbfbf\">           </span>         <span style=\"font-weight: bold\">})</span> has inf result.                                          <span style=\"color: #7f7f7f; text-decoration-color: #7f7f7f\">             </span>\n",
       "</pre>\n"
      ],
      "text/plain": [
       "\u001b[2;36m          \u001b[0m\u001b[2;36m \u001b[0m\u001b[34mINFO    \u001b[0m Experiments \u001b[1;35mExperiment\u001b[0m\u001b[1m(\u001b[0m\u001b[1m{\u001b[0m                                    \u001b[2mrunner.py\u001b[0m\u001b[2m:\u001b[0m\u001b[2m174\u001b[0m\n",
       "\u001b[2;36m           \u001b[0m             \u001b[32m\"id\"\u001b[0m: \u001b[1;36m1\u001b[0m,                                                \u001b[2m             \u001b[0m\n",
       "\u001b[2;36m           \u001b[0m             \u001b[32m\"job_id\"\u001b[0m: \u001b[1;36m1\u001b[0m,                                            \u001b[2m             \u001b[0m\n",
       "\u001b[2;36m           \u001b[0m             \u001b[32m\"state\"\u001b[0m: \u001b[32m\"WIP\"\u001b[0m,                                         \u001b[2m             \u001b[0m\n",
       "\u001b[2;36m           \u001b[0m             \u001b[32m\"hash\"\u001b[0m: null,                                           \u001b[2m             \u001b[0m\n",
       "\u001b[2;36m           \u001b[0m             \u001b[32m\"objective_result\"\u001b[0m: \u001b[1;36m10000000000.0\u001b[0m,                      \u001b[2m             \u001b[0m\n",
       "\u001b[2;36m           \u001b[0m             \u001b[32m\"params\"\u001b[0m: \u001b[1m{\u001b[0m                                             \u001b[2m             \u001b[0m\n",
       "\u001b[2;36m           \u001b[0m                 \u001b[32m\"-O\"\u001b[0m: null,                                         \u001b[2m             \u001b[0m\n",
       "\u001b[2;36m           \u001b[0m                 \u001b[32m\"align-functions\"\u001b[0m: \u001b[32m\"-falign-functions\"\u001b[0m,             \u001b[2m             \u001b[0m\n",
       "\u001b[2;36m           \u001b[0m                 \u001b[32m\"align-jumps\"\u001b[0m: \u001b[32m\"-falign-jumps\"\u001b[0m,                     \u001b[2m             \u001b[0m\n",
       "\u001b[2;36m           \u001b[0m                 \u001b[32m\"align-labels\"\u001b[0m: \u001b[32m\"-fno-align-labels\"\u001b[0m,                \u001b[2m             \u001b[0m\n",
       "\u001b[2;36m           \u001b[0m                 \u001b[32m\"asynchronous-unwind-tables\"\u001b[0m:                       \u001b[2m             \u001b[0m\n",
       "\u001b[2;36m           \u001b[0m         \u001b[32m\"-fno-asynchronous-unwind-tables\"\u001b[0m,                          \u001b[2m             \u001b[0m\n",
       "\u001b[2;36m           \u001b[0m                 \u001b[32m\"branch-count-reg\"\u001b[0m: \u001b[32m\"-fbranch-count-reg\"\u001b[0m,           \u001b[2m             \u001b[0m\n",
       "\u001b[2;36m           \u001b[0m                 \u001b[32m\"branch-probabilities\"\u001b[0m: \u001b[32m\"-fbranch-probabilities\"\u001b[0m,   \u001b[2m             \u001b[0m\n",
       "\u001b[2;36m           \u001b[0m                 \u001b[32m\"early-inlining-insns\"\u001b[0m: \u001b[1;36m950\u001b[0m,                        \u001b[2m             \u001b[0m\n",
       "\u001b[2;36m           \u001b[0m                 \u001b[32m\"gcse-cost-distance-ratio\"\u001b[0m: \u001b[1;36m23\u001b[0m,                     \u001b[2m             \u001b[0m\n",
       "\u001b[2;36m           \u001b[0m                 \u001b[32m\"iv-max-considered-uses\"\u001b[0m: \u001b[1;36m674\u001b[0m                       \u001b[2m             \u001b[0m\n",
       "\u001b[2;36m           \u001b[0m             \u001b[1m}\u001b[0m,                                                      \u001b[2m             \u001b[0m\n",
       "\u001b[2;36m           \u001b[0m             \u001b[32m\"requestor\"\u001b[0m: \u001b[32m\"SkoptBayesianAlgorithm\"\u001b[0m,                  \u001b[2m             \u001b[0m\n",
       "\u001b[2;36m           \u001b[0m             \u001b[32m\"create_timestamp\"\u001b[0m: \u001b[1;36m1645690613.005715\u001b[0m,                  \u001b[2m             \u001b[0m\n",
       "\u001b[2;36m           \u001b[0m             \u001b[32m\"finish_timestamp\"\u001b[0m: null                                \u001b[2m             \u001b[0m\n",
       "\u001b[2;36m           \u001b[0m         \u001b[1m}\u001b[0m\u001b[1m)\u001b[0m has inf result.                                          \u001b[2m             \u001b[0m\n"
      ]
     },
     "metadata": {},
     "output_type": "display_data"
    },
    {
     "name": "stderr",
     "output_type": "stream",
     "text": [
      "/Users/qnbhd/Development/gimeltune/gimeltune/search/algorithms/skopt.py:58: UserWarning: Now per-emit count in skopt technique implemented not correctly. Per-emit count is property, return default value (1).\n",
      "  warnings.warn('Now per-emit count in skopt technique implemented not correctly.'\n"
     ]
    },
    {
     "data": {
      "text/html": [
       "<pre style=\"white-space:pre;overflow-x:auto;line-height:normal;font-family:Menlo,'DejaVu Sans Mono',consolas,'Courier New',monospace\"><span style=\"color: #7fbfbf; text-decoration-color: #7fbfbf\">           </span><span style=\"color: #000080; text-decoration-color: #000080\">INFO    </span> Trying experiment: <span style=\"color: #800080; text-decoration-color: #800080; font-weight: bold\">Experiment</span><span style=\"font-weight: bold\">({</span>                             <span style=\"color: #7f7f7f; text-decoration-color: #7f7f7f\">runner.py:156</span>\n",
       "<span style=\"color: #7fbfbf; text-decoration-color: #7fbfbf\">           </span>             <span style=\"color: #008000; text-decoration-color: #008000\">\"id\"</span>: <span style=\"color: #008080; text-decoration-color: #008080; font-weight: bold\">3</span>,                                                <span style=\"color: #7f7f7f; text-decoration-color: #7f7f7f\">             </span>\n",
       "<span style=\"color: #7fbfbf; text-decoration-color: #7fbfbf\">           </span>             <span style=\"color: #008000; text-decoration-color: #008000\">\"job_id\"</span>: <span style=\"color: #008080; text-decoration-color: #008080; font-weight: bold\">1</span>,                                            <span style=\"color: #7f7f7f; text-decoration-color: #7f7f7f\">             </span>\n",
       "<span style=\"color: #7fbfbf; text-decoration-color: #7fbfbf\">           </span>             <span style=\"color: #008000; text-decoration-color: #008000\">\"state\"</span>: <span style=\"color: #008000; text-decoration-color: #008000\">\"WIP\"</span>,                                         <span style=\"color: #7f7f7f; text-decoration-color: #7f7f7f\">             </span>\n",
       "<span style=\"color: #7fbfbf; text-decoration-color: #7fbfbf\">           </span>             <span style=\"color: #008000; text-decoration-color: #008000\">\"hash\"</span>: null,                                           <span style=\"color: #7f7f7f; text-decoration-color: #7f7f7f\">             </span>\n",
       "<span style=\"color: #7fbfbf; text-decoration-color: #7fbfbf\">           </span>             <span style=\"color: #008000; text-decoration-color: #008000\">\"objective_result\"</span>: null,                               <span style=\"color: #7f7f7f; text-decoration-color: #7f7f7f\">             </span>\n",
       "<span style=\"color: #7fbfbf; text-decoration-color: #7fbfbf\">           </span>             <span style=\"color: #008000; text-decoration-color: #008000\">\"params\"</span>: <span style=\"font-weight: bold\">{</span>                                             <span style=\"color: #7f7f7f; text-decoration-color: #7f7f7f\">             </span>\n",
       "<span style=\"color: #7fbfbf; text-decoration-color: #7fbfbf\">           </span>                 <span style=\"color: #008000; text-decoration-color: #008000\">\"-O\"</span>: <span style=\"color: #008000; text-decoration-color: #008000\">\"-O3\"</span>,                                        <span style=\"color: #7f7f7f; text-decoration-color: #7f7f7f\">             </span>\n",
       "<span style=\"color: #7fbfbf; text-decoration-color: #7fbfbf\">           </span>                 <span style=\"color: #008000; text-decoration-color: #008000\">\"align-functions\"</span>: null,                            <span style=\"color: #7f7f7f; text-decoration-color: #7f7f7f\">             </span>\n",
       "<span style=\"color: #7fbfbf; text-decoration-color: #7fbfbf\">           </span>                 <span style=\"color: #008000; text-decoration-color: #008000\">\"align-jumps\"</span>: <span style=\"color: #008000; text-decoration-color: #008000\">\"-fno-align-jumps\"</span>,                  <span style=\"color: #7f7f7f; text-decoration-color: #7f7f7f\">             </span>\n",
       "<span style=\"color: #7fbfbf; text-decoration-color: #7fbfbf\">           </span>                 <span style=\"color: #008000; text-decoration-color: #008000\">\"align-labels\"</span>: <span style=\"color: #008000; text-decoration-color: #008000\">\"-falign-labels\"</span>,                   <span style=\"color: #7f7f7f; text-decoration-color: #7f7f7f\">             </span>\n",
       "<span style=\"color: #7fbfbf; text-decoration-color: #7fbfbf\">           </span>                 <span style=\"color: #008000; text-decoration-color: #008000\">\"asynchronous-unwind-tables\"</span>:                       <span style=\"color: #7f7f7f; text-decoration-color: #7f7f7f\">             </span>\n",
       "<span style=\"color: #7fbfbf; text-decoration-color: #7fbfbf\">           </span>         <span style=\"color: #008000; text-decoration-color: #008000\">\"-fasynchronous-unwind-tables\"</span>,                             <span style=\"color: #7f7f7f; text-decoration-color: #7f7f7f\">             </span>\n",
       "<span style=\"color: #7fbfbf; text-decoration-color: #7fbfbf\">           </span>                 <span style=\"color: #008000; text-decoration-color: #008000\">\"branch-count-reg\"</span>: <span style=\"color: #008000; text-decoration-color: #008000\">\"-fbranch-count-reg\"</span>,           <span style=\"color: #7f7f7f; text-decoration-color: #7f7f7f\">             </span>\n",
       "<span style=\"color: #7fbfbf; text-decoration-color: #7fbfbf\">           </span>                 <span style=\"color: #008000; text-decoration-color: #008000\">\"branch-probabilities\"</span>:                             <span style=\"color: #7f7f7f; text-decoration-color: #7f7f7f\">             </span>\n",
       "<span style=\"color: #7fbfbf; text-decoration-color: #7fbfbf\">           </span>         <span style=\"color: #008000; text-decoration-color: #008000\">\"-fno-branch-probabilities\"</span>,                                <span style=\"color: #7f7f7f; text-decoration-color: #7f7f7f\">             </span>\n",
       "<span style=\"color: #7fbfbf; text-decoration-color: #7fbfbf\">           </span>                 <span style=\"color: #008000; text-decoration-color: #008000\">\"early-inlining-insns\"</span>: <span style=\"color: #008080; text-decoration-color: #008080; font-weight: bold\">518</span>,                        <span style=\"color: #7f7f7f; text-decoration-color: #7f7f7f\">             </span>\n",
       "<span style=\"color: #7fbfbf; text-decoration-color: #7fbfbf\">           </span>                 <span style=\"color: #008000; text-decoration-color: #008000\">\"gcse-cost-distance-ratio\"</span>: <span style=\"color: #008080; text-decoration-color: #008080; font-weight: bold\">12</span>,                     <span style=\"color: #7f7f7f; text-decoration-color: #7f7f7f\">             </span>\n",
       "<span style=\"color: #7fbfbf; text-decoration-color: #7fbfbf\">           </span>                 <span style=\"color: #008000; text-decoration-color: #008000\">\"iv-max-considered-uses\"</span>: <span style=\"color: #008080; text-decoration-color: #008080; font-weight: bold\">891</span>                       <span style=\"color: #7f7f7f; text-decoration-color: #7f7f7f\">             </span>\n",
       "<span style=\"color: #7fbfbf; text-decoration-color: #7fbfbf\">           </span>             <span style=\"font-weight: bold\">}</span>,                                                      <span style=\"color: #7f7f7f; text-decoration-color: #7f7f7f\">             </span>\n",
       "<span style=\"color: #7fbfbf; text-decoration-color: #7fbfbf\">           </span>             <span style=\"color: #008000; text-decoration-color: #008000\">\"requestor\"</span>: <span style=\"color: #008000; text-decoration-color: #008000\">\"SkoptBayesianAlgorithm\"</span>,                  <span style=\"color: #7f7f7f; text-decoration-color: #7f7f7f\">             </span>\n",
       "<span style=\"color: #7fbfbf; text-decoration-color: #7fbfbf\">           </span>             <span style=\"color: #008000; text-decoration-color: #008000\">\"create_timestamp\"</span>: <span style=\"color: #008080; text-decoration-color: #008080; font-weight: bold\">1645690615.908465</span>,                  <span style=\"color: #7f7f7f; text-decoration-color: #7f7f7f\">             </span>\n",
       "<span style=\"color: #7fbfbf; text-decoration-color: #7fbfbf\">           </span>             <span style=\"color: #008000; text-decoration-color: #008000\">\"finish_timestamp\"</span>: null                                <span style=\"color: #7f7f7f; text-decoration-color: #7f7f7f\">             </span>\n",
       "<span style=\"color: #7fbfbf; text-decoration-color: #7fbfbf\">           </span>         <span style=\"font-weight: bold\">})</span>                                                          <span style=\"color: #7f7f7f; text-decoration-color: #7f7f7f\">             </span>\n",
       "</pre>\n"
      ],
      "text/plain": [
       "\u001b[2;36m          \u001b[0m\u001b[2;36m \u001b[0m\u001b[34mINFO    \u001b[0m Trying experiment: \u001b[1;35mExperiment\u001b[0m\u001b[1m(\u001b[0m\u001b[1m{\u001b[0m                             \u001b[2mrunner.py\u001b[0m\u001b[2m:\u001b[0m\u001b[2m156\u001b[0m\n",
       "\u001b[2;36m           \u001b[0m             \u001b[32m\"id\"\u001b[0m: \u001b[1;36m3\u001b[0m,                                                \u001b[2m             \u001b[0m\n",
       "\u001b[2;36m           \u001b[0m             \u001b[32m\"job_id\"\u001b[0m: \u001b[1;36m1\u001b[0m,                                            \u001b[2m             \u001b[0m\n",
       "\u001b[2;36m           \u001b[0m             \u001b[32m\"state\"\u001b[0m: \u001b[32m\"WIP\"\u001b[0m,                                         \u001b[2m             \u001b[0m\n",
       "\u001b[2;36m           \u001b[0m             \u001b[32m\"hash\"\u001b[0m: null,                                           \u001b[2m             \u001b[0m\n",
       "\u001b[2;36m           \u001b[0m             \u001b[32m\"objective_result\"\u001b[0m: null,                               \u001b[2m             \u001b[0m\n",
       "\u001b[2;36m           \u001b[0m             \u001b[32m\"params\"\u001b[0m: \u001b[1m{\u001b[0m                                             \u001b[2m             \u001b[0m\n",
       "\u001b[2;36m           \u001b[0m                 \u001b[32m\"-O\"\u001b[0m: \u001b[32m\"-O3\"\u001b[0m,                                        \u001b[2m             \u001b[0m\n",
       "\u001b[2;36m           \u001b[0m                 \u001b[32m\"align-functions\"\u001b[0m: null,                            \u001b[2m             \u001b[0m\n",
       "\u001b[2;36m           \u001b[0m                 \u001b[32m\"align-jumps\"\u001b[0m: \u001b[32m\"-fno-align-jumps\"\u001b[0m,                  \u001b[2m             \u001b[0m\n",
       "\u001b[2;36m           \u001b[0m                 \u001b[32m\"align-labels\"\u001b[0m: \u001b[32m\"-falign-labels\"\u001b[0m,                   \u001b[2m             \u001b[0m\n",
       "\u001b[2;36m           \u001b[0m                 \u001b[32m\"asynchronous-unwind-tables\"\u001b[0m:                       \u001b[2m             \u001b[0m\n",
       "\u001b[2;36m           \u001b[0m         \u001b[32m\"-fasynchronous-unwind-tables\"\u001b[0m,                             \u001b[2m             \u001b[0m\n",
       "\u001b[2;36m           \u001b[0m                 \u001b[32m\"branch-count-reg\"\u001b[0m: \u001b[32m\"-fbranch-count-reg\"\u001b[0m,           \u001b[2m             \u001b[0m\n",
       "\u001b[2;36m           \u001b[0m                 \u001b[32m\"branch-probabilities\"\u001b[0m:                             \u001b[2m             \u001b[0m\n",
       "\u001b[2;36m           \u001b[0m         \u001b[32m\"-fno-branch-probabilities\"\u001b[0m,                                \u001b[2m             \u001b[0m\n",
       "\u001b[2;36m           \u001b[0m                 \u001b[32m\"early-inlining-insns\"\u001b[0m: \u001b[1;36m518\u001b[0m,                        \u001b[2m             \u001b[0m\n",
       "\u001b[2;36m           \u001b[0m                 \u001b[32m\"gcse-cost-distance-ratio\"\u001b[0m: \u001b[1;36m12\u001b[0m,                     \u001b[2m             \u001b[0m\n",
       "\u001b[2;36m           \u001b[0m                 \u001b[32m\"iv-max-considered-uses\"\u001b[0m: \u001b[1;36m891\u001b[0m                       \u001b[2m             \u001b[0m\n",
       "\u001b[2;36m           \u001b[0m             \u001b[1m}\u001b[0m,                                                      \u001b[2m             \u001b[0m\n",
       "\u001b[2;36m           \u001b[0m             \u001b[32m\"requestor\"\u001b[0m: \u001b[32m\"SkoptBayesianAlgorithm\"\u001b[0m,                  \u001b[2m             \u001b[0m\n",
       "\u001b[2;36m           \u001b[0m             \u001b[32m\"create_timestamp\"\u001b[0m: \u001b[1;36m1645690615.908465\u001b[0m,                  \u001b[2m             \u001b[0m\n",
       "\u001b[2;36m           \u001b[0m             \u001b[32m\"finish_timestamp\"\u001b[0m: null                                \u001b[2m             \u001b[0m\n",
       "\u001b[2;36m           \u001b[0m         \u001b[1m}\u001b[0m\u001b[1m)\u001b[0m                                                          \u001b[2m             \u001b[0m\n"
      ]
     },
     "metadata": {},
     "output_type": "display_data"
    },
    {
     "data": {
      "text/html": [
       "<pre style=\"white-space:pre;overflow-x:auto;line-height:normal;font-family:Menlo,'DejaVu Sans Mono',consolas,'Courier New',monospace\"><span style=\"color: #7fbfbf; text-decoration-color: #7fbfbf\">           </span><span style=\"color: #008000; text-decoration-color: #008000\">DEBUG   </span> RUN COMMAND:                                                 <span style=\"color: #7f7f7f; text-decoration-color: #7f7f7f\">runner.py:79</span>\n",
       "<span style=\"color: #7fbfbf; text-decoration-color: #7fbfbf\">           </span>         <span style=\"color: #008080; text-decoration-color: #008080; font-weight: bold\">gtime -f </span><span style=\"color: #008000; text-decoration-color: #008000\">'%e'</span><span style=\"color: #008080; text-decoration-color: #008080; font-weight: bold\"> g++</span><span style=\"color: #008080; text-decoration-color: #008080; font-weight: bold\">-11</span><span style=\"color: #008080; text-decoration-color: #008080; font-weight: bold\"> -o </span><span style=\"color: #800080; text-decoration-color: #800080; font-weight: bold\">/Users/qnbhd/Development/gimeltune/ex</span> <span style=\"color: #7f7f7f; text-decoration-color: #7f7f7f\">            </span>\n",
       "<span style=\"color: #7fbfbf; text-decoration-color: #7fbfbf\">           </span>         <span style=\"color: #800080; text-decoration-color: #800080; font-weight: bold\">amples/gcc/</span><span style=\"color: #ff00ff; text-decoration-color: #ff00ff; font-weight: bold\">c60d7ade8b328a670b68019ba15e1b6d720f57d2fc8f8fe06</span> <span style=\"color: #7f7f7f; text-decoration-color: #7f7f7f\">            </span>\n",
       "<span style=\"color: #7fbfbf; text-decoration-color: #7fbfbf\">           </span>         <span style=\"color: #ff00ff; text-decoration-color: #ff00ff; font-weight: bold\">770bd5f6990c28d5612.out</span><span style=\"color: #008080; text-decoration-color: #008080; font-weight: bold\"> </span><span style=\"color: #800080; text-decoration-color: #800080; font-weight: bold\">/Users/qnbhd/Development/gimeltune/ex</span> <span style=\"color: #7f7f7f; text-decoration-color: #7f7f7f\">            </span>\n",
       "<span style=\"color: #7fbfbf; text-decoration-color: #7fbfbf\">           </span>         <span style=\"color: #800080; text-decoration-color: #800080; font-weight: bold\">amples/gcc/raytracer/</span><span style=\"color: #ff00ff; text-decoration-color: #ff00ff; font-weight: bold\">raytracer.cpp</span><span style=\"color: #008080; text-decoration-color: #008080; font-weight: bold\"> -O3  -fno-align-jumps </span>    <span style=\"color: #7f7f7f; text-decoration-color: #7f7f7f\">            </span>\n",
       "<span style=\"color: #7fbfbf; text-decoration-color: #7fbfbf\">           </span>         <span style=\"color: #008080; text-decoration-color: #008080; font-weight: bold\">-falign-labels -fasynchronous-unwind-tables </span>                 <span style=\"color: #7f7f7f; text-decoration-color: #7f7f7f\">            </span>\n",
       "<span style=\"color: #7fbfbf; text-decoration-color: #7fbfbf\">           </span>         <span style=\"color: #008080; text-decoration-color: #008080; font-weight: bold\">-fbranch-count-reg -fno-branch-probabilities --param </span>        <span style=\"color: #7f7f7f; text-decoration-color: #7f7f7f\">            </span>\n",
       "<span style=\"color: #7fbfbf; text-decoration-color: #7fbfbf\">           </span>         <span style=\"color: #008080; text-decoration-color: #008080; font-weight: bold\">early-inlining-</span><span style=\"color: #808000; text-decoration-color: #808000; font-weight: bold\">insns</span><span style=\"color: #008080; text-decoration-color: #008080; font-weight: bold\">=</span><span style=\"color: #008080; text-decoration-color: #008080; font-weight: bold\">518</span><span style=\"color: #008080; text-decoration-color: #008080; font-weight: bold\"> --param gcse-cost-distance-</span><span style=\"color: #808000; text-decoration-color: #808000; font-weight: bold\">ratio</span><span style=\"color: #008080; text-decoration-color: #008080; font-weight: bold\">=</span><span style=\"color: #008080; text-decoration-color: #008080; font-weight: bold\">12</span> <span style=\"color: #7f7f7f; text-decoration-color: #7f7f7f\">            </span>\n",
       "<span style=\"color: #7fbfbf; text-decoration-color: #7fbfbf\">           </span>         <span style=\"color: #008080; text-decoration-color: #008080; font-weight: bold\">--param iv-max-considered-</span><span style=\"color: #808000; text-decoration-color: #808000; font-weight: bold\">uses</span><span style=\"color: #008080; text-decoration-color: #008080; font-weight: bold\">=</span><span style=\"color: #008080; text-decoration-color: #008080; font-weight: bold\">891</span><span style=\"color: #008080; text-decoration-color: #008080; font-weight: bold\"> </span><span style=\"color: #008080; text-decoration-color: #008080; font-weight: bold\">2</span><span style=\"color: #008080; text-decoration-color: #008080; font-weight: bold\">&gt;&amp;</span><span style=\"color: #008080; text-decoration-color: #008080; font-weight: bold\">1</span>                      <span style=\"color: #7f7f7f; text-decoration-color: #7f7f7f\">            </span>\n",
       "</pre>\n"
      ],
      "text/plain": [
       "\u001b[2;36m          \u001b[0m\u001b[2;36m \u001b[0m\u001b[32mDEBUG   \u001b[0m RUN COMMAND:                                                 \u001b[2mrunner.py\u001b[0m\u001b[2m:\u001b[0m\u001b[2m79\u001b[0m\n",
       "\u001b[2;36m           \u001b[0m         \u001b[1;36mgtime -f \u001b[0m\u001b[32m'%e'\u001b[0m\u001b[1;36m g++\u001b[0m\u001b[1;36m-11\u001b[0m\u001b[1;36m -o \u001b[0m\u001b[1;35m/Users/qnbhd/Development/gimeltune/ex\u001b[0m \u001b[2m            \u001b[0m\n",
       "\u001b[2;36m           \u001b[0m         \u001b[1;35mamples/gcc/\u001b[0m\u001b[1;95mc60d7ade8b328a670b68019ba15e1b6d720f57d2fc8f8fe06\u001b[0m \u001b[2m            \u001b[0m\n",
       "\u001b[2;36m           \u001b[0m         \u001b[1;95m770bd5f6990c28d5612.out\u001b[0m\u001b[1;36m \u001b[0m\u001b[1;35m/Users/qnbhd/Development/gimeltune/ex\u001b[0m \u001b[2m            \u001b[0m\n",
       "\u001b[2;36m           \u001b[0m         \u001b[1;35mamples/gcc/raytracer/\u001b[0m\u001b[1;95mraytracer.cpp\u001b[0m\u001b[1;36m -O3  -fno-align-jumps \u001b[0m    \u001b[2m            \u001b[0m\n",
       "\u001b[2;36m           \u001b[0m         \u001b[1;36m-falign-labels -fasynchronous-unwind-tables \u001b[0m                 \u001b[2m            \u001b[0m\n",
       "\u001b[2;36m           \u001b[0m         \u001b[1;36m-fbranch-count-reg -fno-branch-probabilities --param \u001b[0m        \u001b[2m            \u001b[0m\n",
       "\u001b[2;36m           \u001b[0m         \u001b[1;36mearly-inlining-\u001b[0m\u001b[1;33minsns\u001b[0m\u001b[1;36m=\u001b[0m\u001b[1;36m518\u001b[0m\u001b[1;36m --param gcse-cost-distance-\u001b[0m\u001b[1;33mratio\u001b[0m\u001b[1;36m=\u001b[0m\u001b[1;36m12\u001b[0m \u001b[2m            \u001b[0m\n",
       "\u001b[2;36m           \u001b[0m         \u001b[1;36m--param iv-max-considered-\u001b[0m\u001b[1;33muses\u001b[0m\u001b[1;36m=\u001b[0m\u001b[1;36m891\u001b[0m\u001b[1;36m \u001b[0m\u001b[1;36m2\u001b[0m\u001b[1;36m>&\u001b[0m\u001b[1;36m1\u001b[0m                      \u001b[2m            \u001b[0m\n"
      ]
     },
     "metadata": {},
     "output_type": "display_data"
    },
    {
     "data": {
      "text/html": [
       "<pre style=\"white-space:pre;overflow-x:auto;line-height:normal;font-family:Menlo,'DejaVu Sans Mono',consolas,'Courier New',monospace\"><span style=\"color: #7fbfbf; text-decoration-color: #7fbfbf\">[11:16:56] </span><span style=\"color: #000080; text-decoration-color: #000080\">INFO    </span> <span style=\"color: #808000; text-decoration-color: #808000; font-weight: bold\">OUT: </span><span style=\"color: #008080; text-decoration-color: #008080; font-weight: bold\">0.93</span>                                                    <span style=\"color: #7f7f7f; text-decoration-color: #7f7f7f\">runner.py:85</span>\n",
       "</pre>\n"
      ],
      "text/plain": [
       "\u001b[2;36m[11:16:56]\u001b[0m\u001b[2;36m \u001b[0m\u001b[34mINFO    \u001b[0m \u001b[1;33mOUT: \u001b[0m\u001b[1;36m0.93\u001b[0m                                                    \u001b[2mrunner.py\u001b[0m\u001b[2m:\u001b[0m\u001b[2m85\u001b[0m\n"
      ]
     },
     "metadata": {},
     "output_type": "display_data"
    },
    {
     "data": {
      "text/html": [
       "<pre style=\"white-space:pre;overflow-x:auto;line-height:normal;font-family:Menlo,'DejaVu Sans Mono',consolas,'Courier New',monospace\"><span style=\"color: #7fbfbf; text-decoration-color: #7fbfbf\">           </span><span style=\"color: #008000; text-decoration-color: #008000\">DEBUG   </span> RUN COMMAND:                                                 <span style=\"color: #7f7f7f; text-decoration-color: #7f7f7f\">runner.py:79</span>\n",
       "<span style=\"color: #7fbfbf; text-decoration-color: #7fbfbf\">           </span>         <span style=\"color: #008080; text-decoration-color: #008080; font-weight: bold\">wc -c </span><span style=\"color: #800080; text-decoration-color: #800080; font-weight: bold\">/Users/qnbhd/Development/gimeltune/examples/gcc/</span><span style=\"color: #ff00ff; text-decoration-color: #ff00ff; font-weight: bold\">c60d7ad</span> <span style=\"color: #7f7f7f; text-decoration-color: #7f7f7f\">            </span>\n",
       "<span style=\"color: #7fbfbf; text-decoration-color: #7fbfbf\">           </span>         <span style=\"color: #ff00ff; text-decoration-color: #ff00ff; font-weight: bold\">e8b328a670b68019ba15e1b6d720f57d2fc8f8fe06770bd5f6990c28d561</span> <span style=\"color: #7f7f7f; text-decoration-color: #7f7f7f\">            </span>\n",
       "<span style=\"color: #7fbfbf; text-decoration-color: #7fbfbf\">           </span>         <span style=\"color: #ff00ff; text-decoration-color: #ff00ff; font-weight: bold\">2.out</span><span style=\"color: #008080; text-decoration-color: #008080; font-weight: bold\"> | awk </span><span style=\"color: #008000; text-decoration-color: #008000\">'{print $1}'</span>                                     <span style=\"color: #7f7f7f; text-decoration-color: #7f7f7f\">            </span>\n",
       "</pre>\n"
      ],
      "text/plain": [
       "\u001b[2;36m          \u001b[0m\u001b[2;36m \u001b[0m\u001b[32mDEBUG   \u001b[0m RUN COMMAND:                                                 \u001b[2mrunner.py\u001b[0m\u001b[2m:\u001b[0m\u001b[2m79\u001b[0m\n",
       "\u001b[2;36m           \u001b[0m         \u001b[1;36mwc -c \u001b[0m\u001b[1;35m/Users/qnbhd/Development/gimeltune/examples/gcc/\u001b[0m\u001b[1;95mc60d7ad\u001b[0m \u001b[2m            \u001b[0m\n",
       "\u001b[2;36m           \u001b[0m         \u001b[1;95me8b328a670b68019ba15e1b6d720f57d2fc8f8fe06770bd5f6990c28d561\u001b[0m \u001b[2m            \u001b[0m\n",
       "\u001b[2;36m           \u001b[0m         \u001b[1;95m2.out\u001b[0m\u001b[1;36m | awk \u001b[0m\u001b[32m'\u001b[0m\u001b[32m{\u001b[0m\u001b[32mprint $1\u001b[0m\u001b[32m}\u001b[0m\u001b[32m'\u001b[0m                                     \u001b[2m            \u001b[0m\n"
      ]
     },
     "metadata": {},
     "output_type": "display_data"
    },
    {
     "data": {
      "text/html": [
       "<pre style=\"white-space:pre;overflow-x:auto;line-height:normal;font-family:Menlo,'DejaVu Sans Mono',consolas,'Courier New',monospace\"><span style=\"color: #7fbfbf; text-decoration-color: #7fbfbf\">           </span><span style=\"color: #000080; text-decoration-color: #000080\">INFO    </span> <span style=\"color: #808000; text-decoration-color: #808000; font-weight: bold\">OUT: </span><span style=\"color: #008080; text-decoration-color: #008080; font-weight: bold\">50904</span>                                                   <span style=\"color: #7f7f7f; text-decoration-color: #7f7f7f\">runner.py:85</span>\n",
       "</pre>\n"
      ],
      "text/plain": [
       "\u001b[2;36m          \u001b[0m\u001b[2;36m \u001b[0m\u001b[34mINFO    \u001b[0m \u001b[1;33mOUT: \u001b[0m\u001b[1;36m50904\u001b[0m                                                   \u001b[2mrunner.py\u001b[0m\u001b[2m:\u001b[0m\u001b[2m85\u001b[0m\n"
      ]
     },
     "metadata": {},
     "output_type": "display_data"
    },
    {
     "data": {
      "text/html": [
       "<pre style=\"white-space:pre;overflow-x:auto;line-height:normal;font-family:Menlo,'DejaVu Sans Mono',consolas,'Courier New',monospace\"><span style=\"color: #7fbfbf; text-decoration-color: #7fbfbf\">           </span><span style=\"color: #008000; text-decoration-color: #008000\">DEBUG   </span> RUN COMMAND:                                                 <span style=\"color: #7f7f7f; text-decoration-color: #7f7f7f\">runner.py:79</span>\n",
       "<span style=\"color: #7fbfbf; text-decoration-color: #7fbfbf\">           </span>         <span style=\"color: #008080; text-decoration-color: #008080; font-weight: bold\">gtime -f </span><span style=\"color: #008000; text-decoration-color: #008000\">'%e'</span><span style=\"color: #008080; text-decoration-color: #008080; font-weight: bold\"> </span><span style=\"color: #800080; text-decoration-color: #800080; font-weight: bold\">/Users/qnbhd/Development/gimeltune/examples/gcc</span> <span style=\"color: #7f7f7f; text-decoration-color: #7f7f7f\">            </span>\n",
       "<span style=\"color: #7fbfbf; text-decoration-color: #7fbfbf\">           </span>         <span style=\"color: #800080; text-decoration-color: #800080; font-weight: bold\">/</span><span style=\"color: #ff00ff; text-decoration-color: #ff00ff; font-weight: bold\">c60d7ade8b328a670b68019ba15e1b6d720f57d2fc8f8fe06770bd5f699</span> <span style=\"color: #7f7f7f; text-decoration-color: #7f7f7f\">            </span>\n",
       "<span style=\"color: #7fbfbf; text-decoration-color: #7fbfbf\">           </span>         <span style=\"color: #ff00ff; text-decoration-color: #ff00ff; font-weight: bold\">0c28d5612.out</span><span style=\"color: #008080; text-decoration-color: #008080; font-weight: bold\"> </span><span style=\"color: #008080; text-decoration-color: #008080; font-weight: bold\">2</span><span style=\"color: #008080; text-decoration-color: #008080; font-weight: bold\">&gt;&amp;</span><span style=\"color: #008080; text-decoration-color: #008080; font-weight: bold\">1</span>                                           <span style=\"color: #7f7f7f; text-decoration-color: #7f7f7f\">            </span>\n",
       "</pre>\n"
      ],
      "text/plain": [
       "\u001b[2;36m          \u001b[0m\u001b[2;36m \u001b[0m\u001b[32mDEBUG   \u001b[0m RUN COMMAND:                                                 \u001b[2mrunner.py\u001b[0m\u001b[2m:\u001b[0m\u001b[2m79\u001b[0m\n",
       "\u001b[2;36m           \u001b[0m         \u001b[1;36mgtime -f \u001b[0m\u001b[32m'%e'\u001b[0m\u001b[1;36m \u001b[0m\u001b[1;35m/Users/qnbhd/Development/gimeltune/examples/gcc\u001b[0m \u001b[2m            \u001b[0m\n",
       "\u001b[2;36m           \u001b[0m         \u001b[1;35m/\u001b[0m\u001b[1;95mc60d7ade8b328a670b68019ba15e1b6d720f57d2fc8f8fe06770bd5f699\u001b[0m \u001b[2m            \u001b[0m\n",
       "\u001b[2;36m           \u001b[0m         \u001b[1;95m0c28d5612.out\u001b[0m\u001b[1;36m \u001b[0m\u001b[1;36m2\u001b[0m\u001b[1;36m>&\u001b[0m\u001b[1;36m1\u001b[0m                                           \u001b[2m            \u001b[0m\n"
      ]
     },
     "metadata": {},
     "output_type": "display_data"
    },
    {
     "data": {
      "text/html": [
       "<pre style=\"white-space:pre;overflow-x:auto;line-height:normal;font-family:Menlo,'DejaVu Sans Mono',consolas,'Courier New',monospace\"><span style=\"color: #7fbfbf; text-decoration-color: #7fbfbf\">[11:16:57] </span><span style=\"color: #000080; text-decoration-color: #000080\">INFO    </span> <span style=\"color: #808000; text-decoration-color: #808000; font-weight: bold\">OUT: </span><span style=\"color: #008080; text-decoration-color: #008080; font-weight: bold\">0.15</span>                                                    <span style=\"color: #7f7f7f; text-decoration-color: #7f7f7f\">runner.py:85</span>\n",
       "</pre>\n"
      ],
      "text/plain": [
       "\u001b[2;36m[11:16:57]\u001b[0m\u001b[2;36m \u001b[0m\u001b[34mINFO    \u001b[0m \u001b[1;33mOUT: \u001b[0m\u001b[1;36m0.15\u001b[0m                                                    \u001b[2mrunner.py\u001b[0m\u001b[2m:\u001b[0m\u001b[2m85\u001b[0m\n"
      ]
     },
     "metadata": {},
     "output_type": "display_data"
    },
    {
     "data": {
      "text/html": [
       "<pre style=\"white-space:pre;overflow-x:auto;line-height:normal;font-family:Menlo,'DejaVu Sans Mono',consolas,'Courier New',monospace\"><span style=\"color: #7fbfbf; text-decoration-color: #7fbfbf\">           </span><span style=\"color: #008000; text-decoration-color: #008000\">DEBUG   </span> RUN COMMAND:                                                 <span style=\"color: #7f7f7f; text-decoration-color: #7f7f7f\">runner.py:79</span>\n",
       "<span style=\"color: #7fbfbf; text-decoration-color: #7fbfbf\">           </span>         <span style=\"color: #008080; text-decoration-color: #008080; font-weight: bold\">gtime -f </span><span style=\"color: #008000; text-decoration-color: #008000\">'%e'</span><span style=\"color: #008080; text-decoration-color: #008080; font-weight: bold\"> </span><span style=\"color: #800080; text-decoration-color: #800080; font-weight: bold\">/Users/qnbhd/Development/gimeltune/examples/gcc</span> <span style=\"color: #7f7f7f; text-decoration-color: #7f7f7f\">            </span>\n",
       "<span style=\"color: #7fbfbf; text-decoration-color: #7fbfbf\">           </span>         <span style=\"color: #800080; text-decoration-color: #800080; font-weight: bold\">/</span><span style=\"color: #ff00ff; text-decoration-color: #ff00ff; font-weight: bold\">c60d7ade8b328a670b68019ba15e1b6d720f57d2fc8f8fe06770bd5f699</span> <span style=\"color: #7f7f7f; text-decoration-color: #7f7f7f\">            </span>\n",
       "<span style=\"color: #7fbfbf; text-decoration-color: #7fbfbf\">           </span>         <span style=\"color: #ff00ff; text-decoration-color: #ff00ff; font-weight: bold\">0c28d5612.out</span><span style=\"color: #008080; text-decoration-color: #008080; font-weight: bold\"> </span><span style=\"color: #008080; text-decoration-color: #008080; font-weight: bold\">2</span><span style=\"color: #008080; text-decoration-color: #008080; font-weight: bold\">&gt;&amp;</span><span style=\"color: #008080; text-decoration-color: #008080; font-weight: bold\">1</span>                                           <span style=\"color: #7f7f7f; text-decoration-color: #7f7f7f\">            </span>\n",
       "</pre>\n"
      ],
      "text/plain": [
       "\u001b[2;36m          \u001b[0m\u001b[2;36m \u001b[0m\u001b[32mDEBUG   \u001b[0m RUN COMMAND:                                                 \u001b[2mrunner.py\u001b[0m\u001b[2m:\u001b[0m\u001b[2m79\u001b[0m\n",
       "\u001b[2;36m           \u001b[0m         \u001b[1;36mgtime -f \u001b[0m\u001b[32m'%e'\u001b[0m\u001b[1;36m \u001b[0m\u001b[1;35m/Users/qnbhd/Development/gimeltune/examples/gcc\u001b[0m \u001b[2m            \u001b[0m\n",
       "\u001b[2;36m           \u001b[0m         \u001b[1;35m/\u001b[0m\u001b[1;95mc60d7ade8b328a670b68019ba15e1b6d720f57d2fc8f8fe06770bd5f699\u001b[0m \u001b[2m            \u001b[0m\n",
       "\u001b[2;36m           \u001b[0m         \u001b[1;95m0c28d5612.out\u001b[0m\u001b[1;36m \u001b[0m\u001b[1;36m2\u001b[0m\u001b[1;36m>&\u001b[0m\u001b[1;36m1\u001b[0m                                           \u001b[2m            \u001b[0m\n"
      ]
     },
     "metadata": {},
     "output_type": "display_data"
    },
    {
     "data": {
      "text/html": [
       "<pre style=\"white-space:pre;overflow-x:auto;line-height:normal;font-family:Menlo,'DejaVu Sans Mono',consolas,'Courier New',monospace\"><span style=\"color: #7fbfbf; text-decoration-color: #7fbfbf\">           </span><span style=\"color: #000080; text-decoration-color: #000080\">INFO    </span> <span style=\"color: #808000; text-decoration-color: #808000; font-weight: bold\">OUT: </span><span style=\"color: #008080; text-decoration-color: #008080; font-weight: bold\">0.11</span>                                                    <span style=\"color: #7f7f7f; text-decoration-color: #7f7f7f\">runner.py:85</span>\n",
       "</pre>\n"
      ],
      "text/plain": [
       "\u001b[2;36m          \u001b[0m\u001b[2;36m \u001b[0m\u001b[34mINFO    \u001b[0m \u001b[1;33mOUT: \u001b[0m\u001b[1;36m0.11\u001b[0m                                                    \u001b[2mrunner.py\u001b[0m\u001b[2m:\u001b[0m\u001b[2m85\u001b[0m\n"
      ]
     },
     "metadata": {},
     "output_type": "display_data"
    },
    {
     "data": {
      "text/html": [
       "<pre style=\"white-space:pre;overflow-x:auto;line-height:normal;font-family:Menlo,'DejaVu Sans Mono',consolas,'Courier New',monospace\"><span style=\"color: #7fbfbf; text-decoration-color: #7fbfbf\">           </span><span style=\"color: #008000; text-decoration-color: #008000\">DEBUG   </span> RUN COMMAND:                                                 <span style=\"color: #7f7f7f; text-decoration-color: #7f7f7f\">runner.py:79</span>\n",
       "<span style=\"color: #7fbfbf; text-decoration-color: #7fbfbf\">           </span>         <span style=\"color: #008080; text-decoration-color: #008080; font-weight: bold\">gtime -f </span><span style=\"color: #008000; text-decoration-color: #008000\">'%e'</span><span style=\"color: #008080; text-decoration-color: #008080; font-weight: bold\"> </span><span style=\"color: #800080; text-decoration-color: #800080; font-weight: bold\">/Users/qnbhd/Development/gimeltune/examples/gcc</span> <span style=\"color: #7f7f7f; text-decoration-color: #7f7f7f\">            </span>\n",
       "<span style=\"color: #7fbfbf; text-decoration-color: #7fbfbf\">           </span>         <span style=\"color: #800080; text-decoration-color: #800080; font-weight: bold\">/</span><span style=\"color: #ff00ff; text-decoration-color: #ff00ff; font-weight: bold\">c60d7ade8b328a670b68019ba15e1b6d720f57d2fc8f8fe06770bd5f699</span> <span style=\"color: #7f7f7f; text-decoration-color: #7f7f7f\">            </span>\n",
       "<span style=\"color: #7fbfbf; text-decoration-color: #7fbfbf\">           </span>         <span style=\"color: #ff00ff; text-decoration-color: #ff00ff; font-weight: bold\">0c28d5612.out</span><span style=\"color: #008080; text-decoration-color: #008080; font-weight: bold\"> </span><span style=\"color: #008080; text-decoration-color: #008080; font-weight: bold\">2</span><span style=\"color: #008080; text-decoration-color: #008080; font-weight: bold\">&gt;&amp;</span><span style=\"color: #008080; text-decoration-color: #008080; font-weight: bold\">1</span>                                           <span style=\"color: #7f7f7f; text-decoration-color: #7f7f7f\">            </span>\n",
       "</pre>\n"
      ],
      "text/plain": [
       "\u001b[2;36m          \u001b[0m\u001b[2;36m \u001b[0m\u001b[32mDEBUG   \u001b[0m RUN COMMAND:                                                 \u001b[2mrunner.py\u001b[0m\u001b[2m:\u001b[0m\u001b[2m79\u001b[0m\n",
       "\u001b[2;36m           \u001b[0m         \u001b[1;36mgtime -f \u001b[0m\u001b[32m'%e'\u001b[0m\u001b[1;36m \u001b[0m\u001b[1;35m/Users/qnbhd/Development/gimeltune/examples/gcc\u001b[0m \u001b[2m            \u001b[0m\n",
       "\u001b[2;36m           \u001b[0m         \u001b[1;35m/\u001b[0m\u001b[1;95mc60d7ade8b328a670b68019ba15e1b6d720f57d2fc8f8fe06770bd5f699\u001b[0m \u001b[2m            \u001b[0m\n",
       "\u001b[2;36m           \u001b[0m         \u001b[1;95m0c28d5612.out\u001b[0m\u001b[1;36m \u001b[0m\u001b[1;36m2\u001b[0m\u001b[1;36m>&\u001b[0m\u001b[1;36m1\u001b[0m                                           \u001b[2m            \u001b[0m\n"
      ]
     },
     "metadata": {},
     "output_type": "display_data"
    },
    {
     "data": {
      "text/html": [
       "<pre style=\"white-space:pre;overflow-x:auto;line-height:normal;font-family:Menlo,'DejaVu Sans Mono',consolas,'Courier New',monospace\"><span style=\"color: #7fbfbf; text-decoration-color: #7fbfbf\">           </span><span style=\"color: #000080; text-decoration-color: #000080\">INFO    </span> <span style=\"color: #808000; text-decoration-color: #808000; font-weight: bold\">OUT: </span><span style=\"color: #008080; text-decoration-color: #008080; font-weight: bold\">0.11</span>                                                    <span style=\"color: #7f7f7f; text-decoration-color: #7f7f7f\">runner.py:85</span>\n",
       "</pre>\n"
      ],
      "text/plain": [
       "\u001b[2;36m          \u001b[0m\u001b[2;36m \u001b[0m\u001b[34mINFO    \u001b[0m \u001b[1;33mOUT: \u001b[0m\u001b[1;36m0.11\u001b[0m                                                    \u001b[2mrunner.py\u001b[0m\u001b[2m:\u001b[0m\u001b[2m85\u001b[0m\n"
      ]
     },
     "metadata": {},
     "output_type": "display_data"
    },
    {
     "data": {
      "text/html": [
       "<pre style=\"white-space:pre;overflow-x:auto;line-height:normal;font-family:Menlo,'DejaVu Sans Mono',consolas,'Courier New',monospace\"><span style=\"color: #7fbfbf; text-decoration-color: #7fbfbf\">           </span><span style=\"color: #008000; text-decoration-color: #008000\">DEBUG   </span> RUN COMMAND:                                                 <span style=\"color: #7f7f7f; text-decoration-color: #7f7f7f\">runner.py:79</span>\n",
       "<span style=\"color: #7fbfbf; text-decoration-color: #7fbfbf\">           </span>         <span style=\"color: #008080; text-decoration-color: #008080; font-weight: bold\">gtime -f </span><span style=\"color: #008000; text-decoration-color: #008000\">'%e'</span><span style=\"color: #008080; text-decoration-color: #008080; font-weight: bold\"> </span><span style=\"color: #800080; text-decoration-color: #800080; font-weight: bold\">/Users/qnbhd/Development/gimeltune/examples/gcc</span> <span style=\"color: #7f7f7f; text-decoration-color: #7f7f7f\">            </span>\n",
       "<span style=\"color: #7fbfbf; text-decoration-color: #7fbfbf\">           </span>         <span style=\"color: #800080; text-decoration-color: #800080; font-weight: bold\">/</span><span style=\"color: #ff00ff; text-decoration-color: #ff00ff; font-weight: bold\">c60d7ade8b328a670b68019ba15e1b6d720f57d2fc8f8fe06770bd5f699</span> <span style=\"color: #7f7f7f; text-decoration-color: #7f7f7f\">            </span>\n",
       "<span style=\"color: #7fbfbf; text-decoration-color: #7fbfbf\">           </span>         <span style=\"color: #ff00ff; text-decoration-color: #ff00ff; font-weight: bold\">0c28d5612.out</span><span style=\"color: #008080; text-decoration-color: #008080; font-weight: bold\"> </span><span style=\"color: #008080; text-decoration-color: #008080; font-weight: bold\">2</span><span style=\"color: #008080; text-decoration-color: #008080; font-weight: bold\">&gt;&amp;</span><span style=\"color: #008080; text-decoration-color: #008080; font-weight: bold\">1</span>                                           <span style=\"color: #7f7f7f; text-decoration-color: #7f7f7f\">            </span>\n",
       "</pre>\n"
      ],
      "text/plain": [
       "\u001b[2;36m          \u001b[0m\u001b[2;36m \u001b[0m\u001b[32mDEBUG   \u001b[0m RUN COMMAND:                                                 \u001b[2mrunner.py\u001b[0m\u001b[2m:\u001b[0m\u001b[2m79\u001b[0m\n",
       "\u001b[2;36m           \u001b[0m         \u001b[1;36mgtime -f \u001b[0m\u001b[32m'%e'\u001b[0m\u001b[1;36m \u001b[0m\u001b[1;35m/Users/qnbhd/Development/gimeltune/examples/gcc\u001b[0m \u001b[2m            \u001b[0m\n",
       "\u001b[2;36m           \u001b[0m         \u001b[1;35m/\u001b[0m\u001b[1;95mc60d7ade8b328a670b68019ba15e1b6d720f57d2fc8f8fe06770bd5f699\u001b[0m \u001b[2m            \u001b[0m\n",
       "\u001b[2;36m           \u001b[0m         \u001b[1;95m0c28d5612.out\u001b[0m\u001b[1;36m \u001b[0m\u001b[1;36m2\u001b[0m\u001b[1;36m>&\u001b[0m\u001b[1;36m1\u001b[0m                                           \u001b[2m            \u001b[0m\n"
      ]
     },
     "metadata": {},
     "output_type": "display_data"
    },
    {
     "data": {
      "text/html": [
       "<pre style=\"white-space:pre;overflow-x:auto;line-height:normal;font-family:Menlo,'DejaVu Sans Mono',consolas,'Courier New',monospace\"><span style=\"color: #7fbfbf; text-decoration-color: #7fbfbf\">           </span><span style=\"color: #000080; text-decoration-color: #000080\">INFO    </span> <span style=\"color: #808000; text-decoration-color: #808000; font-weight: bold\">OUT: </span><span style=\"color: #008080; text-decoration-color: #008080; font-weight: bold\">0.11</span>                                                    <span style=\"color: #7f7f7f; text-decoration-color: #7f7f7f\">runner.py:85</span>\n",
       "</pre>\n"
      ],
      "text/plain": [
       "\u001b[2;36m          \u001b[0m\u001b[2;36m \u001b[0m\u001b[34mINFO    \u001b[0m \u001b[1;33mOUT: \u001b[0m\u001b[1;36m0.11\u001b[0m                                                    \u001b[2mrunner.py\u001b[0m\u001b[2m:\u001b[0m\u001b[2m85\u001b[0m\n"
      ]
     },
     "metadata": {},
     "output_type": "display_data"
    },
    {
     "data": {
      "text/html": [
       "<pre style=\"white-space:pre;overflow-x:auto;line-height:normal;font-family:Menlo,'DejaVu Sans Mono',consolas,'Courier New',monospace\"><span style=\"color: #7fbfbf; text-decoration-color: #7fbfbf\">           </span><span style=\"color: #008000; text-decoration-color: #008000\">DEBUG   </span> RUN COMMAND:                                                 <span style=\"color: #7f7f7f; text-decoration-color: #7f7f7f\">runner.py:79</span>\n",
       "<span style=\"color: #7fbfbf; text-decoration-color: #7fbfbf\">           </span>         <span style=\"color: #008080; text-decoration-color: #008080; font-weight: bold\">gtime -f </span><span style=\"color: #008000; text-decoration-color: #008000\">'%e'</span><span style=\"color: #008080; text-decoration-color: #008080; font-weight: bold\"> </span><span style=\"color: #800080; text-decoration-color: #800080; font-weight: bold\">/Users/qnbhd/Development/gimeltune/examples/gcc</span> <span style=\"color: #7f7f7f; text-decoration-color: #7f7f7f\">            </span>\n",
       "<span style=\"color: #7fbfbf; text-decoration-color: #7fbfbf\">           </span>         <span style=\"color: #800080; text-decoration-color: #800080; font-weight: bold\">/</span><span style=\"color: #ff00ff; text-decoration-color: #ff00ff; font-weight: bold\">c60d7ade8b328a670b68019ba15e1b6d720f57d2fc8f8fe06770bd5f699</span> <span style=\"color: #7f7f7f; text-decoration-color: #7f7f7f\">            </span>\n",
       "<span style=\"color: #7fbfbf; text-decoration-color: #7fbfbf\">           </span>         <span style=\"color: #ff00ff; text-decoration-color: #ff00ff; font-weight: bold\">0c28d5612.out</span><span style=\"color: #008080; text-decoration-color: #008080; font-weight: bold\"> </span><span style=\"color: #008080; text-decoration-color: #008080; font-weight: bold\">2</span><span style=\"color: #008080; text-decoration-color: #008080; font-weight: bold\">&gt;&amp;</span><span style=\"color: #008080; text-decoration-color: #008080; font-weight: bold\">1</span>                                           <span style=\"color: #7f7f7f; text-decoration-color: #7f7f7f\">            </span>\n",
       "</pre>\n"
      ],
      "text/plain": [
       "\u001b[2;36m          \u001b[0m\u001b[2;36m \u001b[0m\u001b[32mDEBUG   \u001b[0m RUN COMMAND:                                                 \u001b[2mrunner.py\u001b[0m\u001b[2m:\u001b[0m\u001b[2m79\u001b[0m\n",
       "\u001b[2;36m           \u001b[0m         \u001b[1;36mgtime -f \u001b[0m\u001b[32m'%e'\u001b[0m\u001b[1;36m \u001b[0m\u001b[1;35m/Users/qnbhd/Development/gimeltune/examples/gcc\u001b[0m \u001b[2m            \u001b[0m\n",
       "\u001b[2;36m           \u001b[0m         \u001b[1;35m/\u001b[0m\u001b[1;95mc60d7ade8b328a670b68019ba15e1b6d720f57d2fc8f8fe06770bd5f699\u001b[0m \u001b[2m            \u001b[0m\n",
       "\u001b[2;36m           \u001b[0m         \u001b[1;95m0c28d5612.out\u001b[0m\u001b[1;36m \u001b[0m\u001b[1;36m2\u001b[0m\u001b[1;36m>&\u001b[0m\u001b[1;36m1\u001b[0m                                           \u001b[2m            \u001b[0m\n"
      ]
     },
     "metadata": {},
     "output_type": "display_data"
    },
    {
     "data": {
      "text/html": [
       "<pre style=\"white-space:pre;overflow-x:auto;line-height:normal;font-family:Menlo,'DejaVu Sans Mono',consolas,'Courier New',monospace\"><span style=\"color: #7fbfbf; text-decoration-color: #7fbfbf\">           </span><span style=\"color: #000080; text-decoration-color: #000080\">INFO    </span> <span style=\"color: #808000; text-decoration-color: #808000; font-weight: bold\">OUT: </span><span style=\"color: #008080; text-decoration-color: #008080; font-weight: bold\">0.11</span>                                                    <span style=\"color: #7f7f7f; text-decoration-color: #7f7f7f\">runner.py:85</span>\n",
       "</pre>\n"
      ],
      "text/plain": [
       "\u001b[2;36m          \u001b[0m\u001b[2;36m \u001b[0m\u001b[34mINFO    \u001b[0m \u001b[1;33mOUT: \u001b[0m\u001b[1;36m0.11\u001b[0m                                                    \u001b[2mrunner.py\u001b[0m\u001b[2m:\u001b[0m\u001b[2m85\u001b[0m\n"
      ]
     },
     "metadata": {},
     "output_type": "display_data"
    },
    {
     "data": {
      "text/html": [
       "<pre style=\"white-space:pre;overflow-x:auto;line-height:normal;font-family:Menlo,'DejaVu Sans Mono',consolas,'Courier New',monospace\"><span style=\"color: #7fbfbf; text-decoration-color: #7fbfbf\">           </span><span style=\"color: #008000; text-decoration-color: #008000\">DEBUG   </span> RUN COMMAND:                                                 <span style=\"color: #7f7f7f; text-decoration-color: #7f7f7f\">runner.py:79</span>\n",
       "<span style=\"color: #7fbfbf; text-decoration-color: #7fbfbf\">           </span>         <span style=\"color: #008080; text-decoration-color: #008080; font-weight: bold\">rm </span><span style=\"color: #800080; text-decoration-color: #800080; font-weight: bold\">/Users/qnbhd/Development/gimeltune/examples/gcc/</span><span style=\"color: #ff00ff; text-decoration-color: #ff00ff; font-weight: bold\">c60d7ade8b</span> <span style=\"color: #7f7f7f; text-decoration-color: #7f7f7f\">            </span>\n",
       "<span style=\"color: #7fbfbf; text-decoration-color: #7fbfbf\">           </span>         <span style=\"color: #ff00ff; text-decoration-color: #ff00ff; font-weight: bold\">328a670b68019ba15e1b6d720f57d2fc8f8fe06770bd5f6990c28d5612.o</span> <span style=\"color: #7f7f7f; text-decoration-color: #7f7f7f\">            </span>\n",
       "<span style=\"color: #7fbfbf; text-decoration-color: #7fbfbf\">           </span>         <span style=\"color: #ff00ff; text-decoration-color: #ff00ff; font-weight: bold\">ut</span>                                                           <span style=\"color: #7f7f7f; text-decoration-color: #7f7f7f\">            </span>\n",
       "</pre>\n"
      ],
      "text/plain": [
       "\u001b[2;36m          \u001b[0m\u001b[2;36m \u001b[0m\u001b[32mDEBUG   \u001b[0m RUN COMMAND:                                                 \u001b[2mrunner.py\u001b[0m\u001b[2m:\u001b[0m\u001b[2m79\u001b[0m\n",
       "\u001b[2;36m           \u001b[0m         \u001b[1;36mrm \u001b[0m\u001b[1;35m/Users/qnbhd/Development/gimeltune/examples/gcc/\u001b[0m\u001b[1;95mc60d7ade8b\u001b[0m \u001b[2m            \u001b[0m\n",
       "\u001b[2;36m           \u001b[0m         \u001b[1;95m328a670b68019ba15e1b6d720f57d2fc8f8fe06770bd5f6990c28d5612.o\u001b[0m \u001b[2m            \u001b[0m\n",
       "\u001b[2;36m           \u001b[0m         \u001b[1;95mut\u001b[0m                                                           \u001b[2m            \u001b[0m\n"
      ]
     },
     "metadata": {},
     "output_type": "display_data"
    },
    {
     "data": {
      "text/html": [
       "<pre style=\"white-space:pre;overflow-x:auto;line-height:normal;font-family:Menlo,'DejaVu Sans Mono',consolas,'Courier New',monospace\"><span style=\"color: #7fbfbf; text-decoration-color: #7fbfbf\">           </span><span style=\"color: #000080; text-decoration-color: #000080\">INFO    </span> Trying experiment: <span style=\"color: #800080; text-decoration-color: #800080; font-weight: bold\">Experiment</span><span style=\"font-weight: bold\">({</span>                             <span style=\"color: #7f7f7f; text-decoration-color: #7f7f7f\">runner.py:156</span>\n",
       "<span style=\"color: #7fbfbf; text-decoration-color: #7fbfbf\">           </span>             <span style=\"color: #008000; text-decoration-color: #008000\">\"id\"</span>: <span style=\"color: #008080; text-decoration-color: #008080; font-weight: bold\">4</span>,                                                <span style=\"color: #7f7f7f; text-decoration-color: #7f7f7f\">             </span>\n",
       "<span style=\"color: #7fbfbf; text-decoration-color: #7fbfbf\">           </span>             <span style=\"color: #008000; text-decoration-color: #008000\">\"job_id\"</span>: <span style=\"color: #008080; text-decoration-color: #008080; font-weight: bold\">1</span>,                                            <span style=\"color: #7f7f7f; text-decoration-color: #7f7f7f\">             </span>\n",
       "<span style=\"color: #7fbfbf; text-decoration-color: #7fbfbf\">           </span>             <span style=\"color: #008000; text-decoration-color: #008000\">\"state\"</span>: <span style=\"color: #008000; text-decoration-color: #008000\">\"WIP\"</span>,                                         <span style=\"color: #7f7f7f; text-decoration-color: #7f7f7f\">             </span>\n",
       "<span style=\"color: #7fbfbf; text-decoration-color: #7fbfbf\">           </span>             <span style=\"color: #008000; text-decoration-color: #008000\">\"hash\"</span>: null,                                           <span style=\"color: #7f7f7f; text-decoration-color: #7f7f7f\">             </span>\n",
       "<span style=\"color: #7fbfbf; text-decoration-color: #7fbfbf\">           </span>             <span style=\"color: #008000; text-decoration-color: #008000\">\"objective_result\"</span>: null,                               <span style=\"color: #7f7f7f; text-decoration-color: #7f7f7f\">             </span>\n",
       "<span style=\"color: #7fbfbf; text-decoration-color: #7fbfbf\">           </span>             <span style=\"color: #008000; text-decoration-color: #008000\">\"params\"</span>: <span style=\"font-weight: bold\">{</span>                                             <span style=\"color: #7f7f7f; text-decoration-color: #7f7f7f\">             </span>\n",
       "<span style=\"color: #7fbfbf; text-decoration-color: #7fbfbf\">           </span>                 <span style=\"color: #008000; text-decoration-color: #008000\">\"-O\"</span>: <span style=\"color: #008000; text-decoration-color: #008000\">\"-O1\"</span>,                                        <span style=\"color: #7f7f7f; text-decoration-color: #7f7f7f\">             </span>\n",
       "<span style=\"color: #7fbfbf; text-decoration-color: #7fbfbf\">           </span>                 <span style=\"color: #008000; text-decoration-color: #008000\">\"align-functions\"</span>: null,                            <span style=\"color: #7f7f7f; text-decoration-color: #7f7f7f\">             </span>\n",
       "<span style=\"color: #7fbfbf; text-decoration-color: #7fbfbf\">           </span>                 <span style=\"color: #008000; text-decoration-color: #008000\">\"align-jumps\"</span>: <span style=\"color: #008000; text-decoration-color: #008000\">\"-fno-align-jumps\"</span>,                  <span style=\"color: #7f7f7f; text-decoration-color: #7f7f7f\">             </span>\n",
       "<span style=\"color: #7fbfbf; text-decoration-color: #7fbfbf\">           </span>                 <span style=\"color: #008000; text-decoration-color: #008000\">\"align-labels\"</span>: null,                               <span style=\"color: #7f7f7f; text-decoration-color: #7f7f7f\">             </span>\n",
       "<span style=\"color: #7fbfbf; text-decoration-color: #7fbfbf\">           </span>                 <span style=\"color: #008000; text-decoration-color: #008000\">\"asynchronous-unwind-tables\"</span>: null,                 <span style=\"color: #7f7f7f; text-decoration-color: #7f7f7f\">             </span>\n",
       "<span style=\"color: #7fbfbf; text-decoration-color: #7fbfbf\">           </span>                 <span style=\"color: #008000; text-decoration-color: #008000\">\"branch-count-reg\"</span>: <span style=\"color: #008000; text-decoration-color: #008000\">\"-fbranch-count-reg\"</span>,           <span style=\"color: #7f7f7f; text-decoration-color: #7f7f7f\">             </span>\n",
       "<span style=\"color: #7fbfbf; text-decoration-color: #7fbfbf\">           </span>                 <span style=\"color: #008000; text-decoration-color: #008000\">\"branch-probabilities\"</span>: null,                       <span style=\"color: #7f7f7f; text-decoration-color: #7f7f7f\">             </span>\n",
       "<span style=\"color: #7fbfbf; text-decoration-color: #7fbfbf\">           </span>                 <span style=\"color: #008000; text-decoration-color: #008000\">\"early-inlining-insns\"</span>: <span style=\"color: #008080; text-decoration-color: #008080; font-weight: bold\">256</span>,                        <span style=\"color: #7f7f7f; text-decoration-color: #7f7f7f\">             </span>\n",
       "<span style=\"color: #7fbfbf; text-decoration-color: #7fbfbf\">           </span>                 <span style=\"color: #008000; text-decoration-color: #008000\">\"gcse-cost-distance-ratio\"</span>: <span style=\"color: #008080; text-decoration-color: #008080; font-weight: bold\">0</span>,                      <span style=\"color: #7f7f7f; text-decoration-color: #7f7f7f\">             </span>\n",
       "<span style=\"color: #7fbfbf; text-decoration-color: #7fbfbf\">           </span>                 <span style=\"color: #008000; text-decoration-color: #008000\">\"iv-max-considered-uses\"</span>: <span style=\"color: #008080; text-decoration-color: #008080; font-weight: bold\">580</span>                       <span style=\"color: #7f7f7f; text-decoration-color: #7f7f7f\">             </span>\n",
       "<span style=\"color: #7fbfbf; text-decoration-color: #7fbfbf\">           </span>             <span style=\"font-weight: bold\">}</span>,                                                      <span style=\"color: #7f7f7f; text-decoration-color: #7f7f7f\">             </span>\n",
       "<span style=\"color: #7fbfbf; text-decoration-color: #7fbfbf\">           </span>             <span style=\"color: #008000; text-decoration-color: #008000\">\"requestor\"</span>: <span style=\"color: #008000; text-decoration-color: #008000\">\"SkoptBayesianAlgorithm\"</span>,                  <span style=\"color: #7f7f7f; text-decoration-color: #7f7f7f\">             </span>\n",
       "<span style=\"color: #7fbfbf; text-decoration-color: #7fbfbf\">           </span>             <span style=\"color: #008000; text-decoration-color: #008000\">\"create_timestamp\"</span>: <span style=\"color: #008080; text-decoration-color: #008080; font-weight: bold\">1645690615.90955</span>,                   <span style=\"color: #7f7f7f; text-decoration-color: #7f7f7f\">             </span>\n",
       "<span style=\"color: #7fbfbf; text-decoration-color: #7fbfbf\">           </span>             <span style=\"color: #008000; text-decoration-color: #008000\">\"finish_timestamp\"</span>: null                                <span style=\"color: #7f7f7f; text-decoration-color: #7f7f7f\">             </span>\n",
       "<span style=\"color: #7fbfbf; text-decoration-color: #7fbfbf\">           </span>         <span style=\"font-weight: bold\">})</span>                                                          <span style=\"color: #7f7f7f; text-decoration-color: #7f7f7f\">             </span>\n",
       "</pre>\n"
      ],
      "text/plain": [
       "\u001b[2;36m          \u001b[0m\u001b[2;36m \u001b[0m\u001b[34mINFO    \u001b[0m Trying experiment: \u001b[1;35mExperiment\u001b[0m\u001b[1m(\u001b[0m\u001b[1m{\u001b[0m                             \u001b[2mrunner.py\u001b[0m\u001b[2m:\u001b[0m\u001b[2m156\u001b[0m\n",
       "\u001b[2;36m           \u001b[0m             \u001b[32m\"id\"\u001b[0m: \u001b[1;36m4\u001b[0m,                                                \u001b[2m             \u001b[0m\n",
       "\u001b[2;36m           \u001b[0m             \u001b[32m\"job_id\"\u001b[0m: \u001b[1;36m1\u001b[0m,                                            \u001b[2m             \u001b[0m\n",
       "\u001b[2;36m           \u001b[0m             \u001b[32m\"state\"\u001b[0m: \u001b[32m\"WIP\"\u001b[0m,                                         \u001b[2m             \u001b[0m\n",
       "\u001b[2;36m           \u001b[0m             \u001b[32m\"hash\"\u001b[0m: null,                                           \u001b[2m             \u001b[0m\n",
       "\u001b[2;36m           \u001b[0m             \u001b[32m\"objective_result\"\u001b[0m: null,                               \u001b[2m             \u001b[0m\n",
       "\u001b[2;36m           \u001b[0m             \u001b[32m\"params\"\u001b[0m: \u001b[1m{\u001b[0m                                             \u001b[2m             \u001b[0m\n",
       "\u001b[2;36m           \u001b[0m                 \u001b[32m\"-O\"\u001b[0m: \u001b[32m\"-O1\"\u001b[0m,                                        \u001b[2m             \u001b[0m\n",
       "\u001b[2;36m           \u001b[0m                 \u001b[32m\"align-functions\"\u001b[0m: null,                            \u001b[2m             \u001b[0m\n",
       "\u001b[2;36m           \u001b[0m                 \u001b[32m\"align-jumps\"\u001b[0m: \u001b[32m\"-fno-align-jumps\"\u001b[0m,                  \u001b[2m             \u001b[0m\n",
       "\u001b[2;36m           \u001b[0m                 \u001b[32m\"align-labels\"\u001b[0m: null,                               \u001b[2m             \u001b[0m\n",
       "\u001b[2;36m           \u001b[0m                 \u001b[32m\"asynchronous-unwind-tables\"\u001b[0m: null,                 \u001b[2m             \u001b[0m\n",
       "\u001b[2;36m           \u001b[0m                 \u001b[32m\"branch-count-reg\"\u001b[0m: \u001b[32m\"-fbranch-count-reg\"\u001b[0m,           \u001b[2m             \u001b[0m\n",
       "\u001b[2;36m           \u001b[0m                 \u001b[32m\"branch-probabilities\"\u001b[0m: null,                       \u001b[2m             \u001b[0m\n",
       "\u001b[2;36m           \u001b[0m                 \u001b[32m\"early-inlining-insns\"\u001b[0m: \u001b[1;36m256\u001b[0m,                        \u001b[2m             \u001b[0m\n",
       "\u001b[2;36m           \u001b[0m                 \u001b[32m\"gcse-cost-distance-ratio\"\u001b[0m: \u001b[1;36m0\u001b[0m,                      \u001b[2m             \u001b[0m\n",
       "\u001b[2;36m           \u001b[0m                 \u001b[32m\"iv-max-considered-uses\"\u001b[0m: \u001b[1;36m580\u001b[0m                       \u001b[2m             \u001b[0m\n",
       "\u001b[2;36m           \u001b[0m             \u001b[1m}\u001b[0m,                                                      \u001b[2m             \u001b[0m\n",
       "\u001b[2;36m           \u001b[0m             \u001b[32m\"requestor\"\u001b[0m: \u001b[32m\"SkoptBayesianAlgorithm\"\u001b[0m,                  \u001b[2m             \u001b[0m\n",
       "\u001b[2;36m           \u001b[0m             \u001b[32m\"create_timestamp\"\u001b[0m: \u001b[1;36m1645690615.90955\u001b[0m,                   \u001b[2m             \u001b[0m\n",
       "\u001b[2;36m           \u001b[0m             \u001b[32m\"finish_timestamp\"\u001b[0m: null                                \u001b[2m             \u001b[0m\n",
       "\u001b[2;36m           \u001b[0m         \u001b[1m}\u001b[0m\u001b[1m)\u001b[0m                                                          \u001b[2m             \u001b[0m\n"
      ]
     },
     "metadata": {},
     "output_type": "display_data"
    },
    {
     "data": {
      "text/html": [
       "<pre style=\"white-space:pre;overflow-x:auto;line-height:normal;font-family:Menlo,'DejaVu Sans Mono',consolas,'Courier New',monospace\"><span style=\"color: #7fbfbf; text-decoration-color: #7fbfbf\">           </span><span style=\"color: #008000; text-decoration-color: #008000\">DEBUG   </span> RUN COMMAND:                                                 <span style=\"color: #7f7f7f; text-decoration-color: #7f7f7f\">runner.py:79</span>\n",
       "<span style=\"color: #7fbfbf; text-decoration-color: #7fbfbf\">           </span>         <span style=\"color: #008080; text-decoration-color: #008080; font-weight: bold\">gtime -f </span><span style=\"color: #008000; text-decoration-color: #008000\">'%e'</span><span style=\"color: #008080; text-decoration-color: #008080; font-weight: bold\"> g++</span><span style=\"color: #008080; text-decoration-color: #008080; font-weight: bold\">-11</span><span style=\"color: #008080; text-decoration-color: #008080; font-weight: bold\"> -o </span><span style=\"color: #800080; text-decoration-color: #800080; font-weight: bold\">/Users/qnbhd/Development/gimeltune/ex</span> <span style=\"color: #7f7f7f; text-decoration-color: #7f7f7f\">            </span>\n",
       "<span style=\"color: #7fbfbf; text-decoration-color: #7fbfbf\">           </span>         <span style=\"color: #800080; text-decoration-color: #800080; font-weight: bold\">amples/gcc/</span><span style=\"color: #ff00ff; text-decoration-color: #ff00ff; font-weight: bold\">1bd3c615daf2b83b739793cf89e544cd301666d636572ceed</span> <span style=\"color: #7f7f7f; text-decoration-color: #7f7f7f\">            </span>\n",
       "<span style=\"color: #7fbfbf; text-decoration-color: #7fbfbf\">           </span>         <span style=\"color: #ff00ff; text-decoration-color: #ff00ff; font-weight: bold\">4720dce4e8e7c4783656.out</span><span style=\"color: #008080; text-decoration-color: #008080; font-weight: bold\"> </span><span style=\"color: #800080; text-decoration-color: #800080; font-weight: bold\">/Users/qnbhd/Development/gimeltune/e</span> <span style=\"color: #7f7f7f; text-decoration-color: #7f7f7f\">            </span>\n",
       "<span style=\"color: #7fbfbf; text-decoration-color: #7fbfbf\">           </span>         <span style=\"color: #800080; text-decoration-color: #800080; font-weight: bold\">xamples/gcc/raytracer/</span><span style=\"color: #ff00ff; text-decoration-color: #ff00ff; font-weight: bold\">raytracer.cpp</span><span style=\"color: #008080; text-decoration-color: #008080; font-weight: bold\"> -O1  -fno-align-jumps   </span> <span style=\"color: #7f7f7f; text-decoration-color: #7f7f7f\">            </span>\n",
       "<span style=\"color: #7fbfbf; text-decoration-color: #7fbfbf\">           </span>         <span style=\"color: #008080; text-decoration-color: #008080; font-weight: bold\">-fbranch-count-reg  --param early-inlining-</span><span style=\"color: #808000; text-decoration-color: #808000; font-weight: bold\">insns</span><span style=\"color: #008080; text-decoration-color: #008080; font-weight: bold\">=</span><span style=\"color: #008080; text-decoration-color: #008080; font-weight: bold\">256</span><span style=\"color: #008080; text-decoration-color: #008080; font-weight: bold\"> --param</span> <span style=\"color: #7f7f7f; text-decoration-color: #7f7f7f\">            </span>\n",
       "<span style=\"color: #7fbfbf; text-decoration-color: #7fbfbf\">           </span>         <span style=\"color: #008080; text-decoration-color: #008080; font-weight: bold\">gcse-cost-distance-</span><span style=\"color: #808000; text-decoration-color: #808000; font-weight: bold\">ratio</span><span style=\"color: #008080; text-decoration-color: #008080; font-weight: bold\">=</span><span style=\"color: #008080; text-decoration-color: #008080; font-weight: bold\">0</span><span style=\"color: #008080; text-decoration-color: #008080; font-weight: bold\"> --param </span>                          <span style=\"color: #7f7f7f; text-decoration-color: #7f7f7f\">            </span>\n",
       "<span style=\"color: #7fbfbf; text-decoration-color: #7fbfbf\">           </span>         <span style=\"color: #008080; text-decoration-color: #008080; font-weight: bold\">iv-max-considered-</span><span style=\"color: #808000; text-decoration-color: #808000; font-weight: bold\">uses</span><span style=\"color: #008080; text-decoration-color: #008080; font-weight: bold\">=</span><span style=\"color: #008080; text-decoration-color: #008080; font-weight: bold\">580</span><span style=\"color: #008080; text-decoration-color: #008080; font-weight: bold\"> </span><span style=\"color: #008080; text-decoration-color: #008080; font-weight: bold\">2</span><span style=\"color: #008080; text-decoration-color: #008080; font-weight: bold\">&gt;&amp;</span><span style=\"color: #008080; text-decoration-color: #008080; font-weight: bold\">1</span>                              <span style=\"color: #7f7f7f; text-decoration-color: #7f7f7f\">            </span>\n",
       "</pre>\n"
      ],
      "text/plain": [
       "\u001b[2;36m          \u001b[0m\u001b[2;36m \u001b[0m\u001b[32mDEBUG   \u001b[0m RUN COMMAND:                                                 \u001b[2mrunner.py\u001b[0m\u001b[2m:\u001b[0m\u001b[2m79\u001b[0m\n",
       "\u001b[2;36m           \u001b[0m         \u001b[1;36mgtime -f \u001b[0m\u001b[32m'%e'\u001b[0m\u001b[1;36m g++\u001b[0m\u001b[1;36m-11\u001b[0m\u001b[1;36m -o \u001b[0m\u001b[1;35m/Users/qnbhd/Development/gimeltune/ex\u001b[0m \u001b[2m            \u001b[0m\n",
       "\u001b[2;36m           \u001b[0m         \u001b[1;35mamples/gcc/\u001b[0m\u001b[1;95m1bd3c615daf2b83b739793cf89e544cd301666d636572ceed\u001b[0m \u001b[2m            \u001b[0m\n",
       "\u001b[2;36m           \u001b[0m         \u001b[1;95m4720dce4e8e7c4783656.out\u001b[0m\u001b[1;36m \u001b[0m\u001b[1;35m/Users/qnbhd/Development/gimeltune/e\u001b[0m \u001b[2m            \u001b[0m\n",
       "\u001b[2;36m           \u001b[0m         \u001b[1;35mxamples/gcc/raytracer/\u001b[0m\u001b[1;95mraytracer.cpp\u001b[0m\u001b[1;36m -O1  -fno-align-jumps   \u001b[0m \u001b[2m            \u001b[0m\n",
       "\u001b[2;36m           \u001b[0m         \u001b[1;36m-fbranch-count-reg  --param early-inlining-\u001b[0m\u001b[1;33minsns\u001b[0m\u001b[1;36m=\u001b[0m\u001b[1;36m256\u001b[0m\u001b[1;36m --param\u001b[0m \u001b[2m            \u001b[0m\n",
       "\u001b[2;36m           \u001b[0m         \u001b[1;36mgcse-cost-distance-\u001b[0m\u001b[1;33mratio\u001b[0m\u001b[1;36m=\u001b[0m\u001b[1;36m0\u001b[0m\u001b[1;36m --param \u001b[0m                          \u001b[2m            \u001b[0m\n",
       "\u001b[2;36m           \u001b[0m         \u001b[1;36miv-max-considered-\u001b[0m\u001b[1;33muses\u001b[0m\u001b[1;36m=\u001b[0m\u001b[1;36m580\u001b[0m\u001b[1;36m \u001b[0m\u001b[1;36m2\u001b[0m\u001b[1;36m>&\u001b[0m\u001b[1;36m1\u001b[0m                              \u001b[2m            \u001b[0m\n"
      ]
     },
     "metadata": {},
     "output_type": "display_data"
    },
    {
     "data": {
      "text/html": [
       "<pre style=\"white-space:pre;overflow-x:auto;line-height:normal;font-family:Menlo,'DejaVu Sans Mono',consolas,'Courier New',monospace\"><span style=\"color: #7fbfbf; text-decoration-color: #7fbfbf\">[11:16:58] </span><span style=\"color: #000080; text-decoration-color: #000080\">INFO    </span> <span style=\"color: #808000; text-decoration-color: #808000; font-weight: bold\">OUT: </span><span style=\"color: #008080; text-decoration-color: #008080; font-weight: bold\">0.78</span>                                                    <span style=\"color: #7f7f7f; text-decoration-color: #7f7f7f\">runner.py:85</span>\n",
       "</pre>\n"
      ],
      "text/plain": [
       "\u001b[2;36m[11:16:58]\u001b[0m\u001b[2;36m \u001b[0m\u001b[34mINFO    \u001b[0m \u001b[1;33mOUT: \u001b[0m\u001b[1;36m0.78\u001b[0m                                                    \u001b[2mrunner.py\u001b[0m\u001b[2m:\u001b[0m\u001b[2m85\u001b[0m\n"
      ]
     },
     "metadata": {},
     "output_type": "display_data"
    },
    {
     "data": {
      "text/html": [
       "<pre style=\"white-space:pre;overflow-x:auto;line-height:normal;font-family:Menlo,'DejaVu Sans Mono',consolas,'Courier New',monospace\"><span style=\"color: #7fbfbf; text-decoration-color: #7fbfbf\">           </span><span style=\"color: #008000; text-decoration-color: #008000\">DEBUG   </span> RUN COMMAND:                                                 <span style=\"color: #7f7f7f; text-decoration-color: #7f7f7f\">runner.py:79</span>\n",
       "<span style=\"color: #7fbfbf; text-decoration-color: #7fbfbf\">           </span>         <span style=\"color: #008080; text-decoration-color: #008080; font-weight: bold\">wc -c </span><span style=\"color: #800080; text-decoration-color: #800080; font-weight: bold\">/Users/qnbhd/Development/gimeltune/examples/gcc/</span><span style=\"color: #ff00ff; text-decoration-color: #ff00ff; font-weight: bold\">1bd3c61</span> <span style=\"color: #7f7f7f; text-decoration-color: #7f7f7f\">            </span>\n",
       "<span style=\"color: #7fbfbf; text-decoration-color: #7fbfbf\">           </span>         <span style=\"color: #ff00ff; text-decoration-color: #ff00ff; font-weight: bold\">5daf2b83b739793cf89e544cd301666d636572ceed4720dce4e8e7c47836</span> <span style=\"color: #7f7f7f; text-decoration-color: #7f7f7f\">            </span>\n",
       "<span style=\"color: #7fbfbf; text-decoration-color: #7fbfbf\">           </span>         <span style=\"color: #ff00ff; text-decoration-color: #ff00ff; font-weight: bold\">56.out</span><span style=\"color: #008080; text-decoration-color: #008080; font-weight: bold\"> | awk </span><span style=\"color: #008000; text-decoration-color: #008000\">'{print $1}'</span>                                    <span style=\"color: #7f7f7f; text-decoration-color: #7f7f7f\">            </span>\n",
       "</pre>\n"
      ],
      "text/plain": [
       "\u001b[2;36m          \u001b[0m\u001b[2;36m \u001b[0m\u001b[32mDEBUG   \u001b[0m RUN COMMAND:                                                 \u001b[2mrunner.py\u001b[0m\u001b[2m:\u001b[0m\u001b[2m79\u001b[0m\n",
       "\u001b[2;36m           \u001b[0m         \u001b[1;36mwc -c \u001b[0m\u001b[1;35m/Users/qnbhd/Development/gimeltune/examples/gcc/\u001b[0m\u001b[1;95m1bd3c61\u001b[0m \u001b[2m            \u001b[0m\n",
       "\u001b[2;36m           \u001b[0m         \u001b[1;95m5daf2b83b739793cf89e544cd301666d636572ceed4720dce4e8e7c47836\u001b[0m \u001b[2m            \u001b[0m\n",
       "\u001b[2;36m           \u001b[0m         \u001b[1;95m56.out\u001b[0m\u001b[1;36m | awk \u001b[0m\u001b[32m'\u001b[0m\u001b[32m{\u001b[0m\u001b[32mprint $1\u001b[0m\u001b[32m}\u001b[0m\u001b[32m'\u001b[0m                                    \u001b[2m            \u001b[0m\n"
      ]
     },
     "metadata": {},
     "output_type": "display_data"
    },
    {
     "data": {
      "text/html": [
       "<pre style=\"white-space:pre;overflow-x:auto;line-height:normal;font-family:Menlo,'DejaVu Sans Mono',consolas,'Courier New',monospace\"><span style=\"color: #7fbfbf; text-decoration-color: #7fbfbf\">           </span><span style=\"color: #000080; text-decoration-color: #000080\">INFO    </span> <span style=\"color: #808000; text-decoration-color: #808000; font-weight: bold\">OUT: </span><span style=\"color: #008080; text-decoration-color: #008080; font-weight: bold\">51576</span>                                                   <span style=\"color: #7f7f7f; text-decoration-color: #7f7f7f\">runner.py:85</span>\n",
       "</pre>\n"
      ],
      "text/plain": [
       "\u001b[2;36m          \u001b[0m\u001b[2;36m \u001b[0m\u001b[34mINFO    \u001b[0m \u001b[1;33mOUT: \u001b[0m\u001b[1;36m51576\u001b[0m                                                   \u001b[2mrunner.py\u001b[0m\u001b[2m:\u001b[0m\u001b[2m85\u001b[0m\n"
      ]
     },
     "metadata": {},
     "output_type": "display_data"
    },
    {
     "data": {
      "text/html": [
       "<pre style=\"white-space:pre;overflow-x:auto;line-height:normal;font-family:Menlo,'DejaVu Sans Mono',consolas,'Courier New',monospace\"><span style=\"color: #7fbfbf; text-decoration-color: #7fbfbf\">           </span><span style=\"color: #008000; text-decoration-color: #008000\">DEBUG   </span> RUN COMMAND:                                                 <span style=\"color: #7f7f7f; text-decoration-color: #7f7f7f\">runner.py:79</span>\n",
       "<span style=\"color: #7fbfbf; text-decoration-color: #7fbfbf\">           </span>         <span style=\"color: #008080; text-decoration-color: #008080; font-weight: bold\">gtime -f </span><span style=\"color: #008000; text-decoration-color: #008000\">'%e'</span><span style=\"color: #008080; text-decoration-color: #008080; font-weight: bold\"> </span><span style=\"color: #800080; text-decoration-color: #800080; font-weight: bold\">/Users/qnbhd/Development/gimeltune/examples/gcc</span> <span style=\"color: #7f7f7f; text-decoration-color: #7f7f7f\">            </span>\n",
       "<span style=\"color: #7fbfbf; text-decoration-color: #7fbfbf\">           </span>         <span style=\"color: #800080; text-decoration-color: #800080; font-weight: bold\">/</span><span style=\"color: #ff00ff; text-decoration-color: #ff00ff; font-weight: bold\">1bd3c615daf2b83b739793cf89e544cd301666d636572ceed4720dce4e8</span> <span style=\"color: #7f7f7f; text-decoration-color: #7f7f7f\">            </span>\n",
       "<span style=\"color: #7fbfbf; text-decoration-color: #7fbfbf\">           </span>         <span style=\"color: #ff00ff; text-decoration-color: #ff00ff; font-weight: bold\">e7c4783656.out</span><span style=\"color: #008080; text-decoration-color: #008080; font-weight: bold\"> </span><span style=\"color: #008080; text-decoration-color: #008080; font-weight: bold\">2</span><span style=\"color: #008080; text-decoration-color: #008080; font-weight: bold\">&gt;&amp;</span><span style=\"color: #008080; text-decoration-color: #008080; font-weight: bold\">1</span>                                          <span style=\"color: #7f7f7f; text-decoration-color: #7f7f7f\">            </span>\n",
       "</pre>\n"
      ],
      "text/plain": [
       "\u001b[2;36m          \u001b[0m\u001b[2;36m \u001b[0m\u001b[32mDEBUG   \u001b[0m RUN COMMAND:                                                 \u001b[2mrunner.py\u001b[0m\u001b[2m:\u001b[0m\u001b[2m79\u001b[0m\n",
       "\u001b[2;36m           \u001b[0m         \u001b[1;36mgtime -f \u001b[0m\u001b[32m'%e'\u001b[0m\u001b[1;36m \u001b[0m\u001b[1;35m/Users/qnbhd/Development/gimeltune/examples/gcc\u001b[0m \u001b[2m            \u001b[0m\n",
       "\u001b[2;36m           \u001b[0m         \u001b[1;35m/\u001b[0m\u001b[1;95m1bd3c615daf2b83b739793cf89e544cd301666d636572ceed4720dce4e8\u001b[0m \u001b[2m            \u001b[0m\n",
       "\u001b[2;36m           \u001b[0m         \u001b[1;95me7c4783656.out\u001b[0m\u001b[1;36m \u001b[0m\u001b[1;36m2\u001b[0m\u001b[1;36m>&\u001b[0m\u001b[1;36m1\u001b[0m                                          \u001b[2m            \u001b[0m\n"
      ]
     },
     "metadata": {},
     "output_type": "display_data"
    },
    {
     "data": {
      "text/html": [
       "<pre style=\"white-space:pre;overflow-x:auto;line-height:normal;font-family:Menlo,'DejaVu Sans Mono',consolas,'Courier New',monospace\"><span style=\"color: #7fbfbf; text-decoration-color: #7fbfbf\">           </span><span style=\"color: #000080; text-decoration-color: #000080\">INFO    </span> <span style=\"color: #808000; text-decoration-color: #808000; font-weight: bold\">OUT: </span><span style=\"color: #008080; text-decoration-color: #008080; font-weight: bold\">0.19</span>                                                    <span style=\"color: #7f7f7f; text-decoration-color: #7f7f7f\">runner.py:85</span>\n",
       "</pre>\n"
      ],
      "text/plain": [
       "\u001b[2;36m          \u001b[0m\u001b[2;36m \u001b[0m\u001b[34mINFO    \u001b[0m \u001b[1;33mOUT: \u001b[0m\u001b[1;36m0.19\u001b[0m                                                    \u001b[2mrunner.py\u001b[0m\u001b[2m:\u001b[0m\u001b[2m85\u001b[0m\n"
      ]
     },
     "metadata": {},
     "output_type": "display_data"
    },
    {
     "data": {
      "text/html": [
       "<pre style=\"white-space:pre;overflow-x:auto;line-height:normal;font-family:Menlo,'DejaVu Sans Mono',consolas,'Courier New',monospace\"><span style=\"color: #7fbfbf; text-decoration-color: #7fbfbf\">           </span><span style=\"color: #008000; text-decoration-color: #008000\">DEBUG   </span> RUN COMMAND:                                                 <span style=\"color: #7f7f7f; text-decoration-color: #7f7f7f\">runner.py:79</span>\n",
       "<span style=\"color: #7fbfbf; text-decoration-color: #7fbfbf\">           </span>         <span style=\"color: #008080; text-decoration-color: #008080; font-weight: bold\">gtime -f </span><span style=\"color: #008000; text-decoration-color: #008000\">'%e'</span><span style=\"color: #008080; text-decoration-color: #008080; font-weight: bold\"> </span><span style=\"color: #800080; text-decoration-color: #800080; font-weight: bold\">/Users/qnbhd/Development/gimeltune/examples/gcc</span> <span style=\"color: #7f7f7f; text-decoration-color: #7f7f7f\">            </span>\n",
       "<span style=\"color: #7fbfbf; text-decoration-color: #7fbfbf\">           </span>         <span style=\"color: #800080; text-decoration-color: #800080; font-weight: bold\">/</span><span style=\"color: #ff00ff; text-decoration-color: #ff00ff; font-weight: bold\">1bd3c615daf2b83b739793cf89e544cd301666d636572ceed4720dce4e8</span> <span style=\"color: #7f7f7f; text-decoration-color: #7f7f7f\">            </span>\n",
       "<span style=\"color: #7fbfbf; text-decoration-color: #7fbfbf\">           </span>         <span style=\"color: #ff00ff; text-decoration-color: #ff00ff; font-weight: bold\">e7c4783656.out</span><span style=\"color: #008080; text-decoration-color: #008080; font-weight: bold\"> </span><span style=\"color: #008080; text-decoration-color: #008080; font-weight: bold\">2</span><span style=\"color: #008080; text-decoration-color: #008080; font-weight: bold\">&gt;&amp;</span><span style=\"color: #008080; text-decoration-color: #008080; font-weight: bold\">1</span>                                          <span style=\"color: #7f7f7f; text-decoration-color: #7f7f7f\">            </span>\n",
       "</pre>\n"
      ],
      "text/plain": [
       "\u001b[2;36m          \u001b[0m\u001b[2;36m \u001b[0m\u001b[32mDEBUG   \u001b[0m RUN COMMAND:                                                 \u001b[2mrunner.py\u001b[0m\u001b[2m:\u001b[0m\u001b[2m79\u001b[0m\n",
       "\u001b[2;36m           \u001b[0m         \u001b[1;36mgtime -f \u001b[0m\u001b[32m'%e'\u001b[0m\u001b[1;36m \u001b[0m\u001b[1;35m/Users/qnbhd/Development/gimeltune/examples/gcc\u001b[0m \u001b[2m            \u001b[0m\n",
       "\u001b[2;36m           \u001b[0m         \u001b[1;35m/\u001b[0m\u001b[1;95m1bd3c615daf2b83b739793cf89e544cd301666d636572ceed4720dce4e8\u001b[0m \u001b[2m            \u001b[0m\n",
       "\u001b[2;36m           \u001b[0m         \u001b[1;95me7c4783656.out\u001b[0m\u001b[1;36m \u001b[0m\u001b[1;36m2\u001b[0m\u001b[1;36m>&\u001b[0m\u001b[1;36m1\u001b[0m                                          \u001b[2m            \u001b[0m\n"
      ]
     },
     "metadata": {},
     "output_type": "display_data"
    },
    {
     "data": {
      "text/html": [
       "<pre style=\"white-space:pre;overflow-x:auto;line-height:normal;font-family:Menlo,'DejaVu Sans Mono',consolas,'Courier New',monospace\"><span style=\"color: #7fbfbf; text-decoration-color: #7fbfbf\">           </span><span style=\"color: #000080; text-decoration-color: #000080\">INFO    </span> <span style=\"color: #808000; text-decoration-color: #808000; font-weight: bold\">OUT: </span><span style=\"color: #008080; text-decoration-color: #008080; font-weight: bold\">0.13</span>                                                    <span style=\"color: #7f7f7f; text-decoration-color: #7f7f7f\">runner.py:85</span>\n",
       "</pre>\n"
      ],
      "text/plain": [
       "\u001b[2;36m          \u001b[0m\u001b[2;36m \u001b[0m\u001b[34mINFO    \u001b[0m \u001b[1;33mOUT: \u001b[0m\u001b[1;36m0.13\u001b[0m                                                    \u001b[2mrunner.py\u001b[0m\u001b[2m:\u001b[0m\u001b[2m85\u001b[0m\n"
      ]
     },
     "metadata": {},
     "output_type": "display_data"
    },
    {
     "data": {
      "text/html": [
       "<pre style=\"white-space:pre;overflow-x:auto;line-height:normal;font-family:Menlo,'DejaVu Sans Mono',consolas,'Courier New',monospace\"><span style=\"color: #7fbfbf; text-decoration-color: #7fbfbf\">           </span><span style=\"color: #008000; text-decoration-color: #008000\">DEBUG   </span> RUN COMMAND:                                                 <span style=\"color: #7f7f7f; text-decoration-color: #7f7f7f\">runner.py:79</span>\n",
       "<span style=\"color: #7fbfbf; text-decoration-color: #7fbfbf\">           </span>         <span style=\"color: #008080; text-decoration-color: #008080; font-weight: bold\">gtime -f </span><span style=\"color: #008000; text-decoration-color: #008000\">'%e'</span><span style=\"color: #008080; text-decoration-color: #008080; font-weight: bold\"> </span><span style=\"color: #800080; text-decoration-color: #800080; font-weight: bold\">/Users/qnbhd/Development/gimeltune/examples/gcc</span> <span style=\"color: #7f7f7f; text-decoration-color: #7f7f7f\">            </span>\n",
       "<span style=\"color: #7fbfbf; text-decoration-color: #7fbfbf\">           </span>         <span style=\"color: #800080; text-decoration-color: #800080; font-weight: bold\">/</span><span style=\"color: #ff00ff; text-decoration-color: #ff00ff; font-weight: bold\">1bd3c615daf2b83b739793cf89e544cd301666d636572ceed4720dce4e8</span> <span style=\"color: #7f7f7f; text-decoration-color: #7f7f7f\">            </span>\n",
       "<span style=\"color: #7fbfbf; text-decoration-color: #7fbfbf\">           </span>         <span style=\"color: #ff00ff; text-decoration-color: #ff00ff; font-weight: bold\">e7c4783656.out</span><span style=\"color: #008080; text-decoration-color: #008080; font-weight: bold\"> </span><span style=\"color: #008080; text-decoration-color: #008080; font-weight: bold\">2</span><span style=\"color: #008080; text-decoration-color: #008080; font-weight: bold\">&gt;&amp;</span><span style=\"color: #008080; text-decoration-color: #008080; font-weight: bold\">1</span>                                          <span style=\"color: #7f7f7f; text-decoration-color: #7f7f7f\">            </span>\n",
       "</pre>\n"
      ],
      "text/plain": [
       "\u001b[2;36m          \u001b[0m\u001b[2;36m \u001b[0m\u001b[32mDEBUG   \u001b[0m RUN COMMAND:                                                 \u001b[2mrunner.py\u001b[0m\u001b[2m:\u001b[0m\u001b[2m79\u001b[0m\n",
       "\u001b[2;36m           \u001b[0m         \u001b[1;36mgtime -f \u001b[0m\u001b[32m'%e'\u001b[0m\u001b[1;36m \u001b[0m\u001b[1;35m/Users/qnbhd/Development/gimeltune/examples/gcc\u001b[0m \u001b[2m            \u001b[0m\n",
       "\u001b[2;36m           \u001b[0m         \u001b[1;35m/\u001b[0m\u001b[1;95m1bd3c615daf2b83b739793cf89e544cd301666d636572ceed4720dce4e8\u001b[0m \u001b[2m            \u001b[0m\n",
       "\u001b[2;36m           \u001b[0m         \u001b[1;95me7c4783656.out\u001b[0m\u001b[1;36m \u001b[0m\u001b[1;36m2\u001b[0m\u001b[1;36m>&\u001b[0m\u001b[1;36m1\u001b[0m                                          \u001b[2m            \u001b[0m\n"
      ]
     },
     "metadata": {},
     "output_type": "display_data"
    },
    {
     "data": {
      "text/html": [
       "<pre style=\"white-space:pre;overflow-x:auto;line-height:normal;font-family:Menlo,'DejaVu Sans Mono',consolas,'Courier New',monospace\"><span style=\"color: #7fbfbf; text-decoration-color: #7fbfbf\">[11:16:59] </span><span style=\"color: #000080; text-decoration-color: #000080\">INFO    </span> <span style=\"color: #808000; text-decoration-color: #808000; font-weight: bold\">OUT: </span><span style=\"color: #008080; text-decoration-color: #008080; font-weight: bold\">0.13</span>                                                    <span style=\"color: #7f7f7f; text-decoration-color: #7f7f7f\">runner.py:85</span>\n",
       "</pre>\n"
      ],
      "text/plain": [
       "\u001b[2;36m[11:16:59]\u001b[0m\u001b[2;36m \u001b[0m\u001b[34mINFO    \u001b[0m \u001b[1;33mOUT: \u001b[0m\u001b[1;36m0.13\u001b[0m                                                    \u001b[2mrunner.py\u001b[0m\u001b[2m:\u001b[0m\u001b[2m85\u001b[0m\n"
      ]
     },
     "metadata": {},
     "output_type": "display_data"
    },
    {
     "data": {
      "text/html": [
       "<pre style=\"white-space:pre;overflow-x:auto;line-height:normal;font-family:Menlo,'DejaVu Sans Mono',consolas,'Courier New',monospace\"><span style=\"color: #7fbfbf; text-decoration-color: #7fbfbf\">           </span><span style=\"color: #008000; text-decoration-color: #008000\">DEBUG   </span> RUN COMMAND:                                                 <span style=\"color: #7f7f7f; text-decoration-color: #7f7f7f\">runner.py:79</span>\n",
       "<span style=\"color: #7fbfbf; text-decoration-color: #7fbfbf\">           </span>         <span style=\"color: #008080; text-decoration-color: #008080; font-weight: bold\">gtime -f </span><span style=\"color: #008000; text-decoration-color: #008000\">'%e'</span><span style=\"color: #008080; text-decoration-color: #008080; font-weight: bold\"> </span><span style=\"color: #800080; text-decoration-color: #800080; font-weight: bold\">/Users/qnbhd/Development/gimeltune/examples/gcc</span> <span style=\"color: #7f7f7f; text-decoration-color: #7f7f7f\">            </span>\n",
       "<span style=\"color: #7fbfbf; text-decoration-color: #7fbfbf\">           </span>         <span style=\"color: #800080; text-decoration-color: #800080; font-weight: bold\">/</span><span style=\"color: #ff00ff; text-decoration-color: #ff00ff; font-weight: bold\">1bd3c615daf2b83b739793cf89e544cd301666d636572ceed4720dce4e8</span> <span style=\"color: #7f7f7f; text-decoration-color: #7f7f7f\">            </span>\n",
       "<span style=\"color: #7fbfbf; text-decoration-color: #7fbfbf\">           </span>         <span style=\"color: #ff00ff; text-decoration-color: #ff00ff; font-weight: bold\">e7c4783656.out</span><span style=\"color: #008080; text-decoration-color: #008080; font-weight: bold\"> </span><span style=\"color: #008080; text-decoration-color: #008080; font-weight: bold\">2</span><span style=\"color: #008080; text-decoration-color: #008080; font-weight: bold\">&gt;&amp;</span><span style=\"color: #008080; text-decoration-color: #008080; font-weight: bold\">1</span>                                          <span style=\"color: #7f7f7f; text-decoration-color: #7f7f7f\">            </span>\n",
       "</pre>\n"
      ],
      "text/plain": [
       "\u001b[2;36m          \u001b[0m\u001b[2;36m \u001b[0m\u001b[32mDEBUG   \u001b[0m RUN COMMAND:                                                 \u001b[2mrunner.py\u001b[0m\u001b[2m:\u001b[0m\u001b[2m79\u001b[0m\n",
       "\u001b[2;36m           \u001b[0m         \u001b[1;36mgtime -f \u001b[0m\u001b[32m'%e'\u001b[0m\u001b[1;36m \u001b[0m\u001b[1;35m/Users/qnbhd/Development/gimeltune/examples/gcc\u001b[0m \u001b[2m            \u001b[0m\n",
       "\u001b[2;36m           \u001b[0m         \u001b[1;35m/\u001b[0m\u001b[1;95m1bd3c615daf2b83b739793cf89e544cd301666d636572ceed4720dce4e8\u001b[0m \u001b[2m            \u001b[0m\n",
       "\u001b[2;36m           \u001b[0m         \u001b[1;95me7c4783656.out\u001b[0m\u001b[1;36m \u001b[0m\u001b[1;36m2\u001b[0m\u001b[1;36m>&\u001b[0m\u001b[1;36m1\u001b[0m                                          \u001b[2m            \u001b[0m\n"
      ]
     },
     "metadata": {},
     "output_type": "display_data"
    },
    {
     "data": {
      "text/html": [
       "<pre style=\"white-space:pre;overflow-x:auto;line-height:normal;font-family:Menlo,'DejaVu Sans Mono',consolas,'Courier New',monospace\"><span style=\"color: #7fbfbf; text-decoration-color: #7fbfbf\">           </span><span style=\"color: #000080; text-decoration-color: #000080\">INFO    </span> <span style=\"color: #808000; text-decoration-color: #808000; font-weight: bold\">OUT: </span><span style=\"color: #008080; text-decoration-color: #008080; font-weight: bold\">0.13</span>                                                    <span style=\"color: #7f7f7f; text-decoration-color: #7f7f7f\">runner.py:85</span>\n",
       "</pre>\n"
      ],
      "text/plain": [
       "\u001b[2;36m          \u001b[0m\u001b[2;36m \u001b[0m\u001b[34mINFO    \u001b[0m \u001b[1;33mOUT: \u001b[0m\u001b[1;36m0.13\u001b[0m                                                    \u001b[2mrunner.py\u001b[0m\u001b[2m:\u001b[0m\u001b[2m85\u001b[0m\n"
      ]
     },
     "metadata": {},
     "output_type": "display_data"
    },
    {
     "data": {
      "text/html": [
       "<pre style=\"white-space:pre;overflow-x:auto;line-height:normal;font-family:Menlo,'DejaVu Sans Mono',consolas,'Courier New',monospace\"><span style=\"color: #7fbfbf; text-decoration-color: #7fbfbf\">           </span><span style=\"color: #008000; text-decoration-color: #008000\">DEBUG   </span> RUN COMMAND:                                                 <span style=\"color: #7f7f7f; text-decoration-color: #7f7f7f\">runner.py:79</span>\n",
       "<span style=\"color: #7fbfbf; text-decoration-color: #7fbfbf\">           </span>         <span style=\"color: #008080; text-decoration-color: #008080; font-weight: bold\">gtime -f </span><span style=\"color: #008000; text-decoration-color: #008000\">'%e'</span><span style=\"color: #008080; text-decoration-color: #008080; font-weight: bold\"> </span><span style=\"color: #800080; text-decoration-color: #800080; font-weight: bold\">/Users/qnbhd/Development/gimeltune/examples/gcc</span> <span style=\"color: #7f7f7f; text-decoration-color: #7f7f7f\">            </span>\n",
       "<span style=\"color: #7fbfbf; text-decoration-color: #7fbfbf\">           </span>         <span style=\"color: #800080; text-decoration-color: #800080; font-weight: bold\">/</span><span style=\"color: #ff00ff; text-decoration-color: #ff00ff; font-weight: bold\">1bd3c615daf2b83b739793cf89e544cd301666d636572ceed4720dce4e8</span> <span style=\"color: #7f7f7f; text-decoration-color: #7f7f7f\">            </span>\n",
       "<span style=\"color: #7fbfbf; text-decoration-color: #7fbfbf\">           </span>         <span style=\"color: #ff00ff; text-decoration-color: #ff00ff; font-weight: bold\">e7c4783656.out</span><span style=\"color: #008080; text-decoration-color: #008080; font-weight: bold\"> </span><span style=\"color: #008080; text-decoration-color: #008080; font-weight: bold\">2</span><span style=\"color: #008080; text-decoration-color: #008080; font-weight: bold\">&gt;&amp;</span><span style=\"color: #008080; text-decoration-color: #008080; font-weight: bold\">1</span>                                          <span style=\"color: #7f7f7f; text-decoration-color: #7f7f7f\">            </span>\n",
       "</pre>\n"
      ],
      "text/plain": [
       "\u001b[2;36m          \u001b[0m\u001b[2;36m \u001b[0m\u001b[32mDEBUG   \u001b[0m RUN COMMAND:                                                 \u001b[2mrunner.py\u001b[0m\u001b[2m:\u001b[0m\u001b[2m79\u001b[0m\n",
       "\u001b[2;36m           \u001b[0m         \u001b[1;36mgtime -f \u001b[0m\u001b[32m'%e'\u001b[0m\u001b[1;36m \u001b[0m\u001b[1;35m/Users/qnbhd/Development/gimeltune/examples/gcc\u001b[0m \u001b[2m            \u001b[0m\n",
       "\u001b[2;36m           \u001b[0m         \u001b[1;35m/\u001b[0m\u001b[1;95m1bd3c615daf2b83b739793cf89e544cd301666d636572ceed4720dce4e8\u001b[0m \u001b[2m            \u001b[0m\n",
       "\u001b[2;36m           \u001b[0m         \u001b[1;95me7c4783656.out\u001b[0m\u001b[1;36m \u001b[0m\u001b[1;36m2\u001b[0m\u001b[1;36m>&\u001b[0m\u001b[1;36m1\u001b[0m                                          \u001b[2m            \u001b[0m\n"
      ]
     },
     "metadata": {},
     "output_type": "display_data"
    },
    {
     "data": {
      "text/html": [
       "<pre style=\"white-space:pre;overflow-x:auto;line-height:normal;font-family:Menlo,'DejaVu Sans Mono',consolas,'Courier New',monospace\"><span style=\"color: #7fbfbf; text-decoration-color: #7fbfbf\">           </span><span style=\"color: #000080; text-decoration-color: #000080\">INFO    </span> <span style=\"color: #808000; text-decoration-color: #808000; font-weight: bold\">OUT: </span><span style=\"color: #008080; text-decoration-color: #008080; font-weight: bold\">0.13</span>                                                    <span style=\"color: #7f7f7f; text-decoration-color: #7f7f7f\">runner.py:85</span>\n",
       "</pre>\n"
      ],
      "text/plain": [
       "\u001b[2;36m          \u001b[0m\u001b[2;36m \u001b[0m\u001b[34mINFO    \u001b[0m \u001b[1;33mOUT: \u001b[0m\u001b[1;36m0.13\u001b[0m                                                    \u001b[2mrunner.py\u001b[0m\u001b[2m:\u001b[0m\u001b[2m85\u001b[0m\n"
      ]
     },
     "metadata": {},
     "output_type": "display_data"
    },
    {
     "data": {
      "text/html": [
       "<pre style=\"white-space:pre;overflow-x:auto;line-height:normal;font-family:Menlo,'DejaVu Sans Mono',consolas,'Courier New',monospace\"><span style=\"color: #7fbfbf; text-decoration-color: #7fbfbf\">           </span><span style=\"color: #008000; text-decoration-color: #008000\">DEBUG   </span> RUN COMMAND:                                                 <span style=\"color: #7f7f7f; text-decoration-color: #7f7f7f\">runner.py:79</span>\n",
       "<span style=\"color: #7fbfbf; text-decoration-color: #7fbfbf\">           </span>         <span style=\"color: #008080; text-decoration-color: #008080; font-weight: bold\">rm </span><span style=\"color: #800080; text-decoration-color: #800080; font-weight: bold\">/Users/qnbhd/Development/gimeltune/examples/gcc/</span><span style=\"color: #ff00ff; text-decoration-color: #ff00ff; font-weight: bold\">1bd3c615da</span> <span style=\"color: #7f7f7f; text-decoration-color: #7f7f7f\">            </span>\n",
       "<span style=\"color: #7fbfbf; text-decoration-color: #7fbfbf\">           </span>         <span style=\"color: #ff00ff; text-decoration-color: #ff00ff; font-weight: bold\">f2b83b739793cf89e544cd301666d636572ceed4720dce4e8e7c4783656.</span> <span style=\"color: #7f7f7f; text-decoration-color: #7f7f7f\">            </span>\n",
       "<span style=\"color: #7fbfbf; text-decoration-color: #7fbfbf\">           </span>         <span style=\"color: #ff00ff; text-decoration-color: #ff00ff; font-weight: bold\">out</span>                                                          <span style=\"color: #7f7f7f; text-decoration-color: #7f7f7f\">            </span>\n",
       "</pre>\n"
      ],
      "text/plain": [
       "\u001b[2;36m          \u001b[0m\u001b[2;36m \u001b[0m\u001b[32mDEBUG   \u001b[0m RUN COMMAND:                                                 \u001b[2mrunner.py\u001b[0m\u001b[2m:\u001b[0m\u001b[2m79\u001b[0m\n",
       "\u001b[2;36m           \u001b[0m         \u001b[1;36mrm \u001b[0m\u001b[1;35m/Users/qnbhd/Development/gimeltune/examples/gcc/\u001b[0m\u001b[1;95m1bd3c615da\u001b[0m \u001b[2m            \u001b[0m\n",
       "\u001b[2;36m           \u001b[0m         \u001b[1;95mf2b83b739793cf89e544cd301666d636572ceed4720dce4e8e7c4783656.\u001b[0m \u001b[2m            \u001b[0m\n",
       "\u001b[2;36m           \u001b[0m         \u001b[1;95mout\u001b[0m                                                          \u001b[2m            \u001b[0m\n"
      ]
     },
     "metadata": {},
     "output_type": "display_data"
    },
    {
     "name": "stderr",
     "output_type": "stream",
     "text": [
      "/Users/qnbhd/Development/gimeltune/gimeltune/search/algorithms/skopt.py:58: UserWarning: Now per-emit count in skopt technique implemented not correctly. Per-emit count is property, return default value (1).\n",
      "  warnings.warn('Now per-emit count in skopt technique implemented not correctly.'\n"
     ]
    },
    {
     "data": {
      "text/html": [
       "<pre style=\"white-space:pre;overflow-x:auto;line-height:normal;font-family:Menlo,'DejaVu Sans Mono',consolas,'Courier New',monospace\"><span style=\"color: #7fbfbf; text-decoration-color: #7fbfbf\">           </span><span style=\"color: #000080; text-decoration-color: #000080\">INFO    </span> Trying experiment: <span style=\"color: #800080; text-decoration-color: #800080; font-weight: bold\">Experiment</span><span style=\"font-weight: bold\">({</span>                             <span style=\"color: #7f7f7f; text-decoration-color: #7f7f7f\">runner.py:156</span>\n",
       "<span style=\"color: #7fbfbf; text-decoration-color: #7fbfbf\">           </span>             <span style=\"color: #008000; text-decoration-color: #008000\">\"id\"</span>: <span style=\"color: #008080; text-decoration-color: #008080; font-weight: bold\">5</span>,                                                <span style=\"color: #7f7f7f; text-decoration-color: #7f7f7f\">             </span>\n",
       "<span style=\"color: #7fbfbf; text-decoration-color: #7fbfbf\">           </span>             <span style=\"color: #008000; text-decoration-color: #008000\">\"job_id\"</span>: <span style=\"color: #008080; text-decoration-color: #008080; font-weight: bold\">1</span>,                                            <span style=\"color: #7f7f7f; text-decoration-color: #7f7f7f\">             </span>\n",
       "<span style=\"color: #7fbfbf; text-decoration-color: #7fbfbf\">           </span>             <span style=\"color: #008000; text-decoration-color: #008000\">\"state\"</span>: <span style=\"color: #008000; text-decoration-color: #008000\">\"WIP\"</span>,                                         <span style=\"color: #7f7f7f; text-decoration-color: #7f7f7f\">             </span>\n",
       "<span style=\"color: #7fbfbf; text-decoration-color: #7fbfbf\">           </span>             <span style=\"color: #008000; text-decoration-color: #008000\">\"hash\"</span>: null,                                           <span style=\"color: #7f7f7f; text-decoration-color: #7f7f7f\">             </span>\n",
       "<span style=\"color: #7fbfbf; text-decoration-color: #7fbfbf\">           </span>             <span style=\"color: #008000; text-decoration-color: #008000\">\"objective_result\"</span>: null,                               <span style=\"color: #7f7f7f; text-decoration-color: #7f7f7f\">             </span>\n",
       "<span style=\"color: #7fbfbf; text-decoration-color: #7fbfbf\">           </span>             <span style=\"color: #008000; text-decoration-color: #008000\">\"params\"</span>: <span style=\"font-weight: bold\">{</span>                                             <span style=\"color: #7f7f7f; text-decoration-color: #7f7f7f\">             </span>\n",
       "<span style=\"color: #7fbfbf; text-decoration-color: #7fbfbf\">           </span>                 <span style=\"color: #008000; text-decoration-color: #008000\">\"-O\"</span>: <span style=\"color: #008000; text-decoration-color: #008000\">\"-O2\"</span>,                                        <span style=\"color: #7f7f7f; text-decoration-color: #7f7f7f\">             </span>\n",
       "<span style=\"color: #7fbfbf; text-decoration-color: #7fbfbf\">           </span>                 <span style=\"color: #008000; text-decoration-color: #008000\">\"align-functions\"</span>: <span style=\"color: #008000; text-decoration-color: #008000\">\"-fno-align-functions\"</span>,          <span style=\"color: #7f7f7f; text-decoration-color: #7f7f7f\">             </span>\n",
       "<span style=\"color: #7fbfbf; text-decoration-color: #7fbfbf\">           </span>                 <span style=\"color: #008000; text-decoration-color: #008000\">\"align-jumps\"</span>: <span style=\"color: #008000; text-decoration-color: #008000\">\"-fno-align-jumps\"</span>,                  <span style=\"color: #7f7f7f; text-decoration-color: #7f7f7f\">             </span>\n",
       "<span style=\"color: #7fbfbf; text-decoration-color: #7fbfbf\">           </span>                 <span style=\"color: #008000; text-decoration-color: #008000\">\"align-labels\"</span>: <span style=\"color: #008000; text-decoration-color: #008000\">\"-fno-align-labels\"</span>,                <span style=\"color: #7f7f7f; text-decoration-color: #7f7f7f\">             </span>\n",
       "<span style=\"color: #7fbfbf; text-decoration-color: #7fbfbf\">           </span>                 <span style=\"color: #008000; text-decoration-color: #008000\">\"asynchronous-unwind-tables\"</span>:                       <span style=\"color: #7f7f7f; text-decoration-color: #7f7f7f\">             </span>\n",
       "<span style=\"color: #7fbfbf; text-decoration-color: #7fbfbf\">           </span>         <span style=\"color: #008000; text-decoration-color: #008000\">\"-fasynchronous-unwind-tables\"</span>,                             <span style=\"color: #7f7f7f; text-decoration-color: #7f7f7f\">             </span>\n",
       "<span style=\"color: #7fbfbf; text-decoration-color: #7fbfbf\">           </span>                 <span style=\"color: #008000; text-decoration-color: #008000\">\"branch-count-reg\"</span>: <span style=\"color: #008000; text-decoration-color: #008000\">\"-fbranch-count-reg\"</span>,           <span style=\"color: #7f7f7f; text-decoration-color: #7f7f7f\">             </span>\n",
       "<span style=\"color: #7fbfbf; text-decoration-color: #7fbfbf\">           </span>                 <span style=\"color: #008000; text-decoration-color: #008000\">\"branch-probabilities\"</span>:                             <span style=\"color: #7f7f7f; text-decoration-color: #7f7f7f\">             </span>\n",
       "<span style=\"color: #7fbfbf; text-decoration-color: #7fbfbf\">           </span>         <span style=\"color: #008000; text-decoration-color: #008000\">\"-fno-branch-probabilities\"</span>,                                <span style=\"color: #7f7f7f; text-decoration-color: #7f7f7f\">             </span>\n",
       "<span style=\"color: #7fbfbf; text-decoration-color: #7fbfbf\">           </span>                 <span style=\"color: #008000; text-decoration-color: #008000\">\"early-inlining-insns\"</span>: <span style=\"color: #008080; text-decoration-color: #008080; font-weight: bold\">258</span>,                        <span style=\"color: #7f7f7f; text-decoration-color: #7f7f7f\">             </span>\n",
       "<span style=\"color: #7fbfbf; text-decoration-color: #7fbfbf\">           </span>                 <span style=\"color: #008000; text-decoration-color: #008000\">\"gcse-cost-distance-ratio\"</span>: <span style=\"color: #008080; text-decoration-color: #008080; font-weight: bold\">94</span>,                     <span style=\"color: #7f7f7f; text-decoration-color: #7f7f7f\">             </span>\n",
       "<span style=\"color: #7fbfbf; text-decoration-color: #7fbfbf\">           </span>                 <span style=\"color: #008000; text-decoration-color: #008000\">\"iv-max-considered-uses\"</span>: <span style=\"color: #008080; text-decoration-color: #008080; font-weight: bold\">985</span>                       <span style=\"color: #7f7f7f; text-decoration-color: #7f7f7f\">             </span>\n",
       "<span style=\"color: #7fbfbf; text-decoration-color: #7fbfbf\">           </span>             <span style=\"font-weight: bold\">}</span>,                                                      <span style=\"color: #7f7f7f; text-decoration-color: #7f7f7f\">             </span>\n",
       "<span style=\"color: #7fbfbf; text-decoration-color: #7fbfbf\">           </span>             <span style=\"color: #008000; text-decoration-color: #008000\">\"requestor\"</span>: <span style=\"color: #008000; text-decoration-color: #008000\">\"SkoptBayesianAlgorithm\"</span>,                  <span style=\"color: #7f7f7f; text-decoration-color: #7f7f7f\">             </span>\n",
       "<span style=\"color: #7fbfbf; text-decoration-color: #7fbfbf\">           </span>             <span style=\"color: #008000; text-decoration-color: #008000\">\"create_timestamp\"</span>: <span style=\"color: #008080; text-decoration-color: #008080; font-weight: bold\">1645690619.347444</span>,                  <span style=\"color: #7f7f7f; text-decoration-color: #7f7f7f\">             </span>\n",
       "<span style=\"color: #7fbfbf; text-decoration-color: #7fbfbf\">           </span>             <span style=\"color: #008000; text-decoration-color: #008000\">\"finish_timestamp\"</span>: null                                <span style=\"color: #7f7f7f; text-decoration-color: #7f7f7f\">             </span>\n",
       "<span style=\"color: #7fbfbf; text-decoration-color: #7fbfbf\">           </span>         <span style=\"font-weight: bold\">})</span>                                                          <span style=\"color: #7f7f7f; text-decoration-color: #7f7f7f\">             </span>\n",
       "</pre>\n"
      ],
      "text/plain": [
       "\u001b[2;36m          \u001b[0m\u001b[2;36m \u001b[0m\u001b[34mINFO    \u001b[0m Trying experiment: \u001b[1;35mExperiment\u001b[0m\u001b[1m(\u001b[0m\u001b[1m{\u001b[0m                             \u001b[2mrunner.py\u001b[0m\u001b[2m:\u001b[0m\u001b[2m156\u001b[0m\n",
       "\u001b[2;36m           \u001b[0m             \u001b[32m\"id\"\u001b[0m: \u001b[1;36m5\u001b[0m,                                                \u001b[2m             \u001b[0m\n",
       "\u001b[2;36m           \u001b[0m             \u001b[32m\"job_id\"\u001b[0m: \u001b[1;36m1\u001b[0m,                                            \u001b[2m             \u001b[0m\n",
       "\u001b[2;36m           \u001b[0m             \u001b[32m\"state\"\u001b[0m: \u001b[32m\"WIP\"\u001b[0m,                                         \u001b[2m             \u001b[0m\n",
       "\u001b[2;36m           \u001b[0m             \u001b[32m\"hash\"\u001b[0m: null,                                           \u001b[2m             \u001b[0m\n",
       "\u001b[2;36m           \u001b[0m             \u001b[32m\"objective_result\"\u001b[0m: null,                               \u001b[2m             \u001b[0m\n",
       "\u001b[2;36m           \u001b[0m             \u001b[32m\"params\"\u001b[0m: \u001b[1m{\u001b[0m                                             \u001b[2m             \u001b[0m\n",
       "\u001b[2;36m           \u001b[0m                 \u001b[32m\"-O\"\u001b[0m: \u001b[32m\"-O2\"\u001b[0m,                                        \u001b[2m             \u001b[0m\n",
       "\u001b[2;36m           \u001b[0m                 \u001b[32m\"align-functions\"\u001b[0m: \u001b[32m\"-fno-align-functions\"\u001b[0m,          \u001b[2m             \u001b[0m\n",
       "\u001b[2;36m           \u001b[0m                 \u001b[32m\"align-jumps\"\u001b[0m: \u001b[32m\"-fno-align-jumps\"\u001b[0m,                  \u001b[2m             \u001b[0m\n",
       "\u001b[2;36m           \u001b[0m                 \u001b[32m\"align-labels\"\u001b[0m: \u001b[32m\"-fno-align-labels\"\u001b[0m,                \u001b[2m             \u001b[0m\n",
       "\u001b[2;36m           \u001b[0m                 \u001b[32m\"asynchronous-unwind-tables\"\u001b[0m:                       \u001b[2m             \u001b[0m\n",
       "\u001b[2;36m           \u001b[0m         \u001b[32m\"-fasynchronous-unwind-tables\"\u001b[0m,                             \u001b[2m             \u001b[0m\n",
       "\u001b[2;36m           \u001b[0m                 \u001b[32m\"branch-count-reg\"\u001b[0m: \u001b[32m\"-fbranch-count-reg\"\u001b[0m,           \u001b[2m             \u001b[0m\n",
       "\u001b[2;36m           \u001b[0m                 \u001b[32m\"branch-probabilities\"\u001b[0m:                             \u001b[2m             \u001b[0m\n",
       "\u001b[2;36m           \u001b[0m         \u001b[32m\"-fno-branch-probabilities\"\u001b[0m,                                \u001b[2m             \u001b[0m\n",
       "\u001b[2;36m           \u001b[0m                 \u001b[32m\"early-inlining-insns\"\u001b[0m: \u001b[1;36m258\u001b[0m,                        \u001b[2m             \u001b[0m\n",
       "\u001b[2;36m           \u001b[0m                 \u001b[32m\"gcse-cost-distance-ratio\"\u001b[0m: \u001b[1;36m94\u001b[0m,                     \u001b[2m             \u001b[0m\n",
       "\u001b[2;36m           \u001b[0m                 \u001b[32m\"iv-max-considered-uses\"\u001b[0m: \u001b[1;36m985\u001b[0m                       \u001b[2m             \u001b[0m\n",
       "\u001b[2;36m           \u001b[0m             \u001b[1m}\u001b[0m,                                                      \u001b[2m             \u001b[0m\n",
       "\u001b[2;36m           \u001b[0m             \u001b[32m\"requestor\"\u001b[0m: \u001b[32m\"SkoptBayesianAlgorithm\"\u001b[0m,                  \u001b[2m             \u001b[0m\n",
       "\u001b[2;36m           \u001b[0m             \u001b[32m\"create_timestamp\"\u001b[0m: \u001b[1;36m1645690619.347444\u001b[0m,                  \u001b[2m             \u001b[0m\n",
       "\u001b[2;36m           \u001b[0m             \u001b[32m\"finish_timestamp\"\u001b[0m: null                                \u001b[2m             \u001b[0m\n",
       "\u001b[2;36m           \u001b[0m         \u001b[1m}\u001b[0m\u001b[1m)\u001b[0m                                                          \u001b[2m             \u001b[0m\n"
      ]
     },
     "metadata": {},
     "output_type": "display_data"
    },
    {
     "data": {
      "text/html": [
       "<pre style=\"white-space:pre;overflow-x:auto;line-height:normal;font-family:Menlo,'DejaVu Sans Mono',consolas,'Courier New',monospace\"><span style=\"color: #7fbfbf; text-decoration-color: #7fbfbf\">           </span><span style=\"color: #008000; text-decoration-color: #008000\">DEBUG   </span> RUN COMMAND:                                                 <span style=\"color: #7f7f7f; text-decoration-color: #7f7f7f\">runner.py:79</span>\n",
       "<span style=\"color: #7fbfbf; text-decoration-color: #7fbfbf\">           </span>         <span style=\"color: #008080; text-decoration-color: #008080; font-weight: bold\">gtime -f </span><span style=\"color: #008000; text-decoration-color: #008000\">'%e'</span><span style=\"color: #008080; text-decoration-color: #008080; font-weight: bold\"> g++</span><span style=\"color: #008080; text-decoration-color: #008080; font-weight: bold\">-11</span><span style=\"color: #008080; text-decoration-color: #008080; font-weight: bold\"> -o </span><span style=\"color: #800080; text-decoration-color: #800080; font-weight: bold\">/Users/qnbhd/Development/gimeltune/ex</span> <span style=\"color: #7f7f7f; text-decoration-color: #7f7f7f\">            </span>\n",
       "<span style=\"color: #7fbfbf; text-decoration-color: #7fbfbf\">           </span>         <span style=\"color: #800080; text-decoration-color: #800080; font-weight: bold\">amples/gcc/</span><span style=\"color: #ff00ff; text-decoration-color: #ff00ff; font-weight: bold\">6057df1bd752a3b09cd9bbe3e8f0758e109339a7d7fe5f8ec</span> <span style=\"color: #7f7f7f; text-decoration-color: #7f7f7f\">            </span>\n",
       "<span style=\"color: #7fbfbf; text-decoration-color: #7fbfbf\">           </span>         <span style=\"color: #ff00ff; text-decoration-color: #ff00ff; font-weight: bold\">3d1e7a0410470d455473.out</span><span style=\"color: #008080; text-decoration-color: #008080; font-weight: bold\"> </span><span style=\"color: #800080; text-decoration-color: #800080; font-weight: bold\">/Users/qnbhd/Development/gimeltune/e</span> <span style=\"color: #7f7f7f; text-decoration-color: #7f7f7f\">            </span>\n",
       "<span style=\"color: #7fbfbf; text-decoration-color: #7fbfbf\">           </span>         <span style=\"color: #800080; text-decoration-color: #800080; font-weight: bold\">xamples/gcc/raytracer/</span><span style=\"color: #ff00ff; text-decoration-color: #ff00ff; font-weight: bold\">raytracer.cpp</span><span style=\"color: #008080; text-decoration-color: #008080; font-weight: bold\"> -O2 -fno-align-functions</span> <span style=\"color: #7f7f7f; text-decoration-color: #7f7f7f\">            </span>\n",
       "<span style=\"color: #7fbfbf; text-decoration-color: #7fbfbf\">           </span>         <span style=\"color: #008080; text-decoration-color: #008080; font-weight: bold\">-fno-align-jumps -fno-align-labels </span>                          <span style=\"color: #7f7f7f; text-decoration-color: #7f7f7f\">            </span>\n",
       "<span style=\"color: #7fbfbf; text-decoration-color: #7fbfbf\">           </span>         <span style=\"color: #008080; text-decoration-color: #008080; font-weight: bold\">-fasynchronous-unwind-tables -fbranch-count-reg </span>             <span style=\"color: #7f7f7f; text-decoration-color: #7f7f7f\">            </span>\n",
       "<span style=\"color: #7fbfbf; text-decoration-color: #7fbfbf\">           </span>         <span style=\"color: #008080; text-decoration-color: #008080; font-weight: bold\">-fno-branch-probabilities --param early-inlining-</span><span style=\"color: #808000; text-decoration-color: #808000; font-weight: bold\">insns</span><span style=\"color: #008080; text-decoration-color: #008080; font-weight: bold\">=</span><span style=\"color: #008080; text-decoration-color: #008080; font-weight: bold\">258</span><span style=\"color: #008080; text-decoration-color: #008080; font-weight: bold\"> </span>  <span style=\"color: #7f7f7f; text-decoration-color: #7f7f7f\">            </span>\n",
       "<span style=\"color: #7fbfbf; text-decoration-color: #7fbfbf\">           </span>         <span style=\"color: #008080; text-decoration-color: #008080; font-weight: bold\">--param gcse-cost-distance-</span><span style=\"color: #808000; text-decoration-color: #808000; font-weight: bold\">ratio</span><span style=\"color: #008080; text-decoration-color: #008080; font-weight: bold\">=</span><span style=\"color: #008080; text-decoration-color: #008080; font-weight: bold\">94</span><span style=\"color: #008080; text-decoration-color: #008080; font-weight: bold\"> --param </span>                 <span style=\"color: #7f7f7f; text-decoration-color: #7f7f7f\">            </span>\n",
       "<span style=\"color: #7fbfbf; text-decoration-color: #7fbfbf\">           </span>         <span style=\"color: #008080; text-decoration-color: #008080; font-weight: bold\">iv-max-considered-</span><span style=\"color: #808000; text-decoration-color: #808000; font-weight: bold\">uses</span><span style=\"color: #008080; text-decoration-color: #008080; font-weight: bold\">=</span><span style=\"color: #008080; text-decoration-color: #008080; font-weight: bold\">985</span><span style=\"color: #008080; text-decoration-color: #008080; font-weight: bold\"> </span><span style=\"color: #008080; text-decoration-color: #008080; font-weight: bold\">2</span><span style=\"color: #008080; text-decoration-color: #008080; font-weight: bold\">&gt;&amp;</span><span style=\"color: #008080; text-decoration-color: #008080; font-weight: bold\">1</span>                              <span style=\"color: #7f7f7f; text-decoration-color: #7f7f7f\">            </span>\n",
       "</pre>\n"
      ],
      "text/plain": [
       "\u001b[2;36m          \u001b[0m\u001b[2;36m \u001b[0m\u001b[32mDEBUG   \u001b[0m RUN COMMAND:                                                 \u001b[2mrunner.py\u001b[0m\u001b[2m:\u001b[0m\u001b[2m79\u001b[0m\n",
       "\u001b[2;36m           \u001b[0m         \u001b[1;36mgtime -f \u001b[0m\u001b[32m'%e'\u001b[0m\u001b[1;36m g++\u001b[0m\u001b[1;36m-11\u001b[0m\u001b[1;36m -o \u001b[0m\u001b[1;35m/Users/qnbhd/Development/gimeltune/ex\u001b[0m \u001b[2m            \u001b[0m\n",
       "\u001b[2;36m           \u001b[0m         \u001b[1;35mamples/gcc/\u001b[0m\u001b[1;95m6057df1bd752a3b09cd9bbe3e8f0758e109339a7d7fe5f8ec\u001b[0m \u001b[2m            \u001b[0m\n",
       "\u001b[2;36m           \u001b[0m         \u001b[1;95m3d1e7a0410470d455473.out\u001b[0m\u001b[1;36m \u001b[0m\u001b[1;35m/Users/qnbhd/Development/gimeltune/e\u001b[0m \u001b[2m            \u001b[0m\n",
       "\u001b[2;36m           \u001b[0m         \u001b[1;35mxamples/gcc/raytracer/\u001b[0m\u001b[1;95mraytracer.cpp\u001b[0m\u001b[1;36m -O2 -fno-align-functions\u001b[0m \u001b[2m            \u001b[0m\n",
       "\u001b[2;36m           \u001b[0m         \u001b[1;36m-fno-align-jumps -fno-align-labels \u001b[0m                          \u001b[2m            \u001b[0m\n",
       "\u001b[2;36m           \u001b[0m         \u001b[1;36m-fasynchronous-unwind-tables -fbranch-count-reg \u001b[0m             \u001b[2m            \u001b[0m\n",
       "\u001b[2;36m           \u001b[0m         \u001b[1;36m-fno-branch-probabilities --param early-inlining-\u001b[0m\u001b[1;33minsns\u001b[0m\u001b[1;36m=\u001b[0m\u001b[1;36m258\u001b[0m\u001b[1;36m \u001b[0m  \u001b[2m            \u001b[0m\n",
       "\u001b[2;36m           \u001b[0m         \u001b[1;36m--param gcse-cost-distance-\u001b[0m\u001b[1;33mratio\u001b[0m\u001b[1;36m=\u001b[0m\u001b[1;36m94\u001b[0m\u001b[1;36m --param \u001b[0m                 \u001b[2m            \u001b[0m\n",
       "\u001b[2;36m           \u001b[0m         \u001b[1;36miv-max-considered-\u001b[0m\u001b[1;33muses\u001b[0m\u001b[1;36m=\u001b[0m\u001b[1;36m985\u001b[0m\u001b[1;36m \u001b[0m\u001b[1;36m2\u001b[0m\u001b[1;36m>&\u001b[0m\u001b[1;36m1\u001b[0m                              \u001b[2m            \u001b[0m\n"
      ]
     },
     "metadata": {},
     "output_type": "display_data"
    },
    {
     "data": {
      "text/html": [
       "<pre style=\"white-space:pre;overflow-x:auto;line-height:normal;font-family:Menlo,'DejaVu Sans Mono',consolas,'Courier New',monospace\"><span style=\"color: #7fbfbf; text-decoration-color: #7fbfbf\">[11:17:00] </span><span style=\"color: #000080; text-decoration-color: #000080\">INFO    </span> <span style=\"color: #808000; text-decoration-color: #808000; font-weight: bold\">OUT: </span><span style=\"color: #008080; text-decoration-color: #008080; font-weight: bold\">0.87</span>                                                    <span style=\"color: #7f7f7f; text-decoration-color: #7f7f7f\">runner.py:85</span>\n",
       "</pre>\n"
      ],
      "text/plain": [
       "\u001b[2;36m[11:17:00]\u001b[0m\u001b[2;36m \u001b[0m\u001b[34mINFO    \u001b[0m \u001b[1;33mOUT: \u001b[0m\u001b[1;36m0.87\u001b[0m                                                    \u001b[2mrunner.py\u001b[0m\u001b[2m:\u001b[0m\u001b[2m85\u001b[0m\n"
      ]
     },
     "metadata": {},
     "output_type": "display_data"
    },
    {
     "data": {
      "text/html": [
       "<pre style=\"white-space:pre;overflow-x:auto;line-height:normal;font-family:Menlo,'DejaVu Sans Mono',consolas,'Courier New',monospace\"><span style=\"color: #7fbfbf; text-decoration-color: #7fbfbf\">           </span><span style=\"color: #008000; text-decoration-color: #008000\">DEBUG   </span> RUN COMMAND:                                                 <span style=\"color: #7f7f7f; text-decoration-color: #7f7f7f\">runner.py:79</span>\n",
       "<span style=\"color: #7fbfbf; text-decoration-color: #7fbfbf\">           </span>         <span style=\"color: #008080; text-decoration-color: #008080; font-weight: bold\">wc -c </span><span style=\"color: #800080; text-decoration-color: #800080; font-weight: bold\">/Users/qnbhd/Development/gimeltune/examples/gcc/</span><span style=\"color: #ff00ff; text-decoration-color: #ff00ff; font-weight: bold\">6057df1</span> <span style=\"color: #7f7f7f; text-decoration-color: #7f7f7f\">            </span>\n",
       "<span style=\"color: #7fbfbf; text-decoration-color: #7fbfbf\">           </span>         <span style=\"color: #ff00ff; text-decoration-color: #ff00ff; font-weight: bold\">bd752a3b09cd9bbe3e8f0758e109339a7d7fe5f8ec3d1e7a0410470d4554</span> <span style=\"color: #7f7f7f; text-decoration-color: #7f7f7f\">            </span>\n",
       "<span style=\"color: #7fbfbf; text-decoration-color: #7fbfbf\">           </span>         <span style=\"color: #ff00ff; text-decoration-color: #ff00ff; font-weight: bold\">73.out</span><span style=\"color: #008080; text-decoration-color: #008080; font-weight: bold\"> | awk </span><span style=\"color: #008000; text-decoration-color: #008000\">'{print $1}'</span>                                    <span style=\"color: #7f7f7f; text-decoration-color: #7f7f7f\">            </span>\n",
       "</pre>\n"
      ],
      "text/plain": [
       "\u001b[2;36m          \u001b[0m\u001b[2;36m \u001b[0m\u001b[32mDEBUG   \u001b[0m RUN COMMAND:                                                 \u001b[2mrunner.py\u001b[0m\u001b[2m:\u001b[0m\u001b[2m79\u001b[0m\n",
       "\u001b[2;36m           \u001b[0m         \u001b[1;36mwc -c \u001b[0m\u001b[1;35m/Users/qnbhd/Development/gimeltune/examples/gcc/\u001b[0m\u001b[1;95m6057df1\u001b[0m \u001b[2m            \u001b[0m\n",
       "\u001b[2;36m           \u001b[0m         \u001b[1;95mbd752a3b09cd9bbe3e8f0758e109339a7d7fe5f8ec3d1e7a0410470d4554\u001b[0m \u001b[2m            \u001b[0m\n",
       "\u001b[2;36m           \u001b[0m         \u001b[1;95m73.out\u001b[0m\u001b[1;36m | awk \u001b[0m\u001b[32m'\u001b[0m\u001b[32m{\u001b[0m\u001b[32mprint $1\u001b[0m\u001b[32m}\u001b[0m\u001b[32m'\u001b[0m                                    \u001b[2m            \u001b[0m\n"
      ]
     },
     "metadata": {},
     "output_type": "display_data"
    },
    {
     "data": {
      "text/html": [
       "<pre style=\"white-space:pre;overflow-x:auto;line-height:normal;font-family:Menlo,'DejaVu Sans Mono',consolas,'Courier New',monospace\"><span style=\"color: #7fbfbf; text-decoration-color: #7fbfbf\">           </span><span style=\"color: #000080; text-decoration-color: #000080\">INFO    </span> <span style=\"color: #808000; text-decoration-color: #808000; font-weight: bold\">OUT: </span><span style=\"color: #008080; text-decoration-color: #008080; font-weight: bold\">51440</span>                                                   <span style=\"color: #7f7f7f; text-decoration-color: #7f7f7f\">runner.py:85</span>\n",
       "</pre>\n"
      ],
      "text/plain": [
       "\u001b[2;36m          \u001b[0m\u001b[2;36m \u001b[0m\u001b[34mINFO    \u001b[0m \u001b[1;33mOUT: \u001b[0m\u001b[1;36m51440\u001b[0m                                                   \u001b[2mrunner.py\u001b[0m\u001b[2m:\u001b[0m\u001b[2m85\u001b[0m\n"
      ]
     },
     "metadata": {},
     "output_type": "display_data"
    },
    {
     "data": {
      "text/html": [
       "<pre style=\"white-space:pre;overflow-x:auto;line-height:normal;font-family:Menlo,'DejaVu Sans Mono',consolas,'Courier New',monospace\"><span style=\"color: #7fbfbf; text-decoration-color: #7fbfbf\">           </span><span style=\"color: #008000; text-decoration-color: #008000\">DEBUG   </span> RUN COMMAND:                                                 <span style=\"color: #7f7f7f; text-decoration-color: #7f7f7f\">runner.py:79</span>\n",
       "<span style=\"color: #7fbfbf; text-decoration-color: #7fbfbf\">           </span>         <span style=\"color: #008080; text-decoration-color: #008080; font-weight: bold\">gtime -f </span><span style=\"color: #008000; text-decoration-color: #008000\">'%e'</span><span style=\"color: #008080; text-decoration-color: #008080; font-weight: bold\"> </span><span style=\"color: #800080; text-decoration-color: #800080; font-weight: bold\">/Users/qnbhd/Development/gimeltune/examples/gcc</span> <span style=\"color: #7f7f7f; text-decoration-color: #7f7f7f\">            </span>\n",
       "<span style=\"color: #7fbfbf; text-decoration-color: #7fbfbf\">           </span>         <span style=\"color: #800080; text-decoration-color: #800080; font-weight: bold\">/</span><span style=\"color: #ff00ff; text-decoration-color: #ff00ff; font-weight: bold\">6057df1bd752a3b09cd9bbe3e8f0758e109339a7d7fe5f8ec3d1e7a0410</span> <span style=\"color: #7f7f7f; text-decoration-color: #7f7f7f\">            </span>\n",
       "<span style=\"color: #7fbfbf; text-decoration-color: #7fbfbf\">           </span>         <span style=\"color: #ff00ff; text-decoration-color: #ff00ff; font-weight: bold\">470d455473.out</span><span style=\"color: #008080; text-decoration-color: #008080; font-weight: bold\"> </span><span style=\"color: #008080; text-decoration-color: #008080; font-weight: bold\">2</span><span style=\"color: #008080; text-decoration-color: #008080; font-weight: bold\">&gt;&amp;</span><span style=\"color: #008080; text-decoration-color: #008080; font-weight: bold\">1</span>                                          <span style=\"color: #7f7f7f; text-decoration-color: #7f7f7f\">            </span>\n",
       "</pre>\n"
      ],
      "text/plain": [
       "\u001b[2;36m          \u001b[0m\u001b[2;36m \u001b[0m\u001b[32mDEBUG   \u001b[0m RUN COMMAND:                                                 \u001b[2mrunner.py\u001b[0m\u001b[2m:\u001b[0m\u001b[2m79\u001b[0m\n",
       "\u001b[2;36m           \u001b[0m         \u001b[1;36mgtime -f \u001b[0m\u001b[32m'%e'\u001b[0m\u001b[1;36m \u001b[0m\u001b[1;35m/Users/qnbhd/Development/gimeltune/examples/gcc\u001b[0m \u001b[2m            \u001b[0m\n",
       "\u001b[2;36m           \u001b[0m         \u001b[1;35m/\u001b[0m\u001b[1;95m6057df1bd752a3b09cd9bbe3e8f0758e109339a7d7fe5f8ec3d1e7a0410\u001b[0m \u001b[2m            \u001b[0m\n",
       "\u001b[2;36m           \u001b[0m         \u001b[1;95m470d455473.out\u001b[0m\u001b[1;36m \u001b[0m\u001b[1;36m2\u001b[0m\u001b[1;36m>&\u001b[0m\u001b[1;36m1\u001b[0m                                          \u001b[2m            \u001b[0m\n"
      ]
     },
     "metadata": {},
     "output_type": "display_data"
    },
    {
     "data": {
      "text/html": [
       "<pre style=\"white-space:pre;overflow-x:auto;line-height:normal;font-family:Menlo,'DejaVu Sans Mono',consolas,'Courier New',monospace\"><span style=\"color: #7fbfbf; text-decoration-color: #7fbfbf\">           </span><span style=\"color: #000080; text-decoration-color: #000080\">INFO    </span> <span style=\"color: #808000; text-decoration-color: #808000; font-weight: bold\">OUT: </span><span style=\"color: #008080; text-decoration-color: #008080; font-weight: bold\">0.26</span>                                                    <span style=\"color: #7f7f7f; text-decoration-color: #7f7f7f\">runner.py:85</span>\n",
       "</pre>\n"
      ],
      "text/plain": [
       "\u001b[2;36m          \u001b[0m\u001b[2;36m \u001b[0m\u001b[34mINFO    \u001b[0m \u001b[1;33mOUT: \u001b[0m\u001b[1;36m0.26\u001b[0m                                                    \u001b[2mrunner.py\u001b[0m\u001b[2m:\u001b[0m\u001b[2m85\u001b[0m\n"
      ]
     },
     "metadata": {},
     "output_type": "display_data"
    },
    {
     "data": {
      "text/html": [
       "<pre style=\"white-space:pre;overflow-x:auto;line-height:normal;font-family:Menlo,'DejaVu Sans Mono',consolas,'Courier New',monospace\"><span style=\"color: #7fbfbf; text-decoration-color: #7fbfbf\">           </span><span style=\"color: #008000; text-decoration-color: #008000\">DEBUG   </span> RUN COMMAND:                                                 <span style=\"color: #7f7f7f; text-decoration-color: #7f7f7f\">runner.py:79</span>\n",
       "<span style=\"color: #7fbfbf; text-decoration-color: #7fbfbf\">           </span>         <span style=\"color: #008080; text-decoration-color: #008080; font-weight: bold\">gtime -f </span><span style=\"color: #008000; text-decoration-color: #008000\">'%e'</span><span style=\"color: #008080; text-decoration-color: #008080; font-weight: bold\"> </span><span style=\"color: #800080; text-decoration-color: #800080; font-weight: bold\">/Users/qnbhd/Development/gimeltune/examples/gcc</span> <span style=\"color: #7f7f7f; text-decoration-color: #7f7f7f\">            </span>\n",
       "<span style=\"color: #7fbfbf; text-decoration-color: #7fbfbf\">           </span>         <span style=\"color: #800080; text-decoration-color: #800080; font-weight: bold\">/</span><span style=\"color: #ff00ff; text-decoration-color: #ff00ff; font-weight: bold\">6057df1bd752a3b09cd9bbe3e8f0758e109339a7d7fe5f8ec3d1e7a0410</span> <span style=\"color: #7f7f7f; text-decoration-color: #7f7f7f\">            </span>\n",
       "<span style=\"color: #7fbfbf; text-decoration-color: #7fbfbf\">           </span>         <span style=\"color: #ff00ff; text-decoration-color: #ff00ff; font-weight: bold\">470d455473.out</span><span style=\"color: #008080; text-decoration-color: #008080; font-weight: bold\"> </span><span style=\"color: #008080; text-decoration-color: #008080; font-weight: bold\">2</span><span style=\"color: #008080; text-decoration-color: #008080; font-weight: bold\">&gt;&amp;</span><span style=\"color: #008080; text-decoration-color: #008080; font-weight: bold\">1</span>                                          <span style=\"color: #7f7f7f; text-decoration-color: #7f7f7f\">            </span>\n",
       "</pre>\n"
      ],
      "text/plain": [
       "\u001b[2;36m          \u001b[0m\u001b[2;36m \u001b[0m\u001b[32mDEBUG   \u001b[0m RUN COMMAND:                                                 \u001b[2mrunner.py\u001b[0m\u001b[2m:\u001b[0m\u001b[2m79\u001b[0m\n",
       "\u001b[2;36m           \u001b[0m         \u001b[1;36mgtime -f \u001b[0m\u001b[32m'%e'\u001b[0m\u001b[1;36m \u001b[0m\u001b[1;35m/Users/qnbhd/Development/gimeltune/examples/gcc\u001b[0m \u001b[2m            \u001b[0m\n",
       "\u001b[2;36m           \u001b[0m         \u001b[1;35m/\u001b[0m\u001b[1;95m6057df1bd752a3b09cd9bbe3e8f0758e109339a7d7fe5f8ec3d1e7a0410\u001b[0m \u001b[2m            \u001b[0m\n",
       "\u001b[2;36m           \u001b[0m         \u001b[1;95m470d455473.out\u001b[0m\u001b[1;36m \u001b[0m\u001b[1;36m2\u001b[0m\u001b[1;36m>&\u001b[0m\u001b[1;36m1\u001b[0m                                          \u001b[2m            \u001b[0m\n"
      ]
     },
     "metadata": {},
     "output_type": "display_data"
    },
    {
     "data": {
      "text/html": [
       "<pre style=\"white-space:pre;overflow-x:auto;line-height:normal;font-family:Menlo,'DejaVu Sans Mono',consolas,'Courier New',monospace\"><span style=\"color: #7fbfbf; text-decoration-color: #7fbfbf\">           </span><span style=\"color: #000080; text-decoration-color: #000080\">INFO    </span> <span style=\"color: #808000; text-decoration-color: #808000; font-weight: bold\">OUT: </span><span style=\"color: #008080; text-decoration-color: #008080; font-weight: bold\">0.10</span>                                                    <span style=\"color: #7f7f7f; text-decoration-color: #7f7f7f\">runner.py:85</span>\n",
       "</pre>\n"
      ],
      "text/plain": [
       "\u001b[2;36m          \u001b[0m\u001b[2;36m \u001b[0m\u001b[34mINFO    \u001b[0m \u001b[1;33mOUT: \u001b[0m\u001b[1;36m0.10\u001b[0m                                                    \u001b[2mrunner.py\u001b[0m\u001b[2m:\u001b[0m\u001b[2m85\u001b[0m\n"
      ]
     },
     "metadata": {},
     "output_type": "display_data"
    },
    {
     "data": {
      "text/html": [
       "<pre style=\"white-space:pre;overflow-x:auto;line-height:normal;font-family:Menlo,'DejaVu Sans Mono',consolas,'Courier New',monospace\"><span style=\"color: #7fbfbf; text-decoration-color: #7fbfbf\">           </span><span style=\"color: #008000; text-decoration-color: #008000\">DEBUG   </span> RUN COMMAND:                                                 <span style=\"color: #7f7f7f; text-decoration-color: #7f7f7f\">runner.py:79</span>\n",
       "<span style=\"color: #7fbfbf; text-decoration-color: #7fbfbf\">           </span>         <span style=\"color: #008080; text-decoration-color: #008080; font-weight: bold\">gtime -f </span><span style=\"color: #008000; text-decoration-color: #008000\">'%e'</span><span style=\"color: #008080; text-decoration-color: #008080; font-weight: bold\"> </span><span style=\"color: #800080; text-decoration-color: #800080; font-weight: bold\">/Users/qnbhd/Development/gimeltune/examples/gcc</span> <span style=\"color: #7f7f7f; text-decoration-color: #7f7f7f\">            </span>\n",
       "<span style=\"color: #7fbfbf; text-decoration-color: #7fbfbf\">           </span>         <span style=\"color: #800080; text-decoration-color: #800080; font-weight: bold\">/</span><span style=\"color: #ff00ff; text-decoration-color: #ff00ff; font-weight: bold\">6057df1bd752a3b09cd9bbe3e8f0758e109339a7d7fe5f8ec3d1e7a0410</span> <span style=\"color: #7f7f7f; text-decoration-color: #7f7f7f\">            </span>\n",
       "<span style=\"color: #7fbfbf; text-decoration-color: #7fbfbf\">           </span>         <span style=\"color: #ff00ff; text-decoration-color: #ff00ff; font-weight: bold\">470d455473.out</span><span style=\"color: #008080; text-decoration-color: #008080; font-weight: bold\"> </span><span style=\"color: #008080; text-decoration-color: #008080; font-weight: bold\">2</span><span style=\"color: #008080; text-decoration-color: #008080; font-weight: bold\">&gt;&amp;</span><span style=\"color: #008080; text-decoration-color: #008080; font-weight: bold\">1</span>                                          <span style=\"color: #7f7f7f; text-decoration-color: #7f7f7f\">            </span>\n",
       "</pre>\n"
      ],
      "text/plain": [
       "\u001b[2;36m          \u001b[0m\u001b[2;36m \u001b[0m\u001b[32mDEBUG   \u001b[0m RUN COMMAND:                                                 \u001b[2mrunner.py\u001b[0m\u001b[2m:\u001b[0m\u001b[2m79\u001b[0m\n",
       "\u001b[2;36m           \u001b[0m         \u001b[1;36mgtime -f \u001b[0m\u001b[32m'%e'\u001b[0m\u001b[1;36m \u001b[0m\u001b[1;35m/Users/qnbhd/Development/gimeltune/examples/gcc\u001b[0m \u001b[2m            \u001b[0m\n",
       "\u001b[2;36m           \u001b[0m         \u001b[1;35m/\u001b[0m\u001b[1;95m6057df1bd752a3b09cd9bbe3e8f0758e109339a7d7fe5f8ec3d1e7a0410\u001b[0m \u001b[2m            \u001b[0m\n",
       "\u001b[2;36m           \u001b[0m         \u001b[1;95m470d455473.out\u001b[0m\u001b[1;36m \u001b[0m\u001b[1;36m2\u001b[0m\u001b[1;36m>&\u001b[0m\u001b[1;36m1\u001b[0m                                          \u001b[2m            \u001b[0m\n"
      ]
     },
     "metadata": {},
     "output_type": "display_data"
    },
    {
     "data": {
      "text/html": [
       "<pre style=\"white-space:pre;overflow-x:auto;line-height:normal;font-family:Menlo,'DejaVu Sans Mono',consolas,'Courier New',monospace\"><span style=\"color: #7fbfbf; text-decoration-color: #7fbfbf\">           </span><span style=\"color: #000080; text-decoration-color: #000080\">INFO    </span> <span style=\"color: #808000; text-decoration-color: #808000; font-weight: bold\">OUT: </span><span style=\"color: #008080; text-decoration-color: #008080; font-weight: bold\">0.10</span>                                                    <span style=\"color: #7f7f7f; text-decoration-color: #7f7f7f\">runner.py:85</span>\n",
       "</pre>\n"
      ],
      "text/plain": [
       "\u001b[2;36m          \u001b[0m\u001b[2;36m \u001b[0m\u001b[34mINFO    \u001b[0m \u001b[1;33mOUT: \u001b[0m\u001b[1;36m0.10\u001b[0m                                                    \u001b[2mrunner.py\u001b[0m\u001b[2m:\u001b[0m\u001b[2m85\u001b[0m\n"
      ]
     },
     "metadata": {},
     "output_type": "display_data"
    },
    {
     "data": {
      "text/html": [
       "<pre style=\"white-space:pre;overflow-x:auto;line-height:normal;font-family:Menlo,'DejaVu Sans Mono',consolas,'Courier New',monospace\"><span style=\"color: #7fbfbf; text-decoration-color: #7fbfbf\">           </span><span style=\"color: #008000; text-decoration-color: #008000\">DEBUG   </span> RUN COMMAND:                                                 <span style=\"color: #7f7f7f; text-decoration-color: #7f7f7f\">runner.py:79</span>\n",
       "<span style=\"color: #7fbfbf; text-decoration-color: #7fbfbf\">           </span>         <span style=\"color: #008080; text-decoration-color: #008080; font-weight: bold\">gtime -f </span><span style=\"color: #008000; text-decoration-color: #008000\">'%e'</span><span style=\"color: #008080; text-decoration-color: #008080; font-weight: bold\"> </span><span style=\"color: #800080; text-decoration-color: #800080; font-weight: bold\">/Users/qnbhd/Development/gimeltune/examples/gcc</span> <span style=\"color: #7f7f7f; text-decoration-color: #7f7f7f\">            </span>\n",
       "<span style=\"color: #7fbfbf; text-decoration-color: #7fbfbf\">           </span>         <span style=\"color: #800080; text-decoration-color: #800080; font-weight: bold\">/</span><span style=\"color: #ff00ff; text-decoration-color: #ff00ff; font-weight: bold\">6057df1bd752a3b09cd9bbe3e8f0758e109339a7d7fe5f8ec3d1e7a0410</span> <span style=\"color: #7f7f7f; text-decoration-color: #7f7f7f\">            </span>\n",
       "<span style=\"color: #7fbfbf; text-decoration-color: #7fbfbf\">           </span>         <span style=\"color: #ff00ff; text-decoration-color: #ff00ff; font-weight: bold\">470d455473.out</span><span style=\"color: #008080; text-decoration-color: #008080; font-weight: bold\"> </span><span style=\"color: #008080; text-decoration-color: #008080; font-weight: bold\">2</span><span style=\"color: #008080; text-decoration-color: #008080; font-weight: bold\">&gt;&amp;</span><span style=\"color: #008080; text-decoration-color: #008080; font-weight: bold\">1</span>                                          <span style=\"color: #7f7f7f; text-decoration-color: #7f7f7f\">            </span>\n",
       "</pre>\n"
      ],
      "text/plain": [
       "\u001b[2;36m          \u001b[0m\u001b[2;36m \u001b[0m\u001b[32mDEBUG   \u001b[0m RUN COMMAND:                                                 \u001b[2mrunner.py\u001b[0m\u001b[2m:\u001b[0m\u001b[2m79\u001b[0m\n",
       "\u001b[2;36m           \u001b[0m         \u001b[1;36mgtime -f \u001b[0m\u001b[32m'%e'\u001b[0m\u001b[1;36m \u001b[0m\u001b[1;35m/Users/qnbhd/Development/gimeltune/examples/gcc\u001b[0m \u001b[2m            \u001b[0m\n",
       "\u001b[2;36m           \u001b[0m         \u001b[1;35m/\u001b[0m\u001b[1;95m6057df1bd752a3b09cd9bbe3e8f0758e109339a7d7fe5f8ec3d1e7a0410\u001b[0m \u001b[2m            \u001b[0m\n",
       "\u001b[2;36m           \u001b[0m         \u001b[1;95m470d455473.out\u001b[0m\u001b[1;36m \u001b[0m\u001b[1;36m2\u001b[0m\u001b[1;36m>&\u001b[0m\u001b[1;36m1\u001b[0m                                          \u001b[2m            \u001b[0m\n"
      ]
     },
     "metadata": {},
     "output_type": "display_data"
    },
    {
     "data": {
      "text/html": [
       "<pre style=\"white-space:pre;overflow-x:auto;line-height:normal;font-family:Menlo,'DejaVu Sans Mono',consolas,'Courier New',monospace\"><span style=\"color: #7fbfbf; text-decoration-color: #7fbfbf\">           </span><span style=\"color: #000080; text-decoration-color: #000080\">INFO    </span> <span style=\"color: #808000; text-decoration-color: #808000; font-weight: bold\">OUT: </span><span style=\"color: #008080; text-decoration-color: #008080; font-weight: bold\">0.10</span>                                                    <span style=\"color: #7f7f7f; text-decoration-color: #7f7f7f\">runner.py:85</span>\n",
       "</pre>\n"
      ],
      "text/plain": [
       "\u001b[2;36m          \u001b[0m\u001b[2;36m \u001b[0m\u001b[34mINFO    \u001b[0m \u001b[1;33mOUT: \u001b[0m\u001b[1;36m0.10\u001b[0m                                                    \u001b[2mrunner.py\u001b[0m\u001b[2m:\u001b[0m\u001b[2m85\u001b[0m\n"
      ]
     },
     "metadata": {},
     "output_type": "display_data"
    },
    {
     "data": {
      "text/html": [
       "<pre style=\"white-space:pre;overflow-x:auto;line-height:normal;font-family:Menlo,'DejaVu Sans Mono',consolas,'Courier New',monospace\"><span style=\"color: #7fbfbf; text-decoration-color: #7fbfbf\">           </span><span style=\"color: #008000; text-decoration-color: #008000\">DEBUG   </span> RUN COMMAND:                                                 <span style=\"color: #7f7f7f; text-decoration-color: #7f7f7f\">runner.py:79</span>\n",
       "<span style=\"color: #7fbfbf; text-decoration-color: #7fbfbf\">           </span>         <span style=\"color: #008080; text-decoration-color: #008080; font-weight: bold\">gtime -f </span><span style=\"color: #008000; text-decoration-color: #008000\">'%e'</span><span style=\"color: #008080; text-decoration-color: #008080; font-weight: bold\"> </span><span style=\"color: #800080; text-decoration-color: #800080; font-weight: bold\">/Users/qnbhd/Development/gimeltune/examples/gcc</span> <span style=\"color: #7f7f7f; text-decoration-color: #7f7f7f\">            </span>\n",
       "<span style=\"color: #7fbfbf; text-decoration-color: #7fbfbf\">           </span>         <span style=\"color: #800080; text-decoration-color: #800080; font-weight: bold\">/</span><span style=\"color: #ff00ff; text-decoration-color: #ff00ff; font-weight: bold\">6057df1bd752a3b09cd9bbe3e8f0758e109339a7d7fe5f8ec3d1e7a0410</span> <span style=\"color: #7f7f7f; text-decoration-color: #7f7f7f\">            </span>\n",
       "<span style=\"color: #7fbfbf; text-decoration-color: #7fbfbf\">           </span>         <span style=\"color: #ff00ff; text-decoration-color: #ff00ff; font-weight: bold\">470d455473.out</span><span style=\"color: #008080; text-decoration-color: #008080; font-weight: bold\"> </span><span style=\"color: #008080; text-decoration-color: #008080; font-weight: bold\">2</span><span style=\"color: #008080; text-decoration-color: #008080; font-weight: bold\">&gt;&amp;</span><span style=\"color: #008080; text-decoration-color: #008080; font-weight: bold\">1</span>                                          <span style=\"color: #7f7f7f; text-decoration-color: #7f7f7f\">            </span>\n",
       "</pre>\n"
      ],
      "text/plain": [
       "\u001b[2;36m          \u001b[0m\u001b[2;36m \u001b[0m\u001b[32mDEBUG   \u001b[0m RUN COMMAND:                                                 \u001b[2mrunner.py\u001b[0m\u001b[2m:\u001b[0m\u001b[2m79\u001b[0m\n",
       "\u001b[2;36m           \u001b[0m         \u001b[1;36mgtime -f \u001b[0m\u001b[32m'%e'\u001b[0m\u001b[1;36m \u001b[0m\u001b[1;35m/Users/qnbhd/Development/gimeltune/examples/gcc\u001b[0m \u001b[2m            \u001b[0m\n",
       "\u001b[2;36m           \u001b[0m         \u001b[1;35m/\u001b[0m\u001b[1;95m6057df1bd752a3b09cd9bbe3e8f0758e109339a7d7fe5f8ec3d1e7a0410\u001b[0m \u001b[2m            \u001b[0m\n",
       "\u001b[2;36m           \u001b[0m         \u001b[1;95m470d455473.out\u001b[0m\u001b[1;36m \u001b[0m\u001b[1;36m2\u001b[0m\u001b[1;36m>&\u001b[0m\u001b[1;36m1\u001b[0m                                          \u001b[2m            \u001b[0m\n"
      ]
     },
     "metadata": {},
     "output_type": "display_data"
    },
    {
     "data": {
      "text/html": [
       "<pre style=\"white-space:pre;overflow-x:auto;line-height:normal;font-family:Menlo,'DejaVu Sans Mono',consolas,'Courier New',monospace\"><span style=\"color: #7fbfbf; text-decoration-color: #7fbfbf\">[11:17:01] </span><span style=\"color: #000080; text-decoration-color: #000080\">INFO    </span> <span style=\"color: #808000; text-decoration-color: #808000; font-weight: bold\">OUT: </span><span style=\"color: #008080; text-decoration-color: #008080; font-weight: bold\">0.10</span>                                                    <span style=\"color: #7f7f7f; text-decoration-color: #7f7f7f\">runner.py:85</span>\n",
       "</pre>\n"
      ],
      "text/plain": [
       "\u001b[2;36m[11:17:01]\u001b[0m\u001b[2;36m \u001b[0m\u001b[34mINFO    \u001b[0m \u001b[1;33mOUT: \u001b[0m\u001b[1;36m0.10\u001b[0m                                                    \u001b[2mrunner.py\u001b[0m\u001b[2m:\u001b[0m\u001b[2m85\u001b[0m\n"
      ]
     },
     "metadata": {},
     "output_type": "display_data"
    },
    {
     "data": {
      "text/html": [
       "<pre style=\"white-space:pre;overflow-x:auto;line-height:normal;font-family:Menlo,'DejaVu Sans Mono',consolas,'Courier New',monospace\"><span style=\"color: #7fbfbf; text-decoration-color: #7fbfbf\">           </span><span style=\"color: #008000; text-decoration-color: #008000\">DEBUG   </span> RUN COMMAND:                                                 <span style=\"color: #7f7f7f; text-decoration-color: #7f7f7f\">runner.py:79</span>\n",
       "<span style=\"color: #7fbfbf; text-decoration-color: #7fbfbf\">           </span>         <span style=\"color: #008080; text-decoration-color: #008080; font-weight: bold\">rm </span><span style=\"color: #800080; text-decoration-color: #800080; font-weight: bold\">/Users/qnbhd/Development/gimeltune/examples/gcc/</span><span style=\"color: #ff00ff; text-decoration-color: #ff00ff; font-weight: bold\">6057df1bd7</span> <span style=\"color: #7f7f7f; text-decoration-color: #7f7f7f\">            </span>\n",
       "<span style=\"color: #7fbfbf; text-decoration-color: #7fbfbf\">           </span>         <span style=\"color: #ff00ff; text-decoration-color: #ff00ff; font-weight: bold\">52a3b09cd9bbe3e8f0758e109339a7d7fe5f8ec3d1e7a0410470d455473.</span> <span style=\"color: #7f7f7f; text-decoration-color: #7f7f7f\">            </span>\n",
       "<span style=\"color: #7fbfbf; text-decoration-color: #7fbfbf\">           </span>         <span style=\"color: #ff00ff; text-decoration-color: #ff00ff; font-weight: bold\">out</span>                                                          <span style=\"color: #7f7f7f; text-decoration-color: #7f7f7f\">            </span>\n",
       "</pre>\n"
      ],
      "text/plain": [
       "\u001b[2;36m          \u001b[0m\u001b[2;36m \u001b[0m\u001b[32mDEBUG   \u001b[0m RUN COMMAND:                                                 \u001b[2mrunner.py\u001b[0m\u001b[2m:\u001b[0m\u001b[2m79\u001b[0m\n",
       "\u001b[2;36m           \u001b[0m         \u001b[1;36mrm \u001b[0m\u001b[1;35m/Users/qnbhd/Development/gimeltune/examples/gcc/\u001b[0m\u001b[1;95m6057df1bd7\u001b[0m \u001b[2m            \u001b[0m\n",
       "\u001b[2;36m           \u001b[0m         \u001b[1;95m52a3b09cd9bbe3e8f0758e109339a7d7fe5f8ec3d1e7a0410470d455473.\u001b[0m \u001b[2m            \u001b[0m\n",
       "\u001b[2;36m           \u001b[0m         \u001b[1;95mout\u001b[0m                                                          \u001b[2m            \u001b[0m\n"
      ]
     },
     "metadata": {},
     "output_type": "display_data"
    },
    {
     "data": {
      "text/html": [
       "<pre style=\"white-space:pre;overflow-x:auto;line-height:normal;font-family:Menlo,'DejaVu Sans Mono',consolas,'Courier New',monospace\"><span style=\"color: #7fbfbf; text-decoration-color: #7fbfbf\">           </span><span style=\"color: #000080; text-decoration-color: #000080\">INFO    </span> Trying experiment: <span style=\"color: #800080; text-decoration-color: #800080; font-weight: bold\">Experiment</span><span style=\"font-weight: bold\">({</span>                             <span style=\"color: #7f7f7f; text-decoration-color: #7f7f7f\">runner.py:156</span>\n",
       "<span style=\"color: #7fbfbf; text-decoration-color: #7fbfbf\">           </span>             <span style=\"color: #008000; text-decoration-color: #008000\">\"id\"</span>: <span style=\"color: #008080; text-decoration-color: #008080; font-weight: bold\">6</span>,                                                <span style=\"color: #7f7f7f; text-decoration-color: #7f7f7f\">             </span>\n",
       "<span style=\"color: #7fbfbf; text-decoration-color: #7fbfbf\">           </span>             <span style=\"color: #008000; text-decoration-color: #008000\">\"job_id\"</span>: <span style=\"color: #008080; text-decoration-color: #008080; font-weight: bold\">1</span>,                                            <span style=\"color: #7f7f7f; text-decoration-color: #7f7f7f\">             </span>\n",
       "<span style=\"color: #7fbfbf; text-decoration-color: #7fbfbf\">           </span>             <span style=\"color: #008000; text-decoration-color: #008000\">\"state\"</span>: <span style=\"color: #008000; text-decoration-color: #008000\">\"WIP\"</span>,                                         <span style=\"color: #7f7f7f; text-decoration-color: #7f7f7f\">             </span>\n",
       "<span style=\"color: #7fbfbf; text-decoration-color: #7fbfbf\">           </span>             <span style=\"color: #008000; text-decoration-color: #008000\">\"hash\"</span>: null,                                           <span style=\"color: #7f7f7f; text-decoration-color: #7f7f7f\">             </span>\n",
       "<span style=\"color: #7fbfbf; text-decoration-color: #7fbfbf\">           </span>             <span style=\"color: #008000; text-decoration-color: #008000\">\"objective_result\"</span>: null,                               <span style=\"color: #7f7f7f; text-decoration-color: #7f7f7f\">             </span>\n",
       "<span style=\"color: #7fbfbf; text-decoration-color: #7fbfbf\">           </span>             <span style=\"color: #008000; text-decoration-color: #008000\">\"params\"</span>: <span style=\"font-weight: bold\">{</span>                                             <span style=\"color: #7f7f7f; text-decoration-color: #7f7f7f\">             </span>\n",
       "<span style=\"color: #7fbfbf; text-decoration-color: #7fbfbf\">           </span>                 <span style=\"color: #008000; text-decoration-color: #008000\">\"-O\"</span>: <span style=\"color: #008000; text-decoration-color: #008000\">\"-O1\"</span>,                                        <span style=\"color: #7f7f7f; text-decoration-color: #7f7f7f\">             </span>\n",
       "<span style=\"color: #7fbfbf; text-decoration-color: #7fbfbf\">           </span>                 <span style=\"color: #008000; text-decoration-color: #008000\">\"align-functions\"</span>: <span style=\"color: #008000; text-decoration-color: #008000\">\"-falign-functions\"</span>,             <span style=\"color: #7f7f7f; text-decoration-color: #7f7f7f\">             </span>\n",
       "<span style=\"color: #7fbfbf; text-decoration-color: #7fbfbf\">           </span>                 <span style=\"color: #008000; text-decoration-color: #008000\">\"align-jumps\"</span>: null,                                <span style=\"color: #7f7f7f; text-decoration-color: #7f7f7f\">             </span>\n",
       "<span style=\"color: #7fbfbf; text-decoration-color: #7fbfbf\">           </span>                 <span style=\"color: #008000; text-decoration-color: #008000\">\"align-labels\"</span>: <span style=\"color: #008000; text-decoration-color: #008000\">\"-fno-align-labels\"</span>,                <span style=\"color: #7f7f7f; text-decoration-color: #7f7f7f\">             </span>\n",
       "<span style=\"color: #7fbfbf; text-decoration-color: #7fbfbf\">           </span>                 <span style=\"color: #008000; text-decoration-color: #008000\">\"asynchronous-unwind-tables\"</span>: null,                 <span style=\"color: #7f7f7f; text-decoration-color: #7f7f7f\">             </span>\n",
       "<span style=\"color: #7fbfbf; text-decoration-color: #7fbfbf\">           </span>                 <span style=\"color: #008000; text-decoration-color: #008000\">\"branch-count-reg\"</span>: <span style=\"color: #008000; text-decoration-color: #008000\">\"-fno-branch-count-reg\"</span>,        <span style=\"color: #7f7f7f; text-decoration-color: #7f7f7f\">             </span>\n",
       "<span style=\"color: #7fbfbf; text-decoration-color: #7fbfbf\">           </span>                 <span style=\"color: #008000; text-decoration-color: #008000\">\"branch-probabilities\"</span>: null,                       <span style=\"color: #7f7f7f; text-decoration-color: #7f7f7f\">             </span>\n",
       "<span style=\"color: #7fbfbf; text-decoration-color: #7fbfbf\">           </span>                 <span style=\"color: #008000; text-decoration-color: #008000\">\"early-inlining-insns\"</span>: <span style=\"color: #008080; text-decoration-color: #008080; font-weight: bold\">930</span>,                        <span style=\"color: #7f7f7f; text-decoration-color: #7f7f7f\">             </span>\n",
       "<span style=\"color: #7fbfbf; text-decoration-color: #7fbfbf\">           </span>                 <span style=\"color: #008000; text-decoration-color: #008000\">\"gcse-cost-distance-ratio\"</span>: <span style=\"color: #008080; text-decoration-color: #008080; font-weight: bold\">7</span>,                      <span style=\"color: #7f7f7f; text-decoration-color: #7f7f7f\">             </span>\n",
       "<span style=\"color: #7fbfbf; text-decoration-color: #7fbfbf\">           </span>                 <span style=\"color: #008000; text-decoration-color: #008000\">\"iv-max-considered-uses\"</span>: <span style=\"color: #008080; text-decoration-color: #008080; font-weight: bold\">896</span>                       <span style=\"color: #7f7f7f; text-decoration-color: #7f7f7f\">             </span>\n",
       "<span style=\"color: #7fbfbf; text-decoration-color: #7fbfbf\">           </span>             <span style=\"font-weight: bold\">}</span>,                                                      <span style=\"color: #7f7f7f; text-decoration-color: #7f7f7f\">             </span>\n",
       "<span style=\"color: #7fbfbf; text-decoration-color: #7fbfbf\">           </span>             <span style=\"color: #008000; text-decoration-color: #008000\">\"requestor\"</span>: <span style=\"color: #008000; text-decoration-color: #008000\">\"SkoptBayesianAlgorithm\"</span>,                  <span style=\"color: #7f7f7f; text-decoration-color: #7f7f7f\">             </span>\n",
       "<span style=\"color: #7fbfbf; text-decoration-color: #7fbfbf\">           </span>             <span style=\"color: #008000; text-decoration-color: #008000\">\"create_timestamp\"</span>: <span style=\"color: #008080; text-decoration-color: #008080; font-weight: bold\">1645690619.348417</span>,                  <span style=\"color: #7f7f7f; text-decoration-color: #7f7f7f\">             </span>\n",
       "<span style=\"color: #7fbfbf; text-decoration-color: #7fbfbf\">           </span>             <span style=\"color: #008000; text-decoration-color: #008000\">\"finish_timestamp\"</span>: null                                <span style=\"color: #7f7f7f; text-decoration-color: #7f7f7f\">             </span>\n",
       "<span style=\"color: #7fbfbf; text-decoration-color: #7fbfbf\">           </span>         <span style=\"font-weight: bold\">})</span>                                                          <span style=\"color: #7f7f7f; text-decoration-color: #7f7f7f\">             </span>\n",
       "</pre>\n"
      ],
      "text/plain": [
       "\u001b[2;36m          \u001b[0m\u001b[2;36m \u001b[0m\u001b[34mINFO    \u001b[0m Trying experiment: \u001b[1;35mExperiment\u001b[0m\u001b[1m(\u001b[0m\u001b[1m{\u001b[0m                             \u001b[2mrunner.py\u001b[0m\u001b[2m:\u001b[0m\u001b[2m156\u001b[0m\n",
       "\u001b[2;36m           \u001b[0m             \u001b[32m\"id\"\u001b[0m: \u001b[1;36m6\u001b[0m,                                                \u001b[2m             \u001b[0m\n",
       "\u001b[2;36m           \u001b[0m             \u001b[32m\"job_id\"\u001b[0m: \u001b[1;36m1\u001b[0m,                                            \u001b[2m             \u001b[0m\n",
       "\u001b[2;36m           \u001b[0m             \u001b[32m\"state\"\u001b[0m: \u001b[32m\"WIP\"\u001b[0m,                                         \u001b[2m             \u001b[0m\n",
       "\u001b[2;36m           \u001b[0m             \u001b[32m\"hash\"\u001b[0m: null,                                           \u001b[2m             \u001b[0m\n",
       "\u001b[2;36m           \u001b[0m             \u001b[32m\"objective_result\"\u001b[0m: null,                               \u001b[2m             \u001b[0m\n",
       "\u001b[2;36m           \u001b[0m             \u001b[32m\"params\"\u001b[0m: \u001b[1m{\u001b[0m                                             \u001b[2m             \u001b[0m\n",
       "\u001b[2;36m           \u001b[0m                 \u001b[32m\"-O\"\u001b[0m: \u001b[32m\"-O1\"\u001b[0m,                                        \u001b[2m             \u001b[0m\n",
       "\u001b[2;36m           \u001b[0m                 \u001b[32m\"align-functions\"\u001b[0m: \u001b[32m\"-falign-functions\"\u001b[0m,             \u001b[2m             \u001b[0m\n",
       "\u001b[2;36m           \u001b[0m                 \u001b[32m\"align-jumps\"\u001b[0m: null,                                \u001b[2m             \u001b[0m\n",
       "\u001b[2;36m           \u001b[0m                 \u001b[32m\"align-labels\"\u001b[0m: \u001b[32m\"-fno-align-labels\"\u001b[0m,                \u001b[2m             \u001b[0m\n",
       "\u001b[2;36m           \u001b[0m                 \u001b[32m\"asynchronous-unwind-tables\"\u001b[0m: null,                 \u001b[2m             \u001b[0m\n",
       "\u001b[2;36m           \u001b[0m                 \u001b[32m\"branch-count-reg\"\u001b[0m: \u001b[32m\"-fno-branch-count-reg\"\u001b[0m,        \u001b[2m             \u001b[0m\n",
       "\u001b[2;36m           \u001b[0m                 \u001b[32m\"branch-probabilities\"\u001b[0m: null,                       \u001b[2m             \u001b[0m\n",
       "\u001b[2;36m           \u001b[0m                 \u001b[32m\"early-inlining-insns\"\u001b[0m: \u001b[1;36m930\u001b[0m,                        \u001b[2m             \u001b[0m\n",
       "\u001b[2;36m           \u001b[0m                 \u001b[32m\"gcse-cost-distance-ratio\"\u001b[0m: \u001b[1;36m7\u001b[0m,                      \u001b[2m             \u001b[0m\n",
       "\u001b[2;36m           \u001b[0m                 \u001b[32m\"iv-max-considered-uses\"\u001b[0m: \u001b[1;36m896\u001b[0m                       \u001b[2m             \u001b[0m\n",
       "\u001b[2;36m           \u001b[0m             \u001b[1m}\u001b[0m,                                                      \u001b[2m             \u001b[0m\n",
       "\u001b[2;36m           \u001b[0m             \u001b[32m\"requestor\"\u001b[0m: \u001b[32m\"SkoptBayesianAlgorithm\"\u001b[0m,                  \u001b[2m             \u001b[0m\n",
       "\u001b[2;36m           \u001b[0m             \u001b[32m\"create_timestamp\"\u001b[0m: \u001b[1;36m1645690619.348417\u001b[0m,                  \u001b[2m             \u001b[0m\n",
       "\u001b[2;36m           \u001b[0m             \u001b[32m\"finish_timestamp\"\u001b[0m: null                                \u001b[2m             \u001b[0m\n",
       "\u001b[2;36m           \u001b[0m         \u001b[1m}\u001b[0m\u001b[1m)\u001b[0m                                                          \u001b[2m             \u001b[0m\n"
      ]
     },
     "metadata": {},
     "output_type": "display_data"
    },
    {
     "data": {
      "text/html": [
       "<pre style=\"white-space:pre;overflow-x:auto;line-height:normal;font-family:Menlo,'DejaVu Sans Mono',consolas,'Courier New',monospace\"><span style=\"color: #7fbfbf; text-decoration-color: #7fbfbf\">           </span><span style=\"color: #008000; text-decoration-color: #008000\">DEBUG   </span> RUN COMMAND:                                                 <span style=\"color: #7f7f7f; text-decoration-color: #7f7f7f\">runner.py:79</span>\n",
       "<span style=\"color: #7fbfbf; text-decoration-color: #7fbfbf\">           </span>         <span style=\"color: #008080; text-decoration-color: #008080; font-weight: bold\">gtime -f </span><span style=\"color: #008000; text-decoration-color: #008000\">'%e'</span><span style=\"color: #008080; text-decoration-color: #008080; font-weight: bold\"> g++</span><span style=\"color: #008080; text-decoration-color: #008080; font-weight: bold\">-11</span><span style=\"color: #008080; text-decoration-color: #008080; font-weight: bold\"> -o </span><span style=\"color: #800080; text-decoration-color: #800080; font-weight: bold\">/Users/qnbhd/Development/gimeltune/ex</span> <span style=\"color: #7f7f7f; text-decoration-color: #7f7f7f\">            </span>\n",
       "<span style=\"color: #7fbfbf; text-decoration-color: #7fbfbf\">           </span>         <span style=\"color: #800080; text-decoration-color: #800080; font-weight: bold\">amples/gcc/</span><span style=\"color: #ff00ff; text-decoration-color: #ff00ff; font-weight: bold\">fa99cd7f0ac826a027d8e2a18815b6af7c86804d763675838</span> <span style=\"color: #7f7f7f; text-decoration-color: #7f7f7f\">            </span>\n",
       "<span style=\"color: #7fbfbf; text-decoration-color: #7fbfbf\">           </span>         <span style=\"color: #ff00ff; text-decoration-color: #ff00ff; font-weight: bold\">2038f7c80c870b383995.out</span><span style=\"color: #008080; text-decoration-color: #008080; font-weight: bold\"> </span><span style=\"color: #800080; text-decoration-color: #800080; font-weight: bold\">/Users/qnbhd/Development/gimeltune/e</span> <span style=\"color: #7f7f7f; text-decoration-color: #7f7f7f\">            </span>\n",
       "<span style=\"color: #7fbfbf; text-decoration-color: #7fbfbf\">           </span>         <span style=\"color: #800080; text-decoration-color: #800080; font-weight: bold\">xamples/gcc/raytracer/</span><span style=\"color: #ff00ff; text-decoration-color: #ff00ff; font-weight: bold\">raytracer.cpp</span><span style=\"color: #008080; text-decoration-color: #008080; font-weight: bold\"> -O1 -falign-functions  </span>  <span style=\"color: #7f7f7f; text-decoration-color: #7f7f7f\">            </span>\n",
       "<span style=\"color: #7fbfbf; text-decoration-color: #7fbfbf\">           </span>         <span style=\"color: #008080; text-decoration-color: #008080; font-weight: bold\">-fno-align-labels  -fno-branch-count-reg  --param </span>           <span style=\"color: #7f7f7f; text-decoration-color: #7f7f7f\">            </span>\n",
       "<span style=\"color: #7fbfbf; text-decoration-color: #7fbfbf\">           </span>         <span style=\"color: #008080; text-decoration-color: #008080; font-weight: bold\">early-inlining-</span><span style=\"color: #808000; text-decoration-color: #808000; font-weight: bold\">insns</span><span style=\"color: #008080; text-decoration-color: #008080; font-weight: bold\">=</span><span style=\"color: #008080; text-decoration-color: #008080; font-weight: bold\">930</span><span style=\"color: #008080; text-decoration-color: #008080; font-weight: bold\"> --param gcse-cost-distance-</span><span style=\"color: #808000; text-decoration-color: #808000; font-weight: bold\">ratio</span><span style=\"color: #008080; text-decoration-color: #008080; font-weight: bold\">=</span><span style=\"color: #008080; text-decoration-color: #008080; font-weight: bold\">7</span><span style=\"color: #008080; text-decoration-color: #008080; font-weight: bold\"> </span> <span style=\"color: #7f7f7f; text-decoration-color: #7f7f7f\">            </span>\n",
       "<span style=\"color: #7fbfbf; text-decoration-color: #7fbfbf\">           </span>         <span style=\"color: #008080; text-decoration-color: #008080; font-weight: bold\">--param iv-max-considered-</span><span style=\"color: #808000; text-decoration-color: #808000; font-weight: bold\">uses</span><span style=\"color: #008080; text-decoration-color: #008080; font-weight: bold\">=</span><span style=\"color: #008080; text-decoration-color: #008080; font-weight: bold\">896</span><span style=\"color: #008080; text-decoration-color: #008080; font-weight: bold\"> </span><span style=\"color: #008080; text-decoration-color: #008080; font-weight: bold\">2</span><span style=\"color: #008080; text-decoration-color: #008080; font-weight: bold\">&gt;&amp;</span><span style=\"color: #008080; text-decoration-color: #008080; font-weight: bold\">1</span>                      <span style=\"color: #7f7f7f; text-decoration-color: #7f7f7f\">            </span>\n",
       "</pre>\n"
      ],
      "text/plain": [
       "\u001b[2;36m          \u001b[0m\u001b[2;36m \u001b[0m\u001b[32mDEBUG   \u001b[0m RUN COMMAND:                                                 \u001b[2mrunner.py\u001b[0m\u001b[2m:\u001b[0m\u001b[2m79\u001b[0m\n",
       "\u001b[2;36m           \u001b[0m         \u001b[1;36mgtime -f \u001b[0m\u001b[32m'%e'\u001b[0m\u001b[1;36m g++\u001b[0m\u001b[1;36m-11\u001b[0m\u001b[1;36m -o \u001b[0m\u001b[1;35m/Users/qnbhd/Development/gimeltune/ex\u001b[0m \u001b[2m            \u001b[0m\n",
       "\u001b[2;36m           \u001b[0m         \u001b[1;35mamples/gcc/\u001b[0m\u001b[1;95mfa99cd7f0ac826a027d8e2a18815b6af7c86804d763675838\u001b[0m \u001b[2m            \u001b[0m\n",
       "\u001b[2;36m           \u001b[0m         \u001b[1;95m2038f7c80c870b383995.out\u001b[0m\u001b[1;36m \u001b[0m\u001b[1;35m/Users/qnbhd/Development/gimeltune/e\u001b[0m \u001b[2m            \u001b[0m\n",
       "\u001b[2;36m           \u001b[0m         \u001b[1;35mxamples/gcc/raytracer/\u001b[0m\u001b[1;95mraytracer.cpp\u001b[0m\u001b[1;36m -O1 -falign-functions  \u001b[0m  \u001b[2m            \u001b[0m\n",
       "\u001b[2;36m           \u001b[0m         \u001b[1;36m-fno-align-labels  -fno-branch-count-reg  --param \u001b[0m           \u001b[2m            \u001b[0m\n",
       "\u001b[2;36m           \u001b[0m         \u001b[1;36mearly-inlining-\u001b[0m\u001b[1;33minsns\u001b[0m\u001b[1;36m=\u001b[0m\u001b[1;36m930\u001b[0m\u001b[1;36m --param gcse-cost-distance-\u001b[0m\u001b[1;33mratio\u001b[0m\u001b[1;36m=\u001b[0m\u001b[1;36m7\u001b[0m\u001b[1;36m \u001b[0m \u001b[2m            \u001b[0m\n",
       "\u001b[2;36m           \u001b[0m         \u001b[1;36m--param iv-max-considered-\u001b[0m\u001b[1;33muses\u001b[0m\u001b[1;36m=\u001b[0m\u001b[1;36m896\u001b[0m\u001b[1;36m \u001b[0m\u001b[1;36m2\u001b[0m\u001b[1;36m>&\u001b[0m\u001b[1;36m1\u001b[0m                      \u001b[2m            \u001b[0m\n"
      ]
     },
     "metadata": {},
     "output_type": "display_data"
    },
    {
     "data": {
      "text/html": [
       "<pre style=\"white-space:pre;overflow-x:auto;line-height:normal;font-family:Menlo,'DejaVu Sans Mono',consolas,'Courier New',monospace\"><span style=\"color: #7fbfbf; text-decoration-color: #7fbfbf\">           </span><span style=\"color: #000080; text-decoration-color: #000080\">INFO    </span> <span style=\"color: #808000; text-decoration-color: #808000; font-weight: bold\">OUT: </span><span style=\"color: #008080; text-decoration-color: #008080; font-weight: bold\">0.78</span>                                                    <span style=\"color: #7f7f7f; text-decoration-color: #7f7f7f\">runner.py:85</span>\n",
       "</pre>\n"
      ],
      "text/plain": [
       "\u001b[2;36m          \u001b[0m\u001b[2;36m \u001b[0m\u001b[34mINFO    \u001b[0m \u001b[1;33mOUT: \u001b[0m\u001b[1;36m0.78\u001b[0m                                                    \u001b[2mrunner.py\u001b[0m\u001b[2m:\u001b[0m\u001b[2m85\u001b[0m\n"
      ]
     },
     "metadata": {},
     "output_type": "display_data"
    },
    {
     "data": {
      "text/html": [
       "<pre style=\"white-space:pre;overflow-x:auto;line-height:normal;font-family:Menlo,'DejaVu Sans Mono',consolas,'Courier New',monospace\"><span style=\"color: #7fbfbf; text-decoration-color: #7fbfbf\">           </span><span style=\"color: #008000; text-decoration-color: #008000\">DEBUG   </span> RUN COMMAND:                                                 <span style=\"color: #7f7f7f; text-decoration-color: #7f7f7f\">runner.py:79</span>\n",
       "<span style=\"color: #7fbfbf; text-decoration-color: #7fbfbf\">           </span>         <span style=\"color: #008080; text-decoration-color: #008080; font-weight: bold\">wc -c </span><span style=\"color: #800080; text-decoration-color: #800080; font-weight: bold\">/Users/qnbhd/Development/gimeltune/examples/gcc/</span><span style=\"color: #ff00ff; text-decoration-color: #ff00ff; font-weight: bold\">fa99cd7</span> <span style=\"color: #7f7f7f; text-decoration-color: #7f7f7f\">            </span>\n",
       "<span style=\"color: #7fbfbf; text-decoration-color: #7fbfbf\">           </span>         <span style=\"color: #ff00ff; text-decoration-color: #ff00ff; font-weight: bold\">f0ac826a027d8e2a18815b6af7c86804d7636758382038f7c80c870b3839</span> <span style=\"color: #7f7f7f; text-decoration-color: #7f7f7f\">            </span>\n",
       "<span style=\"color: #7fbfbf; text-decoration-color: #7fbfbf\">           </span>         <span style=\"color: #ff00ff; text-decoration-color: #ff00ff; font-weight: bold\">95.out</span><span style=\"color: #008080; text-decoration-color: #008080; font-weight: bold\"> | awk </span><span style=\"color: #008000; text-decoration-color: #008000\">'{print $1}'</span>                                    <span style=\"color: #7f7f7f; text-decoration-color: #7f7f7f\">            </span>\n",
       "</pre>\n"
      ],
      "text/plain": [
       "\u001b[2;36m          \u001b[0m\u001b[2;36m \u001b[0m\u001b[32mDEBUG   \u001b[0m RUN COMMAND:                                                 \u001b[2mrunner.py\u001b[0m\u001b[2m:\u001b[0m\u001b[2m79\u001b[0m\n",
       "\u001b[2;36m           \u001b[0m         \u001b[1;36mwc -c \u001b[0m\u001b[1;35m/Users/qnbhd/Development/gimeltune/examples/gcc/\u001b[0m\u001b[1;95mfa99cd7\u001b[0m \u001b[2m            \u001b[0m\n",
       "\u001b[2;36m           \u001b[0m         \u001b[1;95mf0ac826a027d8e2a18815b6af7c86804d7636758382038f7c80c870b3839\u001b[0m \u001b[2m            \u001b[0m\n",
       "\u001b[2;36m           \u001b[0m         \u001b[1;95m95.out\u001b[0m\u001b[1;36m | awk \u001b[0m\u001b[32m'\u001b[0m\u001b[32m{\u001b[0m\u001b[32mprint $1\u001b[0m\u001b[32m}\u001b[0m\u001b[32m'\u001b[0m                                    \u001b[2m            \u001b[0m\n"
      ]
     },
     "metadata": {},
     "output_type": "display_data"
    },
    {
     "data": {
      "text/html": [
       "<pre style=\"white-space:pre;overflow-x:auto;line-height:normal;font-family:Menlo,'DejaVu Sans Mono',consolas,'Courier New',monospace\"><span style=\"color: #7fbfbf; text-decoration-color: #7fbfbf\">           </span><span style=\"color: #000080; text-decoration-color: #000080\">INFO    </span> <span style=\"color: #808000; text-decoration-color: #808000; font-weight: bold\">OUT: </span><span style=\"color: #008080; text-decoration-color: #008080; font-weight: bold\">51576</span>                                                   <span style=\"color: #7f7f7f; text-decoration-color: #7f7f7f\">runner.py:85</span>\n",
       "</pre>\n"
      ],
      "text/plain": [
       "\u001b[2;36m          \u001b[0m\u001b[2;36m \u001b[0m\u001b[34mINFO    \u001b[0m \u001b[1;33mOUT: \u001b[0m\u001b[1;36m51576\u001b[0m                                                   \u001b[2mrunner.py\u001b[0m\u001b[2m:\u001b[0m\u001b[2m85\u001b[0m\n"
      ]
     },
     "metadata": {},
     "output_type": "display_data"
    },
    {
     "data": {
      "text/html": [
       "<pre style=\"white-space:pre;overflow-x:auto;line-height:normal;font-family:Menlo,'DejaVu Sans Mono',consolas,'Courier New',monospace\"><span style=\"color: #7fbfbf; text-decoration-color: #7fbfbf\">           </span><span style=\"color: #008000; text-decoration-color: #008000\">DEBUG   </span> RUN COMMAND:                                                 <span style=\"color: #7f7f7f; text-decoration-color: #7f7f7f\">runner.py:79</span>\n",
       "<span style=\"color: #7fbfbf; text-decoration-color: #7fbfbf\">           </span>         <span style=\"color: #008080; text-decoration-color: #008080; font-weight: bold\">gtime -f </span><span style=\"color: #008000; text-decoration-color: #008000\">'%e'</span><span style=\"color: #008080; text-decoration-color: #008080; font-weight: bold\"> </span><span style=\"color: #800080; text-decoration-color: #800080; font-weight: bold\">/Users/qnbhd/Development/gimeltune/examples/gcc</span> <span style=\"color: #7f7f7f; text-decoration-color: #7f7f7f\">            </span>\n",
       "<span style=\"color: #7fbfbf; text-decoration-color: #7fbfbf\">           </span>         <span style=\"color: #800080; text-decoration-color: #800080; font-weight: bold\">/</span><span style=\"color: #ff00ff; text-decoration-color: #ff00ff; font-weight: bold\">fa99cd7f0ac826a027d8e2a18815b6af7c86804d7636758382038f7c80c</span> <span style=\"color: #7f7f7f; text-decoration-color: #7f7f7f\">            </span>\n",
       "<span style=\"color: #7fbfbf; text-decoration-color: #7fbfbf\">           </span>         <span style=\"color: #ff00ff; text-decoration-color: #ff00ff; font-weight: bold\">870b383995.out</span><span style=\"color: #008080; text-decoration-color: #008080; font-weight: bold\"> </span><span style=\"color: #008080; text-decoration-color: #008080; font-weight: bold\">2</span><span style=\"color: #008080; text-decoration-color: #008080; font-weight: bold\">&gt;&amp;</span><span style=\"color: #008080; text-decoration-color: #008080; font-weight: bold\">1</span>                                          <span style=\"color: #7f7f7f; text-decoration-color: #7f7f7f\">            </span>\n",
       "</pre>\n"
      ],
      "text/plain": [
       "\u001b[2;36m          \u001b[0m\u001b[2;36m \u001b[0m\u001b[32mDEBUG   \u001b[0m RUN COMMAND:                                                 \u001b[2mrunner.py\u001b[0m\u001b[2m:\u001b[0m\u001b[2m79\u001b[0m\n",
       "\u001b[2;36m           \u001b[0m         \u001b[1;36mgtime -f \u001b[0m\u001b[32m'%e'\u001b[0m\u001b[1;36m \u001b[0m\u001b[1;35m/Users/qnbhd/Development/gimeltune/examples/gcc\u001b[0m \u001b[2m            \u001b[0m\n",
       "\u001b[2;36m           \u001b[0m         \u001b[1;35m/\u001b[0m\u001b[1;95mfa99cd7f0ac826a027d8e2a18815b6af7c86804d7636758382038f7c80c\u001b[0m \u001b[2m            \u001b[0m\n",
       "\u001b[2;36m           \u001b[0m         \u001b[1;95m870b383995.out\u001b[0m\u001b[1;36m \u001b[0m\u001b[1;36m2\u001b[0m\u001b[1;36m>&\u001b[0m\u001b[1;36m1\u001b[0m                                          \u001b[2m            \u001b[0m\n"
      ]
     },
     "metadata": {},
     "output_type": "display_data"
    },
    {
     "data": {
      "text/html": [
       "<pre style=\"white-space:pre;overflow-x:auto;line-height:normal;font-family:Menlo,'DejaVu Sans Mono',consolas,'Courier New',monospace\"><span style=\"color: #7fbfbf; text-decoration-color: #7fbfbf\">[11:17:02] </span><span style=\"color: #000080; text-decoration-color: #000080\">INFO    </span> <span style=\"color: #808000; text-decoration-color: #808000; font-weight: bold\">OUT: </span><span style=\"color: #008080; text-decoration-color: #008080; font-weight: bold\">0.31</span>                                                    <span style=\"color: #7f7f7f; text-decoration-color: #7f7f7f\">runner.py:85</span>\n",
       "</pre>\n"
      ],
      "text/plain": [
       "\u001b[2;36m[11:17:02]\u001b[0m\u001b[2;36m \u001b[0m\u001b[34mINFO    \u001b[0m \u001b[1;33mOUT: \u001b[0m\u001b[1;36m0.31\u001b[0m                                                    \u001b[2mrunner.py\u001b[0m\u001b[2m:\u001b[0m\u001b[2m85\u001b[0m\n"
      ]
     },
     "metadata": {},
     "output_type": "display_data"
    },
    {
     "data": {
      "text/html": [
       "<pre style=\"white-space:pre;overflow-x:auto;line-height:normal;font-family:Menlo,'DejaVu Sans Mono',consolas,'Courier New',monospace\"><span style=\"color: #7fbfbf; text-decoration-color: #7fbfbf\">           </span><span style=\"color: #008000; text-decoration-color: #008000\">DEBUG   </span> RUN COMMAND:                                                 <span style=\"color: #7f7f7f; text-decoration-color: #7f7f7f\">runner.py:79</span>\n",
       "<span style=\"color: #7fbfbf; text-decoration-color: #7fbfbf\">           </span>         <span style=\"color: #008080; text-decoration-color: #008080; font-weight: bold\">gtime -f </span><span style=\"color: #008000; text-decoration-color: #008000\">'%e'</span><span style=\"color: #008080; text-decoration-color: #008080; font-weight: bold\"> </span><span style=\"color: #800080; text-decoration-color: #800080; font-weight: bold\">/Users/qnbhd/Development/gimeltune/examples/gcc</span> <span style=\"color: #7f7f7f; text-decoration-color: #7f7f7f\">            </span>\n",
       "<span style=\"color: #7fbfbf; text-decoration-color: #7fbfbf\">           </span>         <span style=\"color: #800080; text-decoration-color: #800080; font-weight: bold\">/</span><span style=\"color: #ff00ff; text-decoration-color: #ff00ff; font-weight: bold\">fa99cd7f0ac826a027d8e2a18815b6af7c86804d7636758382038f7c80c</span> <span style=\"color: #7f7f7f; text-decoration-color: #7f7f7f\">            </span>\n",
       "<span style=\"color: #7fbfbf; text-decoration-color: #7fbfbf\">           </span>         <span style=\"color: #ff00ff; text-decoration-color: #ff00ff; font-weight: bold\">870b383995.out</span><span style=\"color: #008080; text-decoration-color: #008080; font-weight: bold\"> </span><span style=\"color: #008080; text-decoration-color: #008080; font-weight: bold\">2</span><span style=\"color: #008080; text-decoration-color: #008080; font-weight: bold\">&gt;&amp;</span><span style=\"color: #008080; text-decoration-color: #008080; font-weight: bold\">1</span>                                          <span style=\"color: #7f7f7f; text-decoration-color: #7f7f7f\">            </span>\n",
       "</pre>\n"
      ],
      "text/plain": [
       "\u001b[2;36m          \u001b[0m\u001b[2;36m \u001b[0m\u001b[32mDEBUG   \u001b[0m RUN COMMAND:                                                 \u001b[2mrunner.py\u001b[0m\u001b[2m:\u001b[0m\u001b[2m79\u001b[0m\n",
       "\u001b[2;36m           \u001b[0m         \u001b[1;36mgtime -f \u001b[0m\u001b[32m'%e'\u001b[0m\u001b[1;36m \u001b[0m\u001b[1;35m/Users/qnbhd/Development/gimeltune/examples/gcc\u001b[0m \u001b[2m            \u001b[0m\n",
       "\u001b[2;36m           \u001b[0m         \u001b[1;35m/\u001b[0m\u001b[1;95mfa99cd7f0ac826a027d8e2a18815b6af7c86804d7636758382038f7c80c\u001b[0m \u001b[2m            \u001b[0m\n",
       "\u001b[2;36m           \u001b[0m         \u001b[1;95m870b383995.out\u001b[0m\u001b[1;36m \u001b[0m\u001b[1;36m2\u001b[0m\u001b[1;36m>&\u001b[0m\u001b[1;36m1\u001b[0m                                          \u001b[2m            \u001b[0m\n"
      ]
     },
     "metadata": {},
     "output_type": "display_data"
    },
    {
     "data": {
      "text/html": [
       "<pre style=\"white-space:pre;overflow-x:auto;line-height:normal;font-family:Menlo,'DejaVu Sans Mono',consolas,'Courier New',monospace\"><span style=\"color: #7fbfbf; text-decoration-color: #7fbfbf\">           </span><span style=\"color: #000080; text-decoration-color: #000080\">INFO    </span> <span style=\"color: #808000; text-decoration-color: #808000; font-weight: bold\">OUT: </span><span style=\"color: #008080; text-decoration-color: #008080; font-weight: bold\">0.13</span>                                                    <span style=\"color: #7f7f7f; text-decoration-color: #7f7f7f\">runner.py:85</span>\n",
       "</pre>\n"
      ],
      "text/plain": [
       "\u001b[2;36m          \u001b[0m\u001b[2;36m \u001b[0m\u001b[34mINFO    \u001b[0m \u001b[1;33mOUT: \u001b[0m\u001b[1;36m0.13\u001b[0m                                                    \u001b[2mrunner.py\u001b[0m\u001b[2m:\u001b[0m\u001b[2m85\u001b[0m\n"
      ]
     },
     "metadata": {},
     "output_type": "display_data"
    },
    {
     "data": {
      "text/html": [
       "<pre style=\"white-space:pre;overflow-x:auto;line-height:normal;font-family:Menlo,'DejaVu Sans Mono',consolas,'Courier New',monospace\"><span style=\"color: #7fbfbf; text-decoration-color: #7fbfbf\">           </span><span style=\"color: #008000; text-decoration-color: #008000\">DEBUG   </span> RUN COMMAND:                                                 <span style=\"color: #7f7f7f; text-decoration-color: #7f7f7f\">runner.py:79</span>\n",
       "<span style=\"color: #7fbfbf; text-decoration-color: #7fbfbf\">           </span>         <span style=\"color: #008080; text-decoration-color: #008080; font-weight: bold\">gtime -f </span><span style=\"color: #008000; text-decoration-color: #008000\">'%e'</span><span style=\"color: #008080; text-decoration-color: #008080; font-weight: bold\"> </span><span style=\"color: #800080; text-decoration-color: #800080; font-weight: bold\">/Users/qnbhd/Development/gimeltune/examples/gcc</span> <span style=\"color: #7f7f7f; text-decoration-color: #7f7f7f\">            </span>\n",
       "<span style=\"color: #7fbfbf; text-decoration-color: #7fbfbf\">           </span>         <span style=\"color: #800080; text-decoration-color: #800080; font-weight: bold\">/</span><span style=\"color: #ff00ff; text-decoration-color: #ff00ff; font-weight: bold\">fa99cd7f0ac826a027d8e2a18815b6af7c86804d7636758382038f7c80c</span> <span style=\"color: #7f7f7f; text-decoration-color: #7f7f7f\">            </span>\n",
       "<span style=\"color: #7fbfbf; text-decoration-color: #7fbfbf\">           </span>         <span style=\"color: #ff00ff; text-decoration-color: #ff00ff; font-weight: bold\">870b383995.out</span><span style=\"color: #008080; text-decoration-color: #008080; font-weight: bold\"> </span><span style=\"color: #008080; text-decoration-color: #008080; font-weight: bold\">2</span><span style=\"color: #008080; text-decoration-color: #008080; font-weight: bold\">&gt;&amp;</span><span style=\"color: #008080; text-decoration-color: #008080; font-weight: bold\">1</span>                                          <span style=\"color: #7f7f7f; text-decoration-color: #7f7f7f\">            </span>\n",
       "</pre>\n"
      ],
      "text/plain": [
       "\u001b[2;36m          \u001b[0m\u001b[2;36m \u001b[0m\u001b[32mDEBUG   \u001b[0m RUN COMMAND:                                                 \u001b[2mrunner.py\u001b[0m\u001b[2m:\u001b[0m\u001b[2m79\u001b[0m\n",
       "\u001b[2;36m           \u001b[0m         \u001b[1;36mgtime -f \u001b[0m\u001b[32m'%e'\u001b[0m\u001b[1;36m \u001b[0m\u001b[1;35m/Users/qnbhd/Development/gimeltune/examples/gcc\u001b[0m \u001b[2m            \u001b[0m\n",
       "\u001b[2;36m           \u001b[0m         \u001b[1;35m/\u001b[0m\u001b[1;95mfa99cd7f0ac826a027d8e2a18815b6af7c86804d7636758382038f7c80c\u001b[0m \u001b[2m            \u001b[0m\n",
       "\u001b[2;36m           \u001b[0m         \u001b[1;95m870b383995.out\u001b[0m\u001b[1;36m \u001b[0m\u001b[1;36m2\u001b[0m\u001b[1;36m>&\u001b[0m\u001b[1;36m1\u001b[0m                                          \u001b[2m            \u001b[0m\n"
      ]
     },
     "metadata": {},
     "output_type": "display_data"
    },
    {
     "data": {
      "text/html": [
       "<pre style=\"white-space:pre;overflow-x:auto;line-height:normal;font-family:Menlo,'DejaVu Sans Mono',consolas,'Courier New',monospace\"><span style=\"color: #7fbfbf; text-decoration-color: #7fbfbf\">           </span><span style=\"color: #000080; text-decoration-color: #000080\">INFO    </span> <span style=\"color: #808000; text-decoration-color: #808000; font-weight: bold\">OUT: </span><span style=\"color: #008080; text-decoration-color: #008080; font-weight: bold\">0.13</span>                                                    <span style=\"color: #7f7f7f; text-decoration-color: #7f7f7f\">runner.py:85</span>\n",
       "</pre>\n"
      ],
      "text/plain": [
       "\u001b[2;36m          \u001b[0m\u001b[2;36m \u001b[0m\u001b[34mINFO    \u001b[0m \u001b[1;33mOUT: \u001b[0m\u001b[1;36m0.13\u001b[0m                                                    \u001b[2mrunner.py\u001b[0m\u001b[2m:\u001b[0m\u001b[2m85\u001b[0m\n"
      ]
     },
     "metadata": {},
     "output_type": "display_data"
    },
    {
     "data": {
      "text/html": [
       "<pre style=\"white-space:pre;overflow-x:auto;line-height:normal;font-family:Menlo,'DejaVu Sans Mono',consolas,'Courier New',monospace\"><span style=\"color: #7fbfbf; text-decoration-color: #7fbfbf\">           </span><span style=\"color: #008000; text-decoration-color: #008000\">DEBUG   </span> RUN COMMAND:                                                 <span style=\"color: #7f7f7f; text-decoration-color: #7f7f7f\">runner.py:79</span>\n",
       "<span style=\"color: #7fbfbf; text-decoration-color: #7fbfbf\">           </span>         <span style=\"color: #008080; text-decoration-color: #008080; font-weight: bold\">gtime -f </span><span style=\"color: #008000; text-decoration-color: #008000\">'%e'</span><span style=\"color: #008080; text-decoration-color: #008080; font-weight: bold\"> </span><span style=\"color: #800080; text-decoration-color: #800080; font-weight: bold\">/Users/qnbhd/Development/gimeltune/examples/gcc</span> <span style=\"color: #7f7f7f; text-decoration-color: #7f7f7f\">            </span>\n",
       "<span style=\"color: #7fbfbf; text-decoration-color: #7fbfbf\">           </span>         <span style=\"color: #800080; text-decoration-color: #800080; font-weight: bold\">/</span><span style=\"color: #ff00ff; text-decoration-color: #ff00ff; font-weight: bold\">fa99cd7f0ac826a027d8e2a18815b6af7c86804d7636758382038f7c80c</span> <span style=\"color: #7f7f7f; text-decoration-color: #7f7f7f\">            </span>\n",
       "<span style=\"color: #7fbfbf; text-decoration-color: #7fbfbf\">           </span>         <span style=\"color: #ff00ff; text-decoration-color: #ff00ff; font-weight: bold\">870b383995.out</span><span style=\"color: #008080; text-decoration-color: #008080; font-weight: bold\"> </span><span style=\"color: #008080; text-decoration-color: #008080; font-weight: bold\">2</span><span style=\"color: #008080; text-decoration-color: #008080; font-weight: bold\">&gt;&amp;</span><span style=\"color: #008080; text-decoration-color: #008080; font-weight: bold\">1</span>                                          <span style=\"color: #7f7f7f; text-decoration-color: #7f7f7f\">            </span>\n",
       "</pre>\n"
      ],
      "text/plain": [
       "\u001b[2;36m          \u001b[0m\u001b[2;36m \u001b[0m\u001b[32mDEBUG   \u001b[0m RUN COMMAND:                                                 \u001b[2mrunner.py\u001b[0m\u001b[2m:\u001b[0m\u001b[2m79\u001b[0m\n",
       "\u001b[2;36m           \u001b[0m         \u001b[1;36mgtime -f \u001b[0m\u001b[32m'%e'\u001b[0m\u001b[1;36m \u001b[0m\u001b[1;35m/Users/qnbhd/Development/gimeltune/examples/gcc\u001b[0m \u001b[2m            \u001b[0m\n",
       "\u001b[2;36m           \u001b[0m         \u001b[1;35m/\u001b[0m\u001b[1;95mfa99cd7f0ac826a027d8e2a18815b6af7c86804d7636758382038f7c80c\u001b[0m \u001b[2m            \u001b[0m\n",
       "\u001b[2;36m           \u001b[0m         \u001b[1;95m870b383995.out\u001b[0m\u001b[1;36m \u001b[0m\u001b[1;36m2\u001b[0m\u001b[1;36m>&\u001b[0m\u001b[1;36m1\u001b[0m                                          \u001b[2m            \u001b[0m\n"
      ]
     },
     "metadata": {},
     "output_type": "display_data"
    },
    {
     "data": {
      "text/html": [
       "<pre style=\"white-space:pre;overflow-x:auto;line-height:normal;font-family:Menlo,'DejaVu Sans Mono',consolas,'Courier New',monospace\"><span style=\"color: #7fbfbf; text-decoration-color: #7fbfbf\">           </span><span style=\"color: #000080; text-decoration-color: #000080\">INFO    </span> <span style=\"color: #808000; text-decoration-color: #808000; font-weight: bold\">OUT: </span><span style=\"color: #008080; text-decoration-color: #008080; font-weight: bold\">0.13</span>                                                    <span style=\"color: #7f7f7f; text-decoration-color: #7f7f7f\">runner.py:85</span>\n",
       "</pre>\n"
      ],
      "text/plain": [
       "\u001b[2;36m          \u001b[0m\u001b[2;36m \u001b[0m\u001b[34mINFO    \u001b[0m \u001b[1;33mOUT: \u001b[0m\u001b[1;36m0.13\u001b[0m                                                    \u001b[2mrunner.py\u001b[0m\u001b[2m:\u001b[0m\u001b[2m85\u001b[0m\n"
      ]
     },
     "metadata": {},
     "output_type": "display_data"
    },
    {
     "data": {
      "text/html": [
       "<pre style=\"white-space:pre;overflow-x:auto;line-height:normal;font-family:Menlo,'DejaVu Sans Mono',consolas,'Courier New',monospace\"><span style=\"color: #7fbfbf; text-decoration-color: #7fbfbf\">           </span><span style=\"color: #008000; text-decoration-color: #008000\">DEBUG   </span> RUN COMMAND:                                                 <span style=\"color: #7f7f7f; text-decoration-color: #7f7f7f\">runner.py:79</span>\n",
       "<span style=\"color: #7fbfbf; text-decoration-color: #7fbfbf\">           </span>         <span style=\"color: #008080; text-decoration-color: #008080; font-weight: bold\">gtime -f </span><span style=\"color: #008000; text-decoration-color: #008000\">'%e'</span><span style=\"color: #008080; text-decoration-color: #008080; font-weight: bold\"> </span><span style=\"color: #800080; text-decoration-color: #800080; font-weight: bold\">/Users/qnbhd/Development/gimeltune/examples/gcc</span> <span style=\"color: #7f7f7f; text-decoration-color: #7f7f7f\">            </span>\n",
       "<span style=\"color: #7fbfbf; text-decoration-color: #7fbfbf\">           </span>         <span style=\"color: #800080; text-decoration-color: #800080; font-weight: bold\">/</span><span style=\"color: #ff00ff; text-decoration-color: #ff00ff; font-weight: bold\">fa99cd7f0ac826a027d8e2a18815b6af7c86804d7636758382038f7c80c</span> <span style=\"color: #7f7f7f; text-decoration-color: #7f7f7f\">            </span>\n",
       "<span style=\"color: #7fbfbf; text-decoration-color: #7fbfbf\">           </span>         <span style=\"color: #ff00ff; text-decoration-color: #ff00ff; font-weight: bold\">870b383995.out</span><span style=\"color: #008080; text-decoration-color: #008080; font-weight: bold\"> </span><span style=\"color: #008080; text-decoration-color: #008080; font-weight: bold\">2</span><span style=\"color: #008080; text-decoration-color: #008080; font-weight: bold\">&gt;&amp;</span><span style=\"color: #008080; text-decoration-color: #008080; font-weight: bold\">1</span>                                          <span style=\"color: #7f7f7f; text-decoration-color: #7f7f7f\">            </span>\n",
       "</pre>\n"
      ],
      "text/plain": [
       "\u001b[2;36m          \u001b[0m\u001b[2;36m \u001b[0m\u001b[32mDEBUG   \u001b[0m RUN COMMAND:                                                 \u001b[2mrunner.py\u001b[0m\u001b[2m:\u001b[0m\u001b[2m79\u001b[0m\n",
       "\u001b[2;36m           \u001b[0m         \u001b[1;36mgtime -f \u001b[0m\u001b[32m'%e'\u001b[0m\u001b[1;36m \u001b[0m\u001b[1;35m/Users/qnbhd/Development/gimeltune/examples/gcc\u001b[0m \u001b[2m            \u001b[0m\n",
       "\u001b[2;36m           \u001b[0m         \u001b[1;35m/\u001b[0m\u001b[1;95mfa99cd7f0ac826a027d8e2a18815b6af7c86804d7636758382038f7c80c\u001b[0m \u001b[2m            \u001b[0m\n",
       "\u001b[2;36m           \u001b[0m         \u001b[1;95m870b383995.out\u001b[0m\u001b[1;36m \u001b[0m\u001b[1;36m2\u001b[0m\u001b[1;36m>&\u001b[0m\u001b[1;36m1\u001b[0m                                          \u001b[2m            \u001b[0m\n"
      ]
     },
     "metadata": {},
     "output_type": "display_data"
    },
    {
     "data": {
      "text/html": [
       "<pre style=\"white-space:pre;overflow-x:auto;line-height:normal;font-family:Menlo,'DejaVu Sans Mono',consolas,'Courier New',monospace\"><span style=\"color: #7fbfbf; text-decoration-color: #7fbfbf\">           </span><span style=\"color: #000080; text-decoration-color: #000080\">INFO    </span> <span style=\"color: #808000; text-decoration-color: #808000; font-weight: bold\">OUT: </span><span style=\"color: #008080; text-decoration-color: #008080; font-weight: bold\">0.13</span>                                                    <span style=\"color: #7f7f7f; text-decoration-color: #7f7f7f\">runner.py:85</span>\n",
       "</pre>\n"
      ],
      "text/plain": [
       "\u001b[2;36m          \u001b[0m\u001b[2;36m \u001b[0m\u001b[34mINFO    \u001b[0m \u001b[1;33mOUT: \u001b[0m\u001b[1;36m0.13\u001b[0m                                                    \u001b[2mrunner.py\u001b[0m\u001b[2m:\u001b[0m\u001b[2m85\u001b[0m\n"
      ]
     },
     "metadata": {},
     "output_type": "display_data"
    },
    {
     "data": {
      "text/html": [
       "<pre style=\"white-space:pre;overflow-x:auto;line-height:normal;font-family:Menlo,'DejaVu Sans Mono',consolas,'Courier New',monospace\"><span style=\"color: #7fbfbf; text-decoration-color: #7fbfbf\">           </span><span style=\"color: #008000; text-decoration-color: #008000\">DEBUG   </span> RUN COMMAND:                                                 <span style=\"color: #7f7f7f; text-decoration-color: #7f7f7f\">runner.py:79</span>\n",
       "<span style=\"color: #7fbfbf; text-decoration-color: #7fbfbf\">           </span>         <span style=\"color: #008080; text-decoration-color: #008080; font-weight: bold\">rm </span><span style=\"color: #800080; text-decoration-color: #800080; font-weight: bold\">/Users/qnbhd/Development/gimeltune/examples/gcc/</span><span style=\"color: #ff00ff; text-decoration-color: #ff00ff; font-weight: bold\">fa99cd7f0a</span> <span style=\"color: #7f7f7f; text-decoration-color: #7f7f7f\">            </span>\n",
       "<span style=\"color: #7fbfbf; text-decoration-color: #7fbfbf\">           </span>         <span style=\"color: #ff00ff; text-decoration-color: #ff00ff; font-weight: bold\">c826a027d8e2a18815b6af7c86804d7636758382038f7c80c870b383995.</span> <span style=\"color: #7f7f7f; text-decoration-color: #7f7f7f\">            </span>\n",
       "<span style=\"color: #7fbfbf; text-decoration-color: #7fbfbf\">           </span>         <span style=\"color: #ff00ff; text-decoration-color: #ff00ff; font-weight: bold\">out</span>                                                          <span style=\"color: #7f7f7f; text-decoration-color: #7f7f7f\">            </span>\n",
       "</pre>\n"
      ],
      "text/plain": [
       "\u001b[2;36m          \u001b[0m\u001b[2;36m \u001b[0m\u001b[32mDEBUG   \u001b[0m RUN COMMAND:                                                 \u001b[2mrunner.py\u001b[0m\u001b[2m:\u001b[0m\u001b[2m79\u001b[0m\n",
       "\u001b[2;36m           \u001b[0m         \u001b[1;36mrm \u001b[0m\u001b[1;35m/Users/qnbhd/Development/gimeltune/examples/gcc/\u001b[0m\u001b[1;95mfa99cd7f0a\u001b[0m \u001b[2m            \u001b[0m\n",
       "\u001b[2;36m           \u001b[0m         \u001b[1;95mc826a027d8e2a18815b6af7c86804d7636758382038f7c80c870b383995.\u001b[0m \u001b[2m            \u001b[0m\n",
       "\u001b[2;36m           \u001b[0m         \u001b[1;95mout\u001b[0m                                                          \u001b[2m            \u001b[0m\n"
      ]
     },
     "metadata": {},
     "output_type": "display_data"
    },
    {
     "name": "stderr",
     "output_type": "stream",
     "text": [
      "/Users/qnbhd/Development/gimeltune/gimeltune/search/algorithms/skopt.py:58: UserWarning: Now per-emit count in skopt technique implemented not correctly. Per-emit count is property, return default value (1).\n",
      "  warnings.warn('Now per-emit count in skopt technique implemented not correctly.'\n"
     ]
    },
    {
     "data": {
      "text/html": [
       "<pre style=\"white-space:pre;overflow-x:auto;line-height:normal;font-family:Menlo,'DejaVu Sans Mono',consolas,'Courier New',monospace\"><span style=\"color: #7fbfbf; text-decoration-color: #7fbfbf\">           </span><span style=\"color: #000080; text-decoration-color: #000080\">INFO    </span> Trying experiment: <span style=\"color: #800080; text-decoration-color: #800080; font-weight: bold\">Experiment</span><span style=\"font-weight: bold\">({</span>                             <span style=\"color: #7f7f7f; text-decoration-color: #7f7f7f\">runner.py:156</span>\n",
       "<span style=\"color: #7fbfbf; text-decoration-color: #7fbfbf\">           </span>             <span style=\"color: #008000; text-decoration-color: #008000\">\"id\"</span>: <span style=\"color: #008080; text-decoration-color: #008080; font-weight: bold\">7</span>,                                                <span style=\"color: #7f7f7f; text-decoration-color: #7f7f7f\">             </span>\n",
       "<span style=\"color: #7fbfbf; text-decoration-color: #7fbfbf\">           </span>             <span style=\"color: #008000; text-decoration-color: #008000\">\"job_id\"</span>: <span style=\"color: #008080; text-decoration-color: #008080; font-weight: bold\">1</span>,                                            <span style=\"color: #7f7f7f; text-decoration-color: #7f7f7f\">             </span>\n",
       "<span style=\"color: #7fbfbf; text-decoration-color: #7fbfbf\">           </span>             <span style=\"color: #008000; text-decoration-color: #008000\">\"state\"</span>: <span style=\"color: #008000; text-decoration-color: #008000\">\"WIP\"</span>,                                         <span style=\"color: #7f7f7f; text-decoration-color: #7f7f7f\">             </span>\n",
       "<span style=\"color: #7fbfbf; text-decoration-color: #7fbfbf\">           </span>             <span style=\"color: #008000; text-decoration-color: #008000\">\"hash\"</span>: null,                                           <span style=\"color: #7f7f7f; text-decoration-color: #7f7f7f\">             </span>\n",
       "<span style=\"color: #7fbfbf; text-decoration-color: #7fbfbf\">           </span>             <span style=\"color: #008000; text-decoration-color: #008000\">\"objective_result\"</span>: null,                               <span style=\"color: #7f7f7f; text-decoration-color: #7f7f7f\">             </span>\n",
       "<span style=\"color: #7fbfbf; text-decoration-color: #7fbfbf\">           </span>             <span style=\"color: #008000; text-decoration-color: #008000\">\"params\"</span>: <span style=\"font-weight: bold\">{</span>                                             <span style=\"color: #7f7f7f; text-decoration-color: #7f7f7f\">             </span>\n",
       "<span style=\"color: #7fbfbf; text-decoration-color: #7fbfbf\">           </span>                 <span style=\"color: #008000; text-decoration-color: #008000\">\"-O\"</span>: null,                                         <span style=\"color: #7f7f7f; text-decoration-color: #7f7f7f\">             </span>\n",
       "<span style=\"color: #7fbfbf; text-decoration-color: #7fbfbf\">           </span>                 <span style=\"color: #008000; text-decoration-color: #008000\">\"align-functions\"</span>: null,                            <span style=\"color: #7f7f7f; text-decoration-color: #7f7f7f\">             </span>\n",
       "<span style=\"color: #7fbfbf; text-decoration-color: #7fbfbf\">           </span>                 <span style=\"color: #008000; text-decoration-color: #008000\">\"align-jumps\"</span>: <span style=\"color: #008000; text-decoration-color: #008000\">\"-fno-align-jumps\"</span>,                  <span style=\"color: #7f7f7f; text-decoration-color: #7f7f7f\">             </span>\n",
       "<span style=\"color: #7fbfbf; text-decoration-color: #7fbfbf\">           </span>                 <span style=\"color: #008000; text-decoration-color: #008000\">\"align-labels\"</span>: null,                               <span style=\"color: #7f7f7f; text-decoration-color: #7f7f7f\">             </span>\n",
       "<span style=\"color: #7fbfbf; text-decoration-color: #7fbfbf\">           </span>                 <span style=\"color: #008000; text-decoration-color: #008000\">\"asynchronous-unwind-tables\"</span>:                       <span style=\"color: #7f7f7f; text-decoration-color: #7f7f7f\">             </span>\n",
       "<span style=\"color: #7fbfbf; text-decoration-color: #7fbfbf\">           </span>         <span style=\"color: #008000; text-decoration-color: #008000\">\"-fno-asynchronous-unwind-tables\"</span>,                          <span style=\"color: #7f7f7f; text-decoration-color: #7f7f7f\">             </span>\n",
       "<span style=\"color: #7fbfbf; text-decoration-color: #7fbfbf\">           </span>                 <span style=\"color: #008000; text-decoration-color: #008000\">\"branch-count-reg\"</span>: <span style=\"color: #008000; text-decoration-color: #008000\">\"-fno-branch-count-reg\"</span>,        <span style=\"color: #7f7f7f; text-decoration-color: #7f7f7f\">             </span>\n",
       "<span style=\"color: #7fbfbf; text-decoration-color: #7fbfbf\">           </span>                 <span style=\"color: #008000; text-decoration-color: #008000\">\"branch-probabilities\"</span>: <span style=\"color: #008000; text-decoration-color: #008000\">\"-fbranch-probabilities\"</span>,   <span style=\"color: #7f7f7f; text-decoration-color: #7f7f7f\">             </span>\n",
       "<span style=\"color: #7fbfbf; text-decoration-color: #7fbfbf\">           </span>                 <span style=\"color: #008000; text-decoration-color: #008000\">\"early-inlining-insns\"</span>: <span style=\"color: #008080; text-decoration-color: #008080; font-weight: bold\">505</span>,                        <span style=\"color: #7f7f7f; text-decoration-color: #7f7f7f\">             </span>\n",
       "<span style=\"color: #7fbfbf; text-decoration-color: #7fbfbf\">           </span>                 <span style=\"color: #008000; text-decoration-color: #008000\">\"gcse-cost-distance-ratio\"</span>: <span style=\"color: #008080; text-decoration-color: #008080; font-weight: bold\">37</span>,                     <span style=\"color: #7f7f7f; text-decoration-color: #7f7f7f\">             </span>\n",
       "<span style=\"color: #7fbfbf; text-decoration-color: #7fbfbf\">           </span>                 <span style=\"color: #008000; text-decoration-color: #008000\">\"iv-max-considered-uses\"</span>: <span style=\"color: #008080; text-decoration-color: #008080; font-weight: bold\">476</span>                       <span style=\"color: #7f7f7f; text-decoration-color: #7f7f7f\">             </span>\n",
       "<span style=\"color: #7fbfbf; text-decoration-color: #7fbfbf\">           </span>             <span style=\"font-weight: bold\">}</span>,                                                      <span style=\"color: #7f7f7f; text-decoration-color: #7f7f7f\">             </span>\n",
       "<span style=\"color: #7fbfbf; text-decoration-color: #7fbfbf\">           </span>             <span style=\"color: #008000; text-decoration-color: #008000\">\"requestor\"</span>: <span style=\"color: #008000; text-decoration-color: #008000\">\"SkoptBayesianAlgorithm\"</span>,                  <span style=\"color: #7f7f7f; text-decoration-color: #7f7f7f\">             </span>\n",
       "<span style=\"color: #7fbfbf; text-decoration-color: #7fbfbf\">           </span>             <span style=\"color: #008000; text-decoration-color: #008000\">\"create_timestamp\"</span>: <span style=\"color: #008080; text-decoration-color: #008080; font-weight: bold\">1645690622.933987</span>,                  <span style=\"color: #7f7f7f; text-decoration-color: #7f7f7f\">             </span>\n",
       "<span style=\"color: #7fbfbf; text-decoration-color: #7fbfbf\">           </span>             <span style=\"color: #008000; text-decoration-color: #008000\">\"finish_timestamp\"</span>: null                                <span style=\"color: #7f7f7f; text-decoration-color: #7f7f7f\">             </span>\n",
       "<span style=\"color: #7fbfbf; text-decoration-color: #7fbfbf\">           </span>         <span style=\"font-weight: bold\">})</span>                                                          <span style=\"color: #7f7f7f; text-decoration-color: #7f7f7f\">             </span>\n",
       "</pre>\n"
      ],
      "text/plain": [
       "\u001b[2;36m          \u001b[0m\u001b[2;36m \u001b[0m\u001b[34mINFO    \u001b[0m Trying experiment: \u001b[1;35mExperiment\u001b[0m\u001b[1m(\u001b[0m\u001b[1m{\u001b[0m                             \u001b[2mrunner.py\u001b[0m\u001b[2m:\u001b[0m\u001b[2m156\u001b[0m\n",
       "\u001b[2;36m           \u001b[0m             \u001b[32m\"id\"\u001b[0m: \u001b[1;36m7\u001b[0m,                                                \u001b[2m             \u001b[0m\n",
       "\u001b[2;36m           \u001b[0m             \u001b[32m\"job_id\"\u001b[0m: \u001b[1;36m1\u001b[0m,                                            \u001b[2m             \u001b[0m\n",
       "\u001b[2;36m           \u001b[0m             \u001b[32m\"state\"\u001b[0m: \u001b[32m\"WIP\"\u001b[0m,                                         \u001b[2m             \u001b[0m\n",
       "\u001b[2;36m           \u001b[0m             \u001b[32m\"hash\"\u001b[0m: null,                                           \u001b[2m             \u001b[0m\n",
       "\u001b[2;36m           \u001b[0m             \u001b[32m\"objective_result\"\u001b[0m: null,                               \u001b[2m             \u001b[0m\n",
       "\u001b[2;36m           \u001b[0m             \u001b[32m\"params\"\u001b[0m: \u001b[1m{\u001b[0m                                             \u001b[2m             \u001b[0m\n",
       "\u001b[2;36m           \u001b[0m                 \u001b[32m\"-O\"\u001b[0m: null,                                         \u001b[2m             \u001b[0m\n",
       "\u001b[2;36m           \u001b[0m                 \u001b[32m\"align-functions\"\u001b[0m: null,                            \u001b[2m             \u001b[0m\n",
       "\u001b[2;36m           \u001b[0m                 \u001b[32m\"align-jumps\"\u001b[0m: \u001b[32m\"-fno-align-jumps\"\u001b[0m,                  \u001b[2m             \u001b[0m\n",
       "\u001b[2;36m           \u001b[0m                 \u001b[32m\"align-labels\"\u001b[0m: null,                               \u001b[2m             \u001b[0m\n",
       "\u001b[2;36m           \u001b[0m                 \u001b[32m\"asynchronous-unwind-tables\"\u001b[0m:                       \u001b[2m             \u001b[0m\n",
       "\u001b[2;36m           \u001b[0m         \u001b[32m\"-fno-asynchronous-unwind-tables\"\u001b[0m,                          \u001b[2m             \u001b[0m\n",
       "\u001b[2;36m           \u001b[0m                 \u001b[32m\"branch-count-reg\"\u001b[0m: \u001b[32m\"-fno-branch-count-reg\"\u001b[0m,        \u001b[2m             \u001b[0m\n",
       "\u001b[2;36m           \u001b[0m                 \u001b[32m\"branch-probabilities\"\u001b[0m: \u001b[32m\"-fbranch-probabilities\"\u001b[0m,   \u001b[2m             \u001b[0m\n",
       "\u001b[2;36m           \u001b[0m                 \u001b[32m\"early-inlining-insns\"\u001b[0m: \u001b[1;36m505\u001b[0m,                        \u001b[2m             \u001b[0m\n",
       "\u001b[2;36m           \u001b[0m                 \u001b[32m\"gcse-cost-distance-ratio\"\u001b[0m: \u001b[1;36m37\u001b[0m,                     \u001b[2m             \u001b[0m\n",
       "\u001b[2;36m           \u001b[0m                 \u001b[32m\"iv-max-considered-uses\"\u001b[0m: \u001b[1;36m476\u001b[0m                       \u001b[2m             \u001b[0m\n",
       "\u001b[2;36m           \u001b[0m             \u001b[1m}\u001b[0m,                                                      \u001b[2m             \u001b[0m\n",
       "\u001b[2;36m           \u001b[0m             \u001b[32m\"requestor\"\u001b[0m: \u001b[32m\"SkoptBayesianAlgorithm\"\u001b[0m,                  \u001b[2m             \u001b[0m\n",
       "\u001b[2;36m           \u001b[0m             \u001b[32m\"create_timestamp\"\u001b[0m: \u001b[1;36m1645690622.933987\u001b[0m,                  \u001b[2m             \u001b[0m\n",
       "\u001b[2;36m           \u001b[0m             \u001b[32m\"finish_timestamp\"\u001b[0m: null                                \u001b[2m             \u001b[0m\n",
       "\u001b[2;36m           \u001b[0m         \u001b[1m}\u001b[0m\u001b[1m)\u001b[0m                                                          \u001b[2m             \u001b[0m\n"
      ]
     },
     "metadata": {},
     "output_type": "display_data"
    },
    {
     "data": {
      "text/html": [
       "<pre style=\"white-space:pre;overflow-x:auto;line-height:normal;font-family:Menlo,'DejaVu Sans Mono',consolas,'Courier New',monospace\"><span style=\"color: #7fbfbf; text-decoration-color: #7fbfbf\">           </span><span style=\"color: #008000; text-decoration-color: #008000\">DEBUG   </span> RUN COMMAND:                                                 <span style=\"color: #7f7f7f; text-decoration-color: #7f7f7f\">runner.py:79</span>\n",
       "<span style=\"color: #7fbfbf; text-decoration-color: #7fbfbf\">           </span>         <span style=\"color: #008080; text-decoration-color: #008080; font-weight: bold\">gtime -f </span><span style=\"color: #008000; text-decoration-color: #008000\">'%e'</span><span style=\"color: #008080; text-decoration-color: #008080; font-weight: bold\"> g++</span><span style=\"color: #008080; text-decoration-color: #008080; font-weight: bold\">-11</span><span style=\"color: #008080; text-decoration-color: #008080; font-weight: bold\"> -o </span><span style=\"color: #800080; text-decoration-color: #800080; font-weight: bold\">/Users/qnbhd/Development/gimeltune/ex</span> <span style=\"color: #7f7f7f; text-decoration-color: #7f7f7f\">            </span>\n",
       "<span style=\"color: #7fbfbf; text-decoration-color: #7fbfbf\">           </span>         <span style=\"color: #800080; text-decoration-color: #800080; font-weight: bold\">amples/gcc/</span><span style=\"color: #ff00ff; text-decoration-color: #ff00ff; font-weight: bold\">b3bfbbfe0ac2569aa2e99879f3f083c77ee9f23080d808e97</span> <span style=\"color: #7f7f7f; text-decoration-color: #7f7f7f\">            </span>\n",
       "<span style=\"color: #7fbfbf; text-decoration-color: #7fbfbf\">           </span>         <span style=\"color: #ff00ff; text-decoration-color: #ff00ff; font-weight: bold\">ca7885863d577ab61265.out</span><span style=\"color: #008080; text-decoration-color: #008080; font-weight: bold\"> </span><span style=\"color: #800080; text-decoration-color: #800080; font-weight: bold\">/Users/qnbhd/Development/gimeltune/e</span> <span style=\"color: #7f7f7f; text-decoration-color: #7f7f7f\">            </span>\n",
       "<span style=\"color: #7fbfbf; text-decoration-color: #7fbfbf\">           </span>         <span style=\"color: #800080; text-decoration-color: #800080; font-weight: bold\">xamples/gcc/raytracer/</span><span style=\"color: #ff00ff; text-decoration-color: #ff00ff; font-weight: bold\">raytracer.cpp</span><span style=\"color: #008080; text-decoration-color: #008080; font-weight: bold\">   -fno-align-jumps  </span>     <span style=\"color: #7f7f7f; text-decoration-color: #7f7f7f\">            </span>\n",
       "<span style=\"color: #7fbfbf; text-decoration-color: #7fbfbf\">           </span>         <span style=\"color: #008080; text-decoration-color: #008080; font-weight: bold\">-fno-asynchronous-unwind-tables -fno-branch-count-reg </span>       <span style=\"color: #7f7f7f; text-decoration-color: #7f7f7f\">            </span>\n",
       "<span style=\"color: #7fbfbf; text-decoration-color: #7fbfbf\">           </span>         <span style=\"color: #008080; text-decoration-color: #008080; font-weight: bold\">-fbranch-probabilities --param early-inlining-</span><span style=\"color: #808000; text-decoration-color: #808000; font-weight: bold\">insns</span><span style=\"color: #008080; text-decoration-color: #008080; font-weight: bold\">=</span><span style=\"color: #008080; text-decoration-color: #008080; font-weight: bold\">505</span><span style=\"color: #008080; text-decoration-color: #008080; font-weight: bold\"> </span>     <span style=\"color: #7f7f7f; text-decoration-color: #7f7f7f\">            </span>\n",
       "<span style=\"color: #7fbfbf; text-decoration-color: #7fbfbf\">           </span>         <span style=\"color: #008080; text-decoration-color: #008080; font-weight: bold\">--param gcse-cost-distance-</span><span style=\"color: #808000; text-decoration-color: #808000; font-weight: bold\">ratio</span><span style=\"color: #008080; text-decoration-color: #008080; font-weight: bold\">=</span><span style=\"color: #008080; text-decoration-color: #008080; font-weight: bold\">37</span><span style=\"color: #008080; text-decoration-color: #008080; font-weight: bold\"> --param </span>                 <span style=\"color: #7f7f7f; text-decoration-color: #7f7f7f\">            </span>\n",
       "<span style=\"color: #7fbfbf; text-decoration-color: #7fbfbf\">           </span>         <span style=\"color: #008080; text-decoration-color: #008080; font-weight: bold\">iv-max-considered-</span><span style=\"color: #808000; text-decoration-color: #808000; font-weight: bold\">uses</span><span style=\"color: #008080; text-decoration-color: #008080; font-weight: bold\">=</span><span style=\"color: #008080; text-decoration-color: #008080; font-weight: bold\">476</span><span style=\"color: #008080; text-decoration-color: #008080; font-weight: bold\"> </span><span style=\"color: #008080; text-decoration-color: #008080; font-weight: bold\">2</span><span style=\"color: #008080; text-decoration-color: #008080; font-weight: bold\">&gt;&amp;</span><span style=\"color: #008080; text-decoration-color: #008080; font-weight: bold\">1</span>                              <span style=\"color: #7f7f7f; text-decoration-color: #7f7f7f\">            </span>\n",
       "</pre>\n"
      ],
      "text/plain": [
       "\u001b[2;36m          \u001b[0m\u001b[2;36m \u001b[0m\u001b[32mDEBUG   \u001b[0m RUN COMMAND:                                                 \u001b[2mrunner.py\u001b[0m\u001b[2m:\u001b[0m\u001b[2m79\u001b[0m\n",
       "\u001b[2;36m           \u001b[0m         \u001b[1;36mgtime -f \u001b[0m\u001b[32m'%e'\u001b[0m\u001b[1;36m g++\u001b[0m\u001b[1;36m-11\u001b[0m\u001b[1;36m -o \u001b[0m\u001b[1;35m/Users/qnbhd/Development/gimeltune/ex\u001b[0m \u001b[2m            \u001b[0m\n",
       "\u001b[2;36m           \u001b[0m         \u001b[1;35mamples/gcc/\u001b[0m\u001b[1;95mb3bfbbfe0ac2569aa2e99879f3f083c77ee9f23080d808e97\u001b[0m \u001b[2m            \u001b[0m\n",
       "\u001b[2;36m           \u001b[0m         \u001b[1;95mca7885863d577ab61265.out\u001b[0m\u001b[1;36m \u001b[0m\u001b[1;35m/Users/qnbhd/Development/gimeltune/e\u001b[0m \u001b[2m            \u001b[0m\n",
       "\u001b[2;36m           \u001b[0m         \u001b[1;35mxamples/gcc/raytracer/\u001b[0m\u001b[1;95mraytracer.cpp\u001b[0m\u001b[1;36m   -fno-align-jumps  \u001b[0m     \u001b[2m            \u001b[0m\n",
       "\u001b[2;36m           \u001b[0m         \u001b[1;36m-fno-asynchronous-unwind-tables -fno-branch-count-reg \u001b[0m       \u001b[2m            \u001b[0m\n",
       "\u001b[2;36m           \u001b[0m         \u001b[1;36m-fbranch-probabilities --param early-inlining-\u001b[0m\u001b[1;33minsns\u001b[0m\u001b[1;36m=\u001b[0m\u001b[1;36m505\u001b[0m\u001b[1;36m \u001b[0m     \u001b[2m            \u001b[0m\n",
       "\u001b[2;36m           \u001b[0m         \u001b[1;36m--param gcse-cost-distance-\u001b[0m\u001b[1;33mratio\u001b[0m\u001b[1;36m=\u001b[0m\u001b[1;36m37\u001b[0m\u001b[1;36m --param \u001b[0m                 \u001b[2m            \u001b[0m\n",
       "\u001b[2;36m           \u001b[0m         \u001b[1;36miv-max-considered-\u001b[0m\u001b[1;33muses\u001b[0m\u001b[1;36m=\u001b[0m\u001b[1;36m476\u001b[0m\u001b[1;36m \u001b[0m\u001b[1;36m2\u001b[0m\u001b[1;36m>&\u001b[0m\u001b[1;36m1\u001b[0m                              \u001b[2m            \u001b[0m\n"
      ]
     },
     "metadata": {},
     "output_type": "display_data"
    },
    {
     "data": {
      "text/html": [
       "<pre style=\"white-space:pre;overflow-x:auto;line-height:normal;font-family:Menlo,'DejaVu Sans Mono',consolas,'Courier New',monospace\"><span style=\"color: #7fbfbf; text-decoration-color: #7fbfbf\">[11:17:03] </span><span style=\"color: #000080; text-decoration-color: #000080\">INFO    </span> <span style=\"color: #808000; text-decoration-color: #808000; font-weight: bold\">OUT: </span><span style=\"color: #800080; text-decoration-color: #800080; font-weight: bold\">/Users/qnbhd/Development/gimeltune/examples/gcc/raytrace</span> <span style=\"color: #7f7f7f; text-decoration-color: #7f7f7f\">runner.py:85</span>\n",
       "<span style=\"color: #7fbfbf; text-decoration-color: #7fbfbf\">           </span>         <span style=\"color: #800080; text-decoration-color: #800080; font-weight: bold\">r/</span><span style=\"color: #ff00ff; text-decoration-color: #ff00ff; font-weight: bold\">raytracer.cpp</span><span style=\"color: #808000; text-decoration-color: #808000; font-weight: bold\">: In function </span><span style=\"color: #008000; text-decoration-color: #008000\">'(static initializers for /User</span> <span style=\"color: #7f7f7f; text-decoration-color: #7f7f7f\">            </span>\n",
       "<span style=\"color: #7fbfbf; text-decoration-color: #7fbfbf\">           </span>         <span style=\"color: #008000; text-decoration-color: #008000\">s/qnbhd/Development/gimeltune/examples/gcc/raytracer/raytrace</span> <span style=\"color: #7f7f7f; text-decoration-color: #7f7f7f\">            </span>\n",
       "<span style=\"color: #7fbfbf; text-decoration-color: #7fbfbf\">           </span>         <span style=\"color: #008000; text-decoration-color: #008000\">r.cpp)'</span><span style=\"color: #808000; text-decoration-color: #808000; font-weight: bold\">:</span>                                                     <span style=\"color: #7f7f7f; text-decoration-color: #7f7f7f\">            </span>\n",
       "<span style=\"color: #7fbfbf; text-decoration-color: #7fbfbf\">           </span>         <span style=\"color: #800080; text-decoration-color: #800080; font-weight: bold\">/Users/qnbhd/Development/gimeltune/examples/gcc/raytracer/</span><span style=\"color: #ff00ff; text-decoration-color: #ff00ff; font-weight: bold\">ray</span> <span style=\"color: #7f7f7f; text-decoration-color: #7f7f7f\">            </span>\n",
       "<span style=\"color: #7fbfbf; text-decoration-color: #7fbfbf\">           </span>         <span style=\"color: #ff00ff; text-decoration-color: #ff00ff; font-weight: bold\">tracer.cpp</span><span style=\"color: #808000; text-decoration-color: #808000; font-weight: bold\">:</span><span style=\"color: #00ff00; text-decoration-color: #00ff00; font-weight: bold\">277:1</span><span style=\"color: #808000; text-decoration-color: #808000; font-weight: bold\">: warning: </span><span style=\"color: #008000; text-decoration-color: #008000\">'/Users/qnbhd/Development/polytun</span> <span style=\"color: #7f7f7f; text-decoration-color: #7f7f7f\">            </span>\n",
       "<span style=\"color: #7fbfbf; text-decoration-color: #7fbfbf\">           </span>         <span style=\"color: #008000; text-decoration-color: #008000\">e/examples/gcc/b3bfbbfe0ac2569aa2e99879f3f083c77ee9f23080d80</span> <span style=\"color: #7f7f7f; text-decoration-color: #7f7f7f\">            </span>\n",
       "<span style=\"color: #7fbfbf; text-decoration-color: #7fbfbf\">           </span>         <span style=\"color: #008000; text-decoration-color: #008000\">8e97ca7885863d577ab61265.out-raytracer.gcda'</span><span style=\"color: #808000; text-decoration-color: #808000; font-weight: bold\"> profile count </span>  <span style=\"color: #7f7f7f; text-decoration-color: #7f7f7f\">            </span>\n",
       "<span style=\"color: #7fbfbf; text-decoration-color: #7fbfbf\">           </span>         <span style=\"color: #808000; text-decoration-color: #808000; font-weight: bold\">data file not found [-Wmissing-profile]</span>                      <span style=\"color: #7f7f7f; text-decoration-color: #7f7f7f\">            </span>\n",
       "<span style=\"color: #7fbfbf; text-decoration-color: #7fbfbf\">           </span>         <span style=\"color: #808000; text-decoration-color: #808000; font-weight: bold\">  </span><span style=\"color: #008080; text-decoration-color: #008080; font-weight: bold\">277</span><span style=\"color: #808000; text-decoration-color: #808000; font-weight: bold\"> | }</span>                                                    <span style=\"color: #7f7f7f; text-decoration-color: #7f7f7f\">            </span>\n",
       "<span style=\"color: #7fbfbf; text-decoration-color: #7fbfbf\">           </span>         <span style=\"color: #808000; text-decoration-color: #808000; font-weight: bold\">      | ^</span>                                                    <span style=\"color: #7f7f7f; text-decoration-color: #7f7f7f\">            </span>\n",
       "<span style=\"color: #7fbfbf; text-decoration-color: #7fbfbf\">           </span>         <span style=\"color: #008080; text-decoration-color: #008080; font-weight: bold\">0.68</span>                                                         <span style=\"color: #7f7f7f; text-decoration-color: #7f7f7f\">            </span>\n",
       "</pre>\n"
      ],
      "text/plain": [
       "\u001b[2;36m[11:17:03]\u001b[0m\u001b[2;36m \u001b[0m\u001b[34mINFO    \u001b[0m \u001b[1;33mOUT: \u001b[0m\u001b[1;35m/Users/qnbhd/Development/gimeltune/examples/gcc/raytrace\u001b[0m \u001b[2mrunner.py\u001b[0m\u001b[2m:\u001b[0m\u001b[2m85\u001b[0m\n",
       "\u001b[2;36m           \u001b[0m         \u001b[1;35mr/\u001b[0m\u001b[1;95mraytracer.cpp\u001b[0m\u001b[1;33m: In function \u001b[0m\u001b[32m'\u001b[0m\u001b[32m(\u001b[0m\u001b[32mstatic initializers for /User\u001b[0m \u001b[2m            \u001b[0m\n",
       "\u001b[2;36m           \u001b[0m         \u001b[32ms/qnbhd/Development/gimeltune/examples/gcc/raytracer/raytrace\u001b[0m \u001b[2m            \u001b[0m\n",
       "\u001b[2;36m           \u001b[0m         \u001b[32mr.cpp\u001b[0m\u001b[32m)\u001b[0m\u001b[32m'\u001b[0m\u001b[1;33m:\u001b[0m                                                     \u001b[2m            \u001b[0m\n",
       "\u001b[2;36m           \u001b[0m         \u001b[1;35m/Users/qnbhd/Development/gimeltune/examples/gcc/raytracer/\u001b[0m\u001b[1;95mray\u001b[0m \u001b[2m            \u001b[0m\n",
       "\u001b[2;36m           \u001b[0m         \u001b[1;95mtracer.cpp\u001b[0m\u001b[1;33m:\u001b[0m\u001b[1;92m277:1\u001b[0m\u001b[1;33m: warning: \u001b[0m\u001b[32m'/Users/qnbhd/Development/polytun\u001b[0m \u001b[2m            \u001b[0m\n",
       "\u001b[2;36m           \u001b[0m         \u001b[32me/examples/gcc/b3bfbbfe0ac2569aa2e99879f3f083c77ee9f23080d80\u001b[0m \u001b[2m            \u001b[0m\n",
       "\u001b[2;36m           \u001b[0m         \u001b[32m8e97ca7885863d577ab61265.out-raytracer.gcda'\u001b[0m\u001b[1;33m profile count \u001b[0m  \u001b[2m            \u001b[0m\n",
       "\u001b[2;36m           \u001b[0m         \u001b[1;33mdata file not found \u001b[0m\u001b[1;33m[\u001b[0m\u001b[1;33m-Wmissing-profile\u001b[0m\u001b[1;33m]\u001b[0m                      \u001b[2m            \u001b[0m\n",
       "\u001b[2;36m           \u001b[0m         \u001b[1;33m  \u001b[0m\u001b[1;36m277\u001b[0m\u001b[1;33m | \u001b[0m\u001b[1;33m}\u001b[0m                                                    \u001b[2m            \u001b[0m\n",
       "\u001b[2;36m           \u001b[0m         \u001b[1;33m      | ^\u001b[0m                                                    \u001b[2m            \u001b[0m\n",
       "\u001b[2;36m           \u001b[0m         \u001b[1;36m0.68\u001b[0m                                                         \u001b[2m            \u001b[0m\n"
      ]
     },
     "metadata": {},
     "output_type": "display_data"
    },
    {
     "name": "stdout",
     "output_type": "stream",
     "text": [
      "COMPILE could not convert string to float: \"/Users/qnbhd/Development/gimeltune/examples/gcc/raytracer/raytracer.cpp: In function '(static initializers for /Users/qnbhd/Development/gimeltune/examples/gcc/raytracer/raytracer.cpp)':\\n/Users/qnbhd/Development/gimeltune/examples/gcc/raytracer/raytracer.cpp:277:1: warning: '/Users/qnbhd/Development/gimeltune/examples/gcc/b3bfbbfe0ac2569aa2e99879f3f083c77ee9f23080d808e97ca7885863d577ab61265.out-raytracer.gcda' profile count data file not found [-Wmissing-profile]\\n  277 | }\\n      | ^\\n0.68\"\n"
     ]
    },
    {
     "data": {
      "text/html": [
       "<pre style=\"white-space:pre;overflow-x:auto;line-height:normal;font-family:Menlo,'DejaVu Sans Mono',consolas,'Courier New',monospace\"><span style=\"color: #7fbfbf; text-decoration-color: #7fbfbf\">           </span><span style=\"color: #000080; text-decoration-color: #000080\">INFO    </span> Trying experiment: <span style=\"color: #800080; text-decoration-color: #800080; font-weight: bold\">Experiment</span><span style=\"font-weight: bold\">({</span>                             <span style=\"color: #7f7f7f; text-decoration-color: #7f7f7f\">runner.py:156</span>\n",
       "<span style=\"color: #7fbfbf; text-decoration-color: #7fbfbf\">           </span>             <span style=\"color: #008000; text-decoration-color: #008000\">\"id\"</span>: <span style=\"color: #008080; text-decoration-color: #008080; font-weight: bold\">8</span>,                                                <span style=\"color: #7f7f7f; text-decoration-color: #7f7f7f\">             </span>\n",
       "<span style=\"color: #7fbfbf; text-decoration-color: #7fbfbf\">           </span>             <span style=\"color: #008000; text-decoration-color: #008000\">\"job_id\"</span>: <span style=\"color: #008080; text-decoration-color: #008080; font-weight: bold\">1</span>,                                            <span style=\"color: #7f7f7f; text-decoration-color: #7f7f7f\">             </span>\n",
       "<span style=\"color: #7fbfbf; text-decoration-color: #7fbfbf\">           </span>             <span style=\"color: #008000; text-decoration-color: #008000\">\"state\"</span>: <span style=\"color: #008000; text-decoration-color: #008000\">\"WIP\"</span>,                                         <span style=\"color: #7f7f7f; text-decoration-color: #7f7f7f\">             </span>\n",
       "<span style=\"color: #7fbfbf; text-decoration-color: #7fbfbf\">           </span>             <span style=\"color: #008000; text-decoration-color: #008000\">\"hash\"</span>: null,                                           <span style=\"color: #7f7f7f; text-decoration-color: #7f7f7f\">             </span>\n",
       "<span style=\"color: #7fbfbf; text-decoration-color: #7fbfbf\">           </span>             <span style=\"color: #008000; text-decoration-color: #008000\">\"objective_result\"</span>: null,                               <span style=\"color: #7f7f7f; text-decoration-color: #7f7f7f\">             </span>\n",
       "<span style=\"color: #7fbfbf; text-decoration-color: #7fbfbf\">           </span>             <span style=\"color: #008000; text-decoration-color: #008000\">\"params\"</span>: <span style=\"font-weight: bold\">{</span>                                             <span style=\"color: #7f7f7f; text-decoration-color: #7f7f7f\">             </span>\n",
       "<span style=\"color: #7fbfbf; text-decoration-color: #7fbfbf\">           </span>                 <span style=\"color: #008000; text-decoration-color: #008000\">\"-O\"</span>: <span style=\"color: #008000; text-decoration-color: #008000\">\"-O3\"</span>,                                        <span style=\"color: #7f7f7f; text-decoration-color: #7f7f7f\">             </span>\n",
       "<span style=\"color: #7fbfbf; text-decoration-color: #7fbfbf\">           </span>                 <span style=\"color: #008000; text-decoration-color: #008000\">\"align-functions\"</span>: null,                            <span style=\"color: #7f7f7f; text-decoration-color: #7f7f7f\">             </span>\n",
       "<span style=\"color: #7fbfbf; text-decoration-color: #7fbfbf\">           </span>                 <span style=\"color: #008000; text-decoration-color: #008000\">\"align-jumps\"</span>: <span style=\"color: #008000; text-decoration-color: #008000\">\"-fno-align-jumps\"</span>,                  <span style=\"color: #7f7f7f; text-decoration-color: #7f7f7f\">             </span>\n",
       "<span style=\"color: #7fbfbf; text-decoration-color: #7fbfbf\">           </span>                 <span style=\"color: #008000; text-decoration-color: #008000\">\"align-labels\"</span>: <span style=\"color: #008000; text-decoration-color: #008000\">\"-fno-align-labels\"</span>,                <span style=\"color: #7f7f7f; text-decoration-color: #7f7f7f\">             </span>\n",
       "<span style=\"color: #7fbfbf; text-decoration-color: #7fbfbf\">           </span>                 <span style=\"color: #008000; text-decoration-color: #008000\">\"asynchronous-unwind-tables\"</span>:                       <span style=\"color: #7f7f7f; text-decoration-color: #7f7f7f\">             </span>\n",
       "<span style=\"color: #7fbfbf; text-decoration-color: #7fbfbf\">           </span>         <span style=\"color: #008000; text-decoration-color: #008000\">\"-fno-asynchronous-unwind-tables\"</span>,                          <span style=\"color: #7f7f7f; text-decoration-color: #7f7f7f\">             </span>\n",
       "<span style=\"color: #7fbfbf; text-decoration-color: #7fbfbf\">           </span>                 <span style=\"color: #008000; text-decoration-color: #008000\">\"branch-count-reg\"</span>: <span style=\"color: #008000; text-decoration-color: #008000\">\"-fno-branch-count-reg\"</span>,        <span style=\"color: #7f7f7f; text-decoration-color: #7f7f7f\">             </span>\n",
       "<span style=\"color: #7fbfbf; text-decoration-color: #7fbfbf\">           </span>                 <span style=\"color: #008000; text-decoration-color: #008000\">\"branch-probabilities\"</span>: null,                       <span style=\"color: #7f7f7f; text-decoration-color: #7f7f7f\">             </span>\n",
       "<span style=\"color: #7fbfbf; text-decoration-color: #7fbfbf\">           </span>                 <span style=\"color: #008000; text-decoration-color: #008000\">\"early-inlining-insns\"</span>: <span style=\"color: #008080; text-decoration-color: #008080; font-weight: bold\">828</span>,                        <span style=\"color: #7f7f7f; text-decoration-color: #7f7f7f\">             </span>\n",
       "<span style=\"color: #7fbfbf; text-decoration-color: #7fbfbf\">           </span>                 <span style=\"color: #008000; text-decoration-color: #008000\">\"gcse-cost-distance-ratio\"</span>: <span style=\"color: #008080; text-decoration-color: #008080; font-weight: bold\">93</span>,                     <span style=\"color: #7f7f7f; text-decoration-color: #7f7f7f\">             </span>\n",
       "<span style=\"color: #7fbfbf; text-decoration-color: #7fbfbf\">           </span>                 <span style=\"color: #008000; text-decoration-color: #008000\">\"iv-max-considered-uses\"</span>: <span style=\"color: #008080; text-decoration-color: #008080; font-weight: bold\">411</span>                       <span style=\"color: #7f7f7f; text-decoration-color: #7f7f7f\">             </span>\n",
       "<span style=\"color: #7fbfbf; text-decoration-color: #7fbfbf\">           </span>             <span style=\"font-weight: bold\">}</span>,                                                      <span style=\"color: #7f7f7f; text-decoration-color: #7f7f7f\">             </span>\n",
       "<span style=\"color: #7fbfbf; text-decoration-color: #7fbfbf\">           </span>             <span style=\"color: #008000; text-decoration-color: #008000\">\"requestor\"</span>: <span style=\"color: #008000; text-decoration-color: #008000\">\"SkoptBayesianAlgorithm\"</span>,                  <span style=\"color: #7f7f7f; text-decoration-color: #7f7f7f\">             </span>\n",
       "<span style=\"color: #7fbfbf; text-decoration-color: #7fbfbf\">           </span>             <span style=\"color: #008000; text-decoration-color: #008000\">\"create_timestamp\"</span>: <span style=\"color: #008080; text-decoration-color: #008080; font-weight: bold\">1645690622.935397</span>,                  <span style=\"color: #7f7f7f; text-decoration-color: #7f7f7f\">             </span>\n",
       "<span style=\"color: #7fbfbf; text-decoration-color: #7fbfbf\">           </span>             <span style=\"color: #008000; text-decoration-color: #008000\">\"finish_timestamp\"</span>: null                                <span style=\"color: #7f7f7f; text-decoration-color: #7f7f7f\">             </span>\n",
       "<span style=\"color: #7fbfbf; text-decoration-color: #7fbfbf\">           </span>         <span style=\"font-weight: bold\">})</span>                                                          <span style=\"color: #7f7f7f; text-decoration-color: #7f7f7f\">             </span>\n",
       "</pre>\n"
      ],
      "text/plain": [
       "\u001b[2;36m          \u001b[0m\u001b[2;36m \u001b[0m\u001b[34mINFO    \u001b[0m Trying experiment: \u001b[1;35mExperiment\u001b[0m\u001b[1m(\u001b[0m\u001b[1m{\u001b[0m                             \u001b[2mrunner.py\u001b[0m\u001b[2m:\u001b[0m\u001b[2m156\u001b[0m\n",
       "\u001b[2;36m           \u001b[0m             \u001b[32m\"id\"\u001b[0m: \u001b[1;36m8\u001b[0m,                                                \u001b[2m             \u001b[0m\n",
       "\u001b[2;36m           \u001b[0m             \u001b[32m\"job_id\"\u001b[0m: \u001b[1;36m1\u001b[0m,                                            \u001b[2m             \u001b[0m\n",
       "\u001b[2;36m           \u001b[0m             \u001b[32m\"state\"\u001b[0m: \u001b[32m\"WIP\"\u001b[0m,                                         \u001b[2m             \u001b[0m\n",
       "\u001b[2;36m           \u001b[0m             \u001b[32m\"hash\"\u001b[0m: null,                                           \u001b[2m             \u001b[0m\n",
       "\u001b[2;36m           \u001b[0m             \u001b[32m\"objective_result\"\u001b[0m: null,                               \u001b[2m             \u001b[0m\n",
       "\u001b[2;36m           \u001b[0m             \u001b[32m\"params\"\u001b[0m: \u001b[1m{\u001b[0m                                             \u001b[2m             \u001b[0m\n",
       "\u001b[2;36m           \u001b[0m                 \u001b[32m\"-O\"\u001b[0m: \u001b[32m\"-O3\"\u001b[0m,                                        \u001b[2m             \u001b[0m\n",
       "\u001b[2;36m           \u001b[0m                 \u001b[32m\"align-functions\"\u001b[0m: null,                            \u001b[2m             \u001b[0m\n",
       "\u001b[2;36m           \u001b[0m                 \u001b[32m\"align-jumps\"\u001b[0m: \u001b[32m\"-fno-align-jumps\"\u001b[0m,                  \u001b[2m             \u001b[0m\n",
       "\u001b[2;36m           \u001b[0m                 \u001b[32m\"align-labels\"\u001b[0m: \u001b[32m\"-fno-align-labels\"\u001b[0m,                \u001b[2m             \u001b[0m\n",
       "\u001b[2;36m           \u001b[0m                 \u001b[32m\"asynchronous-unwind-tables\"\u001b[0m:                       \u001b[2m             \u001b[0m\n",
       "\u001b[2;36m           \u001b[0m         \u001b[32m\"-fno-asynchronous-unwind-tables\"\u001b[0m,                          \u001b[2m             \u001b[0m\n",
       "\u001b[2;36m           \u001b[0m                 \u001b[32m\"branch-count-reg\"\u001b[0m: \u001b[32m\"-fno-branch-count-reg\"\u001b[0m,        \u001b[2m             \u001b[0m\n",
       "\u001b[2;36m           \u001b[0m                 \u001b[32m\"branch-probabilities\"\u001b[0m: null,                       \u001b[2m             \u001b[0m\n",
       "\u001b[2;36m           \u001b[0m                 \u001b[32m\"early-inlining-insns\"\u001b[0m: \u001b[1;36m828\u001b[0m,                        \u001b[2m             \u001b[0m\n",
       "\u001b[2;36m           \u001b[0m                 \u001b[32m\"gcse-cost-distance-ratio\"\u001b[0m: \u001b[1;36m93\u001b[0m,                     \u001b[2m             \u001b[0m\n",
       "\u001b[2;36m           \u001b[0m                 \u001b[32m\"iv-max-considered-uses\"\u001b[0m: \u001b[1;36m411\u001b[0m                       \u001b[2m             \u001b[0m\n",
       "\u001b[2;36m           \u001b[0m             \u001b[1m}\u001b[0m,                                                      \u001b[2m             \u001b[0m\n",
       "\u001b[2;36m           \u001b[0m             \u001b[32m\"requestor\"\u001b[0m: \u001b[32m\"SkoptBayesianAlgorithm\"\u001b[0m,                  \u001b[2m             \u001b[0m\n",
       "\u001b[2;36m           \u001b[0m             \u001b[32m\"create_timestamp\"\u001b[0m: \u001b[1;36m1645690622.935397\u001b[0m,                  \u001b[2m             \u001b[0m\n",
       "\u001b[2;36m           \u001b[0m             \u001b[32m\"finish_timestamp\"\u001b[0m: null                                \u001b[2m             \u001b[0m\n",
       "\u001b[2;36m           \u001b[0m         \u001b[1m}\u001b[0m\u001b[1m)\u001b[0m                                                          \u001b[2m             \u001b[0m\n"
      ]
     },
     "metadata": {},
     "output_type": "display_data"
    },
    {
     "data": {
      "text/html": [
       "<pre style=\"white-space:pre;overflow-x:auto;line-height:normal;font-family:Menlo,'DejaVu Sans Mono',consolas,'Courier New',monospace\"><span style=\"color: #7fbfbf; text-decoration-color: #7fbfbf\">           </span><span style=\"color: #008000; text-decoration-color: #008000\">DEBUG   </span> RUN COMMAND:                                                 <span style=\"color: #7f7f7f; text-decoration-color: #7f7f7f\">runner.py:79</span>\n",
       "<span style=\"color: #7fbfbf; text-decoration-color: #7fbfbf\">           </span>         <span style=\"color: #008080; text-decoration-color: #008080; font-weight: bold\">gtime -f </span><span style=\"color: #008000; text-decoration-color: #008000\">'%e'</span><span style=\"color: #008080; text-decoration-color: #008080; font-weight: bold\"> g++</span><span style=\"color: #008080; text-decoration-color: #008080; font-weight: bold\">-11</span><span style=\"color: #008080; text-decoration-color: #008080; font-weight: bold\"> -o </span><span style=\"color: #800080; text-decoration-color: #800080; font-weight: bold\">/Users/qnbhd/Development/gimeltune/ex</span> <span style=\"color: #7f7f7f; text-decoration-color: #7f7f7f\">            </span>\n",
       "<span style=\"color: #7fbfbf; text-decoration-color: #7fbfbf\">           </span>         <span style=\"color: #800080; text-decoration-color: #800080; font-weight: bold\">amples/gcc/</span><span style=\"color: #ff00ff; text-decoration-color: #ff00ff; font-weight: bold\">015ec771a12436bd504a81391d297141b0d82e7377ec7f3d8</span> <span style=\"color: #7f7f7f; text-decoration-color: #7f7f7f\">            </span>\n",
       "<span style=\"color: #7fbfbf; text-decoration-color: #7fbfbf\">           </span>         <span style=\"color: #ff00ff; text-decoration-color: #ff00ff; font-weight: bold\">4a1810ed8d323176117.out</span><span style=\"color: #008080; text-decoration-color: #008080; font-weight: bold\"> </span><span style=\"color: #800080; text-decoration-color: #800080; font-weight: bold\">/Users/qnbhd/Development/gimeltune/ex</span> <span style=\"color: #7f7f7f; text-decoration-color: #7f7f7f\">            </span>\n",
       "<span style=\"color: #7fbfbf; text-decoration-color: #7fbfbf\">           </span>         <span style=\"color: #800080; text-decoration-color: #800080; font-weight: bold\">amples/gcc/raytracer/</span><span style=\"color: #ff00ff; text-decoration-color: #ff00ff; font-weight: bold\">raytracer.cpp</span><span style=\"color: #008080; text-decoration-color: #008080; font-weight: bold\"> -O3  -fno-align-jumps </span>    <span style=\"color: #7f7f7f; text-decoration-color: #7f7f7f\">            </span>\n",
       "<span style=\"color: #7fbfbf; text-decoration-color: #7fbfbf\">           </span>         <span style=\"color: #008080; text-decoration-color: #008080; font-weight: bold\">-fno-align-labels -fno-asynchronous-unwind-tables </span>           <span style=\"color: #7f7f7f; text-decoration-color: #7f7f7f\">            </span>\n",
       "<span style=\"color: #7fbfbf; text-decoration-color: #7fbfbf\">           </span>         <span style=\"color: #008080; text-decoration-color: #008080; font-weight: bold\">-fno-branch-count-reg  --param early-inlining-</span><span style=\"color: #808000; text-decoration-color: #808000; font-weight: bold\">insns</span><span style=\"color: #008080; text-decoration-color: #008080; font-weight: bold\">=</span><span style=\"color: #008080; text-decoration-color: #008080; font-weight: bold\">828</span><span style=\"color: #008080; text-decoration-color: #008080; font-weight: bold\"> </span>     <span style=\"color: #7f7f7f; text-decoration-color: #7f7f7f\">            </span>\n",
       "<span style=\"color: #7fbfbf; text-decoration-color: #7fbfbf\">           </span>         <span style=\"color: #008080; text-decoration-color: #008080; font-weight: bold\">--param gcse-cost-distance-</span><span style=\"color: #808000; text-decoration-color: #808000; font-weight: bold\">ratio</span><span style=\"color: #008080; text-decoration-color: #008080; font-weight: bold\">=</span><span style=\"color: #008080; text-decoration-color: #008080; font-weight: bold\">93</span><span style=\"color: #008080; text-decoration-color: #008080; font-weight: bold\"> --param </span>                 <span style=\"color: #7f7f7f; text-decoration-color: #7f7f7f\">            </span>\n",
       "<span style=\"color: #7fbfbf; text-decoration-color: #7fbfbf\">           </span>         <span style=\"color: #008080; text-decoration-color: #008080; font-weight: bold\">iv-max-considered-</span><span style=\"color: #808000; text-decoration-color: #808000; font-weight: bold\">uses</span><span style=\"color: #008080; text-decoration-color: #008080; font-weight: bold\">=</span><span style=\"color: #008080; text-decoration-color: #008080; font-weight: bold\">411</span><span style=\"color: #008080; text-decoration-color: #008080; font-weight: bold\"> </span><span style=\"color: #008080; text-decoration-color: #008080; font-weight: bold\">2</span><span style=\"color: #008080; text-decoration-color: #008080; font-weight: bold\">&gt;&amp;</span><span style=\"color: #008080; text-decoration-color: #008080; font-weight: bold\">1</span>                              <span style=\"color: #7f7f7f; text-decoration-color: #7f7f7f\">            </span>\n",
       "</pre>\n"
      ],
      "text/plain": [
       "\u001b[2;36m          \u001b[0m\u001b[2;36m \u001b[0m\u001b[32mDEBUG   \u001b[0m RUN COMMAND:                                                 \u001b[2mrunner.py\u001b[0m\u001b[2m:\u001b[0m\u001b[2m79\u001b[0m\n",
       "\u001b[2;36m           \u001b[0m         \u001b[1;36mgtime -f \u001b[0m\u001b[32m'%e'\u001b[0m\u001b[1;36m g++\u001b[0m\u001b[1;36m-11\u001b[0m\u001b[1;36m -o \u001b[0m\u001b[1;35m/Users/qnbhd/Development/gimeltune/ex\u001b[0m \u001b[2m            \u001b[0m\n",
       "\u001b[2;36m           \u001b[0m         \u001b[1;35mamples/gcc/\u001b[0m\u001b[1;95m015ec771a12436bd504a81391d297141b0d82e7377ec7f3d8\u001b[0m \u001b[2m            \u001b[0m\n",
       "\u001b[2;36m           \u001b[0m         \u001b[1;95m4a1810ed8d323176117.out\u001b[0m\u001b[1;36m \u001b[0m\u001b[1;35m/Users/qnbhd/Development/gimeltune/ex\u001b[0m \u001b[2m            \u001b[0m\n",
       "\u001b[2;36m           \u001b[0m         \u001b[1;35mamples/gcc/raytracer/\u001b[0m\u001b[1;95mraytracer.cpp\u001b[0m\u001b[1;36m -O3  -fno-align-jumps \u001b[0m    \u001b[2m            \u001b[0m\n",
       "\u001b[2;36m           \u001b[0m         \u001b[1;36m-fno-align-labels -fno-asynchronous-unwind-tables \u001b[0m           \u001b[2m            \u001b[0m\n",
       "\u001b[2;36m           \u001b[0m         \u001b[1;36m-fno-branch-count-reg  --param early-inlining-\u001b[0m\u001b[1;33minsns\u001b[0m\u001b[1;36m=\u001b[0m\u001b[1;36m828\u001b[0m\u001b[1;36m \u001b[0m     \u001b[2m            \u001b[0m\n",
       "\u001b[2;36m           \u001b[0m         \u001b[1;36m--param gcse-cost-distance-\u001b[0m\u001b[1;33mratio\u001b[0m\u001b[1;36m=\u001b[0m\u001b[1;36m93\u001b[0m\u001b[1;36m --param \u001b[0m                 \u001b[2m            \u001b[0m\n",
       "\u001b[2;36m           \u001b[0m         \u001b[1;36miv-max-considered-\u001b[0m\u001b[1;33muses\u001b[0m\u001b[1;36m=\u001b[0m\u001b[1;36m411\u001b[0m\u001b[1;36m \u001b[0m\u001b[1;36m2\u001b[0m\u001b[1;36m>&\u001b[0m\u001b[1;36m1\u001b[0m                              \u001b[2m            \u001b[0m\n"
      ]
     },
     "metadata": {},
     "output_type": "display_data"
    },
    {
     "data": {
      "text/html": [
       "<pre style=\"white-space:pre;overflow-x:auto;line-height:normal;font-family:Menlo,'DejaVu Sans Mono',consolas,'Courier New',monospace\"><span style=\"color: #7fbfbf; text-decoration-color: #7fbfbf\">[11:17:04] </span><span style=\"color: #000080; text-decoration-color: #000080\">INFO    </span> <span style=\"color: #808000; text-decoration-color: #808000; font-weight: bold\">OUT: </span><span style=\"color: #008080; text-decoration-color: #008080; font-weight: bold\">0.91</span>                                                    <span style=\"color: #7f7f7f; text-decoration-color: #7f7f7f\">runner.py:85</span>\n",
       "</pre>\n"
      ],
      "text/plain": [
       "\u001b[2;36m[11:17:04]\u001b[0m\u001b[2;36m \u001b[0m\u001b[34mINFO    \u001b[0m \u001b[1;33mOUT: \u001b[0m\u001b[1;36m0.91\u001b[0m                                                    \u001b[2mrunner.py\u001b[0m\u001b[2m:\u001b[0m\u001b[2m85\u001b[0m\n"
      ]
     },
     "metadata": {},
     "output_type": "display_data"
    },
    {
     "data": {
      "text/html": [
       "<pre style=\"white-space:pre;overflow-x:auto;line-height:normal;font-family:Menlo,'DejaVu Sans Mono',consolas,'Courier New',monospace\"><span style=\"color: #7fbfbf; text-decoration-color: #7fbfbf\">           </span><span style=\"color: #008000; text-decoration-color: #008000\">DEBUG   </span> RUN COMMAND:                                                 <span style=\"color: #7f7f7f; text-decoration-color: #7f7f7f\">runner.py:79</span>\n",
       "<span style=\"color: #7fbfbf; text-decoration-color: #7fbfbf\">           </span>         <span style=\"color: #008080; text-decoration-color: #008080; font-weight: bold\">wc -c </span><span style=\"color: #800080; text-decoration-color: #800080; font-weight: bold\">/Users/qnbhd/Development/gimeltune/examples/gcc/</span><span style=\"color: #ff00ff; text-decoration-color: #ff00ff; font-weight: bold\">015ec77</span> <span style=\"color: #7f7f7f; text-decoration-color: #7f7f7f\">            </span>\n",
       "<span style=\"color: #7fbfbf; text-decoration-color: #7fbfbf\">           </span>         <span style=\"color: #ff00ff; text-decoration-color: #ff00ff; font-weight: bold\">1a12436bd504a81391d297141b0d82e7377ec7f3d84a1810ed8d32317611</span> <span style=\"color: #7f7f7f; text-decoration-color: #7f7f7f\">            </span>\n",
       "<span style=\"color: #7fbfbf; text-decoration-color: #7fbfbf\">           </span>         <span style=\"color: #ff00ff; text-decoration-color: #ff00ff; font-weight: bold\">7.out</span><span style=\"color: #008080; text-decoration-color: #008080; font-weight: bold\"> | awk </span><span style=\"color: #008000; text-decoration-color: #008000\">'{print $1}'</span>                                     <span style=\"color: #7f7f7f; text-decoration-color: #7f7f7f\">            </span>\n",
       "</pre>\n"
      ],
      "text/plain": [
       "\u001b[2;36m          \u001b[0m\u001b[2;36m \u001b[0m\u001b[32mDEBUG   \u001b[0m RUN COMMAND:                                                 \u001b[2mrunner.py\u001b[0m\u001b[2m:\u001b[0m\u001b[2m79\u001b[0m\n",
       "\u001b[2;36m           \u001b[0m         \u001b[1;36mwc -c \u001b[0m\u001b[1;35m/Users/qnbhd/Development/gimeltune/examples/gcc/\u001b[0m\u001b[1;95m015ec77\u001b[0m \u001b[2m            \u001b[0m\n",
       "\u001b[2;36m           \u001b[0m         \u001b[1;95m1a12436bd504a81391d297141b0d82e7377ec7f3d84a1810ed8d32317611\u001b[0m \u001b[2m            \u001b[0m\n",
       "\u001b[2;36m           \u001b[0m         \u001b[1;95m7.out\u001b[0m\u001b[1;36m | awk \u001b[0m\u001b[32m'\u001b[0m\u001b[32m{\u001b[0m\u001b[32mprint $1\u001b[0m\u001b[32m}\u001b[0m\u001b[32m'\u001b[0m                                     \u001b[2m            \u001b[0m\n"
      ]
     },
     "metadata": {},
     "output_type": "display_data"
    },
    {
     "data": {
      "text/html": [
       "<pre style=\"white-space:pre;overflow-x:auto;line-height:normal;font-family:Menlo,'DejaVu Sans Mono',consolas,'Courier New',monospace\"><span style=\"color: #7fbfbf; text-decoration-color: #7fbfbf\">           </span><span style=\"color: #000080; text-decoration-color: #000080\">INFO    </span> <span style=\"color: #808000; text-decoration-color: #808000; font-weight: bold\">OUT: </span><span style=\"color: #008080; text-decoration-color: #008080; font-weight: bold\">50904</span>                                                   <span style=\"color: #7f7f7f; text-decoration-color: #7f7f7f\">runner.py:85</span>\n",
       "</pre>\n"
      ],
      "text/plain": [
       "\u001b[2;36m          \u001b[0m\u001b[2;36m \u001b[0m\u001b[34mINFO    \u001b[0m \u001b[1;33mOUT: \u001b[0m\u001b[1;36m50904\u001b[0m                                                   \u001b[2mrunner.py\u001b[0m\u001b[2m:\u001b[0m\u001b[2m85\u001b[0m\n"
      ]
     },
     "metadata": {},
     "output_type": "display_data"
    },
    {
     "data": {
      "text/html": [
       "<pre style=\"white-space:pre;overflow-x:auto;line-height:normal;font-family:Menlo,'DejaVu Sans Mono',consolas,'Courier New',monospace\"><span style=\"color: #7fbfbf; text-decoration-color: #7fbfbf\">           </span><span style=\"color: #008000; text-decoration-color: #008000\">DEBUG   </span> RUN COMMAND:                                                 <span style=\"color: #7f7f7f; text-decoration-color: #7f7f7f\">runner.py:79</span>\n",
       "<span style=\"color: #7fbfbf; text-decoration-color: #7fbfbf\">           </span>         <span style=\"color: #008080; text-decoration-color: #008080; font-weight: bold\">gtime -f </span><span style=\"color: #008000; text-decoration-color: #008000\">'%e'</span><span style=\"color: #008080; text-decoration-color: #008080; font-weight: bold\"> </span><span style=\"color: #800080; text-decoration-color: #800080; font-weight: bold\">/Users/qnbhd/Development/gimeltune/examples/gcc</span> <span style=\"color: #7f7f7f; text-decoration-color: #7f7f7f\">            </span>\n",
       "<span style=\"color: #7fbfbf; text-decoration-color: #7fbfbf\">           </span>         <span style=\"color: #800080; text-decoration-color: #800080; font-weight: bold\">/</span><span style=\"color: #ff00ff; text-decoration-color: #ff00ff; font-weight: bold\">015ec771a12436bd504a81391d297141b0d82e7377ec7f3d84a1810ed8d</span> <span style=\"color: #7f7f7f; text-decoration-color: #7f7f7f\">            </span>\n",
       "<span style=\"color: #7fbfbf; text-decoration-color: #7fbfbf\">           </span>         <span style=\"color: #ff00ff; text-decoration-color: #ff00ff; font-weight: bold\">323176117.out</span><span style=\"color: #008080; text-decoration-color: #008080; font-weight: bold\"> </span><span style=\"color: #008080; text-decoration-color: #008080; font-weight: bold\">2</span><span style=\"color: #008080; text-decoration-color: #008080; font-weight: bold\">&gt;&amp;</span><span style=\"color: #008080; text-decoration-color: #008080; font-weight: bold\">1</span>                                           <span style=\"color: #7f7f7f; text-decoration-color: #7f7f7f\">            </span>\n",
       "</pre>\n"
      ],
      "text/plain": [
       "\u001b[2;36m          \u001b[0m\u001b[2;36m \u001b[0m\u001b[32mDEBUG   \u001b[0m RUN COMMAND:                                                 \u001b[2mrunner.py\u001b[0m\u001b[2m:\u001b[0m\u001b[2m79\u001b[0m\n",
       "\u001b[2;36m           \u001b[0m         \u001b[1;36mgtime -f \u001b[0m\u001b[32m'%e'\u001b[0m\u001b[1;36m \u001b[0m\u001b[1;35m/Users/qnbhd/Development/gimeltune/examples/gcc\u001b[0m \u001b[2m            \u001b[0m\n",
       "\u001b[2;36m           \u001b[0m         \u001b[1;35m/\u001b[0m\u001b[1;95m015ec771a12436bd504a81391d297141b0d82e7377ec7f3d84a1810ed8d\u001b[0m \u001b[2m            \u001b[0m\n",
       "\u001b[2;36m           \u001b[0m         \u001b[1;95m323176117.out\u001b[0m\u001b[1;36m \u001b[0m\u001b[1;36m2\u001b[0m\u001b[1;36m>&\u001b[0m\u001b[1;36m1\u001b[0m                                           \u001b[2m            \u001b[0m\n"
      ]
     },
     "metadata": {},
     "output_type": "display_data"
    },
    {
     "data": {
      "text/html": [
       "<pre style=\"white-space:pre;overflow-x:auto;line-height:normal;font-family:Menlo,'DejaVu Sans Mono',consolas,'Courier New',monospace\"><span style=\"color: #7fbfbf; text-decoration-color: #7fbfbf\">           </span><span style=\"color: #000080; text-decoration-color: #000080\">INFO    </span> <span style=\"color: #808000; text-decoration-color: #808000; font-weight: bold\">OUT: </span><span style=\"color: #008080; text-decoration-color: #008080; font-weight: bold\">0.30</span>                                                    <span style=\"color: #7f7f7f; text-decoration-color: #7f7f7f\">runner.py:85</span>\n",
       "</pre>\n"
      ],
      "text/plain": [
       "\u001b[2;36m          \u001b[0m\u001b[2;36m \u001b[0m\u001b[34mINFO    \u001b[0m \u001b[1;33mOUT: \u001b[0m\u001b[1;36m0.30\u001b[0m                                                    \u001b[2mrunner.py\u001b[0m\u001b[2m:\u001b[0m\u001b[2m85\u001b[0m\n"
      ]
     },
     "metadata": {},
     "output_type": "display_data"
    },
    {
     "data": {
      "text/html": [
       "<pre style=\"white-space:pre;overflow-x:auto;line-height:normal;font-family:Menlo,'DejaVu Sans Mono',consolas,'Courier New',monospace\"><span style=\"color: #7fbfbf; text-decoration-color: #7fbfbf\">           </span><span style=\"color: #008000; text-decoration-color: #008000\">DEBUG   </span> RUN COMMAND:                                                 <span style=\"color: #7f7f7f; text-decoration-color: #7f7f7f\">runner.py:79</span>\n",
       "<span style=\"color: #7fbfbf; text-decoration-color: #7fbfbf\">           </span>         <span style=\"color: #008080; text-decoration-color: #008080; font-weight: bold\">gtime -f </span><span style=\"color: #008000; text-decoration-color: #008000\">'%e'</span><span style=\"color: #008080; text-decoration-color: #008080; font-weight: bold\"> </span><span style=\"color: #800080; text-decoration-color: #800080; font-weight: bold\">/Users/qnbhd/Development/gimeltune/examples/gcc</span> <span style=\"color: #7f7f7f; text-decoration-color: #7f7f7f\">            </span>\n",
       "<span style=\"color: #7fbfbf; text-decoration-color: #7fbfbf\">           </span>         <span style=\"color: #800080; text-decoration-color: #800080; font-weight: bold\">/</span><span style=\"color: #ff00ff; text-decoration-color: #ff00ff; font-weight: bold\">015ec771a12436bd504a81391d297141b0d82e7377ec7f3d84a1810ed8d</span> <span style=\"color: #7f7f7f; text-decoration-color: #7f7f7f\">            </span>\n",
       "<span style=\"color: #7fbfbf; text-decoration-color: #7fbfbf\">           </span>         <span style=\"color: #ff00ff; text-decoration-color: #ff00ff; font-weight: bold\">323176117.out</span><span style=\"color: #008080; text-decoration-color: #008080; font-weight: bold\"> </span><span style=\"color: #008080; text-decoration-color: #008080; font-weight: bold\">2</span><span style=\"color: #008080; text-decoration-color: #008080; font-weight: bold\">&gt;&amp;</span><span style=\"color: #008080; text-decoration-color: #008080; font-weight: bold\">1</span>                                           <span style=\"color: #7f7f7f; text-decoration-color: #7f7f7f\">            </span>\n",
       "</pre>\n"
      ],
      "text/plain": [
       "\u001b[2;36m          \u001b[0m\u001b[2;36m \u001b[0m\u001b[32mDEBUG   \u001b[0m RUN COMMAND:                                                 \u001b[2mrunner.py\u001b[0m\u001b[2m:\u001b[0m\u001b[2m79\u001b[0m\n",
       "\u001b[2;36m           \u001b[0m         \u001b[1;36mgtime -f \u001b[0m\u001b[32m'%e'\u001b[0m\u001b[1;36m \u001b[0m\u001b[1;35m/Users/qnbhd/Development/gimeltune/examples/gcc\u001b[0m \u001b[2m            \u001b[0m\n",
       "\u001b[2;36m           \u001b[0m         \u001b[1;35m/\u001b[0m\u001b[1;95m015ec771a12436bd504a81391d297141b0d82e7377ec7f3d84a1810ed8d\u001b[0m \u001b[2m            \u001b[0m\n",
       "\u001b[2;36m           \u001b[0m         \u001b[1;95m323176117.out\u001b[0m\u001b[1;36m \u001b[0m\u001b[1;36m2\u001b[0m\u001b[1;36m>&\u001b[0m\u001b[1;36m1\u001b[0m                                           \u001b[2m            \u001b[0m\n"
      ]
     },
     "metadata": {},
     "output_type": "display_data"
    },
    {
     "data": {
      "text/html": [
       "<pre style=\"white-space:pre;overflow-x:auto;line-height:normal;font-family:Menlo,'DejaVu Sans Mono',consolas,'Courier New',monospace\"><span style=\"color: #7fbfbf; text-decoration-color: #7fbfbf\">[11:17:05] </span><span style=\"color: #000080; text-decoration-color: #000080\">INFO    </span> <span style=\"color: #808000; text-decoration-color: #808000; font-weight: bold\">OUT: </span><span style=\"color: #008080; text-decoration-color: #008080; font-weight: bold\">0.10</span>                                                    <span style=\"color: #7f7f7f; text-decoration-color: #7f7f7f\">runner.py:85</span>\n",
       "</pre>\n"
      ],
      "text/plain": [
       "\u001b[2;36m[11:17:05]\u001b[0m\u001b[2;36m \u001b[0m\u001b[34mINFO    \u001b[0m \u001b[1;33mOUT: \u001b[0m\u001b[1;36m0.10\u001b[0m                                                    \u001b[2mrunner.py\u001b[0m\u001b[2m:\u001b[0m\u001b[2m85\u001b[0m\n"
      ]
     },
     "metadata": {},
     "output_type": "display_data"
    },
    {
     "data": {
      "text/html": [
       "<pre style=\"white-space:pre;overflow-x:auto;line-height:normal;font-family:Menlo,'DejaVu Sans Mono',consolas,'Courier New',monospace\"><span style=\"color: #7fbfbf; text-decoration-color: #7fbfbf\">           </span><span style=\"color: #008000; text-decoration-color: #008000\">DEBUG   </span> RUN COMMAND:                                                 <span style=\"color: #7f7f7f; text-decoration-color: #7f7f7f\">runner.py:79</span>\n",
       "<span style=\"color: #7fbfbf; text-decoration-color: #7fbfbf\">           </span>         <span style=\"color: #008080; text-decoration-color: #008080; font-weight: bold\">gtime -f </span><span style=\"color: #008000; text-decoration-color: #008000\">'%e'</span><span style=\"color: #008080; text-decoration-color: #008080; font-weight: bold\"> </span><span style=\"color: #800080; text-decoration-color: #800080; font-weight: bold\">/Users/qnbhd/Development/gimeltune/examples/gcc</span> <span style=\"color: #7f7f7f; text-decoration-color: #7f7f7f\">            </span>\n",
       "<span style=\"color: #7fbfbf; text-decoration-color: #7fbfbf\">           </span>         <span style=\"color: #800080; text-decoration-color: #800080; font-weight: bold\">/</span><span style=\"color: #ff00ff; text-decoration-color: #ff00ff; font-weight: bold\">015ec771a12436bd504a81391d297141b0d82e7377ec7f3d84a1810ed8d</span> <span style=\"color: #7f7f7f; text-decoration-color: #7f7f7f\">            </span>\n",
       "<span style=\"color: #7fbfbf; text-decoration-color: #7fbfbf\">           </span>         <span style=\"color: #ff00ff; text-decoration-color: #ff00ff; font-weight: bold\">323176117.out</span><span style=\"color: #008080; text-decoration-color: #008080; font-weight: bold\"> </span><span style=\"color: #008080; text-decoration-color: #008080; font-weight: bold\">2</span><span style=\"color: #008080; text-decoration-color: #008080; font-weight: bold\">&gt;&amp;</span><span style=\"color: #008080; text-decoration-color: #008080; font-weight: bold\">1</span>                                           <span style=\"color: #7f7f7f; text-decoration-color: #7f7f7f\">            </span>\n",
       "</pre>\n"
      ],
      "text/plain": [
       "\u001b[2;36m          \u001b[0m\u001b[2;36m \u001b[0m\u001b[32mDEBUG   \u001b[0m RUN COMMAND:                                                 \u001b[2mrunner.py\u001b[0m\u001b[2m:\u001b[0m\u001b[2m79\u001b[0m\n",
       "\u001b[2;36m           \u001b[0m         \u001b[1;36mgtime -f \u001b[0m\u001b[32m'%e'\u001b[0m\u001b[1;36m \u001b[0m\u001b[1;35m/Users/qnbhd/Development/gimeltune/examples/gcc\u001b[0m \u001b[2m            \u001b[0m\n",
       "\u001b[2;36m           \u001b[0m         \u001b[1;35m/\u001b[0m\u001b[1;95m015ec771a12436bd504a81391d297141b0d82e7377ec7f3d84a1810ed8d\u001b[0m \u001b[2m            \u001b[0m\n",
       "\u001b[2;36m           \u001b[0m         \u001b[1;95m323176117.out\u001b[0m\u001b[1;36m \u001b[0m\u001b[1;36m2\u001b[0m\u001b[1;36m>&\u001b[0m\u001b[1;36m1\u001b[0m                                           \u001b[2m            \u001b[0m\n"
      ]
     },
     "metadata": {},
     "output_type": "display_data"
    },
    {
     "data": {
      "text/html": [
       "<pre style=\"white-space:pre;overflow-x:auto;line-height:normal;font-family:Menlo,'DejaVu Sans Mono',consolas,'Courier New',monospace\"><span style=\"color: #7fbfbf; text-decoration-color: #7fbfbf\">           </span><span style=\"color: #000080; text-decoration-color: #000080\">INFO    </span> <span style=\"color: #808000; text-decoration-color: #808000; font-weight: bold\">OUT: </span><span style=\"color: #008080; text-decoration-color: #008080; font-weight: bold\">0.10</span>                                                    <span style=\"color: #7f7f7f; text-decoration-color: #7f7f7f\">runner.py:85</span>\n",
       "</pre>\n"
      ],
      "text/plain": [
       "\u001b[2;36m          \u001b[0m\u001b[2;36m \u001b[0m\u001b[34mINFO    \u001b[0m \u001b[1;33mOUT: \u001b[0m\u001b[1;36m0.10\u001b[0m                                                    \u001b[2mrunner.py\u001b[0m\u001b[2m:\u001b[0m\u001b[2m85\u001b[0m\n"
      ]
     },
     "metadata": {},
     "output_type": "display_data"
    },
    {
     "data": {
      "text/html": [
       "<pre style=\"white-space:pre;overflow-x:auto;line-height:normal;font-family:Menlo,'DejaVu Sans Mono',consolas,'Courier New',monospace\"><span style=\"color: #7fbfbf; text-decoration-color: #7fbfbf\">           </span><span style=\"color: #008000; text-decoration-color: #008000\">DEBUG   </span> RUN COMMAND:                                                 <span style=\"color: #7f7f7f; text-decoration-color: #7f7f7f\">runner.py:79</span>\n",
       "<span style=\"color: #7fbfbf; text-decoration-color: #7fbfbf\">           </span>         <span style=\"color: #008080; text-decoration-color: #008080; font-weight: bold\">gtime -f </span><span style=\"color: #008000; text-decoration-color: #008000\">'%e'</span><span style=\"color: #008080; text-decoration-color: #008080; font-weight: bold\"> </span><span style=\"color: #800080; text-decoration-color: #800080; font-weight: bold\">/Users/qnbhd/Development/gimeltune/examples/gcc</span> <span style=\"color: #7f7f7f; text-decoration-color: #7f7f7f\">            </span>\n",
       "<span style=\"color: #7fbfbf; text-decoration-color: #7fbfbf\">           </span>         <span style=\"color: #800080; text-decoration-color: #800080; font-weight: bold\">/</span><span style=\"color: #ff00ff; text-decoration-color: #ff00ff; font-weight: bold\">015ec771a12436bd504a81391d297141b0d82e7377ec7f3d84a1810ed8d</span> <span style=\"color: #7f7f7f; text-decoration-color: #7f7f7f\">            </span>\n",
       "<span style=\"color: #7fbfbf; text-decoration-color: #7fbfbf\">           </span>         <span style=\"color: #ff00ff; text-decoration-color: #ff00ff; font-weight: bold\">323176117.out</span><span style=\"color: #008080; text-decoration-color: #008080; font-weight: bold\"> </span><span style=\"color: #008080; text-decoration-color: #008080; font-weight: bold\">2</span><span style=\"color: #008080; text-decoration-color: #008080; font-weight: bold\">&gt;&amp;</span><span style=\"color: #008080; text-decoration-color: #008080; font-weight: bold\">1</span>                                           <span style=\"color: #7f7f7f; text-decoration-color: #7f7f7f\">            </span>\n",
       "</pre>\n"
      ],
      "text/plain": [
       "\u001b[2;36m          \u001b[0m\u001b[2;36m \u001b[0m\u001b[32mDEBUG   \u001b[0m RUN COMMAND:                                                 \u001b[2mrunner.py\u001b[0m\u001b[2m:\u001b[0m\u001b[2m79\u001b[0m\n",
       "\u001b[2;36m           \u001b[0m         \u001b[1;36mgtime -f \u001b[0m\u001b[32m'%e'\u001b[0m\u001b[1;36m \u001b[0m\u001b[1;35m/Users/qnbhd/Development/gimeltune/examples/gcc\u001b[0m \u001b[2m            \u001b[0m\n",
       "\u001b[2;36m           \u001b[0m         \u001b[1;35m/\u001b[0m\u001b[1;95m015ec771a12436bd504a81391d297141b0d82e7377ec7f3d84a1810ed8d\u001b[0m \u001b[2m            \u001b[0m\n",
       "\u001b[2;36m           \u001b[0m         \u001b[1;95m323176117.out\u001b[0m\u001b[1;36m \u001b[0m\u001b[1;36m2\u001b[0m\u001b[1;36m>&\u001b[0m\u001b[1;36m1\u001b[0m                                           \u001b[2m            \u001b[0m\n"
      ]
     },
     "metadata": {},
     "output_type": "display_data"
    },
    {
     "data": {
      "text/html": [
       "<pre style=\"white-space:pre;overflow-x:auto;line-height:normal;font-family:Menlo,'DejaVu Sans Mono',consolas,'Courier New',monospace\"><span style=\"color: #7fbfbf; text-decoration-color: #7fbfbf\">           </span><span style=\"color: #000080; text-decoration-color: #000080\">INFO    </span> <span style=\"color: #808000; text-decoration-color: #808000; font-weight: bold\">OUT: </span><span style=\"color: #008080; text-decoration-color: #008080; font-weight: bold\">0.10</span>                                                    <span style=\"color: #7f7f7f; text-decoration-color: #7f7f7f\">runner.py:85</span>\n",
       "</pre>\n"
      ],
      "text/plain": [
       "\u001b[2;36m          \u001b[0m\u001b[2;36m \u001b[0m\u001b[34mINFO    \u001b[0m \u001b[1;33mOUT: \u001b[0m\u001b[1;36m0.10\u001b[0m                                                    \u001b[2mrunner.py\u001b[0m\u001b[2m:\u001b[0m\u001b[2m85\u001b[0m\n"
      ]
     },
     "metadata": {},
     "output_type": "display_data"
    },
    {
     "data": {
      "text/html": [
       "<pre style=\"white-space:pre;overflow-x:auto;line-height:normal;font-family:Menlo,'DejaVu Sans Mono',consolas,'Courier New',monospace\"><span style=\"color: #7fbfbf; text-decoration-color: #7fbfbf\">           </span><span style=\"color: #008000; text-decoration-color: #008000\">DEBUG   </span> RUN COMMAND:                                                 <span style=\"color: #7f7f7f; text-decoration-color: #7f7f7f\">runner.py:79</span>\n",
       "<span style=\"color: #7fbfbf; text-decoration-color: #7fbfbf\">           </span>         <span style=\"color: #008080; text-decoration-color: #008080; font-weight: bold\">gtime -f </span><span style=\"color: #008000; text-decoration-color: #008000\">'%e'</span><span style=\"color: #008080; text-decoration-color: #008080; font-weight: bold\"> </span><span style=\"color: #800080; text-decoration-color: #800080; font-weight: bold\">/Users/qnbhd/Development/gimeltune/examples/gcc</span> <span style=\"color: #7f7f7f; text-decoration-color: #7f7f7f\">            </span>\n",
       "<span style=\"color: #7fbfbf; text-decoration-color: #7fbfbf\">           </span>         <span style=\"color: #800080; text-decoration-color: #800080; font-weight: bold\">/</span><span style=\"color: #ff00ff; text-decoration-color: #ff00ff; font-weight: bold\">015ec771a12436bd504a81391d297141b0d82e7377ec7f3d84a1810ed8d</span> <span style=\"color: #7f7f7f; text-decoration-color: #7f7f7f\">            </span>\n",
       "<span style=\"color: #7fbfbf; text-decoration-color: #7fbfbf\">           </span>         <span style=\"color: #ff00ff; text-decoration-color: #ff00ff; font-weight: bold\">323176117.out</span><span style=\"color: #008080; text-decoration-color: #008080; font-weight: bold\"> </span><span style=\"color: #008080; text-decoration-color: #008080; font-weight: bold\">2</span><span style=\"color: #008080; text-decoration-color: #008080; font-weight: bold\">&gt;&amp;</span><span style=\"color: #008080; text-decoration-color: #008080; font-weight: bold\">1</span>                                           <span style=\"color: #7f7f7f; text-decoration-color: #7f7f7f\">            </span>\n",
       "</pre>\n"
      ],
      "text/plain": [
       "\u001b[2;36m          \u001b[0m\u001b[2;36m \u001b[0m\u001b[32mDEBUG   \u001b[0m RUN COMMAND:                                                 \u001b[2mrunner.py\u001b[0m\u001b[2m:\u001b[0m\u001b[2m79\u001b[0m\n",
       "\u001b[2;36m           \u001b[0m         \u001b[1;36mgtime -f \u001b[0m\u001b[32m'%e'\u001b[0m\u001b[1;36m \u001b[0m\u001b[1;35m/Users/qnbhd/Development/gimeltune/examples/gcc\u001b[0m \u001b[2m            \u001b[0m\n",
       "\u001b[2;36m           \u001b[0m         \u001b[1;35m/\u001b[0m\u001b[1;95m015ec771a12436bd504a81391d297141b0d82e7377ec7f3d84a1810ed8d\u001b[0m \u001b[2m            \u001b[0m\n",
       "\u001b[2;36m           \u001b[0m         \u001b[1;95m323176117.out\u001b[0m\u001b[1;36m \u001b[0m\u001b[1;36m2\u001b[0m\u001b[1;36m>&\u001b[0m\u001b[1;36m1\u001b[0m                                           \u001b[2m            \u001b[0m\n"
      ]
     },
     "metadata": {},
     "output_type": "display_data"
    },
    {
     "data": {
      "text/html": [
       "<pre style=\"white-space:pre;overflow-x:auto;line-height:normal;font-family:Menlo,'DejaVu Sans Mono',consolas,'Courier New',monospace\"><span style=\"color: #7fbfbf; text-decoration-color: #7fbfbf\">           </span><span style=\"color: #000080; text-decoration-color: #000080\">INFO    </span> <span style=\"color: #808000; text-decoration-color: #808000; font-weight: bold\">OUT: </span><span style=\"color: #008080; text-decoration-color: #008080; font-weight: bold\">0.10</span>                                                    <span style=\"color: #7f7f7f; text-decoration-color: #7f7f7f\">runner.py:85</span>\n",
       "</pre>\n"
      ],
      "text/plain": [
       "\u001b[2;36m          \u001b[0m\u001b[2;36m \u001b[0m\u001b[34mINFO    \u001b[0m \u001b[1;33mOUT: \u001b[0m\u001b[1;36m0.10\u001b[0m                                                    \u001b[2mrunner.py\u001b[0m\u001b[2m:\u001b[0m\u001b[2m85\u001b[0m\n"
      ]
     },
     "metadata": {},
     "output_type": "display_data"
    },
    {
     "data": {
      "text/html": [
       "<pre style=\"white-space:pre;overflow-x:auto;line-height:normal;font-family:Menlo,'DejaVu Sans Mono',consolas,'Courier New',monospace\"><span style=\"color: #7fbfbf; text-decoration-color: #7fbfbf\">           </span><span style=\"color: #008000; text-decoration-color: #008000\">DEBUG   </span> RUN COMMAND:                                                 <span style=\"color: #7f7f7f; text-decoration-color: #7f7f7f\">runner.py:79</span>\n",
       "<span style=\"color: #7fbfbf; text-decoration-color: #7fbfbf\">           </span>         <span style=\"color: #008080; text-decoration-color: #008080; font-weight: bold\">rm </span><span style=\"color: #800080; text-decoration-color: #800080; font-weight: bold\">/Users/qnbhd/Development/gimeltune/examples/gcc/</span><span style=\"color: #ff00ff; text-decoration-color: #ff00ff; font-weight: bold\">015ec771a1</span> <span style=\"color: #7f7f7f; text-decoration-color: #7f7f7f\">            </span>\n",
       "<span style=\"color: #7fbfbf; text-decoration-color: #7fbfbf\">           </span>         <span style=\"color: #ff00ff; text-decoration-color: #ff00ff; font-weight: bold\">2436bd504a81391d297141b0d82e7377ec7f3d84a1810ed8d323176117.o</span> <span style=\"color: #7f7f7f; text-decoration-color: #7f7f7f\">            </span>\n",
       "<span style=\"color: #7fbfbf; text-decoration-color: #7fbfbf\">           </span>         <span style=\"color: #ff00ff; text-decoration-color: #ff00ff; font-weight: bold\">ut</span>                                                           <span style=\"color: #7f7f7f; text-decoration-color: #7f7f7f\">            </span>\n",
       "</pre>\n"
      ],
      "text/plain": [
       "\u001b[2;36m          \u001b[0m\u001b[2;36m \u001b[0m\u001b[32mDEBUG   \u001b[0m RUN COMMAND:                                                 \u001b[2mrunner.py\u001b[0m\u001b[2m:\u001b[0m\u001b[2m79\u001b[0m\n",
       "\u001b[2;36m           \u001b[0m         \u001b[1;36mrm \u001b[0m\u001b[1;35m/Users/qnbhd/Development/gimeltune/examples/gcc/\u001b[0m\u001b[1;95m015ec771a1\u001b[0m \u001b[2m            \u001b[0m\n",
       "\u001b[2;36m           \u001b[0m         \u001b[1;95m2436bd504a81391d297141b0d82e7377ec7f3d84a1810ed8d323176117.o\u001b[0m \u001b[2m            \u001b[0m\n",
       "\u001b[2;36m           \u001b[0m         \u001b[1;95mut\u001b[0m                                                           \u001b[2m            \u001b[0m\n"
      ]
     },
     "metadata": {},
     "output_type": "display_data"
    },
    {
     "data": {
      "text/html": [
       "<pre style=\"white-space:pre;overflow-x:auto;line-height:normal;font-family:Menlo,'DejaVu Sans Mono',consolas,'Courier New',monospace\"><span style=\"color: #7fbfbf; text-decoration-color: #7fbfbf\">           </span><span style=\"color: #000080; text-decoration-color: #000080\">INFO    </span> Experiments <span style=\"color: #800080; text-decoration-color: #800080; font-weight: bold\">Experiment</span><span style=\"font-weight: bold\">({</span>                                    <span style=\"color: #7f7f7f; text-decoration-color: #7f7f7f\">runner.py:174</span>\n",
       "<span style=\"color: #7fbfbf; text-decoration-color: #7fbfbf\">           </span>             <span style=\"color: #008000; text-decoration-color: #008000\">\"id\"</span>: <span style=\"color: #008080; text-decoration-color: #008080; font-weight: bold\">7</span>,                                                <span style=\"color: #7f7f7f; text-decoration-color: #7f7f7f\">             </span>\n",
       "<span style=\"color: #7fbfbf; text-decoration-color: #7fbfbf\">           </span>             <span style=\"color: #008000; text-decoration-color: #008000\">\"job_id\"</span>: <span style=\"color: #008080; text-decoration-color: #008080; font-weight: bold\">1</span>,                                            <span style=\"color: #7f7f7f; text-decoration-color: #7f7f7f\">             </span>\n",
       "<span style=\"color: #7fbfbf; text-decoration-color: #7fbfbf\">           </span>             <span style=\"color: #008000; text-decoration-color: #008000\">\"state\"</span>: <span style=\"color: #008000; text-decoration-color: #008000\">\"WIP\"</span>,                                         <span style=\"color: #7f7f7f; text-decoration-color: #7f7f7f\">             </span>\n",
       "<span style=\"color: #7fbfbf; text-decoration-color: #7fbfbf\">           </span>             <span style=\"color: #008000; text-decoration-color: #008000\">\"hash\"</span>: null,                                           <span style=\"color: #7f7f7f; text-decoration-color: #7f7f7f\">             </span>\n",
       "<span style=\"color: #7fbfbf; text-decoration-color: #7fbfbf\">           </span>             <span style=\"color: #008000; text-decoration-color: #008000\">\"objective_result\"</span>: <span style=\"color: #008080; text-decoration-color: #008080; font-weight: bold\">10000000000.0</span>,                      <span style=\"color: #7f7f7f; text-decoration-color: #7f7f7f\">             </span>\n",
       "<span style=\"color: #7fbfbf; text-decoration-color: #7fbfbf\">           </span>             <span style=\"color: #008000; text-decoration-color: #008000\">\"params\"</span>: <span style=\"font-weight: bold\">{</span>                                             <span style=\"color: #7f7f7f; text-decoration-color: #7f7f7f\">             </span>\n",
       "<span style=\"color: #7fbfbf; text-decoration-color: #7fbfbf\">           </span>                 <span style=\"color: #008000; text-decoration-color: #008000\">\"-O\"</span>: null,                                         <span style=\"color: #7f7f7f; text-decoration-color: #7f7f7f\">             </span>\n",
       "<span style=\"color: #7fbfbf; text-decoration-color: #7fbfbf\">           </span>                 <span style=\"color: #008000; text-decoration-color: #008000\">\"align-functions\"</span>: null,                            <span style=\"color: #7f7f7f; text-decoration-color: #7f7f7f\">             </span>\n",
       "<span style=\"color: #7fbfbf; text-decoration-color: #7fbfbf\">           </span>                 <span style=\"color: #008000; text-decoration-color: #008000\">\"align-jumps\"</span>: <span style=\"color: #008000; text-decoration-color: #008000\">\"-fno-align-jumps\"</span>,                  <span style=\"color: #7f7f7f; text-decoration-color: #7f7f7f\">             </span>\n",
       "<span style=\"color: #7fbfbf; text-decoration-color: #7fbfbf\">           </span>                 <span style=\"color: #008000; text-decoration-color: #008000\">\"align-labels\"</span>: null,                               <span style=\"color: #7f7f7f; text-decoration-color: #7f7f7f\">             </span>\n",
       "<span style=\"color: #7fbfbf; text-decoration-color: #7fbfbf\">           </span>                 <span style=\"color: #008000; text-decoration-color: #008000\">\"asynchronous-unwind-tables\"</span>:                       <span style=\"color: #7f7f7f; text-decoration-color: #7f7f7f\">             </span>\n",
       "<span style=\"color: #7fbfbf; text-decoration-color: #7fbfbf\">           </span>         <span style=\"color: #008000; text-decoration-color: #008000\">\"-fno-asynchronous-unwind-tables\"</span>,                          <span style=\"color: #7f7f7f; text-decoration-color: #7f7f7f\">             </span>\n",
       "<span style=\"color: #7fbfbf; text-decoration-color: #7fbfbf\">           </span>                 <span style=\"color: #008000; text-decoration-color: #008000\">\"branch-count-reg\"</span>: <span style=\"color: #008000; text-decoration-color: #008000\">\"-fno-branch-count-reg\"</span>,        <span style=\"color: #7f7f7f; text-decoration-color: #7f7f7f\">             </span>\n",
       "<span style=\"color: #7fbfbf; text-decoration-color: #7fbfbf\">           </span>                 <span style=\"color: #008000; text-decoration-color: #008000\">\"branch-probabilities\"</span>: <span style=\"color: #008000; text-decoration-color: #008000\">\"-fbranch-probabilities\"</span>,   <span style=\"color: #7f7f7f; text-decoration-color: #7f7f7f\">             </span>\n",
       "<span style=\"color: #7fbfbf; text-decoration-color: #7fbfbf\">           </span>                 <span style=\"color: #008000; text-decoration-color: #008000\">\"early-inlining-insns\"</span>: <span style=\"color: #008080; text-decoration-color: #008080; font-weight: bold\">505</span>,                        <span style=\"color: #7f7f7f; text-decoration-color: #7f7f7f\">             </span>\n",
       "<span style=\"color: #7fbfbf; text-decoration-color: #7fbfbf\">           </span>                 <span style=\"color: #008000; text-decoration-color: #008000\">\"gcse-cost-distance-ratio\"</span>: <span style=\"color: #008080; text-decoration-color: #008080; font-weight: bold\">37</span>,                     <span style=\"color: #7f7f7f; text-decoration-color: #7f7f7f\">             </span>\n",
       "<span style=\"color: #7fbfbf; text-decoration-color: #7fbfbf\">           </span>                 <span style=\"color: #008000; text-decoration-color: #008000\">\"iv-max-considered-uses\"</span>: <span style=\"color: #008080; text-decoration-color: #008080; font-weight: bold\">476</span>                       <span style=\"color: #7f7f7f; text-decoration-color: #7f7f7f\">             </span>\n",
       "<span style=\"color: #7fbfbf; text-decoration-color: #7fbfbf\">           </span>             <span style=\"font-weight: bold\">}</span>,                                                      <span style=\"color: #7f7f7f; text-decoration-color: #7f7f7f\">             </span>\n",
       "<span style=\"color: #7fbfbf; text-decoration-color: #7fbfbf\">           </span>             <span style=\"color: #008000; text-decoration-color: #008000\">\"requestor\"</span>: <span style=\"color: #008000; text-decoration-color: #008000\">\"SkoptBayesianAlgorithm\"</span>,                  <span style=\"color: #7f7f7f; text-decoration-color: #7f7f7f\">             </span>\n",
       "<span style=\"color: #7fbfbf; text-decoration-color: #7fbfbf\">           </span>             <span style=\"color: #008000; text-decoration-color: #008000\">\"create_timestamp\"</span>: <span style=\"color: #008080; text-decoration-color: #008080; font-weight: bold\">1645690622.933987</span>,                  <span style=\"color: #7f7f7f; text-decoration-color: #7f7f7f\">             </span>\n",
       "<span style=\"color: #7fbfbf; text-decoration-color: #7fbfbf\">           </span>             <span style=\"color: #008000; text-decoration-color: #008000\">\"finish_timestamp\"</span>: null                                <span style=\"color: #7f7f7f; text-decoration-color: #7f7f7f\">             </span>\n",
       "<span style=\"color: #7fbfbf; text-decoration-color: #7fbfbf\">           </span>         <span style=\"font-weight: bold\">})</span> has inf result.                                          <span style=\"color: #7f7f7f; text-decoration-color: #7f7f7f\">             </span>\n",
       "</pre>\n"
      ],
      "text/plain": [
       "\u001b[2;36m          \u001b[0m\u001b[2;36m \u001b[0m\u001b[34mINFO    \u001b[0m Experiments \u001b[1;35mExperiment\u001b[0m\u001b[1m(\u001b[0m\u001b[1m{\u001b[0m                                    \u001b[2mrunner.py\u001b[0m\u001b[2m:\u001b[0m\u001b[2m174\u001b[0m\n",
       "\u001b[2;36m           \u001b[0m             \u001b[32m\"id\"\u001b[0m: \u001b[1;36m7\u001b[0m,                                                \u001b[2m             \u001b[0m\n",
       "\u001b[2;36m           \u001b[0m             \u001b[32m\"job_id\"\u001b[0m: \u001b[1;36m1\u001b[0m,                                            \u001b[2m             \u001b[0m\n",
       "\u001b[2;36m           \u001b[0m             \u001b[32m\"state\"\u001b[0m: \u001b[32m\"WIP\"\u001b[0m,                                         \u001b[2m             \u001b[0m\n",
       "\u001b[2;36m           \u001b[0m             \u001b[32m\"hash\"\u001b[0m: null,                                           \u001b[2m             \u001b[0m\n",
       "\u001b[2;36m           \u001b[0m             \u001b[32m\"objective_result\"\u001b[0m: \u001b[1;36m10000000000.0\u001b[0m,                      \u001b[2m             \u001b[0m\n",
       "\u001b[2;36m           \u001b[0m             \u001b[32m\"params\"\u001b[0m: \u001b[1m{\u001b[0m                                             \u001b[2m             \u001b[0m\n",
       "\u001b[2;36m           \u001b[0m                 \u001b[32m\"-O\"\u001b[0m: null,                                         \u001b[2m             \u001b[0m\n",
       "\u001b[2;36m           \u001b[0m                 \u001b[32m\"align-functions\"\u001b[0m: null,                            \u001b[2m             \u001b[0m\n",
       "\u001b[2;36m           \u001b[0m                 \u001b[32m\"align-jumps\"\u001b[0m: \u001b[32m\"-fno-align-jumps\"\u001b[0m,                  \u001b[2m             \u001b[0m\n",
       "\u001b[2;36m           \u001b[0m                 \u001b[32m\"align-labels\"\u001b[0m: null,                               \u001b[2m             \u001b[0m\n",
       "\u001b[2;36m           \u001b[0m                 \u001b[32m\"asynchronous-unwind-tables\"\u001b[0m:                       \u001b[2m             \u001b[0m\n",
       "\u001b[2;36m           \u001b[0m         \u001b[32m\"-fno-asynchronous-unwind-tables\"\u001b[0m,                          \u001b[2m             \u001b[0m\n",
       "\u001b[2;36m           \u001b[0m                 \u001b[32m\"branch-count-reg\"\u001b[0m: \u001b[32m\"-fno-branch-count-reg\"\u001b[0m,        \u001b[2m             \u001b[0m\n",
       "\u001b[2;36m           \u001b[0m                 \u001b[32m\"branch-probabilities\"\u001b[0m: \u001b[32m\"-fbranch-probabilities\"\u001b[0m,   \u001b[2m             \u001b[0m\n",
       "\u001b[2;36m           \u001b[0m                 \u001b[32m\"early-inlining-insns\"\u001b[0m: \u001b[1;36m505\u001b[0m,                        \u001b[2m             \u001b[0m\n",
       "\u001b[2;36m           \u001b[0m                 \u001b[32m\"gcse-cost-distance-ratio\"\u001b[0m: \u001b[1;36m37\u001b[0m,                     \u001b[2m             \u001b[0m\n",
       "\u001b[2;36m           \u001b[0m                 \u001b[32m\"iv-max-considered-uses\"\u001b[0m: \u001b[1;36m476\u001b[0m                       \u001b[2m             \u001b[0m\n",
       "\u001b[2;36m           \u001b[0m             \u001b[1m}\u001b[0m,                                                      \u001b[2m             \u001b[0m\n",
       "\u001b[2;36m           \u001b[0m             \u001b[32m\"requestor\"\u001b[0m: \u001b[32m\"SkoptBayesianAlgorithm\"\u001b[0m,                  \u001b[2m             \u001b[0m\n",
       "\u001b[2;36m           \u001b[0m             \u001b[32m\"create_timestamp\"\u001b[0m: \u001b[1;36m1645690622.933987\u001b[0m,                  \u001b[2m             \u001b[0m\n",
       "\u001b[2;36m           \u001b[0m             \u001b[32m\"finish_timestamp\"\u001b[0m: null                                \u001b[2m             \u001b[0m\n",
       "\u001b[2;36m           \u001b[0m         \u001b[1m}\u001b[0m\u001b[1m)\u001b[0m has inf result.                                          \u001b[2m             \u001b[0m\n"
      ]
     },
     "metadata": {},
     "output_type": "display_data"
    },
    {
     "name": "stderr",
     "output_type": "stream",
     "text": [
      "/Users/qnbhd/Development/gimeltune/gimeltune/search/algorithms/skopt.py:58: UserWarning: Now per-emit count in skopt technique implemented not correctly. Per-emit count is property, return default value (1).\n",
      "  warnings.warn('Now per-emit count in skopt technique implemented not correctly.'\n"
     ]
    },
    {
     "data": {
      "text/html": [
       "<pre style=\"white-space:pre;overflow-x:auto;line-height:normal;font-family:Menlo,'DejaVu Sans Mono',consolas,'Courier New',monospace\"><span style=\"color: #7fbfbf; text-decoration-color: #7fbfbf\">           </span><span style=\"color: #000080; text-decoration-color: #000080\">INFO    </span> Trying experiment: <span style=\"color: #800080; text-decoration-color: #800080; font-weight: bold\">Experiment</span><span style=\"font-weight: bold\">({</span>                             <span style=\"color: #7f7f7f; text-decoration-color: #7f7f7f\">runner.py:156</span>\n",
       "<span style=\"color: #7fbfbf; text-decoration-color: #7fbfbf\">           </span>             <span style=\"color: #008000; text-decoration-color: #008000\">\"id\"</span>: <span style=\"color: #008080; text-decoration-color: #008080; font-weight: bold\">9</span>,                                                <span style=\"color: #7f7f7f; text-decoration-color: #7f7f7f\">             </span>\n",
       "<span style=\"color: #7fbfbf; text-decoration-color: #7fbfbf\">           </span>             <span style=\"color: #008000; text-decoration-color: #008000\">\"job_id\"</span>: <span style=\"color: #008080; text-decoration-color: #008080; font-weight: bold\">1</span>,                                            <span style=\"color: #7f7f7f; text-decoration-color: #7f7f7f\">             </span>\n",
       "<span style=\"color: #7fbfbf; text-decoration-color: #7fbfbf\">           </span>             <span style=\"color: #008000; text-decoration-color: #008000\">\"state\"</span>: <span style=\"color: #008000; text-decoration-color: #008000\">\"WIP\"</span>,                                         <span style=\"color: #7f7f7f; text-decoration-color: #7f7f7f\">             </span>\n",
       "<span style=\"color: #7fbfbf; text-decoration-color: #7fbfbf\">           </span>             <span style=\"color: #008000; text-decoration-color: #008000\">\"hash\"</span>: null,                                           <span style=\"color: #7f7f7f; text-decoration-color: #7f7f7f\">             </span>\n",
       "<span style=\"color: #7fbfbf; text-decoration-color: #7fbfbf\">           </span>             <span style=\"color: #008000; text-decoration-color: #008000\">\"objective_result\"</span>: null,                               <span style=\"color: #7f7f7f; text-decoration-color: #7f7f7f\">             </span>\n",
       "<span style=\"color: #7fbfbf; text-decoration-color: #7fbfbf\">           </span>             <span style=\"color: #008000; text-decoration-color: #008000\">\"params\"</span>: <span style=\"font-weight: bold\">{</span>                                             <span style=\"color: #7f7f7f; text-decoration-color: #7f7f7f\">             </span>\n",
       "<span style=\"color: #7fbfbf; text-decoration-color: #7fbfbf\">           </span>                 <span style=\"color: #008000; text-decoration-color: #008000\">\"-O\"</span>: null,                                         <span style=\"color: #7f7f7f; text-decoration-color: #7f7f7f\">             </span>\n",
       "<span style=\"color: #7fbfbf; text-decoration-color: #7fbfbf\">           </span>                 <span style=\"color: #008000; text-decoration-color: #008000\">\"align-functions\"</span>: null,                            <span style=\"color: #7f7f7f; text-decoration-color: #7f7f7f\">             </span>\n",
       "<span style=\"color: #7fbfbf; text-decoration-color: #7fbfbf\">           </span>                 <span style=\"color: #008000; text-decoration-color: #008000\">\"align-jumps\"</span>: <span style=\"color: #008000; text-decoration-color: #008000\">\"-falign-jumps\"</span>,                     <span style=\"color: #7f7f7f; text-decoration-color: #7f7f7f\">             </span>\n",
       "<span style=\"color: #7fbfbf; text-decoration-color: #7fbfbf\">           </span>                 <span style=\"color: #008000; text-decoration-color: #008000\">\"align-labels\"</span>: <span style=\"color: #008000; text-decoration-color: #008000\">\"-falign-labels\"</span>,                   <span style=\"color: #7f7f7f; text-decoration-color: #7f7f7f\">             </span>\n",
       "<span style=\"color: #7fbfbf; text-decoration-color: #7fbfbf\">           </span>                 <span style=\"color: #008000; text-decoration-color: #008000\">\"asynchronous-unwind-tables\"</span>:                       <span style=\"color: #7f7f7f; text-decoration-color: #7f7f7f\">             </span>\n",
       "<span style=\"color: #7fbfbf; text-decoration-color: #7fbfbf\">           </span>         <span style=\"color: #008000; text-decoration-color: #008000\">\"-fno-asynchronous-unwind-tables\"</span>,                          <span style=\"color: #7f7f7f; text-decoration-color: #7f7f7f\">             </span>\n",
       "<span style=\"color: #7fbfbf; text-decoration-color: #7fbfbf\">           </span>                 <span style=\"color: #008000; text-decoration-color: #008000\">\"branch-count-reg\"</span>: <span style=\"color: #008000; text-decoration-color: #008000\">\"-fno-branch-count-reg\"</span>,        <span style=\"color: #7f7f7f; text-decoration-color: #7f7f7f\">             </span>\n",
       "<span style=\"color: #7fbfbf; text-decoration-color: #7fbfbf\">           </span>                 <span style=\"color: #008000; text-decoration-color: #008000\">\"branch-probabilities\"</span>: null,                       <span style=\"color: #7f7f7f; text-decoration-color: #7f7f7f\">             </span>\n",
       "<span style=\"color: #7fbfbf; text-decoration-color: #7fbfbf\">           </span>                 <span style=\"color: #008000; text-decoration-color: #008000\">\"early-inlining-insns\"</span>: <span style=\"color: #008080; text-decoration-color: #008080; font-weight: bold\">382</span>,                        <span style=\"color: #7f7f7f; text-decoration-color: #7f7f7f\">             </span>\n",
       "<span style=\"color: #7fbfbf; text-decoration-color: #7fbfbf\">           </span>                 <span style=\"color: #008000; text-decoration-color: #008000\">\"gcse-cost-distance-ratio\"</span>: <span style=\"color: #008080; text-decoration-color: #008080; font-weight: bold\">90</span>,                     <span style=\"color: #7f7f7f; text-decoration-color: #7f7f7f\">             </span>\n",
       "<span style=\"color: #7fbfbf; text-decoration-color: #7fbfbf\">           </span>                 <span style=\"color: #008000; text-decoration-color: #008000\">\"iv-max-considered-uses\"</span>: <span style=\"color: #008080; text-decoration-color: #008080; font-weight: bold\">140</span>                       <span style=\"color: #7f7f7f; text-decoration-color: #7f7f7f\">             </span>\n",
       "<span style=\"color: #7fbfbf; text-decoration-color: #7fbfbf\">           </span>             <span style=\"font-weight: bold\">}</span>,                                                      <span style=\"color: #7f7f7f; text-decoration-color: #7f7f7f\">             </span>\n",
       "<span style=\"color: #7fbfbf; text-decoration-color: #7fbfbf\">           </span>             <span style=\"color: #008000; text-decoration-color: #008000\">\"requestor\"</span>: <span style=\"color: #008000; text-decoration-color: #008000\">\"SkoptBayesianAlgorithm\"</span>,                  <span style=\"color: #7f7f7f; text-decoration-color: #7f7f7f\">             </span>\n",
       "<span style=\"color: #7fbfbf; text-decoration-color: #7fbfbf\">           </span>             <span style=\"color: #008000; text-decoration-color: #008000\">\"create_timestamp\"</span>: <span style=\"color: #008080; text-decoration-color: #008080; font-weight: bold\">1645690625.494575</span>,                  <span style=\"color: #7f7f7f; text-decoration-color: #7f7f7f\">             </span>\n",
       "<span style=\"color: #7fbfbf; text-decoration-color: #7fbfbf\">           </span>             <span style=\"color: #008000; text-decoration-color: #008000\">\"finish_timestamp\"</span>: null                                <span style=\"color: #7f7f7f; text-decoration-color: #7f7f7f\">             </span>\n",
       "<span style=\"color: #7fbfbf; text-decoration-color: #7fbfbf\">           </span>         <span style=\"font-weight: bold\">})</span>                                                          <span style=\"color: #7f7f7f; text-decoration-color: #7f7f7f\">             </span>\n",
       "</pre>\n"
      ],
      "text/plain": [
       "\u001b[2;36m          \u001b[0m\u001b[2;36m \u001b[0m\u001b[34mINFO    \u001b[0m Trying experiment: \u001b[1;35mExperiment\u001b[0m\u001b[1m(\u001b[0m\u001b[1m{\u001b[0m                             \u001b[2mrunner.py\u001b[0m\u001b[2m:\u001b[0m\u001b[2m156\u001b[0m\n",
       "\u001b[2;36m           \u001b[0m             \u001b[32m\"id\"\u001b[0m: \u001b[1;36m9\u001b[0m,                                                \u001b[2m             \u001b[0m\n",
       "\u001b[2;36m           \u001b[0m             \u001b[32m\"job_id\"\u001b[0m: \u001b[1;36m1\u001b[0m,                                            \u001b[2m             \u001b[0m\n",
       "\u001b[2;36m           \u001b[0m             \u001b[32m\"state\"\u001b[0m: \u001b[32m\"WIP\"\u001b[0m,                                         \u001b[2m             \u001b[0m\n",
       "\u001b[2;36m           \u001b[0m             \u001b[32m\"hash\"\u001b[0m: null,                                           \u001b[2m             \u001b[0m\n",
       "\u001b[2;36m           \u001b[0m             \u001b[32m\"objective_result\"\u001b[0m: null,                               \u001b[2m             \u001b[0m\n",
       "\u001b[2;36m           \u001b[0m             \u001b[32m\"params\"\u001b[0m: \u001b[1m{\u001b[0m                                             \u001b[2m             \u001b[0m\n",
       "\u001b[2;36m           \u001b[0m                 \u001b[32m\"-O\"\u001b[0m: null,                                         \u001b[2m             \u001b[0m\n",
       "\u001b[2;36m           \u001b[0m                 \u001b[32m\"align-functions\"\u001b[0m: null,                            \u001b[2m             \u001b[0m\n",
       "\u001b[2;36m           \u001b[0m                 \u001b[32m\"align-jumps\"\u001b[0m: \u001b[32m\"-falign-jumps\"\u001b[0m,                     \u001b[2m             \u001b[0m\n",
       "\u001b[2;36m           \u001b[0m                 \u001b[32m\"align-labels\"\u001b[0m: \u001b[32m\"-falign-labels\"\u001b[0m,                   \u001b[2m             \u001b[0m\n",
       "\u001b[2;36m           \u001b[0m                 \u001b[32m\"asynchronous-unwind-tables\"\u001b[0m:                       \u001b[2m             \u001b[0m\n",
       "\u001b[2;36m           \u001b[0m         \u001b[32m\"-fno-asynchronous-unwind-tables\"\u001b[0m,                          \u001b[2m             \u001b[0m\n",
       "\u001b[2;36m           \u001b[0m                 \u001b[32m\"branch-count-reg\"\u001b[0m: \u001b[32m\"-fno-branch-count-reg\"\u001b[0m,        \u001b[2m             \u001b[0m\n",
       "\u001b[2;36m           \u001b[0m                 \u001b[32m\"branch-probabilities\"\u001b[0m: null,                       \u001b[2m             \u001b[0m\n",
       "\u001b[2;36m           \u001b[0m                 \u001b[32m\"early-inlining-insns\"\u001b[0m: \u001b[1;36m382\u001b[0m,                        \u001b[2m             \u001b[0m\n",
       "\u001b[2;36m           \u001b[0m                 \u001b[32m\"gcse-cost-distance-ratio\"\u001b[0m: \u001b[1;36m90\u001b[0m,                     \u001b[2m             \u001b[0m\n",
       "\u001b[2;36m           \u001b[0m                 \u001b[32m\"iv-max-considered-uses\"\u001b[0m: \u001b[1;36m140\u001b[0m                       \u001b[2m             \u001b[0m\n",
       "\u001b[2;36m           \u001b[0m             \u001b[1m}\u001b[0m,                                                      \u001b[2m             \u001b[0m\n",
       "\u001b[2;36m           \u001b[0m             \u001b[32m\"requestor\"\u001b[0m: \u001b[32m\"SkoptBayesianAlgorithm\"\u001b[0m,                  \u001b[2m             \u001b[0m\n",
       "\u001b[2;36m           \u001b[0m             \u001b[32m\"create_timestamp\"\u001b[0m: \u001b[1;36m1645690625.494575\u001b[0m,                  \u001b[2m             \u001b[0m\n",
       "\u001b[2;36m           \u001b[0m             \u001b[32m\"finish_timestamp\"\u001b[0m: null                                \u001b[2m             \u001b[0m\n",
       "\u001b[2;36m           \u001b[0m         \u001b[1m}\u001b[0m\u001b[1m)\u001b[0m                                                          \u001b[2m             \u001b[0m\n"
      ]
     },
     "metadata": {},
     "output_type": "display_data"
    },
    {
     "data": {
      "text/html": [
       "<pre style=\"white-space:pre;overflow-x:auto;line-height:normal;font-family:Menlo,'DejaVu Sans Mono',consolas,'Courier New',monospace\"><span style=\"color: #7fbfbf; text-decoration-color: #7fbfbf\">           </span><span style=\"color: #008000; text-decoration-color: #008000\">DEBUG   </span> RUN COMMAND:                                                 <span style=\"color: #7f7f7f; text-decoration-color: #7f7f7f\">runner.py:79</span>\n",
       "<span style=\"color: #7fbfbf; text-decoration-color: #7fbfbf\">           </span>         <span style=\"color: #008080; text-decoration-color: #008080; font-weight: bold\">gtime -f </span><span style=\"color: #008000; text-decoration-color: #008000\">'%e'</span><span style=\"color: #008080; text-decoration-color: #008080; font-weight: bold\"> g++</span><span style=\"color: #008080; text-decoration-color: #008080; font-weight: bold\">-11</span><span style=\"color: #008080; text-decoration-color: #008080; font-weight: bold\"> -o </span><span style=\"color: #800080; text-decoration-color: #800080; font-weight: bold\">/Users/qnbhd/Development/gimeltune/ex</span> <span style=\"color: #7f7f7f; text-decoration-color: #7f7f7f\">            </span>\n",
       "<span style=\"color: #7fbfbf; text-decoration-color: #7fbfbf\">           </span>         <span style=\"color: #800080; text-decoration-color: #800080; font-weight: bold\">amples/gcc/</span><span style=\"color: #ff00ff; text-decoration-color: #ff00ff; font-weight: bold\">12b867578daa2769fc9ce43db158cb001cd10dc1babe60595</span> <span style=\"color: #7f7f7f; text-decoration-color: #7f7f7f\">            </span>\n",
       "<span style=\"color: #7fbfbf; text-decoration-color: #7fbfbf\">           </span>         <span style=\"color: #ff00ff; text-decoration-color: #ff00ff; font-weight: bold\">5fef8a1703ec55862918.out</span><span style=\"color: #008080; text-decoration-color: #008080; font-weight: bold\"> </span><span style=\"color: #800080; text-decoration-color: #800080; font-weight: bold\">/Users/qnbhd/Development/gimeltune/e</span> <span style=\"color: #7f7f7f; text-decoration-color: #7f7f7f\">            </span>\n",
       "<span style=\"color: #7fbfbf; text-decoration-color: #7fbfbf\">           </span>         <span style=\"color: #800080; text-decoration-color: #800080; font-weight: bold\">xamples/gcc/raytracer/</span><span style=\"color: #ff00ff; text-decoration-color: #ff00ff; font-weight: bold\">raytracer.cpp</span><span style=\"color: #008080; text-decoration-color: #008080; font-weight: bold\">   -falign-jumps </span>         <span style=\"color: #7f7f7f; text-decoration-color: #7f7f7f\">            </span>\n",
       "<span style=\"color: #7fbfbf; text-decoration-color: #7fbfbf\">           </span>         <span style=\"color: #008080; text-decoration-color: #008080; font-weight: bold\">-falign-labels -fno-asynchronous-unwind-tables </span>              <span style=\"color: #7f7f7f; text-decoration-color: #7f7f7f\">            </span>\n",
       "<span style=\"color: #7fbfbf; text-decoration-color: #7fbfbf\">           </span>         <span style=\"color: #008080; text-decoration-color: #008080; font-weight: bold\">-fno-branch-count-reg  --param early-inlining-</span><span style=\"color: #808000; text-decoration-color: #808000; font-weight: bold\">insns</span><span style=\"color: #008080; text-decoration-color: #008080; font-weight: bold\">=</span><span style=\"color: #008080; text-decoration-color: #008080; font-weight: bold\">382</span><span style=\"color: #008080; text-decoration-color: #008080; font-weight: bold\"> </span>     <span style=\"color: #7f7f7f; text-decoration-color: #7f7f7f\">            </span>\n",
       "<span style=\"color: #7fbfbf; text-decoration-color: #7fbfbf\">           </span>         <span style=\"color: #008080; text-decoration-color: #008080; font-weight: bold\">--param gcse-cost-distance-</span><span style=\"color: #808000; text-decoration-color: #808000; font-weight: bold\">ratio</span><span style=\"color: #008080; text-decoration-color: #008080; font-weight: bold\">=</span><span style=\"color: #008080; text-decoration-color: #008080; font-weight: bold\">90</span><span style=\"color: #008080; text-decoration-color: #008080; font-weight: bold\"> --param </span>                 <span style=\"color: #7f7f7f; text-decoration-color: #7f7f7f\">            </span>\n",
       "<span style=\"color: #7fbfbf; text-decoration-color: #7fbfbf\">           </span>         <span style=\"color: #008080; text-decoration-color: #008080; font-weight: bold\">iv-max-considered-</span><span style=\"color: #808000; text-decoration-color: #808000; font-weight: bold\">uses</span><span style=\"color: #008080; text-decoration-color: #008080; font-weight: bold\">=</span><span style=\"color: #008080; text-decoration-color: #008080; font-weight: bold\">140</span><span style=\"color: #008080; text-decoration-color: #008080; font-weight: bold\"> </span><span style=\"color: #008080; text-decoration-color: #008080; font-weight: bold\">2</span><span style=\"color: #008080; text-decoration-color: #008080; font-weight: bold\">&gt;&amp;</span><span style=\"color: #008080; text-decoration-color: #008080; font-weight: bold\">1</span>                              <span style=\"color: #7f7f7f; text-decoration-color: #7f7f7f\">            </span>\n",
       "</pre>\n"
      ],
      "text/plain": [
       "\u001b[2;36m          \u001b[0m\u001b[2;36m \u001b[0m\u001b[32mDEBUG   \u001b[0m RUN COMMAND:                                                 \u001b[2mrunner.py\u001b[0m\u001b[2m:\u001b[0m\u001b[2m79\u001b[0m\n",
       "\u001b[2;36m           \u001b[0m         \u001b[1;36mgtime -f \u001b[0m\u001b[32m'%e'\u001b[0m\u001b[1;36m g++\u001b[0m\u001b[1;36m-11\u001b[0m\u001b[1;36m -o \u001b[0m\u001b[1;35m/Users/qnbhd/Development/gimeltune/ex\u001b[0m \u001b[2m            \u001b[0m\n",
       "\u001b[2;36m           \u001b[0m         \u001b[1;35mamples/gcc/\u001b[0m\u001b[1;95m12b867578daa2769fc9ce43db158cb001cd10dc1babe60595\u001b[0m \u001b[2m            \u001b[0m\n",
       "\u001b[2;36m           \u001b[0m         \u001b[1;95m5fef8a1703ec55862918.out\u001b[0m\u001b[1;36m \u001b[0m\u001b[1;35m/Users/qnbhd/Development/gimeltune/e\u001b[0m \u001b[2m            \u001b[0m\n",
       "\u001b[2;36m           \u001b[0m         \u001b[1;35mxamples/gcc/raytracer/\u001b[0m\u001b[1;95mraytracer.cpp\u001b[0m\u001b[1;36m   -falign-jumps \u001b[0m         \u001b[2m            \u001b[0m\n",
       "\u001b[2;36m           \u001b[0m         \u001b[1;36m-falign-labels -fno-asynchronous-unwind-tables \u001b[0m              \u001b[2m            \u001b[0m\n",
       "\u001b[2;36m           \u001b[0m         \u001b[1;36m-fno-branch-count-reg  --param early-inlining-\u001b[0m\u001b[1;33minsns\u001b[0m\u001b[1;36m=\u001b[0m\u001b[1;36m382\u001b[0m\u001b[1;36m \u001b[0m     \u001b[2m            \u001b[0m\n",
       "\u001b[2;36m           \u001b[0m         \u001b[1;36m--param gcse-cost-distance-\u001b[0m\u001b[1;33mratio\u001b[0m\u001b[1;36m=\u001b[0m\u001b[1;36m90\u001b[0m\u001b[1;36m --param \u001b[0m                 \u001b[2m            \u001b[0m\n",
       "\u001b[2;36m           \u001b[0m         \u001b[1;36miv-max-considered-\u001b[0m\u001b[1;33muses\u001b[0m\u001b[1;36m=\u001b[0m\u001b[1;36m140\u001b[0m\u001b[1;36m \u001b[0m\u001b[1;36m2\u001b[0m\u001b[1;36m>&\u001b[0m\u001b[1;36m1\u001b[0m                              \u001b[2m            \u001b[0m\n"
      ]
     },
     "metadata": {},
     "output_type": "display_data"
    },
    {
     "data": {
      "text/html": [
       "<pre style=\"white-space:pre;overflow-x:auto;line-height:normal;font-family:Menlo,'DejaVu Sans Mono',consolas,'Courier New',monospace\"><span style=\"color: #7fbfbf; text-decoration-color: #7fbfbf\">[11:17:06] </span><span style=\"color: #000080; text-decoration-color: #000080\">INFO    </span> <span style=\"color: #808000; text-decoration-color: #808000; font-weight: bold\">OUT: </span><span style=\"color: #008080; text-decoration-color: #008080; font-weight: bold\">0.73</span>                                                    <span style=\"color: #7f7f7f; text-decoration-color: #7f7f7f\">runner.py:85</span>\n",
       "</pre>\n"
      ],
      "text/plain": [
       "\u001b[2;36m[11:17:06]\u001b[0m\u001b[2;36m \u001b[0m\u001b[34mINFO    \u001b[0m \u001b[1;33mOUT: \u001b[0m\u001b[1;36m0.73\u001b[0m                                                    \u001b[2mrunner.py\u001b[0m\u001b[2m:\u001b[0m\u001b[2m85\u001b[0m\n"
      ]
     },
     "metadata": {},
     "output_type": "display_data"
    },
    {
     "data": {
      "text/html": [
       "<pre style=\"white-space:pre;overflow-x:auto;line-height:normal;font-family:Menlo,'DejaVu Sans Mono',consolas,'Courier New',monospace\"><span style=\"color: #7fbfbf; text-decoration-color: #7fbfbf\">           </span><span style=\"color: #008000; text-decoration-color: #008000\">DEBUG   </span> RUN COMMAND:                                                 <span style=\"color: #7f7f7f; text-decoration-color: #7f7f7f\">runner.py:79</span>\n",
       "<span style=\"color: #7fbfbf; text-decoration-color: #7fbfbf\">           </span>         <span style=\"color: #008080; text-decoration-color: #008080; font-weight: bold\">wc -c </span><span style=\"color: #800080; text-decoration-color: #800080; font-weight: bold\">/Users/qnbhd/Development/gimeltune/examples/gcc/</span><span style=\"color: #ff00ff; text-decoration-color: #ff00ff; font-weight: bold\">12b8675</span> <span style=\"color: #7f7f7f; text-decoration-color: #7f7f7f\">            </span>\n",
       "<span style=\"color: #7fbfbf; text-decoration-color: #7fbfbf\">           </span>         <span style=\"color: #ff00ff; text-decoration-color: #ff00ff; font-weight: bold\">78daa2769fc9ce43db158cb001cd10dc1babe605955fef8a1703ec558629</span> <span style=\"color: #7f7f7f; text-decoration-color: #7f7f7f\">            </span>\n",
       "<span style=\"color: #7fbfbf; text-decoration-color: #7fbfbf\">           </span>         <span style=\"color: #ff00ff; text-decoration-color: #ff00ff; font-weight: bold\">18.out</span><span style=\"color: #008080; text-decoration-color: #008080; font-weight: bold\"> | awk </span><span style=\"color: #008000; text-decoration-color: #008000\">'{print $1}'</span>                                    <span style=\"color: #7f7f7f; text-decoration-color: #7f7f7f\">            </span>\n",
       "</pre>\n"
      ],
      "text/plain": [
       "\u001b[2;36m          \u001b[0m\u001b[2;36m \u001b[0m\u001b[32mDEBUG   \u001b[0m RUN COMMAND:                                                 \u001b[2mrunner.py\u001b[0m\u001b[2m:\u001b[0m\u001b[2m79\u001b[0m\n",
       "\u001b[2;36m           \u001b[0m         \u001b[1;36mwc -c \u001b[0m\u001b[1;35m/Users/qnbhd/Development/gimeltune/examples/gcc/\u001b[0m\u001b[1;95m12b8675\u001b[0m \u001b[2m            \u001b[0m\n",
       "\u001b[2;36m           \u001b[0m         \u001b[1;95m78daa2769fc9ce43db158cb001cd10dc1babe605955fef8a1703ec558629\u001b[0m \u001b[2m            \u001b[0m\n",
       "\u001b[2;36m           \u001b[0m         \u001b[1;95m18.out\u001b[0m\u001b[1;36m | awk \u001b[0m\u001b[32m'\u001b[0m\u001b[32m{\u001b[0m\u001b[32mprint $1\u001b[0m\u001b[32m}\u001b[0m\u001b[32m'\u001b[0m                                    \u001b[2m            \u001b[0m\n"
      ]
     },
     "metadata": {},
     "output_type": "display_data"
    },
    {
     "data": {
      "text/html": [
       "<pre style=\"white-space:pre;overflow-x:auto;line-height:normal;font-family:Menlo,'DejaVu Sans Mono',consolas,'Courier New',monospace\"><span style=\"color: #7fbfbf; text-decoration-color: #7fbfbf\">           </span><span style=\"color: #000080; text-decoration-color: #000080\">INFO    </span> <span style=\"color: #808000; text-decoration-color: #808000; font-weight: bold\">OUT: </span><span style=\"color: #008080; text-decoration-color: #008080; font-weight: bold\">80672</span>                                                   <span style=\"color: #7f7f7f; text-decoration-color: #7f7f7f\">runner.py:85</span>\n",
       "</pre>\n"
      ],
      "text/plain": [
       "\u001b[2;36m          \u001b[0m\u001b[2;36m \u001b[0m\u001b[34mINFO    \u001b[0m \u001b[1;33mOUT: \u001b[0m\u001b[1;36m80672\u001b[0m                                                   \u001b[2mrunner.py\u001b[0m\u001b[2m:\u001b[0m\u001b[2m85\u001b[0m\n"
      ]
     },
     "metadata": {},
     "output_type": "display_data"
    },
    {
     "data": {
      "text/html": [
       "<pre style=\"white-space:pre;overflow-x:auto;line-height:normal;font-family:Menlo,'DejaVu Sans Mono',consolas,'Courier New',monospace\"><span style=\"color: #7fbfbf; text-decoration-color: #7fbfbf\">           </span><span style=\"color: #008000; text-decoration-color: #008000\">DEBUG   </span> RUN COMMAND:                                                 <span style=\"color: #7f7f7f; text-decoration-color: #7f7f7f\">runner.py:79</span>\n",
       "<span style=\"color: #7fbfbf; text-decoration-color: #7fbfbf\">           </span>         <span style=\"color: #008080; text-decoration-color: #008080; font-weight: bold\">gtime -f </span><span style=\"color: #008000; text-decoration-color: #008000\">'%e'</span><span style=\"color: #008080; text-decoration-color: #008080; font-weight: bold\"> </span><span style=\"color: #800080; text-decoration-color: #800080; font-weight: bold\">/Users/qnbhd/Development/gimeltune/examples/gcc</span> <span style=\"color: #7f7f7f; text-decoration-color: #7f7f7f\">            </span>\n",
       "<span style=\"color: #7fbfbf; text-decoration-color: #7fbfbf\">           </span>         <span style=\"color: #800080; text-decoration-color: #800080; font-weight: bold\">/</span><span style=\"color: #ff00ff; text-decoration-color: #ff00ff; font-weight: bold\">12b867578daa2769fc9ce43db158cb001cd10dc1babe605955fef8a1703</span> <span style=\"color: #7f7f7f; text-decoration-color: #7f7f7f\">            </span>\n",
       "<span style=\"color: #7fbfbf; text-decoration-color: #7fbfbf\">           </span>         <span style=\"color: #ff00ff; text-decoration-color: #ff00ff; font-weight: bold\">ec55862918.out</span><span style=\"color: #008080; text-decoration-color: #008080; font-weight: bold\"> </span><span style=\"color: #008080; text-decoration-color: #008080; font-weight: bold\">2</span><span style=\"color: #008080; text-decoration-color: #008080; font-weight: bold\">&gt;&amp;</span><span style=\"color: #008080; text-decoration-color: #008080; font-weight: bold\">1</span>                                          <span style=\"color: #7f7f7f; text-decoration-color: #7f7f7f\">            </span>\n",
       "</pre>\n"
      ],
      "text/plain": [
       "\u001b[2;36m          \u001b[0m\u001b[2;36m \u001b[0m\u001b[32mDEBUG   \u001b[0m RUN COMMAND:                                                 \u001b[2mrunner.py\u001b[0m\u001b[2m:\u001b[0m\u001b[2m79\u001b[0m\n",
       "\u001b[2;36m           \u001b[0m         \u001b[1;36mgtime -f \u001b[0m\u001b[32m'%e'\u001b[0m\u001b[1;36m \u001b[0m\u001b[1;35m/Users/qnbhd/Development/gimeltune/examples/gcc\u001b[0m \u001b[2m            \u001b[0m\n",
       "\u001b[2;36m           \u001b[0m         \u001b[1;35m/\u001b[0m\u001b[1;95m12b867578daa2769fc9ce43db158cb001cd10dc1babe605955fef8a1703\u001b[0m \u001b[2m            \u001b[0m\n",
       "\u001b[2;36m           \u001b[0m         \u001b[1;95mec55862918.out\u001b[0m\u001b[1;36m \u001b[0m\u001b[1;36m2\u001b[0m\u001b[1;36m>&\u001b[0m\u001b[1;36m1\u001b[0m                                          \u001b[2m            \u001b[0m\n"
      ]
     },
     "metadata": {},
     "output_type": "display_data"
    },
    {
     "data": {
      "text/html": [
       "<pre style=\"white-space:pre;overflow-x:auto;line-height:normal;font-family:Menlo,'DejaVu Sans Mono',consolas,'Courier New',monospace\"><span style=\"color: #7fbfbf; text-decoration-color: #7fbfbf\">[11:17:07] </span><span style=\"color: #000080; text-decoration-color: #000080\">INFO    </span> <span style=\"color: #808000; text-decoration-color: #808000; font-weight: bold\">OUT: </span><span style=\"color: #008080; text-decoration-color: #008080; font-weight: bold\">1.14</span>                                                    <span style=\"color: #7f7f7f; text-decoration-color: #7f7f7f\">runner.py:85</span>\n",
       "</pre>\n"
      ],
      "text/plain": [
       "\u001b[2;36m[11:17:07]\u001b[0m\u001b[2;36m \u001b[0m\u001b[34mINFO    \u001b[0m \u001b[1;33mOUT: \u001b[0m\u001b[1;36m1.14\u001b[0m                                                    \u001b[2mrunner.py\u001b[0m\u001b[2m:\u001b[0m\u001b[2m85\u001b[0m\n"
      ]
     },
     "metadata": {},
     "output_type": "display_data"
    },
    {
     "data": {
      "text/html": [
       "<pre style=\"white-space:pre;overflow-x:auto;line-height:normal;font-family:Menlo,'DejaVu Sans Mono',consolas,'Courier New',monospace\"><span style=\"color: #7fbfbf; text-decoration-color: #7fbfbf\">           </span><span style=\"color: #008000; text-decoration-color: #008000\">DEBUG   </span> RUN COMMAND:                                                 <span style=\"color: #7f7f7f; text-decoration-color: #7f7f7f\">runner.py:79</span>\n",
       "<span style=\"color: #7fbfbf; text-decoration-color: #7fbfbf\">           </span>         <span style=\"color: #008080; text-decoration-color: #008080; font-weight: bold\">gtime -f </span><span style=\"color: #008000; text-decoration-color: #008000\">'%e'</span><span style=\"color: #008080; text-decoration-color: #008080; font-weight: bold\"> </span><span style=\"color: #800080; text-decoration-color: #800080; font-weight: bold\">/Users/qnbhd/Development/gimeltune/examples/gcc</span> <span style=\"color: #7f7f7f; text-decoration-color: #7f7f7f\">            </span>\n",
       "<span style=\"color: #7fbfbf; text-decoration-color: #7fbfbf\">           </span>         <span style=\"color: #800080; text-decoration-color: #800080; font-weight: bold\">/</span><span style=\"color: #ff00ff; text-decoration-color: #ff00ff; font-weight: bold\">12b867578daa2769fc9ce43db158cb001cd10dc1babe605955fef8a1703</span> <span style=\"color: #7f7f7f; text-decoration-color: #7f7f7f\">            </span>\n",
       "<span style=\"color: #7fbfbf; text-decoration-color: #7fbfbf\">           </span>         <span style=\"color: #ff00ff; text-decoration-color: #ff00ff; font-weight: bold\">ec55862918.out</span><span style=\"color: #008080; text-decoration-color: #008080; font-weight: bold\"> </span><span style=\"color: #008080; text-decoration-color: #008080; font-weight: bold\">2</span><span style=\"color: #008080; text-decoration-color: #008080; font-weight: bold\">&gt;&amp;</span><span style=\"color: #008080; text-decoration-color: #008080; font-weight: bold\">1</span>                                          <span style=\"color: #7f7f7f; text-decoration-color: #7f7f7f\">            </span>\n",
       "</pre>\n"
      ],
      "text/plain": [
       "\u001b[2;36m          \u001b[0m\u001b[2;36m \u001b[0m\u001b[32mDEBUG   \u001b[0m RUN COMMAND:                                                 \u001b[2mrunner.py\u001b[0m\u001b[2m:\u001b[0m\u001b[2m79\u001b[0m\n",
       "\u001b[2;36m           \u001b[0m         \u001b[1;36mgtime -f \u001b[0m\u001b[32m'%e'\u001b[0m\u001b[1;36m \u001b[0m\u001b[1;35m/Users/qnbhd/Development/gimeltune/examples/gcc\u001b[0m \u001b[2m            \u001b[0m\n",
       "\u001b[2;36m           \u001b[0m         \u001b[1;35m/\u001b[0m\u001b[1;95m12b867578daa2769fc9ce43db158cb001cd10dc1babe605955fef8a1703\u001b[0m \u001b[2m            \u001b[0m\n",
       "\u001b[2;36m           \u001b[0m         \u001b[1;95mec55862918.out\u001b[0m\u001b[1;36m \u001b[0m\u001b[1;36m2\u001b[0m\u001b[1;36m>&\u001b[0m\u001b[1;36m1\u001b[0m                                          \u001b[2m            \u001b[0m\n"
      ]
     },
     "metadata": {},
     "output_type": "display_data"
    },
    {
     "data": {
      "text/html": [
       "<pre style=\"white-space:pre;overflow-x:auto;line-height:normal;font-family:Menlo,'DejaVu Sans Mono',consolas,'Courier New',monospace\"><span style=\"color: #7fbfbf; text-decoration-color: #7fbfbf\">[11:17:08] </span><span style=\"color: #000080; text-decoration-color: #000080\">INFO    </span> <span style=\"color: #808000; text-decoration-color: #808000; font-weight: bold\">OUT: </span><span style=\"color: #008080; text-decoration-color: #008080; font-weight: bold\">0.96</span>                                                    <span style=\"color: #7f7f7f; text-decoration-color: #7f7f7f\">runner.py:85</span>\n",
       "</pre>\n"
      ],
      "text/plain": [
       "\u001b[2;36m[11:17:08]\u001b[0m\u001b[2;36m \u001b[0m\u001b[34mINFO    \u001b[0m \u001b[1;33mOUT: \u001b[0m\u001b[1;36m0.96\u001b[0m                                                    \u001b[2mrunner.py\u001b[0m\u001b[2m:\u001b[0m\u001b[2m85\u001b[0m\n"
      ]
     },
     "metadata": {},
     "output_type": "display_data"
    },
    {
     "data": {
      "text/html": [
       "<pre style=\"white-space:pre;overflow-x:auto;line-height:normal;font-family:Menlo,'DejaVu Sans Mono',consolas,'Courier New',monospace\"><span style=\"color: #7fbfbf; text-decoration-color: #7fbfbf\">           </span><span style=\"color: #008000; text-decoration-color: #008000\">DEBUG   </span> RUN COMMAND:                                                 <span style=\"color: #7f7f7f; text-decoration-color: #7f7f7f\">runner.py:79</span>\n",
       "<span style=\"color: #7fbfbf; text-decoration-color: #7fbfbf\">           </span>         <span style=\"color: #008080; text-decoration-color: #008080; font-weight: bold\">gtime -f </span><span style=\"color: #008000; text-decoration-color: #008000\">'%e'</span><span style=\"color: #008080; text-decoration-color: #008080; font-weight: bold\"> </span><span style=\"color: #800080; text-decoration-color: #800080; font-weight: bold\">/Users/qnbhd/Development/gimeltune/examples/gcc</span> <span style=\"color: #7f7f7f; text-decoration-color: #7f7f7f\">            </span>\n",
       "<span style=\"color: #7fbfbf; text-decoration-color: #7fbfbf\">           </span>         <span style=\"color: #800080; text-decoration-color: #800080; font-weight: bold\">/</span><span style=\"color: #ff00ff; text-decoration-color: #ff00ff; font-weight: bold\">12b867578daa2769fc9ce43db158cb001cd10dc1babe605955fef8a1703</span> <span style=\"color: #7f7f7f; text-decoration-color: #7f7f7f\">            </span>\n",
       "<span style=\"color: #7fbfbf; text-decoration-color: #7fbfbf\">           </span>         <span style=\"color: #ff00ff; text-decoration-color: #ff00ff; font-weight: bold\">ec55862918.out</span><span style=\"color: #008080; text-decoration-color: #008080; font-weight: bold\"> </span><span style=\"color: #008080; text-decoration-color: #008080; font-weight: bold\">2</span><span style=\"color: #008080; text-decoration-color: #008080; font-weight: bold\">&gt;&amp;</span><span style=\"color: #008080; text-decoration-color: #008080; font-weight: bold\">1</span>                                          <span style=\"color: #7f7f7f; text-decoration-color: #7f7f7f\">            </span>\n",
       "</pre>\n"
      ],
      "text/plain": [
       "\u001b[2;36m          \u001b[0m\u001b[2;36m \u001b[0m\u001b[32mDEBUG   \u001b[0m RUN COMMAND:                                                 \u001b[2mrunner.py\u001b[0m\u001b[2m:\u001b[0m\u001b[2m79\u001b[0m\n",
       "\u001b[2;36m           \u001b[0m         \u001b[1;36mgtime -f \u001b[0m\u001b[32m'%e'\u001b[0m\u001b[1;36m \u001b[0m\u001b[1;35m/Users/qnbhd/Development/gimeltune/examples/gcc\u001b[0m \u001b[2m            \u001b[0m\n",
       "\u001b[2;36m           \u001b[0m         \u001b[1;35m/\u001b[0m\u001b[1;95m12b867578daa2769fc9ce43db158cb001cd10dc1babe605955fef8a1703\u001b[0m \u001b[2m            \u001b[0m\n",
       "\u001b[2;36m           \u001b[0m         \u001b[1;95mec55862918.out\u001b[0m\u001b[1;36m \u001b[0m\u001b[1;36m2\u001b[0m\u001b[1;36m>&\u001b[0m\u001b[1;36m1\u001b[0m                                          \u001b[2m            \u001b[0m\n"
      ]
     },
     "metadata": {},
     "output_type": "display_data"
    },
    {
     "data": {
      "text/html": [
       "<pre style=\"white-space:pre;overflow-x:auto;line-height:normal;font-family:Menlo,'DejaVu Sans Mono',consolas,'Courier New',monospace\"><span style=\"color: #7fbfbf; text-decoration-color: #7fbfbf\">[11:17:09] </span><span style=\"color: #000080; text-decoration-color: #000080\">INFO    </span> <span style=\"color: #808000; text-decoration-color: #808000; font-weight: bold\">OUT: </span><span style=\"color: #008080; text-decoration-color: #008080; font-weight: bold\">0.98</span>                                                    <span style=\"color: #7f7f7f; text-decoration-color: #7f7f7f\">runner.py:85</span>\n",
       "</pre>\n"
      ],
      "text/plain": [
       "\u001b[2;36m[11:17:09]\u001b[0m\u001b[2;36m \u001b[0m\u001b[34mINFO    \u001b[0m \u001b[1;33mOUT: \u001b[0m\u001b[1;36m0.98\u001b[0m                                                    \u001b[2mrunner.py\u001b[0m\u001b[2m:\u001b[0m\u001b[2m85\u001b[0m\n"
      ]
     },
     "metadata": {},
     "output_type": "display_data"
    },
    {
     "data": {
      "text/html": [
       "<pre style=\"white-space:pre;overflow-x:auto;line-height:normal;font-family:Menlo,'DejaVu Sans Mono',consolas,'Courier New',monospace\"><span style=\"color: #7fbfbf; text-decoration-color: #7fbfbf\">           </span><span style=\"color: #008000; text-decoration-color: #008000\">DEBUG   </span> RUN COMMAND:                                                 <span style=\"color: #7f7f7f; text-decoration-color: #7f7f7f\">runner.py:79</span>\n",
       "<span style=\"color: #7fbfbf; text-decoration-color: #7fbfbf\">           </span>         <span style=\"color: #008080; text-decoration-color: #008080; font-weight: bold\">gtime -f </span><span style=\"color: #008000; text-decoration-color: #008000\">'%e'</span><span style=\"color: #008080; text-decoration-color: #008080; font-weight: bold\"> </span><span style=\"color: #800080; text-decoration-color: #800080; font-weight: bold\">/Users/qnbhd/Development/gimeltune/examples/gcc</span> <span style=\"color: #7f7f7f; text-decoration-color: #7f7f7f\">            </span>\n",
       "<span style=\"color: #7fbfbf; text-decoration-color: #7fbfbf\">           </span>         <span style=\"color: #800080; text-decoration-color: #800080; font-weight: bold\">/</span><span style=\"color: #ff00ff; text-decoration-color: #ff00ff; font-weight: bold\">12b867578daa2769fc9ce43db158cb001cd10dc1babe605955fef8a1703</span> <span style=\"color: #7f7f7f; text-decoration-color: #7f7f7f\">            </span>\n",
       "<span style=\"color: #7fbfbf; text-decoration-color: #7fbfbf\">           </span>         <span style=\"color: #ff00ff; text-decoration-color: #ff00ff; font-weight: bold\">ec55862918.out</span><span style=\"color: #008080; text-decoration-color: #008080; font-weight: bold\"> </span><span style=\"color: #008080; text-decoration-color: #008080; font-weight: bold\">2</span><span style=\"color: #008080; text-decoration-color: #008080; font-weight: bold\">&gt;&amp;</span><span style=\"color: #008080; text-decoration-color: #008080; font-weight: bold\">1</span>                                          <span style=\"color: #7f7f7f; text-decoration-color: #7f7f7f\">            </span>\n",
       "</pre>\n"
      ],
      "text/plain": [
       "\u001b[2;36m          \u001b[0m\u001b[2;36m \u001b[0m\u001b[32mDEBUG   \u001b[0m RUN COMMAND:                                                 \u001b[2mrunner.py\u001b[0m\u001b[2m:\u001b[0m\u001b[2m79\u001b[0m\n",
       "\u001b[2;36m           \u001b[0m         \u001b[1;36mgtime -f \u001b[0m\u001b[32m'%e'\u001b[0m\u001b[1;36m \u001b[0m\u001b[1;35m/Users/qnbhd/Development/gimeltune/examples/gcc\u001b[0m \u001b[2m            \u001b[0m\n",
       "\u001b[2;36m           \u001b[0m         \u001b[1;35m/\u001b[0m\u001b[1;95m12b867578daa2769fc9ce43db158cb001cd10dc1babe605955fef8a1703\u001b[0m \u001b[2m            \u001b[0m\n",
       "\u001b[2;36m           \u001b[0m         \u001b[1;95mec55862918.out\u001b[0m\u001b[1;36m \u001b[0m\u001b[1;36m2\u001b[0m\u001b[1;36m>&\u001b[0m\u001b[1;36m1\u001b[0m                                          \u001b[2m            \u001b[0m\n"
      ]
     },
     "metadata": {},
     "output_type": "display_data"
    },
    {
     "data": {
      "text/html": [
       "<pre style=\"white-space:pre;overflow-x:auto;line-height:normal;font-family:Menlo,'DejaVu Sans Mono',consolas,'Courier New',monospace\"><span style=\"color: #7fbfbf; text-decoration-color: #7fbfbf\">[11:17:10] </span><span style=\"color: #000080; text-decoration-color: #000080\">INFO    </span> <span style=\"color: #808000; text-decoration-color: #808000; font-weight: bold\">OUT: </span><span style=\"color: #008080; text-decoration-color: #008080; font-weight: bold\">0.95</span>                                                    <span style=\"color: #7f7f7f; text-decoration-color: #7f7f7f\">runner.py:85</span>\n",
       "</pre>\n"
      ],
      "text/plain": [
       "\u001b[2;36m[11:17:10]\u001b[0m\u001b[2;36m \u001b[0m\u001b[34mINFO    \u001b[0m \u001b[1;33mOUT: \u001b[0m\u001b[1;36m0.95\u001b[0m                                                    \u001b[2mrunner.py\u001b[0m\u001b[2m:\u001b[0m\u001b[2m85\u001b[0m\n"
      ]
     },
     "metadata": {},
     "output_type": "display_data"
    },
    {
     "data": {
      "text/html": [
       "<pre style=\"white-space:pre;overflow-x:auto;line-height:normal;font-family:Menlo,'DejaVu Sans Mono',consolas,'Courier New',monospace\"><span style=\"color: #7fbfbf; text-decoration-color: #7fbfbf\">           </span><span style=\"color: #008000; text-decoration-color: #008000\">DEBUG   </span> RUN COMMAND:                                                 <span style=\"color: #7f7f7f; text-decoration-color: #7f7f7f\">runner.py:79</span>\n",
       "<span style=\"color: #7fbfbf; text-decoration-color: #7fbfbf\">           </span>         <span style=\"color: #008080; text-decoration-color: #008080; font-weight: bold\">gtime -f </span><span style=\"color: #008000; text-decoration-color: #008000\">'%e'</span><span style=\"color: #008080; text-decoration-color: #008080; font-weight: bold\"> </span><span style=\"color: #800080; text-decoration-color: #800080; font-weight: bold\">/Users/qnbhd/Development/gimeltune/examples/gcc</span> <span style=\"color: #7f7f7f; text-decoration-color: #7f7f7f\">            </span>\n",
       "<span style=\"color: #7fbfbf; text-decoration-color: #7fbfbf\">           </span>         <span style=\"color: #800080; text-decoration-color: #800080; font-weight: bold\">/</span><span style=\"color: #ff00ff; text-decoration-color: #ff00ff; font-weight: bold\">12b867578daa2769fc9ce43db158cb001cd10dc1babe605955fef8a1703</span> <span style=\"color: #7f7f7f; text-decoration-color: #7f7f7f\">            </span>\n",
       "<span style=\"color: #7fbfbf; text-decoration-color: #7fbfbf\">           </span>         <span style=\"color: #ff00ff; text-decoration-color: #ff00ff; font-weight: bold\">ec55862918.out</span><span style=\"color: #008080; text-decoration-color: #008080; font-weight: bold\"> </span><span style=\"color: #008080; text-decoration-color: #008080; font-weight: bold\">2</span><span style=\"color: #008080; text-decoration-color: #008080; font-weight: bold\">&gt;&amp;</span><span style=\"color: #008080; text-decoration-color: #008080; font-weight: bold\">1</span>                                          <span style=\"color: #7f7f7f; text-decoration-color: #7f7f7f\">            </span>\n",
       "</pre>\n"
      ],
      "text/plain": [
       "\u001b[2;36m          \u001b[0m\u001b[2;36m \u001b[0m\u001b[32mDEBUG   \u001b[0m RUN COMMAND:                                                 \u001b[2mrunner.py\u001b[0m\u001b[2m:\u001b[0m\u001b[2m79\u001b[0m\n",
       "\u001b[2;36m           \u001b[0m         \u001b[1;36mgtime -f \u001b[0m\u001b[32m'%e'\u001b[0m\u001b[1;36m \u001b[0m\u001b[1;35m/Users/qnbhd/Development/gimeltune/examples/gcc\u001b[0m \u001b[2m            \u001b[0m\n",
       "\u001b[2;36m           \u001b[0m         \u001b[1;35m/\u001b[0m\u001b[1;95m12b867578daa2769fc9ce43db158cb001cd10dc1babe605955fef8a1703\u001b[0m \u001b[2m            \u001b[0m\n",
       "\u001b[2;36m           \u001b[0m         \u001b[1;95mec55862918.out\u001b[0m\u001b[1;36m \u001b[0m\u001b[1;36m2\u001b[0m\u001b[1;36m>&\u001b[0m\u001b[1;36m1\u001b[0m                                          \u001b[2m            \u001b[0m\n"
      ]
     },
     "metadata": {},
     "output_type": "display_data"
    },
    {
     "data": {
      "text/html": [
       "<pre style=\"white-space:pre;overflow-x:auto;line-height:normal;font-family:Menlo,'DejaVu Sans Mono',consolas,'Courier New',monospace\"><span style=\"color: #7fbfbf; text-decoration-color: #7fbfbf\">[11:17:11] </span><span style=\"color: #000080; text-decoration-color: #000080\">INFO    </span> <span style=\"color: #808000; text-decoration-color: #808000; font-weight: bold\">OUT: </span><span style=\"color: #008080; text-decoration-color: #008080; font-weight: bold\">0.96</span>                                                    <span style=\"color: #7f7f7f; text-decoration-color: #7f7f7f\">runner.py:85</span>\n",
       "</pre>\n"
      ],
      "text/plain": [
       "\u001b[2;36m[11:17:11]\u001b[0m\u001b[2;36m \u001b[0m\u001b[34mINFO    \u001b[0m \u001b[1;33mOUT: \u001b[0m\u001b[1;36m0.96\u001b[0m                                                    \u001b[2mrunner.py\u001b[0m\u001b[2m:\u001b[0m\u001b[2m85\u001b[0m\n"
      ]
     },
     "metadata": {},
     "output_type": "display_data"
    },
    {
     "data": {
      "text/html": [
       "<pre style=\"white-space:pre;overflow-x:auto;line-height:normal;font-family:Menlo,'DejaVu Sans Mono',consolas,'Courier New',monospace\"><span style=\"color: #7fbfbf; text-decoration-color: #7fbfbf\">           </span><span style=\"color: #008000; text-decoration-color: #008000\">DEBUG   </span> RUN COMMAND:                                                 <span style=\"color: #7f7f7f; text-decoration-color: #7f7f7f\">runner.py:79</span>\n",
       "<span style=\"color: #7fbfbf; text-decoration-color: #7fbfbf\">           </span>         <span style=\"color: #008080; text-decoration-color: #008080; font-weight: bold\">rm </span><span style=\"color: #800080; text-decoration-color: #800080; font-weight: bold\">/Users/qnbhd/Development/gimeltune/examples/gcc/</span><span style=\"color: #ff00ff; text-decoration-color: #ff00ff; font-weight: bold\">12b867578d</span> <span style=\"color: #7f7f7f; text-decoration-color: #7f7f7f\">            </span>\n",
       "<span style=\"color: #7fbfbf; text-decoration-color: #7fbfbf\">           </span>         <span style=\"color: #ff00ff; text-decoration-color: #ff00ff; font-weight: bold\">aa2769fc9ce43db158cb001cd10dc1babe605955fef8a1703ec55862918.</span> <span style=\"color: #7f7f7f; text-decoration-color: #7f7f7f\">            </span>\n",
       "<span style=\"color: #7fbfbf; text-decoration-color: #7fbfbf\">           </span>         <span style=\"color: #ff00ff; text-decoration-color: #ff00ff; font-weight: bold\">out</span>                                                          <span style=\"color: #7f7f7f; text-decoration-color: #7f7f7f\">            </span>\n",
       "</pre>\n"
      ],
      "text/plain": [
       "\u001b[2;36m          \u001b[0m\u001b[2;36m \u001b[0m\u001b[32mDEBUG   \u001b[0m RUN COMMAND:                                                 \u001b[2mrunner.py\u001b[0m\u001b[2m:\u001b[0m\u001b[2m79\u001b[0m\n",
       "\u001b[2;36m           \u001b[0m         \u001b[1;36mrm \u001b[0m\u001b[1;35m/Users/qnbhd/Development/gimeltune/examples/gcc/\u001b[0m\u001b[1;95m12b867578d\u001b[0m \u001b[2m            \u001b[0m\n",
       "\u001b[2;36m           \u001b[0m         \u001b[1;95maa2769fc9ce43db158cb001cd10dc1babe605955fef8a1703ec55862918.\u001b[0m \u001b[2m            \u001b[0m\n",
       "\u001b[2;36m           \u001b[0m         \u001b[1;95mout\u001b[0m                                                          \u001b[2m            \u001b[0m\n"
      ]
     },
     "metadata": {},
     "output_type": "display_data"
    },
    {
     "data": {
      "text/html": [
       "<pre style=\"white-space:pre;overflow-x:auto;line-height:normal;font-family:Menlo,'DejaVu Sans Mono',consolas,'Courier New',monospace\"><span style=\"color: #7fbfbf; text-decoration-color: #7fbfbf\">           </span><span style=\"color: #000080; text-decoration-color: #000080\">INFO    </span> Trying experiment: <span style=\"color: #800080; text-decoration-color: #800080; font-weight: bold\">Experiment</span><span style=\"font-weight: bold\">({</span>                             <span style=\"color: #7f7f7f; text-decoration-color: #7f7f7f\">runner.py:156</span>\n",
       "<span style=\"color: #7fbfbf; text-decoration-color: #7fbfbf\">           </span>             <span style=\"color: #008000; text-decoration-color: #008000\">\"id\"</span>: <span style=\"color: #008080; text-decoration-color: #008080; font-weight: bold\">10</span>,                                               <span style=\"color: #7f7f7f; text-decoration-color: #7f7f7f\">             </span>\n",
       "<span style=\"color: #7fbfbf; text-decoration-color: #7fbfbf\">           </span>             <span style=\"color: #008000; text-decoration-color: #008000\">\"job_id\"</span>: <span style=\"color: #008080; text-decoration-color: #008080; font-weight: bold\">1</span>,                                            <span style=\"color: #7f7f7f; text-decoration-color: #7f7f7f\">             </span>\n",
       "<span style=\"color: #7fbfbf; text-decoration-color: #7fbfbf\">           </span>             <span style=\"color: #008000; text-decoration-color: #008000\">\"state\"</span>: <span style=\"color: #008000; text-decoration-color: #008000\">\"WIP\"</span>,                                         <span style=\"color: #7f7f7f; text-decoration-color: #7f7f7f\">             </span>\n",
       "<span style=\"color: #7fbfbf; text-decoration-color: #7fbfbf\">           </span>             <span style=\"color: #008000; text-decoration-color: #008000\">\"hash\"</span>: null,                                           <span style=\"color: #7f7f7f; text-decoration-color: #7f7f7f\">             </span>\n",
       "<span style=\"color: #7fbfbf; text-decoration-color: #7fbfbf\">           </span>             <span style=\"color: #008000; text-decoration-color: #008000\">\"objective_result\"</span>: null,                               <span style=\"color: #7f7f7f; text-decoration-color: #7f7f7f\">             </span>\n",
       "<span style=\"color: #7fbfbf; text-decoration-color: #7fbfbf\">           </span>             <span style=\"color: #008000; text-decoration-color: #008000\">\"params\"</span>: <span style=\"font-weight: bold\">{</span>                                             <span style=\"color: #7f7f7f; text-decoration-color: #7f7f7f\">             </span>\n",
       "<span style=\"color: #7fbfbf; text-decoration-color: #7fbfbf\">           </span>                 <span style=\"color: #008000; text-decoration-color: #008000\">\"-O\"</span>: <span style=\"color: #008000; text-decoration-color: #008000\">\"-O1\"</span>,                                        <span style=\"color: #7f7f7f; text-decoration-color: #7f7f7f\">             </span>\n",
       "<span style=\"color: #7fbfbf; text-decoration-color: #7fbfbf\">           </span>                 <span style=\"color: #008000; text-decoration-color: #008000\">\"align-functions\"</span>: <span style=\"color: #008000; text-decoration-color: #008000\">\"-falign-functions\"</span>,             <span style=\"color: #7f7f7f; text-decoration-color: #7f7f7f\">             </span>\n",
       "<span style=\"color: #7fbfbf; text-decoration-color: #7fbfbf\">           </span>                 <span style=\"color: #008000; text-decoration-color: #008000\">\"align-jumps\"</span>: <span style=\"color: #008000; text-decoration-color: #008000\">\"-fno-align-jumps\"</span>,                  <span style=\"color: #7f7f7f; text-decoration-color: #7f7f7f\">             </span>\n",
       "<span style=\"color: #7fbfbf; text-decoration-color: #7fbfbf\">           </span>                 <span style=\"color: #008000; text-decoration-color: #008000\">\"align-labels\"</span>: <span style=\"color: #008000; text-decoration-color: #008000\">\"-falign-labels\"</span>,                   <span style=\"color: #7f7f7f; text-decoration-color: #7f7f7f\">             </span>\n",
       "<span style=\"color: #7fbfbf; text-decoration-color: #7fbfbf\">           </span>                 <span style=\"color: #008000; text-decoration-color: #008000\">\"asynchronous-unwind-tables\"</span>:                       <span style=\"color: #7f7f7f; text-decoration-color: #7f7f7f\">             </span>\n",
       "<span style=\"color: #7fbfbf; text-decoration-color: #7fbfbf\">           </span>         <span style=\"color: #008000; text-decoration-color: #008000\">\"-fasynchronous-unwind-tables\"</span>,                             <span style=\"color: #7f7f7f; text-decoration-color: #7f7f7f\">             </span>\n",
       "<span style=\"color: #7fbfbf; text-decoration-color: #7fbfbf\">           </span>                 <span style=\"color: #008000; text-decoration-color: #008000\">\"branch-count-reg\"</span>: null,                           <span style=\"color: #7f7f7f; text-decoration-color: #7f7f7f\">             </span>\n",
       "<span style=\"color: #7fbfbf; text-decoration-color: #7fbfbf\">           </span>                 <span style=\"color: #008000; text-decoration-color: #008000\">\"branch-probabilities\"</span>: null,                       <span style=\"color: #7f7f7f; text-decoration-color: #7f7f7f\">             </span>\n",
       "<span style=\"color: #7fbfbf; text-decoration-color: #7fbfbf\">           </span>                 <span style=\"color: #008000; text-decoration-color: #008000\">\"early-inlining-insns\"</span>: <span style=\"color: #008080; text-decoration-color: #008080; font-weight: bold\">225</span>,                        <span style=\"color: #7f7f7f; text-decoration-color: #7f7f7f\">             </span>\n",
       "<span style=\"color: #7fbfbf; text-decoration-color: #7fbfbf\">           </span>                 <span style=\"color: #008000; text-decoration-color: #008000\">\"gcse-cost-distance-ratio\"</span>: <span style=\"color: #008080; text-decoration-color: #008080; font-weight: bold\">4</span>,                      <span style=\"color: #7f7f7f; text-decoration-color: #7f7f7f\">             </span>\n",
       "<span style=\"color: #7fbfbf; text-decoration-color: #7fbfbf\">           </span>                 <span style=\"color: #008000; text-decoration-color: #008000\">\"iv-max-considered-uses\"</span>: <span style=\"color: #008080; text-decoration-color: #008080; font-weight: bold\">987</span>                       <span style=\"color: #7f7f7f; text-decoration-color: #7f7f7f\">             </span>\n",
       "<span style=\"color: #7fbfbf; text-decoration-color: #7fbfbf\">           </span>             <span style=\"font-weight: bold\">}</span>,                                                      <span style=\"color: #7f7f7f; text-decoration-color: #7f7f7f\">             </span>\n",
       "<span style=\"color: #7fbfbf; text-decoration-color: #7fbfbf\">           </span>             <span style=\"color: #008000; text-decoration-color: #008000\">\"requestor\"</span>: <span style=\"color: #008000; text-decoration-color: #008000\">\"SkoptBayesianAlgorithm\"</span>,                  <span style=\"color: #7f7f7f; text-decoration-color: #7f7f7f\">             </span>\n",
       "<span style=\"color: #7fbfbf; text-decoration-color: #7fbfbf\">           </span>             <span style=\"color: #008000; text-decoration-color: #008000\">\"create_timestamp\"</span>: <span style=\"color: #008080; text-decoration-color: #008080; font-weight: bold\">1645690625.495688</span>,                  <span style=\"color: #7f7f7f; text-decoration-color: #7f7f7f\">             </span>\n",
       "<span style=\"color: #7fbfbf; text-decoration-color: #7fbfbf\">           </span>             <span style=\"color: #008000; text-decoration-color: #008000\">\"finish_timestamp\"</span>: null                                <span style=\"color: #7f7f7f; text-decoration-color: #7f7f7f\">             </span>\n",
       "<span style=\"color: #7fbfbf; text-decoration-color: #7fbfbf\">           </span>         <span style=\"font-weight: bold\">})</span>                                                          <span style=\"color: #7f7f7f; text-decoration-color: #7f7f7f\">             </span>\n",
       "</pre>\n"
      ],
      "text/plain": [
       "\u001b[2;36m          \u001b[0m\u001b[2;36m \u001b[0m\u001b[34mINFO    \u001b[0m Trying experiment: \u001b[1;35mExperiment\u001b[0m\u001b[1m(\u001b[0m\u001b[1m{\u001b[0m                             \u001b[2mrunner.py\u001b[0m\u001b[2m:\u001b[0m\u001b[2m156\u001b[0m\n",
       "\u001b[2;36m           \u001b[0m             \u001b[32m\"id\"\u001b[0m: \u001b[1;36m10\u001b[0m,                                               \u001b[2m             \u001b[0m\n",
       "\u001b[2;36m           \u001b[0m             \u001b[32m\"job_id\"\u001b[0m: \u001b[1;36m1\u001b[0m,                                            \u001b[2m             \u001b[0m\n",
       "\u001b[2;36m           \u001b[0m             \u001b[32m\"state\"\u001b[0m: \u001b[32m\"WIP\"\u001b[0m,                                         \u001b[2m             \u001b[0m\n",
       "\u001b[2;36m           \u001b[0m             \u001b[32m\"hash\"\u001b[0m: null,                                           \u001b[2m             \u001b[0m\n",
       "\u001b[2;36m           \u001b[0m             \u001b[32m\"objective_result\"\u001b[0m: null,                               \u001b[2m             \u001b[0m\n",
       "\u001b[2;36m           \u001b[0m             \u001b[32m\"params\"\u001b[0m: \u001b[1m{\u001b[0m                                             \u001b[2m             \u001b[0m\n",
       "\u001b[2;36m           \u001b[0m                 \u001b[32m\"-O\"\u001b[0m: \u001b[32m\"-O1\"\u001b[0m,                                        \u001b[2m             \u001b[0m\n",
       "\u001b[2;36m           \u001b[0m                 \u001b[32m\"align-functions\"\u001b[0m: \u001b[32m\"-falign-functions\"\u001b[0m,             \u001b[2m             \u001b[0m\n",
       "\u001b[2;36m           \u001b[0m                 \u001b[32m\"align-jumps\"\u001b[0m: \u001b[32m\"-fno-align-jumps\"\u001b[0m,                  \u001b[2m             \u001b[0m\n",
       "\u001b[2;36m           \u001b[0m                 \u001b[32m\"align-labels\"\u001b[0m: \u001b[32m\"-falign-labels\"\u001b[0m,                   \u001b[2m             \u001b[0m\n",
       "\u001b[2;36m           \u001b[0m                 \u001b[32m\"asynchronous-unwind-tables\"\u001b[0m:                       \u001b[2m             \u001b[0m\n",
       "\u001b[2;36m           \u001b[0m         \u001b[32m\"-fasynchronous-unwind-tables\"\u001b[0m,                             \u001b[2m             \u001b[0m\n",
       "\u001b[2;36m           \u001b[0m                 \u001b[32m\"branch-count-reg\"\u001b[0m: null,                           \u001b[2m             \u001b[0m\n",
       "\u001b[2;36m           \u001b[0m                 \u001b[32m\"branch-probabilities\"\u001b[0m: null,                       \u001b[2m             \u001b[0m\n",
       "\u001b[2;36m           \u001b[0m                 \u001b[32m\"early-inlining-insns\"\u001b[0m: \u001b[1;36m225\u001b[0m,                        \u001b[2m             \u001b[0m\n",
       "\u001b[2;36m           \u001b[0m                 \u001b[32m\"gcse-cost-distance-ratio\"\u001b[0m: \u001b[1;36m4\u001b[0m,                      \u001b[2m             \u001b[0m\n",
       "\u001b[2;36m           \u001b[0m                 \u001b[32m\"iv-max-considered-uses\"\u001b[0m: \u001b[1;36m987\u001b[0m                       \u001b[2m             \u001b[0m\n",
       "\u001b[2;36m           \u001b[0m             \u001b[1m}\u001b[0m,                                                      \u001b[2m             \u001b[0m\n",
       "\u001b[2;36m           \u001b[0m             \u001b[32m\"requestor\"\u001b[0m: \u001b[32m\"SkoptBayesianAlgorithm\"\u001b[0m,                  \u001b[2m             \u001b[0m\n",
       "\u001b[2;36m           \u001b[0m             \u001b[32m\"create_timestamp\"\u001b[0m: \u001b[1;36m1645690625.495688\u001b[0m,                  \u001b[2m             \u001b[0m\n",
       "\u001b[2;36m           \u001b[0m             \u001b[32m\"finish_timestamp\"\u001b[0m: null                                \u001b[2m             \u001b[0m\n",
       "\u001b[2;36m           \u001b[0m         \u001b[1m}\u001b[0m\u001b[1m)\u001b[0m                                                          \u001b[2m             \u001b[0m\n"
      ]
     },
     "metadata": {},
     "output_type": "display_data"
    },
    {
     "data": {
      "text/html": [
       "<pre style=\"white-space:pre;overflow-x:auto;line-height:normal;font-family:Menlo,'DejaVu Sans Mono',consolas,'Courier New',monospace\"><span style=\"color: #7fbfbf; text-decoration-color: #7fbfbf\">           </span><span style=\"color: #008000; text-decoration-color: #008000\">DEBUG   </span> RUN COMMAND:                                                 <span style=\"color: #7f7f7f; text-decoration-color: #7f7f7f\">runner.py:79</span>\n",
       "<span style=\"color: #7fbfbf; text-decoration-color: #7fbfbf\">           </span>         <span style=\"color: #008080; text-decoration-color: #008080; font-weight: bold\">gtime -f </span><span style=\"color: #008000; text-decoration-color: #008000\">'%e'</span><span style=\"color: #008080; text-decoration-color: #008080; font-weight: bold\"> g++</span><span style=\"color: #008080; text-decoration-color: #008080; font-weight: bold\">-11</span><span style=\"color: #008080; text-decoration-color: #008080; font-weight: bold\"> -o </span><span style=\"color: #800080; text-decoration-color: #800080; font-weight: bold\">/Users/qnbhd/Development/gimeltune/ex</span> <span style=\"color: #7f7f7f; text-decoration-color: #7f7f7f\">            </span>\n",
       "<span style=\"color: #7fbfbf; text-decoration-color: #7fbfbf\">           </span>         <span style=\"color: #800080; text-decoration-color: #800080; font-weight: bold\">amples/gcc/</span><span style=\"color: #ff00ff; text-decoration-color: #ff00ff; font-weight: bold\">7827e85601b921c69faee1531b73bf023f778b0f4fa4bec5d</span> <span style=\"color: #7f7f7f; text-decoration-color: #7f7f7f\">            </span>\n",
       "<span style=\"color: #7fbfbf; text-decoration-color: #7fbfbf\">           </span>         <span style=\"color: #ff00ff; text-decoration-color: #ff00ff; font-weight: bold\">0288ef8314694ab13790.out</span><span style=\"color: #008080; text-decoration-color: #008080; font-weight: bold\"> </span><span style=\"color: #800080; text-decoration-color: #800080; font-weight: bold\">/Users/qnbhd/Development/gimeltune/e</span> <span style=\"color: #7f7f7f; text-decoration-color: #7f7f7f\">            </span>\n",
       "<span style=\"color: #7fbfbf; text-decoration-color: #7fbfbf\">           </span>         <span style=\"color: #800080; text-decoration-color: #800080; font-weight: bold\">xamples/gcc/raytracer/</span><span style=\"color: #ff00ff; text-decoration-color: #ff00ff; font-weight: bold\">raytracer.cpp</span><span style=\"color: #008080; text-decoration-color: #008080; font-weight: bold\"> -O1 -falign-functions </span>   <span style=\"color: #7f7f7f; text-decoration-color: #7f7f7f\">            </span>\n",
       "<span style=\"color: #7fbfbf; text-decoration-color: #7fbfbf\">           </span>         <span style=\"color: #008080; text-decoration-color: #008080; font-weight: bold\">-fno-align-jumps -falign-labels -fasynchronous-unwind-tables</span> <span style=\"color: #7f7f7f; text-decoration-color: #7f7f7f\">            </span>\n",
       "<span style=\"color: #7fbfbf; text-decoration-color: #7fbfbf\">           </span>         <span style=\"color: #008080; text-decoration-color: #008080; font-weight: bold\">--param early-inlining-</span><span style=\"color: #808000; text-decoration-color: #808000; font-weight: bold\">insns</span><span style=\"color: #008080; text-decoration-color: #008080; font-weight: bold\">=</span><span style=\"color: #008080; text-decoration-color: #008080; font-weight: bold\">225</span><span style=\"color: #008080; text-decoration-color: #008080; font-weight: bold\"> --param </span>                    <span style=\"color: #7f7f7f; text-decoration-color: #7f7f7f\">            </span>\n",
       "<span style=\"color: #7fbfbf; text-decoration-color: #7fbfbf\">           </span>         <span style=\"color: #008080; text-decoration-color: #008080; font-weight: bold\">gcse-cost-distance-</span><span style=\"color: #808000; text-decoration-color: #808000; font-weight: bold\">ratio</span><span style=\"color: #008080; text-decoration-color: #008080; font-weight: bold\">=</span><span style=\"color: #008080; text-decoration-color: #008080; font-weight: bold\">4</span><span style=\"color: #008080; text-decoration-color: #008080; font-weight: bold\"> --param </span>                          <span style=\"color: #7f7f7f; text-decoration-color: #7f7f7f\">            </span>\n",
       "<span style=\"color: #7fbfbf; text-decoration-color: #7fbfbf\">           </span>         <span style=\"color: #008080; text-decoration-color: #008080; font-weight: bold\">iv-max-considered-</span><span style=\"color: #808000; text-decoration-color: #808000; font-weight: bold\">uses</span><span style=\"color: #008080; text-decoration-color: #008080; font-weight: bold\">=</span><span style=\"color: #008080; text-decoration-color: #008080; font-weight: bold\">987</span><span style=\"color: #008080; text-decoration-color: #008080; font-weight: bold\"> </span><span style=\"color: #008080; text-decoration-color: #008080; font-weight: bold\">2</span><span style=\"color: #008080; text-decoration-color: #008080; font-weight: bold\">&gt;&amp;</span><span style=\"color: #008080; text-decoration-color: #008080; font-weight: bold\">1</span>                              <span style=\"color: #7f7f7f; text-decoration-color: #7f7f7f\">            </span>\n",
       "</pre>\n"
      ],
      "text/plain": [
       "\u001b[2;36m          \u001b[0m\u001b[2;36m \u001b[0m\u001b[32mDEBUG   \u001b[0m RUN COMMAND:                                                 \u001b[2mrunner.py\u001b[0m\u001b[2m:\u001b[0m\u001b[2m79\u001b[0m\n",
       "\u001b[2;36m           \u001b[0m         \u001b[1;36mgtime -f \u001b[0m\u001b[32m'%e'\u001b[0m\u001b[1;36m g++\u001b[0m\u001b[1;36m-11\u001b[0m\u001b[1;36m -o \u001b[0m\u001b[1;35m/Users/qnbhd/Development/gimeltune/ex\u001b[0m \u001b[2m            \u001b[0m\n",
       "\u001b[2;36m           \u001b[0m         \u001b[1;35mamples/gcc/\u001b[0m\u001b[1;95m7827e85601b921c69faee1531b73bf023f778b0f4fa4bec5d\u001b[0m \u001b[2m            \u001b[0m\n",
       "\u001b[2;36m           \u001b[0m         \u001b[1;95m0288ef8314694ab13790.out\u001b[0m\u001b[1;36m \u001b[0m\u001b[1;35m/Users/qnbhd/Development/gimeltune/e\u001b[0m \u001b[2m            \u001b[0m\n",
       "\u001b[2;36m           \u001b[0m         \u001b[1;35mxamples/gcc/raytracer/\u001b[0m\u001b[1;95mraytracer.cpp\u001b[0m\u001b[1;36m -O1 -falign-functions \u001b[0m   \u001b[2m            \u001b[0m\n",
       "\u001b[2;36m           \u001b[0m         \u001b[1;36m-fno-align-jumps -falign-labels -fasynchronous-unwind-tables\u001b[0m \u001b[2m            \u001b[0m\n",
       "\u001b[2;36m           \u001b[0m         \u001b[1;36m--param early-inlining-\u001b[0m\u001b[1;33minsns\u001b[0m\u001b[1;36m=\u001b[0m\u001b[1;36m225\u001b[0m\u001b[1;36m --param \u001b[0m                    \u001b[2m            \u001b[0m\n",
       "\u001b[2;36m           \u001b[0m         \u001b[1;36mgcse-cost-distance-\u001b[0m\u001b[1;33mratio\u001b[0m\u001b[1;36m=\u001b[0m\u001b[1;36m4\u001b[0m\u001b[1;36m --param \u001b[0m                          \u001b[2m            \u001b[0m\n",
       "\u001b[2;36m           \u001b[0m         \u001b[1;36miv-max-considered-\u001b[0m\u001b[1;33muses\u001b[0m\u001b[1;36m=\u001b[0m\u001b[1;36m987\u001b[0m\u001b[1;36m \u001b[0m\u001b[1;36m2\u001b[0m\u001b[1;36m>&\u001b[0m\u001b[1;36m1\u001b[0m                              \u001b[2m            \u001b[0m\n"
      ]
     },
     "metadata": {},
     "output_type": "display_data"
    },
    {
     "data": {
      "text/html": [
       "<pre style=\"white-space:pre;overflow-x:auto;line-height:normal;font-family:Menlo,'DejaVu Sans Mono',consolas,'Courier New',monospace\"><span style=\"color: #7fbfbf; text-decoration-color: #7fbfbf\">[11:17:12] </span><span style=\"color: #000080; text-decoration-color: #000080\">INFO    </span> <span style=\"color: #808000; text-decoration-color: #808000; font-weight: bold\">OUT: </span><span style=\"color: #008080; text-decoration-color: #008080; font-weight: bold\">0.84</span>                                                    <span style=\"color: #7f7f7f; text-decoration-color: #7f7f7f\">runner.py:85</span>\n",
       "</pre>\n"
      ],
      "text/plain": [
       "\u001b[2;36m[11:17:12]\u001b[0m\u001b[2;36m \u001b[0m\u001b[34mINFO    \u001b[0m \u001b[1;33mOUT: \u001b[0m\u001b[1;36m0.84\u001b[0m                                                    \u001b[2mrunner.py\u001b[0m\u001b[2m:\u001b[0m\u001b[2m85\u001b[0m\n"
      ]
     },
     "metadata": {},
     "output_type": "display_data"
    },
    {
     "data": {
      "text/html": [
       "<pre style=\"white-space:pre;overflow-x:auto;line-height:normal;font-family:Menlo,'DejaVu Sans Mono',consolas,'Courier New',monospace\"><span style=\"color: #7fbfbf; text-decoration-color: #7fbfbf\">           </span><span style=\"color: #008000; text-decoration-color: #008000\">DEBUG   </span> RUN COMMAND:                                                 <span style=\"color: #7f7f7f; text-decoration-color: #7f7f7f\">runner.py:79</span>\n",
       "<span style=\"color: #7fbfbf; text-decoration-color: #7fbfbf\">           </span>         <span style=\"color: #008080; text-decoration-color: #008080; font-weight: bold\">wc -c </span><span style=\"color: #800080; text-decoration-color: #800080; font-weight: bold\">/Users/qnbhd/Development/gimeltune/examples/gcc/</span><span style=\"color: #ff00ff; text-decoration-color: #ff00ff; font-weight: bold\">7827e85</span> <span style=\"color: #7f7f7f; text-decoration-color: #7f7f7f\">            </span>\n",
       "<span style=\"color: #7fbfbf; text-decoration-color: #7fbfbf\">           </span>         <span style=\"color: #ff00ff; text-decoration-color: #ff00ff; font-weight: bold\">601b921c69faee1531b73bf023f778b0f4fa4bec5d0288ef8314694ab137</span> <span style=\"color: #7f7f7f; text-decoration-color: #7f7f7f\">            </span>\n",
       "<span style=\"color: #7fbfbf; text-decoration-color: #7fbfbf\">           </span>         <span style=\"color: #ff00ff; text-decoration-color: #ff00ff; font-weight: bold\">90.out</span><span style=\"color: #008080; text-decoration-color: #008080; font-weight: bold\"> | awk </span><span style=\"color: #008000; text-decoration-color: #008000\">'{print $1}'</span>                                    <span style=\"color: #7f7f7f; text-decoration-color: #7f7f7f\">            </span>\n",
       "</pre>\n"
      ],
      "text/plain": [
       "\u001b[2;36m          \u001b[0m\u001b[2;36m \u001b[0m\u001b[32mDEBUG   \u001b[0m RUN COMMAND:                                                 \u001b[2mrunner.py\u001b[0m\u001b[2m:\u001b[0m\u001b[2m79\u001b[0m\n",
       "\u001b[2;36m           \u001b[0m         \u001b[1;36mwc -c \u001b[0m\u001b[1;35m/Users/qnbhd/Development/gimeltune/examples/gcc/\u001b[0m\u001b[1;95m7827e85\u001b[0m \u001b[2m            \u001b[0m\n",
       "\u001b[2;36m           \u001b[0m         \u001b[1;95m601b921c69faee1531b73bf023f778b0f4fa4bec5d0288ef8314694ab137\u001b[0m \u001b[2m            \u001b[0m\n",
       "\u001b[2;36m           \u001b[0m         \u001b[1;95m90.out\u001b[0m\u001b[1;36m | awk \u001b[0m\u001b[32m'\u001b[0m\u001b[32m{\u001b[0m\u001b[32mprint $1\u001b[0m\u001b[32m}\u001b[0m\u001b[32m'\u001b[0m                                    \u001b[2m            \u001b[0m\n"
      ]
     },
     "metadata": {},
     "output_type": "display_data"
    },
    {
     "data": {
      "text/html": [
       "<pre style=\"white-space:pre;overflow-x:auto;line-height:normal;font-family:Menlo,'DejaVu Sans Mono',consolas,'Courier New',monospace\"><span style=\"color: #7fbfbf; text-decoration-color: #7fbfbf\">           </span><span style=\"color: #000080; text-decoration-color: #000080\">INFO    </span> <span style=\"color: #808000; text-decoration-color: #808000; font-weight: bold\">OUT: </span><span style=\"color: #008080; text-decoration-color: #008080; font-weight: bold\">51576</span>                                                   <span style=\"color: #7f7f7f; text-decoration-color: #7f7f7f\">runner.py:85</span>\n",
       "</pre>\n"
      ],
      "text/plain": [
       "\u001b[2;36m          \u001b[0m\u001b[2;36m \u001b[0m\u001b[34mINFO    \u001b[0m \u001b[1;33mOUT: \u001b[0m\u001b[1;36m51576\u001b[0m                                                   \u001b[2mrunner.py\u001b[0m\u001b[2m:\u001b[0m\u001b[2m85\u001b[0m\n"
      ]
     },
     "metadata": {},
     "output_type": "display_data"
    },
    {
     "data": {
      "text/html": [
       "<pre style=\"white-space:pre;overflow-x:auto;line-height:normal;font-family:Menlo,'DejaVu Sans Mono',consolas,'Courier New',monospace\"><span style=\"color: #7fbfbf; text-decoration-color: #7fbfbf\">           </span><span style=\"color: #008000; text-decoration-color: #008000\">DEBUG   </span> RUN COMMAND:                                                 <span style=\"color: #7f7f7f; text-decoration-color: #7f7f7f\">runner.py:79</span>\n",
       "<span style=\"color: #7fbfbf; text-decoration-color: #7fbfbf\">           </span>         <span style=\"color: #008080; text-decoration-color: #008080; font-weight: bold\">gtime -f </span><span style=\"color: #008000; text-decoration-color: #008000\">'%e'</span><span style=\"color: #008080; text-decoration-color: #008080; font-weight: bold\"> </span><span style=\"color: #800080; text-decoration-color: #800080; font-weight: bold\">/Users/qnbhd/Development/gimeltune/examples/gcc</span> <span style=\"color: #7f7f7f; text-decoration-color: #7f7f7f\">            </span>\n",
       "<span style=\"color: #7fbfbf; text-decoration-color: #7fbfbf\">           </span>         <span style=\"color: #800080; text-decoration-color: #800080; font-weight: bold\">/</span><span style=\"color: #ff00ff; text-decoration-color: #ff00ff; font-weight: bold\">7827e85601b921c69faee1531b73bf023f778b0f4fa4bec5d0288ef8314</span> <span style=\"color: #7f7f7f; text-decoration-color: #7f7f7f\">            </span>\n",
       "<span style=\"color: #7fbfbf; text-decoration-color: #7fbfbf\">           </span>         <span style=\"color: #ff00ff; text-decoration-color: #ff00ff; font-weight: bold\">694ab13790.out</span><span style=\"color: #008080; text-decoration-color: #008080; font-weight: bold\"> </span><span style=\"color: #008080; text-decoration-color: #008080; font-weight: bold\">2</span><span style=\"color: #008080; text-decoration-color: #008080; font-weight: bold\">&gt;&amp;</span><span style=\"color: #008080; text-decoration-color: #008080; font-weight: bold\">1</span>                                          <span style=\"color: #7f7f7f; text-decoration-color: #7f7f7f\">            </span>\n",
       "</pre>\n"
      ],
      "text/plain": [
       "\u001b[2;36m          \u001b[0m\u001b[2;36m \u001b[0m\u001b[32mDEBUG   \u001b[0m RUN COMMAND:                                                 \u001b[2mrunner.py\u001b[0m\u001b[2m:\u001b[0m\u001b[2m79\u001b[0m\n",
       "\u001b[2;36m           \u001b[0m         \u001b[1;36mgtime -f \u001b[0m\u001b[32m'%e'\u001b[0m\u001b[1;36m \u001b[0m\u001b[1;35m/Users/qnbhd/Development/gimeltune/examples/gcc\u001b[0m \u001b[2m            \u001b[0m\n",
       "\u001b[2;36m           \u001b[0m         \u001b[1;35m/\u001b[0m\u001b[1;95m7827e85601b921c69faee1531b73bf023f778b0f4fa4bec5d0288ef8314\u001b[0m \u001b[2m            \u001b[0m\n",
       "\u001b[2;36m           \u001b[0m         \u001b[1;95m694ab13790.out\u001b[0m\u001b[1;36m \u001b[0m\u001b[1;36m2\u001b[0m\u001b[1;36m>&\u001b[0m\u001b[1;36m1\u001b[0m                                          \u001b[2m            \u001b[0m\n"
      ]
     },
     "metadata": {},
     "output_type": "display_data"
    },
    {
     "data": {
      "text/html": [
       "<pre style=\"white-space:pre;overflow-x:auto;line-height:normal;font-family:Menlo,'DejaVu Sans Mono',consolas,'Courier New',monospace\"><span style=\"color: #7fbfbf; text-decoration-color: #7fbfbf\">           </span><span style=\"color: #000080; text-decoration-color: #000080\">INFO    </span> <span style=\"color: #808000; text-decoration-color: #808000; font-weight: bold\">OUT: </span><span style=\"color: #008080; text-decoration-color: #008080; font-weight: bold\">0.19</span>                                                    <span style=\"color: #7f7f7f; text-decoration-color: #7f7f7f\">runner.py:85</span>\n",
       "</pre>\n"
      ],
      "text/plain": [
       "\u001b[2;36m          \u001b[0m\u001b[2;36m \u001b[0m\u001b[34mINFO    \u001b[0m \u001b[1;33mOUT: \u001b[0m\u001b[1;36m0.19\u001b[0m                                                    \u001b[2mrunner.py\u001b[0m\u001b[2m:\u001b[0m\u001b[2m85\u001b[0m\n"
      ]
     },
     "metadata": {},
     "output_type": "display_data"
    },
    {
     "data": {
      "text/html": [
       "<pre style=\"white-space:pre;overflow-x:auto;line-height:normal;font-family:Menlo,'DejaVu Sans Mono',consolas,'Courier New',monospace\"><span style=\"color: #7fbfbf; text-decoration-color: #7fbfbf\">           </span><span style=\"color: #008000; text-decoration-color: #008000\">DEBUG   </span> RUN COMMAND:                                                 <span style=\"color: #7f7f7f; text-decoration-color: #7f7f7f\">runner.py:79</span>\n",
       "<span style=\"color: #7fbfbf; text-decoration-color: #7fbfbf\">           </span>         <span style=\"color: #008080; text-decoration-color: #008080; font-weight: bold\">gtime -f </span><span style=\"color: #008000; text-decoration-color: #008000\">'%e'</span><span style=\"color: #008080; text-decoration-color: #008080; font-weight: bold\"> </span><span style=\"color: #800080; text-decoration-color: #800080; font-weight: bold\">/Users/qnbhd/Development/gimeltune/examples/gcc</span> <span style=\"color: #7f7f7f; text-decoration-color: #7f7f7f\">            </span>\n",
       "<span style=\"color: #7fbfbf; text-decoration-color: #7fbfbf\">           </span>         <span style=\"color: #800080; text-decoration-color: #800080; font-weight: bold\">/</span><span style=\"color: #ff00ff; text-decoration-color: #ff00ff; font-weight: bold\">7827e85601b921c69faee1531b73bf023f778b0f4fa4bec5d0288ef8314</span> <span style=\"color: #7f7f7f; text-decoration-color: #7f7f7f\">            </span>\n",
       "<span style=\"color: #7fbfbf; text-decoration-color: #7fbfbf\">           </span>         <span style=\"color: #ff00ff; text-decoration-color: #ff00ff; font-weight: bold\">694ab13790.out</span><span style=\"color: #008080; text-decoration-color: #008080; font-weight: bold\"> </span><span style=\"color: #008080; text-decoration-color: #008080; font-weight: bold\">2</span><span style=\"color: #008080; text-decoration-color: #008080; font-weight: bold\">&gt;&amp;</span><span style=\"color: #008080; text-decoration-color: #008080; font-weight: bold\">1</span>                                          <span style=\"color: #7f7f7f; text-decoration-color: #7f7f7f\">            </span>\n",
       "</pre>\n"
      ],
      "text/plain": [
       "\u001b[2;36m          \u001b[0m\u001b[2;36m \u001b[0m\u001b[32mDEBUG   \u001b[0m RUN COMMAND:                                                 \u001b[2mrunner.py\u001b[0m\u001b[2m:\u001b[0m\u001b[2m79\u001b[0m\n",
       "\u001b[2;36m           \u001b[0m         \u001b[1;36mgtime -f \u001b[0m\u001b[32m'%e'\u001b[0m\u001b[1;36m \u001b[0m\u001b[1;35m/Users/qnbhd/Development/gimeltune/examples/gcc\u001b[0m \u001b[2m            \u001b[0m\n",
       "\u001b[2;36m           \u001b[0m         \u001b[1;35m/\u001b[0m\u001b[1;95m7827e85601b921c69faee1531b73bf023f778b0f4fa4bec5d0288ef8314\u001b[0m \u001b[2m            \u001b[0m\n",
       "\u001b[2;36m           \u001b[0m         \u001b[1;95m694ab13790.out\u001b[0m\u001b[1;36m \u001b[0m\u001b[1;36m2\u001b[0m\u001b[1;36m>&\u001b[0m\u001b[1;36m1\u001b[0m                                          \u001b[2m            \u001b[0m\n"
      ]
     },
     "metadata": {},
     "output_type": "display_data"
    },
    {
     "data": {
      "text/html": [
       "<pre style=\"white-space:pre;overflow-x:auto;line-height:normal;font-family:Menlo,'DejaVu Sans Mono',consolas,'Courier New',monospace\"><span style=\"color: #7fbfbf; text-decoration-color: #7fbfbf\">           </span><span style=\"color: #000080; text-decoration-color: #000080\">INFO    </span> <span style=\"color: #808000; text-decoration-color: #808000; font-weight: bold\">OUT: </span><span style=\"color: #008080; text-decoration-color: #008080; font-weight: bold\">0.14</span>                                                    <span style=\"color: #7f7f7f; text-decoration-color: #7f7f7f\">runner.py:85</span>\n",
       "</pre>\n"
      ],
      "text/plain": [
       "\u001b[2;36m          \u001b[0m\u001b[2;36m \u001b[0m\u001b[34mINFO    \u001b[0m \u001b[1;33mOUT: \u001b[0m\u001b[1;36m0.14\u001b[0m                                                    \u001b[2mrunner.py\u001b[0m\u001b[2m:\u001b[0m\u001b[2m85\u001b[0m\n"
      ]
     },
     "metadata": {},
     "output_type": "display_data"
    },
    {
     "data": {
      "text/html": [
       "<pre style=\"white-space:pre;overflow-x:auto;line-height:normal;font-family:Menlo,'DejaVu Sans Mono',consolas,'Courier New',monospace\"><span style=\"color: #7fbfbf; text-decoration-color: #7fbfbf\">           </span><span style=\"color: #008000; text-decoration-color: #008000\">DEBUG   </span> RUN COMMAND:                                                 <span style=\"color: #7f7f7f; text-decoration-color: #7f7f7f\">runner.py:79</span>\n",
       "<span style=\"color: #7fbfbf; text-decoration-color: #7fbfbf\">           </span>         <span style=\"color: #008080; text-decoration-color: #008080; font-weight: bold\">gtime -f </span><span style=\"color: #008000; text-decoration-color: #008000\">'%e'</span><span style=\"color: #008080; text-decoration-color: #008080; font-weight: bold\"> </span><span style=\"color: #800080; text-decoration-color: #800080; font-weight: bold\">/Users/qnbhd/Development/gimeltune/examples/gcc</span> <span style=\"color: #7f7f7f; text-decoration-color: #7f7f7f\">            </span>\n",
       "<span style=\"color: #7fbfbf; text-decoration-color: #7fbfbf\">           </span>         <span style=\"color: #800080; text-decoration-color: #800080; font-weight: bold\">/</span><span style=\"color: #ff00ff; text-decoration-color: #ff00ff; font-weight: bold\">7827e85601b921c69faee1531b73bf023f778b0f4fa4bec5d0288ef8314</span> <span style=\"color: #7f7f7f; text-decoration-color: #7f7f7f\">            </span>\n",
       "<span style=\"color: #7fbfbf; text-decoration-color: #7fbfbf\">           </span>         <span style=\"color: #ff00ff; text-decoration-color: #ff00ff; font-weight: bold\">694ab13790.out</span><span style=\"color: #008080; text-decoration-color: #008080; font-weight: bold\"> </span><span style=\"color: #008080; text-decoration-color: #008080; font-weight: bold\">2</span><span style=\"color: #008080; text-decoration-color: #008080; font-weight: bold\">&gt;&amp;</span><span style=\"color: #008080; text-decoration-color: #008080; font-weight: bold\">1</span>                                          <span style=\"color: #7f7f7f; text-decoration-color: #7f7f7f\">            </span>\n",
       "</pre>\n"
      ],
      "text/plain": [
       "\u001b[2;36m          \u001b[0m\u001b[2;36m \u001b[0m\u001b[32mDEBUG   \u001b[0m RUN COMMAND:                                                 \u001b[2mrunner.py\u001b[0m\u001b[2m:\u001b[0m\u001b[2m79\u001b[0m\n",
       "\u001b[2;36m           \u001b[0m         \u001b[1;36mgtime -f \u001b[0m\u001b[32m'%e'\u001b[0m\u001b[1;36m \u001b[0m\u001b[1;35m/Users/qnbhd/Development/gimeltune/examples/gcc\u001b[0m \u001b[2m            \u001b[0m\n",
       "\u001b[2;36m           \u001b[0m         \u001b[1;35m/\u001b[0m\u001b[1;95m7827e85601b921c69faee1531b73bf023f778b0f4fa4bec5d0288ef8314\u001b[0m \u001b[2m            \u001b[0m\n",
       "\u001b[2;36m           \u001b[0m         \u001b[1;95m694ab13790.out\u001b[0m\u001b[1;36m \u001b[0m\u001b[1;36m2\u001b[0m\u001b[1;36m>&\u001b[0m\u001b[1;36m1\u001b[0m                                          \u001b[2m            \u001b[0m\n"
      ]
     },
     "metadata": {},
     "output_type": "display_data"
    },
    {
     "data": {
      "text/html": [
       "<pre style=\"white-space:pre;overflow-x:auto;line-height:normal;font-family:Menlo,'DejaVu Sans Mono',consolas,'Courier New',monospace\"><span style=\"color: #7fbfbf; text-decoration-color: #7fbfbf\">           </span><span style=\"color: #000080; text-decoration-color: #000080\">INFO    </span> <span style=\"color: #808000; text-decoration-color: #808000; font-weight: bold\">OUT: </span><span style=\"color: #008080; text-decoration-color: #008080; font-weight: bold\">0.13</span>                                                    <span style=\"color: #7f7f7f; text-decoration-color: #7f7f7f\">runner.py:85</span>\n",
       "</pre>\n"
      ],
      "text/plain": [
       "\u001b[2;36m          \u001b[0m\u001b[2;36m \u001b[0m\u001b[34mINFO    \u001b[0m \u001b[1;33mOUT: \u001b[0m\u001b[1;36m0.13\u001b[0m                                                    \u001b[2mrunner.py\u001b[0m\u001b[2m:\u001b[0m\u001b[2m85\u001b[0m\n"
      ]
     },
     "metadata": {},
     "output_type": "display_data"
    },
    {
     "data": {
      "text/html": [
       "<pre style=\"white-space:pre;overflow-x:auto;line-height:normal;font-family:Menlo,'DejaVu Sans Mono',consolas,'Courier New',monospace\"><span style=\"color: #7fbfbf; text-decoration-color: #7fbfbf\">           </span><span style=\"color: #008000; text-decoration-color: #008000\">DEBUG   </span> RUN COMMAND:                                                 <span style=\"color: #7f7f7f; text-decoration-color: #7f7f7f\">runner.py:79</span>\n",
       "<span style=\"color: #7fbfbf; text-decoration-color: #7fbfbf\">           </span>         <span style=\"color: #008080; text-decoration-color: #008080; font-weight: bold\">gtime -f </span><span style=\"color: #008000; text-decoration-color: #008000\">'%e'</span><span style=\"color: #008080; text-decoration-color: #008080; font-weight: bold\"> </span><span style=\"color: #800080; text-decoration-color: #800080; font-weight: bold\">/Users/qnbhd/Development/gimeltune/examples/gcc</span> <span style=\"color: #7f7f7f; text-decoration-color: #7f7f7f\">            </span>\n",
       "<span style=\"color: #7fbfbf; text-decoration-color: #7fbfbf\">           </span>         <span style=\"color: #800080; text-decoration-color: #800080; font-weight: bold\">/</span><span style=\"color: #ff00ff; text-decoration-color: #ff00ff; font-weight: bold\">7827e85601b921c69faee1531b73bf023f778b0f4fa4bec5d0288ef8314</span> <span style=\"color: #7f7f7f; text-decoration-color: #7f7f7f\">            </span>\n",
       "<span style=\"color: #7fbfbf; text-decoration-color: #7fbfbf\">           </span>         <span style=\"color: #ff00ff; text-decoration-color: #ff00ff; font-weight: bold\">694ab13790.out</span><span style=\"color: #008080; text-decoration-color: #008080; font-weight: bold\"> </span><span style=\"color: #008080; text-decoration-color: #008080; font-weight: bold\">2</span><span style=\"color: #008080; text-decoration-color: #008080; font-weight: bold\">&gt;&amp;</span><span style=\"color: #008080; text-decoration-color: #008080; font-weight: bold\">1</span>                                          <span style=\"color: #7f7f7f; text-decoration-color: #7f7f7f\">            </span>\n",
       "</pre>\n"
      ],
      "text/plain": [
       "\u001b[2;36m          \u001b[0m\u001b[2;36m \u001b[0m\u001b[32mDEBUG   \u001b[0m RUN COMMAND:                                                 \u001b[2mrunner.py\u001b[0m\u001b[2m:\u001b[0m\u001b[2m79\u001b[0m\n",
       "\u001b[2;36m           \u001b[0m         \u001b[1;36mgtime -f \u001b[0m\u001b[32m'%e'\u001b[0m\u001b[1;36m \u001b[0m\u001b[1;35m/Users/qnbhd/Development/gimeltune/examples/gcc\u001b[0m \u001b[2m            \u001b[0m\n",
       "\u001b[2;36m           \u001b[0m         \u001b[1;35m/\u001b[0m\u001b[1;95m7827e85601b921c69faee1531b73bf023f778b0f4fa4bec5d0288ef8314\u001b[0m \u001b[2m            \u001b[0m\n",
       "\u001b[2;36m           \u001b[0m         \u001b[1;95m694ab13790.out\u001b[0m\u001b[1;36m \u001b[0m\u001b[1;36m2\u001b[0m\u001b[1;36m>&\u001b[0m\u001b[1;36m1\u001b[0m                                          \u001b[2m            \u001b[0m\n"
      ]
     },
     "metadata": {},
     "output_type": "display_data"
    },
    {
     "data": {
      "text/html": [
       "<pre style=\"white-space:pre;overflow-x:auto;line-height:normal;font-family:Menlo,'DejaVu Sans Mono',consolas,'Courier New',monospace\"><span style=\"color: #7fbfbf; text-decoration-color: #7fbfbf\">[11:17:13] </span><span style=\"color: #000080; text-decoration-color: #000080\">INFO    </span> <span style=\"color: #808000; text-decoration-color: #808000; font-weight: bold\">OUT: </span><span style=\"color: #008080; text-decoration-color: #008080; font-weight: bold\">0.13</span>                                                    <span style=\"color: #7f7f7f; text-decoration-color: #7f7f7f\">runner.py:85</span>\n",
       "</pre>\n"
      ],
      "text/plain": [
       "\u001b[2;36m[11:17:13]\u001b[0m\u001b[2;36m \u001b[0m\u001b[34mINFO    \u001b[0m \u001b[1;33mOUT: \u001b[0m\u001b[1;36m0.13\u001b[0m                                                    \u001b[2mrunner.py\u001b[0m\u001b[2m:\u001b[0m\u001b[2m85\u001b[0m\n"
      ]
     },
     "metadata": {},
     "output_type": "display_data"
    },
    {
     "data": {
      "text/html": [
       "<pre style=\"white-space:pre;overflow-x:auto;line-height:normal;font-family:Menlo,'DejaVu Sans Mono',consolas,'Courier New',monospace\"><span style=\"color: #7fbfbf; text-decoration-color: #7fbfbf\">           </span><span style=\"color: #008000; text-decoration-color: #008000\">DEBUG   </span> RUN COMMAND:                                                 <span style=\"color: #7f7f7f; text-decoration-color: #7f7f7f\">runner.py:79</span>\n",
       "<span style=\"color: #7fbfbf; text-decoration-color: #7fbfbf\">           </span>         <span style=\"color: #008080; text-decoration-color: #008080; font-weight: bold\">gtime -f </span><span style=\"color: #008000; text-decoration-color: #008000\">'%e'</span><span style=\"color: #008080; text-decoration-color: #008080; font-weight: bold\"> </span><span style=\"color: #800080; text-decoration-color: #800080; font-weight: bold\">/Users/qnbhd/Development/gimeltune/examples/gcc</span> <span style=\"color: #7f7f7f; text-decoration-color: #7f7f7f\">            </span>\n",
       "<span style=\"color: #7fbfbf; text-decoration-color: #7fbfbf\">           </span>         <span style=\"color: #800080; text-decoration-color: #800080; font-weight: bold\">/</span><span style=\"color: #ff00ff; text-decoration-color: #ff00ff; font-weight: bold\">7827e85601b921c69faee1531b73bf023f778b0f4fa4bec5d0288ef8314</span> <span style=\"color: #7f7f7f; text-decoration-color: #7f7f7f\">            </span>\n",
       "<span style=\"color: #7fbfbf; text-decoration-color: #7fbfbf\">           </span>         <span style=\"color: #ff00ff; text-decoration-color: #ff00ff; font-weight: bold\">694ab13790.out</span><span style=\"color: #008080; text-decoration-color: #008080; font-weight: bold\"> </span><span style=\"color: #008080; text-decoration-color: #008080; font-weight: bold\">2</span><span style=\"color: #008080; text-decoration-color: #008080; font-weight: bold\">&gt;&amp;</span><span style=\"color: #008080; text-decoration-color: #008080; font-weight: bold\">1</span>                                          <span style=\"color: #7f7f7f; text-decoration-color: #7f7f7f\">            </span>\n",
       "</pre>\n"
      ],
      "text/plain": [
       "\u001b[2;36m          \u001b[0m\u001b[2;36m \u001b[0m\u001b[32mDEBUG   \u001b[0m RUN COMMAND:                                                 \u001b[2mrunner.py\u001b[0m\u001b[2m:\u001b[0m\u001b[2m79\u001b[0m\n",
       "\u001b[2;36m           \u001b[0m         \u001b[1;36mgtime -f \u001b[0m\u001b[32m'%e'\u001b[0m\u001b[1;36m \u001b[0m\u001b[1;35m/Users/qnbhd/Development/gimeltune/examples/gcc\u001b[0m \u001b[2m            \u001b[0m\n",
       "\u001b[2;36m           \u001b[0m         \u001b[1;35m/\u001b[0m\u001b[1;95m7827e85601b921c69faee1531b73bf023f778b0f4fa4bec5d0288ef8314\u001b[0m \u001b[2m            \u001b[0m\n",
       "\u001b[2;36m           \u001b[0m         \u001b[1;95m694ab13790.out\u001b[0m\u001b[1;36m \u001b[0m\u001b[1;36m2\u001b[0m\u001b[1;36m>&\u001b[0m\u001b[1;36m1\u001b[0m                                          \u001b[2m            \u001b[0m\n"
      ]
     },
     "metadata": {},
     "output_type": "display_data"
    },
    {
     "data": {
      "text/html": [
       "<pre style=\"white-space:pre;overflow-x:auto;line-height:normal;font-family:Menlo,'DejaVu Sans Mono',consolas,'Courier New',monospace\"><span style=\"color: #7fbfbf; text-decoration-color: #7fbfbf\">           </span><span style=\"color: #000080; text-decoration-color: #000080\">INFO    </span> <span style=\"color: #808000; text-decoration-color: #808000; font-weight: bold\">OUT: </span><span style=\"color: #008080; text-decoration-color: #008080; font-weight: bold\">0.13</span>                                                    <span style=\"color: #7f7f7f; text-decoration-color: #7f7f7f\">runner.py:85</span>\n",
       "</pre>\n"
      ],
      "text/plain": [
       "\u001b[2;36m          \u001b[0m\u001b[2;36m \u001b[0m\u001b[34mINFO    \u001b[0m \u001b[1;33mOUT: \u001b[0m\u001b[1;36m0.13\u001b[0m                                                    \u001b[2mrunner.py\u001b[0m\u001b[2m:\u001b[0m\u001b[2m85\u001b[0m\n"
      ]
     },
     "metadata": {},
     "output_type": "display_data"
    },
    {
     "data": {
      "text/html": [
       "<pre style=\"white-space:pre;overflow-x:auto;line-height:normal;font-family:Menlo,'DejaVu Sans Mono',consolas,'Courier New',monospace\"><span style=\"color: #7fbfbf; text-decoration-color: #7fbfbf\">           </span><span style=\"color: #008000; text-decoration-color: #008000\">DEBUG   </span> RUN COMMAND:                                                 <span style=\"color: #7f7f7f; text-decoration-color: #7f7f7f\">runner.py:79</span>\n",
       "<span style=\"color: #7fbfbf; text-decoration-color: #7fbfbf\">           </span>         <span style=\"color: #008080; text-decoration-color: #008080; font-weight: bold\">rm </span><span style=\"color: #800080; text-decoration-color: #800080; font-weight: bold\">/Users/qnbhd/Development/gimeltune/examples/gcc/</span><span style=\"color: #ff00ff; text-decoration-color: #ff00ff; font-weight: bold\">7827e85601</span> <span style=\"color: #7f7f7f; text-decoration-color: #7f7f7f\">            </span>\n",
       "<span style=\"color: #7fbfbf; text-decoration-color: #7fbfbf\">           </span>         <span style=\"color: #ff00ff; text-decoration-color: #ff00ff; font-weight: bold\">b921c69faee1531b73bf023f778b0f4fa4bec5d0288ef8314694ab13790.</span> <span style=\"color: #7f7f7f; text-decoration-color: #7f7f7f\">            </span>\n",
       "<span style=\"color: #7fbfbf; text-decoration-color: #7fbfbf\">           </span>         <span style=\"color: #ff00ff; text-decoration-color: #ff00ff; font-weight: bold\">out</span>                                                          <span style=\"color: #7f7f7f; text-decoration-color: #7f7f7f\">            </span>\n",
       "</pre>\n"
      ],
      "text/plain": [
       "\u001b[2;36m          \u001b[0m\u001b[2;36m \u001b[0m\u001b[32mDEBUG   \u001b[0m RUN COMMAND:                                                 \u001b[2mrunner.py\u001b[0m\u001b[2m:\u001b[0m\u001b[2m79\u001b[0m\n",
       "\u001b[2;36m           \u001b[0m         \u001b[1;36mrm \u001b[0m\u001b[1;35m/Users/qnbhd/Development/gimeltune/examples/gcc/\u001b[0m\u001b[1;95m7827e85601\u001b[0m \u001b[2m            \u001b[0m\n",
       "\u001b[2;36m           \u001b[0m         \u001b[1;95mb921c69faee1531b73bf023f778b0f4fa4bec5d0288ef8314694ab13790.\u001b[0m \u001b[2m            \u001b[0m\n",
       "\u001b[2;36m           \u001b[0m         \u001b[1;95mout\u001b[0m                                                          \u001b[2m            \u001b[0m\n"
      ]
     },
     "metadata": {},
     "output_type": "display_data"
    },
    {
     "name": "stderr",
     "output_type": "stream",
     "text": [
      "/Users/qnbhd/Development/gimeltune/gimeltune/search/algorithms/skopt.py:58: UserWarning: Now per-emit count in skopt technique implemented not correctly. Per-emit count is property, return default value (1).\n",
      "  warnings.warn('Now per-emit count in skopt technique implemented not correctly.'\n"
     ]
    },
    {
     "data": {
      "text/html": [
       "<pre style=\"white-space:pre;overflow-x:auto;line-height:normal;font-family:Menlo,'DejaVu Sans Mono',consolas,'Courier New',monospace\"><span style=\"color: #7fbfbf; text-decoration-color: #7fbfbf\">           </span><span style=\"color: #000080; text-decoration-color: #000080\">INFO    </span> Trying experiment: <span style=\"color: #800080; text-decoration-color: #800080; font-weight: bold\">Experiment</span><span style=\"font-weight: bold\">({</span>                             <span style=\"color: #7f7f7f; text-decoration-color: #7f7f7f\">runner.py:156</span>\n",
       "<span style=\"color: #7fbfbf; text-decoration-color: #7fbfbf\">           </span>             <span style=\"color: #008000; text-decoration-color: #008000\">\"id\"</span>: <span style=\"color: #008080; text-decoration-color: #008080; font-weight: bold\">11</span>,                                               <span style=\"color: #7f7f7f; text-decoration-color: #7f7f7f\">             </span>\n",
       "<span style=\"color: #7fbfbf; text-decoration-color: #7fbfbf\">           </span>             <span style=\"color: #008000; text-decoration-color: #008000\">\"job_id\"</span>: <span style=\"color: #008080; text-decoration-color: #008080; font-weight: bold\">1</span>,                                            <span style=\"color: #7f7f7f; text-decoration-color: #7f7f7f\">             </span>\n",
       "<span style=\"color: #7fbfbf; text-decoration-color: #7fbfbf\">           </span>             <span style=\"color: #008000; text-decoration-color: #008000\">\"state\"</span>: <span style=\"color: #008000; text-decoration-color: #008000\">\"WIP\"</span>,                                         <span style=\"color: #7f7f7f; text-decoration-color: #7f7f7f\">             </span>\n",
       "<span style=\"color: #7fbfbf; text-decoration-color: #7fbfbf\">           </span>             <span style=\"color: #008000; text-decoration-color: #008000\">\"hash\"</span>: null,                                           <span style=\"color: #7f7f7f; text-decoration-color: #7f7f7f\">             </span>\n",
       "<span style=\"color: #7fbfbf; text-decoration-color: #7fbfbf\">           </span>             <span style=\"color: #008000; text-decoration-color: #008000\">\"objective_result\"</span>: null,                               <span style=\"color: #7f7f7f; text-decoration-color: #7f7f7f\">             </span>\n",
       "<span style=\"color: #7fbfbf; text-decoration-color: #7fbfbf\">           </span>             <span style=\"color: #008000; text-decoration-color: #008000\">\"params\"</span>: <span style=\"font-weight: bold\">{</span>                                             <span style=\"color: #7f7f7f; text-decoration-color: #7f7f7f\">             </span>\n",
       "<span style=\"color: #7fbfbf; text-decoration-color: #7fbfbf\">           </span>                 <span style=\"color: #008000; text-decoration-color: #008000\">\"-O\"</span>: <span style=\"color: #008000; text-decoration-color: #008000\">\"-O3\"</span>,                                        <span style=\"color: #7f7f7f; text-decoration-color: #7f7f7f\">             </span>\n",
       "<span style=\"color: #7fbfbf; text-decoration-color: #7fbfbf\">           </span>                 <span style=\"color: #008000; text-decoration-color: #008000\">\"align-functions\"</span>: <span style=\"color: #008000; text-decoration-color: #008000\">\"-falign-functions\"</span>,             <span style=\"color: #7f7f7f; text-decoration-color: #7f7f7f\">             </span>\n",
       "<span style=\"color: #7fbfbf; text-decoration-color: #7fbfbf\">           </span>                 <span style=\"color: #008000; text-decoration-color: #008000\">\"align-jumps\"</span>: <span style=\"color: #008000; text-decoration-color: #008000\">\"-falign-jumps\"</span>,                     <span style=\"color: #7f7f7f; text-decoration-color: #7f7f7f\">             </span>\n",
       "<span style=\"color: #7fbfbf; text-decoration-color: #7fbfbf\">           </span>                 <span style=\"color: #008000; text-decoration-color: #008000\">\"align-labels\"</span>: <span style=\"color: #008000; text-decoration-color: #008000\">\"-falign-labels\"</span>,                   <span style=\"color: #7f7f7f; text-decoration-color: #7f7f7f\">             </span>\n",
       "<span style=\"color: #7fbfbf; text-decoration-color: #7fbfbf\">           </span>                 <span style=\"color: #008000; text-decoration-color: #008000\">\"asynchronous-unwind-tables\"</span>: null,                 <span style=\"color: #7f7f7f; text-decoration-color: #7f7f7f\">             </span>\n",
       "<span style=\"color: #7fbfbf; text-decoration-color: #7fbfbf\">           </span>                 <span style=\"color: #008000; text-decoration-color: #008000\">\"branch-count-reg\"</span>: null,                           <span style=\"color: #7f7f7f; text-decoration-color: #7f7f7f\">             </span>\n",
       "<span style=\"color: #7fbfbf; text-decoration-color: #7fbfbf\">           </span>                 <span style=\"color: #008000; text-decoration-color: #008000\">\"branch-probabilities\"</span>: <span style=\"color: #008000; text-decoration-color: #008000\">\"-fbranch-probabilities\"</span>,   <span style=\"color: #7f7f7f; text-decoration-color: #7f7f7f\">             </span>\n",
       "<span style=\"color: #7fbfbf; text-decoration-color: #7fbfbf\">           </span>                 <span style=\"color: #008000; text-decoration-color: #008000\">\"early-inlining-insns\"</span>: <span style=\"color: #008080; text-decoration-color: #008080; font-weight: bold\">378</span>,                        <span style=\"color: #7f7f7f; text-decoration-color: #7f7f7f\">             </span>\n",
       "<span style=\"color: #7fbfbf; text-decoration-color: #7fbfbf\">           </span>                 <span style=\"color: #008000; text-decoration-color: #008000\">\"gcse-cost-distance-ratio\"</span>: <span style=\"color: #008080; text-decoration-color: #008080; font-weight: bold\">76</span>,                     <span style=\"color: #7f7f7f; text-decoration-color: #7f7f7f\">             </span>\n",
       "<span style=\"color: #7fbfbf; text-decoration-color: #7fbfbf\">           </span>                 <span style=\"color: #008000; text-decoration-color: #008000\">\"iv-max-considered-uses\"</span>: <span style=\"color: #008080; text-decoration-color: #008080; font-weight: bold\">81</span>                        <span style=\"color: #7f7f7f; text-decoration-color: #7f7f7f\">             </span>\n",
       "<span style=\"color: #7fbfbf; text-decoration-color: #7fbfbf\">           </span>             <span style=\"font-weight: bold\">}</span>,                                                      <span style=\"color: #7f7f7f; text-decoration-color: #7f7f7f\">             </span>\n",
       "<span style=\"color: #7fbfbf; text-decoration-color: #7fbfbf\">           </span>             <span style=\"color: #008000; text-decoration-color: #008000\">\"requestor\"</span>: <span style=\"color: #008000; text-decoration-color: #008000\">\"SkoptBayesianAlgorithm\"</span>,                  <span style=\"color: #7f7f7f; text-decoration-color: #7f7f7f\">             </span>\n",
       "<span style=\"color: #7fbfbf; text-decoration-color: #7fbfbf\">           </span>             <span style=\"color: #008000; text-decoration-color: #008000\">\"create_timestamp\"</span>: <span style=\"color: #008080; text-decoration-color: #008080; font-weight: bold\">1645690633.368353</span>,                  <span style=\"color: #7f7f7f; text-decoration-color: #7f7f7f\">             </span>\n",
       "<span style=\"color: #7fbfbf; text-decoration-color: #7fbfbf\">           </span>             <span style=\"color: #008000; text-decoration-color: #008000\">\"finish_timestamp\"</span>: null                                <span style=\"color: #7f7f7f; text-decoration-color: #7f7f7f\">             </span>\n",
       "<span style=\"color: #7fbfbf; text-decoration-color: #7fbfbf\">           </span>         <span style=\"font-weight: bold\">})</span>                                                          <span style=\"color: #7f7f7f; text-decoration-color: #7f7f7f\">             </span>\n",
       "</pre>\n"
      ],
      "text/plain": [
       "\u001b[2;36m          \u001b[0m\u001b[2;36m \u001b[0m\u001b[34mINFO    \u001b[0m Trying experiment: \u001b[1;35mExperiment\u001b[0m\u001b[1m(\u001b[0m\u001b[1m{\u001b[0m                             \u001b[2mrunner.py\u001b[0m\u001b[2m:\u001b[0m\u001b[2m156\u001b[0m\n",
       "\u001b[2;36m           \u001b[0m             \u001b[32m\"id\"\u001b[0m: \u001b[1;36m11\u001b[0m,                                               \u001b[2m             \u001b[0m\n",
       "\u001b[2;36m           \u001b[0m             \u001b[32m\"job_id\"\u001b[0m: \u001b[1;36m1\u001b[0m,                                            \u001b[2m             \u001b[0m\n",
       "\u001b[2;36m           \u001b[0m             \u001b[32m\"state\"\u001b[0m: \u001b[32m\"WIP\"\u001b[0m,                                         \u001b[2m             \u001b[0m\n",
       "\u001b[2;36m           \u001b[0m             \u001b[32m\"hash\"\u001b[0m: null,                                           \u001b[2m             \u001b[0m\n",
       "\u001b[2;36m           \u001b[0m             \u001b[32m\"objective_result\"\u001b[0m: null,                               \u001b[2m             \u001b[0m\n",
       "\u001b[2;36m           \u001b[0m             \u001b[32m\"params\"\u001b[0m: \u001b[1m{\u001b[0m                                             \u001b[2m             \u001b[0m\n",
       "\u001b[2;36m           \u001b[0m                 \u001b[32m\"-O\"\u001b[0m: \u001b[32m\"-O3\"\u001b[0m,                                        \u001b[2m             \u001b[0m\n",
       "\u001b[2;36m           \u001b[0m                 \u001b[32m\"align-functions\"\u001b[0m: \u001b[32m\"-falign-functions\"\u001b[0m,             \u001b[2m             \u001b[0m\n",
       "\u001b[2;36m           \u001b[0m                 \u001b[32m\"align-jumps\"\u001b[0m: \u001b[32m\"-falign-jumps\"\u001b[0m,                     \u001b[2m             \u001b[0m\n",
       "\u001b[2;36m           \u001b[0m                 \u001b[32m\"align-labels\"\u001b[0m: \u001b[32m\"-falign-labels\"\u001b[0m,                   \u001b[2m             \u001b[0m\n",
       "\u001b[2;36m           \u001b[0m                 \u001b[32m\"asynchronous-unwind-tables\"\u001b[0m: null,                 \u001b[2m             \u001b[0m\n",
       "\u001b[2;36m           \u001b[0m                 \u001b[32m\"branch-count-reg\"\u001b[0m: null,                           \u001b[2m             \u001b[0m\n",
       "\u001b[2;36m           \u001b[0m                 \u001b[32m\"branch-probabilities\"\u001b[0m: \u001b[32m\"-fbranch-probabilities\"\u001b[0m,   \u001b[2m             \u001b[0m\n",
       "\u001b[2;36m           \u001b[0m                 \u001b[32m\"early-inlining-insns\"\u001b[0m: \u001b[1;36m378\u001b[0m,                        \u001b[2m             \u001b[0m\n",
       "\u001b[2;36m           \u001b[0m                 \u001b[32m\"gcse-cost-distance-ratio\"\u001b[0m: \u001b[1;36m76\u001b[0m,                     \u001b[2m             \u001b[0m\n",
       "\u001b[2;36m           \u001b[0m                 \u001b[32m\"iv-max-considered-uses\"\u001b[0m: \u001b[1;36m81\u001b[0m                        \u001b[2m             \u001b[0m\n",
       "\u001b[2;36m           \u001b[0m             \u001b[1m}\u001b[0m,                                                      \u001b[2m             \u001b[0m\n",
       "\u001b[2;36m           \u001b[0m             \u001b[32m\"requestor\"\u001b[0m: \u001b[32m\"SkoptBayesianAlgorithm\"\u001b[0m,                  \u001b[2m             \u001b[0m\n",
       "\u001b[2;36m           \u001b[0m             \u001b[32m\"create_timestamp\"\u001b[0m: \u001b[1;36m1645690633.368353\u001b[0m,                  \u001b[2m             \u001b[0m\n",
       "\u001b[2;36m           \u001b[0m             \u001b[32m\"finish_timestamp\"\u001b[0m: null                                \u001b[2m             \u001b[0m\n",
       "\u001b[2;36m           \u001b[0m         \u001b[1m}\u001b[0m\u001b[1m)\u001b[0m                                                          \u001b[2m             \u001b[0m\n"
      ]
     },
     "metadata": {},
     "output_type": "display_data"
    },
    {
     "data": {
      "text/html": [
       "<pre style=\"white-space:pre;overflow-x:auto;line-height:normal;font-family:Menlo,'DejaVu Sans Mono',consolas,'Courier New',monospace\"><span style=\"color: #7fbfbf; text-decoration-color: #7fbfbf\">           </span><span style=\"color: #008000; text-decoration-color: #008000\">DEBUG   </span> RUN COMMAND:                                                 <span style=\"color: #7f7f7f; text-decoration-color: #7f7f7f\">runner.py:79</span>\n",
       "<span style=\"color: #7fbfbf; text-decoration-color: #7fbfbf\">           </span>         <span style=\"color: #008080; text-decoration-color: #008080; font-weight: bold\">gtime -f </span><span style=\"color: #008000; text-decoration-color: #008000\">'%e'</span><span style=\"color: #008080; text-decoration-color: #008080; font-weight: bold\"> g++</span><span style=\"color: #008080; text-decoration-color: #008080; font-weight: bold\">-11</span><span style=\"color: #008080; text-decoration-color: #008080; font-weight: bold\"> -o </span><span style=\"color: #800080; text-decoration-color: #800080; font-weight: bold\">/Users/qnbhd/Development/gimeltune/ex</span> <span style=\"color: #7f7f7f; text-decoration-color: #7f7f7f\">            </span>\n",
       "<span style=\"color: #7fbfbf; text-decoration-color: #7fbfbf\">           </span>         <span style=\"color: #800080; text-decoration-color: #800080; font-weight: bold\">amples/gcc/</span><span style=\"color: #ff00ff; text-decoration-color: #ff00ff; font-weight: bold\">d8fab0b686cbaa10cd81b9ed3fa45b571545852bd80750719</span> <span style=\"color: #7f7f7f; text-decoration-color: #7f7f7f\">            </span>\n",
       "<span style=\"color: #7fbfbf; text-decoration-color: #7fbfbf\">           </span>         <span style=\"color: #ff00ff; text-decoration-color: #ff00ff; font-weight: bold\">7bd793f05ff354898330.out</span><span style=\"color: #008080; text-decoration-color: #008080; font-weight: bold\"> </span><span style=\"color: #800080; text-decoration-color: #800080; font-weight: bold\">/Users/qnbhd/Development/gimeltune/e</span> <span style=\"color: #7f7f7f; text-decoration-color: #7f7f7f\">            </span>\n",
       "<span style=\"color: #7fbfbf; text-decoration-color: #7fbfbf\">           </span>         <span style=\"color: #800080; text-decoration-color: #800080; font-weight: bold\">xamples/gcc/raytracer/</span><span style=\"color: #ff00ff; text-decoration-color: #ff00ff; font-weight: bold\">raytracer.cpp</span><span style=\"color: #008080; text-decoration-color: #008080; font-weight: bold\"> -O3 -falign-functions </span>   <span style=\"color: #7f7f7f; text-decoration-color: #7f7f7f\">            </span>\n",
       "<span style=\"color: #7fbfbf; text-decoration-color: #7fbfbf\">           </span>         <span style=\"color: #008080; text-decoration-color: #008080; font-weight: bold\">-falign-jumps -falign-labels   -fbranch-probabilities </span>       <span style=\"color: #7f7f7f; text-decoration-color: #7f7f7f\">            </span>\n",
       "<span style=\"color: #7fbfbf; text-decoration-color: #7fbfbf\">           </span>         <span style=\"color: #008080; text-decoration-color: #008080; font-weight: bold\">--param early-inlining-</span><span style=\"color: #808000; text-decoration-color: #808000; font-weight: bold\">insns</span><span style=\"color: #008080; text-decoration-color: #008080; font-weight: bold\">=</span><span style=\"color: #008080; text-decoration-color: #008080; font-weight: bold\">378</span><span style=\"color: #008080; text-decoration-color: #008080; font-weight: bold\"> --param </span>                    <span style=\"color: #7f7f7f; text-decoration-color: #7f7f7f\">            </span>\n",
       "<span style=\"color: #7fbfbf; text-decoration-color: #7fbfbf\">           </span>         <span style=\"color: #008080; text-decoration-color: #008080; font-weight: bold\">gcse-cost-distance-</span><span style=\"color: #808000; text-decoration-color: #808000; font-weight: bold\">ratio</span><span style=\"color: #008080; text-decoration-color: #008080; font-weight: bold\">=</span><span style=\"color: #008080; text-decoration-color: #008080; font-weight: bold\">76</span><span style=\"color: #008080; text-decoration-color: #008080; font-weight: bold\"> --param </span>                         <span style=\"color: #7f7f7f; text-decoration-color: #7f7f7f\">            </span>\n",
       "<span style=\"color: #7fbfbf; text-decoration-color: #7fbfbf\">           </span>         <span style=\"color: #008080; text-decoration-color: #008080; font-weight: bold\">iv-max-considered-</span><span style=\"color: #808000; text-decoration-color: #808000; font-weight: bold\">uses</span><span style=\"color: #008080; text-decoration-color: #008080; font-weight: bold\">=</span><span style=\"color: #008080; text-decoration-color: #008080; font-weight: bold\">81</span><span style=\"color: #008080; text-decoration-color: #008080; font-weight: bold\"> </span><span style=\"color: #008080; text-decoration-color: #008080; font-weight: bold\">2</span><span style=\"color: #008080; text-decoration-color: #008080; font-weight: bold\">&gt;&amp;</span><span style=\"color: #008080; text-decoration-color: #008080; font-weight: bold\">1</span>                               <span style=\"color: #7f7f7f; text-decoration-color: #7f7f7f\">            </span>\n",
       "</pre>\n"
      ],
      "text/plain": [
       "\u001b[2;36m          \u001b[0m\u001b[2;36m \u001b[0m\u001b[32mDEBUG   \u001b[0m RUN COMMAND:                                                 \u001b[2mrunner.py\u001b[0m\u001b[2m:\u001b[0m\u001b[2m79\u001b[0m\n",
       "\u001b[2;36m           \u001b[0m         \u001b[1;36mgtime -f \u001b[0m\u001b[32m'%e'\u001b[0m\u001b[1;36m g++\u001b[0m\u001b[1;36m-11\u001b[0m\u001b[1;36m -o \u001b[0m\u001b[1;35m/Users/qnbhd/Development/gimeltune/ex\u001b[0m \u001b[2m            \u001b[0m\n",
       "\u001b[2;36m           \u001b[0m         \u001b[1;35mamples/gcc/\u001b[0m\u001b[1;95md8fab0b686cbaa10cd81b9ed3fa45b571545852bd80750719\u001b[0m \u001b[2m            \u001b[0m\n",
       "\u001b[2;36m           \u001b[0m         \u001b[1;95m7bd793f05ff354898330.out\u001b[0m\u001b[1;36m \u001b[0m\u001b[1;35m/Users/qnbhd/Development/gimeltune/e\u001b[0m \u001b[2m            \u001b[0m\n",
       "\u001b[2;36m           \u001b[0m         \u001b[1;35mxamples/gcc/raytracer/\u001b[0m\u001b[1;95mraytracer.cpp\u001b[0m\u001b[1;36m -O3 -falign-functions \u001b[0m   \u001b[2m            \u001b[0m\n",
       "\u001b[2;36m           \u001b[0m         \u001b[1;36m-falign-jumps -falign-labels   -fbranch-probabilities \u001b[0m       \u001b[2m            \u001b[0m\n",
       "\u001b[2;36m           \u001b[0m         \u001b[1;36m--param early-inlining-\u001b[0m\u001b[1;33minsns\u001b[0m\u001b[1;36m=\u001b[0m\u001b[1;36m378\u001b[0m\u001b[1;36m --param \u001b[0m                    \u001b[2m            \u001b[0m\n",
       "\u001b[2;36m           \u001b[0m         \u001b[1;36mgcse-cost-distance-\u001b[0m\u001b[1;33mratio\u001b[0m\u001b[1;36m=\u001b[0m\u001b[1;36m76\u001b[0m\u001b[1;36m --param \u001b[0m                         \u001b[2m            \u001b[0m\n",
       "\u001b[2;36m           \u001b[0m         \u001b[1;36miv-max-considered-\u001b[0m\u001b[1;33muses\u001b[0m\u001b[1;36m=\u001b[0m\u001b[1;36m81\u001b[0m\u001b[1;36m \u001b[0m\u001b[1;36m2\u001b[0m\u001b[1;36m>&\u001b[0m\u001b[1;36m1\u001b[0m                               \u001b[2m            \u001b[0m\n"
      ]
     },
     "metadata": {},
     "output_type": "display_data"
    },
    {
     "data": {
      "text/html": [
       "<pre style=\"white-space:pre;overflow-x:auto;line-height:normal;font-family:Menlo,'DejaVu Sans Mono',consolas,'Courier New',monospace\"><span style=\"color: #7fbfbf; text-decoration-color: #7fbfbf\">[11:17:14] </span><span style=\"color: #000080; text-decoration-color: #000080\">INFO    </span> <span style=\"color: #808000; text-decoration-color: #808000; font-weight: bold\">OUT: </span><span style=\"color: #800080; text-decoration-color: #800080; font-weight: bold\">/Users/qnbhd/Development/gimeltune/examples/gcc/raytrace</span> <span style=\"color: #7f7f7f; text-decoration-color: #7f7f7f\">runner.py:85</span>\n",
       "<span style=\"color: #7fbfbf; text-decoration-color: #7fbfbf\">           </span>         <span style=\"color: #800080; text-decoration-color: #800080; font-weight: bold\">r/</span><span style=\"color: #ff00ff; text-decoration-color: #ff00ff; font-weight: bold\">raytracer.cpp</span><span style=\"color: #808000; text-decoration-color: #808000; font-weight: bold\">: In function </span><span style=\"color: #008000; text-decoration-color: #008000\">'(static initializers for /User</span> <span style=\"color: #7f7f7f; text-decoration-color: #7f7f7f\">            </span>\n",
       "<span style=\"color: #7fbfbf; text-decoration-color: #7fbfbf\">           </span>         <span style=\"color: #008000; text-decoration-color: #008000\">s/qnbhd/Development/gimeltune/examples/gcc/raytracer/raytrace</span> <span style=\"color: #7f7f7f; text-decoration-color: #7f7f7f\">            </span>\n",
       "<span style=\"color: #7fbfbf; text-decoration-color: #7fbfbf\">           </span>         <span style=\"color: #008000; text-decoration-color: #008000\">r.cpp)'</span><span style=\"color: #808000; text-decoration-color: #808000; font-weight: bold\">:</span>                                                     <span style=\"color: #7f7f7f; text-decoration-color: #7f7f7f\">            </span>\n",
       "<span style=\"color: #7fbfbf; text-decoration-color: #7fbfbf\">           </span>         <span style=\"color: #800080; text-decoration-color: #800080; font-weight: bold\">/Users/qnbhd/Development/gimeltune/examples/gcc/raytracer/</span><span style=\"color: #ff00ff; text-decoration-color: #ff00ff; font-weight: bold\">ray</span> <span style=\"color: #7f7f7f; text-decoration-color: #7f7f7f\">            </span>\n",
       "<span style=\"color: #7fbfbf; text-decoration-color: #7fbfbf\">           </span>         <span style=\"color: #ff00ff; text-decoration-color: #ff00ff; font-weight: bold\">tracer.cpp</span><span style=\"color: #808000; text-decoration-color: #808000; font-weight: bold\">:</span><span style=\"color: #00ff00; text-decoration-color: #00ff00; font-weight: bold\">277:1</span><span style=\"color: #808000; text-decoration-color: #808000; font-weight: bold\">: warning: </span><span style=\"color: #008000; text-decoration-color: #008000\">'/Users/qnbhd/Development/polytun</span> <span style=\"color: #7f7f7f; text-decoration-color: #7f7f7f\">            </span>\n",
       "<span style=\"color: #7fbfbf; text-decoration-color: #7fbfbf\">           </span>         <span style=\"color: #008000; text-decoration-color: #008000\">e/examples/gcc/d8fab0b686cbaa10cd81b9ed3fa45b571545852bd8075</span> <span style=\"color: #7f7f7f; text-decoration-color: #7f7f7f\">            </span>\n",
       "<span style=\"color: #7fbfbf; text-decoration-color: #7fbfbf\">           </span>         <span style=\"color: #008000; text-decoration-color: #008000\">07197bd793f05ff354898330.out-raytracer.gcda'</span><span style=\"color: #808000; text-decoration-color: #808000; font-weight: bold\"> profile count </span>  <span style=\"color: #7f7f7f; text-decoration-color: #7f7f7f\">            </span>\n",
       "<span style=\"color: #7fbfbf; text-decoration-color: #7fbfbf\">           </span>         <span style=\"color: #808000; text-decoration-color: #808000; font-weight: bold\">data file not found [-Wmissing-profile]</span>                      <span style=\"color: #7f7f7f; text-decoration-color: #7f7f7f\">            </span>\n",
       "<span style=\"color: #7fbfbf; text-decoration-color: #7fbfbf\">           </span>         <span style=\"color: #808000; text-decoration-color: #808000; font-weight: bold\">  </span><span style=\"color: #008080; text-decoration-color: #008080; font-weight: bold\">277</span><span style=\"color: #808000; text-decoration-color: #808000; font-weight: bold\"> | }</span>                                                    <span style=\"color: #7f7f7f; text-decoration-color: #7f7f7f\">            </span>\n",
       "<span style=\"color: #7fbfbf; text-decoration-color: #7fbfbf\">           </span>         <span style=\"color: #808000; text-decoration-color: #808000; font-weight: bold\">      | ^</span>                                                    <span style=\"color: #7f7f7f; text-decoration-color: #7f7f7f\">            </span>\n",
       "<span style=\"color: #7fbfbf; text-decoration-color: #7fbfbf\">           </span>         <span style=\"color: #008080; text-decoration-color: #008080; font-weight: bold\">0.92</span>                                                         <span style=\"color: #7f7f7f; text-decoration-color: #7f7f7f\">            </span>\n",
       "</pre>\n"
      ],
      "text/plain": [
       "\u001b[2;36m[11:17:14]\u001b[0m\u001b[2;36m \u001b[0m\u001b[34mINFO    \u001b[0m \u001b[1;33mOUT: \u001b[0m\u001b[1;35m/Users/qnbhd/Development/gimeltune/examples/gcc/raytrace\u001b[0m \u001b[2mrunner.py\u001b[0m\u001b[2m:\u001b[0m\u001b[2m85\u001b[0m\n",
       "\u001b[2;36m           \u001b[0m         \u001b[1;35mr/\u001b[0m\u001b[1;95mraytracer.cpp\u001b[0m\u001b[1;33m: In function \u001b[0m\u001b[32m'\u001b[0m\u001b[32m(\u001b[0m\u001b[32mstatic initializers for /User\u001b[0m \u001b[2m            \u001b[0m\n",
       "\u001b[2;36m           \u001b[0m         \u001b[32ms/qnbhd/Development/gimeltune/examples/gcc/raytracer/raytrace\u001b[0m \u001b[2m            \u001b[0m\n",
       "\u001b[2;36m           \u001b[0m         \u001b[32mr.cpp\u001b[0m\u001b[32m)\u001b[0m\u001b[32m'\u001b[0m\u001b[1;33m:\u001b[0m                                                     \u001b[2m            \u001b[0m\n",
       "\u001b[2;36m           \u001b[0m         \u001b[1;35m/Users/qnbhd/Development/gimeltune/examples/gcc/raytracer/\u001b[0m\u001b[1;95mray\u001b[0m \u001b[2m            \u001b[0m\n",
       "\u001b[2;36m           \u001b[0m         \u001b[1;95mtracer.cpp\u001b[0m\u001b[1;33m:\u001b[0m\u001b[1;92m277:1\u001b[0m\u001b[1;33m: warning: \u001b[0m\u001b[32m'/Users/qnbhd/Development/polytun\u001b[0m \u001b[2m            \u001b[0m\n",
       "\u001b[2;36m           \u001b[0m         \u001b[32me/examples/gcc/d8fab0b686cbaa10cd81b9ed3fa45b571545852bd8075\u001b[0m \u001b[2m            \u001b[0m\n",
       "\u001b[2;36m           \u001b[0m         \u001b[32m07197bd793f05ff354898330.out-raytracer.gcda'\u001b[0m\u001b[1;33m profile count \u001b[0m  \u001b[2m            \u001b[0m\n",
       "\u001b[2;36m           \u001b[0m         \u001b[1;33mdata file not found \u001b[0m\u001b[1;33m[\u001b[0m\u001b[1;33m-Wmissing-profile\u001b[0m\u001b[1;33m]\u001b[0m                      \u001b[2m            \u001b[0m\n",
       "\u001b[2;36m           \u001b[0m         \u001b[1;33m  \u001b[0m\u001b[1;36m277\u001b[0m\u001b[1;33m | \u001b[0m\u001b[1;33m}\u001b[0m                                                    \u001b[2m            \u001b[0m\n",
       "\u001b[2;36m           \u001b[0m         \u001b[1;33m      | ^\u001b[0m                                                    \u001b[2m            \u001b[0m\n",
       "\u001b[2;36m           \u001b[0m         \u001b[1;36m0.92\u001b[0m                                                         \u001b[2m            \u001b[0m\n"
      ]
     },
     "metadata": {},
     "output_type": "display_data"
    },
    {
     "name": "stdout",
     "output_type": "stream",
     "text": [
      "COMPILE could not convert string to float: \"/Users/qnbhd/Development/gimeltune/examples/gcc/raytracer/raytracer.cpp: In function '(static initializers for /Users/qnbhd/Development/gimeltune/examples/gcc/raytracer/raytracer.cpp)':\\n/Users/qnbhd/Development/gimeltune/examples/gcc/raytracer/raytracer.cpp:277:1: warning: '/Users/qnbhd/Development/gimeltune/examples/gcc/d8fab0b686cbaa10cd81b9ed3fa45b571545852bd807507197bd793f05ff354898330.out-raytracer.gcda' profile count data file not found [-Wmissing-profile]\\n  277 | }\\n      | ^\\n0.92\"\n"
     ]
    },
    {
     "data": {
      "text/html": [
       "<pre style=\"white-space:pre;overflow-x:auto;line-height:normal;font-family:Menlo,'DejaVu Sans Mono',consolas,'Courier New',monospace\"><span style=\"color: #7fbfbf; text-decoration-color: #7fbfbf\">           </span><span style=\"color: #000080; text-decoration-color: #000080\">INFO    </span> Trying experiment: <span style=\"color: #800080; text-decoration-color: #800080; font-weight: bold\">Experiment</span><span style=\"font-weight: bold\">({</span>                             <span style=\"color: #7f7f7f; text-decoration-color: #7f7f7f\">runner.py:156</span>\n",
       "<span style=\"color: #7fbfbf; text-decoration-color: #7fbfbf\">           </span>             <span style=\"color: #008000; text-decoration-color: #008000\">\"id\"</span>: <span style=\"color: #008080; text-decoration-color: #008080; font-weight: bold\">12</span>,                                               <span style=\"color: #7f7f7f; text-decoration-color: #7f7f7f\">             </span>\n",
       "<span style=\"color: #7fbfbf; text-decoration-color: #7fbfbf\">           </span>             <span style=\"color: #008000; text-decoration-color: #008000\">\"job_id\"</span>: <span style=\"color: #008080; text-decoration-color: #008080; font-weight: bold\">1</span>,                                            <span style=\"color: #7f7f7f; text-decoration-color: #7f7f7f\">             </span>\n",
       "<span style=\"color: #7fbfbf; text-decoration-color: #7fbfbf\">           </span>             <span style=\"color: #008000; text-decoration-color: #008000\">\"state\"</span>: <span style=\"color: #008000; text-decoration-color: #008000\">\"WIP\"</span>,                                         <span style=\"color: #7f7f7f; text-decoration-color: #7f7f7f\">             </span>\n",
       "<span style=\"color: #7fbfbf; text-decoration-color: #7fbfbf\">           </span>             <span style=\"color: #008000; text-decoration-color: #008000\">\"hash\"</span>: null,                                           <span style=\"color: #7f7f7f; text-decoration-color: #7f7f7f\">             </span>\n",
       "<span style=\"color: #7fbfbf; text-decoration-color: #7fbfbf\">           </span>             <span style=\"color: #008000; text-decoration-color: #008000\">\"objective_result\"</span>: null,                               <span style=\"color: #7f7f7f; text-decoration-color: #7f7f7f\">             </span>\n",
       "<span style=\"color: #7fbfbf; text-decoration-color: #7fbfbf\">           </span>             <span style=\"color: #008000; text-decoration-color: #008000\">\"params\"</span>: <span style=\"font-weight: bold\">{</span>                                             <span style=\"color: #7f7f7f; text-decoration-color: #7f7f7f\">             </span>\n",
       "<span style=\"color: #7fbfbf; text-decoration-color: #7fbfbf\">           </span>                 <span style=\"color: #008000; text-decoration-color: #008000\">\"-O\"</span>: <span style=\"color: #008000; text-decoration-color: #008000\">\"-O3\"</span>,                                        <span style=\"color: #7f7f7f; text-decoration-color: #7f7f7f\">             </span>\n",
       "<span style=\"color: #7fbfbf; text-decoration-color: #7fbfbf\">           </span>                 <span style=\"color: #008000; text-decoration-color: #008000\">\"align-functions\"</span>: <span style=\"color: #008000; text-decoration-color: #008000\">\"-falign-functions\"</span>,             <span style=\"color: #7f7f7f; text-decoration-color: #7f7f7f\">             </span>\n",
       "<span style=\"color: #7fbfbf; text-decoration-color: #7fbfbf\">           </span>                 <span style=\"color: #008000; text-decoration-color: #008000\">\"align-jumps\"</span>: <span style=\"color: #008000; text-decoration-color: #008000\">\"-falign-jumps\"</span>,                     <span style=\"color: #7f7f7f; text-decoration-color: #7f7f7f\">             </span>\n",
       "<span style=\"color: #7fbfbf; text-decoration-color: #7fbfbf\">           </span>                 <span style=\"color: #008000; text-decoration-color: #008000\">\"align-labels\"</span>: <span style=\"color: #008000; text-decoration-color: #008000\">\"-falign-labels\"</span>,                   <span style=\"color: #7f7f7f; text-decoration-color: #7f7f7f\">             </span>\n",
       "<span style=\"color: #7fbfbf; text-decoration-color: #7fbfbf\">           </span>                 <span style=\"color: #008000; text-decoration-color: #008000\">\"asynchronous-unwind-tables\"</span>: null,                 <span style=\"color: #7f7f7f; text-decoration-color: #7f7f7f\">             </span>\n",
       "<span style=\"color: #7fbfbf; text-decoration-color: #7fbfbf\">           </span>                 <span style=\"color: #008000; text-decoration-color: #008000\">\"branch-count-reg\"</span>: null,                           <span style=\"color: #7f7f7f; text-decoration-color: #7f7f7f\">             </span>\n",
       "<span style=\"color: #7fbfbf; text-decoration-color: #7fbfbf\">           </span>                 <span style=\"color: #008000; text-decoration-color: #008000\">\"branch-probabilities\"</span>: <span style=\"color: #008000; text-decoration-color: #008000\">\"-fbranch-probabilities\"</span>,   <span style=\"color: #7f7f7f; text-decoration-color: #7f7f7f\">             </span>\n",
       "<span style=\"color: #7fbfbf; text-decoration-color: #7fbfbf\">           </span>                 <span style=\"color: #008000; text-decoration-color: #008000\">\"early-inlining-insns\"</span>: <span style=\"color: #008080; text-decoration-color: #008080; font-weight: bold\">378</span>,                        <span style=\"color: #7f7f7f; text-decoration-color: #7f7f7f\">             </span>\n",
       "<span style=\"color: #7fbfbf; text-decoration-color: #7fbfbf\">           </span>                 <span style=\"color: #008000; text-decoration-color: #008000\">\"gcse-cost-distance-ratio\"</span>: <span style=\"color: #008080; text-decoration-color: #008080; font-weight: bold\">76</span>,                     <span style=\"color: #7f7f7f; text-decoration-color: #7f7f7f\">             </span>\n",
       "<span style=\"color: #7fbfbf; text-decoration-color: #7fbfbf\">           </span>                 <span style=\"color: #008000; text-decoration-color: #008000\">\"iv-max-considered-uses\"</span>: <span style=\"color: #008080; text-decoration-color: #008080; font-weight: bold\">81</span>                        <span style=\"color: #7f7f7f; text-decoration-color: #7f7f7f\">             </span>\n",
       "<span style=\"color: #7fbfbf; text-decoration-color: #7fbfbf\">           </span>             <span style=\"font-weight: bold\">}</span>,                                                      <span style=\"color: #7f7f7f; text-decoration-color: #7f7f7f\">             </span>\n",
       "<span style=\"color: #7fbfbf; text-decoration-color: #7fbfbf\">           </span>             <span style=\"color: #008000; text-decoration-color: #008000\">\"requestor\"</span>: <span style=\"color: #008000; text-decoration-color: #008000\">\"SkoptBayesianAlgorithm\"</span>,                  <span style=\"color: #7f7f7f; text-decoration-color: #7f7f7f\">             </span>\n",
       "<span style=\"color: #7fbfbf; text-decoration-color: #7fbfbf\">           </span>             <span style=\"color: #008000; text-decoration-color: #008000\">\"create_timestamp\"</span>: <span style=\"color: #008080; text-decoration-color: #008080; font-weight: bold\">1645690633.369013</span>,                  <span style=\"color: #7f7f7f; text-decoration-color: #7f7f7f\">             </span>\n",
       "<span style=\"color: #7fbfbf; text-decoration-color: #7fbfbf\">           </span>             <span style=\"color: #008000; text-decoration-color: #008000\">\"finish_timestamp\"</span>: null                                <span style=\"color: #7f7f7f; text-decoration-color: #7f7f7f\">             </span>\n",
       "<span style=\"color: #7fbfbf; text-decoration-color: #7fbfbf\">           </span>         <span style=\"font-weight: bold\">})</span>                                                          <span style=\"color: #7f7f7f; text-decoration-color: #7f7f7f\">             </span>\n",
       "</pre>\n"
      ],
      "text/plain": [
       "\u001b[2;36m          \u001b[0m\u001b[2;36m \u001b[0m\u001b[34mINFO    \u001b[0m Trying experiment: \u001b[1;35mExperiment\u001b[0m\u001b[1m(\u001b[0m\u001b[1m{\u001b[0m                             \u001b[2mrunner.py\u001b[0m\u001b[2m:\u001b[0m\u001b[2m156\u001b[0m\n",
       "\u001b[2;36m           \u001b[0m             \u001b[32m\"id\"\u001b[0m: \u001b[1;36m12\u001b[0m,                                               \u001b[2m             \u001b[0m\n",
       "\u001b[2;36m           \u001b[0m             \u001b[32m\"job_id\"\u001b[0m: \u001b[1;36m1\u001b[0m,                                            \u001b[2m             \u001b[0m\n",
       "\u001b[2;36m           \u001b[0m             \u001b[32m\"state\"\u001b[0m: \u001b[32m\"WIP\"\u001b[0m,                                         \u001b[2m             \u001b[0m\n",
       "\u001b[2;36m           \u001b[0m             \u001b[32m\"hash\"\u001b[0m: null,                                           \u001b[2m             \u001b[0m\n",
       "\u001b[2;36m           \u001b[0m             \u001b[32m\"objective_result\"\u001b[0m: null,                               \u001b[2m             \u001b[0m\n",
       "\u001b[2;36m           \u001b[0m             \u001b[32m\"params\"\u001b[0m: \u001b[1m{\u001b[0m                                             \u001b[2m             \u001b[0m\n",
       "\u001b[2;36m           \u001b[0m                 \u001b[32m\"-O\"\u001b[0m: \u001b[32m\"-O3\"\u001b[0m,                                        \u001b[2m             \u001b[0m\n",
       "\u001b[2;36m           \u001b[0m                 \u001b[32m\"align-functions\"\u001b[0m: \u001b[32m\"-falign-functions\"\u001b[0m,             \u001b[2m             \u001b[0m\n",
       "\u001b[2;36m           \u001b[0m                 \u001b[32m\"align-jumps\"\u001b[0m: \u001b[32m\"-falign-jumps\"\u001b[0m,                     \u001b[2m             \u001b[0m\n",
       "\u001b[2;36m           \u001b[0m                 \u001b[32m\"align-labels\"\u001b[0m: \u001b[32m\"-falign-labels\"\u001b[0m,                   \u001b[2m             \u001b[0m\n",
       "\u001b[2;36m           \u001b[0m                 \u001b[32m\"asynchronous-unwind-tables\"\u001b[0m: null,                 \u001b[2m             \u001b[0m\n",
       "\u001b[2;36m           \u001b[0m                 \u001b[32m\"branch-count-reg\"\u001b[0m: null,                           \u001b[2m             \u001b[0m\n",
       "\u001b[2;36m           \u001b[0m                 \u001b[32m\"branch-probabilities\"\u001b[0m: \u001b[32m\"-fbranch-probabilities\"\u001b[0m,   \u001b[2m             \u001b[0m\n",
       "\u001b[2;36m           \u001b[0m                 \u001b[32m\"early-inlining-insns\"\u001b[0m: \u001b[1;36m378\u001b[0m,                        \u001b[2m             \u001b[0m\n",
       "\u001b[2;36m           \u001b[0m                 \u001b[32m\"gcse-cost-distance-ratio\"\u001b[0m: \u001b[1;36m76\u001b[0m,                     \u001b[2m             \u001b[0m\n",
       "\u001b[2;36m           \u001b[0m                 \u001b[32m\"iv-max-considered-uses\"\u001b[0m: \u001b[1;36m81\u001b[0m                        \u001b[2m             \u001b[0m\n",
       "\u001b[2;36m           \u001b[0m             \u001b[1m}\u001b[0m,                                                      \u001b[2m             \u001b[0m\n",
       "\u001b[2;36m           \u001b[0m             \u001b[32m\"requestor\"\u001b[0m: \u001b[32m\"SkoptBayesianAlgorithm\"\u001b[0m,                  \u001b[2m             \u001b[0m\n",
       "\u001b[2;36m           \u001b[0m             \u001b[32m\"create_timestamp\"\u001b[0m: \u001b[1;36m1645690633.369013\u001b[0m,                  \u001b[2m             \u001b[0m\n",
       "\u001b[2;36m           \u001b[0m             \u001b[32m\"finish_timestamp\"\u001b[0m: null                                \u001b[2m             \u001b[0m\n",
       "\u001b[2;36m           \u001b[0m         \u001b[1m}\u001b[0m\u001b[1m)\u001b[0m                                                          \u001b[2m             \u001b[0m\n"
      ]
     },
     "metadata": {},
     "output_type": "display_data"
    },
    {
     "data": {
      "text/html": [
       "<pre style=\"white-space:pre;overflow-x:auto;line-height:normal;font-family:Menlo,'DejaVu Sans Mono',consolas,'Courier New',monospace\"><span style=\"color: #7fbfbf; text-decoration-color: #7fbfbf\">           </span><span style=\"color: #008000; text-decoration-color: #008000\">DEBUG   </span> RUN COMMAND:                                                 <span style=\"color: #7f7f7f; text-decoration-color: #7f7f7f\">runner.py:79</span>\n",
       "<span style=\"color: #7fbfbf; text-decoration-color: #7fbfbf\">           </span>         <span style=\"color: #008080; text-decoration-color: #008080; font-weight: bold\">gtime -f </span><span style=\"color: #008000; text-decoration-color: #008000\">'%e'</span><span style=\"color: #008080; text-decoration-color: #008080; font-weight: bold\"> g++</span><span style=\"color: #008080; text-decoration-color: #008080; font-weight: bold\">-11</span><span style=\"color: #008080; text-decoration-color: #008080; font-weight: bold\"> -o </span><span style=\"color: #800080; text-decoration-color: #800080; font-weight: bold\">/Users/qnbhd/Development/gimeltune/ex</span> <span style=\"color: #7f7f7f; text-decoration-color: #7f7f7f\">            </span>\n",
       "<span style=\"color: #7fbfbf; text-decoration-color: #7fbfbf\">           </span>         <span style=\"color: #800080; text-decoration-color: #800080; font-weight: bold\">amples/gcc/</span><span style=\"color: #ff00ff; text-decoration-color: #ff00ff; font-weight: bold\">369bd4d6685d9ad1e6a6ac4b51198abe70db031b090679b76</span> <span style=\"color: #7f7f7f; text-decoration-color: #7f7f7f\">            </span>\n",
       "<span style=\"color: #7fbfbf; text-decoration-color: #7fbfbf\">           </span>         <span style=\"color: #ff00ff; text-decoration-color: #ff00ff; font-weight: bold\">f7eac5fb639776045952.out</span><span style=\"color: #008080; text-decoration-color: #008080; font-weight: bold\"> </span><span style=\"color: #800080; text-decoration-color: #800080; font-weight: bold\">/Users/qnbhd/Development/gimeltune/e</span> <span style=\"color: #7f7f7f; text-decoration-color: #7f7f7f\">            </span>\n",
       "<span style=\"color: #7fbfbf; text-decoration-color: #7fbfbf\">           </span>         <span style=\"color: #800080; text-decoration-color: #800080; font-weight: bold\">xamples/gcc/raytracer/</span><span style=\"color: #ff00ff; text-decoration-color: #ff00ff; font-weight: bold\">raytracer.cpp</span><span style=\"color: #008080; text-decoration-color: #008080; font-weight: bold\"> -O3 -falign-functions </span>   <span style=\"color: #7f7f7f; text-decoration-color: #7f7f7f\">            </span>\n",
       "<span style=\"color: #7fbfbf; text-decoration-color: #7fbfbf\">           </span>         <span style=\"color: #008080; text-decoration-color: #008080; font-weight: bold\">-falign-jumps -falign-labels   -fbranch-probabilities </span>       <span style=\"color: #7f7f7f; text-decoration-color: #7f7f7f\">            </span>\n",
       "<span style=\"color: #7fbfbf; text-decoration-color: #7fbfbf\">           </span>         <span style=\"color: #008080; text-decoration-color: #008080; font-weight: bold\">--param early-inlining-</span><span style=\"color: #808000; text-decoration-color: #808000; font-weight: bold\">insns</span><span style=\"color: #008080; text-decoration-color: #008080; font-weight: bold\">=</span><span style=\"color: #008080; text-decoration-color: #008080; font-weight: bold\">378</span><span style=\"color: #008080; text-decoration-color: #008080; font-weight: bold\"> --param </span>                    <span style=\"color: #7f7f7f; text-decoration-color: #7f7f7f\">            </span>\n",
       "<span style=\"color: #7fbfbf; text-decoration-color: #7fbfbf\">           </span>         <span style=\"color: #008080; text-decoration-color: #008080; font-weight: bold\">gcse-cost-distance-</span><span style=\"color: #808000; text-decoration-color: #808000; font-weight: bold\">ratio</span><span style=\"color: #008080; text-decoration-color: #008080; font-weight: bold\">=</span><span style=\"color: #008080; text-decoration-color: #008080; font-weight: bold\">76</span><span style=\"color: #008080; text-decoration-color: #008080; font-weight: bold\"> --param </span>                         <span style=\"color: #7f7f7f; text-decoration-color: #7f7f7f\">            </span>\n",
       "<span style=\"color: #7fbfbf; text-decoration-color: #7fbfbf\">           </span>         <span style=\"color: #008080; text-decoration-color: #008080; font-weight: bold\">iv-max-considered-</span><span style=\"color: #808000; text-decoration-color: #808000; font-weight: bold\">uses</span><span style=\"color: #008080; text-decoration-color: #008080; font-weight: bold\">=</span><span style=\"color: #008080; text-decoration-color: #008080; font-weight: bold\">81</span><span style=\"color: #008080; text-decoration-color: #008080; font-weight: bold\"> </span><span style=\"color: #008080; text-decoration-color: #008080; font-weight: bold\">2</span><span style=\"color: #008080; text-decoration-color: #008080; font-weight: bold\">&gt;&amp;</span><span style=\"color: #008080; text-decoration-color: #008080; font-weight: bold\">1</span>                               <span style=\"color: #7f7f7f; text-decoration-color: #7f7f7f\">            </span>\n",
       "</pre>\n"
      ],
      "text/plain": [
       "\u001b[2;36m          \u001b[0m\u001b[2;36m \u001b[0m\u001b[32mDEBUG   \u001b[0m RUN COMMAND:                                                 \u001b[2mrunner.py\u001b[0m\u001b[2m:\u001b[0m\u001b[2m79\u001b[0m\n",
       "\u001b[2;36m           \u001b[0m         \u001b[1;36mgtime -f \u001b[0m\u001b[32m'%e'\u001b[0m\u001b[1;36m g++\u001b[0m\u001b[1;36m-11\u001b[0m\u001b[1;36m -o \u001b[0m\u001b[1;35m/Users/qnbhd/Development/gimeltune/ex\u001b[0m \u001b[2m            \u001b[0m\n",
       "\u001b[2;36m           \u001b[0m         \u001b[1;35mamples/gcc/\u001b[0m\u001b[1;95m369bd4d6685d9ad1e6a6ac4b51198abe70db031b090679b76\u001b[0m \u001b[2m            \u001b[0m\n",
       "\u001b[2;36m           \u001b[0m         \u001b[1;95mf7eac5fb639776045952.out\u001b[0m\u001b[1;36m \u001b[0m\u001b[1;35m/Users/qnbhd/Development/gimeltune/e\u001b[0m \u001b[2m            \u001b[0m\n",
       "\u001b[2;36m           \u001b[0m         \u001b[1;35mxamples/gcc/raytracer/\u001b[0m\u001b[1;95mraytracer.cpp\u001b[0m\u001b[1;36m -O3 -falign-functions \u001b[0m   \u001b[2m            \u001b[0m\n",
       "\u001b[2;36m           \u001b[0m         \u001b[1;36m-falign-jumps -falign-labels   -fbranch-probabilities \u001b[0m       \u001b[2m            \u001b[0m\n",
       "\u001b[2;36m           \u001b[0m         \u001b[1;36m--param early-inlining-\u001b[0m\u001b[1;33minsns\u001b[0m\u001b[1;36m=\u001b[0m\u001b[1;36m378\u001b[0m\u001b[1;36m --param \u001b[0m                    \u001b[2m            \u001b[0m\n",
       "\u001b[2;36m           \u001b[0m         \u001b[1;36mgcse-cost-distance-\u001b[0m\u001b[1;33mratio\u001b[0m\u001b[1;36m=\u001b[0m\u001b[1;36m76\u001b[0m\u001b[1;36m --param \u001b[0m                         \u001b[2m            \u001b[0m\n",
       "\u001b[2;36m           \u001b[0m         \u001b[1;36miv-max-considered-\u001b[0m\u001b[1;33muses\u001b[0m\u001b[1;36m=\u001b[0m\u001b[1;36m81\u001b[0m\u001b[1;36m \u001b[0m\u001b[1;36m2\u001b[0m\u001b[1;36m>&\u001b[0m\u001b[1;36m1\u001b[0m                               \u001b[2m            \u001b[0m\n"
      ]
     },
     "metadata": {},
     "output_type": "display_data"
    },
    {
     "data": {
      "text/html": [
       "<pre style=\"white-space:pre;overflow-x:auto;line-height:normal;font-family:Menlo,'DejaVu Sans Mono',consolas,'Courier New',monospace\"><span style=\"color: #7fbfbf; text-decoration-color: #7fbfbf\">[11:17:15] </span><span style=\"color: #000080; text-decoration-color: #000080\">INFO    </span> <span style=\"color: #808000; text-decoration-color: #808000; font-weight: bold\">OUT: </span><span style=\"color: #800080; text-decoration-color: #800080; font-weight: bold\">/Users/qnbhd/Development/gimeltune/examples/gcc/raytrace</span> <span style=\"color: #7f7f7f; text-decoration-color: #7f7f7f\">runner.py:85</span>\n",
       "<span style=\"color: #7fbfbf; text-decoration-color: #7fbfbf\">           </span>         <span style=\"color: #800080; text-decoration-color: #800080; font-weight: bold\">r/</span><span style=\"color: #ff00ff; text-decoration-color: #ff00ff; font-weight: bold\">raytracer.cpp</span><span style=\"color: #808000; text-decoration-color: #808000; font-weight: bold\">: In function </span><span style=\"color: #008000; text-decoration-color: #008000\">'(static initializers for /User</span> <span style=\"color: #7f7f7f; text-decoration-color: #7f7f7f\">            </span>\n",
       "<span style=\"color: #7fbfbf; text-decoration-color: #7fbfbf\">           </span>         <span style=\"color: #008000; text-decoration-color: #008000\">s/qnbhd/Development/gimeltune/examples/gcc/raytracer/raytrace</span> <span style=\"color: #7f7f7f; text-decoration-color: #7f7f7f\">            </span>\n",
       "<span style=\"color: #7fbfbf; text-decoration-color: #7fbfbf\">           </span>         <span style=\"color: #008000; text-decoration-color: #008000\">r.cpp)'</span><span style=\"color: #808000; text-decoration-color: #808000; font-weight: bold\">:</span>                                                     <span style=\"color: #7f7f7f; text-decoration-color: #7f7f7f\">            </span>\n",
       "<span style=\"color: #7fbfbf; text-decoration-color: #7fbfbf\">           </span>         <span style=\"color: #800080; text-decoration-color: #800080; font-weight: bold\">/Users/qnbhd/Development/gimeltune/examples/gcc/raytracer/</span><span style=\"color: #ff00ff; text-decoration-color: #ff00ff; font-weight: bold\">ray</span> <span style=\"color: #7f7f7f; text-decoration-color: #7f7f7f\">            </span>\n",
       "<span style=\"color: #7fbfbf; text-decoration-color: #7fbfbf\">           </span>         <span style=\"color: #ff00ff; text-decoration-color: #ff00ff; font-weight: bold\">tracer.cpp</span><span style=\"color: #808000; text-decoration-color: #808000; font-weight: bold\">:</span><span style=\"color: #00ff00; text-decoration-color: #00ff00; font-weight: bold\">277:1</span><span style=\"color: #808000; text-decoration-color: #808000; font-weight: bold\">: warning: </span><span style=\"color: #008000; text-decoration-color: #008000\">'/Users/qnbhd/Development/polytun</span> <span style=\"color: #7f7f7f; text-decoration-color: #7f7f7f\">            </span>\n",
       "<span style=\"color: #7fbfbf; text-decoration-color: #7fbfbf\">           </span>         <span style=\"color: #008000; text-decoration-color: #008000\">e/examples/gcc/369bd4d6685d9ad1e6a6ac4b51198abe70db031b09067</span> <span style=\"color: #7f7f7f; text-decoration-color: #7f7f7f\">            </span>\n",
       "<span style=\"color: #7fbfbf; text-decoration-color: #7fbfbf\">           </span>         <span style=\"color: #008000; text-decoration-color: #008000\">9b76f7eac5fb639776045952.out-raytracer.gcda'</span><span style=\"color: #808000; text-decoration-color: #808000; font-weight: bold\"> profile count </span>  <span style=\"color: #7f7f7f; text-decoration-color: #7f7f7f\">            </span>\n",
       "<span style=\"color: #7fbfbf; text-decoration-color: #7fbfbf\">           </span>         <span style=\"color: #808000; text-decoration-color: #808000; font-weight: bold\">data file not found [-Wmissing-profile]</span>                      <span style=\"color: #7f7f7f; text-decoration-color: #7f7f7f\">            </span>\n",
       "<span style=\"color: #7fbfbf; text-decoration-color: #7fbfbf\">           </span>         <span style=\"color: #808000; text-decoration-color: #808000; font-weight: bold\">  </span><span style=\"color: #008080; text-decoration-color: #008080; font-weight: bold\">277</span><span style=\"color: #808000; text-decoration-color: #808000; font-weight: bold\"> | }</span>                                                    <span style=\"color: #7f7f7f; text-decoration-color: #7f7f7f\">            </span>\n",
       "<span style=\"color: #7fbfbf; text-decoration-color: #7fbfbf\">           </span>         <span style=\"color: #808000; text-decoration-color: #808000; font-weight: bold\">      | ^</span>                                                    <span style=\"color: #7f7f7f; text-decoration-color: #7f7f7f\">            </span>\n",
       "<span style=\"color: #7fbfbf; text-decoration-color: #7fbfbf\">           </span>         <span style=\"color: #008080; text-decoration-color: #008080; font-weight: bold\">0.92</span>                                                         <span style=\"color: #7f7f7f; text-decoration-color: #7f7f7f\">            </span>\n",
       "</pre>\n"
      ],
      "text/plain": [
       "\u001b[2;36m[11:17:15]\u001b[0m\u001b[2;36m \u001b[0m\u001b[34mINFO    \u001b[0m \u001b[1;33mOUT: \u001b[0m\u001b[1;35m/Users/qnbhd/Development/gimeltune/examples/gcc/raytrace\u001b[0m \u001b[2mrunner.py\u001b[0m\u001b[2m:\u001b[0m\u001b[2m85\u001b[0m\n",
       "\u001b[2;36m           \u001b[0m         \u001b[1;35mr/\u001b[0m\u001b[1;95mraytracer.cpp\u001b[0m\u001b[1;33m: In function \u001b[0m\u001b[32m'\u001b[0m\u001b[32m(\u001b[0m\u001b[32mstatic initializers for /User\u001b[0m \u001b[2m            \u001b[0m\n",
       "\u001b[2;36m           \u001b[0m         \u001b[32ms/qnbhd/Development/gimeltune/examples/gcc/raytracer/raytrace\u001b[0m \u001b[2m            \u001b[0m\n",
       "\u001b[2;36m           \u001b[0m         \u001b[32mr.cpp\u001b[0m\u001b[32m)\u001b[0m\u001b[32m'\u001b[0m\u001b[1;33m:\u001b[0m                                                     \u001b[2m            \u001b[0m\n",
       "\u001b[2;36m           \u001b[0m         \u001b[1;35m/Users/qnbhd/Development/gimeltune/examples/gcc/raytracer/\u001b[0m\u001b[1;95mray\u001b[0m \u001b[2m            \u001b[0m\n",
       "\u001b[2;36m           \u001b[0m         \u001b[1;95mtracer.cpp\u001b[0m\u001b[1;33m:\u001b[0m\u001b[1;92m277:1\u001b[0m\u001b[1;33m: warning: \u001b[0m\u001b[32m'/Users/qnbhd/Development/polytun\u001b[0m \u001b[2m            \u001b[0m\n",
       "\u001b[2;36m           \u001b[0m         \u001b[32me/examples/gcc/369bd4d6685d9ad1e6a6ac4b51198abe70db031b09067\u001b[0m \u001b[2m            \u001b[0m\n",
       "\u001b[2;36m           \u001b[0m         \u001b[32m9b76f7eac5fb639776045952.out-raytracer.gcda'\u001b[0m\u001b[1;33m profile count \u001b[0m  \u001b[2m            \u001b[0m\n",
       "\u001b[2;36m           \u001b[0m         \u001b[1;33mdata file not found \u001b[0m\u001b[1;33m[\u001b[0m\u001b[1;33m-Wmissing-profile\u001b[0m\u001b[1;33m]\u001b[0m                      \u001b[2m            \u001b[0m\n",
       "\u001b[2;36m           \u001b[0m         \u001b[1;33m  \u001b[0m\u001b[1;36m277\u001b[0m\u001b[1;33m | \u001b[0m\u001b[1;33m}\u001b[0m                                                    \u001b[2m            \u001b[0m\n",
       "\u001b[2;36m           \u001b[0m         \u001b[1;33m      | ^\u001b[0m                                                    \u001b[2m            \u001b[0m\n",
       "\u001b[2;36m           \u001b[0m         \u001b[1;36m0.92\u001b[0m                                                         \u001b[2m            \u001b[0m\n"
      ]
     },
     "metadata": {},
     "output_type": "display_data"
    },
    {
     "name": "stdout",
     "output_type": "stream",
     "text": [
      "COMPILE could not convert string to float: \"/Users/qnbhd/Development/gimeltune/examples/gcc/raytracer/raytracer.cpp: In function '(static initializers for /Users/qnbhd/Development/gimeltune/examples/gcc/raytracer/raytracer.cpp)':\\n/Users/qnbhd/Development/gimeltune/examples/gcc/raytracer/raytracer.cpp:277:1: warning: '/Users/qnbhd/Development/gimeltune/examples/gcc/369bd4d6685d9ad1e6a6ac4b51198abe70db031b090679b76f7eac5fb639776045952.out-raytracer.gcda' profile count data file not found [-Wmissing-profile]\\n  277 | }\\n      | ^\\n0.92\"\n"
     ]
    },
    {
     "data": {
      "text/html": [
       "<pre style=\"white-space:pre;overflow-x:auto;line-height:normal;font-family:Menlo,'DejaVu Sans Mono',consolas,'Courier New',monospace\"><span style=\"color: #7fbfbf; text-decoration-color: #7fbfbf\">           </span><span style=\"color: #000080; text-decoration-color: #000080\">INFO    </span> Experiments <span style=\"color: #800080; text-decoration-color: #800080; font-weight: bold\">Experiment</span><span style=\"font-weight: bold\">({</span>                                    <span style=\"color: #7f7f7f; text-decoration-color: #7f7f7f\">runner.py:174</span>\n",
       "<span style=\"color: #7fbfbf; text-decoration-color: #7fbfbf\">           </span>             <span style=\"color: #008000; text-decoration-color: #008000\">\"id\"</span>: <span style=\"color: #008080; text-decoration-color: #008080; font-weight: bold\">11</span>,                                               <span style=\"color: #7f7f7f; text-decoration-color: #7f7f7f\">             </span>\n",
       "<span style=\"color: #7fbfbf; text-decoration-color: #7fbfbf\">           </span>             <span style=\"color: #008000; text-decoration-color: #008000\">\"job_id\"</span>: <span style=\"color: #008080; text-decoration-color: #008080; font-weight: bold\">1</span>,                                            <span style=\"color: #7f7f7f; text-decoration-color: #7f7f7f\">             </span>\n",
       "<span style=\"color: #7fbfbf; text-decoration-color: #7fbfbf\">           </span>             <span style=\"color: #008000; text-decoration-color: #008000\">\"state\"</span>: <span style=\"color: #008000; text-decoration-color: #008000\">\"WIP\"</span>,                                         <span style=\"color: #7f7f7f; text-decoration-color: #7f7f7f\">             </span>\n",
       "<span style=\"color: #7fbfbf; text-decoration-color: #7fbfbf\">           </span>             <span style=\"color: #008000; text-decoration-color: #008000\">\"hash\"</span>: null,                                           <span style=\"color: #7f7f7f; text-decoration-color: #7f7f7f\">             </span>\n",
       "<span style=\"color: #7fbfbf; text-decoration-color: #7fbfbf\">           </span>             <span style=\"color: #008000; text-decoration-color: #008000\">\"objective_result\"</span>: <span style=\"color: #008080; text-decoration-color: #008080; font-weight: bold\">10000000000.0</span>,                      <span style=\"color: #7f7f7f; text-decoration-color: #7f7f7f\">             </span>\n",
       "<span style=\"color: #7fbfbf; text-decoration-color: #7fbfbf\">           </span>             <span style=\"color: #008000; text-decoration-color: #008000\">\"params\"</span>: <span style=\"font-weight: bold\">{</span>                                             <span style=\"color: #7f7f7f; text-decoration-color: #7f7f7f\">             </span>\n",
       "<span style=\"color: #7fbfbf; text-decoration-color: #7fbfbf\">           </span>                 <span style=\"color: #008000; text-decoration-color: #008000\">\"-O\"</span>: <span style=\"color: #008000; text-decoration-color: #008000\">\"-O3\"</span>,                                        <span style=\"color: #7f7f7f; text-decoration-color: #7f7f7f\">             </span>\n",
       "<span style=\"color: #7fbfbf; text-decoration-color: #7fbfbf\">           </span>                 <span style=\"color: #008000; text-decoration-color: #008000\">\"align-functions\"</span>: <span style=\"color: #008000; text-decoration-color: #008000\">\"-falign-functions\"</span>,             <span style=\"color: #7f7f7f; text-decoration-color: #7f7f7f\">             </span>\n",
       "<span style=\"color: #7fbfbf; text-decoration-color: #7fbfbf\">           </span>                 <span style=\"color: #008000; text-decoration-color: #008000\">\"align-jumps\"</span>: <span style=\"color: #008000; text-decoration-color: #008000\">\"-falign-jumps\"</span>,                     <span style=\"color: #7f7f7f; text-decoration-color: #7f7f7f\">             </span>\n",
       "<span style=\"color: #7fbfbf; text-decoration-color: #7fbfbf\">           </span>                 <span style=\"color: #008000; text-decoration-color: #008000\">\"align-labels\"</span>: <span style=\"color: #008000; text-decoration-color: #008000\">\"-falign-labels\"</span>,                   <span style=\"color: #7f7f7f; text-decoration-color: #7f7f7f\">             </span>\n",
       "<span style=\"color: #7fbfbf; text-decoration-color: #7fbfbf\">           </span>                 <span style=\"color: #008000; text-decoration-color: #008000\">\"asynchronous-unwind-tables\"</span>: null,                 <span style=\"color: #7f7f7f; text-decoration-color: #7f7f7f\">             </span>\n",
       "<span style=\"color: #7fbfbf; text-decoration-color: #7fbfbf\">           </span>                 <span style=\"color: #008000; text-decoration-color: #008000\">\"branch-count-reg\"</span>: null,                           <span style=\"color: #7f7f7f; text-decoration-color: #7f7f7f\">             </span>\n",
       "<span style=\"color: #7fbfbf; text-decoration-color: #7fbfbf\">           </span>                 <span style=\"color: #008000; text-decoration-color: #008000\">\"branch-probabilities\"</span>: <span style=\"color: #008000; text-decoration-color: #008000\">\"-fbranch-probabilities\"</span>,   <span style=\"color: #7f7f7f; text-decoration-color: #7f7f7f\">             </span>\n",
       "<span style=\"color: #7fbfbf; text-decoration-color: #7fbfbf\">           </span>                 <span style=\"color: #008000; text-decoration-color: #008000\">\"early-inlining-insns\"</span>: <span style=\"color: #008080; text-decoration-color: #008080; font-weight: bold\">378</span>,                        <span style=\"color: #7f7f7f; text-decoration-color: #7f7f7f\">             </span>\n",
       "<span style=\"color: #7fbfbf; text-decoration-color: #7fbfbf\">           </span>                 <span style=\"color: #008000; text-decoration-color: #008000\">\"gcse-cost-distance-ratio\"</span>: <span style=\"color: #008080; text-decoration-color: #008080; font-weight: bold\">76</span>,                     <span style=\"color: #7f7f7f; text-decoration-color: #7f7f7f\">             </span>\n",
       "<span style=\"color: #7fbfbf; text-decoration-color: #7fbfbf\">           </span>                 <span style=\"color: #008000; text-decoration-color: #008000\">\"iv-max-considered-uses\"</span>: <span style=\"color: #008080; text-decoration-color: #008080; font-weight: bold\">81</span>                        <span style=\"color: #7f7f7f; text-decoration-color: #7f7f7f\">             </span>\n",
       "<span style=\"color: #7fbfbf; text-decoration-color: #7fbfbf\">           </span>             <span style=\"font-weight: bold\">}</span>,                                                      <span style=\"color: #7f7f7f; text-decoration-color: #7f7f7f\">             </span>\n",
       "<span style=\"color: #7fbfbf; text-decoration-color: #7fbfbf\">           </span>             <span style=\"color: #008000; text-decoration-color: #008000\">\"requestor\"</span>: <span style=\"color: #008000; text-decoration-color: #008000\">\"SkoptBayesianAlgorithm\"</span>,                  <span style=\"color: #7f7f7f; text-decoration-color: #7f7f7f\">             </span>\n",
       "<span style=\"color: #7fbfbf; text-decoration-color: #7fbfbf\">           </span>             <span style=\"color: #008000; text-decoration-color: #008000\">\"create_timestamp\"</span>: <span style=\"color: #008080; text-decoration-color: #008080; font-weight: bold\">1645690633.368353</span>,                  <span style=\"color: #7f7f7f; text-decoration-color: #7f7f7f\">             </span>\n",
       "<span style=\"color: #7fbfbf; text-decoration-color: #7fbfbf\">           </span>             <span style=\"color: #008000; text-decoration-color: #008000\">\"finish_timestamp\"</span>: null                                <span style=\"color: #7f7f7f; text-decoration-color: #7f7f7f\">             </span>\n",
       "<span style=\"color: #7fbfbf; text-decoration-color: #7fbfbf\">           </span>         <span style=\"font-weight: bold\">})</span> has inf result.                                          <span style=\"color: #7f7f7f; text-decoration-color: #7f7f7f\">             </span>\n",
       "</pre>\n"
      ],
      "text/plain": [
       "\u001b[2;36m          \u001b[0m\u001b[2;36m \u001b[0m\u001b[34mINFO    \u001b[0m Experiments \u001b[1;35mExperiment\u001b[0m\u001b[1m(\u001b[0m\u001b[1m{\u001b[0m                                    \u001b[2mrunner.py\u001b[0m\u001b[2m:\u001b[0m\u001b[2m174\u001b[0m\n",
       "\u001b[2;36m           \u001b[0m             \u001b[32m\"id\"\u001b[0m: \u001b[1;36m11\u001b[0m,                                               \u001b[2m             \u001b[0m\n",
       "\u001b[2;36m           \u001b[0m             \u001b[32m\"job_id\"\u001b[0m: \u001b[1;36m1\u001b[0m,                                            \u001b[2m             \u001b[0m\n",
       "\u001b[2;36m           \u001b[0m             \u001b[32m\"state\"\u001b[0m: \u001b[32m\"WIP\"\u001b[0m,                                         \u001b[2m             \u001b[0m\n",
       "\u001b[2;36m           \u001b[0m             \u001b[32m\"hash\"\u001b[0m: null,                                           \u001b[2m             \u001b[0m\n",
       "\u001b[2;36m           \u001b[0m             \u001b[32m\"objective_result\"\u001b[0m: \u001b[1;36m10000000000.0\u001b[0m,                      \u001b[2m             \u001b[0m\n",
       "\u001b[2;36m           \u001b[0m             \u001b[32m\"params\"\u001b[0m: \u001b[1m{\u001b[0m                                             \u001b[2m             \u001b[0m\n",
       "\u001b[2;36m           \u001b[0m                 \u001b[32m\"-O\"\u001b[0m: \u001b[32m\"-O3\"\u001b[0m,                                        \u001b[2m             \u001b[0m\n",
       "\u001b[2;36m           \u001b[0m                 \u001b[32m\"align-functions\"\u001b[0m: \u001b[32m\"-falign-functions\"\u001b[0m,             \u001b[2m             \u001b[0m\n",
       "\u001b[2;36m           \u001b[0m                 \u001b[32m\"align-jumps\"\u001b[0m: \u001b[32m\"-falign-jumps\"\u001b[0m,                     \u001b[2m             \u001b[0m\n",
       "\u001b[2;36m           \u001b[0m                 \u001b[32m\"align-labels\"\u001b[0m: \u001b[32m\"-falign-labels\"\u001b[0m,                   \u001b[2m             \u001b[0m\n",
       "\u001b[2;36m           \u001b[0m                 \u001b[32m\"asynchronous-unwind-tables\"\u001b[0m: null,                 \u001b[2m             \u001b[0m\n",
       "\u001b[2;36m           \u001b[0m                 \u001b[32m\"branch-count-reg\"\u001b[0m: null,                           \u001b[2m             \u001b[0m\n",
       "\u001b[2;36m           \u001b[0m                 \u001b[32m\"branch-probabilities\"\u001b[0m: \u001b[32m\"-fbranch-probabilities\"\u001b[0m,   \u001b[2m             \u001b[0m\n",
       "\u001b[2;36m           \u001b[0m                 \u001b[32m\"early-inlining-insns\"\u001b[0m: \u001b[1;36m378\u001b[0m,                        \u001b[2m             \u001b[0m\n",
       "\u001b[2;36m           \u001b[0m                 \u001b[32m\"gcse-cost-distance-ratio\"\u001b[0m: \u001b[1;36m76\u001b[0m,                     \u001b[2m             \u001b[0m\n",
       "\u001b[2;36m           \u001b[0m                 \u001b[32m\"iv-max-considered-uses\"\u001b[0m: \u001b[1;36m81\u001b[0m                        \u001b[2m             \u001b[0m\n",
       "\u001b[2;36m           \u001b[0m             \u001b[1m}\u001b[0m,                                                      \u001b[2m             \u001b[0m\n",
       "\u001b[2;36m           \u001b[0m             \u001b[32m\"requestor\"\u001b[0m: \u001b[32m\"SkoptBayesianAlgorithm\"\u001b[0m,                  \u001b[2m             \u001b[0m\n",
       "\u001b[2;36m           \u001b[0m             \u001b[32m\"create_timestamp\"\u001b[0m: \u001b[1;36m1645690633.368353\u001b[0m,                  \u001b[2m             \u001b[0m\n",
       "\u001b[2;36m           \u001b[0m             \u001b[32m\"finish_timestamp\"\u001b[0m: null                                \u001b[2m             \u001b[0m\n",
       "\u001b[2;36m           \u001b[0m         \u001b[1m}\u001b[0m\u001b[1m)\u001b[0m has inf result.                                          \u001b[2m             \u001b[0m\n"
      ]
     },
     "metadata": {},
     "output_type": "display_data"
    },
    {
     "data": {
      "text/html": [
       "<pre style=\"white-space:pre;overflow-x:auto;line-height:normal;font-family:Menlo,'DejaVu Sans Mono',consolas,'Courier New',monospace\"><span style=\"color: #7fbfbf; text-decoration-color: #7fbfbf\">           </span><span style=\"color: #000080; text-decoration-color: #000080\">INFO    </span> Experiments <span style=\"color: #800080; text-decoration-color: #800080; font-weight: bold\">Experiment</span><span style=\"font-weight: bold\">({</span>                                    <span style=\"color: #7f7f7f; text-decoration-color: #7f7f7f\">runner.py:174</span>\n",
       "<span style=\"color: #7fbfbf; text-decoration-color: #7fbfbf\">           </span>             <span style=\"color: #008000; text-decoration-color: #008000\">\"id\"</span>: <span style=\"color: #008080; text-decoration-color: #008080; font-weight: bold\">12</span>,                                               <span style=\"color: #7f7f7f; text-decoration-color: #7f7f7f\">             </span>\n",
       "<span style=\"color: #7fbfbf; text-decoration-color: #7fbfbf\">           </span>             <span style=\"color: #008000; text-decoration-color: #008000\">\"job_id\"</span>: <span style=\"color: #008080; text-decoration-color: #008080; font-weight: bold\">1</span>,                                            <span style=\"color: #7f7f7f; text-decoration-color: #7f7f7f\">             </span>\n",
       "<span style=\"color: #7fbfbf; text-decoration-color: #7fbfbf\">           </span>             <span style=\"color: #008000; text-decoration-color: #008000\">\"state\"</span>: <span style=\"color: #008000; text-decoration-color: #008000\">\"WIP\"</span>,                                         <span style=\"color: #7f7f7f; text-decoration-color: #7f7f7f\">             </span>\n",
       "<span style=\"color: #7fbfbf; text-decoration-color: #7fbfbf\">           </span>             <span style=\"color: #008000; text-decoration-color: #008000\">\"hash\"</span>: null,                                           <span style=\"color: #7f7f7f; text-decoration-color: #7f7f7f\">             </span>\n",
       "<span style=\"color: #7fbfbf; text-decoration-color: #7fbfbf\">           </span>             <span style=\"color: #008000; text-decoration-color: #008000\">\"objective_result\"</span>: <span style=\"color: #008080; text-decoration-color: #008080; font-weight: bold\">10000000000.0</span>,                      <span style=\"color: #7f7f7f; text-decoration-color: #7f7f7f\">             </span>\n",
       "<span style=\"color: #7fbfbf; text-decoration-color: #7fbfbf\">           </span>             <span style=\"color: #008000; text-decoration-color: #008000\">\"params\"</span>: <span style=\"font-weight: bold\">{</span>                                             <span style=\"color: #7f7f7f; text-decoration-color: #7f7f7f\">             </span>\n",
       "<span style=\"color: #7fbfbf; text-decoration-color: #7fbfbf\">           </span>                 <span style=\"color: #008000; text-decoration-color: #008000\">\"-O\"</span>: <span style=\"color: #008000; text-decoration-color: #008000\">\"-O3\"</span>,                                        <span style=\"color: #7f7f7f; text-decoration-color: #7f7f7f\">             </span>\n",
       "<span style=\"color: #7fbfbf; text-decoration-color: #7fbfbf\">           </span>                 <span style=\"color: #008000; text-decoration-color: #008000\">\"align-functions\"</span>: <span style=\"color: #008000; text-decoration-color: #008000\">\"-falign-functions\"</span>,             <span style=\"color: #7f7f7f; text-decoration-color: #7f7f7f\">             </span>\n",
       "<span style=\"color: #7fbfbf; text-decoration-color: #7fbfbf\">           </span>                 <span style=\"color: #008000; text-decoration-color: #008000\">\"align-jumps\"</span>: <span style=\"color: #008000; text-decoration-color: #008000\">\"-falign-jumps\"</span>,                     <span style=\"color: #7f7f7f; text-decoration-color: #7f7f7f\">             </span>\n",
       "<span style=\"color: #7fbfbf; text-decoration-color: #7fbfbf\">           </span>                 <span style=\"color: #008000; text-decoration-color: #008000\">\"align-labels\"</span>: <span style=\"color: #008000; text-decoration-color: #008000\">\"-falign-labels\"</span>,                   <span style=\"color: #7f7f7f; text-decoration-color: #7f7f7f\">             </span>\n",
       "<span style=\"color: #7fbfbf; text-decoration-color: #7fbfbf\">           </span>                 <span style=\"color: #008000; text-decoration-color: #008000\">\"asynchronous-unwind-tables\"</span>: null,                 <span style=\"color: #7f7f7f; text-decoration-color: #7f7f7f\">             </span>\n",
       "<span style=\"color: #7fbfbf; text-decoration-color: #7fbfbf\">           </span>                 <span style=\"color: #008000; text-decoration-color: #008000\">\"branch-count-reg\"</span>: null,                           <span style=\"color: #7f7f7f; text-decoration-color: #7f7f7f\">             </span>\n",
       "<span style=\"color: #7fbfbf; text-decoration-color: #7fbfbf\">           </span>                 <span style=\"color: #008000; text-decoration-color: #008000\">\"branch-probabilities\"</span>: <span style=\"color: #008000; text-decoration-color: #008000\">\"-fbranch-probabilities\"</span>,   <span style=\"color: #7f7f7f; text-decoration-color: #7f7f7f\">             </span>\n",
       "<span style=\"color: #7fbfbf; text-decoration-color: #7fbfbf\">           </span>                 <span style=\"color: #008000; text-decoration-color: #008000\">\"early-inlining-insns\"</span>: <span style=\"color: #008080; text-decoration-color: #008080; font-weight: bold\">378</span>,                        <span style=\"color: #7f7f7f; text-decoration-color: #7f7f7f\">             </span>\n",
       "<span style=\"color: #7fbfbf; text-decoration-color: #7fbfbf\">           </span>                 <span style=\"color: #008000; text-decoration-color: #008000\">\"gcse-cost-distance-ratio\"</span>: <span style=\"color: #008080; text-decoration-color: #008080; font-weight: bold\">76</span>,                     <span style=\"color: #7f7f7f; text-decoration-color: #7f7f7f\">             </span>\n",
       "<span style=\"color: #7fbfbf; text-decoration-color: #7fbfbf\">           </span>                 <span style=\"color: #008000; text-decoration-color: #008000\">\"iv-max-considered-uses\"</span>: <span style=\"color: #008080; text-decoration-color: #008080; font-weight: bold\">81</span>                        <span style=\"color: #7f7f7f; text-decoration-color: #7f7f7f\">             </span>\n",
       "<span style=\"color: #7fbfbf; text-decoration-color: #7fbfbf\">           </span>             <span style=\"font-weight: bold\">}</span>,                                                      <span style=\"color: #7f7f7f; text-decoration-color: #7f7f7f\">             </span>\n",
       "<span style=\"color: #7fbfbf; text-decoration-color: #7fbfbf\">           </span>             <span style=\"color: #008000; text-decoration-color: #008000\">\"requestor\"</span>: <span style=\"color: #008000; text-decoration-color: #008000\">\"SkoptBayesianAlgorithm\"</span>,                  <span style=\"color: #7f7f7f; text-decoration-color: #7f7f7f\">             </span>\n",
       "<span style=\"color: #7fbfbf; text-decoration-color: #7fbfbf\">           </span>             <span style=\"color: #008000; text-decoration-color: #008000\">\"create_timestamp\"</span>: <span style=\"color: #008080; text-decoration-color: #008080; font-weight: bold\">1645690633.369013</span>,                  <span style=\"color: #7f7f7f; text-decoration-color: #7f7f7f\">             </span>\n",
       "<span style=\"color: #7fbfbf; text-decoration-color: #7fbfbf\">           </span>             <span style=\"color: #008000; text-decoration-color: #008000\">\"finish_timestamp\"</span>: null                                <span style=\"color: #7f7f7f; text-decoration-color: #7f7f7f\">             </span>\n",
       "<span style=\"color: #7fbfbf; text-decoration-color: #7fbfbf\">           </span>         <span style=\"font-weight: bold\">})</span> has inf result.                                          <span style=\"color: #7f7f7f; text-decoration-color: #7f7f7f\">             </span>\n",
       "</pre>\n"
      ],
      "text/plain": [
       "\u001b[2;36m          \u001b[0m\u001b[2;36m \u001b[0m\u001b[34mINFO    \u001b[0m Experiments \u001b[1;35mExperiment\u001b[0m\u001b[1m(\u001b[0m\u001b[1m{\u001b[0m                                    \u001b[2mrunner.py\u001b[0m\u001b[2m:\u001b[0m\u001b[2m174\u001b[0m\n",
       "\u001b[2;36m           \u001b[0m             \u001b[32m\"id\"\u001b[0m: \u001b[1;36m12\u001b[0m,                                               \u001b[2m             \u001b[0m\n",
       "\u001b[2;36m           \u001b[0m             \u001b[32m\"job_id\"\u001b[0m: \u001b[1;36m1\u001b[0m,                                            \u001b[2m             \u001b[0m\n",
       "\u001b[2;36m           \u001b[0m             \u001b[32m\"state\"\u001b[0m: \u001b[32m\"WIP\"\u001b[0m,                                         \u001b[2m             \u001b[0m\n",
       "\u001b[2;36m           \u001b[0m             \u001b[32m\"hash\"\u001b[0m: null,                                           \u001b[2m             \u001b[0m\n",
       "\u001b[2;36m           \u001b[0m             \u001b[32m\"objective_result\"\u001b[0m: \u001b[1;36m10000000000.0\u001b[0m,                      \u001b[2m             \u001b[0m\n",
       "\u001b[2;36m           \u001b[0m             \u001b[32m\"params\"\u001b[0m: \u001b[1m{\u001b[0m                                             \u001b[2m             \u001b[0m\n",
       "\u001b[2;36m           \u001b[0m                 \u001b[32m\"-O\"\u001b[0m: \u001b[32m\"-O3\"\u001b[0m,                                        \u001b[2m             \u001b[0m\n",
       "\u001b[2;36m           \u001b[0m                 \u001b[32m\"align-functions\"\u001b[0m: \u001b[32m\"-falign-functions\"\u001b[0m,             \u001b[2m             \u001b[0m\n",
       "\u001b[2;36m           \u001b[0m                 \u001b[32m\"align-jumps\"\u001b[0m: \u001b[32m\"-falign-jumps\"\u001b[0m,                     \u001b[2m             \u001b[0m\n",
       "\u001b[2;36m           \u001b[0m                 \u001b[32m\"align-labels\"\u001b[0m: \u001b[32m\"-falign-labels\"\u001b[0m,                   \u001b[2m             \u001b[0m\n",
       "\u001b[2;36m           \u001b[0m                 \u001b[32m\"asynchronous-unwind-tables\"\u001b[0m: null,                 \u001b[2m             \u001b[0m\n",
       "\u001b[2;36m           \u001b[0m                 \u001b[32m\"branch-count-reg\"\u001b[0m: null,                           \u001b[2m             \u001b[0m\n",
       "\u001b[2;36m           \u001b[0m                 \u001b[32m\"branch-probabilities\"\u001b[0m: \u001b[32m\"-fbranch-probabilities\"\u001b[0m,   \u001b[2m             \u001b[0m\n",
       "\u001b[2;36m           \u001b[0m                 \u001b[32m\"early-inlining-insns\"\u001b[0m: \u001b[1;36m378\u001b[0m,                        \u001b[2m             \u001b[0m\n",
       "\u001b[2;36m           \u001b[0m                 \u001b[32m\"gcse-cost-distance-ratio\"\u001b[0m: \u001b[1;36m76\u001b[0m,                     \u001b[2m             \u001b[0m\n",
       "\u001b[2;36m           \u001b[0m                 \u001b[32m\"iv-max-considered-uses\"\u001b[0m: \u001b[1;36m81\u001b[0m                        \u001b[2m             \u001b[0m\n",
       "\u001b[2;36m           \u001b[0m             \u001b[1m}\u001b[0m,                                                      \u001b[2m             \u001b[0m\n",
       "\u001b[2;36m           \u001b[0m             \u001b[32m\"requestor\"\u001b[0m: \u001b[32m\"SkoptBayesianAlgorithm\"\u001b[0m,                  \u001b[2m             \u001b[0m\n",
       "\u001b[2;36m           \u001b[0m             \u001b[32m\"create_timestamp\"\u001b[0m: \u001b[1;36m1645690633.369013\u001b[0m,                  \u001b[2m             \u001b[0m\n",
       "\u001b[2;36m           \u001b[0m             \u001b[32m\"finish_timestamp\"\u001b[0m: null                                \u001b[2m             \u001b[0m\n",
       "\u001b[2;36m           \u001b[0m         \u001b[1m}\u001b[0m\u001b[1m)\u001b[0m has inf result.                                          \u001b[2m             \u001b[0m\n"
      ]
     },
     "metadata": {},
     "output_type": "display_data"
    },
    {
     "name": "stderr",
     "output_type": "stream",
     "text": [
      "/Users/qnbhd/Development/gimeltune/gimeltune/search/algorithms/skopt.py:58: UserWarning: Now per-emit count in skopt technique implemented not correctly. Per-emit count is property, return default value (1).\n",
      "  warnings.warn('Now per-emit count in skopt technique implemented not correctly.'\n"
     ]
    },
    {
     "data": {
      "text/html": [
       "<pre style=\"white-space:pre;overflow-x:auto;line-height:normal;font-family:Menlo,'DejaVu Sans Mono',consolas,'Courier New',monospace\"><span style=\"color: #7fbfbf; text-decoration-color: #7fbfbf\">           </span><span style=\"color: #000080; text-decoration-color: #000080\">INFO    </span> Trying experiment: <span style=\"color: #800080; text-decoration-color: #800080; font-weight: bold\">Experiment</span><span style=\"font-weight: bold\">({</span>                             <span style=\"color: #7f7f7f; text-decoration-color: #7f7f7f\">runner.py:156</span>\n",
       "<span style=\"color: #7fbfbf; text-decoration-color: #7fbfbf\">           </span>             <span style=\"color: #008000; text-decoration-color: #008000\">\"id\"</span>: <span style=\"color: #008080; text-decoration-color: #008080; font-weight: bold\">13</span>,                                               <span style=\"color: #7f7f7f; text-decoration-color: #7f7f7f\">             </span>\n",
       "<span style=\"color: #7fbfbf; text-decoration-color: #7fbfbf\">           </span>             <span style=\"color: #008000; text-decoration-color: #008000\">\"job_id\"</span>: <span style=\"color: #008080; text-decoration-color: #008080; font-weight: bold\">1</span>,                                            <span style=\"color: #7f7f7f; text-decoration-color: #7f7f7f\">             </span>\n",
       "<span style=\"color: #7fbfbf; text-decoration-color: #7fbfbf\">           </span>             <span style=\"color: #008000; text-decoration-color: #008000\">\"state\"</span>: <span style=\"color: #008000; text-decoration-color: #008000\">\"WIP\"</span>,                                         <span style=\"color: #7f7f7f; text-decoration-color: #7f7f7f\">             </span>\n",
       "<span style=\"color: #7fbfbf; text-decoration-color: #7fbfbf\">           </span>             <span style=\"color: #008000; text-decoration-color: #008000\">\"hash\"</span>: null,                                           <span style=\"color: #7f7f7f; text-decoration-color: #7f7f7f\">             </span>\n",
       "<span style=\"color: #7fbfbf; text-decoration-color: #7fbfbf\">           </span>             <span style=\"color: #008000; text-decoration-color: #008000\">\"objective_result\"</span>: null,                               <span style=\"color: #7f7f7f; text-decoration-color: #7f7f7f\">             </span>\n",
       "<span style=\"color: #7fbfbf; text-decoration-color: #7fbfbf\">           </span>             <span style=\"color: #008000; text-decoration-color: #008000\">\"params\"</span>: <span style=\"font-weight: bold\">{</span>                                             <span style=\"color: #7f7f7f; text-decoration-color: #7f7f7f\">             </span>\n",
       "<span style=\"color: #7fbfbf; text-decoration-color: #7fbfbf\">           </span>                 <span style=\"color: #008000; text-decoration-color: #008000\">\"-O\"</span>: null,                                         <span style=\"color: #7f7f7f; text-decoration-color: #7f7f7f\">             </span>\n",
       "<span style=\"color: #7fbfbf; text-decoration-color: #7fbfbf\">           </span>                 <span style=\"color: #008000; text-decoration-color: #008000\">\"align-functions\"</span>: null,                            <span style=\"color: #7f7f7f; text-decoration-color: #7f7f7f\">             </span>\n",
       "<span style=\"color: #7fbfbf; text-decoration-color: #7fbfbf\">           </span>                 <span style=\"color: #008000; text-decoration-color: #008000\">\"align-jumps\"</span>: <span style=\"color: #008000; text-decoration-color: #008000\">\"-fno-align-jumps\"</span>,                  <span style=\"color: #7f7f7f; text-decoration-color: #7f7f7f\">             </span>\n",
       "<span style=\"color: #7fbfbf; text-decoration-color: #7fbfbf\">           </span>                 <span style=\"color: #008000; text-decoration-color: #008000\">\"align-labels\"</span>: null,                               <span style=\"color: #7f7f7f; text-decoration-color: #7f7f7f\">             </span>\n",
       "<span style=\"color: #7fbfbf; text-decoration-color: #7fbfbf\">           </span>                 <span style=\"color: #008000; text-decoration-color: #008000\">\"asynchronous-unwind-tables\"</span>: null,                 <span style=\"color: #7f7f7f; text-decoration-color: #7f7f7f\">             </span>\n",
       "<span style=\"color: #7fbfbf; text-decoration-color: #7fbfbf\">           </span>                 <span style=\"color: #008000; text-decoration-color: #008000\">\"branch-count-reg\"</span>: null,                           <span style=\"color: #7f7f7f; text-decoration-color: #7f7f7f\">             </span>\n",
       "<span style=\"color: #7fbfbf; text-decoration-color: #7fbfbf\">           </span>                 <span style=\"color: #008000; text-decoration-color: #008000\">\"branch-probabilities\"</span>: null,                       <span style=\"color: #7f7f7f; text-decoration-color: #7f7f7f\">             </span>\n",
       "<span style=\"color: #7fbfbf; text-decoration-color: #7fbfbf\">           </span>                 <span style=\"color: #008000; text-decoration-color: #008000\">\"early-inlining-insns\"</span>: <span style=\"color: #008080; text-decoration-color: #008080; font-weight: bold\">406</span>,                        <span style=\"color: #7f7f7f; text-decoration-color: #7f7f7f\">             </span>\n",
       "<span style=\"color: #7fbfbf; text-decoration-color: #7fbfbf\">           </span>                 <span style=\"color: #008000; text-decoration-color: #008000\">\"gcse-cost-distance-ratio\"</span>: <span style=\"color: #008080; text-decoration-color: #008080; font-weight: bold\">85</span>,                     <span style=\"color: #7f7f7f; text-decoration-color: #7f7f7f\">             </span>\n",
       "<span style=\"color: #7fbfbf; text-decoration-color: #7fbfbf\">           </span>                 <span style=\"color: #008000; text-decoration-color: #008000\">\"iv-max-considered-uses\"</span>: <span style=\"color: #008080; text-decoration-color: #008080; font-weight: bold\">809</span>                       <span style=\"color: #7f7f7f; text-decoration-color: #7f7f7f\">             </span>\n",
       "<span style=\"color: #7fbfbf; text-decoration-color: #7fbfbf\">           </span>             <span style=\"font-weight: bold\">}</span>,                                                      <span style=\"color: #7f7f7f; text-decoration-color: #7f7f7f\">             </span>\n",
       "<span style=\"color: #7fbfbf; text-decoration-color: #7fbfbf\">           </span>             <span style=\"color: #008000; text-decoration-color: #008000\">\"requestor\"</span>: <span style=\"color: #008000; text-decoration-color: #008000\">\"SkoptBayesianAlgorithm\"</span>,                  <span style=\"color: #7f7f7f; text-decoration-color: #7f7f7f\">             </span>\n",
       "<span style=\"color: #7fbfbf; text-decoration-color: #7fbfbf\">           </span>             <span style=\"color: #008000; text-decoration-color: #008000\">\"create_timestamp\"</span>: <span style=\"color: #008080; text-decoration-color: #008080; font-weight: bold\">1645690635.584076</span>,                  <span style=\"color: #7f7f7f; text-decoration-color: #7f7f7f\">             </span>\n",
       "<span style=\"color: #7fbfbf; text-decoration-color: #7fbfbf\">           </span>             <span style=\"color: #008000; text-decoration-color: #008000\">\"finish_timestamp\"</span>: null                                <span style=\"color: #7f7f7f; text-decoration-color: #7f7f7f\">             </span>\n",
       "<span style=\"color: #7fbfbf; text-decoration-color: #7fbfbf\">           </span>         <span style=\"font-weight: bold\">})</span>                                                          <span style=\"color: #7f7f7f; text-decoration-color: #7f7f7f\">             </span>\n",
       "</pre>\n"
      ],
      "text/plain": [
       "\u001b[2;36m          \u001b[0m\u001b[2;36m \u001b[0m\u001b[34mINFO    \u001b[0m Trying experiment: \u001b[1;35mExperiment\u001b[0m\u001b[1m(\u001b[0m\u001b[1m{\u001b[0m                             \u001b[2mrunner.py\u001b[0m\u001b[2m:\u001b[0m\u001b[2m156\u001b[0m\n",
       "\u001b[2;36m           \u001b[0m             \u001b[32m\"id\"\u001b[0m: \u001b[1;36m13\u001b[0m,                                               \u001b[2m             \u001b[0m\n",
       "\u001b[2;36m           \u001b[0m             \u001b[32m\"job_id\"\u001b[0m: \u001b[1;36m1\u001b[0m,                                            \u001b[2m             \u001b[0m\n",
       "\u001b[2;36m           \u001b[0m             \u001b[32m\"state\"\u001b[0m: \u001b[32m\"WIP\"\u001b[0m,                                         \u001b[2m             \u001b[0m\n",
       "\u001b[2;36m           \u001b[0m             \u001b[32m\"hash\"\u001b[0m: null,                                           \u001b[2m             \u001b[0m\n",
       "\u001b[2;36m           \u001b[0m             \u001b[32m\"objective_result\"\u001b[0m: null,                               \u001b[2m             \u001b[0m\n",
       "\u001b[2;36m           \u001b[0m             \u001b[32m\"params\"\u001b[0m: \u001b[1m{\u001b[0m                                             \u001b[2m             \u001b[0m\n",
       "\u001b[2;36m           \u001b[0m                 \u001b[32m\"-O\"\u001b[0m: null,                                         \u001b[2m             \u001b[0m\n",
       "\u001b[2;36m           \u001b[0m                 \u001b[32m\"align-functions\"\u001b[0m: null,                            \u001b[2m             \u001b[0m\n",
       "\u001b[2;36m           \u001b[0m                 \u001b[32m\"align-jumps\"\u001b[0m: \u001b[32m\"-fno-align-jumps\"\u001b[0m,                  \u001b[2m             \u001b[0m\n",
       "\u001b[2;36m           \u001b[0m                 \u001b[32m\"align-labels\"\u001b[0m: null,                               \u001b[2m             \u001b[0m\n",
       "\u001b[2;36m           \u001b[0m                 \u001b[32m\"asynchronous-unwind-tables\"\u001b[0m: null,                 \u001b[2m             \u001b[0m\n",
       "\u001b[2;36m           \u001b[0m                 \u001b[32m\"branch-count-reg\"\u001b[0m: null,                           \u001b[2m             \u001b[0m\n",
       "\u001b[2;36m           \u001b[0m                 \u001b[32m\"branch-probabilities\"\u001b[0m: null,                       \u001b[2m             \u001b[0m\n",
       "\u001b[2;36m           \u001b[0m                 \u001b[32m\"early-inlining-insns\"\u001b[0m: \u001b[1;36m406\u001b[0m,                        \u001b[2m             \u001b[0m\n",
       "\u001b[2;36m           \u001b[0m                 \u001b[32m\"gcse-cost-distance-ratio\"\u001b[0m: \u001b[1;36m85\u001b[0m,                     \u001b[2m             \u001b[0m\n",
       "\u001b[2;36m           \u001b[0m                 \u001b[32m\"iv-max-considered-uses\"\u001b[0m: \u001b[1;36m809\u001b[0m                       \u001b[2m             \u001b[0m\n",
       "\u001b[2;36m           \u001b[0m             \u001b[1m}\u001b[0m,                                                      \u001b[2m             \u001b[0m\n",
       "\u001b[2;36m           \u001b[0m             \u001b[32m\"requestor\"\u001b[0m: \u001b[32m\"SkoptBayesianAlgorithm\"\u001b[0m,                  \u001b[2m             \u001b[0m\n",
       "\u001b[2;36m           \u001b[0m             \u001b[32m\"create_timestamp\"\u001b[0m: \u001b[1;36m1645690635.584076\u001b[0m,                  \u001b[2m             \u001b[0m\n",
       "\u001b[2;36m           \u001b[0m             \u001b[32m\"finish_timestamp\"\u001b[0m: null                                \u001b[2m             \u001b[0m\n",
       "\u001b[2;36m           \u001b[0m         \u001b[1m}\u001b[0m\u001b[1m)\u001b[0m                                                          \u001b[2m             \u001b[0m\n"
      ]
     },
     "metadata": {},
     "output_type": "display_data"
    },
    {
     "data": {
      "text/html": [
       "<pre style=\"white-space:pre;overflow-x:auto;line-height:normal;font-family:Menlo,'DejaVu Sans Mono',consolas,'Courier New',monospace\"><span style=\"color: #7fbfbf; text-decoration-color: #7fbfbf\">           </span><span style=\"color: #008000; text-decoration-color: #008000\">DEBUG   </span> RUN COMMAND:                                                 <span style=\"color: #7f7f7f; text-decoration-color: #7f7f7f\">runner.py:79</span>\n",
       "<span style=\"color: #7fbfbf; text-decoration-color: #7fbfbf\">           </span>         <span style=\"color: #008080; text-decoration-color: #008080; font-weight: bold\">gtime -f </span><span style=\"color: #008000; text-decoration-color: #008000\">'%e'</span><span style=\"color: #008080; text-decoration-color: #008080; font-weight: bold\"> g++</span><span style=\"color: #008080; text-decoration-color: #008080; font-weight: bold\">-11</span><span style=\"color: #008080; text-decoration-color: #008080; font-weight: bold\"> -o </span><span style=\"color: #800080; text-decoration-color: #800080; font-weight: bold\">/Users/qnbhd/Development/gimeltune/ex</span> <span style=\"color: #7f7f7f; text-decoration-color: #7f7f7f\">            </span>\n",
       "<span style=\"color: #7fbfbf; text-decoration-color: #7fbfbf\">           </span>         <span style=\"color: #800080; text-decoration-color: #800080; font-weight: bold\">amples/gcc/</span><span style=\"color: #ff00ff; text-decoration-color: #ff00ff; font-weight: bold\">2f9793aa2aba900b7c9df5c33aa49101ccc402877c44ea3ef</span> <span style=\"color: #7f7f7f; text-decoration-color: #7f7f7f\">            </span>\n",
       "<span style=\"color: #7fbfbf; text-decoration-color: #7fbfbf\">           </span>         <span style=\"color: #ff00ff; text-decoration-color: #ff00ff; font-weight: bold\">31c6398baad6a9c33081.out</span><span style=\"color: #008080; text-decoration-color: #008080; font-weight: bold\"> </span><span style=\"color: #800080; text-decoration-color: #800080; font-weight: bold\">/Users/qnbhd/Development/gimeltune/e</span> <span style=\"color: #7f7f7f; text-decoration-color: #7f7f7f\">            </span>\n",
       "<span style=\"color: #7fbfbf; text-decoration-color: #7fbfbf\">           </span>         <span style=\"color: #800080; text-decoration-color: #800080; font-weight: bold\">xamples/gcc/raytracer/</span><span style=\"color: #ff00ff; text-decoration-color: #ff00ff; font-weight: bold\">raytracer.cpp</span><span style=\"color: #008080; text-decoration-color: #008080; font-weight: bold\">   -fno-align-jumps     </span>  <span style=\"color: #7f7f7f; text-decoration-color: #7f7f7f\">            </span>\n",
       "<span style=\"color: #7fbfbf; text-decoration-color: #7fbfbf\">           </span>         <span style=\"color: #008080; text-decoration-color: #008080; font-weight: bold\">--param early-inlining-</span><span style=\"color: #808000; text-decoration-color: #808000; font-weight: bold\">insns</span><span style=\"color: #008080; text-decoration-color: #008080; font-weight: bold\">=</span><span style=\"color: #008080; text-decoration-color: #008080; font-weight: bold\">406</span><span style=\"color: #008080; text-decoration-color: #008080; font-weight: bold\"> --param </span>                    <span style=\"color: #7f7f7f; text-decoration-color: #7f7f7f\">            </span>\n",
       "<span style=\"color: #7fbfbf; text-decoration-color: #7fbfbf\">           </span>         <span style=\"color: #008080; text-decoration-color: #008080; font-weight: bold\">gcse-cost-distance-</span><span style=\"color: #808000; text-decoration-color: #808000; font-weight: bold\">ratio</span><span style=\"color: #008080; text-decoration-color: #008080; font-weight: bold\">=</span><span style=\"color: #008080; text-decoration-color: #008080; font-weight: bold\">85</span><span style=\"color: #008080; text-decoration-color: #008080; font-weight: bold\"> --param </span>                         <span style=\"color: #7f7f7f; text-decoration-color: #7f7f7f\">            </span>\n",
       "<span style=\"color: #7fbfbf; text-decoration-color: #7fbfbf\">           </span>         <span style=\"color: #008080; text-decoration-color: #008080; font-weight: bold\">iv-max-considered-</span><span style=\"color: #808000; text-decoration-color: #808000; font-weight: bold\">uses</span><span style=\"color: #008080; text-decoration-color: #008080; font-weight: bold\">=</span><span style=\"color: #008080; text-decoration-color: #008080; font-weight: bold\">809</span><span style=\"color: #008080; text-decoration-color: #008080; font-weight: bold\"> </span><span style=\"color: #008080; text-decoration-color: #008080; font-weight: bold\">2</span><span style=\"color: #008080; text-decoration-color: #008080; font-weight: bold\">&gt;&amp;</span><span style=\"color: #008080; text-decoration-color: #008080; font-weight: bold\">1</span>                              <span style=\"color: #7f7f7f; text-decoration-color: #7f7f7f\">            </span>\n",
       "</pre>\n"
      ],
      "text/plain": [
       "\u001b[2;36m          \u001b[0m\u001b[2;36m \u001b[0m\u001b[32mDEBUG   \u001b[0m RUN COMMAND:                                                 \u001b[2mrunner.py\u001b[0m\u001b[2m:\u001b[0m\u001b[2m79\u001b[0m\n",
       "\u001b[2;36m           \u001b[0m         \u001b[1;36mgtime -f \u001b[0m\u001b[32m'%e'\u001b[0m\u001b[1;36m g++\u001b[0m\u001b[1;36m-11\u001b[0m\u001b[1;36m -o \u001b[0m\u001b[1;35m/Users/qnbhd/Development/gimeltune/ex\u001b[0m \u001b[2m            \u001b[0m\n",
       "\u001b[2;36m           \u001b[0m         \u001b[1;35mamples/gcc/\u001b[0m\u001b[1;95m2f9793aa2aba900b7c9df5c33aa49101ccc402877c44ea3ef\u001b[0m \u001b[2m            \u001b[0m\n",
       "\u001b[2;36m           \u001b[0m         \u001b[1;95m31c6398baad6a9c33081.out\u001b[0m\u001b[1;36m \u001b[0m\u001b[1;35m/Users/qnbhd/Development/gimeltune/e\u001b[0m \u001b[2m            \u001b[0m\n",
       "\u001b[2;36m           \u001b[0m         \u001b[1;35mxamples/gcc/raytracer/\u001b[0m\u001b[1;95mraytracer.cpp\u001b[0m\u001b[1;36m   -fno-align-jumps     \u001b[0m  \u001b[2m            \u001b[0m\n",
       "\u001b[2;36m           \u001b[0m         \u001b[1;36m--param early-inlining-\u001b[0m\u001b[1;33minsns\u001b[0m\u001b[1;36m=\u001b[0m\u001b[1;36m406\u001b[0m\u001b[1;36m --param \u001b[0m                    \u001b[2m            \u001b[0m\n",
       "\u001b[2;36m           \u001b[0m         \u001b[1;36mgcse-cost-distance-\u001b[0m\u001b[1;33mratio\u001b[0m\u001b[1;36m=\u001b[0m\u001b[1;36m85\u001b[0m\u001b[1;36m --param \u001b[0m                         \u001b[2m            \u001b[0m\n",
       "\u001b[2;36m           \u001b[0m         \u001b[1;36miv-max-considered-\u001b[0m\u001b[1;33muses\u001b[0m\u001b[1;36m=\u001b[0m\u001b[1;36m809\u001b[0m\u001b[1;36m \u001b[0m\u001b[1;36m2\u001b[0m\u001b[1;36m>&\u001b[0m\u001b[1;36m1\u001b[0m                              \u001b[2m            \u001b[0m\n"
      ]
     },
     "metadata": {},
     "output_type": "display_data"
    },
    {
     "data": {
      "text/html": [
       "<pre style=\"white-space:pre;overflow-x:auto;line-height:normal;font-family:Menlo,'DejaVu Sans Mono',consolas,'Courier New',monospace\"><span style=\"color: #7fbfbf; text-decoration-color: #7fbfbf\">[11:17:16] </span><span style=\"color: #000080; text-decoration-color: #000080\">INFO    </span> <span style=\"color: #808000; text-decoration-color: #808000; font-weight: bold\">OUT: </span><span style=\"color: #008080; text-decoration-color: #008080; font-weight: bold\">0.69</span>                                                    <span style=\"color: #7f7f7f; text-decoration-color: #7f7f7f\">runner.py:85</span>\n",
       "</pre>\n"
      ],
      "text/plain": [
       "\u001b[2;36m[11:17:16]\u001b[0m\u001b[2;36m \u001b[0m\u001b[34mINFO    \u001b[0m \u001b[1;33mOUT: \u001b[0m\u001b[1;36m0.69\u001b[0m                                                    \u001b[2mrunner.py\u001b[0m\u001b[2m:\u001b[0m\u001b[2m85\u001b[0m\n"
      ]
     },
     "metadata": {},
     "output_type": "display_data"
    },
    {
     "data": {
      "text/html": [
       "<pre style=\"white-space:pre;overflow-x:auto;line-height:normal;font-family:Menlo,'DejaVu Sans Mono',consolas,'Courier New',monospace\"><span style=\"color: #7fbfbf; text-decoration-color: #7fbfbf\">           </span><span style=\"color: #008000; text-decoration-color: #008000\">DEBUG   </span> RUN COMMAND:                                                 <span style=\"color: #7f7f7f; text-decoration-color: #7f7f7f\">runner.py:79</span>\n",
       "<span style=\"color: #7fbfbf; text-decoration-color: #7fbfbf\">           </span>         <span style=\"color: #008080; text-decoration-color: #008080; font-weight: bold\">wc -c </span><span style=\"color: #800080; text-decoration-color: #800080; font-weight: bold\">/Users/qnbhd/Development/gimeltune/examples/gcc/</span><span style=\"color: #ff00ff; text-decoration-color: #ff00ff; font-weight: bold\">2f9793a</span> <span style=\"color: #7f7f7f; text-decoration-color: #7f7f7f\">            </span>\n",
       "<span style=\"color: #7fbfbf; text-decoration-color: #7fbfbf\">           </span>         <span style=\"color: #ff00ff; text-decoration-color: #ff00ff; font-weight: bold\">a2aba900b7c9df5c33aa49101ccc402877c44ea3ef31c6398baad6a9c330</span> <span style=\"color: #7f7f7f; text-decoration-color: #7f7f7f\">            </span>\n",
       "<span style=\"color: #7fbfbf; text-decoration-color: #7fbfbf\">           </span>         <span style=\"color: #ff00ff; text-decoration-color: #ff00ff; font-weight: bold\">81.out</span><span style=\"color: #008080; text-decoration-color: #008080; font-weight: bold\"> | awk </span><span style=\"color: #008000; text-decoration-color: #008000\">'{print $1}'</span>                                    <span style=\"color: #7f7f7f; text-decoration-color: #7f7f7f\">            </span>\n",
       "</pre>\n"
      ],
      "text/plain": [
       "\u001b[2;36m          \u001b[0m\u001b[2;36m \u001b[0m\u001b[32mDEBUG   \u001b[0m RUN COMMAND:                                                 \u001b[2mrunner.py\u001b[0m\u001b[2m:\u001b[0m\u001b[2m79\u001b[0m\n",
       "\u001b[2;36m           \u001b[0m         \u001b[1;36mwc -c \u001b[0m\u001b[1;35m/Users/qnbhd/Development/gimeltune/examples/gcc/\u001b[0m\u001b[1;95m2f9793a\u001b[0m \u001b[2m            \u001b[0m\n",
       "\u001b[2;36m           \u001b[0m         \u001b[1;95ma2aba900b7c9df5c33aa49101ccc402877c44ea3ef31c6398baad6a9c330\u001b[0m \u001b[2m            \u001b[0m\n",
       "\u001b[2;36m           \u001b[0m         \u001b[1;95m81.out\u001b[0m\u001b[1;36m | awk \u001b[0m\u001b[32m'\u001b[0m\u001b[32m{\u001b[0m\u001b[32mprint $1\u001b[0m\u001b[32m}\u001b[0m\u001b[32m'\u001b[0m                                    \u001b[2m            \u001b[0m\n"
      ]
     },
     "metadata": {},
     "output_type": "display_data"
    },
    {
     "data": {
      "text/html": [
       "<pre style=\"white-space:pre;overflow-x:auto;line-height:normal;font-family:Menlo,'DejaVu Sans Mono',consolas,'Courier New',monospace\"><span style=\"color: #7fbfbf; text-decoration-color: #7fbfbf\">           </span><span style=\"color: #000080; text-decoration-color: #000080\">INFO    </span> <span style=\"color: #808000; text-decoration-color: #808000; font-weight: bold\">OUT: </span><span style=\"color: #008080; text-decoration-color: #008080; font-weight: bold\">80672</span>                                                   <span style=\"color: #7f7f7f; text-decoration-color: #7f7f7f\">runner.py:85</span>\n",
       "</pre>\n"
      ],
      "text/plain": [
       "\u001b[2;36m          \u001b[0m\u001b[2;36m \u001b[0m\u001b[34mINFO    \u001b[0m \u001b[1;33mOUT: \u001b[0m\u001b[1;36m80672\u001b[0m                                                   \u001b[2mrunner.py\u001b[0m\u001b[2m:\u001b[0m\u001b[2m85\u001b[0m\n"
      ]
     },
     "metadata": {},
     "output_type": "display_data"
    },
    {
     "data": {
      "text/html": [
       "<pre style=\"white-space:pre;overflow-x:auto;line-height:normal;font-family:Menlo,'DejaVu Sans Mono',consolas,'Courier New',monospace\"><span style=\"color: #7fbfbf; text-decoration-color: #7fbfbf\">           </span><span style=\"color: #008000; text-decoration-color: #008000\">DEBUG   </span> RUN COMMAND:                                                 <span style=\"color: #7f7f7f; text-decoration-color: #7f7f7f\">runner.py:79</span>\n",
       "<span style=\"color: #7fbfbf; text-decoration-color: #7fbfbf\">           </span>         <span style=\"color: #008080; text-decoration-color: #008080; font-weight: bold\">gtime -f </span><span style=\"color: #008000; text-decoration-color: #008000\">'%e'</span><span style=\"color: #008080; text-decoration-color: #008080; font-weight: bold\"> </span><span style=\"color: #800080; text-decoration-color: #800080; font-weight: bold\">/Users/qnbhd/Development/gimeltune/examples/gcc</span> <span style=\"color: #7f7f7f; text-decoration-color: #7f7f7f\">            </span>\n",
       "<span style=\"color: #7fbfbf; text-decoration-color: #7fbfbf\">           </span>         <span style=\"color: #800080; text-decoration-color: #800080; font-weight: bold\">/</span><span style=\"color: #ff00ff; text-decoration-color: #ff00ff; font-weight: bold\">2f9793aa2aba900b7c9df5c33aa49101ccc402877c44ea3ef31c6398baa</span> <span style=\"color: #7f7f7f; text-decoration-color: #7f7f7f\">            </span>\n",
       "<span style=\"color: #7fbfbf; text-decoration-color: #7fbfbf\">           </span>         <span style=\"color: #ff00ff; text-decoration-color: #ff00ff; font-weight: bold\">d6a9c33081.out</span><span style=\"color: #008080; text-decoration-color: #008080; font-weight: bold\"> </span><span style=\"color: #008080; text-decoration-color: #008080; font-weight: bold\">2</span><span style=\"color: #008080; text-decoration-color: #008080; font-weight: bold\">&gt;&amp;</span><span style=\"color: #008080; text-decoration-color: #008080; font-weight: bold\">1</span>                                          <span style=\"color: #7f7f7f; text-decoration-color: #7f7f7f\">            </span>\n",
       "</pre>\n"
      ],
      "text/plain": [
       "\u001b[2;36m          \u001b[0m\u001b[2;36m \u001b[0m\u001b[32mDEBUG   \u001b[0m RUN COMMAND:                                                 \u001b[2mrunner.py\u001b[0m\u001b[2m:\u001b[0m\u001b[2m79\u001b[0m\n",
       "\u001b[2;36m           \u001b[0m         \u001b[1;36mgtime -f \u001b[0m\u001b[32m'%e'\u001b[0m\u001b[1;36m \u001b[0m\u001b[1;35m/Users/qnbhd/Development/gimeltune/examples/gcc\u001b[0m \u001b[2m            \u001b[0m\n",
       "\u001b[2;36m           \u001b[0m         \u001b[1;35m/\u001b[0m\u001b[1;95m2f9793aa2aba900b7c9df5c33aa49101ccc402877c44ea3ef31c6398baa\u001b[0m \u001b[2m            \u001b[0m\n",
       "\u001b[2;36m           \u001b[0m         \u001b[1;95md6a9c33081.out\u001b[0m\u001b[1;36m \u001b[0m\u001b[1;36m2\u001b[0m\u001b[1;36m>&\u001b[0m\u001b[1;36m1\u001b[0m                                          \u001b[2m            \u001b[0m\n"
      ]
     },
     "metadata": {},
     "output_type": "display_data"
    },
    {
     "data": {
      "text/html": [
       "<pre style=\"white-space:pre;overflow-x:auto;line-height:normal;font-family:Menlo,'DejaVu Sans Mono',consolas,'Courier New',monospace\"><span style=\"color: #7fbfbf; text-decoration-color: #7fbfbf\">[11:17:17] </span><span style=\"color: #000080; text-decoration-color: #000080\">INFO    </span> <span style=\"color: #808000; text-decoration-color: #808000; font-weight: bold\">OUT: </span><span style=\"color: #008080; text-decoration-color: #008080; font-weight: bold\">1.02</span>                                                    <span style=\"color: #7f7f7f; text-decoration-color: #7f7f7f\">runner.py:85</span>\n",
       "</pre>\n"
      ],
      "text/plain": [
       "\u001b[2;36m[11:17:17]\u001b[0m\u001b[2;36m \u001b[0m\u001b[34mINFO    \u001b[0m \u001b[1;33mOUT: \u001b[0m\u001b[1;36m1.02\u001b[0m                                                    \u001b[2mrunner.py\u001b[0m\u001b[2m:\u001b[0m\u001b[2m85\u001b[0m\n"
      ]
     },
     "metadata": {},
     "output_type": "display_data"
    },
    {
     "data": {
      "text/html": [
       "<pre style=\"white-space:pre;overflow-x:auto;line-height:normal;font-family:Menlo,'DejaVu Sans Mono',consolas,'Courier New',monospace\"><span style=\"color: #7fbfbf; text-decoration-color: #7fbfbf\">           </span><span style=\"color: #008000; text-decoration-color: #008000\">DEBUG   </span> RUN COMMAND:                                                 <span style=\"color: #7f7f7f; text-decoration-color: #7f7f7f\">runner.py:79</span>\n",
       "<span style=\"color: #7fbfbf; text-decoration-color: #7fbfbf\">           </span>         <span style=\"color: #008080; text-decoration-color: #008080; font-weight: bold\">gtime -f </span><span style=\"color: #008000; text-decoration-color: #008000\">'%e'</span><span style=\"color: #008080; text-decoration-color: #008080; font-weight: bold\"> </span><span style=\"color: #800080; text-decoration-color: #800080; font-weight: bold\">/Users/qnbhd/Development/gimeltune/examples/gcc</span> <span style=\"color: #7f7f7f; text-decoration-color: #7f7f7f\">            </span>\n",
       "<span style=\"color: #7fbfbf; text-decoration-color: #7fbfbf\">           </span>         <span style=\"color: #800080; text-decoration-color: #800080; font-weight: bold\">/</span><span style=\"color: #ff00ff; text-decoration-color: #ff00ff; font-weight: bold\">2f9793aa2aba900b7c9df5c33aa49101ccc402877c44ea3ef31c6398baa</span> <span style=\"color: #7f7f7f; text-decoration-color: #7f7f7f\">            </span>\n",
       "<span style=\"color: #7fbfbf; text-decoration-color: #7fbfbf\">           </span>         <span style=\"color: #ff00ff; text-decoration-color: #ff00ff; font-weight: bold\">d6a9c33081.out</span><span style=\"color: #008080; text-decoration-color: #008080; font-weight: bold\"> </span><span style=\"color: #008080; text-decoration-color: #008080; font-weight: bold\">2</span><span style=\"color: #008080; text-decoration-color: #008080; font-weight: bold\">&gt;&amp;</span><span style=\"color: #008080; text-decoration-color: #008080; font-weight: bold\">1</span>                                          <span style=\"color: #7f7f7f; text-decoration-color: #7f7f7f\">            </span>\n",
       "</pre>\n"
      ],
      "text/plain": [
       "\u001b[2;36m          \u001b[0m\u001b[2;36m \u001b[0m\u001b[32mDEBUG   \u001b[0m RUN COMMAND:                                                 \u001b[2mrunner.py\u001b[0m\u001b[2m:\u001b[0m\u001b[2m79\u001b[0m\n",
       "\u001b[2;36m           \u001b[0m         \u001b[1;36mgtime -f \u001b[0m\u001b[32m'%e'\u001b[0m\u001b[1;36m \u001b[0m\u001b[1;35m/Users/qnbhd/Development/gimeltune/examples/gcc\u001b[0m \u001b[2m            \u001b[0m\n",
       "\u001b[2;36m           \u001b[0m         \u001b[1;35m/\u001b[0m\u001b[1;95m2f9793aa2aba900b7c9df5c33aa49101ccc402877c44ea3ef31c6398baa\u001b[0m \u001b[2m            \u001b[0m\n",
       "\u001b[2;36m           \u001b[0m         \u001b[1;95md6a9c33081.out\u001b[0m\u001b[1;36m \u001b[0m\u001b[1;36m2\u001b[0m\u001b[1;36m>&\u001b[0m\u001b[1;36m1\u001b[0m                                          \u001b[2m            \u001b[0m\n"
      ]
     },
     "metadata": {},
     "output_type": "display_data"
    },
    {
     "data": {
      "text/html": [
       "<pre style=\"white-space:pre;overflow-x:auto;line-height:normal;font-family:Menlo,'DejaVu Sans Mono',consolas,'Courier New',monospace\"><span style=\"color: #7fbfbf; text-decoration-color: #7fbfbf\">[11:17:18] </span><span style=\"color: #000080; text-decoration-color: #000080\">INFO    </span> <span style=\"color: #808000; text-decoration-color: #808000; font-weight: bold\">OUT: </span><span style=\"color: #008080; text-decoration-color: #008080; font-weight: bold\">0.96</span>                                                    <span style=\"color: #7f7f7f; text-decoration-color: #7f7f7f\">runner.py:85</span>\n",
       "</pre>\n"
      ],
      "text/plain": [
       "\u001b[2;36m[11:17:18]\u001b[0m\u001b[2;36m \u001b[0m\u001b[34mINFO    \u001b[0m \u001b[1;33mOUT: \u001b[0m\u001b[1;36m0.96\u001b[0m                                                    \u001b[2mrunner.py\u001b[0m\u001b[2m:\u001b[0m\u001b[2m85\u001b[0m\n"
      ]
     },
     "metadata": {},
     "output_type": "display_data"
    },
    {
     "data": {
      "text/html": [
       "<pre style=\"white-space:pre;overflow-x:auto;line-height:normal;font-family:Menlo,'DejaVu Sans Mono',consolas,'Courier New',monospace\"><span style=\"color: #7fbfbf; text-decoration-color: #7fbfbf\">           </span><span style=\"color: #008000; text-decoration-color: #008000\">DEBUG   </span> RUN COMMAND:                                                 <span style=\"color: #7f7f7f; text-decoration-color: #7f7f7f\">runner.py:79</span>\n",
       "<span style=\"color: #7fbfbf; text-decoration-color: #7fbfbf\">           </span>         <span style=\"color: #008080; text-decoration-color: #008080; font-weight: bold\">gtime -f </span><span style=\"color: #008000; text-decoration-color: #008000\">'%e'</span><span style=\"color: #008080; text-decoration-color: #008080; font-weight: bold\"> </span><span style=\"color: #800080; text-decoration-color: #800080; font-weight: bold\">/Users/qnbhd/Development/gimeltune/examples/gcc</span> <span style=\"color: #7f7f7f; text-decoration-color: #7f7f7f\">            </span>\n",
       "<span style=\"color: #7fbfbf; text-decoration-color: #7fbfbf\">           </span>         <span style=\"color: #800080; text-decoration-color: #800080; font-weight: bold\">/</span><span style=\"color: #ff00ff; text-decoration-color: #ff00ff; font-weight: bold\">2f9793aa2aba900b7c9df5c33aa49101ccc402877c44ea3ef31c6398baa</span> <span style=\"color: #7f7f7f; text-decoration-color: #7f7f7f\">            </span>\n",
       "<span style=\"color: #7fbfbf; text-decoration-color: #7fbfbf\">           </span>         <span style=\"color: #ff00ff; text-decoration-color: #ff00ff; font-weight: bold\">d6a9c33081.out</span><span style=\"color: #008080; text-decoration-color: #008080; font-weight: bold\"> </span><span style=\"color: #008080; text-decoration-color: #008080; font-weight: bold\">2</span><span style=\"color: #008080; text-decoration-color: #008080; font-weight: bold\">&gt;&amp;</span><span style=\"color: #008080; text-decoration-color: #008080; font-weight: bold\">1</span>                                          <span style=\"color: #7f7f7f; text-decoration-color: #7f7f7f\">            </span>\n",
       "</pre>\n"
      ],
      "text/plain": [
       "\u001b[2;36m          \u001b[0m\u001b[2;36m \u001b[0m\u001b[32mDEBUG   \u001b[0m RUN COMMAND:                                                 \u001b[2mrunner.py\u001b[0m\u001b[2m:\u001b[0m\u001b[2m79\u001b[0m\n",
       "\u001b[2;36m           \u001b[0m         \u001b[1;36mgtime -f \u001b[0m\u001b[32m'%e'\u001b[0m\u001b[1;36m \u001b[0m\u001b[1;35m/Users/qnbhd/Development/gimeltune/examples/gcc\u001b[0m \u001b[2m            \u001b[0m\n",
       "\u001b[2;36m           \u001b[0m         \u001b[1;35m/\u001b[0m\u001b[1;95m2f9793aa2aba900b7c9df5c33aa49101ccc402877c44ea3ef31c6398baa\u001b[0m \u001b[2m            \u001b[0m\n",
       "\u001b[2;36m           \u001b[0m         \u001b[1;95md6a9c33081.out\u001b[0m\u001b[1;36m \u001b[0m\u001b[1;36m2\u001b[0m\u001b[1;36m>&\u001b[0m\u001b[1;36m1\u001b[0m                                          \u001b[2m            \u001b[0m\n"
      ]
     },
     "metadata": {},
     "output_type": "display_data"
    },
    {
     "data": {
      "text/html": [
       "<pre style=\"white-space:pre;overflow-x:auto;line-height:normal;font-family:Menlo,'DejaVu Sans Mono',consolas,'Courier New',monospace\"><span style=\"color: #7fbfbf; text-decoration-color: #7fbfbf\">[11:17:19] </span><span style=\"color: #000080; text-decoration-color: #000080\">INFO    </span> <span style=\"color: #808000; text-decoration-color: #808000; font-weight: bold\">OUT: </span><span style=\"color: #008080; text-decoration-color: #008080; font-weight: bold\">0.95</span>                                                    <span style=\"color: #7f7f7f; text-decoration-color: #7f7f7f\">runner.py:85</span>\n",
       "</pre>\n"
      ],
      "text/plain": [
       "\u001b[2;36m[11:17:19]\u001b[0m\u001b[2;36m \u001b[0m\u001b[34mINFO    \u001b[0m \u001b[1;33mOUT: \u001b[0m\u001b[1;36m0.95\u001b[0m                                                    \u001b[2mrunner.py\u001b[0m\u001b[2m:\u001b[0m\u001b[2m85\u001b[0m\n"
      ]
     },
     "metadata": {},
     "output_type": "display_data"
    },
    {
     "data": {
      "text/html": [
       "<pre style=\"white-space:pre;overflow-x:auto;line-height:normal;font-family:Menlo,'DejaVu Sans Mono',consolas,'Courier New',monospace\"><span style=\"color: #7fbfbf; text-decoration-color: #7fbfbf\">           </span><span style=\"color: #008000; text-decoration-color: #008000\">DEBUG   </span> RUN COMMAND:                                                 <span style=\"color: #7f7f7f; text-decoration-color: #7f7f7f\">runner.py:79</span>\n",
       "<span style=\"color: #7fbfbf; text-decoration-color: #7fbfbf\">           </span>         <span style=\"color: #008080; text-decoration-color: #008080; font-weight: bold\">gtime -f </span><span style=\"color: #008000; text-decoration-color: #008000\">'%e'</span><span style=\"color: #008080; text-decoration-color: #008080; font-weight: bold\"> </span><span style=\"color: #800080; text-decoration-color: #800080; font-weight: bold\">/Users/qnbhd/Development/gimeltune/examples/gcc</span> <span style=\"color: #7f7f7f; text-decoration-color: #7f7f7f\">            </span>\n",
       "<span style=\"color: #7fbfbf; text-decoration-color: #7fbfbf\">           </span>         <span style=\"color: #800080; text-decoration-color: #800080; font-weight: bold\">/</span><span style=\"color: #ff00ff; text-decoration-color: #ff00ff; font-weight: bold\">2f9793aa2aba900b7c9df5c33aa49101ccc402877c44ea3ef31c6398baa</span> <span style=\"color: #7f7f7f; text-decoration-color: #7f7f7f\">            </span>\n",
       "<span style=\"color: #7fbfbf; text-decoration-color: #7fbfbf\">           </span>         <span style=\"color: #ff00ff; text-decoration-color: #ff00ff; font-weight: bold\">d6a9c33081.out</span><span style=\"color: #008080; text-decoration-color: #008080; font-weight: bold\"> </span><span style=\"color: #008080; text-decoration-color: #008080; font-weight: bold\">2</span><span style=\"color: #008080; text-decoration-color: #008080; font-weight: bold\">&gt;&amp;</span><span style=\"color: #008080; text-decoration-color: #008080; font-weight: bold\">1</span>                                          <span style=\"color: #7f7f7f; text-decoration-color: #7f7f7f\">            </span>\n",
       "</pre>\n"
      ],
      "text/plain": [
       "\u001b[2;36m          \u001b[0m\u001b[2;36m \u001b[0m\u001b[32mDEBUG   \u001b[0m RUN COMMAND:                                                 \u001b[2mrunner.py\u001b[0m\u001b[2m:\u001b[0m\u001b[2m79\u001b[0m\n",
       "\u001b[2;36m           \u001b[0m         \u001b[1;36mgtime -f \u001b[0m\u001b[32m'%e'\u001b[0m\u001b[1;36m \u001b[0m\u001b[1;35m/Users/qnbhd/Development/gimeltune/examples/gcc\u001b[0m \u001b[2m            \u001b[0m\n",
       "\u001b[2;36m           \u001b[0m         \u001b[1;35m/\u001b[0m\u001b[1;95m2f9793aa2aba900b7c9df5c33aa49101ccc402877c44ea3ef31c6398baa\u001b[0m \u001b[2m            \u001b[0m\n",
       "\u001b[2;36m           \u001b[0m         \u001b[1;95md6a9c33081.out\u001b[0m\u001b[1;36m \u001b[0m\u001b[1;36m2\u001b[0m\u001b[1;36m>&\u001b[0m\u001b[1;36m1\u001b[0m                                          \u001b[2m            \u001b[0m\n"
      ]
     },
     "metadata": {},
     "output_type": "display_data"
    },
    {
     "data": {
      "text/html": [
       "<pre style=\"white-space:pre;overflow-x:auto;line-height:normal;font-family:Menlo,'DejaVu Sans Mono',consolas,'Courier New',monospace\"><span style=\"color: #7fbfbf; text-decoration-color: #7fbfbf\">[11:17:20] </span><span style=\"color: #000080; text-decoration-color: #000080\">INFO    </span> <span style=\"color: #808000; text-decoration-color: #808000; font-weight: bold\">OUT: </span><span style=\"color: #008080; text-decoration-color: #008080; font-weight: bold\">0.96</span>                                                    <span style=\"color: #7f7f7f; text-decoration-color: #7f7f7f\">runner.py:85</span>\n",
       "</pre>\n"
      ],
      "text/plain": [
       "\u001b[2;36m[11:17:20]\u001b[0m\u001b[2;36m \u001b[0m\u001b[34mINFO    \u001b[0m \u001b[1;33mOUT: \u001b[0m\u001b[1;36m0.96\u001b[0m                                                    \u001b[2mrunner.py\u001b[0m\u001b[2m:\u001b[0m\u001b[2m85\u001b[0m\n"
      ]
     },
     "metadata": {},
     "output_type": "display_data"
    },
    {
     "data": {
      "text/html": [
       "<pre style=\"white-space:pre;overflow-x:auto;line-height:normal;font-family:Menlo,'DejaVu Sans Mono',consolas,'Courier New',monospace\"><span style=\"color: #7fbfbf; text-decoration-color: #7fbfbf\">           </span><span style=\"color: #008000; text-decoration-color: #008000\">DEBUG   </span> RUN COMMAND:                                                 <span style=\"color: #7f7f7f; text-decoration-color: #7f7f7f\">runner.py:79</span>\n",
       "<span style=\"color: #7fbfbf; text-decoration-color: #7fbfbf\">           </span>         <span style=\"color: #008080; text-decoration-color: #008080; font-weight: bold\">gtime -f </span><span style=\"color: #008000; text-decoration-color: #008000\">'%e'</span><span style=\"color: #008080; text-decoration-color: #008080; font-weight: bold\"> </span><span style=\"color: #800080; text-decoration-color: #800080; font-weight: bold\">/Users/qnbhd/Development/gimeltune/examples/gcc</span> <span style=\"color: #7f7f7f; text-decoration-color: #7f7f7f\">            </span>\n",
       "<span style=\"color: #7fbfbf; text-decoration-color: #7fbfbf\">           </span>         <span style=\"color: #800080; text-decoration-color: #800080; font-weight: bold\">/</span><span style=\"color: #ff00ff; text-decoration-color: #ff00ff; font-weight: bold\">2f9793aa2aba900b7c9df5c33aa49101ccc402877c44ea3ef31c6398baa</span> <span style=\"color: #7f7f7f; text-decoration-color: #7f7f7f\">            </span>\n",
       "<span style=\"color: #7fbfbf; text-decoration-color: #7fbfbf\">           </span>         <span style=\"color: #ff00ff; text-decoration-color: #ff00ff; font-weight: bold\">d6a9c33081.out</span><span style=\"color: #008080; text-decoration-color: #008080; font-weight: bold\"> </span><span style=\"color: #008080; text-decoration-color: #008080; font-weight: bold\">2</span><span style=\"color: #008080; text-decoration-color: #008080; font-weight: bold\">&gt;&amp;</span><span style=\"color: #008080; text-decoration-color: #008080; font-weight: bold\">1</span>                                          <span style=\"color: #7f7f7f; text-decoration-color: #7f7f7f\">            </span>\n",
       "</pre>\n"
      ],
      "text/plain": [
       "\u001b[2;36m          \u001b[0m\u001b[2;36m \u001b[0m\u001b[32mDEBUG   \u001b[0m RUN COMMAND:                                                 \u001b[2mrunner.py\u001b[0m\u001b[2m:\u001b[0m\u001b[2m79\u001b[0m\n",
       "\u001b[2;36m           \u001b[0m         \u001b[1;36mgtime -f \u001b[0m\u001b[32m'%e'\u001b[0m\u001b[1;36m \u001b[0m\u001b[1;35m/Users/qnbhd/Development/gimeltune/examples/gcc\u001b[0m \u001b[2m            \u001b[0m\n",
       "\u001b[2;36m           \u001b[0m         \u001b[1;35m/\u001b[0m\u001b[1;95m2f9793aa2aba900b7c9df5c33aa49101ccc402877c44ea3ef31c6398baa\u001b[0m \u001b[2m            \u001b[0m\n",
       "\u001b[2;36m           \u001b[0m         \u001b[1;95md6a9c33081.out\u001b[0m\u001b[1;36m \u001b[0m\u001b[1;36m2\u001b[0m\u001b[1;36m>&\u001b[0m\u001b[1;36m1\u001b[0m                                          \u001b[2m            \u001b[0m\n"
      ]
     },
     "metadata": {},
     "output_type": "display_data"
    },
    {
     "data": {
      "text/html": [
       "<pre style=\"white-space:pre;overflow-x:auto;line-height:normal;font-family:Menlo,'DejaVu Sans Mono',consolas,'Courier New',monospace\"><span style=\"color: #7fbfbf; text-decoration-color: #7fbfbf\">[11:17:21] </span><span style=\"color: #000080; text-decoration-color: #000080\">INFO    </span> <span style=\"color: #808000; text-decoration-color: #808000; font-weight: bold\">OUT: </span><span style=\"color: #008080; text-decoration-color: #008080; font-weight: bold\">0.96</span>                                                    <span style=\"color: #7f7f7f; text-decoration-color: #7f7f7f\">runner.py:85</span>\n",
       "</pre>\n"
      ],
      "text/plain": [
       "\u001b[2;36m[11:17:21]\u001b[0m\u001b[2;36m \u001b[0m\u001b[34mINFO    \u001b[0m \u001b[1;33mOUT: \u001b[0m\u001b[1;36m0.96\u001b[0m                                                    \u001b[2mrunner.py\u001b[0m\u001b[2m:\u001b[0m\u001b[2m85\u001b[0m\n"
      ]
     },
     "metadata": {},
     "output_type": "display_data"
    },
    {
     "data": {
      "text/html": [
       "<pre style=\"white-space:pre;overflow-x:auto;line-height:normal;font-family:Menlo,'DejaVu Sans Mono',consolas,'Courier New',monospace\"><span style=\"color: #7fbfbf; text-decoration-color: #7fbfbf\">           </span><span style=\"color: #008000; text-decoration-color: #008000\">DEBUG   </span> RUN COMMAND:                                                 <span style=\"color: #7f7f7f; text-decoration-color: #7f7f7f\">runner.py:79</span>\n",
       "<span style=\"color: #7fbfbf; text-decoration-color: #7fbfbf\">           </span>         <span style=\"color: #008080; text-decoration-color: #008080; font-weight: bold\">rm </span><span style=\"color: #800080; text-decoration-color: #800080; font-weight: bold\">/Users/qnbhd/Development/gimeltune/examples/gcc/</span><span style=\"color: #ff00ff; text-decoration-color: #ff00ff; font-weight: bold\">2f9793aa2a</span> <span style=\"color: #7f7f7f; text-decoration-color: #7f7f7f\">            </span>\n",
       "<span style=\"color: #7fbfbf; text-decoration-color: #7fbfbf\">           </span>         <span style=\"color: #ff00ff; text-decoration-color: #ff00ff; font-weight: bold\">ba900b7c9df5c33aa49101ccc402877c44ea3ef31c6398baad6a9c33081.</span> <span style=\"color: #7f7f7f; text-decoration-color: #7f7f7f\">            </span>\n",
       "<span style=\"color: #7fbfbf; text-decoration-color: #7fbfbf\">           </span>         <span style=\"color: #ff00ff; text-decoration-color: #ff00ff; font-weight: bold\">out</span>                                                          <span style=\"color: #7f7f7f; text-decoration-color: #7f7f7f\">            </span>\n",
       "</pre>\n"
      ],
      "text/plain": [
       "\u001b[2;36m          \u001b[0m\u001b[2;36m \u001b[0m\u001b[32mDEBUG   \u001b[0m RUN COMMAND:                                                 \u001b[2mrunner.py\u001b[0m\u001b[2m:\u001b[0m\u001b[2m79\u001b[0m\n",
       "\u001b[2;36m           \u001b[0m         \u001b[1;36mrm \u001b[0m\u001b[1;35m/Users/qnbhd/Development/gimeltune/examples/gcc/\u001b[0m\u001b[1;95m2f9793aa2a\u001b[0m \u001b[2m            \u001b[0m\n",
       "\u001b[2;36m           \u001b[0m         \u001b[1;95mba900b7c9df5c33aa49101ccc402877c44ea3ef31c6398baad6a9c33081.\u001b[0m \u001b[2m            \u001b[0m\n",
       "\u001b[2;36m           \u001b[0m         \u001b[1;95mout\u001b[0m                                                          \u001b[2m            \u001b[0m\n"
      ]
     },
     "metadata": {},
     "output_type": "display_data"
    },
    {
     "data": {
      "text/html": [
       "<pre style=\"white-space:pre;overflow-x:auto;line-height:normal;font-family:Menlo,'DejaVu Sans Mono',consolas,'Courier New',monospace\"><span style=\"color: #7fbfbf; text-decoration-color: #7fbfbf\">           </span><span style=\"color: #000080; text-decoration-color: #000080\">INFO    </span> Trying experiment: <span style=\"color: #800080; text-decoration-color: #800080; font-weight: bold\">Experiment</span><span style=\"font-weight: bold\">({</span>                             <span style=\"color: #7f7f7f; text-decoration-color: #7f7f7f\">runner.py:156</span>\n",
       "<span style=\"color: #7fbfbf; text-decoration-color: #7fbfbf\">           </span>             <span style=\"color: #008000; text-decoration-color: #008000\">\"id\"</span>: <span style=\"color: #008080; text-decoration-color: #008080; font-weight: bold\">14</span>,                                               <span style=\"color: #7f7f7f; text-decoration-color: #7f7f7f\">             </span>\n",
       "<span style=\"color: #7fbfbf; text-decoration-color: #7fbfbf\">           </span>             <span style=\"color: #008000; text-decoration-color: #008000\">\"job_id\"</span>: <span style=\"color: #008080; text-decoration-color: #008080; font-weight: bold\">1</span>,                                            <span style=\"color: #7f7f7f; text-decoration-color: #7f7f7f\">             </span>\n",
       "<span style=\"color: #7fbfbf; text-decoration-color: #7fbfbf\">           </span>             <span style=\"color: #008000; text-decoration-color: #008000\">\"state\"</span>: <span style=\"color: #008000; text-decoration-color: #008000\">\"WIP\"</span>,                                         <span style=\"color: #7f7f7f; text-decoration-color: #7f7f7f\">             </span>\n",
       "<span style=\"color: #7fbfbf; text-decoration-color: #7fbfbf\">           </span>             <span style=\"color: #008000; text-decoration-color: #008000\">\"hash\"</span>: null,                                           <span style=\"color: #7f7f7f; text-decoration-color: #7f7f7f\">             </span>\n",
       "<span style=\"color: #7fbfbf; text-decoration-color: #7fbfbf\">           </span>             <span style=\"color: #008000; text-decoration-color: #008000\">\"objective_result\"</span>: null,                               <span style=\"color: #7f7f7f; text-decoration-color: #7f7f7f\">             </span>\n",
       "<span style=\"color: #7fbfbf; text-decoration-color: #7fbfbf\">           </span>             <span style=\"color: #008000; text-decoration-color: #008000\">\"params\"</span>: <span style=\"font-weight: bold\">{</span>                                             <span style=\"color: #7f7f7f; text-decoration-color: #7f7f7f\">             </span>\n",
       "<span style=\"color: #7fbfbf; text-decoration-color: #7fbfbf\">           </span>                 <span style=\"color: #008000; text-decoration-color: #008000\">\"-O\"</span>: null,                                         <span style=\"color: #7f7f7f; text-decoration-color: #7f7f7f\">             </span>\n",
       "<span style=\"color: #7fbfbf; text-decoration-color: #7fbfbf\">           </span>                 <span style=\"color: #008000; text-decoration-color: #008000\">\"align-functions\"</span>: null,                            <span style=\"color: #7f7f7f; text-decoration-color: #7f7f7f\">             </span>\n",
       "<span style=\"color: #7fbfbf; text-decoration-color: #7fbfbf\">           </span>                 <span style=\"color: #008000; text-decoration-color: #008000\">\"align-jumps\"</span>: <span style=\"color: #008000; text-decoration-color: #008000\">\"-fno-align-jumps\"</span>,                  <span style=\"color: #7f7f7f; text-decoration-color: #7f7f7f\">             </span>\n",
       "<span style=\"color: #7fbfbf; text-decoration-color: #7fbfbf\">           </span>                 <span style=\"color: #008000; text-decoration-color: #008000\">\"align-labels\"</span>: null,                               <span style=\"color: #7f7f7f; text-decoration-color: #7f7f7f\">             </span>\n",
       "<span style=\"color: #7fbfbf; text-decoration-color: #7fbfbf\">           </span>                 <span style=\"color: #008000; text-decoration-color: #008000\">\"asynchronous-unwind-tables\"</span>: null,                 <span style=\"color: #7f7f7f; text-decoration-color: #7f7f7f\">             </span>\n",
       "<span style=\"color: #7fbfbf; text-decoration-color: #7fbfbf\">           </span>                 <span style=\"color: #008000; text-decoration-color: #008000\">\"branch-count-reg\"</span>: null,                           <span style=\"color: #7f7f7f; text-decoration-color: #7f7f7f\">             </span>\n",
       "<span style=\"color: #7fbfbf; text-decoration-color: #7fbfbf\">           </span>                 <span style=\"color: #008000; text-decoration-color: #008000\">\"branch-probabilities\"</span>: null,                       <span style=\"color: #7f7f7f; text-decoration-color: #7f7f7f\">             </span>\n",
       "<span style=\"color: #7fbfbf; text-decoration-color: #7fbfbf\">           </span>                 <span style=\"color: #008000; text-decoration-color: #008000\">\"early-inlining-insns\"</span>: <span style=\"color: #008080; text-decoration-color: #008080; font-weight: bold\">406</span>,                        <span style=\"color: #7f7f7f; text-decoration-color: #7f7f7f\">             </span>\n",
       "<span style=\"color: #7fbfbf; text-decoration-color: #7fbfbf\">           </span>                 <span style=\"color: #008000; text-decoration-color: #008000\">\"gcse-cost-distance-ratio\"</span>: <span style=\"color: #008080; text-decoration-color: #008080; font-weight: bold\">85</span>,                     <span style=\"color: #7f7f7f; text-decoration-color: #7f7f7f\">             </span>\n",
       "<span style=\"color: #7fbfbf; text-decoration-color: #7fbfbf\">           </span>                 <span style=\"color: #008000; text-decoration-color: #008000\">\"iv-max-considered-uses\"</span>: <span style=\"color: #008080; text-decoration-color: #008080; font-weight: bold\">809</span>                       <span style=\"color: #7f7f7f; text-decoration-color: #7f7f7f\">             </span>\n",
       "<span style=\"color: #7fbfbf; text-decoration-color: #7fbfbf\">           </span>             <span style=\"font-weight: bold\">}</span>,                                                      <span style=\"color: #7f7f7f; text-decoration-color: #7f7f7f\">             </span>\n",
       "<span style=\"color: #7fbfbf; text-decoration-color: #7fbfbf\">           </span>             <span style=\"color: #008000; text-decoration-color: #008000\">\"requestor\"</span>: <span style=\"color: #008000; text-decoration-color: #008000\">\"SkoptBayesianAlgorithm\"</span>,                  <span style=\"color: #7f7f7f; text-decoration-color: #7f7f7f\">             </span>\n",
       "<span style=\"color: #7fbfbf; text-decoration-color: #7fbfbf\">           </span>             <span style=\"color: #008000; text-decoration-color: #008000\">\"create_timestamp\"</span>: <span style=\"color: #008080; text-decoration-color: #008080; font-weight: bold\">1645690635.584815</span>,                  <span style=\"color: #7f7f7f; text-decoration-color: #7f7f7f\">             </span>\n",
       "<span style=\"color: #7fbfbf; text-decoration-color: #7fbfbf\">           </span>             <span style=\"color: #008000; text-decoration-color: #008000\">\"finish_timestamp\"</span>: null                                <span style=\"color: #7f7f7f; text-decoration-color: #7f7f7f\">             </span>\n",
       "<span style=\"color: #7fbfbf; text-decoration-color: #7fbfbf\">           </span>         <span style=\"font-weight: bold\">})</span>                                                          <span style=\"color: #7f7f7f; text-decoration-color: #7f7f7f\">             </span>\n",
       "</pre>\n"
      ],
      "text/plain": [
       "\u001b[2;36m          \u001b[0m\u001b[2;36m \u001b[0m\u001b[34mINFO    \u001b[0m Trying experiment: \u001b[1;35mExperiment\u001b[0m\u001b[1m(\u001b[0m\u001b[1m{\u001b[0m                             \u001b[2mrunner.py\u001b[0m\u001b[2m:\u001b[0m\u001b[2m156\u001b[0m\n",
       "\u001b[2;36m           \u001b[0m             \u001b[32m\"id\"\u001b[0m: \u001b[1;36m14\u001b[0m,                                               \u001b[2m             \u001b[0m\n",
       "\u001b[2;36m           \u001b[0m             \u001b[32m\"job_id\"\u001b[0m: \u001b[1;36m1\u001b[0m,                                            \u001b[2m             \u001b[0m\n",
       "\u001b[2;36m           \u001b[0m             \u001b[32m\"state\"\u001b[0m: \u001b[32m\"WIP\"\u001b[0m,                                         \u001b[2m             \u001b[0m\n",
       "\u001b[2;36m           \u001b[0m             \u001b[32m\"hash\"\u001b[0m: null,                                           \u001b[2m             \u001b[0m\n",
       "\u001b[2;36m           \u001b[0m             \u001b[32m\"objective_result\"\u001b[0m: null,                               \u001b[2m             \u001b[0m\n",
       "\u001b[2;36m           \u001b[0m             \u001b[32m\"params\"\u001b[0m: \u001b[1m{\u001b[0m                                             \u001b[2m             \u001b[0m\n",
       "\u001b[2;36m           \u001b[0m                 \u001b[32m\"-O\"\u001b[0m: null,                                         \u001b[2m             \u001b[0m\n",
       "\u001b[2;36m           \u001b[0m                 \u001b[32m\"align-functions\"\u001b[0m: null,                            \u001b[2m             \u001b[0m\n",
       "\u001b[2;36m           \u001b[0m                 \u001b[32m\"align-jumps\"\u001b[0m: \u001b[32m\"-fno-align-jumps\"\u001b[0m,                  \u001b[2m             \u001b[0m\n",
       "\u001b[2;36m           \u001b[0m                 \u001b[32m\"align-labels\"\u001b[0m: null,                               \u001b[2m             \u001b[0m\n",
       "\u001b[2;36m           \u001b[0m                 \u001b[32m\"asynchronous-unwind-tables\"\u001b[0m: null,                 \u001b[2m             \u001b[0m\n",
       "\u001b[2;36m           \u001b[0m                 \u001b[32m\"branch-count-reg\"\u001b[0m: null,                           \u001b[2m             \u001b[0m\n",
       "\u001b[2;36m           \u001b[0m                 \u001b[32m\"branch-probabilities\"\u001b[0m: null,                       \u001b[2m             \u001b[0m\n",
       "\u001b[2;36m           \u001b[0m                 \u001b[32m\"early-inlining-insns\"\u001b[0m: \u001b[1;36m406\u001b[0m,                        \u001b[2m             \u001b[0m\n",
       "\u001b[2;36m           \u001b[0m                 \u001b[32m\"gcse-cost-distance-ratio\"\u001b[0m: \u001b[1;36m85\u001b[0m,                     \u001b[2m             \u001b[0m\n",
       "\u001b[2;36m           \u001b[0m                 \u001b[32m\"iv-max-considered-uses\"\u001b[0m: \u001b[1;36m809\u001b[0m                       \u001b[2m             \u001b[0m\n",
       "\u001b[2;36m           \u001b[0m             \u001b[1m}\u001b[0m,                                                      \u001b[2m             \u001b[0m\n",
       "\u001b[2;36m           \u001b[0m             \u001b[32m\"requestor\"\u001b[0m: \u001b[32m\"SkoptBayesianAlgorithm\"\u001b[0m,                  \u001b[2m             \u001b[0m\n",
       "\u001b[2;36m           \u001b[0m             \u001b[32m\"create_timestamp\"\u001b[0m: \u001b[1;36m1645690635.584815\u001b[0m,                  \u001b[2m             \u001b[0m\n",
       "\u001b[2;36m           \u001b[0m             \u001b[32m\"finish_timestamp\"\u001b[0m: null                                \u001b[2m             \u001b[0m\n",
       "\u001b[2;36m           \u001b[0m         \u001b[1m}\u001b[0m\u001b[1m)\u001b[0m                                                          \u001b[2m             \u001b[0m\n"
      ]
     },
     "metadata": {},
     "output_type": "display_data"
    },
    {
     "data": {
      "text/html": [
       "<pre style=\"white-space:pre;overflow-x:auto;line-height:normal;font-family:Menlo,'DejaVu Sans Mono',consolas,'Courier New',monospace\"><span style=\"color: #7fbfbf; text-decoration-color: #7fbfbf\">           </span><span style=\"color: #008000; text-decoration-color: #008000\">DEBUG   </span> RUN COMMAND:                                                 <span style=\"color: #7f7f7f; text-decoration-color: #7f7f7f\">runner.py:79</span>\n",
       "<span style=\"color: #7fbfbf; text-decoration-color: #7fbfbf\">           </span>         <span style=\"color: #008080; text-decoration-color: #008080; font-weight: bold\">gtime -f </span><span style=\"color: #008000; text-decoration-color: #008000\">'%e'</span><span style=\"color: #008080; text-decoration-color: #008080; font-weight: bold\"> g++</span><span style=\"color: #008080; text-decoration-color: #008080; font-weight: bold\">-11</span><span style=\"color: #008080; text-decoration-color: #008080; font-weight: bold\"> -o </span><span style=\"color: #800080; text-decoration-color: #800080; font-weight: bold\">/Users/qnbhd/Development/gimeltune/ex</span> <span style=\"color: #7f7f7f; text-decoration-color: #7f7f7f\">            </span>\n",
       "<span style=\"color: #7fbfbf; text-decoration-color: #7fbfbf\">           </span>         <span style=\"color: #800080; text-decoration-color: #800080; font-weight: bold\">amples/gcc/</span><span style=\"color: #ff00ff; text-decoration-color: #ff00ff; font-weight: bold\">eff6f57007e08e5007e6bd7146eecb694a031e68c6ec55934</span> <span style=\"color: #7f7f7f; text-decoration-color: #7f7f7f\">            </span>\n",
       "<span style=\"color: #7fbfbf; text-decoration-color: #7fbfbf\">           </span>         <span style=\"color: #ff00ff; text-decoration-color: #ff00ff; font-weight: bold\">68f1bcd3bee474132196.out</span><span style=\"color: #008080; text-decoration-color: #008080; font-weight: bold\"> </span><span style=\"color: #800080; text-decoration-color: #800080; font-weight: bold\">/Users/qnbhd/Development/gimeltune/e</span> <span style=\"color: #7f7f7f; text-decoration-color: #7f7f7f\">            </span>\n",
       "<span style=\"color: #7fbfbf; text-decoration-color: #7fbfbf\">           </span>         <span style=\"color: #800080; text-decoration-color: #800080; font-weight: bold\">xamples/gcc/raytracer/</span><span style=\"color: #ff00ff; text-decoration-color: #ff00ff; font-weight: bold\">raytracer.cpp</span><span style=\"color: #008080; text-decoration-color: #008080; font-weight: bold\">   -fno-align-jumps     </span>  <span style=\"color: #7f7f7f; text-decoration-color: #7f7f7f\">            </span>\n",
       "<span style=\"color: #7fbfbf; text-decoration-color: #7fbfbf\">           </span>         <span style=\"color: #008080; text-decoration-color: #008080; font-weight: bold\">--param early-inlining-</span><span style=\"color: #808000; text-decoration-color: #808000; font-weight: bold\">insns</span><span style=\"color: #008080; text-decoration-color: #008080; font-weight: bold\">=</span><span style=\"color: #008080; text-decoration-color: #008080; font-weight: bold\">406</span><span style=\"color: #008080; text-decoration-color: #008080; font-weight: bold\"> --param </span>                    <span style=\"color: #7f7f7f; text-decoration-color: #7f7f7f\">            </span>\n",
       "<span style=\"color: #7fbfbf; text-decoration-color: #7fbfbf\">           </span>         <span style=\"color: #008080; text-decoration-color: #008080; font-weight: bold\">gcse-cost-distance-</span><span style=\"color: #808000; text-decoration-color: #808000; font-weight: bold\">ratio</span><span style=\"color: #008080; text-decoration-color: #008080; font-weight: bold\">=</span><span style=\"color: #008080; text-decoration-color: #008080; font-weight: bold\">85</span><span style=\"color: #008080; text-decoration-color: #008080; font-weight: bold\"> --param </span>                         <span style=\"color: #7f7f7f; text-decoration-color: #7f7f7f\">            </span>\n",
       "<span style=\"color: #7fbfbf; text-decoration-color: #7fbfbf\">           </span>         <span style=\"color: #008080; text-decoration-color: #008080; font-weight: bold\">iv-max-considered-</span><span style=\"color: #808000; text-decoration-color: #808000; font-weight: bold\">uses</span><span style=\"color: #008080; text-decoration-color: #008080; font-weight: bold\">=</span><span style=\"color: #008080; text-decoration-color: #008080; font-weight: bold\">809</span><span style=\"color: #008080; text-decoration-color: #008080; font-weight: bold\"> </span><span style=\"color: #008080; text-decoration-color: #008080; font-weight: bold\">2</span><span style=\"color: #008080; text-decoration-color: #008080; font-weight: bold\">&gt;&amp;</span><span style=\"color: #008080; text-decoration-color: #008080; font-weight: bold\">1</span>                              <span style=\"color: #7f7f7f; text-decoration-color: #7f7f7f\">            </span>\n",
       "</pre>\n"
      ],
      "text/plain": [
       "\u001b[2;36m          \u001b[0m\u001b[2;36m \u001b[0m\u001b[32mDEBUG   \u001b[0m RUN COMMAND:                                                 \u001b[2mrunner.py\u001b[0m\u001b[2m:\u001b[0m\u001b[2m79\u001b[0m\n",
       "\u001b[2;36m           \u001b[0m         \u001b[1;36mgtime -f \u001b[0m\u001b[32m'%e'\u001b[0m\u001b[1;36m g++\u001b[0m\u001b[1;36m-11\u001b[0m\u001b[1;36m -o \u001b[0m\u001b[1;35m/Users/qnbhd/Development/gimeltune/ex\u001b[0m \u001b[2m            \u001b[0m\n",
       "\u001b[2;36m           \u001b[0m         \u001b[1;35mamples/gcc/\u001b[0m\u001b[1;95meff6f57007e08e5007e6bd7146eecb694a031e68c6ec55934\u001b[0m \u001b[2m            \u001b[0m\n",
       "\u001b[2;36m           \u001b[0m         \u001b[1;95m68f1bcd3bee474132196.out\u001b[0m\u001b[1;36m \u001b[0m\u001b[1;35m/Users/qnbhd/Development/gimeltune/e\u001b[0m \u001b[2m            \u001b[0m\n",
       "\u001b[2;36m           \u001b[0m         \u001b[1;35mxamples/gcc/raytracer/\u001b[0m\u001b[1;95mraytracer.cpp\u001b[0m\u001b[1;36m   -fno-align-jumps     \u001b[0m  \u001b[2m            \u001b[0m\n",
       "\u001b[2;36m           \u001b[0m         \u001b[1;36m--param early-inlining-\u001b[0m\u001b[1;33minsns\u001b[0m\u001b[1;36m=\u001b[0m\u001b[1;36m406\u001b[0m\u001b[1;36m --param \u001b[0m                    \u001b[2m            \u001b[0m\n",
       "\u001b[2;36m           \u001b[0m         \u001b[1;36mgcse-cost-distance-\u001b[0m\u001b[1;33mratio\u001b[0m\u001b[1;36m=\u001b[0m\u001b[1;36m85\u001b[0m\u001b[1;36m --param \u001b[0m                         \u001b[2m            \u001b[0m\n",
       "\u001b[2;36m           \u001b[0m         \u001b[1;36miv-max-considered-\u001b[0m\u001b[1;33muses\u001b[0m\u001b[1;36m=\u001b[0m\u001b[1;36m809\u001b[0m\u001b[1;36m \u001b[0m\u001b[1;36m2\u001b[0m\u001b[1;36m>&\u001b[0m\u001b[1;36m1\u001b[0m                              \u001b[2m            \u001b[0m\n"
      ]
     },
     "metadata": {},
     "output_type": "display_data"
    },
    {
     "data": {
      "text/html": [
       "<pre style=\"white-space:pre;overflow-x:auto;line-height:normal;font-family:Menlo,'DejaVu Sans Mono',consolas,'Courier New',monospace\"><span style=\"color: #7fbfbf; text-decoration-color: #7fbfbf\">[11:17:22] </span><span style=\"color: #000080; text-decoration-color: #000080\">INFO    </span> <span style=\"color: #808000; text-decoration-color: #808000; font-weight: bold\">OUT: </span><span style=\"color: #008080; text-decoration-color: #008080; font-weight: bold\">0.68</span>                                                    <span style=\"color: #7f7f7f; text-decoration-color: #7f7f7f\">runner.py:85</span>\n",
       "</pre>\n"
      ],
      "text/plain": [
       "\u001b[2;36m[11:17:22]\u001b[0m\u001b[2;36m \u001b[0m\u001b[34mINFO    \u001b[0m \u001b[1;33mOUT: \u001b[0m\u001b[1;36m0.68\u001b[0m                                                    \u001b[2mrunner.py\u001b[0m\u001b[2m:\u001b[0m\u001b[2m85\u001b[0m\n"
      ]
     },
     "metadata": {},
     "output_type": "display_data"
    },
    {
     "data": {
      "text/html": [
       "<pre style=\"white-space:pre;overflow-x:auto;line-height:normal;font-family:Menlo,'DejaVu Sans Mono',consolas,'Courier New',monospace\"><span style=\"color: #7fbfbf; text-decoration-color: #7fbfbf\">           </span><span style=\"color: #008000; text-decoration-color: #008000\">DEBUG   </span> RUN COMMAND:                                                 <span style=\"color: #7f7f7f; text-decoration-color: #7f7f7f\">runner.py:79</span>\n",
       "<span style=\"color: #7fbfbf; text-decoration-color: #7fbfbf\">           </span>         <span style=\"color: #008080; text-decoration-color: #008080; font-weight: bold\">wc -c </span><span style=\"color: #800080; text-decoration-color: #800080; font-weight: bold\">/Users/qnbhd/Development/gimeltune/examples/gcc/</span><span style=\"color: #ff00ff; text-decoration-color: #ff00ff; font-weight: bold\">eff6f57</span> <span style=\"color: #7f7f7f; text-decoration-color: #7f7f7f\">            </span>\n",
       "<span style=\"color: #7fbfbf; text-decoration-color: #7fbfbf\">           </span>         <span style=\"color: #ff00ff; text-decoration-color: #ff00ff; font-weight: bold\">007e08e5007e6bd7146eecb694a031e68c6ec5593468f1bcd3bee4741321</span> <span style=\"color: #7f7f7f; text-decoration-color: #7f7f7f\">            </span>\n",
       "<span style=\"color: #7fbfbf; text-decoration-color: #7fbfbf\">           </span>         <span style=\"color: #ff00ff; text-decoration-color: #ff00ff; font-weight: bold\">96.out</span><span style=\"color: #008080; text-decoration-color: #008080; font-weight: bold\"> | awk </span><span style=\"color: #008000; text-decoration-color: #008000\">'{print $1}'</span>                                    <span style=\"color: #7f7f7f; text-decoration-color: #7f7f7f\">            </span>\n",
       "</pre>\n"
      ],
      "text/plain": [
       "\u001b[2;36m          \u001b[0m\u001b[2;36m \u001b[0m\u001b[32mDEBUG   \u001b[0m RUN COMMAND:                                                 \u001b[2mrunner.py\u001b[0m\u001b[2m:\u001b[0m\u001b[2m79\u001b[0m\n",
       "\u001b[2;36m           \u001b[0m         \u001b[1;36mwc -c \u001b[0m\u001b[1;35m/Users/qnbhd/Development/gimeltune/examples/gcc/\u001b[0m\u001b[1;95meff6f57\u001b[0m \u001b[2m            \u001b[0m\n",
       "\u001b[2;36m           \u001b[0m         \u001b[1;95m007e08e5007e6bd7146eecb694a031e68c6ec5593468f1bcd3bee4741321\u001b[0m \u001b[2m            \u001b[0m\n",
       "\u001b[2;36m           \u001b[0m         \u001b[1;95m96.out\u001b[0m\u001b[1;36m | awk \u001b[0m\u001b[32m'\u001b[0m\u001b[32m{\u001b[0m\u001b[32mprint $1\u001b[0m\u001b[32m}\u001b[0m\u001b[32m'\u001b[0m                                    \u001b[2m            \u001b[0m\n"
      ]
     },
     "metadata": {},
     "output_type": "display_data"
    },
    {
     "data": {
      "text/html": [
       "<pre style=\"white-space:pre;overflow-x:auto;line-height:normal;font-family:Menlo,'DejaVu Sans Mono',consolas,'Courier New',monospace\"><span style=\"color: #7fbfbf; text-decoration-color: #7fbfbf\">           </span><span style=\"color: #000080; text-decoration-color: #000080\">INFO    </span> <span style=\"color: #808000; text-decoration-color: #808000; font-weight: bold\">OUT: </span><span style=\"color: #008080; text-decoration-color: #008080; font-weight: bold\">80672</span>                                                   <span style=\"color: #7f7f7f; text-decoration-color: #7f7f7f\">runner.py:85</span>\n",
       "</pre>\n"
      ],
      "text/plain": [
       "\u001b[2;36m          \u001b[0m\u001b[2;36m \u001b[0m\u001b[34mINFO    \u001b[0m \u001b[1;33mOUT: \u001b[0m\u001b[1;36m80672\u001b[0m                                                   \u001b[2mrunner.py\u001b[0m\u001b[2m:\u001b[0m\u001b[2m85\u001b[0m\n"
      ]
     },
     "metadata": {},
     "output_type": "display_data"
    },
    {
     "data": {
      "text/html": [
       "<pre style=\"white-space:pre;overflow-x:auto;line-height:normal;font-family:Menlo,'DejaVu Sans Mono',consolas,'Courier New',monospace\"><span style=\"color: #7fbfbf; text-decoration-color: #7fbfbf\">           </span><span style=\"color: #008000; text-decoration-color: #008000\">DEBUG   </span> RUN COMMAND:                                                 <span style=\"color: #7f7f7f; text-decoration-color: #7f7f7f\">runner.py:79</span>\n",
       "<span style=\"color: #7fbfbf; text-decoration-color: #7fbfbf\">           </span>         <span style=\"color: #008080; text-decoration-color: #008080; font-weight: bold\">gtime -f </span><span style=\"color: #008000; text-decoration-color: #008000\">'%e'</span><span style=\"color: #008080; text-decoration-color: #008080; font-weight: bold\"> </span><span style=\"color: #800080; text-decoration-color: #800080; font-weight: bold\">/Users/qnbhd/Development/gimeltune/examples/gcc</span> <span style=\"color: #7f7f7f; text-decoration-color: #7f7f7f\">            </span>\n",
       "<span style=\"color: #7fbfbf; text-decoration-color: #7fbfbf\">           </span>         <span style=\"color: #800080; text-decoration-color: #800080; font-weight: bold\">/</span><span style=\"color: #ff00ff; text-decoration-color: #ff00ff; font-weight: bold\">eff6f57007e08e5007e6bd7146eecb694a031e68c6ec5593468f1bcd3be</span> <span style=\"color: #7f7f7f; text-decoration-color: #7f7f7f\">            </span>\n",
       "<span style=\"color: #7fbfbf; text-decoration-color: #7fbfbf\">           </span>         <span style=\"color: #ff00ff; text-decoration-color: #ff00ff; font-weight: bold\">e474132196.out</span><span style=\"color: #008080; text-decoration-color: #008080; font-weight: bold\"> </span><span style=\"color: #008080; text-decoration-color: #008080; font-weight: bold\">2</span><span style=\"color: #008080; text-decoration-color: #008080; font-weight: bold\">&gt;&amp;</span><span style=\"color: #008080; text-decoration-color: #008080; font-weight: bold\">1</span>                                          <span style=\"color: #7f7f7f; text-decoration-color: #7f7f7f\">            </span>\n",
       "</pre>\n"
      ],
      "text/plain": [
       "\u001b[2;36m          \u001b[0m\u001b[2;36m \u001b[0m\u001b[32mDEBUG   \u001b[0m RUN COMMAND:                                                 \u001b[2mrunner.py\u001b[0m\u001b[2m:\u001b[0m\u001b[2m79\u001b[0m\n",
       "\u001b[2;36m           \u001b[0m         \u001b[1;36mgtime -f \u001b[0m\u001b[32m'%e'\u001b[0m\u001b[1;36m \u001b[0m\u001b[1;35m/Users/qnbhd/Development/gimeltune/examples/gcc\u001b[0m \u001b[2m            \u001b[0m\n",
       "\u001b[2;36m           \u001b[0m         \u001b[1;35m/\u001b[0m\u001b[1;95meff6f57007e08e5007e6bd7146eecb694a031e68c6ec5593468f1bcd3be\u001b[0m \u001b[2m            \u001b[0m\n",
       "\u001b[2;36m           \u001b[0m         \u001b[1;95me474132196.out\u001b[0m\u001b[1;36m \u001b[0m\u001b[1;36m2\u001b[0m\u001b[1;36m>&\u001b[0m\u001b[1;36m1\u001b[0m                                          \u001b[2m            \u001b[0m\n"
      ]
     },
     "metadata": {},
     "output_type": "display_data"
    },
    {
     "data": {
      "text/html": [
       "<pre style=\"white-space:pre;overflow-x:auto;line-height:normal;font-family:Menlo,'DejaVu Sans Mono',consolas,'Courier New',monospace\"><span style=\"color: #7fbfbf; text-decoration-color: #7fbfbf\">[11:17:23] </span><span style=\"color: #000080; text-decoration-color: #000080\">INFO    </span> <span style=\"color: #808000; text-decoration-color: #808000; font-weight: bold\">OUT: </span><span style=\"color: #008080; text-decoration-color: #008080; font-weight: bold\">1.02</span>                                                    <span style=\"color: #7f7f7f; text-decoration-color: #7f7f7f\">runner.py:85</span>\n",
       "</pre>\n"
      ],
      "text/plain": [
       "\u001b[2;36m[11:17:23]\u001b[0m\u001b[2;36m \u001b[0m\u001b[34mINFO    \u001b[0m \u001b[1;33mOUT: \u001b[0m\u001b[1;36m1.02\u001b[0m                                                    \u001b[2mrunner.py\u001b[0m\u001b[2m:\u001b[0m\u001b[2m85\u001b[0m\n"
      ]
     },
     "metadata": {},
     "output_type": "display_data"
    },
    {
     "data": {
      "text/html": [
       "<pre style=\"white-space:pre;overflow-x:auto;line-height:normal;font-family:Menlo,'DejaVu Sans Mono',consolas,'Courier New',monospace\"><span style=\"color: #7fbfbf; text-decoration-color: #7fbfbf\">           </span><span style=\"color: #008000; text-decoration-color: #008000\">DEBUG   </span> RUN COMMAND:                                                 <span style=\"color: #7f7f7f; text-decoration-color: #7f7f7f\">runner.py:79</span>\n",
       "<span style=\"color: #7fbfbf; text-decoration-color: #7fbfbf\">           </span>         <span style=\"color: #008080; text-decoration-color: #008080; font-weight: bold\">gtime -f </span><span style=\"color: #008000; text-decoration-color: #008000\">'%e'</span><span style=\"color: #008080; text-decoration-color: #008080; font-weight: bold\"> </span><span style=\"color: #800080; text-decoration-color: #800080; font-weight: bold\">/Users/qnbhd/Development/gimeltune/examples/gcc</span> <span style=\"color: #7f7f7f; text-decoration-color: #7f7f7f\">            </span>\n",
       "<span style=\"color: #7fbfbf; text-decoration-color: #7fbfbf\">           </span>         <span style=\"color: #800080; text-decoration-color: #800080; font-weight: bold\">/</span><span style=\"color: #ff00ff; text-decoration-color: #ff00ff; font-weight: bold\">eff6f57007e08e5007e6bd7146eecb694a031e68c6ec5593468f1bcd3be</span> <span style=\"color: #7f7f7f; text-decoration-color: #7f7f7f\">            </span>\n",
       "<span style=\"color: #7fbfbf; text-decoration-color: #7fbfbf\">           </span>         <span style=\"color: #ff00ff; text-decoration-color: #ff00ff; font-weight: bold\">e474132196.out</span><span style=\"color: #008080; text-decoration-color: #008080; font-weight: bold\"> </span><span style=\"color: #008080; text-decoration-color: #008080; font-weight: bold\">2</span><span style=\"color: #008080; text-decoration-color: #008080; font-weight: bold\">&gt;&amp;</span><span style=\"color: #008080; text-decoration-color: #008080; font-weight: bold\">1</span>                                          <span style=\"color: #7f7f7f; text-decoration-color: #7f7f7f\">            </span>\n",
       "</pre>\n"
      ],
      "text/plain": [
       "\u001b[2;36m          \u001b[0m\u001b[2;36m \u001b[0m\u001b[32mDEBUG   \u001b[0m RUN COMMAND:                                                 \u001b[2mrunner.py\u001b[0m\u001b[2m:\u001b[0m\u001b[2m79\u001b[0m\n",
       "\u001b[2;36m           \u001b[0m         \u001b[1;36mgtime -f \u001b[0m\u001b[32m'%e'\u001b[0m\u001b[1;36m \u001b[0m\u001b[1;35m/Users/qnbhd/Development/gimeltune/examples/gcc\u001b[0m \u001b[2m            \u001b[0m\n",
       "\u001b[2;36m           \u001b[0m         \u001b[1;35m/\u001b[0m\u001b[1;95meff6f57007e08e5007e6bd7146eecb694a031e68c6ec5593468f1bcd3be\u001b[0m \u001b[2m            \u001b[0m\n",
       "\u001b[2;36m           \u001b[0m         \u001b[1;95me474132196.out\u001b[0m\u001b[1;36m \u001b[0m\u001b[1;36m2\u001b[0m\u001b[1;36m>&\u001b[0m\u001b[1;36m1\u001b[0m                                          \u001b[2m            \u001b[0m\n"
      ]
     },
     "metadata": {},
     "output_type": "display_data"
    },
    {
     "data": {
      "text/html": [
       "<pre style=\"white-space:pre;overflow-x:auto;line-height:normal;font-family:Menlo,'DejaVu Sans Mono',consolas,'Courier New',monospace\"><span style=\"color: #7fbfbf; text-decoration-color: #7fbfbf\">[11:17:24] </span><span style=\"color: #000080; text-decoration-color: #000080\">INFO    </span> <span style=\"color: #808000; text-decoration-color: #808000; font-weight: bold\">OUT: </span><span style=\"color: #008080; text-decoration-color: #008080; font-weight: bold\">0.96</span>                                                    <span style=\"color: #7f7f7f; text-decoration-color: #7f7f7f\">runner.py:85</span>\n",
       "</pre>\n"
      ],
      "text/plain": [
       "\u001b[2;36m[11:17:24]\u001b[0m\u001b[2;36m \u001b[0m\u001b[34mINFO    \u001b[0m \u001b[1;33mOUT: \u001b[0m\u001b[1;36m0.96\u001b[0m                                                    \u001b[2mrunner.py\u001b[0m\u001b[2m:\u001b[0m\u001b[2m85\u001b[0m\n"
      ]
     },
     "metadata": {},
     "output_type": "display_data"
    },
    {
     "data": {
      "text/html": [
       "<pre style=\"white-space:pre;overflow-x:auto;line-height:normal;font-family:Menlo,'DejaVu Sans Mono',consolas,'Courier New',monospace\"><span style=\"color: #7fbfbf; text-decoration-color: #7fbfbf\">           </span><span style=\"color: #008000; text-decoration-color: #008000\">DEBUG   </span> RUN COMMAND:                                                 <span style=\"color: #7f7f7f; text-decoration-color: #7f7f7f\">runner.py:79</span>\n",
       "<span style=\"color: #7fbfbf; text-decoration-color: #7fbfbf\">           </span>         <span style=\"color: #008080; text-decoration-color: #008080; font-weight: bold\">gtime -f </span><span style=\"color: #008000; text-decoration-color: #008000\">'%e'</span><span style=\"color: #008080; text-decoration-color: #008080; font-weight: bold\"> </span><span style=\"color: #800080; text-decoration-color: #800080; font-weight: bold\">/Users/qnbhd/Development/gimeltune/examples/gcc</span> <span style=\"color: #7f7f7f; text-decoration-color: #7f7f7f\">            </span>\n",
       "<span style=\"color: #7fbfbf; text-decoration-color: #7fbfbf\">           </span>         <span style=\"color: #800080; text-decoration-color: #800080; font-weight: bold\">/</span><span style=\"color: #ff00ff; text-decoration-color: #ff00ff; font-weight: bold\">eff6f57007e08e5007e6bd7146eecb694a031e68c6ec5593468f1bcd3be</span> <span style=\"color: #7f7f7f; text-decoration-color: #7f7f7f\">            </span>\n",
       "<span style=\"color: #7fbfbf; text-decoration-color: #7fbfbf\">           </span>         <span style=\"color: #ff00ff; text-decoration-color: #ff00ff; font-weight: bold\">e474132196.out</span><span style=\"color: #008080; text-decoration-color: #008080; font-weight: bold\"> </span><span style=\"color: #008080; text-decoration-color: #008080; font-weight: bold\">2</span><span style=\"color: #008080; text-decoration-color: #008080; font-weight: bold\">&gt;&amp;</span><span style=\"color: #008080; text-decoration-color: #008080; font-weight: bold\">1</span>                                          <span style=\"color: #7f7f7f; text-decoration-color: #7f7f7f\">            </span>\n",
       "</pre>\n"
      ],
      "text/plain": [
       "\u001b[2;36m          \u001b[0m\u001b[2;36m \u001b[0m\u001b[32mDEBUG   \u001b[0m RUN COMMAND:                                                 \u001b[2mrunner.py\u001b[0m\u001b[2m:\u001b[0m\u001b[2m79\u001b[0m\n",
       "\u001b[2;36m           \u001b[0m         \u001b[1;36mgtime -f \u001b[0m\u001b[32m'%e'\u001b[0m\u001b[1;36m \u001b[0m\u001b[1;35m/Users/qnbhd/Development/gimeltune/examples/gcc\u001b[0m \u001b[2m            \u001b[0m\n",
       "\u001b[2;36m           \u001b[0m         \u001b[1;35m/\u001b[0m\u001b[1;95meff6f57007e08e5007e6bd7146eecb694a031e68c6ec5593468f1bcd3be\u001b[0m \u001b[2m            \u001b[0m\n",
       "\u001b[2;36m           \u001b[0m         \u001b[1;95me474132196.out\u001b[0m\u001b[1;36m \u001b[0m\u001b[1;36m2\u001b[0m\u001b[1;36m>&\u001b[0m\u001b[1;36m1\u001b[0m                                          \u001b[2m            \u001b[0m\n"
      ]
     },
     "metadata": {},
     "output_type": "display_data"
    },
    {
     "data": {
      "text/html": [
       "<pre style=\"white-space:pre;overflow-x:auto;line-height:normal;font-family:Menlo,'DejaVu Sans Mono',consolas,'Courier New',monospace\"><span style=\"color: #7fbfbf; text-decoration-color: #7fbfbf\">[11:17:25] </span><span style=\"color: #000080; text-decoration-color: #000080\">INFO    </span> <span style=\"color: #808000; text-decoration-color: #808000; font-weight: bold\">OUT: </span><span style=\"color: #008080; text-decoration-color: #008080; font-weight: bold\">0.95</span>                                                    <span style=\"color: #7f7f7f; text-decoration-color: #7f7f7f\">runner.py:85</span>\n",
       "</pre>\n"
      ],
      "text/plain": [
       "\u001b[2;36m[11:17:25]\u001b[0m\u001b[2;36m \u001b[0m\u001b[34mINFO    \u001b[0m \u001b[1;33mOUT: \u001b[0m\u001b[1;36m0.95\u001b[0m                                                    \u001b[2mrunner.py\u001b[0m\u001b[2m:\u001b[0m\u001b[2m85\u001b[0m\n"
      ]
     },
     "metadata": {},
     "output_type": "display_data"
    },
    {
     "data": {
      "text/html": [
       "<pre style=\"white-space:pre;overflow-x:auto;line-height:normal;font-family:Menlo,'DejaVu Sans Mono',consolas,'Courier New',monospace\"><span style=\"color: #7fbfbf; text-decoration-color: #7fbfbf\">           </span><span style=\"color: #008000; text-decoration-color: #008000\">DEBUG   </span> RUN COMMAND:                                                 <span style=\"color: #7f7f7f; text-decoration-color: #7f7f7f\">runner.py:79</span>\n",
       "<span style=\"color: #7fbfbf; text-decoration-color: #7fbfbf\">           </span>         <span style=\"color: #008080; text-decoration-color: #008080; font-weight: bold\">gtime -f </span><span style=\"color: #008000; text-decoration-color: #008000\">'%e'</span><span style=\"color: #008080; text-decoration-color: #008080; font-weight: bold\"> </span><span style=\"color: #800080; text-decoration-color: #800080; font-weight: bold\">/Users/qnbhd/Development/gimeltune/examples/gcc</span> <span style=\"color: #7f7f7f; text-decoration-color: #7f7f7f\">            </span>\n",
       "<span style=\"color: #7fbfbf; text-decoration-color: #7fbfbf\">           </span>         <span style=\"color: #800080; text-decoration-color: #800080; font-weight: bold\">/</span><span style=\"color: #ff00ff; text-decoration-color: #ff00ff; font-weight: bold\">eff6f57007e08e5007e6bd7146eecb694a031e68c6ec5593468f1bcd3be</span> <span style=\"color: #7f7f7f; text-decoration-color: #7f7f7f\">            </span>\n",
       "<span style=\"color: #7fbfbf; text-decoration-color: #7fbfbf\">           </span>         <span style=\"color: #ff00ff; text-decoration-color: #ff00ff; font-weight: bold\">e474132196.out</span><span style=\"color: #008080; text-decoration-color: #008080; font-weight: bold\"> </span><span style=\"color: #008080; text-decoration-color: #008080; font-weight: bold\">2</span><span style=\"color: #008080; text-decoration-color: #008080; font-weight: bold\">&gt;&amp;</span><span style=\"color: #008080; text-decoration-color: #008080; font-weight: bold\">1</span>                                          <span style=\"color: #7f7f7f; text-decoration-color: #7f7f7f\">            </span>\n",
       "</pre>\n"
      ],
      "text/plain": [
       "\u001b[2;36m          \u001b[0m\u001b[2;36m \u001b[0m\u001b[32mDEBUG   \u001b[0m RUN COMMAND:                                                 \u001b[2mrunner.py\u001b[0m\u001b[2m:\u001b[0m\u001b[2m79\u001b[0m\n",
       "\u001b[2;36m           \u001b[0m         \u001b[1;36mgtime -f \u001b[0m\u001b[32m'%e'\u001b[0m\u001b[1;36m \u001b[0m\u001b[1;35m/Users/qnbhd/Development/gimeltune/examples/gcc\u001b[0m \u001b[2m            \u001b[0m\n",
       "\u001b[2;36m           \u001b[0m         \u001b[1;35m/\u001b[0m\u001b[1;95meff6f57007e08e5007e6bd7146eecb694a031e68c6ec5593468f1bcd3be\u001b[0m \u001b[2m            \u001b[0m\n",
       "\u001b[2;36m           \u001b[0m         \u001b[1;95me474132196.out\u001b[0m\u001b[1;36m \u001b[0m\u001b[1;36m2\u001b[0m\u001b[1;36m>&\u001b[0m\u001b[1;36m1\u001b[0m                                          \u001b[2m            \u001b[0m\n"
      ]
     },
     "metadata": {},
     "output_type": "display_data"
    },
    {
     "data": {
      "text/html": [
       "<pre style=\"white-space:pre;overflow-x:auto;line-height:normal;font-family:Menlo,'DejaVu Sans Mono',consolas,'Courier New',monospace\"><span style=\"color: #7fbfbf; text-decoration-color: #7fbfbf\">[11:17:26] </span><span style=\"color: #000080; text-decoration-color: #000080\">INFO    </span> <span style=\"color: #808000; text-decoration-color: #808000; font-weight: bold\">OUT: </span><span style=\"color: #008080; text-decoration-color: #008080; font-weight: bold\">0.95</span>                                                    <span style=\"color: #7f7f7f; text-decoration-color: #7f7f7f\">runner.py:85</span>\n",
       "</pre>\n"
      ],
      "text/plain": [
       "\u001b[2;36m[11:17:26]\u001b[0m\u001b[2;36m \u001b[0m\u001b[34mINFO    \u001b[0m \u001b[1;33mOUT: \u001b[0m\u001b[1;36m0.95\u001b[0m                                                    \u001b[2mrunner.py\u001b[0m\u001b[2m:\u001b[0m\u001b[2m85\u001b[0m\n"
      ]
     },
     "metadata": {},
     "output_type": "display_data"
    },
    {
     "data": {
      "text/html": [
       "<pre style=\"white-space:pre;overflow-x:auto;line-height:normal;font-family:Menlo,'DejaVu Sans Mono',consolas,'Courier New',monospace\"><span style=\"color: #7fbfbf; text-decoration-color: #7fbfbf\">           </span><span style=\"color: #008000; text-decoration-color: #008000\">DEBUG   </span> RUN COMMAND:                                                 <span style=\"color: #7f7f7f; text-decoration-color: #7f7f7f\">runner.py:79</span>\n",
       "<span style=\"color: #7fbfbf; text-decoration-color: #7fbfbf\">           </span>         <span style=\"color: #008080; text-decoration-color: #008080; font-weight: bold\">gtime -f </span><span style=\"color: #008000; text-decoration-color: #008000\">'%e'</span><span style=\"color: #008080; text-decoration-color: #008080; font-weight: bold\"> </span><span style=\"color: #800080; text-decoration-color: #800080; font-weight: bold\">/Users/qnbhd/Development/gimeltune/examples/gcc</span> <span style=\"color: #7f7f7f; text-decoration-color: #7f7f7f\">            </span>\n",
       "<span style=\"color: #7fbfbf; text-decoration-color: #7fbfbf\">           </span>         <span style=\"color: #800080; text-decoration-color: #800080; font-weight: bold\">/</span><span style=\"color: #ff00ff; text-decoration-color: #ff00ff; font-weight: bold\">eff6f57007e08e5007e6bd7146eecb694a031e68c6ec5593468f1bcd3be</span> <span style=\"color: #7f7f7f; text-decoration-color: #7f7f7f\">            </span>\n",
       "<span style=\"color: #7fbfbf; text-decoration-color: #7fbfbf\">           </span>         <span style=\"color: #ff00ff; text-decoration-color: #ff00ff; font-weight: bold\">e474132196.out</span><span style=\"color: #008080; text-decoration-color: #008080; font-weight: bold\"> </span><span style=\"color: #008080; text-decoration-color: #008080; font-weight: bold\">2</span><span style=\"color: #008080; text-decoration-color: #008080; font-weight: bold\">&gt;&amp;</span><span style=\"color: #008080; text-decoration-color: #008080; font-weight: bold\">1</span>                                          <span style=\"color: #7f7f7f; text-decoration-color: #7f7f7f\">            </span>\n",
       "</pre>\n"
      ],
      "text/plain": [
       "\u001b[2;36m          \u001b[0m\u001b[2;36m \u001b[0m\u001b[32mDEBUG   \u001b[0m RUN COMMAND:                                                 \u001b[2mrunner.py\u001b[0m\u001b[2m:\u001b[0m\u001b[2m79\u001b[0m\n",
       "\u001b[2;36m           \u001b[0m         \u001b[1;36mgtime -f \u001b[0m\u001b[32m'%e'\u001b[0m\u001b[1;36m \u001b[0m\u001b[1;35m/Users/qnbhd/Development/gimeltune/examples/gcc\u001b[0m \u001b[2m            \u001b[0m\n",
       "\u001b[2;36m           \u001b[0m         \u001b[1;35m/\u001b[0m\u001b[1;95meff6f57007e08e5007e6bd7146eecb694a031e68c6ec5593468f1bcd3be\u001b[0m \u001b[2m            \u001b[0m\n",
       "\u001b[2;36m           \u001b[0m         \u001b[1;95me474132196.out\u001b[0m\u001b[1;36m \u001b[0m\u001b[1;36m2\u001b[0m\u001b[1;36m>&\u001b[0m\u001b[1;36m1\u001b[0m                                          \u001b[2m            \u001b[0m\n"
      ]
     },
     "metadata": {},
     "output_type": "display_data"
    },
    {
     "data": {
      "text/html": [
       "<pre style=\"white-space:pre;overflow-x:auto;line-height:normal;font-family:Menlo,'DejaVu Sans Mono',consolas,'Courier New',monospace\"><span style=\"color: #7fbfbf; text-decoration-color: #7fbfbf\">[11:17:27] </span><span style=\"color: #000080; text-decoration-color: #000080\">INFO    </span> <span style=\"color: #808000; text-decoration-color: #808000; font-weight: bold\">OUT: </span><span style=\"color: #008080; text-decoration-color: #008080; font-weight: bold\">0.96</span>                                                    <span style=\"color: #7f7f7f; text-decoration-color: #7f7f7f\">runner.py:85</span>\n",
       "</pre>\n"
      ],
      "text/plain": [
       "\u001b[2;36m[11:17:27]\u001b[0m\u001b[2;36m \u001b[0m\u001b[34mINFO    \u001b[0m \u001b[1;33mOUT: \u001b[0m\u001b[1;36m0.96\u001b[0m                                                    \u001b[2mrunner.py\u001b[0m\u001b[2m:\u001b[0m\u001b[2m85\u001b[0m\n"
      ]
     },
     "metadata": {},
     "output_type": "display_data"
    },
    {
     "data": {
      "text/html": [
       "<pre style=\"white-space:pre;overflow-x:auto;line-height:normal;font-family:Menlo,'DejaVu Sans Mono',consolas,'Courier New',monospace\"><span style=\"color: #7fbfbf; text-decoration-color: #7fbfbf\">           </span><span style=\"color: #008000; text-decoration-color: #008000\">DEBUG   </span> RUN COMMAND:                                                 <span style=\"color: #7f7f7f; text-decoration-color: #7f7f7f\">runner.py:79</span>\n",
       "<span style=\"color: #7fbfbf; text-decoration-color: #7fbfbf\">           </span>         <span style=\"color: #008080; text-decoration-color: #008080; font-weight: bold\">rm </span><span style=\"color: #800080; text-decoration-color: #800080; font-weight: bold\">/Users/qnbhd/Development/gimeltune/examples/gcc/</span><span style=\"color: #ff00ff; text-decoration-color: #ff00ff; font-weight: bold\">eff6f57007</span> <span style=\"color: #7f7f7f; text-decoration-color: #7f7f7f\">            </span>\n",
       "<span style=\"color: #7fbfbf; text-decoration-color: #7fbfbf\">           </span>         <span style=\"color: #ff00ff; text-decoration-color: #ff00ff; font-weight: bold\">e08e5007e6bd7146eecb694a031e68c6ec5593468f1bcd3bee474132196.</span> <span style=\"color: #7f7f7f; text-decoration-color: #7f7f7f\">            </span>\n",
       "<span style=\"color: #7fbfbf; text-decoration-color: #7fbfbf\">           </span>         <span style=\"color: #ff00ff; text-decoration-color: #ff00ff; font-weight: bold\">out</span>                                                          <span style=\"color: #7f7f7f; text-decoration-color: #7f7f7f\">            </span>\n",
       "</pre>\n"
      ],
      "text/plain": [
       "\u001b[2;36m          \u001b[0m\u001b[2;36m \u001b[0m\u001b[32mDEBUG   \u001b[0m RUN COMMAND:                                                 \u001b[2mrunner.py\u001b[0m\u001b[2m:\u001b[0m\u001b[2m79\u001b[0m\n",
       "\u001b[2;36m           \u001b[0m         \u001b[1;36mrm \u001b[0m\u001b[1;35m/Users/qnbhd/Development/gimeltune/examples/gcc/\u001b[0m\u001b[1;95meff6f57007\u001b[0m \u001b[2m            \u001b[0m\n",
       "\u001b[2;36m           \u001b[0m         \u001b[1;95me08e5007e6bd7146eecb694a031e68c6ec5593468f1bcd3bee474132196.\u001b[0m \u001b[2m            \u001b[0m\n",
       "\u001b[2;36m           \u001b[0m         \u001b[1;95mout\u001b[0m                                                          \u001b[2m            \u001b[0m\n"
      ]
     },
     "metadata": {},
     "output_type": "display_data"
    },
    {
     "name": "stderr",
     "output_type": "stream",
     "text": [
      "/Users/qnbhd/Development/gimeltune/gimeltune/search/algorithms/skopt.py:58: UserWarning: Now per-emit count in skopt technique implemented not correctly. Per-emit count is property, return default value (1).\n",
      "  warnings.warn('Now per-emit count in skopt technique implemented not correctly.'\n"
     ]
    },
    {
     "data": {
      "text/html": [
       "<pre style=\"white-space:pre;overflow-x:auto;line-height:normal;font-family:Menlo,'DejaVu Sans Mono',consolas,'Courier New',monospace\"><span style=\"color: #7fbfbf; text-decoration-color: #7fbfbf\">           </span><span style=\"color: #000080; text-decoration-color: #000080\">INFO    </span> Trying experiment: <span style=\"color: #800080; text-decoration-color: #800080; font-weight: bold\">Experiment</span><span style=\"font-weight: bold\">({</span>                             <span style=\"color: #7f7f7f; text-decoration-color: #7f7f7f\">runner.py:156</span>\n",
       "<span style=\"color: #7fbfbf; text-decoration-color: #7fbfbf\">           </span>             <span style=\"color: #008000; text-decoration-color: #008000\">\"id\"</span>: <span style=\"color: #008080; text-decoration-color: #008080; font-weight: bold\">15</span>,                                               <span style=\"color: #7f7f7f; text-decoration-color: #7f7f7f\">             </span>\n",
       "<span style=\"color: #7fbfbf; text-decoration-color: #7fbfbf\">           </span>             <span style=\"color: #008000; text-decoration-color: #008000\">\"job_id\"</span>: <span style=\"color: #008080; text-decoration-color: #008080; font-weight: bold\">1</span>,                                            <span style=\"color: #7f7f7f; text-decoration-color: #7f7f7f\">             </span>\n",
       "<span style=\"color: #7fbfbf; text-decoration-color: #7fbfbf\">           </span>             <span style=\"color: #008000; text-decoration-color: #008000\">\"state\"</span>: <span style=\"color: #008000; text-decoration-color: #008000\">\"WIP\"</span>,                                         <span style=\"color: #7f7f7f; text-decoration-color: #7f7f7f\">             </span>\n",
       "<span style=\"color: #7fbfbf; text-decoration-color: #7fbfbf\">           </span>             <span style=\"color: #008000; text-decoration-color: #008000\">\"hash\"</span>: null,                                           <span style=\"color: #7f7f7f; text-decoration-color: #7f7f7f\">             </span>\n",
       "<span style=\"color: #7fbfbf; text-decoration-color: #7fbfbf\">           </span>             <span style=\"color: #008000; text-decoration-color: #008000\">\"objective_result\"</span>: null,                               <span style=\"color: #7f7f7f; text-decoration-color: #7f7f7f\">             </span>\n",
       "<span style=\"color: #7fbfbf; text-decoration-color: #7fbfbf\">           </span>             <span style=\"color: #008000; text-decoration-color: #008000\">\"params\"</span>: <span style=\"font-weight: bold\">{</span>                                             <span style=\"color: #7f7f7f; text-decoration-color: #7f7f7f\">             </span>\n",
       "<span style=\"color: #7fbfbf; text-decoration-color: #7fbfbf\">           </span>                 <span style=\"color: #008000; text-decoration-color: #008000\">\"-O\"</span>: <span style=\"color: #008000; text-decoration-color: #008000\">\"-O3\"</span>,                                        <span style=\"color: #7f7f7f; text-decoration-color: #7f7f7f\">             </span>\n",
       "<span style=\"color: #7fbfbf; text-decoration-color: #7fbfbf\">           </span>                 <span style=\"color: #008000; text-decoration-color: #008000\">\"align-functions\"</span>: <span style=\"color: #008000; text-decoration-color: #008000\">\"-fno-align-functions\"</span>,          <span style=\"color: #7f7f7f; text-decoration-color: #7f7f7f\">             </span>\n",
       "<span style=\"color: #7fbfbf; text-decoration-color: #7fbfbf\">           </span>                 <span style=\"color: #008000; text-decoration-color: #008000\">\"align-jumps\"</span>: <span style=\"color: #008000; text-decoration-color: #008000\">\"-fno-align-jumps\"</span>,                  <span style=\"color: #7f7f7f; text-decoration-color: #7f7f7f\">             </span>\n",
       "<span style=\"color: #7fbfbf; text-decoration-color: #7fbfbf\">           </span>                 <span style=\"color: #008000; text-decoration-color: #008000\">\"align-labels\"</span>: null,                               <span style=\"color: #7f7f7f; text-decoration-color: #7f7f7f\">             </span>\n",
       "<span style=\"color: #7fbfbf; text-decoration-color: #7fbfbf\">           </span>                 <span style=\"color: #008000; text-decoration-color: #008000\">\"asynchronous-unwind-tables\"</span>:                       <span style=\"color: #7f7f7f; text-decoration-color: #7f7f7f\">             </span>\n",
       "<span style=\"color: #7fbfbf; text-decoration-color: #7fbfbf\">           </span>         <span style=\"color: #008000; text-decoration-color: #008000\">\"-fasynchronous-unwind-tables\"</span>,                             <span style=\"color: #7f7f7f; text-decoration-color: #7f7f7f\">             </span>\n",
       "<span style=\"color: #7fbfbf; text-decoration-color: #7fbfbf\">           </span>                 <span style=\"color: #008000; text-decoration-color: #008000\">\"branch-count-reg\"</span>: <span style=\"color: #008000; text-decoration-color: #008000\">\"-fno-branch-count-reg\"</span>,        <span style=\"color: #7f7f7f; text-decoration-color: #7f7f7f\">             </span>\n",
       "<span style=\"color: #7fbfbf; text-decoration-color: #7fbfbf\">           </span>                 <span style=\"color: #008000; text-decoration-color: #008000\">\"branch-probabilities\"</span>:                             <span style=\"color: #7f7f7f; text-decoration-color: #7f7f7f\">             </span>\n",
       "<span style=\"color: #7fbfbf; text-decoration-color: #7fbfbf\">           </span>         <span style=\"color: #008000; text-decoration-color: #008000\">\"-fno-branch-probabilities\"</span>,                                <span style=\"color: #7f7f7f; text-decoration-color: #7f7f7f\">             </span>\n",
       "<span style=\"color: #7fbfbf; text-decoration-color: #7fbfbf\">           </span>                 <span style=\"color: #008000; text-decoration-color: #008000\">\"early-inlining-insns\"</span>: <span style=\"color: #008080; text-decoration-color: #008080; font-weight: bold\">614</span>,                        <span style=\"color: #7f7f7f; text-decoration-color: #7f7f7f\">             </span>\n",
       "<span style=\"color: #7fbfbf; text-decoration-color: #7fbfbf\">           </span>                 <span style=\"color: #008000; text-decoration-color: #008000\">\"gcse-cost-distance-ratio\"</span>: <span style=\"color: #008080; text-decoration-color: #008080; font-weight: bold\">26</span>,                     <span style=\"color: #7f7f7f; text-decoration-color: #7f7f7f\">             </span>\n",
       "<span style=\"color: #7fbfbf; text-decoration-color: #7fbfbf\">           </span>                 <span style=\"color: #008000; text-decoration-color: #008000\">\"iv-max-considered-uses\"</span>: <span style=\"color: #008080; text-decoration-color: #008080; font-weight: bold\">351</span>                       <span style=\"color: #7f7f7f; text-decoration-color: #7f7f7f\">             </span>\n",
       "<span style=\"color: #7fbfbf; text-decoration-color: #7fbfbf\">           </span>             <span style=\"font-weight: bold\">}</span>,                                                      <span style=\"color: #7f7f7f; text-decoration-color: #7f7f7f\">             </span>\n",
       "<span style=\"color: #7fbfbf; text-decoration-color: #7fbfbf\">           </span>             <span style=\"color: #008000; text-decoration-color: #008000\">\"requestor\"</span>: <span style=\"color: #008000; text-decoration-color: #008000\">\"SkoptBayesianAlgorithm\"</span>,                  <span style=\"color: #7f7f7f; text-decoration-color: #7f7f7f\">             </span>\n",
       "<span style=\"color: #7fbfbf; text-decoration-color: #7fbfbf\">           </span>             <span style=\"color: #008000; text-decoration-color: #008000\">\"create_timestamp\"</span>: <span style=\"color: #008080; text-decoration-color: #008080; font-weight: bold\">1645690647.404996</span>,                  <span style=\"color: #7f7f7f; text-decoration-color: #7f7f7f\">             </span>\n",
       "<span style=\"color: #7fbfbf; text-decoration-color: #7fbfbf\">           </span>             <span style=\"color: #008000; text-decoration-color: #008000\">\"finish_timestamp\"</span>: null                                <span style=\"color: #7f7f7f; text-decoration-color: #7f7f7f\">             </span>\n",
       "<span style=\"color: #7fbfbf; text-decoration-color: #7fbfbf\">           </span>         <span style=\"font-weight: bold\">})</span>                                                          <span style=\"color: #7f7f7f; text-decoration-color: #7f7f7f\">             </span>\n",
       "</pre>\n"
      ],
      "text/plain": [
       "\u001b[2;36m          \u001b[0m\u001b[2;36m \u001b[0m\u001b[34mINFO    \u001b[0m Trying experiment: \u001b[1;35mExperiment\u001b[0m\u001b[1m(\u001b[0m\u001b[1m{\u001b[0m                             \u001b[2mrunner.py\u001b[0m\u001b[2m:\u001b[0m\u001b[2m156\u001b[0m\n",
       "\u001b[2;36m           \u001b[0m             \u001b[32m\"id\"\u001b[0m: \u001b[1;36m15\u001b[0m,                                               \u001b[2m             \u001b[0m\n",
       "\u001b[2;36m           \u001b[0m             \u001b[32m\"job_id\"\u001b[0m: \u001b[1;36m1\u001b[0m,                                            \u001b[2m             \u001b[0m\n",
       "\u001b[2;36m           \u001b[0m             \u001b[32m\"state\"\u001b[0m: \u001b[32m\"WIP\"\u001b[0m,                                         \u001b[2m             \u001b[0m\n",
       "\u001b[2;36m           \u001b[0m             \u001b[32m\"hash\"\u001b[0m: null,                                           \u001b[2m             \u001b[0m\n",
       "\u001b[2;36m           \u001b[0m             \u001b[32m\"objective_result\"\u001b[0m: null,                               \u001b[2m             \u001b[0m\n",
       "\u001b[2;36m           \u001b[0m             \u001b[32m\"params\"\u001b[0m: \u001b[1m{\u001b[0m                                             \u001b[2m             \u001b[0m\n",
       "\u001b[2;36m           \u001b[0m                 \u001b[32m\"-O\"\u001b[0m: \u001b[32m\"-O3\"\u001b[0m,                                        \u001b[2m             \u001b[0m\n",
       "\u001b[2;36m           \u001b[0m                 \u001b[32m\"align-functions\"\u001b[0m: \u001b[32m\"-fno-align-functions\"\u001b[0m,          \u001b[2m             \u001b[0m\n",
       "\u001b[2;36m           \u001b[0m                 \u001b[32m\"align-jumps\"\u001b[0m: \u001b[32m\"-fno-align-jumps\"\u001b[0m,                  \u001b[2m             \u001b[0m\n",
       "\u001b[2;36m           \u001b[0m                 \u001b[32m\"align-labels\"\u001b[0m: null,                               \u001b[2m             \u001b[0m\n",
       "\u001b[2;36m           \u001b[0m                 \u001b[32m\"asynchronous-unwind-tables\"\u001b[0m:                       \u001b[2m             \u001b[0m\n",
       "\u001b[2;36m           \u001b[0m         \u001b[32m\"-fasynchronous-unwind-tables\"\u001b[0m,                             \u001b[2m             \u001b[0m\n",
       "\u001b[2;36m           \u001b[0m                 \u001b[32m\"branch-count-reg\"\u001b[0m: \u001b[32m\"-fno-branch-count-reg\"\u001b[0m,        \u001b[2m             \u001b[0m\n",
       "\u001b[2;36m           \u001b[0m                 \u001b[32m\"branch-probabilities\"\u001b[0m:                             \u001b[2m             \u001b[0m\n",
       "\u001b[2;36m           \u001b[0m         \u001b[32m\"-fno-branch-probabilities\"\u001b[0m,                                \u001b[2m             \u001b[0m\n",
       "\u001b[2;36m           \u001b[0m                 \u001b[32m\"early-inlining-insns\"\u001b[0m: \u001b[1;36m614\u001b[0m,                        \u001b[2m             \u001b[0m\n",
       "\u001b[2;36m           \u001b[0m                 \u001b[32m\"gcse-cost-distance-ratio\"\u001b[0m: \u001b[1;36m26\u001b[0m,                     \u001b[2m             \u001b[0m\n",
       "\u001b[2;36m           \u001b[0m                 \u001b[32m\"iv-max-considered-uses\"\u001b[0m: \u001b[1;36m351\u001b[0m                       \u001b[2m             \u001b[0m\n",
       "\u001b[2;36m           \u001b[0m             \u001b[1m}\u001b[0m,                                                      \u001b[2m             \u001b[0m\n",
       "\u001b[2;36m           \u001b[0m             \u001b[32m\"requestor\"\u001b[0m: \u001b[32m\"SkoptBayesianAlgorithm\"\u001b[0m,                  \u001b[2m             \u001b[0m\n",
       "\u001b[2;36m           \u001b[0m             \u001b[32m\"create_timestamp\"\u001b[0m: \u001b[1;36m1645690647.404996\u001b[0m,                  \u001b[2m             \u001b[0m\n",
       "\u001b[2;36m           \u001b[0m             \u001b[32m\"finish_timestamp\"\u001b[0m: null                                \u001b[2m             \u001b[0m\n",
       "\u001b[2;36m           \u001b[0m         \u001b[1m}\u001b[0m\u001b[1m)\u001b[0m                                                          \u001b[2m             \u001b[0m\n"
      ]
     },
     "metadata": {},
     "output_type": "display_data"
    },
    {
     "data": {
      "text/html": [
       "<pre style=\"white-space:pre;overflow-x:auto;line-height:normal;font-family:Menlo,'DejaVu Sans Mono',consolas,'Courier New',monospace\"><span style=\"color: #7fbfbf; text-decoration-color: #7fbfbf\">           </span><span style=\"color: #008000; text-decoration-color: #008000\">DEBUG   </span> RUN COMMAND:                                                 <span style=\"color: #7f7f7f; text-decoration-color: #7f7f7f\">runner.py:79</span>\n",
       "<span style=\"color: #7fbfbf; text-decoration-color: #7fbfbf\">           </span>         <span style=\"color: #008080; text-decoration-color: #008080; font-weight: bold\">gtime -f </span><span style=\"color: #008000; text-decoration-color: #008000\">'%e'</span><span style=\"color: #008080; text-decoration-color: #008080; font-weight: bold\"> g++</span><span style=\"color: #008080; text-decoration-color: #008080; font-weight: bold\">-11</span><span style=\"color: #008080; text-decoration-color: #008080; font-weight: bold\"> -o </span><span style=\"color: #800080; text-decoration-color: #800080; font-weight: bold\">/Users/qnbhd/Development/gimeltune/ex</span> <span style=\"color: #7f7f7f; text-decoration-color: #7f7f7f\">            </span>\n",
       "<span style=\"color: #7fbfbf; text-decoration-color: #7fbfbf\">           </span>         <span style=\"color: #800080; text-decoration-color: #800080; font-weight: bold\">amples/gcc/</span><span style=\"color: #ff00ff; text-decoration-color: #ff00ff; font-weight: bold\">e69d852b86ea82b9f0e209be77010701526636d8b836345ff</span> <span style=\"color: #7f7f7f; text-decoration-color: #7f7f7f\">            </span>\n",
       "<span style=\"color: #7fbfbf; text-decoration-color: #7fbfbf\">           </span>         <span style=\"color: #ff00ff; text-decoration-color: #ff00ff; font-weight: bold\">68ee8f6cf0e14b080945.out</span><span style=\"color: #008080; text-decoration-color: #008080; font-weight: bold\"> </span><span style=\"color: #800080; text-decoration-color: #800080; font-weight: bold\">/Users/qnbhd/Development/gimeltune/e</span> <span style=\"color: #7f7f7f; text-decoration-color: #7f7f7f\">            </span>\n",
       "<span style=\"color: #7fbfbf; text-decoration-color: #7fbfbf\">           </span>         <span style=\"color: #800080; text-decoration-color: #800080; font-weight: bold\">xamples/gcc/raytracer/</span><span style=\"color: #ff00ff; text-decoration-color: #ff00ff; font-weight: bold\">raytracer.cpp</span><span style=\"color: #008080; text-decoration-color: #008080; font-weight: bold\"> -O3 -fno-align-functions</span> <span style=\"color: #7f7f7f; text-decoration-color: #7f7f7f\">            </span>\n",
       "<span style=\"color: #7fbfbf; text-decoration-color: #7fbfbf\">           </span>         <span style=\"color: #008080; text-decoration-color: #008080; font-weight: bold\">-fno-align-jumps  -fasynchronous-unwind-tables </span>              <span style=\"color: #7f7f7f; text-decoration-color: #7f7f7f\">            </span>\n",
       "<span style=\"color: #7fbfbf; text-decoration-color: #7fbfbf\">           </span>         <span style=\"color: #008080; text-decoration-color: #008080; font-weight: bold\">-fno-branch-count-reg -fno-branch-probabilities --param </span>     <span style=\"color: #7f7f7f; text-decoration-color: #7f7f7f\">            </span>\n",
       "<span style=\"color: #7fbfbf; text-decoration-color: #7fbfbf\">           </span>         <span style=\"color: #008080; text-decoration-color: #008080; font-weight: bold\">early-inlining-</span><span style=\"color: #808000; text-decoration-color: #808000; font-weight: bold\">insns</span><span style=\"color: #008080; text-decoration-color: #008080; font-weight: bold\">=</span><span style=\"color: #008080; text-decoration-color: #008080; font-weight: bold\">614</span><span style=\"color: #008080; text-decoration-color: #008080; font-weight: bold\"> --param gcse-cost-distance-</span><span style=\"color: #808000; text-decoration-color: #808000; font-weight: bold\">ratio</span><span style=\"color: #008080; text-decoration-color: #008080; font-weight: bold\">=</span><span style=\"color: #008080; text-decoration-color: #008080; font-weight: bold\">26</span> <span style=\"color: #7f7f7f; text-decoration-color: #7f7f7f\">            </span>\n",
       "<span style=\"color: #7fbfbf; text-decoration-color: #7fbfbf\">           </span>         <span style=\"color: #008080; text-decoration-color: #008080; font-weight: bold\">--param iv-max-considered-</span><span style=\"color: #808000; text-decoration-color: #808000; font-weight: bold\">uses</span><span style=\"color: #008080; text-decoration-color: #008080; font-weight: bold\">=</span><span style=\"color: #008080; text-decoration-color: #008080; font-weight: bold\">351</span><span style=\"color: #008080; text-decoration-color: #008080; font-weight: bold\"> </span><span style=\"color: #008080; text-decoration-color: #008080; font-weight: bold\">2</span><span style=\"color: #008080; text-decoration-color: #008080; font-weight: bold\">&gt;&amp;</span><span style=\"color: #008080; text-decoration-color: #008080; font-weight: bold\">1</span>                      <span style=\"color: #7f7f7f; text-decoration-color: #7f7f7f\">            </span>\n",
       "</pre>\n"
      ],
      "text/plain": [
       "\u001b[2;36m          \u001b[0m\u001b[2;36m \u001b[0m\u001b[32mDEBUG   \u001b[0m RUN COMMAND:                                                 \u001b[2mrunner.py\u001b[0m\u001b[2m:\u001b[0m\u001b[2m79\u001b[0m\n",
       "\u001b[2;36m           \u001b[0m         \u001b[1;36mgtime -f \u001b[0m\u001b[32m'%e'\u001b[0m\u001b[1;36m g++\u001b[0m\u001b[1;36m-11\u001b[0m\u001b[1;36m -o \u001b[0m\u001b[1;35m/Users/qnbhd/Development/gimeltune/ex\u001b[0m \u001b[2m            \u001b[0m\n",
       "\u001b[2;36m           \u001b[0m         \u001b[1;35mamples/gcc/\u001b[0m\u001b[1;95me69d852b86ea82b9f0e209be77010701526636d8b836345ff\u001b[0m \u001b[2m            \u001b[0m\n",
       "\u001b[2;36m           \u001b[0m         \u001b[1;95m68ee8f6cf0e14b080945.out\u001b[0m\u001b[1;36m \u001b[0m\u001b[1;35m/Users/qnbhd/Development/gimeltune/e\u001b[0m \u001b[2m            \u001b[0m\n",
       "\u001b[2;36m           \u001b[0m         \u001b[1;35mxamples/gcc/raytracer/\u001b[0m\u001b[1;95mraytracer.cpp\u001b[0m\u001b[1;36m -O3 -fno-align-functions\u001b[0m \u001b[2m            \u001b[0m\n",
       "\u001b[2;36m           \u001b[0m         \u001b[1;36m-fno-align-jumps  -fasynchronous-unwind-tables \u001b[0m              \u001b[2m            \u001b[0m\n",
       "\u001b[2;36m           \u001b[0m         \u001b[1;36m-fno-branch-count-reg -fno-branch-probabilities --param \u001b[0m     \u001b[2m            \u001b[0m\n",
       "\u001b[2;36m           \u001b[0m         \u001b[1;36mearly-inlining-\u001b[0m\u001b[1;33minsns\u001b[0m\u001b[1;36m=\u001b[0m\u001b[1;36m614\u001b[0m\u001b[1;36m --param gcse-cost-distance-\u001b[0m\u001b[1;33mratio\u001b[0m\u001b[1;36m=\u001b[0m\u001b[1;36m26\u001b[0m \u001b[2m            \u001b[0m\n",
       "\u001b[2;36m           \u001b[0m         \u001b[1;36m--param iv-max-considered-\u001b[0m\u001b[1;33muses\u001b[0m\u001b[1;36m=\u001b[0m\u001b[1;36m351\u001b[0m\u001b[1;36m \u001b[0m\u001b[1;36m2\u001b[0m\u001b[1;36m>&\u001b[0m\u001b[1;36m1\u001b[0m                      \u001b[2m            \u001b[0m\n"
      ]
     },
     "metadata": {},
     "output_type": "display_data"
    },
    {
     "data": {
      "text/html": [
       "<pre style=\"white-space:pre;overflow-x:auto;line-height:normal;font-family:Menlo,'DejaVu Sans Mono',consolas,'Courier New',monospace\"><span style=\"color: #7fbfbf; text-decoration-color: #7fbfbf\">[11:17:28] </span><span style=\"color: #000080; text-decoration-color: #000080\">INFO    </span> <span style=\"color: #808000; text-decoration-color: #808000; font-weight: bold\">OUT: </span><span style=\"color: #008080; text-decoration-color: #008080; font-weight: bold\">0.95</span>                                                    <span style=\"color: #7f7f7f; text-decoration-color: #7f7f7f\">runner.py:85</span>\n",
       "</pre>\n"
      ],
      "text/plain": [
       "\u001b[2;36m[11:17:28]\u001b[0m\u001b[2;36m \u001b[0m\u001b[34mINFO    \u001b[0m \u001b[1;33mOUT: \u001b[0m\u001b[1;36m0.95\u001b[0m                                                    \u001b[2mrunner.py\u001b[0m\u001b[2m:\u001b[0m\u001b[2m85\u001b[0m\n"
      ]
     },
     "metadata": {},
     "output_type": "display_data"
    },
    {
     "data": {
      "text/html": [
       "<pre style=\"white-space:pre;overflow-x:auto;line-height:normal;font-family:Menlo,'DejaVu Sans Mono',consolas,'Courier New',monospace\"><span style=\"color: #7fbfbf; text-decoration-color: #7fbfbf\">           </span><span style=\"color: #008000; text-decoration-color: #008000\">DEBUG   </span> RUN COMMAND:                                                 <span style=\"color: #7f7f7f; text-decoration-color: #7f7f7f\">runner.py:79</span>\n",
       "<span style=\"color: #7fbfbf; text-decoration-color: #7fbfbf\">           </span>         <span style=\"color: #008080; text-decoration-color: #008080; font-weight: bold\">wc -c </span><span style=\"color: #800080; text-decoration-color: #800080; font-weight: bold\">/Users/qnbhd/Development/gimeltune/examples/gcc/</span><span style=\"color: #ff00ff; text-decoration-color: #ff00ff; font-weight: bold\">e69d852</span> <span style=\"color: #7f7f7f; text-decoration-color: #7f7f7f\">            </span>\n",
       "<span style=\"color: #7fbfbf; text-decoration-color: #7fbfbf\">           </span>         <span style=\"color: #ff00ff; text-decoration-color: #ff00ff; font-weight: bold\">b86ea82b9f0e209be77010701526636d8b836345ff68ee8f6cf0e14b0809</span> <span style=\"color: #7f7f7f; text-decoration-color: #7f7f7f\">            </span>\n",
       "<span style=\"color: #7fbfbf; text-decoration-color: #7fbfbf\">           </span>         <span style=\"color: #ff00ff; text-decoration-color: #ff00ff; font-weight: bold\">45.out</span><span style=\"color: #008080; text-decoration-color: #008080; font-weight: bold\"> | awk </span><span style=\"color: #008000; text-decoration-color: #008000\">'{print $1}'</span>                                    <span style=\"color: #7f7f7f; text-decoration-color: #7f7f7f\">            </span>\n",
       "</pre>\n"
      ],
      "text/plain": [
       "\u001b[2;36m          \u001b[0m\u001b[2;36m \u001b[0m\u001b[32mDEBUG   \u001b[0m RUN COMMAND:                                                 \u001b[2mrunner.py\u001b[0m\u001b[2m:\u001b[0m\u001b[2m79\u001b[0m\n",
       "\u001b[2;36m           \u001b[0m         \u001b[1;36mwc -c \u001b[0m\u001b[1;35m/Users/qnbhd/Development/gimeltune/examples/gcc/\u001b[0m\u001b[1;95me69d852\u001b[0m \u001b[2m            \u001b[0m\n",
       "\u001b[2;36m           \u001b[0m         \u001b[1;95mb86ea82b9f0e209be77010701526636d8b836345ff68ee8f6cf0e14b0809\u001b[0m \u001b[2m            \u001b[0m\n",
       "\u001b[2;36m           \u001b[0m         \u001b[1;95m45.out\u001b[0m\u001b[1;36m | awk \u001b[0m\u001b[32m'\u001b[0m\u001b[32m{\u001b[0m\u001b[32mprint $1\u001b[0m\u001b[32m}\u001b[0m\u001b[32m'\u001b[0m                                    \u001b[2m            \u001b[0m\n"
      ]
     },
     "metadata": {},
     "output_type": "display_data"
    },
    {
     "data": {
      "text/html": [
       "<pre style=\"white-space:pre;overflow-x:auto;line-height:normal;font-family:Menlo,'DejaVu Sans Mono',consolas,'Courier New',monospace\"><span style=\"color: #7fbfbf; text-decoration-color: #7fbfbf\">           </span><span style=\"color: #000080; text-decoration-color: #000080\">INFO    </span> <span style=\"color: #808000; text-decoration-color: #808000; font-weight: bold\">OUT: </span><span style=\"color: #008080; text-decoration-color: #008080; font-weight: bold\">50904</span>                                                   <span style=\"color: #7f7f7f; text-decoration-color: #7f7f7f\">runner.py:85</span>\n",
       "</pre>\n"
      ],
      "text/plain": [
       "\u001b[2;36m          \u001b[0m\u001b[2;36m \u001b[0m\u001b[34mINFO    \u001b[0m \u001b[1;33mOUT: \u001b[0m\u001b[1;36m50904\u001b[0m                                                   \u001b[2mrunner.py\u001b[0m\u001b[2m:\u001b[0m\u001b[2m85\u001b[0m\n"
      ]
     },
     "metadata": {},
     "output_type": "display_data"
    },
    {
     "data": {
      "text/html": [
       "<pre style=\"white-space:pre;overflow-x:auto;line-height:normal;font-family:Menlo,'DejaVu Sans Mono',consolas,'Courier New',monospace\"><span style=\"color: #7fbfbf; text-decoration-color: #7fbfbf\">           </span><span style=\"color: #008000; text-decoration-color: #008000\">DEBUG   </span> RUN COMMAND:                                                 <span style=\"color: #7f7f7f; text-decoration-color: #7f7f7f\">runner.py:79</span>\n",
       "<span style=\"color: #7fbfbf; text-decoration-color: #7fbfbf\">           </span>         <span style=\"color: #008080; text-decoration-color: #008080; font-weight: bold\">gtime -f </span><span style=\"color: #008000; text-decoration-color: #008000\">'%e'</span><span style=\"color: #008080; text-decoration-color: #008080; font-weight: bold\"> </span><span style=\"color: #800080; text-decoration-color: #800080; font-weight: bold\">/Users/qnbhd/Development/gimeltune/examples/gcc</span> <span style=\"color: #7f7f7f; text-decoration-color: #7f7f7f\">            </span>\n",
       "<span style=\"color: #7fbfbf; text-decoration-color: #7fbfbf\">           </span>         <span style=\"color: #800080; text-decoration-color: #800080; font-weight: bold\">/</span><span style=\"color: #ff00ff; text-decoration-color: #ff00ff; font-weight: bold\">e69d852b86ea82b9f0e209be77010701526636d8b836345ff68ee8f6cf0</span> <span style=\"color: #7f7f7f; text-decoration-color: #7f7f7f\">            </span>\n",
       "<span style=\"color: #7fbfbf; text-decoration-color: #7fbfbf\">           </span>         <span style=\"color: #ff00ff; text-decoration-color: #ff00ff; font-weight: bold\">e14b080945.out</span><span style=\"color: #008080; text-decoration-color: #008080; font-weight: bold\"> </span><span style=\"color: #008080; text-decoration-color: #008080; font-weight: bold\">2</span><span style=\"color: #008080; text-decoration-color: #008080; font-weight: bold\">&gt;&amp;</span><span style=\"color: #008080; text-decoration-color: #008080; font-weight: bold\">1</span>                                          <span style=\"color: #7f7f7f; text-decoration-color: #7f7f7f\">            </span>\n",
       "</pre>\n"
      ],
      "text/plain": [
       "\u001b[2;36m          \u001b[0m\u001b[2;36m \u001b[0m\u001b[32mDEBUG   \u001b[0m RUN COMMAND:                                                 \u001b[2mrunner.py\u001b[0m\u001b[2m:\u001b[0m\u001b[2m79\u001b[0m\n",
       "\u001b[2;36m           \u001b[0m         \u001b[1;36mgtime -f \u001b[0m\u001b[32m'%e'\u001b[0m\u001b[1;36m \u001b[0m\u001b[1;35m/Users/qnbhd/Development/gimeltune/examples/gcc\u001b[0m \u001b[2m            \u001b[0m\n",
       "\u001b[2;36m           \u001b[0m         \u001b[1;35m/\u001b[0m\u001b[1;95me69d852b86ea82b9f0e209be77010701526636d8b836345ff68ee8f6cf0\u001b[0m \u001b[2m            \u001b[0m\n",
       "\u001b[2;36m           \u001b[0m         \u001b[1;95me14b080945.out\u001b[0m\u001b[1;36m \u001b[0m\u001b[1;36m2\u001b[0m\u001b[1;36m>&\u001b[0m\u001b[1;36m1\u001b[0m                                          \u001b[2m            \u001b[0m\n"
      ]
     },
     "metadata": {},
     "output_type": "display_data"
    },
    {
     "data": {
      "text/html": [
       "<pre style=\"white-space:pre;overflow-x:auto;line-height:normal;font-family:Menlo,'DejaVu Sans Mono',consolas,'Courier New',monospace\"><span style=\"color: #7fbfbf; text-decoration-color: #7fbfbf\">           </span><span style=\"color: #000080; text-decoration-color: #000080\">INFO    </span> <span style=\"color: #808000; text-decoration-color: #808000; font-weight: bold\">OUT: </span><span style=\"color: #008080; text-decoration-color: #008080; font-weight: bold\">0.31</span>                                                    <span style=\"color: #7f7f7f; text-decoration-color: #7f7f7f\">runner.py:85</span>\n",
       "</pre>\n"
      ],
      "text/plain": [
       "\u001b[2;36m          \u001b[0m\u001b[2;36m \u001b[0m\u001b[34mINFO    \u001b[0m \u001b[1;33mOUT: \u001b[0m\u001b[1;36m0.31\u001b[0m                                                    \u001b[2mrunner.py\u001b[0m\u001b[2m:\u001b[0m\u001b[2m85\u001b[0m\n"
      ]
     },
     "metadata": {},
     "output_type": "display_data"
    },
    {
     "data": {
      "text/html": [
       "<pre style=\"white-space:pre;overflow-x:auto;line-height:normal;font-family:Menlo,'DejaVu Sans Mono',consolas,'Courier New',monospace\"><span style=\"color: #7fbfbf; text-decoration-color: #7fbfbf\">           </span><span style=\"color: #008000; text-decoration-color: #008000\">DEBUG   </span> RUN COMMAND:                                                 <span style=\"color: #7f7f7f; text-decoration-color: #7f7f7f\">runner.py:79</span>\n",
       "<span style=\"color: #7fbfbf; text-decoration-color: #7fbfbf\">           </span>         <span style=\"color: #008080; text-decoration-color: #008080; font-weight: bold\">gtime -f </span><span style=\"color: #008000; text-decoration-color: #008000\">'%e'</span><span style=\"color: #008080; text-decoration-color: #008080; font-weight: bold\"> </span><span style=\"color: #800080; text-decoration-color: #800080; font-weight: bold\">/Users/qnbhd/Development/gimeltune/examples/gcc</span> <span style=\"color: #7f7f7f; text-decoration-color: #7f7f7f\">            </span>\n",
       "<span style=\"color: #7fbfbf; text-decoration-color: #7fbfbf\">           </span>         <span style=\"color: #800080; text-decoration-color: #800080; font-weight: bold\">/</span><span style=\"color: #ff00ff; text-decoration-color: #ff00ff; font-weight: bold\">e69d852b86ea82b9f0e209be77010701526636d8b836345ff68ee8f6cf0</span> <span style=\"color: #7f7f7f; text-decoration-color: #7f7f7f\">            </span>\n",
       "<span style=\"color: #7fbfbf; text-decoration-color: #7fbfbf\">           </span>         <span style=\"color: #ff00ff; text-decoration-color: #ff00ff; font-weight: bold\">e14b080945.out</span><span style=\"color: #008080; text-decoration-color: #008080; font-weight: bold\"> </span><span style=\"color: #008080; text-decoration-color: #008080; font-weight: bold\">2</span><span style=\"color: #008080; text-decoration-color: #008080; font-weight: bold\">&gt;&amp;</span><span style=\"color: #008080; text-decoration-color: #008080; font-weight: bold\">1</span>                                          <span style=\"color: #7f7f7f; text-decoration-color: #7f7f7f\">            </span>\n",
       "</pre>\n"
      ],
      "text/plain": [
       "\u001b[2;36m          \u001b[0m\u001b[2;36m \u001b[0m\u001b[32mDEBUG   \u001b[0m RUN COMMAND:                                                 \u001b[2mrunner.py\u001b[0m\u001b[2m:\u001b[0m\u001b[2m79\u001b[0m\n",
       "\u001b[2;36m           \u001b[0m         \u001b[1;36mgtime -f \u001b[0m\u001b[32m'%e'\u001b[0m\u001b[1;36m \u001b[0m\u001b[1;35m/Users/qnbhd/Development/gimeltune/examples/gcc\u001b[0m \u001b[2m            \u001b[0m\n",
       "\u001b[2;36m           \u001b[0m         \u001b[1;35m/\u001b[0m\u001b[1;95me69d852b86ea82b9f0e209be77010701526636d8b836345ff68ee8f6cf0\u001b[0m \u001b[2m            \u001b[0m\n",
       "\u001b[2;36m           \u001b[0m         \u001b[1;95me14b080945.out\u001b[0m\u001b[1;36m \u001b[0m\u001b[1;36m2\u001b[0m\u001b[1;36m>&\u001b[0m\u001b[1;36m1\u001b[0m                                          \u001b[2m            \u001b[0m\n"
      ]
     },
     "metadata": {},
     "output_type": "display_data"
    },
    {
     "data": {
      "text/html": [
       "<pre style=\"white-space:pre;overflow-x:auto;line-height:normal;font-family:Menlo,'DejaVu Sans Mono',consolas,'Courier New',monospace\"><span style=\"color: #7fbfbf; text-decoration-color: #7fbfbf\">           </span><span style=\"color: #000080; text-decoration-color: #000080\">INFO    </span> <span style=\"color: #808000; text-decoration-color: #808000; font-weight: bold\">OUT: </span><span style=\"color: #008080; text-decoration-color: #008080; font-weight: bold\">0.11</span>                                                    <span style=\"color: #7f7f7f; text-decoration-color: #7f7f7f\">runner.py:85</span>\n",
       "</pre>\n"
      ],
      "text/plain": [
       "\u001b[2;36m          \u001b[0m\u001b[2;36m \u001b[0m\u001b[34mINFO    \u001b[0m \u001b[1;33mOUT: \u001b[0m\u001b[1;36m0.11\u001b[0m                                                    \u001b[2mrunner.py\u001b[0m\u001b[2m:\u001b[0m\u001b[2m85\u001b[0m\n"
      ]
     },
     "metadata": {},
     "output_type": "display_data"
    },
    {
     "data": {
      "text/html": [
       "<pre style=\"white-space:pre;overflow-x:auto;line-height:normal;font-family:Menlo,'DejaVu Sans Mono',consolas,'Courier New',monospace\"><span style=\"color: #7fbfbf; text-decoration-color: #7fbfbf\">           </span><span style=\"color: #008000; text-decoration-color: #008000\">DEBUG   </span> RUN COMMAND:                                                 <span style=\"color: #7f7f7f; text-decoration-color: #7f7f7f\">runner.py:79</span>\n",
       "<span style=\"color: #7fbfbf; text-decoration-color: #7fbfbf\">           </span>         <span style=\"color: #008080; text-decoration-color: #008080; font-weight: bold\">gtime -f </span><span style=\"color: #008000; text-decoration-color: #008000\">'%e'</span><span style=\"color: #008080; text-decoration-color: #008080; font-weight: bold\"> </span><span style=\"color: #800080; text-decoration-color: #800080; font-weight: bold\">/Users/qnbhd/Development/gimeltune/examples/gcc</span> <span style=\"color: #7f7f7f; text-decoration-color: #7f7f7f\">            </span>\n",
       "<span style=\"color: #7fbfbf; text-decoration-color: #7fbfbf\">           </span>         <span style=\"color: #800080; text-decoration-color: #800080; font-weight: bold\">/</span><span style=\"color: #ff00ff; text-decoration-color: #ff00ff; font-weight: bold\">e69d852b86ea82b9f0e209be77010701526636d8b836345ff68ee8f6cf0</span> <span style=\"color: #7f7f7f; text-decoration-color: #7f7f7f\">            </span>\n",
       "<span style=\"color: #7fbfbf; text-decoration-color: #7fbfbf\">           </span>         <span style=\"color: #ff00ff; text-decoration-color: #ff00ff; font-weight: bold\">e14b080945.out</span><span style=\"color: #008080; text-decoration-color: #008080; font-weight: bold\"> </span><span style=\"color: #008080; text-decoration-color: #008080; font-weight: bold\">2</span><span style=\"color: #008080; text-decoration-color: #008080; font-weight: bold\">&gt;&amp;</span><span style=\"color: #008080; text-decoration-color: #008080; font-weight: bold\">1</span>                                          <span style=\"color: #7f7f7f; text-decoration-color: #7f7f7f\">            </span>\n",
       "</pre>\n"
      ],
      "text/plain": [
       "\u001b[2;36m          \u001b[0m\u001b[2;36m \u001b[0m\u001b[32mDEBUG   \u001b[0m RUN COMMAND:                                                 \u001b[2mrunner.py\u001b[0m\u001b[2m:\u001b[0m\u001b[2m79\u001b[0m\n",
       "\u001b[2;36m           \u001b[0m         \u001b[1;36mgtime -f \u001b[0m\u001b[32m'%e'\u001b[0m\u001b[1;36m \u001b[0m\u001b[1;35m/Users/qnbhd/Development/gimeltune/examples/gcc\u001b[0m \u001b[2m            \u001b[0m\n",
       "\u001b[2;36m           \u001b[0m         \u001b[1;35m/\u001b[0m\u001b[1;95me69d852b86ea82b9f0e209be77010701526636d8b836345ff68ee8f6cf0\u001b[0m \u001b[2m            \u001b[0m\n",
       "\u001b[2;36m           \u001b[0m         \u001b[1;95me14b080945.out\u001b[0m\u001b[1;36m \u001b[0m\u001b[1;36m2\u001b[0m\u001b[1;36m>&\u001b[0m\u001b[1;36m1\u001b[0m                                          \u001b[2m            \u001b[0m\n"
      ]
     },
     "metadata": {},
     "output_type": "display_data"
    },
    {
     "data": {
      "text/html": [
       "<pre style=\"white-space:pre;overflow-x:auto;line-height:normal;font-family:Menlo,'DejaVu Sans Mono',consolas,'Courier New',monospace\"><span style=\"color: #7fbfbf; text-decoration-color: #7fbfbf\">[11:17:29] </span><span style=\"color: #000080; text-decoration-color: #000080\">INFO    </span> <span style=\"color: #808000; text-decoration-color: #808000; font-weight: bold\">OUT: </span><span style=\"color: #008080; text-decoration-color: #008080; font-weight: bold\">0.11</span>                                                    <span style=\"color: #7f7f7f; text-decoration-color: #7f7f7f\">runner.py:85</span>\n",
       "</pre>\n"
      ],
      "text/plain": [
       "\u001b[2;36m[11:17:29]\u001b[0m\u001b[2;36m \u001b[0m\u001b[34mINFO    \u001b[0m \u001b[1;33mOUT: \u001b[0m\u001b[1;36m0.11\u001b[0m                                                    \u001b[2mrunner.py\u001b[0m\u001b[2m:\u001b[0m\u001b[2m85\u001b[0m\n"
      ]
     },
     "metadata": {},
     "output_type": "display_data"
    },
    {
     "data": {
      "text/html": [
       "<pre style=\"white-space:pre;overflow-x:auto;line-height:normal;font-family:Menlo,'DejaVu Sans Mono',consolas,'Courier New',monospace\"><span style=\"color: #7fbfbf; text-decoration-color: #7fbfbf\">           </span><span style=\"color: #008000; text-decoration-color: #008000\">DEBUG   </span> RUN COMMAND:                                                 <span style=\"color: #7f7f7f; text-decoration-color: #7f7f7f\">runner.py:79</span>\n",
       "<span style=\"color: #7fbfbf; text-decoration-color: #7fbfbf\">           </span>         <span style=\"color: #008080; text-decoration-color: #008080; font-weight: bold\">gtime -f </span><span style=\"color: #008000; text-decoration-color: #008000\">'%e'</span><span style=\"color: #008080; text-decoration-color: #008080; font-weight: bold\"> </span><span style=\"color: #800080; text-decoration-color: #800080; font-weight: bold\">/Users/qnbhd/Development/gimeltune/examples/gcc</span> <span style=\"color: #7f7f7f; text-decoration-color: #7f7f7f\">            </span>\n",
       "<span style=\"color: #7fbfbf; text-decoration-color: #7fbfbf\">           </span>         <span style=\"color: #800080; text-decoration-color: #800080; font-weight: bold\">/</span><span style=\"color: #ff00ff; text-decoration-color: #ff00ff; font-weight: bold\">e69d852b86ea82b9f0e209be77010701526636d8b836345ff68ee8f6cf0</span> <span style=\"color: #7f7f7f; text-decoration-color: #7f7f7f\">            </span>\n",
       "<span style=\"color: #7fbfbf; text-decoration-color: #7fbfbf\">           </span>         <span style=\"color: #ff00ff; text-decoration-color: #ff00ff; font-weight: bold\">e14b080945.out</span><span style=\"color: #008080; text-decoration-color: #008080; font-weight: bold\"> </span><span style=\"color: #008080; text-decoration-color: #008080; font-weight: bold\">2</span><span style=\"color: #008080; text-decoration-color: #008080; font-weight: bold\">&gt;&amp;</span><span style=\"color: #008080; text-decoration-color: #008080; font-weight: bold\">1</span>                                          <span style=\"color: #7f7f7f; text-decoration-color: #7f7f7f\">            </span>\n",
       "</pre>\n"
      ],
      "text/plain": [
       "\u001b[2;36m          \u001b[0m\u001b[2;36m \u001b[0m\u001b[32mDEBUG   \u001b[0m RUN COMMAND:                                                 \u001b[2mrunner.py\u001b[0m\u001b[2m:\u001b[0m\u001b[2m79\u001b[0m\n",
       "\u001b[2;36m           \u001b[0m         \u001b[1;36mgtime -f \u001b[0m\u001b[32m'%e'\u001b[0m\u001b[1;36m \u001b[0m\u001b[1;35m/Users/qnbhd/Development/gimeltune/examples/gcc\u001b[0m \u001b[2m            \u001b[0m\n",
       "\u001b[2;36m           \u001b[0m         \u001b[1;35m/\u001b[0m\u001b[1;95me69d852b86ea82b9f0e209be77010701526636d8b836345ff68ee8f6cf0\u001b[0m \u001b[2m            \u001b[0m\n",
       "\u001b[2;36m           \u001b[0m         \u001b[1;95me14b080945.out\u001b[0m\u001b[1;36m \u001b[0m\u001b[1;36m2\u001b[0m\u001b[1;36m>&\u001b[0m\u001b[1;36m1\u001b[0m                                          \u001b[2m            \u001b[0m\n"
      ]
     },
     "metadata": {},
     "output_type": "display_data"
    },
    {
     "data": {
      "text/html": [
       "<pre style=\"white-space:pre;overflow-x:auto;line-height:normal;font-family:Menlo,'DejaVu Sans Mono',consolas,'Courier New',monospace\"><span style=\"color: #7fbfbf; text-decoration-color: #7fbfbf\">           </span><span style=\"color: #000080; text-decoration-color: #000080\">INFO    </span> <span style=\"color: #808000; text-decoration-color: #808000; font-weight: bold\">OUT: </span><span style=\"color: #008080; text-decoration-color: #008080; font-weight: bold\">0.10</span>                                                    <span style=\"color: #7f7f7f; text-decoration-color: #7f7f7f\">runner.py:85</span>\n",
       "</pre>\n"
      ],
      "text/plain": [
       "\u001b[2;36m          \u001b[0m\u001b[2;36m \u001b[0m\u001b[34mINFO    \u001b[0m \u001b[1;33mOUT: \u001b[0m\u001b[1;36m0.10\u001b[0m                                                    \u001b[2mrunner.py\u001b[0m\u001b[2m:\u001b[0m\u001b[2m85\u001b[0m\n"
      ]
     },
     "metadata": {},
     "output_type": "display_data"
    },
    {
     "data": {
      "text/html": [
       "<pre style=\"white-space:pre;overflow-x:auto;line-height:normal;font-family:Menlo,'DejaVu Sans Mono',consolas,'Courier New',monospace\"><span style=\"color: #7fbfbf; text-decoration-color: #7fbfbf\">           </span><span style=\"color: #008000; text-decoration-color: #008000\">DEBUG   </span> RUN COMMAND:                                                 <span style=\"color: #7f7f7f; text-decoration-color: #7f7f7f\">runner.py:79</span>\n",
       "<span style=\"color: #7fbfbf; text-decoration-color: #7fbfbf\">           </span>         <span style=\"color: #008080; text-decoration-color: #008080; font-weight: bold\">gtime -f </span><span style=\"color: #008000; text-decoration-color: #008000\">'%e'</span><span style=\"color: #008080; text-decoration-color: #008080; font-weight: bold\"> </span><span style=\"color: #800080; text-decoration-color: #800080; font-weight: bold\">/Users/qnbhd/Development/gimeltune/examples/gcc</span> <span style=\"color: #7f7f7f; text-decoration-color: #7f7f7f\">            </span>\n",
       "<span style=\"color: #7fbfbf; text-decoration-color: #7fbfbf\">           </span>         <span style=\"color: #800080; text-decoration-color: #800080; font-weight: bold\">/</span><span style=\"color: #ff00ff; text-decoration-color: #ff00ff; font-weight: bold\">e69d852b86ea82b9f0e209be77010701526636d8b836345ff68ee8f6cf0</span> <span style=\"color: #7f7f7f; text-decoration-color: #7f7f7f\">            </span>\n",
       "<span style=\"color: #7fbfbf; text-decoration-color: #7fbfbf\">           </span>         <span style=\"color: #ff00ff; text-decoration-color: #ff00ff; font-weight: bold\">e14b080945.out</span><span style=\"color: #008080; text-decoration-color: #008080; font-weight: bold\"> </span><span style=\"color: #008080; text-decoration-color: #008080; font-weight: bold\">2</span><span style=\"color: #008080; text-decoration-color: #008080; font-weight: bold\">&gt;&amp;</span><span style=\"color: #008080; text-decoration-color: #008080; font-weight: bold\">1</span>                                          <span style=\"color: #7f7f7f; text-decoration-color: #7f7f7f\">            </span>\n",
       "</pre>\n"
      ],
      "text/plain": [
       "\u001b[2;36m          \u001b[0m\u001b[2;36m \u001b[0m\u001b[32mDEBUG   \u001b[0m RUN COMMAND:                                                 \u001b[2mrunner.py\u001b[0m\u001b[2m:\u001b[0m\u001b[2m79\u001b[0m\n",
       "\u001b[2;36m           \u001b[0m         \u001b[1;36mgtime -f \u001b[0m\u001b[32m'%e'\u001b[0m\u001b[1;36m \u001b[0m\u001b[1;35m/Users/qnbhd/Development/gimeltune/examples/gcc\u001b[0m \u001b[2m            \u001b[0m\n",
       "\u001b[2;36m           \u001b[0m         \u001b[1;35m/\u001b[0m\u001b[1;95me69d852b86ea82b9f0e209be77010701526636d8b836345ff68ee8f6cf0\u001b[0m \u001b[2m            \u001b[0m\n",
       "\u001b[2;36m           \u001b[0m         \u001b[1;95me14b080945.out\u001b[0m\u001b[1;36m \u001b[0m\u001b[1;36m2\u001b[0m\u001b[1;36m>&\u001b[0m\u001b[1;36m1\u001b[0m                                          \u001b[2m            \u001b[0m\n"
      ]
     },
     "metadata": {},
     "output_type": "display_data"
    },
    {
     "data": {
      "text/html": [
       "<pre style=\"white-space:pre;overflow-x:auto;line-height:normal;font-family:Menlo,'DejaVu Sans Mono',consolas,'Courier New',monospace\"><span style=\"color: #7fbfbf; text-decoration-color: #7fbfbf\">           </span><span style=\"color: #000080; text-decoration-color: #000080\">INFO    </span> <span style=\"color: #808000; text-decoration-color: #808000; font-weight: bold\">OUT: </span><span style=\"color: #008080; text-decoration-color: #008080; font-weight: bold\">0.11</span>                                                    <span style=\"color: #7f7f7f; text-decoration-color: #7f7f7f\">runner.py:85</span>\n",
       "</pre>\n"
      ],
      "text/plain": [
       "\u001b[2;36m          \u001b[0m\u001b[2;36m \u001b[0m\u001b[34mINFO    \u001b[0m \u001b[1;33mOUT: \u001b[0m\u001b[1;36m0.11\u001b[0m                                                    \u001b[2mrunner.py\u001b[0m\u001b[2m:\u001b[0m\u001b[2m85\u001b[0m\n"
      ]
     },
     "metadata": {},
     "output_type": "display_data"
    },
    {
     "data": {
      "text/html": [
       "<pre style=\"white-space:pre;overflow-x:auto;line-height:normal;font-family:Menlo,'DejaVu Sans Mono',consolas,'Courier New',monospace\"><span style=\"color: #7fbfbf; text-decoration-color: #7fbfbf\">           </span><span style=\"color: #008000; text-decoration-color: #008000\">DEBUG   </span> RUN COMMAND:                                                 <span style=\"color: #7f7f7f; text-decoration-color: #7f7f7f\">runner.py:79</span>\n",
       "<span style=\"color: #7fbfbf; text-decoration-color: #7fbfbf\">           </span>         <span style=\"color: #008080; text-decoration-color: #008080; font-weight: bold\">rm </span><span style=\"color: #800080; text-decoration-color: #800080; font-weight: bold\">/Users/qnbhd/Development/gimeltune/examples/gcc/</span><span style=\"color: #ff00ff; text-decoration-color: #ff00ff; font-weight: bold\">e69d852b86</span> <span style=\"color: #7f7f7f; text-decoration-color: #7f7f7f\">            </span>\n",
       "<span style=\"color: #7fbfbf; text-decoration-color: #7fbfbf\">           </span>         <span style=\"color: #ff00ff; text-decoration-color: #ff00ff; font-weight: bold\">ea82b9f0e209be77010701526636d8b836345ff68ee8f6cf0e14b080945.</span> <span style=\"color: #7f7f7f; text-decoration-color: #7f7f7f\">            </span>\n",
       "<span style=\"color: #7fbfbf; text-decoration-color: #7fbfbf\">           </span>         <span style=\"color: #ff00ff; text-decoration-color: #ff00ff; font-weight: bold\">out</span>                                                          <span style=\"color: #7f7f7f; text-decoration-color: #7f7f7f\">            </span>\n",
       "</pre>\n"
      ],
      "text/plain": [
       "\u001b[2;36m          \u001b[0m\u001b[2;36m \u001b[0m\u001b[32mDEBUG   \u001b[0m RUN COMMAND:                                                 \u001b[2mrunner.py\u001b[0m\u001b[2m:\u001b[0m\u001b[2m79\u001b[0m\n",
       "\u001b[2;36m           \u001b[0m         \u001b[1;36mrm \u001b[0m\u001b[1;35m/Users/qnbhd/Development/gimeltune/examples/gcc/\u001b[0m\u001b[1;95me69d852b86\u001b[0m \u001b[2m            \u001b[0m\n",
       "\u001b[2;36m           \u001b[0m         \u001b[1;95mea82b9f0e209be77010701526636d8b836345ff68ee8f6cf0e14b080945.\u001b[0m \u001b[2m            \u001b[0m\n",
       "\u001b[2;36m           \u001b[0m         \u001b[1;95mout\u001b[0m                                                          \u001b[2m            \u001b[0m\n"
      ]
     },
     "metadata": {},
     "output_type": "display_data"
    },
    {
     "data": {
      "text/html": [
       "<pre style=\"white-space:pre;overflow-x:auto;line-height:normal;font-family:Menlo,'DejaVu Sans Mono',consolas,'Courier New',monospace\"><span style=\"color: #7fbfbf; text-decoration-color: #7fbfbf\">           </span><span style=\"color: #000080; text-decoration-color: #000080\">INFO    </span> Trying experiment: <span style=\"color: #800080; text-decoration-color: #800080; font-weight: bold\">Experiment</span><span style=\"font-weight: bold\">({</span>                             <span style=\"color: #7f7f7f; text-decoration-color: #7f7f7f\">runner.py:156</span>\n",
       "<span style=\"color: #7fbfbf; text-decoration-color: #7fbfbf\">           </span>             <span style=\"color: #008000; text-decoration-color: #008000\">\"id\"</span>: <span style=\"color: #008080; text-decoration-color: #008080; font-weight: bold\">16</span>,                                               <span style=\"color: #7f7f7f; text-decoration-color: #7f7f7f\">             </span>\n",
       "<span style=\"color: #7fbfbf; text-decoration-color: #7fbfbf\">           </span>             <span style=\"color: #008000; text-decoration-color: #008000\">\"job_id\"</span>: <span style=\"color: #008080; text-decoration-color: #008080; font-weight: bold\">1</span>,                                            <span style=\"color: #7f7f7f; text-decoration-color: #7f7f7f\">             </span>\n",
       "<span style=\"color: #7fbfbf; text-decoration-color: #7fbfbf\">           </span>             <span style=\"color: #008000; text-decoration-color: #008000\">\"state\"</span>: <span style=\"color: #008000; text-decoration-color: #008000\">\"WIP\"</span>,                                         <span style=\"color: #7f7f7f; text-decoration-color: #7f7f7f\">             </span>\n",
       "<span style=\"color: #7fbfbf; text-decoration-color: #7fbfbf\">           </span>             <span style=\"color: #008000; text-decoration-color: #008000\">\"hash\"</span>: null,                                           <span style=\"color: #7f7f7f; text-decoration-color: #7f7f7f\">             </span>\n",
       "<span style=\"color: #7fbfbf; text-decoration-color: #7fbfbf\">           </span>             <span style=\"color: #008000; text-decoration-color: #008000\">\"objective_result\"</span>: null,                               <span style=\"color: #7f7f7f; text-decoration-color: #7f7f7f\">             </span>\n",
       "<span style=\"color: #7fbfbf; text-decoration-color: #7fbfbf\">           </span>             <span style=\"color: #008000; text-decoration-color: #008000\">\"params\"</span>: <span style=\"font-weight: bold\">{</span>                                             <span style=\"color: #7f7f7f; text-decoration-color: #7f7f7f\">             </span>\n",
       "<span style=\"color: #7fbfbf; text-decoration-color: #7fbfbf\">           </span>                 <span style=\"color: #008000; text-decoration-color: #008000\">\"-O\"</span>: <span style=\"color: #008000; text-decoration-color: #008000\">\"-O3\"</span>,                                        <span style=\"color: #7f7f7f; text-decoration-color: #7f7f7f\">             </span>\n",
       "<span style=\"color: #7fbfbf; text-decoration-color: #7fbfbf\">           </span>                 <span style=\"color: #008000; text-decoration-color: #008000\">\"align-functions\"</span>: <span style=\"color: #008000; text-decoration-color: #008000\">\"-fno-align-functions\"</span>,          <span style=\"color: #7f7f7f; text-decoration-color: #7f7f7f\">             </span>\n",
       "<span style=\"color: #7fbfbf; text-decoration-color: #7fbfbf\">           </span>                 <span style=\"color: #008000; text-decoration-color: #008000\">\"align-jumps\"</span>: <span style=\"color: #008000; text-decoration-color: #008000\">\"-fno-align-jumps\"</span>,                  <span style=\"color: #7f7f7f; text-decoration-color: #7f7f7f\">             </span>\n",
       "<span style=\"color: #7fbfbf; text-decoration-color: #7fbfbf\">           </span>                 <span style=\"color: #008000; text-decoration-color: #008000\">\"align-labels\"</span>: null,                               <span style=\"color: #7f7f7f; text-decoration-color: #7f7f7f\">             </span>\n",
       "<span style=\"color: #7fbfbf; text-decoration-color: #7fbfbf\">           </span>                 <span style=\"color: #008000; text-decoration-color: #008000\">\"asynchronous-unwind-tables\"</span>:                       <span style=\"color: #7f7f7f; text-decoration-color: #7f7f7f\">             </span>\n",
       "<span style=\"color: #7fbfbf; text-decoration-color: #7fbfbf\">           </span>         <span style=\"color: #008000; text-decoration-color: #008000\">\"-fasynchronous-unwind-tables\"</span>,                             <span style=\"color: #7f7f7f; text-decoration-color: #7f7f7f\">             </span>\n",
       "<span style=\"color: #7fbfbf; text-decoration-color: #7fbfbf\">           </span>                 <span style=\"color: #008000; text-decoration-color: #008000\">\"branch-count-reg\"</span>: <span style=\"color: #008000; text-decoration-color: #008000\">\"-fno-branch-count-reg\"</span>,        <span style=\"color: #7f7f7f; text-decoration-color: #7f7f7f\">             </span>\n",
       "<span style=\"color: #7fbfbf; text-decoration-color: #7fbfbf\">           </span>                 <span style=\"color: #008000; text-decoration-color: #008000\">\"branch-probabilities\"</span>:                             <span style=\"color: #7f7f7f; text-decoration-color: #7f7f7f\">             </span>\n",
       "<span style=\"color: #7fbfbf; text-decoration-color: #7fbfbf\">           </span>         <span style=\"color: #008000; text-decoration-color: #008000\">\"-fno-branch-probabilities\"</span>,                                <span style=\"color: #7f7f7f; text-decoration-color: #7f7f7f\">             </span>\n",
       "<span style=\"color: #7fbfbf; text-decoration-color: #7fbfbf\">           </span>                 <span style=\"color: #008000; text-decoration-color: #008000\">\"early-inlining-insns\"</span>: <span style=\"color: #008080; text-decoration-color: #008080; font-weight: bold\">614</span>,                        <span style=\"color: #7f7f7f; text-decoration-color: #7f7f7f\">             </span>\n",
       "<span style=\"color: #7fbfbf; text-decoration-color: #7fbfbf\">           </span>                 <span style=\"color: #008000; text-decoration-color: #008000\">\"gcse-cost-distance-ratio\"</span>: <span style=\"color: #008080; text-decoration-color: #008080; font-weight: bold\">26</span>,                     <span style=\"color: #7f7f7f; text-decoration-color: #7f7f7f\">             </span>\n",
       "<span style=\"color: #7fbfbf; text-decoration-color: #7fbfbf\">           </span>                 <span style=\"color: #008000; text-decoration-color: #008000\">\"iv-max-considered-uses\"</span>: <span style=\"color: #008080; text-decoration-color: #008080; font-weight: bold\">351</span>                       <span style=\"color: #7f7f7f; text-decoration-color: #7f7f7f\">             </span>\n",
       "<span style=\"color: #7fbfbf; text-decoration-color: #7fbfbf\">           </span>             <span style=\"font-weight: bold\">}</span>,                                                      <span style=\"color: #7f7f7f; text-decoration-color: #7f7f7f\">             </span>\n",
       "<span style=\"color: #7fbfbf; text-decoration-color: #7fbfbf\">           </span>             <span style=\"color: #008000; text-decoration-color: #008000\">\"requestor\"</span>: <span style=\"color: #008000; text-decoration-color: #008000\">\"SkoptBayesianAlgorithm\"</span>,                  <span style=\"color: #7f7f7f; text-decoration-color: #7f7f7f\">             </span>\n",
       "<span style=\"color: #7fbfbf; text-decoration-color: #7fbfbf\">           </span>             <span style=\"color: #008000; text-decoration-color: #008000\">\"create_timestamp\"</span>: <span style=\"color: #008080; text-decoration-color: #008080; font-weight: bold\">1645690647.405698</span>,                  <span style=\"color: #7f7f7f; text-decoration-color: #7f7f7f\">             </span>\n",
       "<span style=\"color: #7fbfbf; text-decoration-color: #7fbfbf\">           </span>             <span style=\"color: #008000; text-decoration-color: #008000\">\"finish_timestamp\"</span>: null                                <span style=\"color: #7f7f7f; text-decoration-color: #7f7f7f\">             </span>\n",
       "<span style=\"color: #7fbfbf; text-decoration-color: #7fbfbf\">           </span>         <span style=\"font-weight: bold\">})</span>                                                          <span style=\"color: #7f7f7f; text-decoration-color: #7f7f7f\">             </span>\n",
       "</pre>\n"
      ],
      "text/plain": [
       "\u001b[2;36m          \u001b[0m\u001b[2;36m \u001b[0m\u001b[34mINFO    \u001b[0m Trying experiment: \u001b[1;35mExperiment\u001b[0m\u001b[1m(\u001b[0m\u001b[1m{\u001b[0m                             \u001b[2mrunner.py\u001b[0m\u001b[2m:\u001b[0m\u001b[2m156\u001b[0m\n",
       "\u001b[2;36m           \u001b[0m             \u001b[32m\"id\"\u001b[0m: \u001b[1;36m16\u001b[0m,                                               \u001b[2m             \u001b[0m\n",
       "\u001b[2;36m           \u001b[0m             \u001b[32m\"job_id\"\u001b[0m: \u001b[1;36m1\u001b[0m,                                            \u001b[2m             \u001b[0m\n",
       "\u001b[2;36m           \u001b[0m             \u001b[32m\"state\"\u001b[0m: \u001b[32m\"WIP\"\u001b[0m,                                         \u001b[2m             \u001b[0m\n",
       "\u001b[2;36m           \u001b[0m             \u001b[32m\"hash\"\u001b[0m: null,                                           \u001b[2m             \u001b[0m\n",
       "\u001b[2;36m           \u001b[0m             \u001b[32m\"objective_result\"\u001b[0m: null,                               \u001b[2m             \u001b[0m\n",
       "\u001b[2;36m           \u001b[0m             \u001b[32m\"params\"\u001b[0m: \u001b[1m{\u001b[0m                                             \u001b[2m             \u001b[0m\n",
       "\u001b[2;36m           \u001b[0m                 \u001b[32m\"-O\"\u001b[0m: \u001b[32m\"-O3\"\u001b[0m,                                        \u001b[2m             \u001b[0m\n",
       "\u001b[2;36m           \u001b[0m                 \u001b[32m\"align-functions\"\u001b[0m: \u001b[32m\"-fno-align-functions\"\u001b[0m,          \u001b[2m             \u001b[0m\n",
       "\u001b[2;36m           \u001b[0m                 \u001b[32m\"align-jumps\"\u001b[0m: \u001b[32m\"-fno-align-jumps\"\u001b[0m,                  \u001b[2m             \u001b[0m\n",
       "\u001b[2;36m           \u001b[0m                 \u001b[32m\"align-labels\"\u001b[0m: null,                               \u001b[2m             \u001b[0m\n",
       "\u001b[2;36m           \u001b[0m                 \u001b[32m\"asynchronous-unwind-tables\"\u001b[0m:                       \u001b[2m             \u001b[0m\n",
       "\u001b[2;36m           \u001b[0m         \u001b[32m\"-fasynchronous-unwind-tables\"\u001b[0m,                             \u001b[2m             \u001b[0m\n",
       "\u001b[2;36m           \u001b[0m                 \u001b[32m\"branch-count-reg\"\u001b[0m: \u001b[32m\"-fno-branch-count-reg\"\u001b[0m,        \u001b[2m             \u001b[0m\n",
       "\u001b[2;36m           \u001b[0m                 \u001b[32m\"branch-probabilities\"\u001b[0m:                             \u001b[2m             \u001b[0m\n",
       "\u001b[2;36m           \u001b[0m         \u001b[32m\"-fno-branch-probabilities\"\u001b[0m,                                \u001b[2m             \u001b[0m\n",
       "\u001b[2;36m           \u001b[0m                 \u001b[32m\"early-inlining-insns\"\u001b[0m: \u001b[1;36m614\u001b[0m,                        \u001b[2m             \u001b[0m\n",
       "\u001b[2;36m           \u001b[0m                 \u001b[32m\"gcse-cost-distance-ratio\"\u001b[0m: \u001b[1;36m26\u001b[0m,                     \u001b[2m             \u001b[0m\n",
       "\u001b[2;36m           \u001b[0m                 \u001b[32m\"iv-max-considered-uses\"\u001b[0m: \u001b[1;36m351\u001b[0m                       \u001b[2m             \u001b[0m\n",
       "\u001b[2;36m           \u001b[0m             \u001b[1m}\u001b[0m,                                                      \u001b[2m             \u001b[0m\n",
       "\u001b[2;36m           \u001b[0m             \u001b[32m\"requestor\"\u001b[0m: \u001b[32m\"SkoptBayesianAlgorithm\"\u001b[0m,                  \u001b[2m             \u001b[0m\n",
       "\u001b[2;36m           \u001b[0m             \u001b[32m\"create_timestamp\"\u001b[0m: \u001b[1;36m1645690647.405698\u001b[0m,                  \u001b[2m             \u001b[0m\n",
       "\u001b[2;36m           \u001b[0m             \u001b[32m\"finish_timestamp\"\u001b[0m: null                                \u001b[2m             \u001b[0m\n",
       "\u001b[2;36m           \u001b[0m         \u001b[1m}\u001b[0m\u001b[1m)\u001b[0m                                                          \u001b[2m             \u001b[0m\n"
      ]
     },
     "metadata": {},
     "output_type": "display_data"
    },
    {
     "data": {
      "text/html": [
       "<pre style=\"white-space:pre;overflow-x:auto;line-height:normal;font-family:Menlo,'DejaVu Sans Mono',consolas,'Courier New',monospace\"><span style=\"color: #7fbfbf; text-decoration-color: #7fbfbf\">           </span><span style=\"color: #008000; text-decoration-color: #008000\">DEBUG   </span> RUN COMMAND:                                                 <span style=\"color: #7f7f7f; text-decoration-color: #7f7f7f\">runner.py:79</span>\n",
       "<span style=\"color: #7fbfbf; text-decoration-color: #7fbfbf\">           </span>         <span style=\"color: #008080; text-decoration-color: #008080; font-weight: bold\">gtime -f </span><span style=\"color: #008000; text-decoration-color: #008000\">'%e'</span><span style=\"color: #008080; text-decoration-color: #008080; font-weight: bold\"> g++</span><span style=\"color: #008080; text-decoration-color: #008080; font-weight: bold\">-11</span><span style=\"color: #008080; text-decoration-color: #008080; font-weight: bold\"> -o </span><span style=\"color: #800080; text-decoration-color: #800080; font-weight: bold\">/Users/qnbhd/Development/gimeltune/ex</span> <span style=\"color: #7f7f7f; text-decoration-color: #7f7f7f\">            </span>\n",
       "<span style=\"color: #7fbfbf; text-decoration-color: #7fbfbf\">           </span>         <span style=\"color: #800080; text-decoration-color: #800080; font-weight: bold\">amples/gcc/</span><span style=\"color: #ff00ff; text-decoration-color: #ff00ff; font-weight: bold\">87343c83e42f5926f9cef2f9e917b624d45162cdf57bf5f03</span> <span style=\"color: #7f7f7f; text-decoration-color: #7f7f7f\">            </span>\n",
       "<span style=\"color: #7fbfbf; text-decoration-color: #7fbfbf\">           </span>         <span style=\"color: #ff00ff; text-decoration-color: #ff00ff; font-weight: bold\">694278844aae8a550321.out</span><span style=\"color: #008080; text-decoration-color: #008080; font-weight: bold\"> </span><span style=\"color: #800080; text-decoration-color: #800080; font-weight: bold\">/Users/qnbhd/Development/gimeltune/e</span> <span style=\"color: #7f7f7f; text-decoration-color: #7f7f7f\">            </span>\n",
       "<span style=\"color: #7fbfbf; text-decoration-color: #7fbfbf\">           </span>         <span style=\"color: #800080; text-decoration-color: #800080; font-weight: bold\">xamples/gcc/raytracer/</span><span style=\"color: #ff00ff; text-decoration-color: #ff00ff; font-weight: bold\">raytracer.cpp</span><span style=\"color: #008080; text-decoration-color: #008080; font-weight: bold\"> -O3 -fno-align-functions</span> <span style=\"color: #7f7f7f; text-decoration-color: #7f7f7f\">            </span>\n",
       "<span style=\"color: #7fbfbf; text-decoration-color: #7fbfbf\">           </span>         <span style=\"color: #008080; text-decoration-color: #008080; font-weight: bold\">-fno-align-jumps  -fasynchronous-unwind-tables </span>              <span style=\"color: #7f7f7f; text-decoration-color: #7f7f7f\">            </span>\n",
       "<span style=\"color: #7fbfbf; text-decoration-color: #7fbfbf\">           </span>         <span style=\"color: #008080; text-decoration-color: #008080; font-weight: bold\">-fno-branch-count-reg -fno-branch-probabilities --param </span>     <span style=\"color: #7f7f7f; text-decoration-color: #7f7f7f\">            </span>\n",
       "<span style=\"color: #7fbfbf; text-decoration-color: #7fbfbf\">           </span>         <span style=\"color: #008080; text-decoration-color: #008080; font-weight: bold\">early-inlining-</span><span style=\"color: #808000; text-decoration-color: #808000; font-weight: bold\">insns</span><span style=\"color: #008080; text-decoration-color: #008080; font-weight: bold\">=</span><span style=\"color: #008080; text-decoration-color: #008080; font-weight: bold\">614</span><span style=\"color: #008080; text-decoration-color: #008080; font-weight: bold\"> --param gcse-cost-distance-</span><span style=\"color: #808000; text-decoration-color: #808000; font-weight: bold\">ratio</span><span style=\"color: #008080; text-decoration-color: #008080; font-weight: bold\">=</span><span style=\"color: #008080; text-decoration-color: #008080; font-weight: bold\">26</span> <span style=\"color: #7f7f7f; text-decoration-color: #7f7f7f\">            </span>\n",
       "<span style=\"color: #7fbfbf; text-decoration-color: #7fbfbf\">           </span>         <span style=\"color: #008080; text-decoration-color: #008080; font-weight: bold\">--param iv-max-considered-</span><span style=\"color: #808000; text-decoration-color: #808000; font-weight: bold\">uses</span><span style=\"color: #008080; text-decoration-color: #008080; font-weight: bold\">=</span><span style=\"color: #008080; text-decoration-color: #008080; font-weight: bold\">351</span><span style=\"color: #008080; text-decoration-color: #008080; font-weight: bold\"> </span><span style=\"color: #008080; text-decoration-color: #008080; font-weight: bold\">2</span><span style=\"color: #008080; text-decoration-color: #008080; font-weight: bold\">&gt;&amp;</span><span style=\"color: #008080; text-decoration-color: #008080; font-weight: bold\">1</span>                      <span style=\"color: #7f7f7f; text-decoration-color: #7f7f7f\">            </span>\n",
       "</pre>\n"
      ],
      "text/plain": [
       "\u001b[2;36m          \u001b[0m\u001b[2;36m \u001b[0m\u001b[32mDEBUG   \u001b[0m RUN COMMAND:                                                 \u001b[2mrunner.py\u001b[0m\u001b[2m:\u001b[0m\u001b[2m79\u001b[0m\n",
       "\u001b[2;36m           \u001b[0m         \u001b[1;36mgtime -f \u001b[0m\u001b[32m'%e'\u001b[0m\u001b[1;36m g++\u001b[0m\u001b[1;36m-11\u001b[0m\u001b[1;36m -o \u001b[0m\u001b[1;35m/Users/qnbhd/Development/gimeltune/ex\u001b[0m \u001b[2m            \u001b[0m\n",
       "\u001b[2;36m           \u001b[0m         \u001b[1;35mamples/gcc/\u001b[0m\u001b[1;95m87343c83e42f5926f9cef2f9e917b624d45162cdf57bf5f03\u001b[0m \u001b[2m            \u001b[0m\n",
       "\u001b[2;36m           \u001b[0m         \u001b[1;95m694278844aae8a550321.out\u001b[0m\u001b[1;36m \u001b[0m\u001b[1;35m/Users/qnbhd/Development/gimeltune/e\u001b[0m \u001b[2m            \u001b[0m\n",
       "\u001b[2;36m           \u001b[0m         \u001b[1;35mxamples/gcc/raytracer/\u001b[0m\u001b[1;95mraytracer.cpp\u001b[0m\u001b[1;36m -O3 -fno-align-functions\u001b[0m \u001b[2m            \u001b[0m\n",
       "\u001b[2;36m           \u001b[0m         \u001b[1;36m-fno-align-jumps  -fasynchronous-unwind-tables \u001b[0m              \u001b[2m            \u001b[0m\n",
       "\u001b[2;36m           \u001b[0m         \u001b[1;36m-fno-branch-count-reg -fno-branch-probabilities --param \u001b[0m     \u001b[2m            \u001b[0m\n",
       "\u001b[2;36m           \u001b[0m         \u001b[1;36mearly-inlining-\u001b[0m\u001b[1;33minsns\u001b[0m\u001b[1;36m=\u001b[0m\u001b[1;36m614\u001b[0m\u001b[1;36m --param gcse-cost-distance-\u001b[0m\u001b[1;33mratio\u001b[0m\u001b[1;36m=\u001b[0m\u001b[1;36m26\u001b[0m \u001b[2m            \u001b[0m\n",
       "\u001b[2;36m           \u001b[0m         \u001b[1;36m--param iv-max-considered-\u001b[0m\u001b[1;33muses\u001b[0m\u001b[1;36m=\u001b[0m\u001b[1;36m351\u001b[0m\u001b[1;36m \u001b[0m\u001b[1;36m2\u001b[0m\u001b[1;36m>&\u001b[0m\u001b[1;36m1\u001b[0m                      \u001b[2m            \u001b[0m\n"
      ]
     },
     "metadata": {},
     "output_type": "display_data"
    },
    {
     "data": {
      "text/html": [
       "<pre style=\"white-space:pre;overflow-x:auto;line-height:normal;font-family:Menlo,'DejaVu Sans Mono',consolas,'Courier New',monospace\"><span style=\"color: #7fbfbf; text-decoration-color: #7fbfbf\">[11:17:30] </span><span style=\"color: #000080; text-decoration-color: #000080\">INFO    </span> <span style=\"color: #808000; text-decoration-color: #808000; font-weight: bold\">OUT: </span><span style=\"color: #008080; text-decoration-color: #008080; font-weight: bold\">0.93</span>                                                    <span style=\"color: #7f7f7f; text-decoration-color: #7f7f7f\">runner.py:85</span>\n",
       "</pre>\n"
      ],
      "text/plain": [
       "\u001b[2;36m[11:17:30]\u001b[0m\u001b[2;36m \u001b[0m\u001b[34mINFO    \u001b[0m \u001b[1;33mOUT: \u001b[0m\u001b[1;36m0.93\u001b[0m                                                    \u001b[2mrunner.py\u001b[0m\u001b[2m:\u001b[0m\u001b[2m85\u001b[0m\n"
      ]
     },
     "metadata": {},
     "output_type": "display_data"
    },
    {
     "data": {
      "text/html": [
       "<pre style=\"white-space:pre;overflow-x:auto;line-height:normal;font-family:Menlo,'DejaVu Sans Mono',consolas,'Courier New',monospace\"><span style=\"color: #7fbfbf; text-decoration-color: #7fbfbf\">           </span><span style=\"color: #008000; text-decoration-color: #008000\">DEBUG   </span> RUN COMMAND:                                                 <span style=\"color: #7f7f7f; text-decoration-color: #7f7f7f\">runner.py:79</span>\n",
       "<span style=\"color: #7fbfbf; text-decoration-color: #7fbfbf\">           </span>         <span style=\"color: #008080; text-decoration-color: #008080; font-weight: bold\">wc -c </span><span style=\"color: #800080; text-decoration-color: #800080; font-weight: bold\">/Users/qnbhd/Development/gimeltune/examples/gcc/</span><span style=\"color: #ff00ff; text-decoration-color: #ff00ff; font-weight: bold\">87343c8</span> <span style=\"color: #7f7f7f; text-decoration-color: #7f7f7f\">            </span>\n",
       "<span style=\"color: #7fbfbf; text-decoration-color: #7fbfbf\">           </span>         <span style=\"color: #ff00ff; text-decoration-color: #ff00ff; font-weight: bold\">3e42f5926f9cef2f9e917b624d45162cdf57bf5f03694278844aae8a5503</span> <span style=\"color: #7f7f7f; text-decoration-color: #7f7f7f\">            </span>\n",
       "<span style=\"color: #7fbfbf; text-decoration-color: #7fbfbf\">           </span>         <span style=\"color: #ff00ff; text-decoration-color: #ff00ff; font-weight: bold\">21.out</span><span style=\"color: #008080; text-decoration-color: #008080; font-weight: bold\"> | awk </span><span style=\"color: #008000; text-decoration-color: #008000\">'{print $1}'</span>                                    <span style=\"color: #7f7f7f; text-decoration-color: #7f7f7f\">            </span>\n",
       "</pre>\n"
      ],
      "text/plain": [
       "\u001b[2;36m          \u001b[0m\u001b[2;36m \u001b[0m\u001b[32mDEBUG   \u001b[0m RUN COMMAND:                                                 \u001b[2mrunner.py\u001b[0m\u001b[2m:\u001b[0m\u001b[2m79\u001b[0m\n",
       "\u001b[2;36m           \u001b[0m         \u001b[1;36mwc -c \u001b[0m\u001b[1;35m/Users/qnbhd/Development/gimeltune/examples/gcc/\u001b[0m\u001b[1;95m87343c8\u001b[0m \u001b[2m            \u001b[0m\n",
       "\u001b[2;36m           \u001b[0m         \u001b[1;95m3e42f5926f9cef2f9e917b624d45162cdf57bf5f03694278844aae8a5503\u001b[0m \u001b[2m            \u001b[0m\n",
       "\u001b[2;36m           \u001b[0m         \u001b[1;95m21.out\u001b[0m\u001b[1;36m | awk \u001b[0m\u001b[32m'\u001b[0m\u001b[32m{\u001b[0m\u001b[32mprint $1\u001b[0m\u001b[32m}\u001b[0m\u001b[32m'\u001b[0m                                    \u001b[2m            \u001b[0m\n"
      ]
     },
     "metadata": {},
     "output_type": "display_data"
    },
    {
     "data": {
      "text/html": [
       "<pre style=\"white-space:pre;overflow-x:auto;line-height:normal;font-family:Menlo,'DejaVu Sans Mono',consolas,'Courier New',monospace\"><span style=\"color: #7fbfbf; text-decoration-color: #7fbfbf\">           </span><span style=\"color: #000080; text-decoration-color: #000080\">INFO    </span> <span style=\"color: #808000; text-decoration-color: #808000; font-weight: bold\">OUT: </span><span style=\"color: #008080; text-decoration-color: #008080; font-weight: bold\">50904</span>                                                   <span style=\"color: #7f7f7f; text-decoration-color: #7f7f7f\">runner.py:85</span>\n",
       "</pre>\n"
      ],
      "text/plain": [
       "\u001b[2;36m          \u001b[0m\u001b[2;36m \u001b[0m\u001b[34mINFO    \u001b[0m \u001b[1;33mOUT: \u001b[0m\u001b[1;36m50904\u001b[0m                                                   \u001b[2mrunner.py\u001b[0m\u001b[2m:\u001b[0m\u001b[2m85\u001b[0m\n"
      ]
     },
     "metadata": {},
     "output_type": "display_data"
    },
    {
     "data": {
      "text/html": [
       "<pre style=\"white-space:pre;overflow-x:auto;line-height:normal;font-family:Menlo,'DejaVu Sans Mono',consolas,'Courier New',monospace\"><span style=\"color: #7fbfbf; text-decoration-color: #7fbfbf\">           </span><span style=\"color: #008000; text-decoration-color: #008000\">DEBUG   </span> RUN COMMAND:                                                 <span style=\"color: #7f7f7f; text-decoration-color: #7f7f7f\">runner.py:79</span>\n",
       "<span style=\"color: #7fbfbf; text-decoration-color: #7fbfbf\">           </span>         <span style=\"color: #008080; text-decoration-color: #008080; font-weight: bold\">gtime -f </span><span style=\"color: #008000; text-decoration-color: #008000\">'%e'</span><span style=\"color: #008080; text-decoration-color: #008080; font-weight: bold\"> </span><span style=\"color: #800080; text-decoration-color: #800080; font-weight: bold\">/Users/qnbhd/Development/gimeltune/examples/gcc</span> <span style=\"color: #7f7f7f; text-decoration-color: #7f7f7f\">            </span>\n",
       "<span style=\"color: #7fbfbf; text-decoration-color: #7fbfbf\">           </span>         <span style=\"color: #800080; text-decoration-color: #800080; font-weight: bold\">/</span><span style=\"color: #ff00ff; text-decoration-color: #ff00ff; font-weight: bold\">87343c83e42f5926f9cef2f9e917b624d45162cdf57bf5f03694278844a</span> <span style=\"color: #7f7f7f; text-decoration-color: #7f7f7f\">            </span>\n",
       "<span style=\"color: #7fbfbf; text-decoration-color: #7fbfbf\">           </span>         <span style=\"color: #ff00ff; text-decoration-color: #ff00ff; font-weight: bold\">ae8a550321.out</span><span style=\"color: #008080; text-decoration-color: #008080; font-weight: bold\"> </span><span style=\"color: #008080; text-decoration-color: #008080; font-weight: bold\">2</span><span style=\"color: #008080; text-decoration-color: #008080; font-weight: bold\">&gt;&amp;</span><span style=\"color: #008080; text-decoration-color: #008080; font-weight: bold\">1</span>                                          <span style=\"color: #7f7f7f; text-decoration-color: #7f7f7f\">            </span>\n",
       "</pre>\n"
      ],
      "text/plain": [
       "\u001b[2;36m          \u001b[0m\u001b[2;36m \u001b[0m\u001b[32mDEBUG   \u001b[0m RUN COMMAND:                                                 \u001b[2mrunner.py\u001b[0m\u001b[2m:\u001b[0m\u001b[2m79\u001b[0m\n",
       "\u001b[2;36m           \u001b[0m         \u001b[1;36mgtime -f \u001b[0m\u001b[32m'%e'\u001b[0m\u001b[1;36m \u001b[0m\u001b[1;35m/Users/qnbhd/Development/gimeltune/examples/gcc\u001b[0m \u001b[2m            \u001b[0m\n",
       "\u001b[2;36m           \u001b[0m         \u001b[1;35m/\u001b[0m\u001b[1;95m87343c83e42f5926f9cef2f9e917b624d45162cdf57bf5f03694278844a\u001b[0m \u001b[2m            \u001b[0m\n",
       "\u001b[2;36m           \u001b[0m         \u001b[1;95mae8a550321.out\u001b[0m\u001b[1;36m \u001b[0m\u001b[1;36m2\u001b[0m\u001b[1;36m>&\u001b[0m\u001b[1;36m1\u001b[0m                                          \u001b[2m            \u001b[0m\n"
      ]
     },
     "metadata": {},
     "output_type": "display_data"
    },
    {
     "data": {
      "text/html": [
       "<pre style=\"white-space:pre;overflow-x:auto;line-height:normal;font-family:Menlo,'DejaVu Sans Mono',consolas,'Courier New',monospace\"><span style=\"color: #7fbfbf; text-decoration-color: #7fbfbf\">           </span><span style=\"color: #000080; text-decoration-color: #000080\">INFO    </span> <span style=\"color: #808000; text-decoration-color: #808000; font-weight: bold\">OUT: </span><span style=\"color: #008080; text-decoration-color: #008080; font-weight: bold\">0.16</span>                                                    <span style=\"color: #7f7f7f; text-decoration-color: #7f7f7f\">runner.py:85</span>\n",
       "</pre>\n"
      ],
      "text/plain": [
       "\u001b[2;36m          \u001b[0m\u001b[2;36m \u001b[0m\u001b[34mINFO    \u001b[0m \u001b[1;33mOUT: \u001b[0m\u001b[1;36m0.16\u001b[0m                                                    \u001b[2mrunner.py\u001b[0m\u001b[2m:\u001b[0m\u001b[2m85\u001b[0m\n"
      ]
     },
     "metadata": {},
     "output_type": "display_data"
    },
    {
     "data": {
      "text/html": [
       "<pre style=\"white-space:pre;overflow-x:auto;line-height:normal;font-family:Menlo,'DejaVu Sans Mono',consolas,'Courier New',monospace\"><span style=\"color: #7fbfbf; text-decoration-color: #7fbfbf\">           </span><span style=\"color: #008000; text-decoration-color: #008000\">DEBUG   </span> RUN COMMAND:                                                 <span style=\"color: #7f7f7f; text-decoration-color: #7f7f7f\">runner.py:79</span>\n",
       "<span style=\"color: #7fbfbf; text-decoration-color: #7fbfbf\">           </span>         <span style=\"color: #008080; text-decoration-color: #008080; font-weight: bold\">gtime -f </span><span style=\"color: #008000; text-decoration-color: #008000\">'%e'</span><span style=\"color: #008080; text-decoration-color: #008080; font-weight: bold\"> </span><span style=\"color: #800080; text-decoration-color: #800080; font-weight: bold\">/Users/qnbhd/Development/gimeltune/examples/gcc</span> <span style=\"color: #7f7f7f; text-decoration-color: #7f7f7f\">            </span>\n",
       "<span style=\"color: #7fbfbf; text-decoration-color: #7fbfbf\">           </span>         <span style=\"color: #800080; text-decoration-color: #800080; font-weight: bold\">/</span><span style=\"color: #ff00ff; text-decoration-color: #ff00ff; font-weight: bold\">87343c83e42f5926f9cef2f9e917b624d45162cdf57bf5f03694278844a</span> <span style=\"color: #7f7f7f; text-decoration-color: #7f7f7f\">            </span>\n",
       "<span style=\"color: #7fbfbf; text-decoration-color: #7fbfbf\">           </span>         <span style=\"color: #ff00ff; text-decoration-color: #ff00ff; font-weight: bold\">ae8a550321.out</span><span style=\"color: #008080; text-decoration-color: #008080; font-weight: bold\"> </span><span style=\"color: #008080; text-decoration-color: #008080; font-weight: bold\">2</span><span style=\"color: #008080; text-decoration-color: #008080; font-weight: bold\">&gt;&amp;</span><span style=\"color: #008080; text-decoration-color: #008080; font-weight: bold\">1</span>                                          <span style=\"color: #7f7f7f; text-decoration-color: #7f7f7f\">            </span>\n",
       "</pre>\n"
      ],
      "text/plain": [
       "\u001b[2;36m          \u001b[0m\u001b[2;36m \u001b[0m\u001b[32mDEBUG   \u001b[0m RUN COMMAND:                                                 \u001b[2mrunner.py\u001b[0m\u001b[2m:\u001b[0m\u001b[2m79\u001b[0m\n",
       "\u001b[2;36m           \u001b[0m         \u001b[1;36mgtime -f \u001b[0m\u001b[32m'%e'\u001b[0m\u001b[1;36m \u001b[0m\u001b[1;35m/Users/qnbhd/Development/gimeltune/examples/gcc\u001b[0m \u001b[2m            \u001b[0m\n",
       "\u001b[2;36m           \u001b[0m         \u001b[1;35m/\u001b[0m\u001b[1;95m87343c83e42f5926f9cef2f9e917b624d45162cdf57bf5f03694278844a\u001b[0m \u001b[2m            \u001b[0m\n",
       "\u001b[2;36m           \u001b[0m         \u001b[1;95mae8a550321.out\u001b[0m\u001b[1;36m \u001b[0m\u001b[1;36m2\u001b[0m\u001b[1;36m>&\u001b[0m\u001b[1;36m1\u001b[0m                                          \u001b[2m            \u001b[0m\n"
      ]
     },
     "metadata": {},
     "output_type": "display_data"
    },
    {
     "data": {
      "text/html": [
       "<pre style=\"white-space:pre;overflow-x:auto;line-height:normal;font-family:Menlo,'DejaVu Sans Mono',consolas,'Courier New',monospace\"><span style=\"color: #7fbfbf; text-decoration-color: #7fbfbf\">           </span><span style=\"color: #000080; text-decoration-color: #000080\">INFO    </span> <span style=\"color: #808000; text-decoration-color: #808000; font-weight: bold\">OUT: </span><span style=\"color: #008080; text-decoration-color: #008080; font-weight: bold\">0.11</span>                                                    <span style=\"color: #7f7f7f; text-decoration-color: #7f7f7f\">runner.py:85</span>\n",
       "</pre>\n"
      ],
      "text/plain": [
       "\u001b[2;36m          \u001b[0m\u001b[2;36m \u001b[0m\u001b[34mINFO    \u001b[0m \u001b[1;33mOUT: \u001b[0m\u001b[1;36m0.11\u001b[0m                                                    \u001b[2mrunner.py\u001b[0m\u001b[2m:\u001b[0m\u001b[2m85\u001b[0m\n"
      ]
     },
     "metadata": {},
     "output_type": "display_data"
    },
    {
     "data": {
      "text/html": [
       "<pre style=\"white-space:pre;overflow-x:auto;line-height:normal;font-family:Menlo,'DejaVu Sans Mono',consolas,'Courier New',monospace\"><span style=\"color: #7fbfbf; text-decoration-color: #7fbfbf\">           </span><span style=\"color: #008000; text-decoration-color: #008000\">DEBUG   </span> RUN COMMAND:                                                 <span style=\"color: #7f7f7f; text-decoration-color: #7f7f7f\">runner.py:79</span>\n",
       "<span style=\"color: #7fbfbf; text-decoration-color: #7fbfbf\">           </span>         <span style=\"color: #008080; text-decoration-color: #008080; font-weight: bold\">gtime -f </span><span style=\"color: #008000; text-decoration-color: #008000\">'%e'</span><span style=\"color: #008080; text-decoration-color: #008080; font-weight: bold\"> </span><span style=\"color: #800080; text-decoration-color: #800080; font-weight: bold\">/Users/qnbhd/Development/gimeltune/examples/gcc</span> <span style=\"color: #7f7f7f; text-decoration-color: #7f7f7f\">            </span>\n",
       "<span style=\"color: #7fbfbf; text-decoration-color: #7fbfbf\">           </span>         <span style=\"color: #800080; text-decoration-color: #800080; font-weight: bold\">/</span><span style=\"color: #ff00ff; text-decoration-color: #ff00ff; font-weight: bold\">87343c83e42f5926f9cef2f9e917b624d45162cdf57bf5f03694278844a</span> <span style=\"color: #7f7f7f; text-decoration-color: #7f7f7f\">            </span>\n",
       "<span style=\"color: #7fbfbf; text-decoration-color: #7fbfbf\">           </span>         <span style=\"color: #ff00ff; text-decoration-color: #ff00ff; font-weight: bold\">ae8a550321.out</span><span style=\"color: #008080; text-decoration-color: #008080; font-weight: bold\"> </span><span style=\"color: #008080; text-decoration-color: #008080; font-weight: bold\">2</span><span style=\"color: #008080; text-decoration-color: #008080; font-weight: bold\">&gt;&amp;</span><span style=\"color: #008080; text-decoration-color: #008080; font-weight: bold\">1</span>                                          <span style=\"color: #7f7f7f; text-decoration-color: #7f7f7f\">            </span>\n",
       "</pre>\n"
      ],
      "text/plain": [
       "\u001b[2;36m          \u001b[0m\u001b[2;36m \u001b[0m\u001b[32mDEBUG   \u001b[0m RUN COMMAND:                                                 \u001b[2mrunner.py\u001b[0m\u001b[2m:\u001b[0m\u001b[2m79\u001b[0m\n",
       "\u001b[2;36m           \u001b[0m         \u001b[1;36mgtime -f \u001b[0m\u001b[32m'%e'\u001b[0m\u001b[1;36m \u001b[0m\u001b[1;35m/Users/qnbhd/Development/gimeltune/examples/gcc\u001b[0m \u001b[2m            \u001b[0m\n",
       "\u001b[2;36m           \u001b[0m         \u001b[1;35m/\u001b[0m\u001b[1;95m87343c83e42f5926f9cef2f9e917b624d45162cdf57bf5f03694278844a\u001b[0m \u001b[2m            \u001b[0m\n",
       "\u001b[2;36m           \u001b[0m         \u001b[1;95mae8a550321.out\u001b[0m\u001b[1;36m \u001b[0m\u001b[1;36m2\u001b[0m\u001b[1;36m>&\u001b[0m\u001b[1;36m1\u001b[0m                                          \u001b[2m            \u001b[0m\n"
      ]
     },
     "metadata": {},
     "output_type": "display_data"
    },
    {
     "data": {
      "text/html": [
       "<pre style=\"white-space:pre;overflow-x:auto;line-height:normal;font-family:Menlo,'DejaVu Sans Mono',consolas,'Courier New',monospace\"><span style=\"color: #7fbfbf; text-decoration-color: #7fbfbf\">           </span><span style=\"color: #000080; text-decoration-color: #000080\">INFO    </span> <span style=\"color: #808000; text-decoration-color: #808000; font-weight: bold\">OUT: </span><span style=\"color: #008080; text-decoration-color: #008080; font-weight: bold\">0.10</span>                                                    <span style=\"color: #7f7f7f; text-decoration-color: #7f7f7f\">runner.py:85</span>\n",
       "</pre>\n"
      ],
      "text/plain": [
       "\u001b[2;36m          \u001b[0m\u001b[2;36m \u001b[0m\u001b[34mINFO    \u001b[0m \u001b[1;33mOUT: \u001b[0m\u001b[1;36m0.10\u001b[0m                                                    \u001b[2mrunner.py\u001b[0m\u001b[2m:\u001b[0m\u001b[2m85\u001b[0m\n"
      ]
     },
     "metadata": {},
     "output_type": "display_data"
    },
    {
     "data": {
      "text/html": [
       "<pre style=\"white-space:pre;overflow-x:auto;line-height:normal;font-family:Menlo,'DejaVu Sans Mono',consolas,'Courier New',monospace\"><span style=\"color: #7fbfbf; text-decoration-color: #7fbfbf\">           </span><span style=\"color: #008000; text-decoration-color: #008000\">DEBUG   </span> RUN COMMAND:                                                 <span style=\"color: #7f7f7f; text-decoration-color: #7f7f7f\">runner.py:79</span>\n",
       "<span style=\"color: #7fbfbf; text-decoration-color: #7fbfbf\">           </span>         <span style=\"color: #008080; text-decoration-color: #008080; font-weight: bold\">gtime -f </span><span style=\"color: #008000; text-decoration-color: #008000\">'%e'</span><span style=\"color: #008080; text-decoration-color: #008080; font-weight: bold\"> </span><span style=\"color: #800080; text-decoration-color: #800080; font-weight: bold\">/Users/qnbhd/Development/gimeltune/examples/gcc</span> <span style=\"color: #7f7f7f; text-decoration-color: #7f7f7f\">            </span>\n",
       "<span style=\"color: #7fbfbf; text-decoration-color: #7fbfbf\">           </span>         <span style=\"color: #800080; text-decoration-color: #800080; font-weight: bold\">/</span><span style=\"color: #ff00ff; text-decoration-color: #ff00ff; font-weight: bold\">87343c83e42f5926f9cef2f9e917b624d45162cdf57bf5f03694278844a</span> <span style=\"color: #7f7f7f; text-decoration-color: #7f7f7f\">            </span>\n",
       "<span style=\"color: #7fbfbf; text-decoration-color: #7fbfbf\">           </span>         <span style=\"color: #ff00ff; text-decoration-color: #ff00ff; font-weight: bold\">ae8a550321.out</span><span style=\"color: #008080; text-decoration-color: #008080; font-weight: bold\"> </span><span style=\"color: #008080; text-decoration-color: #008080; font-weight: bold\">2</span><span style=\"color: #008080; text-decoration-color: #008080; font-weight: bold\">&gt;&amp;</span><span style=\"color: #008080; text-decoration-color: #008080; font-weight: bold\">1</span>                                          <span style=\"color: #7f7f7f; text-decoration-color: #7f7f7f\">            </span>\n",
       "</pre>\n"
      ],
      "text/plain": [
       "\u001b[2;36m          \u001b[0m\u001b[2;36m \u001b[0m\u001b[32mDEBUG   \u001b[0m RUN COMMAND:                                                 \u001b[2mrunner.py\u001b[0m\u001b[2m:\u001b[0m\u001b[2m79\u001b[0m\n",
       "\u001b[2;36m           \u001b[0m         \u001b[1;36mgtime -f \u001b[0m\u001b[32m'%e'\u001b[0m\u001b[1;36m \u001b[0m\u001b[1;35m/Users/qnbhd/Development/gimeltune/examples/gcc\u001b[0m \u001b[2m            \u001b[0m\n",
       "\u001b[2;36m           \u001b[0m         \u001b[1;35m/\u001b[0m\u001b[1;95m87343c83e42f5926f9cef2f9e917b624d45162cdf57bf5f03694278844a\u001b[0m \u001b[2m            \u001b[0m\n",
       "\u001b[2;36m           \u001b[0m         \u001b[1;95mae8a550321.out\u001b[0m\u001b[1;36m \u001b[0m\u001b[1;36m2\u001b[0m\u001b[1;36m>&\u001b[0m\u001b[1;36m1\u001b[0m                                          \u001b[2m            \u001b[0m\n"
      ]
     },
     "metadata": {},
     "output_type": "display_data"
    },
    {
     "data": {
      "text/html": [
       "<pre style=\"white-space:pre;overflow-x:auto;line-height:normal;font-family:Menlo,'DejaVu Sans Mono',consolas,'Courier New',monospace\"><span style=\"color: #7fbfbf; text-decoration-color: #7fbfbf\">           </span><span style=\"color: #000080; text-decoration-color: #000080\">INFO    </span> <span style=\"color: #808000; text-decoration-color: #808000; font-weight: bold\">OUT: </span><span style=\"color: #008080; text-decoration-color: #008080; font-weight: bold\">0.10</span>                                                    <span style=\"color: #7f7f7f; text-decoration-color: #7f7f7f\">runner.py:85</span>\n",
       "</pre>\n"
      ],
      "text/plain": [
       "\u001b[2;36m          \u001b[0m\u001b[2;36m \u001b[0m\u001b[34mINFO    \u001b[0m \u001b[1;33mOUT: \u001b[0m\u001b[1;36m0.10\u001b[0m                                                    \u001b[2mrunner.py\u001b[0m\u001b[2m:\u001b[0m\u001b[2m85\u001b[0m\n"
      ]
     },
     "metadata": {},
     "output_type": "display_data"
    },
    {
     "data": {
      "text/html": [
       "<pre style=\"white-space:pre;overflow-x:auto;line-height:normal;font-family:Menlo,'DejaVu Sans Mono',consolas,'Courier New',monospace\"><span style=\"color: #7fbfbf; text-decoration-color: #7fbfbf\">           </span><span style=\"color: #008000; text-decoration-color: #008000\">DEBUG   </span> RUN COMMAND:                                                 <span style=\"color: #7f7f7f; text-decoration-color: #7f7f7f\">runner.py:79</span>\n",
       "<span style=\"color: #7fbfbf; text-decoration-color: #7fbfbf\">           </span>         <span style=\"color: #008080; text-decoration-color: #008080; font-weight: bold\">gtime -f </span><span style=\"color: #008000; text-decoration-color: #008000\">'%e'</span><span style=\"color: #008080; text-decoration-color: #008080; font-weight: bold\"> </span><span style=\"color: #800080; text-decoration-color: #800080; font-weight: bold\">/Users/qnbhd/Development/gimeltune/examples/gcc</span> <span style=\"color: #7f7f7f; text-decoration-color: #7f7f7f\">            </span>\n",
       "<span style=\"color: #7fbfbf; text-decoration-color: #7fbfbf\">           </span>         <span style=\"color: #800080; text-decoration-color: #800080; font-weight: bold\">/</span><span style=\"color: #ff00ff; text-decoration-color: #ff00ff; font-weight: bold\">87343c83e42f5926f9cef2f9e917b624d45162cdf57bf5f03694278844a</span> <span style=\"color: #7f7f7f; text-decoration-color: #7f7f7f\">            </span>\n",
       "<span style=\"color: #7fbfbf; text-decoration-color: #7fbfbf\">           </span>         <span style=\"color: #ff00ff; text-decoration-color: #ff00ff; font-weight: bold\">ae8a550321.out</span><span style=\"color: #008080; text-decoration-color: #008080; font-weight: bold\"> </span><span style=\"color: #008080; text-decoration-color: #008080; font-weight: bold\">2</span><span style=\"color: #008080; text-decoration-color: #008080; font-weight: bold\">&gt;&amp;</span><span style=\"color: #008080; text-decoration-color: #008080; font-weight: bold\">1</span>                                          <span style=\"color: #7f7f7f; text-decoration-color: #7f7f7f\">            </span>\n",
       "</pre>\n"
      ],
      "text/plain": [
       "\u001b[2;36m          \u001b[0m\u001b[2;36m \u001b[0m\u001b[32mDEBUG   \u001b[0m RUN COMMAND:                                                 \u001b[2mrunner.py\u001b[0m\u001b[2m:\u001b[0m\u001b[2m79\u001b[0m\n",
       "\u001b[2;36m           \u001b[0m         \u001b[1;36mgtime -f \u001b[0m\u001b[32m'%e'\u001b[0m\u001b[1;36m \u001b[0m\u001b[1;35m/Users/qnbhd/Development/gimeltune/examples/gcc\u001b[0m \u001b[2m            \u001b[0m\n",
       "\u001b[2;36m           \u001b[0m         \u001b[1;35m/\u001b[0m\u001b[1;95m87343c83e42f5926f9cef2f9e917b624d45162cdf57bf5f03694278844a\u001b[0m \u001b[2m            \u001b[0m\n",
       "\u001b[2;36m           \u001b[0m         \u001b[1;95mae8a550321.out\u001b[0m\u001b[1;36m \u001b[0m\u001b[1;36m2\u001b[0m\u001b[1;36m>&\u001b[0m\u001b[1;36m1\u001b[0m                                          \u001b[2m            \u001b[0m\n"
      ]
     },
     "metadata": {},
     "output_type": "display_data"
    },
    {
     "data": {
      "text/html": [
       "<pre style=\"white-space:pre;overflow-x:auto;line-height:normal;font-family:Menlo,'DejaVu Sans Mono',consolas,'Courier New',monospace\"><span style=\"color: #7fbfbf; text-decoration-color: #7fbfbf\">[11:17:31] </span><span style=\"color: #000080; text-decoration-color: #000080\">INFO    </span> <span style=\"color: #808000; text-decoration-color: #808000; font-weight: bold\">OUT: </span><span style=\"color: #008080; text-decoration-color: #008080; font-weight: bold\">0.11</span>                                                    <span style=\"color: #7f7f7f; text-decoration-color: #7f7f7f\">runner.py:85</span>\n",
       "</pre>\n"
      ],
      "text/plain": [
       "\u001b[2;36m[11:17:31]\u001b[0m\u001b[2;36m \u001b[0m\u001b[34mINFO    \u001b[0m \u001b[1;33mOUT: \u001b[0m\u001b[1;36m0.11\u001b[0m                                                    \u001b[2mrunner.py\u001b[0m\u001b[2m:\u001b[0m\u001b[2m85\u001b[0m\n"
      ]
     },
     "metadata": {},
     "output_type": "display_data"
    },
    {
     "data": {
      "text/html": [
       "<pre style=\"white-space:pre;overflow-x:auto;line-height:normal;font-family:Menlo,'DejaVu Sans Mono',consolas,'Courier New',monospace\"><span style=\"color: #7fbfbf; text-decoration-color: #7fbfbf\">           </span><span style=\"color: #008000; text-decoration-color: #008000\">DEBUG   </span> RUN COMMAND:                                                 <span style=\"color: #7f7f7f; text-decoration-color: #7f7f7f\">runner.py:79</span>\n",
       "<span style=\"color: #7fbfbf; text-decoration-color: #7fbfbf\">           </span>         <span style=\"color: #008080; text-decoration-color: #008080; font-weight: bold\">rm </span><span style=\"color: #800080; text-decoration-color: #800080; font-weight: bold\">/Users/qnbhd/Development/gimeltune/examples/gcc/</span><span style=\"color: #ff00ff; text-decoration-color: #ff00ff; font-weight: bold\">87343c83e4</span> <span style=\"color: #7f7f7f; text-decoration-color: #7f7f7f\">            </span>\n",
       "<span style=\"color: #7fbfbf; text-decoration-color: #7fbfbf\">           </span>         <span style=\"color: #ff00ff; text-decoration-color: #ff00ff; font-weight: bold\">2f5926f9cef2f9e917b624d45162cdf57bf5f03694278844aae8a550321.</span> <span style=\"color: #7f7f7f; text-decoration-color: #7f7f7f\">            </span>\n",
       "<span style=\"color: #7fbfbf; text-decoration-color: #7fbfbf\">           </span>         <span style=\"color: #ff00ff; text-decoration-color: #ff00ff; font-weight: bold\">out</span>                                                          <span style=\"color: #7f7f7f; text-decoration-color: #7f7f7f\">            </span>\n",
       "</pre>\n"
      ],
      "text/plain": [
       "\u001b[2;36m          \u001b[0m\u001b[2;36m \u001b[0m\u001b[32mDEBUG   \u001b[0m RUN COMMAND:                                                 \u001b[2mrunner.py\u001b[0m\u001b[2m:\u001b[0m\u001b[2m79\u001b[0m\n",
       "\u001b[2;36m           \u001b[0m         \u001b[1;36mrm \u001b[0m\u001b[1;35m/Users/qnbhd/Development/gimeltune/examples/gcc/\u001b[0m\u001b[1;95m87343c83e4\u001b[0m \u001b[2m            \u001b[0m\n",
       "\u001b[2;36m           \u001b[0m         \u001b[1;95m2f5926f9cef2f9e917b624d45162cdf57bf5f03694278844aae8a550321.\u001b[0m \u001b[2m            \u001b[0m\n",
       "\u001b[2;36m           \u001b[0m         \u001b[1;95mout\u001b[0m                                                          \u001b[2m            \u001b[0m\n"
      ]
     },
     "metadata": {},
     "output_type": "display_data"
    },
    {
     "name": "stderr",
     "output_type": "stream",
     "text": [
      "/Users/qnbhd/Development/gimeltune/gimeltune/search/algorithms/skopt.py:58: UserWarning: Now per-emit count in skopt technique implemented not correctly. Per-emit count is property, return default value (1).\n",
      "  warnings.warn('Now per-emit count in skopt technique implemented not correctly.'\n"
     ]
    },
    {
     "data": {
      "text/html": [
       "<pre style=\"white-space:pre;overflow-x:auto;line-height:normal;font-family:Menlo,'DejaVu Sans Mono',consolas,'Courier New',monospace\"><span style=\"color: #7fbfbf; text-decoration-color: #7fbfbf\">           </span><span style=\"color: #000080; text-decoration-color: #000080\">INFO    </span> Trying experiment: <span style=\"color: #800080; text-decoration-color: #800080; font-weight: bold\">Experiment</span><span style=\"font-weight: bold\">({</span>                             <span style=\"color: #7f7f7f; text-decoration-color: #7f7f7f\">runner.py:156</span>\n",
       "<span style=\"color: #7fbfbf; text-decoration-color: #7fbfbf\">           </span>             <span style=\"color: #008000; text-decoration-color: #008000\">\"id\"</span>: <span style=\"color: #008080; text-decoration-color: #008080; font-weight: bold\">17</span>,                                               <span style=\"color: #7f7f7f; text-decoration-color: #7f7f7f\">             </span>\n",
       "<span style=\"color: #7fbfbf; text-decoration-color: #7fbfbf\">           </span>             <span style=\"color: #008000; text-decoration-color: #008000\">\"job_id\"</span>: <span style=\"color: #008080; text-decoration-color: #008080; font-weight: bold\">1</span>,                                            <span style=\"color: #7f7f7f; text-decoration-color: #7f7f7f\">             </span>\n",
       "<span style=\"color: #7fbfbf; text-decoration-color: #7fbfbf\">           </span>             <span style=\"color: #008000; text-decoration-color: #008000\">\"state\"</span>: <span style=\"color: #008000; text-decoration-color: #008000\">\"WIP\"</span>,                                         <span style=\"color: #7f7f7f; text-decoration-color: #7f7f7f\">             </span>\n",
       "<span style=\"color: #7fbfbf; text-decoration-color: #7fbfbf\">           </span>             <span style=\"color: #008000; text-decoration-color: #008000\">\"hash\"</span>: null,                                           <span style=\"color: #7f7f7f; text-decoration-color: #7f7f7f\">             </span>\n",
       "<span style=\"color: #7fbfbf; text-decoration-color: #7fbfbf\">           </span>             <span style=\"color: #008000; text-decoration-color: #008000\">\"objective_result\"</span>: null,                               <span style=\"color: #7f7f7f; text-decoration-color: #7f7f7f\">             </span>\n",
       "<span style=\"color: #7fbfbf; text-decoration-color: #7fbfbf\">           </span>             <span style=\"color: #008000; text-decoration-color: #008000\">\"params\"</span>: <span style=\"font-weight: bold\">{</span>                                             <span style=\"color: #7f7f7f; text-decoration-color: #7f7f7f\">             </span>\n",
       "<span style=\"color: #7fbfbf; text-decoration-color: #7fbfbf\">           </span>                 <span style=\"color: #008000; text-decoration-color: #008000\">\"-O\"</span>: <span style=\"color: #008000; text-decoration-color: #008000\">\"-O3\"</span>,                                        <span style=\"color: #7f7f7f; text-decoration-color: #7f7f7f\">             </span>\n",
       "<span style=\"color: #7fbfbf; text-decoration-color: #7fbfbf\">           </span>                 <span style=\"color: #008000; text-decoration-color: #008000\">\"align-functions\"</span>: null,                            <span style=\"color: #7f7f7f; text-decoration-color: #7f7f7f\">             </span>\n",
       "<span style=\"color: #7fbfbf; text-decoration-color: #7fbfbf\">           </span>                 <span style=\"color: #008000; text-decoration-color: #008000\">\"align-jumps\"</span>: <span style=\"color: #008000; text-decoration-color: #008000\">\"-fno-align-jumps\"</span>,                  <span style=\"color: #7f7f7f; text-decoration-color: #7f7f7f\">             </span>\n",
       "<span style=\"color: #7fbfbf; text-decoration-color: #7fbfbf\">           </span>                 <span style=\"color: #008000; text-decoration-color: #008000\">\"align-labels\"</span>: null,                               <span style=\"color: #7f7f7f; text-decoration-color: #7f7f7f\">             </span>\n",
       "<span style=\"color: #7fbfbf; text-decoration-color: #7fbfbf\">           </span>                 <span style=\"color: #008000; text-decoration-color: #008000\">\"asynchronous-unwind-tables\"</span>: null,                 <span style=\"color: #7f7f7f; text-decoration-color: #7f7f7f\">             </span>\n",
       "<span style=\"color: #7fbfbf; text-decoration-color: #7fbfbf\">           </span>                 <span style=\"color: #008000; text-decoration-color: #008000\">\"branch-count-reg\"</span>: <span style=\"color: #008000; text-decoration-color: #008000\">\"-fno-branch-count-reg\"</span>,        <span style=\"color: #7f7f7f; text-decoration-color: #7f7f7f\">             </span>\n",
       "<span style=\"color: #7fbfbf; text-decoration-color: #7fbfbf\">           </span>                 <span style=\"color: #008000; text-decoration-color: #008000\">\"branch-probabilities\"</span>: null,                       <span style=\"color: #7f7f7f; text-decoration-color: #7f7f7f\">             </span>\n",
       "<span style=\"color: #7fbfbf; text-decoration-color: #7fbfbf\">           </span>                 <span style=\"color: #008000; text-decoration-color: #008000\">\"early-inlining-insns\"</span>: <span style=\"color: #008080; text-decoration-color: #008080; font-weight: bold\">496</span>,                        <span style=\"color: #7f7f7f; text-decoration-color: #7f7f7f\">             </span>\n",
       "<span style=\"color: #7fbfbf; text-decoration-color: #7fbfbf\">           </span>                 <span style=\"color: #008000; text-decoration-color: #008000\">\"gcse-cost-distance-ratio\"</span>: <span style=\"color: #008080; text-decoration-color: #008080; font-weight: bold\">88</span>,                     <span style=\"color: #7f7f7f; text-decoration-color: #7f7f7f\">             </span>\n",
       "<span style=\"color: #7fbfbf; text-decoration-color: #7fbfbf\">           </span>                 <span style=\"color: #008000; text-decoration-color: #008000\">\"iv-max-considered-uses\"</span>: <span style=\"color: #008080; text-decoration-color: #008080; font-weight: bold\">224</span>                       <span style=\"color: #7f7f7f; text-decoration-color: #7f7f7f\">             </span>\n",
       "<span style=\"color: #7fbfbf; text-decoration-color: #7fbfbf\">           </span>             <span style=\"font-weight: bold\">}</span>,                                                      <span style=\"color: #7f7f7f; text-decoration-color: #7f7f7f\">             </span>\n",
       "<span style=\"color: #7fbfbf; text-decoration-color: #7fbfbf\">           </span>             <span style=\"color: #008000; text-decoration-color: #008000\">\"requestor\"</span>: <span style=\"color: #008000; text-decoration-color: #008000\">\"SkoptBayesianAlgorithm\"</span>,                  <span style=\"color: #7f7f7f; text-decoration-color: #7f7f7f\">             </span>\n",
       "<span style=\"color: #7fbfbf; text-decoration-color: #7fbfbf\">           </span>             <span style=\"color: #008000; text-decoration-color: #008000\">\"create_timestamp\"</span>: <span style=\"color: #008080; text-decoration-color: #008080; font-weight: bold\">1645690651.318007</span>,                  <span style=\"color: #7f7f7f; text-decoration-color: #7f7f7f\">             </span>\n",
       "<span style=\"color: #7fbfbf; text-decoration-color: #7fbfbf\">           </span>             <span style=\"color: #008000; text-decoration-color: #008000\">\"finish_timestamp\"</span>: null                                <span style=\"color: #7f7f7f; text-decoration-color: #7f7f7f\">             </span>\n",
       "<span style=\"color: #7fbfbf; text-decoration-color: #7fbfbf\">           </span>         <span style=\"font-weight: bold\">})</span>                                                          <span style=\"color: #7f7f7f; text-decoration-color: #7f7f7f\">             </span>\n",
       "</pre>\n"
      ],
      "text/plain": [
       "\u001b[2;36m          \u001b[0m\u001b[2;36m \u001b[0m\u001b[34mINFO    \u001b[0m Trying experiment: \u001b[1;35mExperiment\u001b[0m\u001b[1m(\u001b[0m\u001b[1m{\u001b[0m                             \u001b[2mrunner.py\u001b[0m\u001b[2m:\u001b[0m\u001b[2m156\u001b[0m\n",
       "\u001b[2;36m           \u001b[0m             \u001b[32m\"id\"\u001b[0m: \u001b[1;36m17\u001b[0m,                                               \u001b[2m             \u001b[0m\n",
       "\u001b[2;36m           \u001b[0m             \u001b[32m\"job_id\"\u001b[0m: \u001b[1;36m1\u001b[0m,                                            \u001b[2m             \u001b[0m\n",
       "\u001b[2;36m           \u001b[0m             \u001b[32m\"state\"\u001b[0m: \u001b[32m\"WIP\"\u001b[0m,                                         \u001b[2m             \u001b[0m\n",
       "\u001b[2;36m           \u001b[0m             \u001b[32m\"hash\"\u001b[0m: null,                                           \u001b[2m             \u001b[0m\n",
       "\u001b[2;36m           \u001b[0m             \u001b[32m\"objective_result\"\u001b[0m: null,                               \u001b[2m             \u001b[0m\n",
       "\u001b[2;36m           \u001b[0m             \u001b[32m\"params\"\u001b[0m: \u001b[1m{\u001b[0m                                             \u001b[2m             \u001b[0m\n",
       "\u001b[2;36m           \u001b[0m                 \u001b[32m\"-O\"\u001b[0m: \u001b[32m\"-O3\"\u001b[0m,                                        \u001b[2m             \u001b[0m\n",
       "\u001b[2;36m           \u001b[0m                 \u001b[32m\"align-functions\"\u001b[0m: null,                            \u001b[2m             \u001b[0m\n",
       "\u001b[2;36m           \u001b[0m                 \u001b[32m\"align-jumps\"\u001b[0m: \u001b[32m\"-fno-align-jumps\"\u001b[0m,                  \u001b[2m             \u001b[0m\n",
       "\u001b[2;36m           \u001b[0m                 \u001b[32m\"align-labels\"\u001b[0m: null,                               \u001b[2m             \u001b[0m\n",
       "\u001b[2;36m           \u001b[0m                 \u001b[32m\"asynchronous-unwind-tables\"\u001b[0m: null,                 \u001b[2m             \u001b[0m\n",
       "\u001b[2;36m           \u001b[0m                 \u001b[32m\"branch-count-reg\"\u001b[0m: \u001b[32m\"-fno-branch-count-reg\"\u001b[0m,        \u001b[2m             \u001b[0m\n",
       "\u001b[2;36m           \u001b[0m                 \u001b[32m\"branch-probabilities\"\u001b[0m: null,                       \u001b[2m             \u001b[0m\n",
       "\u001b[2;36m           \u001b[0m                 \u001b[32m\"early-inlining-insns\"\u001b[0m: \u001b[1;36m496\u001b[0m,                        \u001b[2m             \u001b[0m\n",
       "\u001b[2;36m           \u001b[0m                 \u001b[32m\"gcse-cost-distance-ratio\"\u001b[0m: \u001b[1;36m88\u001b[0m,                     \u001b[2m             \u001b[0m\n",
       "\u001b[2;36m           \u001b[0m                 \u001b[32m\"iv-max-considered-uses\"\u001b[0m: \u001b[1;36m224\u001b[0m                       \u001b[2m             \u001b[0m\n",
       "\u001b[2;36m           \u001b[0m             \u001b[1m}\u001b[0m,                                                      \u001b[2m             \u001b[0m\n",
       "\u001b[2;36m           \u001b[0m             \u001b[32m\"requestor\"\u001b[0m: \u001b[32m\"SkoptBayesianAlgorithm\"\u001b[0m,                  \u001b[2m             \u001b[0m\n",
       "\u001b[2;36m           \u001b[0m             \u001b[32m\"create_timestamp\"\u001b[0m: \u001b[1;36m1645690651.318007\u001b[0m,                  \u001b[2m             \u001b[0m\n",
       "\u001b[2;36m           \u001b[0m             \u001b[32m\"finish_timestamp\"\u001b[0m: null                                \u001b[2m             \u001b[0m\n",
       "\u001b[2;36m           \u001b[0m         \u001b[1m}\u001b[0m\u001b[1m)\u001b[0m                                                          \u001b[2m             \u001b[0m\n"
      ]
     },
     "metadata": {},
     "output_type": "display_data"
    },
    {
     "data": {
      "text/html": [
       "<pre style=\"white-space:pre;overflow-x:auto;line-height:normal;font-family:Menlo,'DejaVu Sans Mono',consolas,'Courier New',monospace\"><span style=\"color: #7fbfbf; text-decoration-color: #7fbfbf\">           </span><span style=\"color: #008000; text-decoration-color: #008000\">DEBUG   </span> RUN COMMAND:                                                 <span style=\"color: #7f7f7f; text-decoration-color: #7f7f7f\">runner.py:79</span>\n",
       "<span style=\"color: #7fbfbf; text-decoration-color: #7fbfbf\">           </span>         <span style=\"color: #008080; text-decoration-color: #008080; font-weight: bold\">gtime -f </span><span style=\"color: #008000; text-decoration-color: #008000\">'%e'</span><span style=\"color: #008080; text-decoration-color: #008080; font-weight: bold\"> g++</span><span style=\"color: #008080; text-decoration-color: #008080; font-weight: bold\">-11</span><span style=\"color: #008080; text-decoration-color: #008080; font-weight: bold\"> -o </span><span style=\"color: #800080; text-decoration-color: #800080; font-weight: bold\">/Users/qnbhd/Development/gimeltune/ex</span> <span style=\"color: #7f7f7f; text-decoration-color: #7f7f7f\">            </span>\n",
       "<span style=\"color: #7fbfbf; text-decoration-color: #7fbfbf\">           </span>         <span style=\"color: #800080; text-decoration-color: #800080; font-weight: bold\">amples/gcc/</span><span style=\"color: #ff00ff; text-decoration-color: #ff00ff; font-weight: bold\">f63d3e53489e7400af4fa3f828fa84c4045c6b6a9524985c8</span> <span style=\"color: #7f7f7f; text-decoration-color: #7f7f7f\">            </span>\n",
       "<span style=\"color: #7fbfbf; text-decoration-color: #7fbfbf\">           </span>         <span style=\"color: #ff00ff; text-decoration-color: #ff00ff; font-weight: bold\">b16f7a4b814f9a113092.out</span><span style=\"color: #008080; text-decoration-color: #008080; font-weight: bold\"> </span><span style=\"color: #800080; text-decoration-color: #800080; font-weight: bold\">/Users/qnbhd/Development/gimeltune/e</span> <span style=\"color: #7f7f7f; text-decoration-color: #7f7f7f\">            </span>\n",
       "<span style=\"color: #7fbfbf; text-decoration-color: #7fbfbf\">           </span>         <span style=\"color: #800080; text-decoration-color: #800080; font-weight: bold\">xamples/gcc/raytracer/</span><span style=\"color: #ff00ff; text-decoration-color: #ff00ff; font-weight: bold\">raytracer.cpp</span><span style=\"color: #008080; text-decoration-color: #008080; font-weight: bold\"> -O3  -fno-align-jumps   </span> <span style=\"color: #7f7f7f; text-decoration-color: #7f7f7f\">            </span>\n",
       "<span style=\"color: #7fbfbf; text-decoration-color: #7fbfbf\">           </span>         <span style=\"color: #008080; text-decoration-color: #008080; font-weight: bold\">-fno-branch-count-reg  --param early-inlining-</span><span style=\"color: #808000; text-decoration-color: #808000; font-weight: bold\">insns</span><span style=\"color: #008080; text-decoration-color: #008080; font-weight: bold\">=</span><span style=\"color: #008080; text-decoration-color: #008080; font-weight: bold\">496</span><span style=\"color: #008080; text-decoration-color: #008080; font-weight: bold\"> </span>     <span style=\"color: #7f7f7f; text-decoration-color: #7f7f7f\">            </span>\n",
       "<span style=\"color: #7fbfbf; text-decoration-color: #7fbfbf\">           </span>         <span style=\"color: #008080; text-decoration-color: #008080; font-weight: bold\">--param gcse-cost-distance-</span><span style=\"color: #808000; text-decoration-color: #808000; font-weight: bold\">ratio</span><span style=\"color: #008080; text-decoration-color: #008080; font-weight: bold\">=</span><span style=\"color: #008080; text-decoration-color: #008080; font-weight: bold\">88</span><span style=\"color: #008080; text-decoration-color: #008080; font-weight: bold\"> --param </span>                 <span style=\"color: #7f7f7f; text-decoration-color: #7f7f7f\">            </span>\n",
       "<span style=\"color: #7fbfbf; text-decoration-color: #7fbfbf\">           </span>         <span style=\"color: #008080; text-decoration-color: #008080; font-weight: bold\">iv-max-considered-</span><span style=\"color: #808000; text-decoration-color: #808000; font-weight: bold\">uses</span><span style=\"color: #008080; text-decoration-color: #008080; font-weight: bold\">=</span><span style=\"color: #008080; text-decoration-color: #008080; font-weight: bold\">224</span><span style=\"color: #008080; text-decoration-color: #008080; font-weight: bold\"> </span><span style=\"color: #008080; text-decoration-color: #008080; font-weight: bold\">2</span><span style=\"color: #008080; text-decoration-color: #008080; font-weight: bold\">&gt;&amp;</span><span style=\"color: #008080; text-decoration-color: #008080; font-weight: bold\">1</span>                              <span style=\"color: #7f7f7f; text-decoration-color: #7f7f7f\">            </span>\n",
       "</pre>\n"
      ],
      "text/plain": [
       "\u001b[2;36m          \u001b[0m\u001b[2;36m \u001b[0m\u001b[32mDEBUG   \u001b[0m RUN COMMAND:                                                 \u001b[2mrunner.py\u001b[0m\u001b[2m:\u001b[0m\u001b[2m79\u001b[0m\n",
       "\u001b[2;36m           \u001b[0m         \u001b[1;36mgtime -f \u001b[0m\u001b[32m'%e'\u001b[0m\u001b[1;36m g++\u001b[0m\u001b[1;36m-11\u001b[0m\u001b[1;36m -o \u001b[0m\u001b[1;35m/Users/qnbhd/Development/gimeltune/ex\u001b[0m \u001b[2m            \u001b[0m\n",
       "\u001b[2;36m           \u001b[0m         \u001b[1;35mamples/gcc/\u001b[0m\u001b[1;95mf63d3e53489e7400af4fa3f828fa84c4045c6b6a9524985c8\u001b[0m \u001b[2m            \u001b[0m\n",
       "\u001b[2;36m           \u001b[0m         \u001b[1;95mb16f7a4b814f9a113092.out\u001b[0m\u001b[1;36m \u001b[0m\u001b[1;35m/Users/qnbhd/Development/gimeltune/e\u001b[0m \u001b[2m            \u001b[0m\n",
       "\u001b[2;36m           \u001b[0m         \u001b[1;35mxamples/gcc/raytracer/\u001b[0m\u001b[1;95mraytracer.cpp\u001b[0m\u001b[1;36m -O3  -fno-align-jumps   \u001b[0m \u001b[2m            \u001b[0m\n",
       "\u001b[2;36m           \u001b[0m         \u001b[1;36m-fno-branch-count-reg  --param early-inlining-\u001b[0m\u001b[1;33minsns\u001b[0m\u001b[1;36m=\u001b[0m\u001b[1;36m496\u001b[0m\u001b[1;36m \u001b[0m     \u001b[2m            \u001b[0m\n",
       "\u001b[2;36m           \u001b[0m         \u001b[1;36m--param gcse-cost-distance-\u001b[0m\u001b[1;33mratio\u001b[0m\u001b[1;36m=\u001b[0m\u001b[1;36m88\u001b[0m\u001b[1;36m --param \u001b[0m                 \u001b[2m            \u001b[0m\n",
       "\u001b[2;36m           \u001b[0m         \u001b[1;36miv-max-considered-\u001b[0m\u001b[1;33muses\u001b[0m\u001b[1;36m=\u001b[0m\u001b[1;36m224\u001b[0m\u001b[1;36m \u001b[0m\u001b[1;36m2\u001b[0m\u001b[1;36m>&\u001b[0m\u001b[1;36m1\u001b[0m                              \u001b[2m            \u001b[0m\n"
      ]
     },
     "metadata": {},
     "output_type": "display_data"
    },
    {
     "data": {
      "text/html": [
       "<pre style=\"white-space:pre;overflow-x:auto;line-height:normal;font-family:Menlo,'DejaVu Sans Mono',consolas,'Courier New',monospace\"><span style=\"color: #7fbfbf; text-decoration-color: #7fbfbf\">[11:17:32] </span><span style=\"color: #000080; text-decoration-color: #000080\">INFO    </span> <span style=\"color: #808000; text-decoration-color: #808000; font-weight: bold\">OUT: </span><span style=\"color: #008080; text-decoration-color: #008080; font-weight: bold\">0.91</span>                                                    <span style=\"color: #7f7f7f; text-decoration-color: #7f7f7f\">runner.py:85</span>\n",
       "</pre>\n"
      ],
      "text/plain": [
       "\u001b[2;36m[11:17:32]\u001b[0m\u001b[2;36m \u001b[0m\u001b[34mINFO    \u001b[0m \u001b[1;33mOUT: \u001b[0m\u001b[1;36m0.91\u001b[0m                                                    \u001b[2mrunner.py\u001b[0m\u001b[2m:\u001b[0m\u001b[2m85\u001b[0m\n"
      ]
     },
     "metadata": {},
     "output_type": "display_data"
    },
    {
     "data": {
      "text/html": [
       "<pre style=\"white-space:pre;overflow-x:auto;line-height:normal;font-family:Menlo,'DejaVu Sans Mono',consolas,'Courier New',monospace\"><span style=\"color: #7fbfbf; text-decoration-color: #7fbfbf\">           </span><span style=\"color: #008000; text-decoration-color: #008000\">DEBUG   </span> RUN COMMAND:                                                 <span style=\"color: #7f7f7f; text-decoration-color: #7f7f7f\">runner.py:79</span>\n",
       "<span style=\"color: #7fbfbf; text-decoration-color: #7fbfbf\">           </span>         <span style=\"color: #008080; text-decoration-color: #008080; font-weight: bold\">wc -c </span><span style=\"color: #800080; text-decoration-color: #800080; font-weight: bold\">/Users/qnbhd/Development/gimeltune/examples/gcc/</span><span style=\"color: #ff00ff; text-decoration-color: #ff00ff; font-weight: bold\">f63d3e5</span> <span style=\"color: #7f7f7f; text-decoration-color: #7f7f7f\">            </span>\n",
       "<span style=\"color: #7fbfbf; text-decoration-color: #7fbfbf\">           </span>         <span style=\"color: #ff00ff; text-decoration-color: #ff00ff; font-weight: bold\">3489e7400af4fa3f828fa84c4045c6b6a9524985c8b16f7a4b814f9a1130</span> <span style=\"color: #7f7f7f; text-decoration-color: #7f7f7f\">            </span>\n",
       "<span style=\"color: #7fbfbf; text-decoration-color: #7fbfbf\">           </span>         <span style=\"color: #ff00ff; text-decoration-color: #ff00ff; font-weight: bold\">92.out</span><span style=\"color: #008080; text-decoration-color: #008080; font-weight: bold\"> | awk </span><span style=\"color: #008000; text-decoration-color: #008000\">'{print $1}'</span>                                    <span style=\"color: #7f7f7f; text-decoration-color: #7f7f7f\">            </span>\n",
       "</pre>\n"
      ],
      "text/plain": [
       "\u001b[2;36m          \u001b[0m\u001b[2;36m \u001b[0m\u001b[32mDEBUG   \u001b[0m RUN COMMAND:                                                 \u001b[2mrunner.py\u001b[0m\u001b[2m:\u001b[0m\u001b[2m79\u001b[0m\n",
       "\u001b[2;36m           \u001b[0m         \u001b[1;36mwc -c \u001b[0m\u001b[1;35m/Users/qnbhd/Development/gimeltune/examples/gcc/\u001b[0m\u001b[1;95mf63d3e5\u001b[0m \u001b[2m            \u001b[0m\n",
       "\u001b[2;36m           \u001b[0m         \u001b[1;95m3489e7400af4fa3f828fa84c4045c6b6a9524985c8b16f7a4b814f9a1130\u001b[0m \u001b[2m            \u001b[0m\n",
       "\u001b[2;36m           \u001b[0m         \u001b[1;95m92.out\u001b[0m\u001b[1;36m | awk \u001b[0m\u001b[32m'\u001b[0m\u001b[32m{\u001b[0m\u001b[32mprint $1\u001b[0m\u001b[32m}\u001b[0m\u001b[32m'\u001b[0m                                    \u001b[2m            \u001b[0m\n"
      ]
     },
     "metadata": {},
     "output_type": "display_data"
    },
    {
     "data": {
      "text/html": [
       "<pre style=\"white-space:pre;overflow-x:auto;line-height:normal;font-family:Menlo,'DejaVu Sans Mono',consolas,'Courier New',monospace\"><span style=\"color: #7fbfbf; text-decoration-color: #7fbfbf\">           </span><span style=\"color: #000080; text-decoration-color: #000080\">INFO    </span> <span style=\"color: #808000; text-decoration-color: #808000; font-weight: bold\">OUT: </span><span style=\"color: #008080; text-decoration-color: #008080; font-weight: bold\">50904</span>                                                   <span style=\"color: #7f7f7f; text-decoration-color: #7f7f7f\">runner.py:85</span>\n",
       "</pre>\n"
      ],
      "text/plain": [
       "\u001b[2;36m          \u001b[0m\u001b[2;36m \u001b[0m\u001b[34mINFO    \u001b[0m \u001b[1;33mOUT: \u001b[0m\u001b[1;36m50904\u001b[0m                                                   \u001b[2mrunner.py\u001b[0m\u001b[2m:\u001b[0m\u001b[2m85\u001b[0m\n"
      ]
     },
     "metadata": {},
     "output_type": "display_data"
    },
    {
     "data": {
      "text/html": [
       "<pre style=\"white-space:pre;overflow-x:auto;line-height:normal;font-family:Menlo,'DejaVu Sans Mono',consolas,'Courier New',monospace\"><span style=\"color: #7fbfbf; text-decoration-color: #7fbfbf\">           </span><span style=\"color: #008000; text-decoration-color: #008000\">DEBUG   </span> RUN COMMAND:                                                 <span style=\"color: #7f7f7f; text-decoration-color: #7f7f7f\">runner.py:79</span>\n",
       "<span style=\"color: #7fbfbf; text-decoration-color: #7fbfbf\">           </span>         <span style=\"color: #008080; text-decoration-color: #008080; font-weight: bold\">gtime -f </span><span style=\"color: #008000; text-decoration-color: #008000\">'%e'</span><span style=\"color: #008080; text-decoration-color: #008080; font-weight: bold\"> </span><span style=\"color: #800080; text-decoration-color: #800080; font-weight: bold\">/Users/qnbhd/Development/gimeltune/examples/gcc</span> <span style=\"color: #7f7f7f; text-decoration-color: #7f7f7f\">            </span>\n",
       "<span style=\"color: #7fbfbf; text-decoration-color: #7fbfbf\">           </span>         <span style=\"color: #800080; text-decoration-color: #800080; font-weight: bold\">/</span><span style=\"color: #ff00ff; text-decoration-color: #ff00ff; font-weight: bold\">f63d3e53489e7400af4fa3f828fa84c4045c6b6a9524985c8b16f7a4b81</span> <span style=\"color: #7f7f7f; text-decoration-color: #7f7f7f\">            </span>\n",
       "<span style=\"color: #7fbfbf; text-decoration-color: #7fbfbf\">           </span>         <span style=\"color: #ff00ff; text-decoration-color: #ff00ff; font-weight: bold\">4f9a113092.out</span><span style=\"color: #008080; text-decoration-color: #008080; font-weight: bold\"> </span><span style=\"color: #008080; text-decoration-color: #008080; font-weight: bold\">2</span><span style=\"color: #008080; text-decoration-color: #008080; font-weight: bold\">&gt;&amp;</span><span style=\"color: #008080; text-decoration-color: #008080; font-weight: bold\">1</span>                                          <span style=\"color: #7f7f7f; text-decoration-color: #7f7f7f\">            </span>\n",
       "</pre>\n"
      ],
      "text/plain": [
       "\u001b[2;36m          \u001b[0m\u001b[2;36m \u001b[0m\u001b[32mDEBUG   \u001b[0m RUN COMMAND:                                                 \u001b[2mrunner.py\u001b[0m\u001b[2m:\u001b[0m\u001b[2m79\u001b[0m\n",
       "\u001b[2;36m           \u001b[0m         \u001b[1;36mgtime -f \u001b[0m\u001b[32m'%e'\u001b[0m\u001b[1;36m \u001b[0m\u001b[1;35m/Users/qnbhd/Development/gimeltune/examples/gcc\u001b[0m \u001b[2m            \u001b[0m\n",
       "\u001b[2;36m           \u001b[0m         \u001b[1;35m/\u001b[0m\u001b[1;95mf63d3e53489e7400af4fa3f828fa84c4045c6b6a9524985c8b16f7a4b81\u001b[0m \u001b[2m            \u001b[0m\n",
       "\u001b[2;36m           \u001b[0m         \u001b[1;95m4f9a113092.out\u001b[0m\u001b[1;36m \u001b[0m\u001b[1;36m2\u001b[0m\u001b[1;36m>&\u001b[0m\u001b[1;36m1\u001b[0m                                          \u001b[2m            \u001b[0m\n"
      ]
     },
     "metadata": {},
     "output_type": "display_data"
    },
    {
     "data": {
      "text/html": [
       "<pre style=\"white-space:pre;overflow-x:auto;line-height:normal;font-family:Menlo,'DejaVu Sans Mono',consolas,'Courier New',monospace\"><span style=\"color: #7fbfbf; text-decoration-color: #7fbfbf\">           </span><span style=\"color: #000080; text-decoration-color: #000080\">INFO    </span> <span style=\"color: #808000; text-decoration-color: #808000; font-weight: bold\">OUT: </span><span style=\"color: #008080; text-decoration-color: #008080; font-weight: bold\">0.16</span>                                                    <span style=\"color: #7f7f7f; text-decoration-color: #7f7f7f\">runner.py:85</span>\n",
       "</pre>\n"
      ],
      "text/plain": [
       "\u001b[2;36m          \u001b[0m\u001b[2;36m \u001b[0m\u001b[34mINFO    \u001b[0m \u001b[1;33mOUT: \u001b[0m\u001b[1;36m0.16\u001b[0m                                                    \u001b[2mrunner.py\u001b[0m\u001b[2m:\u001b[0m\u001b[2m85\u001b[0m\n"
      ]
     },
     "metadata": {},
     "output_type": "display_data"
    },
    {
     "data": {
      "text/html": [
       "<pre style=\"white-space:pre;overflow-x:auto;line-height:normal;font-family:Menlo,'DejaVu Sans Mono',consolas,'Courier New',monospace\"><span style=\"color: #7fbfbf; text-decoration-color: #7fbfbf\">           </span><span style=\"color: #008000; text-decoration-color: #008000\">DEBUG   </span> RUN COMMAND:                                                 <span style=\"color: #7f7f7f; text-decoration-color: #7f7f7f\">runner.py:79</span>\n",
       "<span style=\"color: #7fbfbf; text-decoration-color: #7fbfbf\">           </span>         <span style=\"color: #008080; text-decoration-color: #008080; font-weight: bold\">gtime -f </span><span style=\"color: #008000; text-decoration-color: #008000\">'%e'</span><span style=\"color: #008080; text-decoration-color: #008080; font-weight: bold\"> </span><span style=\"color: #800080; text-decoration-color: #800080; font-weight: bold\">/Users/qnbhd/Development/gimeltune/examples/gcc</span> <span style=\"color: #7f7f7f; text-decoration-color: #7f7f7f\">            </span>\n",
       "<span style=\"color: #7fbfbf; text-decoration-color: #7fbfbf\">           </span>         <span style=\"color: #800080; text-decoration-color: #800080; font-weight: bold\">/</span><span style=\"color: #ff00ff; text-decoration-color: #ff00ff; font-weight: bold\">f63d3e53489e7400af4fa3f828fa84c4045c6b6a9524985c8b16f7a4b81</span> <span style=\"color: #7f7f7f; text-decoration-color: #7f7f7f\">            </span>\n",
       "<span style=\"color: #7fbfbf; text-decoration-color: #7fbfbf\">           </span>         <span style=\"color: #ff00ff; text-decoration-color: #ff00ff; font-weight: bold\">4f9a113092.out</span><span style=\"color: #008080; text-decoration-color: #008080; font-weight: bold\"> </span><span style=\"color: #008080; text-decoration-color: #008080; font-weight: bold\">2</span><span style=\"color: #008080; text-decoration-color: #008080; font-weight: bold\">&gt;&amp;</span><span style=\"color: #008080; text-decoration-color: #008080; font-weight: bold\">1</span>                                          <span style=\"color: #7f7f7f; text-decoration-color: #7f7f7f\">            </span>\n",
       "</pre>\n"
      ],
      "text/plain": [
       "\u001b[2;36m          \u001b[0m\u001b[2;36m \u001b[0m\u001b[32mDEBUG   \u001b[0m RUN COMMAND:                                                 \u001b[2mrunner.py\u001b[0m\u001b[2m:\u001b[0m\u001b[2m79\u001b[0m\n",
       "\u001b[2;36m           \u001b[0m         \u001b[1;36mgtime -f \u001b[0m\u001b[32m'%e'\u001b[0m\u001b[1;36m \u001b[0m\u001b[1;35m/Users/qnbhd/Development/gimeltune/examples/gcc\u001b[0m \u001b[2m            \u001b[0m\n",
       "\u001b[2;36m           \u001b[0m         \u001b[1;35m/\u001b[0m\u001b[1;95mf63d3e53489e7400af4fa3f828fa84c4045c6b6a9524985c8b16f7a4b81\u001b[0m \u001b[2m            \u001b[0m\n",
       "\u001b[2;36m           \u001b[0m         \u001b[1;95m4f9a113092.out\u001b[0m\u001b[1;36m \u001b[0m\u001b[1;36m2\u001b[0m\u001b[1;36m>&\u001b[0m\u001b[1;36m1\u001b[0m                                          \u001b[2m            \u001b[0m\n"
      ]
     },
     "metadata": {},
     "output_type": "display_data"
    },
    {
     "data": {
      "text/html": [
       "<pre style=\"white-space:pre;overflow-x:auto;line-height:normal;font-family:Menlo,'DejaVu Sans Mono',consolas,'Courier New',monospace\"><span style=\"color: #7fbfbf; text-decoration-color: #7fbfbf\">           </span><span style=\"color: #000080; text-decoration-color: #000080\">INFO    </span> <span style=\"color: #808000; text-decoration-color: #808000; font-weight: bold\">OUT: </span><span style=\"color: #008080; text-decoration-color: #008080; font-weight: bold\">0.10</span>                                                    <span style=\"color: #7f7f7f; text-decoration-color: #7f7f7f\">runner.py:85</span>\n",
       "</pre>\n"
      ],
      "text/plain": [
       "\u001b[2;36m          \u001b[0m\u001b[2;36m \u001b[0m\u001b[34mINFO    \u001b[0m \u001b[1;33mOUT: \u001b[0m\u001b[1;36m0.10\u001b[0m                                                    \u001b[2mrunner.py\u001b[0m\u001b[2m:\u001b[0m\u001b[2m85\u001b[0m\n"
      ]
     },
     "metadata": {},
     "output_type": "display_data"
    },
    {
     "data": {
      "text/html": [
       "<pre style=\"white-space:pre;overflow-x:auto;line-height:normal;font-family:Menlo,'DejaVu Sans Mono',consolas,'Courier New',monospace\"><span style=\"color: #7fbfbf; text-decoration-color: #7fbfbf\">           </span><span style=\"color: #008000; text-decoration-color: #008000\">DEBUG   </span> RUN COMMAND:                                                 <span style=\"color: #7f7f7f; text-decoration-color: #7f7f7f\">runner.py:79</span>\n",
       "<span style=\"color: #7fbfbf; text-decoration-color: #7fbfbf\">           </span>         <span style=\"color: #008080; text-decoration-color: #008080; font-weight: bold\">gtime -f </span><span style=\"color: #008000; text-decoration-color: #008000\">'%e'</span><span style=\"color: #008080; text-decoration-color: #008080; font-weight: bold\"> </span><span style=\"color: #800080; text-decoration-color: #800080; font-weight: bold\">/Users/qnbhd/Development/gimeltune/examples/gcc</span> <span style=\"color: #7f7f7f; text-decoration-color: #7f7f7f\">            </span>\n",
       "<span style=\"color: #7fbfbf; text-decoration-color: #7fbfbf\">           </span>         <span style=\"color: #800080; text-decoration-color: #800080; font-weight: bold\">/</span><span style=\"color: #ff00ff; text-decoration-color: #ff00ff; font-weight: bold\">f63d3e53489e7400af4fa3f828fa84c4045c6b6a9524985c8b16f7a4b81</span> <span style=\"color: #7f7f7f; text-decoration-color: #7f7f7f\">            </span>\n",
       "<span style=\"color: #7fbfbf; text-decoration-color: #7fbfbf\">           </span>         <span style=\"color: #ff00ff; text-decoration-color: #ff00ff; font-weight: bold\">4f9a113092.out</span><span style=\"color: #008080; text-decoration-color: #008080; font-weight: bold\"> </span><span style=\"color: #008080; text-decoration-color: #008080; font-weight: bold\">2</span><span style=\"color: #008080; text-decoration-color: #008080; font-weight: bold\">&gt;&amp;</span><span style=\"color: #008080; text-decoration-color: #008080; font-weight: bold\">1</span>                                          <span style=\"color: #7f7f7f; text-decoration-color: #7f7f7f\">            </span>\n",
       "</pre>\n"
      ],
      "text/plain": [
       "\u001b[2;36m          \u001b[0m\u001b[2;36m \u001b[0m\u001b[32mDEBUG   \u001b[0m RUN COMMAND:                                                 \u001b[2mrunner.py\u001b[0m\u001b[2m:\u001b[0m\u001b[2m79\u001b[0m\n",
       "\u001b[2;36m           \u001b[0m         \u001b[1;36mgtime -f \u001b[0m\u001b[32m'%e'\u001b[0m\u001b[1;36m \u001b[0m\u001b[1;35m/Users/qnbhd/Development/gimeltune/examples/gcc\u001b[0m \u001b[2m            \u001b[0m\n",
       "\u001b[2;36m           \u001b[0m         \u001b[1;35m/\u001b[0m\u001b[1;95mf63d3e53489e7400af4fa3f828fa84c4045c6b6a9524985c8b16f7a4b81\u001b[0m \u001b[2m            \u001b[0m\n",
       "\u001b[2;36m           \u001b[0m         \u001b[1;95m4f9a113092.out\u001b[0m\u001b[1;36m \u001b[0m\u001b[1;36m2\u001b[0m\u001b[1;36m>&\u001b[0m\u001b[1;36m1\u001b[0m                                          \u001b[2m            \u001b[0m\n"
      ]
     },
     "metadata": {},
     "output_type": "display_data"
    },
    {
     "data": {
      "text/html": [
       "<pre style=\"white-space:pre;overflow-x:auto;line-height:normal;font-family:Menlo,'DejaVu Sans Mono',consolas,'Courier New',monospace\"><span style=\"color: #7fbfbf; text-decoration-color: #7fbfbf\">           </span><span style=\"color: #000080; text-decoration-color: #000080\">INFO    </span> <span style=\"color: #808000; text-decoration-color: #808000; font-weight: bold\">OUT: </span><span style=\"color: #008080; text-decoration-color: #008080; font-weight: bold\">0.10</span>                                                    <span style=\"color: #7f7f7f; text-decoration-color: #7f7f7f\">runner.py:85</span>\n",
       "</pre>\n"
      ],
      "text/plain": [
       "\u001b[2;36m          \u001b[0m\u001b[2;36m \u001b[0m\u001b[34mINFO    \u001b[0m \u001b[1;33mOUT: \u001b[0m\u001b[1;36m0.10\u001b[0m                                                    \u001b[2mrunner.py\u001b[0m\u001b[2m:\u001b[0m\u001b[2m85\u001b[0m\n"
      ]
     },
     "metadata": {},
     "output_type": "display_data"
    },
    {
     "data": {
      "text/html": [
       "<pre style=\"white-space:pre;overflow-x:auto;line-height:normal;font-family:Menlo,'DejaVu Sans Mono',consolas,'Courier New',monospace\"><span style=\"color: #7fbfbf; text-decoration-color: #7fbfbf\">           </span><span style=\"color: #008000; text-decoration-color: #008000\">DEBUG   </span> RUN COMMAND:                                                 <span style=\"color: #7f7f7f; text-decoration-color: #7f7f7f\">runner.py:79</span>\n",
       "<span style=\"color: #7fbfbf; text-decoration-color: #7fbfbf\">           </span>         <span style=\"color: #008080; text-decoration-color: #008080; font-weight: bold\">gtime -f </span><span style=\"color: #008000; text-decoration-color: #008000\">'%e'</span><span style=\"color: #008080; text-decoration-color: #008080; font-weight: bold\"> </span><span style=\"color: #800080; text-decoration-color: #800080; font-weight: bold\">/Users/qnbhd/Development/gimeltune/examples/gcc</span> <span style=\"color: #7f7f7f; text-decoration-color: #7f7f7f\">            </span>\n",
       "<span style=\"color: #7fbfbf; text-decoration-color: #7fbfbf\">           </span>         <span style=\"color: #800080; text-decoration-color: #800080; font-weight: bold\">/</span><span style=\"color: #ff00ff; text-decoration-color: #ff00ff; font-weight: bold\">f63d3e53489e7400af4fa3f828fa84c4045c6b6a9524985c8b16f7a4b81</span> <span style=\"color: #7f7f7f; text-decoration-color: #7f7f7f\">            </span>\n",
       "<span style=\"color: #7fbfbf; text-decoration-color: #7fbfbf\">           </span>         <span style=\"color: #ff00ff; text-decoration-color: #ff00ff; font-weight: bold\">4f9a113092.out</span><span style=\"color: #008080; text-decoration-color: #008080; font-weight: bold\"> </span><span style=\"color: #008080; text-decoration-color: #008080; font-weight: bold\">2</span><span style=\"color: #008080; text-decoration-color: #008080; font-weight: bold\">&gt;&amp;</span><span style=\"color: #008080; text-decoration-color: #008080; font-weight: bold\">1</span>                                          <span style=\"color: #7f7f7f; text-decoration-color: #7f7f7f\">            </span>\n",
       "</pre>\n"
      ],
      "text/plain": [
       "\u001b[2;36m          \u001b[0m\u001b[2;36m \u001b[0m\u001b[32mDEBUG   \u001b[0m RUN COMMAND:                                                 \u001b[2mrunner.py\u001b[0m\u001b[2m:\u001b[0m\u001b[2m79\u001b[0m\n",
       "\u001b[2;36m           \u001b[0m         \u001b[1;36mgtime -f \u001b[0m\u001b[32m'%e'\u001b[0m\u001b[1;36m \u001b[0m\u001b[1;35m/Users/qnbhd/Development/gimeltune/examples/gcc\u001b[0m \u001b[2m            \u001b[0m\n",
       "\u001b[2;36m           \u001b[0m         \u001b[1;35m/\u001b[0m\u001b[1;95mf63d3e53489e7400af4fa3f828fa84c4045c6b6a9524985c8b16f7a4b81\u001b[0m \u001b[2m            \u001b[0m\n",
       "\u001b[2;36m           \u001b[0m         \u001b[1;95m4f9a113092.out\u001b[0m\u001b[1;36m \u001b[0m\u001b[1;36m2\u001b[0m\u001b[1;36m>&\u001b[0m\u001b[1;36m1\u001b[0m                                          \u001b[2m            \u001b[0m\n"
      ]
     },
     "metadata": {},
     "output_type": "display_data"
    },
    {
     "data": {
      "text/html": [
       "<pre style=\"white-space:pre;overflow-x:auto;line-height:normal;font-family:Menlo,'DejaVu Sans Mono',consolas,'Courier New',monospace\"><span style=\"color: #7fbfbf; text-decoration-color: #7fbfbf\">           </span><span style=\"color: #000080; text-decoration-color: #000080\">INFO    </span> <span style=\"color: #808000; text-decoration-color: #808000; font-weight: bold\">OUT: </span><span style=\"color: #008080; text-decoration-color: #008080; font-weight: bold\">0.11</span>                                                    <span style=\"color: #7f7f7f; text-decoration-color: #7f7f7f\">runner.py:85</span>\n",
       "</pre>\n"
      ],
      "text/plain": [
       "\u001b[2;36m          \u001b[0m\u001b[2;36m \u001b[0m\u001b[34mINFO    \u001b[0m \u001b[1;33mOUT: \u001b[0m\u001b[1;36m0.11\u001b[0m                                                    \u001b[2mrunner.py\u001b[0m\u001b[2m:\u001b[0m\u001b[2m85\u001b[0m\n"
      ]
     },
     "metadata": {},
     "output_type": "display_data"
    },
    {
     "data": {
      "text/html": [
       "<pre style=\"white-space:pre;overflow-x:auto;line-height:normal;font-family:Menlo,'DejaVu Sans Mono',consolas,'Courier New',monospace\"><span style=\"color: #7fbfbf; text-decoration-color: #7fbfbf\">           </span><span style=\"color: #008000; text-decoration-color: #008000\">DEBUG   </span> RUN COMMAND:                                                 <span style=\"color: #7f7f7f; text-decoration-color: #7f7f7f\">runner.py:79</span>\n",
       "<span style=\"color: #7fbfbf; text-decoration-color: #7fbfbf\">           </span>         <span style=\"color: #008080; text-decoration-color: #008080; font-weight: bold\">gtime -f </span><span style=\"color: #008000; text-decoration-color: #008000\">'%e'</span><span style=\"color: #008080; text-decoration-color: #008080; font-weight: bold\"> </span><span style=\"color: #800080; text-decoration-color: #800080; font-weight: bold\">/Users/qnbhd/Development/gimeltune/examples/gcc</span> <span style=\"color: #7f7f7f; text-decoration-color: #7f7f7f\">            </span>\n",
       "<span style=\"color: #7fbfbf; text-decoration-color: #7fbfbf\">           </span>         <span style=\"color: #800080; text-decoration-color: #800080; font-weight: bold\">/</span><span style=\"color: #ff00ff; text-decoration-color: #ff00ff; font-weight: bold\">f63d3e53489e7400af4fa3f828fa84c4045c6b6a9524985c8b16f7a4b81</span> <span style=\"color: #7f7f7f; text-decoration-color: #7f7f7f\">            </span>\n",
       "<span style=\"color: #7fbfbf; text-decoration-color: #7fbfbf\">           </span>         <span style=\"color: #ff00ff; text-decoration-color: #ff00ff; font-weight: bold\">4f9a113092.out</span><span style=\"color: #008080; text-decoration-color: #008080; font-weight: bold\"> </span><span style=\"color: #008080; text-decoration-color: #008080; font-weight: bold\">2</span><span style=\"color: #008080; text-decoration-color: #008080; font-weight: bold\">&gt;&amp;</span><span style=\"color: #008080; text-decoration-color: #008080; font-weight: bold\">1</span>                                          <span style=\"color: #7f7f7f; text-decoration-color: #7f7f7f\">            </span>\n",
       "</pre>\n"
      ],
      "text/plain": [
       "\u001b[2;36m          \u001b[0m\u001b[2;36m \u001b[0m\u001b[32mDEBUG   \u001b[0m RUN COMMAND:                                                 \u001b[2mrunner.py\u001b[0m\u001b[2m:\u001b[0m\u001b[2m79\u001b[0m\n",
       "\u001b[2;36m           \u001b[0m         \u001b[1;36mgtime -f \u001b[0m\u001b[32m'%e'\u001b[0m\u001b[1;36m \u001b[0m\u001b[1;35m/Users/qnbhd/Development/gimeltune/examples/gcc\u001b[0m \u001b[2m            \u001b[0m\n",
       "\u001b[2;36m           \u001b[0m         \u001b[1;35m/\u001b[0m\u001b[1;95mf63d3e53489e7400af4fa3f828fa84c4045c6b6a9524985c8b16f7a4b81\u001b[0m \u001b[2m            \u001b[0m\n",
       "\u001b[2;36m           \u001b[0m         \u001b[1;95m4f9a113092.out\u001b[0m\u001b[1;36m \u001b[0m\u001b[1;36m2\u001b[0m\u001b[1;36m>&\u001b[0m\u001b[1;36m1\u001b[0m                                          \u001b[2m            \u001b[0m\n"
      ]
     },
     "metadata": {},
     "output_type": "display_data"
    },
    {
     "data": {
      "text/html": [
       "<pre style=\"white-space:pre;overflow-x:auto;line-height:normal;font-family:Menlo,'DejaVu Sans Mono',consolas,'Courier New',monospace\"><span style=\"color: #7fbfbf; text-decoration-color: #7fbfbf\">           </span><span style=\"color: #000080; text-decoration-color: #000080\">INFO    </span> <span style=\"color: #808000; text-decoration-color: #808000; font-weight: bold\">OUT: </span><span style=\"color: #008080; text-decoration-color: #008080; font-weight: bold\">0.10</span>                                                    <span style=\"color: #7f7f7f; text-decoration-color: #7f7f7f\">runner.py:85</span>\n",
       "</pre>\n"
      ],
      "text/plain": [
       "\u001b[2;36m          \u001b[0m\u001b[2;36m \u001b[0m\u001b[34mINFO    \u001b[0m \u001b[1;33mOUT: \u001b[0m\u001b[1;36m0.10\u001b[0m                                                    \u001b[2mrunner.py\u001b[0m\u001b[2m:\u001b[0m\u001b[2m85\u001b[0m\n"
      ]
     },
     "metadata": {},
     "output_type": "display_data"
    },
    {
     "data": {
      "text/html": [
       "<pre style=\"white-space:pre;overflow-x:auto;line-height:normal;font-family:Menlo,'DejaVu Sans Mono',consolas,'Courier New',monospace\"><span style=\"color: #7fbfbf; text-decoration-color: #7fbfbf\">           </span><span style=\"color: #008000; text-decoration-color: #008000\">DEBUG   </span> RUN COMMAND:                                                 <span style=\"color: #7f7f7f; text-decoration-color: #7f7f7f\">runner.py:79</span>\n",
       "<span style=\"color: #7fbfbf; text-decoration-color: #7fbfbf\">           </span>         <span style=\"color: #008080; text-decoration-color: #008080; font-weight: bold\">rm </span><span style=\"color: #800080; text-decoration-color: #800080; font-weight: bold\">/Users/qnbhd/Development/gimeltune/examples/gcc/</span><span style=\"color: #ff00ff; text-decoration-color: #ff00ff; font-weight: bold\">f63d3e5348</span> <span style=\"color: #7f7f7f; text-decoration-color: #7f7f7f\">            </span>\n",
       "<span style=\"color: #7fbfbf; text-decoration-color: #7fbfbf\">           </span>         <span style=\"color: #ff00ff; text-decoration-color: #ff00ff; font-weight: bold\">9e7400af4fa3f828fa84c4045c6b6a9524985c8b16f7a4b814f9a113092.</span> <span style=\"color: #7f7f7f; text-decoration-color: #7f7f7f\">            </span>\n",
       "<span style=\"color: #7fbfbf; text-decoration-color: #7fbfbf\">           </span>         <span style=\"color: #ff00ff; text-decoration-color: #ff00ff; font-weight: bold\">out</span>                                                          <span style=\"color: #7f7f7f; text-decoration-color: #7f7f7f\">            </span>\n",
       "</pre>\n"
      ],
      "text/plain": [
       "\u001b[2;36m          \u001b[0m\u001b[2;36m \u001b[0m\u001b[32mDEBUG   \u001b[0m RUN COMMAND:                                                 \u001b[2mrunner.py\u001b[0m\u001b[2m:\u001b[0m\u001b[2m79\u001b[0m\n",
       "\u001b[2;36m           \u001b[0m         \u001b[1;36mrm \u001b[0m\u001b[1;35m/Users/qnbhd/Development/gimeltune/examples/gcc/\u001b[0m\u001b[1;95mf63d3e5348\u001b[0m \u001b[2m            \u001b[0m\n",
       "\u001b[2;36m           \u001b[0m         \u001b[1;95m9e7400af4fa3f828fa84c4045c6b6a9524985c8b16f7a4b814f9a113092.\u001b[0m \u001b[2m            \u001b[0m\n",
       "\u001b[2;36m           \u001b[0m         \u001b[1;95mout\u001b[0m                                                          \u001b[2m            \u001b[0m\n"
      ]
     },
     "metadata": {},
     "output_type": "display_data"
    },
    {
     "data": {
      "text/html": [
       "<pre style=\"white-space:pre;overflow-x:auto;line-height:normal;font-family:Menlo,'DejaVu Sans Mono',consolas,'Courier New',monospace\"><span style=\"color: #7fbfbf; text-decoration-color: #7fbfbf\">[11:17:33] </span><span style=\"color: #000080; text-decoration-color: #000080\">INFO    </span> Trying experiment: <span style=\"color: #800080; text-decoration-color: #800080; font-weight: bold\">Experiment</span><span style=\"font-weight: bold\">({</span>                             <span style=\"color: #7f7f7f; text-decoration-color: #7f7f7f\">runner.py:156</span>\n",
       "<span style=\"color: #7fbfbf; text-decoration-color: #7fbfbf\">           </span>             <span style=\"color: #008000; text-decoration-color: #008000\">\"id\"</span>: <span style=\"color: #008080; text-decoration-color: #008080; font-weight: bold\">18</span>,                                               <span style=\"color: #7f7f7f; text-decoration-color: #7f7f7f\">             </span>\n",
       "<span style=\"color: #7fbfbf; text-decoration-color: #7fbfbf\">           </span>             <span style=\"color: #008000; text-decoration-color: #008000\">\"job_id\"</span>: <span style=\"color: #008080; text-decoration-color: #008080; font-weight: bold\">1</span>,                                            <span style=\"color: #7f7f7f; text-decoration-color: #7f7f7f\">             </span>\n",
       "<span style=\"color: #7fbfbf; text-decoration-color: #7fbfbf\">           </span>             <span style=\"color: #008000; text-decoration-color: #008000\">\"state\"</span>: <span style=\"color: #008000; text-decoration-color: #008000\">\"WIP\"</span>,                                         <span style=\"color: #7f7f7f; text-decoration-color: #7f7f7f\">             </span>\n",
       "<span style=\"color: #7fbfbf; text-decoration-color: #7fbfbf\">           </span>             <span style=\"color: #008000; text-decoration-color: #008000\">\"hash\"</span>: null,                                           <span style=\"color: #7f7f7f; text-decoration-color: #7f7f7f\">             </span>\n",
       "<span style=\"color: #7fbfbf; text-decoration-color: #7fbfbf\">           </span>             <span style=\"color: #008000; text-decoration-color: #008000\">\"objective_result\"</span>: null,                               <span style=\"color: #7f7f7f; text-decoration-color: #7f7f7f\">             </span>\n",
       "<span style=\"color: #7fbfbf; text-decoration-color: #7fbfbf\">           </span>             <span style=\"color: #008000; text-decoration-color: #008000\">\"params\"</span>: <span style=\"font-weight: bold\">{</span>                                             <span style=\"color: #7f7f7f; text-decoration-color: #7f7f7f\">             </span>\n",
       "<span style=\"color: #7fbfbf; text-decoration-color: #7fbfbf\">           </span>                 <span style=\"color: #008000; text-decoration-color: #008000\">\"-O\"</span>: <span style=\"color: #008000; text-decoration-color: #008000\">\"-O3\"</span>,                                        <span style=\"color: #7f7f7f; text-decoration-color: #7f7f7f\">             </span>\n",
       "<span style=\"color: #7fbfbf; text-decoration-color: #7fbfbf\">           </span>                 <span style=\"color: #008000; text-decoration-color: #008000\">\"align-functions\"</span>: null,                            <span style=\"color: #7f7f7f; text-decoration-color: #7f7f7f\">             </span>\n",
       "<span style=\"color: #7fbfbf; text-decoration-color: #7fbfbf\">           </span>                 <span style=\"color: #008000; text-decoration-color: #008000\">\"align-jumps\"</span>: <span style=\"color: #008000; text-decoration-color: #008000\">\"-fno-align-jumps\"</span>,                  <span style=\"color: #7f7f7f; text-decoration-color: #7f7f7f\">             </span>\n",
       "<span style=\"color: #7fbfbf; text-decoration-color: #7fbfbf\">           </span>                 <span style=\"color: #008000; text-decoration-color: #008000\">\"align-labels\"</span>: null,                               <span style=\"color: #7f7f7f; text-decoration-color: #7f7f7f\">             </span>\n",
       "<span style=\"color: #7fbfbf; text-decoration-color: #7fbfbf\">           </span>                 <span style=\"color: #008000; text-decoration-color: #008000\">\"asynchronous-unwind-tables\"</span>: null,                 <span style=\"color: #7f7f7f; text-decoration-color: #7f7f7f\">             </span>\n",
       "<span style=\"color: #7fbfbf; text-decoration-color: #7fbfbf\">           </span>                 <span style=\"color: #008000; text-decoration-color: #008000\">\"branch-count-reg\"</span>: <span style=\"color: #008000; text-decoration-color: #008000\">\"-fno-branch-count-reg\"</span>,        <span style=\"color: #7f7f7f; text-decoration-color: #7f7f7f\">             </span>\n",
       "<span style=\"color: #7fbfbf; text-decoration-color: #7fbfbf\">           </span>                 <span style=\"color: #008000; text-decoration-color: #008000\">\"branch-probabilities\"</span>: null,                       <span style=\"color: #7f7f7f; text-decoration-color: #7f7f7f\">             </span>\n",
       "<span style=\"color: #7fbfbf; text-decoration-color: #7fbfbf\">           </span>                 <span style=\"color: #008000; text-decoration-color: #008000\">\"early-inlining-insns\"</span>: <span style=\"color: #008080; text-decoration-color: #008080; font-weight: bold\">496</span>,                        <span style=\"color: #7f7f7f; text-decoration-color: #7f7f7f\">             </span>\n",
       "<span style=\"color: #7fbfbf; text-decoration-color: #7fbfbf\">           </span>                 <span style=\"color: #008000; text-decoration-color: #008000\">\"gcse-cost-distance-ratio\"</span>: <span style=\"color: #008080; text-decoration-color: #008080; font-weight: bold\">88</span>,                     <span style=\"color: #7f7f7f; text-decoration-color: #7f7f7f\">             </span>\n",
       "<span style=\"color: #7fbfbf; text-decoration-color: #7fbfbf\">           </span>                 <span style=\"color: #008000; text-decoration-color: #008000\">\"iv-max-considered-uses\"</span>: <span style=\"color: #008080; text-decoration-color: #008080; font-weight: bold\">224</span>                       <span style=\"color: #7f7f7f; text-decoration-color: #7f7f7f\">             </span>\n",
       "<span style=\"color: #7fbfbf; text-decoration-color: #7fbfbf\">           </span>             <span style=\"font-weight: bold\">}</span>,                                                      <span style=\"color: #7f7f7f; text-decoration-color: #7f7f7f\">             </span>\n",
       "<span style=\"color: #7fbfbf; text-decoration-color: #7fbfbf\">           </span>             <span style=\"color: #008000; text-decoration-color: #008000\">\"requestor\"</span>: <span style=\"color: #008000; text-decoration-color: #008000\">\"SkoptBayesianAlgorithm\"</span>,                  <span style=\"color: #7f7f7f; text-decoration-color: #7f7f7f\">             </span>\n",
       "<span style=\"color: #7fbfbf; text-decoration-color: #7fbfbf\">           </span>             <span style=\"color: #008000; text-decoration-color: #008000\">\"create_timestamp\"</span>: <span style=\"color: #008080; text-decoration-color: #008080; font-weight: bold\">1645690651.318886</span>,                  <span style=\"color: #7f7f7f; text-decoration-color: #7f7f7f\">             </span>\n",
       "<span style=\"color: #7fbfbf; text-decoration-color: #7fbfbf\">           </span>             <span style=\"color: #008000; text-decoration-color: #008000\">\"finish_timestamp\"</span>: null                                <span style=\"color: #7f7f7f; text-decoration-color: #7f7f7f\">             </span>\n",
       "<span style=\"color: #7fbfbf; text-decoration-color: #7fbfbf\">           </span>         <span style=\"font-weight: bold\">})</span>                                                          <span style=\"color: #7f7f7f; text-decoration-color: #7f7f7f\">             </span>\n",
       "</pre>\n"
      ],
      "text/plain": [
       "\u001b[2;36m[11:17:33]\u001b[0m\u001b[2;36m \u001b[0m\u001b[34mINFO    \u001b[0m Trying experiment: \u001b[1;35mExperiment\u001b[0m\u001b[1m(\u001b[0m\u001b[1m{\u001b[0m                             \u001b[2mrunner.py\u001b[0m\u001b[2m:\u001b[0m\u001b[2m156\u001b[0m\n",
       "\u001b[2;36m           \u001b[0m             \u001b[32m\"id\"\u001b[0m: \u001b[1;36m18\u001b[0m,                                               \u001b[2m             \u001b[0m\n",
       "\u001b[2;36m           \u001b[0m             \u001b[32m\"job_id\"\u001b[0m: \u001b[1;36m1\u001b[0m,                                            \u001b[2m             \u001b[0m\n",
       "\u001b[2;36m           \u001b[0m             \u001b[32m\"state\"\u001b[0m: \u001b[32m\"WIP\"\u001b[0m,                                         \u001b[2m             \u001b[0m\n",
       "\u001b[2;36m           \u001b[0m             \u001b[32m\"hash\"\u001b[0m: null,                                           \u001b[2m             \u001b[0m\n",
       "\u001b[2;36m           \u001b[0m             \u001b[32m\"objective_result\"\u001b[0m: null,                               \u001b[2m             \u001b[0m\n",
       "\u001b[2;36m           \u001b[0m             \u001b[32m\"params\"\u001b[0m: \u001b[1m{\u001b[0m                                             \u001b[2m             \u001b[0m\n",
       "\u001b[2;36m           \u001b[0m                 \u001b[32m\"-O\"\u001b[0m: \u001b[32m\"-O3\"\u001b[0m,                                        \u001b[2m             \u001b[0m\n",
       "\u001b[2;36m           \u001b[0m                 \u001b[32m\"align-functions\"\u001b[0m: null,                            \u001b[2m             \u001b[0m\n",
       "\u001b[2;36m           \u001b[0m                 \u001b[32m\"align-jumps\"\u001b[0m: \u001b[32m\"-fno-align-jumps\"\u001b[0m,                  \u001b[2m             \u001b[0m\n",
       "\u001b[2;36m           \u001b[0m                 \u001b[32m\"align-labels\"\u001b[0m: null,                               \u001b[2m             \u001b[0m\n",
       "\u001b[2;36m           \u001b[0m                 \u001b[32m\"asynchronous-unwind-tables\"\u001b[0m: null,                 \u001b[2m             \u001b[0m\n",
       "\u001b[2;36m           \u001b[0m                 \u001b[32m\"branch-count-reg\"\u001b[0m: \u001b[32m\"-fno-branch-count-reg\"\u001b[0m,        \u001b[2m             \u001b[0m\n",
       "\u001b[2;36m           \u001b[0m                 \u001b[32m\"branch-probabilities\"\u001b[0m: null,                       \u001b[2m             \u001b[0m\n",
       "\u001b[2;36m           \u001b[0m                 \u001b[32m\"early-inlining-insns\"\u001b[0m: \u001b[1;36m496\u001b[0m,                        \u001b[2m             \u001b[0m\n",
       "\u001b[2;36m           \u001b[0m                 \u001b[32m\"gcse-cost-distance-ratio\"\u001b[0m: \u001b[1;36m88\u001b[0m,                     \u001b[2m             \u001b[0m\n",
       "\u001b[2;36m           \u001b[0m                 \u001b[32m\"iv-max-considered-uses\"\u001b[0m: \u001b[1;36m224\u001b[0m                       \u001b[2m             \u001b[0m\n",
       "\u001b[2;36m           \u001b[0m             \u001b[1m}\u001b[0m,                                                      \u001b[2m             \u001b[0m\n",
       "\u001b[2;36m           \u001b[0m             \u001b[32m\"requestor\"\u001b[0m: \u001b[32m\"SkoptBayesianAlgorithm\"\u001b[0m,                  \u001b[2m             \u001b[0m\n",
       "\u001b[2;36m           \u001b[0m             \u001b[32m\"create_timestamp\"\u001b[0m: \u001b[1;36m1645690651.318886\u001b[0m,                  \u001b[2m             \u001b[0m\n",
       "\u001b[2;36m           \u001b[0m             \u001b[32m\"finish_timestamp\"\u001b[0m: null                                \u001b[2m             \u001b[0m\n",
       "\u001b[2;36m           \u001b[0m         \u001b[1m}\u001b[0m\u001b[1m)\u001b[0m                                                          \u001b[2m             \u001b[0m\n"
      ]
     },
     "metadata": {},
     "output_type": "display_data"
    },
    {
     "data": {
      "text/html": [
       "<pre style=\"white-space:pre;overflow-x:auto;line-height:normal;font-family:Menlo,'DejaVu Sans Mono',consolas,'Courier New',monospace\"><span style=\"color: #7fbfbf; text-decoration-color: #7fbfbf\">           </span><span style=\"color: #008000; text-decoration-color: #008000\">DEBUG   </span> RUN COMMAND:                                                 <span style=\"color: #7f7f7f; text-decoration-color: #7f7f7f\">runner.py:79</span>\n",
       "<span style=\"color: #7fbfbf; text-decoration-color: #7fbfbf\">           </span>         <span style=\"color: #008080; text-decoration-color: #008080; font-weight: bold\">gtime -f </span><span style=\"color: #008000; text-decoration-color: #008000\">'%e'</span><span style=\"color: #008080; text-decoration-color: #008080; font-weight: bold\"> g++</span><span style=\"color: #008080; text-decoration-color: #008080; font-weight: bold\">-11</span><span style=\"color: #008080; text-decoration-color: #008080; font-weight: bold\"> -o </span><span style=\"color: #800080; text-decoration-color: #800080; font-weight: bold\">/Users/qnbhd/Development/gimeltune/ex</span> <span style=\"color: #7f7f7f; text-decoration-color: #7f7f7f\">            </span>\n",
       "<span style=\"color: #7fbfbf; text-decoration-color: #7fbfbf\">           </span>         <span style=\"color: #800080; text-decoration-color: #800080; font-weight: bold\">amples/gcc/</span><span style=\"color: #ff00ff; text-decoration-color: #ff00ff; font-weight: bold\">1b700073795caffb1418f220081ccb1b3fe49e0a4ba1649ab</span> <span style=\"color: #7f7f7f; text-decoration-color: #7f7f7f\">            </span>\n",
       "<span style=\"color: #7fbfbf; text-decoration-color: #7fbfbf\">           </span>         <span style=\"color: #ff00ff; text-decoration-color: #ff00ff; font-weight: bold\">d1a5b7bf95a3b9a92219.out</span><span style=\"color: #008080; text-decoration-color: #008080; font-weight: bold\"> </span><span style=\"color: #800080; text-decoration-color: #800080; font-weight: bold\">/Users/qnbhd/Development/gimeltune/e</span> <span style=\"color: #7f7f7f; text-decoration-color: #7f7f7f\">            </span>\n",
       "<span style=\"color: #7fbfbf; text-decoration-color: #7fbfbf\">           </span>         <span style=\"color: #800080; text-decoration-color: #800080; font-weight: bold\">xamples/gcc/raytracer/</span><span style=\"color: #ff00ff; text-decoration-color: #ff00ff; font-weight: bold\">raytracer.cpp</span><span style=\"color: #008080; text-decoration-color: #008080; font-weight: bold\"> -O3  -fno-align-jumps   </span> <span style=\"color: #7f7f7f; text-decoration-color: #7f7f7f\">            </span>\n",
       "<span style=\"color: #7fbfbf; text-decoration-color: #7fbfbf\">           </span>         <span style=\"color: #008080; text-decoration-color: #008080; font-weight: bold\">-fno-branch-count-reg  --param early-inlining-</span><span style=\"color: #808000; text-decoration-color: #808000; font-weight: bold\">insns</span><span style=\"color: #008080; text-decoration-color: #008080; font-weight: bold\">=</span><span style=\"color: #008080; text-decoration-color: #008080; font-weight: bold\">496</span><span style=\"color: #008080; text-decoration-color: #008080; font-weight: bold\"> </span>     <span style=\"color: #7f7f7f; text-decoration-color: #7f7f7f\">            </span>\n",
       "<span style=\"color: #7fbfbf; text-decoration-color: #7fbfbf\">           </span>         <span style=\"color: #008080; text-decoration-color: #008080; font-weight: bold\">--param gcse-cost-distance-</span><span style=\"color: #808000; text-decoration-color: #808000; font-weight: bold\">ratio</span><span style=\"color: #008080; text-decoration-color: #008080; font-weight: bold\">=</span><span style=\"color: #008080; text-decoration-color: #008080; font-weight: bold\">88</span><span style=\"color: #008080; text-decoration-color: #008080; font-weight: bold\"> --param </span>                 <span style=\"color: #7f7f7f; text-decoration-color: #7f7f7f\">            </span>\n",
       "<span style=\"color: #7fbfbf; text-decoration-color: #7fbfbf\">           </span>         <span style=\"color: #008080; text-decoration-color: #008080; font-weight: bold\">iv-max-considered-</span><span style=\"color: #808000; text-decoration-color: #808000; font-weight: bold\">uses</span><span style=\"color: #008080; text-decoration-color: #008080; font-weight: bold\">=</span><span style=\"color: #008080; text-decoration-color: #008080; font-weight: bold\">224</span><span style=\"color: #008080; text-decoration-color: #008080; font-weight: bold\"> </span><span style=\"color: #008080; text-decoration-color: #008080; font-weight: bold\">2</span><span style=\"color: #008080; text-decoration-color: #008080; font-weight: bold\">&gt;&amp;</span><span style=\"color: #008080; text-decoration-color: #008080; font-weight: bold\">1</span>                              <span style=\"color: #7f7f7f; text-decoration-color: #7f7f7f\">            </span>\n",
       "</pre>\n"
      ],
      "text/plain": [
       "\u001b[2;36m          \u001b[0m\u001b[2;36m \u001b[0m\u001b[32mDEBUG   \u001b[0m RUN COMMAND:                                                 \u001b[2mrunner.py\u001b[0m\u001b[2m:\u001b[0m\u001b[2m79\u001b[0m\n",
       "\u001b[2;36m           \u001b[0m         \u001b[1;36mgtime -f \u001b[0m\u001b[32m'%e'\u001b[0m\u001b[1;36m g++\u001b[0m\u001b[1;36m-11\u001b[0m\u001b[1;36m -o \u001b[0m\u001b[1;35m/Users/qnbhd/Development/gimeltune/ex\u001b[0m \u001b[2m            \u001b[0m\n",
       "\u001b[2;36m           \u001b[0m         \u001b[1;35mamples/gcc/\u001b[0m\u001b[1;95m1b700073795caffb1418f220081ccb1b3fe49e0a4ba1649ab\u001b[0m \u001b[2m            \u001b[0m\n",
       "\u001b[2;36m           \u001b[0m         \u001b[1;95md1a5b7bf95a3b9a92219.out\u001b[0m\u001b[1;36m \u001b[0m\u001b[1;35m/Users/qnbhd/Development/gimeltune/e\u001b[0m \u001b[2m            \u001b[0m\n",
       "\u001b[2;36m           \u001b[0m         \u001b[1;35mxamples/gcc/raytracer/\u001b[0m\u001b[1;95mraytracer.cpp\u001b[0m\u001b[1;36m -O3  -fno-align-jumps   \u001b[0m \u001b[2m            \u001b[0m\n",
       "\u001b[2;36m           \u001b[0m         \u001b[1;36m-fno-branch-count-reg  --param early-inlining-\u001b[0m\u001b[1;33minsns\u001b[0m\u001b[1;36m=\u001b[0m\u001b[1;36m496\u001b[0m\u001b[1;36m \u001b[0m     \u001b[2m            \u001b[0m\n",
       "\u001b[2;36m           \u001b[0m         \u001b[1;36m--param gcse-cost-distance-\u001b[0m\u001b[1;33mratio\u001b[0m\u001b[1;36m=\u001b[0m\u001b[1;36m88\u001b[0m\u001b[1;36m --param \u001b[0m                 \u001b[2m            \u001b[0m\n",
       "\u001b[2;36m           \u001b[0m         \u001b[1;36miv-max-considered-\u001b[0m\u001b[1;33muses\u001b[0m\u001b[1;36m=\u001b[0m\u001b[1;36m224\u001b[0m\u001b[1;36m \u001b[0m\u001b[1;36m2\u001b[0m\u001b[1;36m>&\u001b[0m\u001b[1;36m1\u001b[0m                              \u001b[2m            \u001b[0m\n"
      ]
     },
     "metadata": {},
     "output_type": "display_data"
    },
    {
     "data": {
      "text/html": [
       "<pre style=\"white-space:pre;overflow-x:auto;line-height:normal;font-family:Menlo,'DejaVu Sans Mono',consolas,'Courier New',monospace\"><span style=\"color: #7fbfbf; text-decoration-color: #7fbfbf\">           </span><span style=\"color: #000080; text-decoration-color: #000080\">INFO    </span> <span style=\"color: #808000; text-decoration-color: #808000; font-weight: bold\">OUT: </span><span style=\"color: #008080; text-decoration-color: #008080; font-weight: bold\">0.91</span>                                                    <span style=\"color: #7f7f7f; text-decoration-color: #7f7f7f\">runner.py:85</span>\n",
       "</pre>\n"
      ],
      "text/plain": [
       "\u001b[2;36m          \u001b[0m\u001b[2;36m \u001b[0m\u001b[34mINFO    \u001b[0m \u001b[1;33mOUT: \u001b[0m\u001b[1;36m0.91\u001b[0m                                                    \u001b[2mrunner.py\u001b[0m\u001b[2m:\u001b[0m\u001b[2m85\u001b[0m\n"
      ]
     },
     "metadata": {},
     "output_type": "display_data"
    },
    {
     "data": {
      "text/html": [
       "<pre style=\"white-space:pre;overflow-x:auto;line-height:normal;font-family:Menlo,'DejaVu Sans Mono',consolas,'Courier New',monospace\"><span style=\"color: #7fbfbf; text-decoration-color: #7fbfbf\">           </span><span style=\"color: #008000; text-decoration-color: #008000\">DEBUG   </span> RUN COMMAND:                                                 <span style=\"color: #7f7f7f; text-decoration-color: #7f7f7f\">runner.py:79</span>\n",
       "<span style=\"color: #7fbfbf; text-decoration-color: #7fbfbf\">           </span>         <span style=\"color: #008080; text-decoration-color: #008080; font-weight: bold\">wc -c </span><span style=\"color: #800080; text-decoration-color: #800080; font-weight: bold\">/Users/qnbhd/Development/gimeltune/examples/gcc/</span><span style=\"color: #ff00ff; text-decoration-color: #ff00ff; font-weight: bold\">1b70007</span> <span style=\"color: #7f7f7f; text-decoration-color: #7f7f7f\">            </span>\n",
       "<span style=\"color: #7fbfbf; text-decoration-color: #7fbfbf\">           </span>         <span style=\"color: #ff00ff; text-decoration-color: #ff00ff; font-weight: bold\">3795caffb1418f220081ccb1b3fe49e0a4ba1649abd1a5b7bf95a3b9a922</span> <span style=\"color: #7f7f7f; text-decoration-color: #7f7f7f\">            </span>\n",
       "<span style=\"color: #7fbfbf; text-decoration-color: #7fbfbf\">           </span>         <span style=\"color: #ff00ff; text-decoration-color: #ff00ff; font-weight: bold\">19.out</span><span style=\"color: #008080; text-decoration-color: #008080; font-weight: bold\"> | awk </span><span style=\"color: #008000; text-decoration-color: #008000\">'{print $1}'</span>                                    <span style=\"color: #7f7f7f; text-decoration-color: #7f7f7f\">            </span>\n",
       "</pre>\n"
      ],
      "text/plain": [
       "\u001b[2;36m          \u001b[0m\u001b[2;36m \u001b[0m\u001b[32mDEBUG   \u001b[0m RUN COMMAND:                                                 \u001b[2mrunner.py\u001b[0m\u001b[2m:\u001b[0m\u001b[2m79\u001b[0m\n",
       "\u001b[2;36m           \u001b[0m         \u001b[1;36mwc -c \u001b[0m\u001b[1;35m/Users/qnbhd/Development/gimeltune/examples/gcc/\u001b[0m\u001b[1;95m1b70007\u001b[0m \u001b[2m            \u001b[0m\n",
       "\u001b[2;36m           \u001b[0m         \u001b[1;95m3795caffb1418f220081ccb1b3fe49e0a4ba1649abd1a5b7bf95a3b9a922\u001b[0m \u001b[2m            \u001b[0m\n",
       "\u001b[2;36m           \u001b[0m         \u001b[1;95m19.out\u001b[0m\u001b[1;36m | awk \u001b[0m\u001b[32m'\u001b[0m\u001b[32m{\u001b[0m\u001b[32mprint $1\u001b[0m\u001b[32m}\u001b[0m\u001b[32m'\u001b[0m                                    \u001b[2m            \u001b[0m\n"
      ]
     },
     "metadata": {},
     "output_type": "display_data"
    },
    {
     "data": {
      "text/html": [
       "<pre style=\"white-space:pre;overflow-x:auto;line-height:normal;font-family:Menlo,'DejaVu Sans Mono',consolas,'Courier New',monospace\"><span style=\"color: #7fbfbf; text-decoration-color: #7fbfbf\">           </span><span style=\"color: #000080; text-decoration-color: #000080\">INFO    </span> <span style=\"color: #808000; text-decoration-color: #808000; font-weight: bold\">OUT: </span><span style=\"color: #008080; text-decoration-color: #008080; font-weight: bold\">50904</span>                                                   <span style=\"color: #7f7f7f; text-decoration-color: #7f7f7f\">runner.py:85</span>\n",
       "</pre>\n"
      ],
      "text/plain": [
       "\u001b[2;36m          \u001b[0m\u001b[2;36m \u001b[0m\u001b[34mINFO    \u001b[0m \u001b[1;33mOUT: \u001b[0m\u001b[1;36m50904\u001b[0m                                                   \u001b[2mrunner.py\u001b[0m\u001b[2m:\u001b[0m\u001b[2m85\u001b[0m\n"
      ]
     },
     "metadata": {},
     "output_type": "display_data"
    },
    {
     "data": {
      "text/html": [
       "<pre style=\"white-space:pre;overflow-x:auto;line-height:normal;font-family:Menlo,'DejaVu Sans Mono',consolas,'Courier New',monospace\"><span style=\"color: #7fbfbf; text-decoration-color: #7fbfbf\">           </span><span style=\"color: #008000; text-decoration-color: #008000\">DEBUG   </span> RUN COMMAND:                                                 <span style=\"color: #7f7f7f; text-decoration-color: #7f7f7f\">runner.py:79</span>\n",
       "<span style=\"color: #7fbfbf; text-decoration-color: #7fbfbf\">           </span>         <span style=\"color: #008080; text-decoration-color: #008080; font-weight: bold\">gtime -f </span><span style=\"color: #008000; text-decoration-color: #008000\">'%e'</span><span style=\"color: #008080; text-decoration-color: #008080; font-weight: bold\"> </span><span style=\"color: #800080; text-decoration-color: #800080; font-weight: bold\">/Users/qnbhd/Development/gimeltune/examples/gcc</span> <span style=\"color: #7f7f7f; text-decoration-color: #7f7f7f\">            </span>\n",
       "<span style=\"color: #7fbfbf; text-decoration-color: #7fbfbf\">           </span>         <span style=\"color: #800080; text-decoration-color: #800080; font-weight: bold\">/</span><span style=\"color: #ff00ff; text-decoration-color: #ff00ff; font-weight: bold\">1b700073795caffb1418f220081ccb1b3fe49e0a4ba1649abd1a5b7bf95</span> <span style=\"color: #7f7f7f; text-decoration-color: #7f7f7f\">            </span>\n",
       "<span style=\"color: #7fbfbf; text-decoration-color: #7fbfbf\">           </span>         <span style=\"color: #ff00ff; text-decoration-color: #ff00ff; font-weight: bold\">a3b9a92219.out</span><span style=\"color: #008080; text-decoration-color: #008080; font-weight: bold\"> </span><span style=\"color: #008080; text-decoration-color: #008080; font-weight: bold\">2</span><span style=\"color: #008080; text-decoration-color: #008080; font-weight: bold\">&gt;&amp;</span><span style=\"color: #008080; text-decoration-color: #008080; font-weight: bold\">1</span>                                          <span style=\"color: #7f7f7f; text-decoration-color: #7f7f7f\">            </span>\n",
       "</pre>\n"
      ],
      "text/plain": [
       "\u001b[2;36m          \u001b[0m\u001b[2;36m \u001b[0m\u001b[32mDEBUG   \u001b[0m RUN COMMAND:                                                 \u001b[2mrunner.py\u001b[0m\u001b[2m:\u001b[0m\u001b[2m79\u001b[0m\n",
       "\u001b[2;36m           \u001b[0m         \u001b[1;36mgtime -f \u001b[0m\u001b[32m'%e'\u001b[0m\u001b[1;36m \u001b[0m\u001b[1;35m/Users/qnbhd/Development/gimeltune/examples/gcc\u001b[0m \u001b[2m            \u001b[0m\n",
       "\u001b[2;36m           \u001b[0m         \u001b[1;35m/\u001b[0m\u001b[1;95m1b700073795caffb1418f220081ccb1b3fe49e0a4ba1649abd1a5b7bf95\u001b[0m \u001b[2m            \u001b[0m\n",
       "\u001b[2;36m           \u001b[0m         \u001b[1;95ma3b9a92219.out\u001b[0m\u001b[1;36m \u001b[0m\u001b[1;36m2\u001b[0m\u001b[1;36m>&\u001b[0m\u001b[1;36m1\u001b[0m                                          \u001b[2m            \u001b[0m\n"
      ]
     },
     "metadata": {},
     "output_type": "display_data"
    },
    {
     "data": {
      "text/html": [
       "<pre style=\"white-space:pre;overflow-x:auto;line-height:normal;font-family:Menlo,'DejaVu Sans Mono',consolas,'Courier New',monospace\"><span style=\"color: #7fbfbf; text-decoration-color: #7fbfbf\">[11:17:34] </span><span style=\"color: #000080; text-decoration-color: #000080\">INFO    </span> <span style=\"color: #808000; text-decoration-color: #808000; font-weight: bold\">OUT: </span><span style=\"color: #008080; text-decoration-color: #008080; font-weight: bold\">0.14</span>                                                    <span style=\"color: #7f7f7f; text-decoration-color: #7f7f7f\">runner.py:85</span>\n",
       "</pre>\n"
      ],
      "text/plain": [
       "\u001b[2;36m[11:17:34]\u001b[0m\u001b[2;36m \u001b[0m\u001b[34mINFO    \u001b[0m \u001b[1;33mOUT: \u001b[0m\u001b[1;36m0.14\u001b[0m                                                    \u001b[2mrunner.py\u001b[0m\u001b[2m:\u001b[0m\u001b[2m85\u001b[0m\n"
      ]
     },
     "metadata": {},
     "output_type": "display_data"
    },
    {
     "data": {
      "text/html": [
       "<pre style=\"white-space:pre;overflow-x:auto;line-height:normal;font-family:Menlo,'DejaVu Sans Mono',consolas,'Courier New',monospace\"><span style=\"color: #7fbfbf; text-decoration-color: #7fbfbf\">           </span><span style=\"color: #008000; text-decoration-color: #008000\">DEBUG   </span> RUN COMMAND:                                                 <span style=\"color: #7f7f7f; text-decoration-color: #7f7f7f\">runner.py:79</span>\n",
       "<span style=\"color: #7fbfbf; text-decoration-color: #7fbfbf\">           </span>         <span style=\"color: #008080; text-decoration-color: #008080; font-weight: bold\">gtime -f </span><span style=\"color: #008000; text-decoration-color: #008000\">'%e'</span><span style=\"color: #008080; text-decoration-color: #008080; font-weight: bold\"> </span><span style=\"color: #800080; text-decoration-color: #800080; font-weight: bold\">/Users/qnbhd/Development/gimeltune/examples/gcc</span> <span style=\"color: #7f7f7f; text-decoration-color: #7f7f7f\">            </span>\n",
       "<span style=\"color: #7fbfbf; text-decoration-color: #7fbfbf\">           </span>         <span style=\"color: #800080; text-decoration-color: #800080; font-weight: bold\">/</span><span style=\"color: #ff00ff; text-decoration-color: #ff00ff; font-weight: bold\">1b700073795caffb1418f220081ccb1b3fe49e0a4ba1649abd1a5b7bf95</span> <span style=\"color: #7f7f7f; text-decoration-color: #7f7f7f\">            </span>\n",
       "<span style=\"color: #7fbfbf; text-decoration-color: #7fbfbf\">           </span>         <span style=\"color: #ff00ff; text-decoration-color: #ff00ff; font-weight: bold\">a3b9a92219.out</span><span style=\"color: #008080; text-decoration-color: #008080; font-weight: bold\"> </span><span style=\"color: #008080; text-decoration-color: #008080; font-weight: bold\">2</span><span style=\"color: #008080; text-decoration-color: #008080; font-weight: bold\">&gt;&amp;</span><span style=\"color: #008080; text-decoration-color: #008080; font-weight: bold\">1</span>                                          <span style=\"color: #7f7f7f; text-decoration-color: #7f7f7f\">            </span>\n",
       "</pre>\n"
      ],
      "text/plain": [
       "\u001b[2;36m          \u001b[0m\u001b[2;36m \u001b[0m\u001b[32mDEBUG   \u001b[0m RUN COMMAND:                                                 \u001b[2mrunner.py\u001b[0m\u001b[2m:\u001b[0m\u001b[2m79\u001b[0m\n",
       "\u001b[2;36m           \u001b[0m         \u001b[1;36mgtime -f \u001b[0m\u001b[32m'%e'\u001b[0m\u001b[1;36m \u001b[0m\u001b[1;35m/Users/qnbhd/Development/gimeltune/examples/gcc\u001b[0m \u001b[2m            \u001b[0m\n",
       "\u001b[2;36m           \u001b[0m         \u001b[1;35m/\u001b[0m\u001b[1;95m1b700073795caffb1418f220081ccb1b3fe49e0a4ba1649abd1a5b7bf95\u001b[0m \u001b[2m            \u001b[0m\n",
       "\u001b[2;36m           \u001b[0m         \u001b[1;95ma3b9a92219.out\u001b[0m\u001b[1;36m \u001b[0m\u001b[1;36m2\u001b[0m\u001b[1;36m>&\u001b[0m\u001b[1;36m1\u001b[0m                                          \u001b[2m            \u001b[0m\n"
      ]
     },
     "metadata": {},
     "output_type": "display_data"
    },
    {
     "data": {
      "text/html": [
       "<pre style=\"white-space:pre;overflow-x:auto;line-height:normal;font-family:Menlo,'DejaVu Sans Mono',consolas,'Courier New',monospace\"><span style=\"color: #7fbfbf; text-decoration-color: #7fbfbf\">           </span><span style=\"color: #000080; text-decoration-color: #000080\">INFO    </span> <span style=\"color: #808000; text-decoration-color: #808000; font-weight: bold\">OUT: </span><span style=\"color: #008080; text-decoration-color: #008080; font-weight: bold\">0.11</span>                                                    <span style=\"color: #7f7f7f; text-decoration-color: #7f7f7f\">runner.py:85</span>\n",
       "</pre>\n"
      ],
      "text/plain": [
       "\u001b[2;36m          \u001b[0m\u001b[2;36m \u001b[0m\u001b[34mINFO    \u001b[0m \u001b[1;33mOUT: \u001b[0m\u001b[1;36m0.11\u001b[0m                                                    \u001b[2mrunner.py\u001b[0m\u001b[2m:\u001b[0m\u001b[2m85\u001b[0m\n"
      ]
     },
     "metadata": {},
     "output_type": "display_data"
    },
    {
     "data": {
      "text/html": [
       "<pre style=\"white-space:pre;overflow-x:auto;line-height:normal;font-family:Menlo,'DejaVu Sans Mono',consolas,'Courier New',monospace\"><span style=\"color: #7fbfbf; text-decoration-color: #7fbfbf\">           </span><span style=\"color: #008000; text-decoration-color: #008000\">DEBUG   </span> RUN COMMAND:                                                 <span style=\"color: #7f7f7f; text-decoration-color: #7f7f7f\">runner.py:79</span>\n",
       "<span style=\"color: #7fbfbf; text-decoration-color: #7fbfbf\">           </span>         <span style=\"color: #008080; text-decoration-color: #008080; font-weight: bold\">gtime -f </span><span style=\"color: #008000; text-decoration-color: #008000\">'%e'</span><span style=\"color: #008080; text-decoration-color: #008080; font-weight: bold\"> </span><span style=\"color: #800080; text-decoration-color: #800080; font-weight: bold\">/Users/qnbhd/Development/gimeltune/examples/gcc</span> <span style=\"color: #7f7f7f; text-decoration-color: #7f7f7f\">            </span>\n",
       "<span style=\"color: #7fbfbf; text-decoration-color: #7fbfbf\">           </span>         <span style=\"color: #800080; text-decoration-color: #800080; font-weight: bold\">/</span><span style=\"color: #ff00ff; text-decoration-color: #ff00ff; font-weight: bold\">1b700073795caffb1418f220081ccb1b3fe49e0a4ba1649abd1a5b7bf95</span> <span style=\"color: #7f7f7f; text-decoration-color: #7f7f7f\">            </span>\n",
       "<span style=\"color: #7fbfbf; text-decoration-color: #7fbfbf\">           </span>         <span style=\"color: #ff00ff; text-decoration-color: #ff00ff; font-weight: bold\">a3b9a92219.out</span><span style=\"color: #008080; text-decoration-color: #008080; font-weight: bold\"> </span><span style=\"color: #008080; text-decoration-color: #008080; font-weight: bold\">2</span><span style=\"color: #008080; text-decoration-color: #008080; font-weight: bold\">&gt;&amp;</span><span style=\"color: #008080; text-decoration-color: #008080; font-weight: bold\">1</span>                                          <span style=\"color: #7f7f7f; text-decoration-color: #7f7f7f\">            </span>\n",
       "</pre>\n"
      ],
      "text/plain": [
       "\u001b[2;36m          \u001b[0m\u001b[2;36m \u001b[0m\u001b[32mDEBUG   \u001b[0m RUN COMMAND:                                                 \u001b[2mrunner.py\u001b[0m\u001b[2m:\u001b[0m\u001b[2m79\u001b[0m\n",
       "\u001b[2;36m           \u001b[0m         \u001b[1;36mgtime -f \u001b[0m\u001b[32m'%e'\u001b[0m\u001b[1;36m \u001b[0m\u001b[1;35m/Users/qnbhd/Development/gimeltune/examples/gcc\u001b[0m \u001b[2m            \u001b[0m\n",
       "\u001b[2;36m           \u001b[0m         \u001b[1;35m/\u001b[0m\u001b[1;95m1b700073795caffb1418f220081ccb1b3fe49e0a4ba1649abd1a5b7bf95\u001b[0m \u001b[2m            \u001b[0m\n",
       "\u001b[2;36m           \u001b[0m         \u001b[1;95ma3b9a92219.out\u001b[0m\u001b[1;36m \u001b[0m\u001b[1;36m2\u001b[0m\u001b[1;36m>&\u001b[0m\u001b[1;36m1\u001b[0m                                          \u001b[2m            \u001b[0m\n"
      ]
     },
     "metadata": {},
     "output_type": "display_data"
    },
    {
     "data": {
      "text/html": [
       "<pre style=\"white-space:pre;overflow-x:auto;line-height:normal;font-family:Menlo,'DejaVu Sans Mono',consolas,'Courier New',monospace\"><span style=\"color: #7fbfbf; text-decoration-color: #7fbfbf\">           </span><span style=\"color: #000080; text-decoration-color: #000080\">INFO    </span> <span style=\"color: #808000; text-decoration-color: #808000; font-weight: bold\">OUT: </span><span style=\"color: #008080; text-decoration-color: #008080; font-weight: bold\">0.11</span>                                                    <span style=\"color: #7f7f7f; text-decoration-color: #7f7f7f\">runner.py:85</span>\n",
       "</pre>\n"
      ],
      "text/plain": [
       "\u001b[2;36m          \u001b[0m\u001b[2;36m \u001b[0m\u001b[34mINFO    \u001b[0m \u001b[1;33mOUT: \u001b[0m\u001b[1;36m0.11\u001b[0m                                                    \u001b[2mrunner.py\u001b[0m\u001b[2m:\u001b[0m\u001b[2m85\u001b[0m\n"
      ]
     },
     "metadata": {},
     "output_type": "display_data"
    },
    {
     "data": {
      "text/html": [
       "<pre style=\"white-space:pre;overflow-x:auto;line-height:normal;font-family:Menlo,'DejaVu Sans Mono',consolas,'Courier New',monospace\"><span style=\"color: #7fbfbf; text-decoration-color: #7fbfbf\">           </span><span style=\"color: #008000; text-decoration-color: #008000\">DEBUG   </span> RUN COMMAND:                                                 <span style=\"color: #7f7f7f; text-decoration-color: #7f7f7f\">runner.py:79</span>\n",
       "<span style=\"color: #7fbfbf; text-decoration-color: #7fbfbf\">           </span>         <span style=\"color: #008080; text-decoration-color: #008080; font-weight: bold\">gtime -f </span><span style=\"color: #008000; text-decoration-color: #008000\">'%e'</span><span style=\"color: #008080; text-decoration-color: #008080; font-weight: bold\"> </span><span style=\"color: #800080; text-decoration-color: #800080; font-weight: bold\">/Users/qnbhd/Development/gimeltune/examples/gcc</span> <span style=\"color: #7f7f7f; text-decoration-color: #7f7f7f\">            </span>\n",
       "<span style=\"color: #7fbfbf; text-decoration-color: #7fbfbf\">           </span>         <span style=\"color: #800080; text-decoration-color: #800080; font-weight: bold\">/</span><span style=\"color: #ff00ff; text-decoration-color: #ff00ff; font-weight: bold\">1b700073795caffb1418f220081ccb1b3fe49e0a4ba1649abd1a5b7bf95</span> <span style=\"color: #7f7f7f; text-decoration-color: #7f7f7f\">            </span>\n",
       "<span style=\"color: #7fbfbf; text-decoration-color: #7fbfbf\">           </span>         <span style=\"color: #ff00ff; text-decoration-color: #ff00ff; font-weight: bold\">a3b9a92219.out</span><span style=\"color: #008080; text-decoration-color: #008080; font-weight: bold\"> </span><span style=\"color: #008080; text-decoration-color: #008080; font-weight: bold\">2</span><span style=\"color: #008080; text-decoration-color: #008080; font-weight: bold\">&gt;&amp;</span><span style=\"color: #008080; text-decoration-color: #008080; font-weight: bold\">1</span>                                          <span style=\"color: #7f7f7f; text-decoration-color: #7f7f7f\">            </span>\n",
       "</pre>\n"
      ],
      "text/plain": [
       "\u001b[2;36m          \u001b[0m\u001b[2;36m \u001b[0m\u001b[32mDEBUG   \u001b[0m RUN COMMAND:                                                 \u001b[2mrunner.py\u001b[0m\u001b[2m:\u001b[0m\u001b[2m79\u001b[0m\n",
       "\u001b[2;36m           \u001b[0m         \u001b[1;36mgtime -f \u001b[0m\u001b[32m'%e'\u001b[0m\u001b[1;36m \u001b[0m\u001b[1;35m/Users/qnbhd/Development/gimeltune/examples/gcc\u001b[0m \u001b[2m            \u001b[0m\n",
       "\u001b[2;36m           \u001b[0m         \u001b[1;35m/\u001b[0m\u001b[1;95m1b700073795caffb1418f220081ccb1b3fe49e0a4ba1649abd1a5b7bf95\u001b[0m \u001b[2m            \u001b[0m\n",
       "\u001b[2;36m           \u001b[0m         \u001b[1;95ma3b9a92219.out\u001b[0m\u001b[1;36m \u001b[0m\u001b[1;36m2\u001b[0m\u001b[1;36m>&\u001b[0m\u001b[1;36m1\u001b[0m                                          \u001b[2m            \u001b[0m\n"
      ]
     },
     "metadata": {},
     "output_type": "display_data"
    },
    {
     "data": {
      "text/html": [
       "<pre style=\"white-space:pre;overflow-x:auto;line-height:normal;font-family:Menlo,'DejaVu Sans Mono',consolas,'Courier New',monospace\"><span style=\"color: #7fbfbf; text-decoration-color: #7fbfbf\">           </span><span style=\"color: #000080; text-decoration-color: #000080\">INFO    </span> <span style=\"color: #808000; text-decoration-color: #808000; font-weight: bold\">OUT: </span><span style=\"color: #008080; text-decoration-color: #008080; font-weight: bold\">0.11</span>                                                    <span style=\"color: #7f7f7f; text-decoration-color: #7f7f7f\">runner.py:85</span>\n",
       "</pre>\n"
      ],
      "text/plain": [
       "\u001b[2;36m          \u001b[0m\u001b[2;36m \u001b[0m\u001b[34mINFO    \u001b[0m \u001b[1;33mOUT: \u001b[0m\u001b[1;36m0.11\u001b[0m                                                    \u001b[2mrunner.py\u001b[0m\u001b[2m:\u001b[0m\u001b[2m85\u001b[0m\n"
      ]
     },
     "metadata": {},
     "output_type": "display_data"
    },
    {
     "data": {
      "text/html": [
       "<pre style=\"white-space:pre;overflow-x:auto;line-height:normal;font-family:Menlo,'DejaVu Sans Mono',consolas,'Courier New',monospace\"><span style=\"color: #7fbfbf; text-decoration-color: #7fbfbf\">           </span><span style=\"color: #008000; text-decoration-color: #008000\">DEBUG   </span> RUN COMMAND:                                                 <span style=\"color: #7f7f7f; text-decoration-color: #7f7f7f\">runner.py:79</span>\n",
       "<span style=\"color: #7fbfbf; text-decoration-color: #7fbfbf\">           </span>         <span style=\"color: #008080; text-decoration-color: #008080; font-weight: bold\">gtime -f </span><span style=\"color: #008000; text-decoration-color: #008000\">'%e'</span><span style=\"color: #008080; text-decoration-color: #008080; font-weight: bold\"> </span><span style=\"color: #800080; text-decoration-color: #800080; font-weight: bold\">/Users/qnbhd/Development/gimeltune/examples/gcc</span> <span style=\"color: #7f7f7f; text-decoration-color: #7f7f7f\">            </span>\n",
       "<span style=\"color: #7fbfbf; text-decoration-color: #7fbfbf\">           </span>         <span style=\"color: #800080; text-decoration-color: #800080; font-weight: bold\">/</span><span style=\"color: #ff00ff; text-decoration-color: #ff00ff; font-weight: bold\">1b700073795caffb1418f220081ccb1b3fe49e0a4ba1649abd1a5b7bf95</span> <span style=\"color: #7f7f7f; text-decoration-color: #7f7f7f\">            </span>\n",
       "<span style=\"color: #7fbfbf; text-decoration-color: #7fbfbf\">           </span>         <span style=\"color: #ff00ff; text-decoration-color: #ff00ff; font-weight: bold\">a3b9a92219.out</span><span style=\"color: #008080; text-decoration-color: #008080; font-weight: bold\"> </span><span style=\"color: #008080; text-decoration-color: #008080; font-weight: bold\">2</span><span style=\"color: #008080; text-decoration-color: #008080; font-weight: bold\">&gt;&amp;</span><span style=\"color: #008080; text-decoration-color: #008080; font-weight: bold\">1</span>                                          <span style=\"color: #7f7f7f; text-decoration-color: #7f7f7f\">            </span>\n",
       "</pre>\n"
      ],
      "text/plain": [
       "\u001b[2;36m          \u001b[0m\u001b[2;36m \u001b[0m\u001b[32mDEBUG   \u001b[0m RUN COMMAND:                                                 \u001b[2mrunner.py\u001b[0m\u001b[2m:\u001b[0m\u001b[2m79\u001b[0m\n",
       "\u001b[2;36m           \u001b[0m         \u001b[1;36mgtime -f \u001b[0m\u001b[32m'%e'\u001b[0m\u001b[1;36m \u001b[0m\u001b[1;35m/Users/qnbhd/Development/gimeltune/examples/gcc\u001b[0m \u001b[2m            \u001b[0m\n",
       "\u001b[2;36m           \u001b[0m         \u001b[1;35m/\u001b[0m\u001b[1;95m1b700073795caffb1418f220081ccb1b3fe49e0a4ba1649abd1a5b7bf95\u001b[0m \u001b[2m            \u001b[0m\n",
       "\u001b[2;36m           \u001b[0m         \u001b[1;95ma3b9a92219.out\u001b[0m\u001b[1;36m \u001b[0m\u001b[1;36m2\u001b[0m\u001b[1;36m>&\u001b[0m\u001b[1;36m1\u001b[0m                                          \u001b[2m            \u001b[0m\n"
      ]
     },
     "metadata": {},
     "output_type": "display_data"
    },
    {
     "data": {
      "text/html": [
       "<pre style=\"white-space:pre;overflow-x:auto;line-height:normal;font-family:Menlo,'DejaVu Sans Mono',consolas,'Courier New',monospace\"><span style=\"color: #7fbfbf; text-decoration-color: #7fbfbf\">           </span><span style=\"color: #000080; text-decoration-color: #000080\">INFO    </span> <span style=\"color: #808000; text-decoration-color: #808000; font-weight: bold\">OUT: </span><span style=\"color: #008080; text-decoration-color: #008080; font-weight: bold\">0.11</span>                                                    <span style=\"color: #7f7f7f; text-decoration-color: #7f7f7f\">runner.py:85</span>\n",
       "</pre>\n"
      ],
      "text/plain": [
       "\u001b[2;36m          \u001b[0m\u001b[2;36m \u001b[0m\u001b[34mINFO    \u001b[0m \u001b[1;33mOUT: \u001b[0m\u001b[1;36m0.11\u001b[0m                                                    \u001b[2mrunner.py\u001b[0m\u001b[2m:\u001b[0m\u001b[2m85\u001b[0m\n"
      ]
     },
     "metadata": {},
     "output_type": "display_data"
    },
    {
     "data": {
      "text/html": [
       "<pre style=\"white-space:pre;overflow-x:auto;line-height:normal;font-family:Menlo,'DejaVu Sans Mono',consolas,'Courier New',monospace\"><span style=\"color: #7fbfbf; text-decoration-color: #7fbfbf\">           </span><span style=\"color: #008000; text-decoration-color: #008000\">DEBUG   </span> RUN COMMAND:                                                 <span style=\"color: #7f7f7f; text-decoration-color: #7f7f7f\">runner.py:79</span>\n",
       "<span style=\"color: #7fbfbf; text-decoration-color: #7fbfbf\">           </span>         <span style=\"color: #008080; text-decoration-color: #008080; font-weight: bold\">rm </span><span style=\"color: #800080; text-decoration-color: #800080; font-weight: bold\">/Users/qnbhd/Development/gimeltune/examples/gcc/</span><span style=\"color: #ff00ff; text-decoration-color: #ff00ff; font-weight: bold\">1b70007379</span> <span style=\"color: #7f7f7f; text-decoration-color: #7f7f7f\">            </span>\n",
       "<span style=\"color: #7fbfbf; text-decoration-color: #7fbfbf\">           </span>         <span style=\"color: #ff00ff; text-decoration-color: #ff00ff; font-weight: bold\">5caffb1418f220081ccb1b3fe49e0a4ba1649abd1a5b7bf95a3b9a92219.</span> <span style=\"color: #7f7f7f; text-decoration-color: #7f7f7f\">            </span>\n",
       "<span style=\"color: #7fbfbf; text-decoration-color: #7fbfbf\">           </span>         <span style=\"color: #ff00ff; text-decoration-color: #ff00ff; font-weight: bold\">out</span>                                                          <span style=\"color: #7f7f7f; text-decoration-color: #7f7f7f\">            </span>\n",
       "</pre>\n"
      ],
      "text/plain": [
       "\u001b[2;36m          \u001b[0m\u001b[2;36m \u001b[0m\u001b[32mDEBUG   \u001b[0m RUN COMMAND:                                                 \u001b[2mrunner.py\u001b[0m\u001b[2m:\u001b[0m\u001b[2m79\u001b[0m\n",
       "\u001b[2;36m           \u001b[0m         \u001b[1;36mrm \u001b[0m\u001b[1;35m/Users/qnbhd/Development/gimeltune/examples/gcc/\u001b[0m\u001b[1;95m1b70007379\u001b[0m \u001b[2m            \u001b[0m\n",
       "\u001b[2;36m           \u001b[0m         \u001b[1;95m5caffb1418f220081ccb1b3fe49e0a4ba1649abd1a5b7bf95a3b9a92219.\u001b[0m \u001b[2m            \u001b[0m\n",
       "\u001b[2;36m           \u001b[0m         \u001b[1;95mout\u001b[0m                                                          \u001b[2m            \u001b[0m\n"
      ]
     },
     "metadata": {},
     "output_type": "display_data"
    },
    {
     "name": "stderr",
     "output_type": "stream",
     "text": [
      "/Users/qnbhd/Development/gimeltune/gimeltune/search/algorithms/skopt.py:58: UserWarning: Now per-emit count in skopt technique implemented not correctly. Per-emit count is property, return default value (1).\n",
      "  warnings.warn('Now per-emit count in skopt technique implemented not correctly.'\n"
     ]
    },
    {
     "data": {
      "text/html": [
       "<pre style=\"white-space:pre;overflow-x:auto;line-height:normal;font-family:Menlo,'DejaVu Sans Mono',consolas,'Courier New',monospace\"><span style=\"color: #7fbfbf; text-decoration-color: #7fbfbf\">[11:17:35] </span><span style=\"color: #000080; text-decoration-color: #000080\">INFO    </span> Trying experiment: <span style=\"color: #800080; text-decoration-color: #800080; font-weight: bold\">Experiment</span><span style=\"font-weight: bold\">({</span>                             <span style=\"color: #7f7f7f; text-decoration-color: #7f7f7f\">runner.py:156</span>\n",
       "<span style=\"color: #7fbfbf; text-decoration-color: #7fbfbf\">           </span>             <span style=\"color: #008000; text-decoration-color: #008000\">\"id\"</span>: <span style=\"color: #008080; text-decoration-color: #008080; font-weight: bold\">19</span>,                                               <span style=\"color: #7f7f7f; text-decoration-color: #7f7f7f\">             </span>\n",
       "<span style=\"color: #7fbfbf; text-decoration-color: #7fbfbf\">           </span>             <span style=\"color: #008000; text-decoration-color: #008000\">\"job_id\"</span>: <span style=\"color: #008080; text-decoration-color: #008080; font-weight: bold\">1</span>,                                            <span style=\"color: #7f7f7f; text-decoration-color: #7f7f7f\">             </span>\n",
       "<span style=\"color: #7fbfbf; text-decoration-color: #7fbfbf\">           </span>             <span style=\"color: #008000; text-decoration-color: #008000\">\"state\"</span>: <span style=\"color: #008000; text-decoration-color: #008000\">\"WIP\"</span>,                                         <span style=\"color: #7f7f7f; text-decoration-color: #7f7f7f\">             </span>\n",
       "<span style=\"color: #7fbfbf; text-decoration-color: #7fbfbf\">           </span>             <span style=\"color: #008000; text-decoration-color: #008000\">\"hash\"</span>: null,                                           <span style=\"color: #7f7f7f; text-decoration-color: #7f7f7f\">             </span>\n",
       "<span style=\"color: #7fbfbf; text-decoration-color: #7fbfbf\">           </span>             <span style=\"color: #008000; text-decoration-color: #008000\">\"objective_result\"</span>: null,                               <span style=\"color: #7f7f7f; text-decoration-color: #7f7f7f\">             </span>\n",
       "<span style=\"color: #7fbfbf; text-decoration-color: #7fbfbf\">           </span>             <span style=\"color: #008000; text-decoration-color: #008000\">\"params\"</span>: <span style=\"font-weight: bold\">{</span>                                             <span style=\"color: #7f7f7f; text-decoration-color: #7f7f7f\">             </span>\n",
       "<span style=\"color: #7fbfbf; text-decoration-color: #7fbfbf\">           </span>                 <span style=\"color: #008000; text-decoration-color: #008000\">\"-O\"</span>: null,                                         <span style=\"color: #7f7f7f; text-decoration-color: #7f7f7f\">             </span>\n",
       "<span style=\"color: #7fbfbf; text-decoration-color: #7fbfbf\">           </span>                 <span style=\"color: #008000; text-decoration-color: #008000\">\"align-functions\"</span>: <span style=\"color: #008000; text-decoration-color: #008000\">\"-falign-functions\"</span>,             <span style=\"color: #7f7f7f; text-decoration-color: #7f7f7f\">             </span>\n",
       "<span style=\"color: #7fbfbf; text-decoration-color: #7fbfbf\">           </span>                 <span style=\"color: #008000; text-decoration-color: #008000\">\"align-jumps\"</span>: null,                                <span style=\"color: #7f7f7f; text-decoration-color: #7f7f7f\">             </span>\n",
       "<span style=\"color: #7fbfbf; text-decoration-color: #7fbfbf\">           </span>                 <span style=\"color: #008000; text-decoration-color: #008000\">\"align-labels\"</span>: <span style=\"color: #008000; text-decoration-color: #008000\">\"-falign-labels\"</span>,                   <span style=\"color: #7f7f7f; text-decoration-color: #7f7f7f\">             </span>\n",
       "<span style=\"color: #7fbfbf; text-decoration-color: #7fbfbf\">           </span>                 <span style=\"color: #008000; text-decoration-color: #008000\">\"asynchronous-unwind-tables\"</span>:                       <span style=\"color: #7f7f7f; text-decoration-color: #7f7f7f\">             </span>\n",
       "<span style=\"color: #7fbfbf; text-decoration-color: #7fbfbf\">           </span>         <span style=\"color: #008000; text-decoration-color: #008000\">\"-fno-asynchronous-unwind-tables\"</span>,                          <span style=\"color: #7f7f7f; text-decoration-color: #7f7f7f\">             </span>\n",
       "<span style=\"color: #7fbfbf; text-decoration-color: #7fbfbf\">           </span>                 <span style=\"color: #008000; text-decoration-color: #008000\">\"branch-count-reg\"</span>: null,                           <span style=\"color: #7f7f7f; text-decoration-color: #7f7f7f\">             </span>\n",
       "<span style=\"color: #7fbfbf; text-decoration-color: #7fbfbf\">           </span>                 <span style=\"color: #008000; text-decoration-color: #008000\">\"branch-probabilities\"</span>:                             <span style=\"color: #7f7f7f; text-decoration-color: #7f7f7f\">             </span>\n",
       "<span style=\"color: #7fbfbf; text-decoration-color: #7fbfbf\">           </span>         <span style=\"color: #008000; text-decoration-color: #008000\">\"-fno-branch-probabilities\"</span>,                                <span style=\"color: #7f7f7f; text-decoration-color: #7f7f7f\">             </span>\n",
       "<span style=\"color: #7fbfbf; text-decoration-color: #7fbfbf\">           </span>                 <span style=\"color: #008000; text-decoration-color: #008000\">\"early-inlining-insns\"</span>: <span style=\"color: #008080; text-decoration-color: #008080; font-weight: bold\">565</span>,                        <span style=\"color: #7f7f7f; text-decoration-color: #7f7f7f\">             </span>\n",
       "<span style=\"color: #7fbfbf; text-decoration-color: #7fbfbf\">           </span>                 <span style=\"color: #008000; text-decoration-color: #008000\">\"gcse-cost-distance-ratio\"</span>: <span style=\"color: #008080; text-decoration-color: #008080; font-weight: bold\">98</span>,                     <span style=\"color: #7f7f7f; text-decoration-color: #7f7f7f\">             </span>\n",
       "<span style=\"color: #7fbfbf; text-decoration-color: #7fbfbf\">           </span>                 <span style=\"color: #008000; text-decoration-color: #008000\">\"iv-max-considered-uses\"</span>: <span style=\"color: #008080; text-decoration-color: #008080; font-weight: bold\">99</span>                        <span style=\"color: #7f7f7f; text-decoration-color: #7f7f7f\">             </span>\n",
       "<span style=\"color: #7fbfbf; text-decoration-color: #7fbfbf\">           </span>             <span style=\"font-weight: bold\">}</span>,                                                      <span style=\"color: #7f7f7f; text-decoration-color: #7f7f7f\">             </span>\n",
       "<span style=\"color: #7fbfbf; text-decoration-color: #7fbfbf\">           </span>             <span style=\"color: #008000; text-decoration-color: #008000\">\"requestor\"</span>: <span style=\"color: #008000; text-decoration-color: #008000\">\"SkoptBayesianAlgorithm\"</span>,                  <span style=\"color: #7f7f7f; text-decoration-color: #7f7f7f\">             </span>\n",
       "<span style=\"color: #7fbfbf; text-decoration-color: #7fbfbf\">           </span>             <span style=\"color: #008000; text-decoration-color: #008000\">\"create_timestamp\"</span>: <span style=\"color: #008080; text-decoration-color: #008080; font-weight: bold\">1645690655.037076</span>,                  <span style=\"color: #7f7f7f; text-decoration-color: #7f7f7f\">             </span>\n",
       "<span style=\"color: #7fbfbf; text-decoration-color: #7fbfbf\">           </span>             <span style=\"color: #008000; text-decoration-color: #008000\">\"finish_timestamp\"</span>: null                                <span style=\"color: #7f7f7f; text-decoration-color: #7f7f7f\">             </span>\n",
       "<span style=\"color: #7fbfbf; text-decoration-color: #7fbfbf\">           </span>         <span style=\"font-weight: bold\">})</span>                                                          <span style=\"color: #7f7f7f; text-decoration-color: #7f7f7f\">             </span>\n",
       "</pre>\n"
      ],
      "text/plain": [
       "\u001b[2;36m[11:17:35]\u001b[0m\u001b[2;36m \u001b[0m\u001b[34mINFO    \u001b[0m Trying experiment: \u001b[1;35mExperiment\u001b[0m\u001b[1m(\u001b[0m\u001b[1m{\u001b[0m                             \u001b[2mrunner.py\u001b[0m\u001b[2m:\u001b[0m\u001b[2m156\u001b[0m\n",
       "\u001b[2;36m           \u001b[0m             \u001b[32m\"id\"\u001b[0m: \u001b[1;36m19\u001b[0m,                                               \u001b[2m             \u001b[0m\n",
       "\u001b[2;36m           \u001b[0m             \u001b[32m\"job_id\"\u001b[0m: \u001b[1;36m1\u001b[0m,                                            \u001b[2m             \u001b[0m\n",
       "\u001b[2;36m           \u001b[0m             \u001b[32m\"state\"\u001b[0m: \u001b[32m\"WIP\"\u001b[0m,                                         \u001b[2m             \u001b[0m\n",
       "\u001b[2;36m           \u001b[0m             \u001b[32m\"hash\"\u001b[0m: null,                                           \u001b[2m             \u001b[0m\n",
       "\u001b[2;36m           \u001b[0m             \u001b[32m\"objective_result\"\u001b[0m: null,                               \u001b[2m             \u001b[0m\n",
       "\u001b[2;36m           \u001b[0m             \u001b[32m\"params\"\u001b[0m: \u001b[1m{\u001b[0m                                             \u001b[2m             \u001b[0m\n",
       "\u001b[2;36m           \u001b[0m                 \u001b[32m\"-O\"\u001b[0m: null,                                         \u001b[2m             \u001b[0m\n",
       "\u001b[2;36m           \u001b[0m                 \u001b[32m\"align-functions\"\u001b[0m: \u001b[32m\"-falign-functions\"\u001b[0m,             \u001b[2m             \u001b[0m\n",
       "\u001b[2;36m           \u001b[0m                 \u001b[32m\"align-jumps\"\u001b[0m: null,                                \u001b[2m             \u001b[0m\n",
       "\u001b[2;36m           \u001b[0m                 \u001b[32m\"align-labels\"\u001b[0m: \u001b[32m\"-falign-labels\"\u001b[0m,                   \u001b[2m             \u001b[0m\n",
       "\u001b[2;36m           \u001b[0m                 \u001b[32m\"asynchronous-unwind-tables\"\u001b[0m:                       \u001b[2m             \u001b[0m\n",
       "\u001b[2;36m           \u001b[0m         \u001b[32m\"-fno-asynchronous-unwind-tables\"\u001b[0m,                          \u001b[2m             \u001b[0m\n",
       "\u001b[2;36m           \u001b[0m                 \u001b[32m\"branch-count-reg\"\u001b[0m: null,                           \u001b[2m             \u001b[0m\n",
       "\u001b[2;36m           \u001b[0m                 \u001b[32m\"branch-probabilities\"\u001b[0m:                             \u001b[2m             \u001b[0m\n",
       "\u001b[2;36m           \u001b[0m         \u001b[32m\"-fno-branch-probabilities\"\u001b[0m,                                \u001b[2m             \u001b[0m\n",
       "\u001b[2;36m           \u001b[0m                 \u001b[32m\"early-inlining-insns\"\u001b[0m: \u001b[1;36m565\u001b[0m,                        \u001b[2m             \u001b[0m\n",
       "\u001b[2;36m           \u001b[0m                 \u001b[32m\"gcse-cost-distance-ratio\"\u001b[0m: \u001b[1;36m98\u001b[0m,                     \u001b[2m             \u001b[0m\n",
       "\u001b[2;36m           \u001b[0m                 \u001b[32m\"iv-max-considered-uses\"\u001b[0m: \u001b[1;36m99\u001b[0m                        \u001b[2m             \u001b[0m\n",
       "\u001b[2;36m           \u001b[0m             \u001b[1m}\u001b[0m,                                                      \u001b[2m             \u001b[0m\n",
       "\u001b[2;36m           \u001b[0m             \u001b[32m\"requestor\"\u001b[0m: \u001b[32m\"SkoptBayesianAlgorithm\"\u001b[0m,                  \u001b[2m             \u001b[0m\n",
       "\u001b[2;36m           \u001b[0m             \u001b[32m\"create_timestamp\"\u001b[0m: \u001b[1;36m1645690655.037076\u001b[0m,                  \u001b[2m             \u001b[0m\n",
       "\u001b[2;36m           \u001b[0m             \u001b[32m\"finish_timestamp\"\u001b[0m: null                                \u001b[2m             \u001b[0m\n",
       "\u001b[2;36m           \u001b[0m         \u001b[1m}\u001b[0m\u001b[1m)\u001b[0m                                                          \u001b[2m             \u001b[0m\n"
      ]
     },
     "metadata": {},
     "output_type": "display_data"
    },
    {
     "data": {
      "text/html": [
       "<pre style=\"white-space:pre;overflow-x:auto;line-height:normal;font-family:Menlo,'DejaVu Sans Mono',consolas,'Courier New',monospace\"><span style=\"color: #7fbfbf; text-decoration-color: #7fbfbf\">           </span><span style=\"color: #008000; text-decoration-color: #008000\">DEBUG   </span> RUN COMMAND:                                                 <span style=\"color: #7f7f7f; text-decoration-color: #7f7f7f\">runner.py:79</span>\n",
       "<span style=\"color: #7fbfbf; text-decoration-color: #7fbfbf\">           </span>         <span style=\"color: #008080; text-decoration-color: #008080; font-weight: bold\">gtime -f </span><span style=\"color: #008000; text-decoration-color: #008000\">'%e'</span><span style=\"color: #008080; text-decoration-color: #008080; font-weight: bold\"> g++</span><span style=\"color: #008080; text-decoration-color: #008080; font-weight: bold\">-11</span><span style=\"color: #008080; text-decoration-color: #008080; font-weight: bold\"> -o </span><span style=\"color: #800080; text-decoration-color: #800080; font-weight: bold\">/Users/qnbhd/Development/gimeltune/ex</span> <span style=\"color: #7f7f7f; text-decoration-color: #7f7f7f\">            </span>\n",
       "<span style=\"color: #7fbfbf; text-decoration-color: #7fbfbf\">           </span>         <span style=\"color: #800080; text-decoration-color: #800080; font-weight: bold\">amples/gcc/</span><span style=\"color: #ff00ff; text-decoration-color: #ff00ff; font-weight: bold\">4c09dde88456a05722275f26970cc5e260e6d84b662f3fa4a</span> <span style=\"color: #7f7f7f; text-decoration-color: #7f7f7f\">            </span>\n",
       "<span style=\"color: #7fbfbf; text-decoration-color: #7fbfbf\">           </span>         <span style=\"color: #ff00ff; text-decoration-color: #ff00ff; font-weight: bold\">c1ff9d5a2457a2b70889.out</span><span style=\"color: #008080; text-decoration-color: #008080; font-weight: bold\"> </span><span style=\"color: #800080; text-decoration-color: #800080; font-weight: bold\">/Users/qnbhd/Development/gimeltune/e</span> <span style=\"color: #7f7f7f; text-decoration-color: #7f7f7f\">            </span>\n",
       "<span style=\"color: #7fbfbf; text-decoration-color: #7fbfbf\">           </span>         <span style=\"color: #800080; text-decoration-color: #800080; font-weight: bold\">xamples/gcc/raytracer/</span><span style=\"color: #ff00ff; text-decoration-color: #ff00ff; font-weight: bold\">raytracer.cpp</span><span style=\"color: #008080; text-decoration-color: #008080; font-weight: bold\">  -falign-functions  </span>     <span style=\"color: #7f7f7f; text-decoration-color: #7f7f7f\">            </span>\n",
       "<span style=\"color: #7fbfbf; text-decoration-color: #7fbfbf\">           </span>         <span style=\"color: #008080; text-decoration-color: #008080; font-weight: bold\">-falign-labels -fno-asynchronous-unwind-tables  </span>             <span style=\"color: #7f7f7f; text-decoration-color: #7f7f7f\">            </span>\n",
       "<span style=\"color: #7fbfbf; text-decoration-color: #7fbfbf\">           </span>         <span style=\"color: #008080; text-decoration-color: #008080; font-weight: bold\">-fno-branch-probabilities --param early-inlining-</span><span style=\"color: #808000; text-decoration-color: #808000; font-weight: bold\">insns</span><span style=\"color: #008080; text-decoration-color: #008080; font-weight: bold\">=</span><span style=\"color: #008080; text-decoration-color: #008080; font-weight: bold\">565</span><span style=\"color: #008080; text-decoration-color: #008080; font-weight: bold\"> </span>  <span style=\"color: #7f7f7f; text-decoration-color: #7f7f7f\">            </span>\n",
       "<span style=\"color: #7fbfbf; text-decoration-color: #7fbfbf\">           </span>         <span style=\"color: #008080; text-decoration-color: #008080; font-weight: bold\">--param gcse-cost-distance-</span><span style=\"color: #808000; text-decoration-color: #808000; font-weight: bold\">ratio</span><span style=\"color: #008080; text-decoration-color: #008080; font-weight: bold\">=</span><span style=\"color: #008080; text-decoration-color: #008080; font-weight: bold\">98</span><span style=\"color: #008080; text-decoration-color: #008080; font-weight: bold\"> --param </span>                 <span style=\"color: #7f7f7f; text-decoration-color: #7f7f7f\">            </span>\n",
       "<span style=\"color: #7fbfbf; text-decoration-color: #7fbfbf\">           </span>         <span style=\"color: #008080; text-decoration-color: #008080; font-weight: bold\">iv-max-considered-</span><span style=\"color: #808000; text-decoration-color: #808000; font-weight: bold\">uses</span><span style=\"color: #008080; text-decoration-color: #008080; font-weight: bold\">=</span><span style=\"color: #008080; text-decoration-color: #008080; font-weight: bold\">99</span><span style=\"color: #008080; text-decoration-color: #008080; font-weight: bold\"> </span><span style=\"color: #008080; text-decoration-color: #008080; font-weight: bold\">2</span><span style=\"color: #008080; text-decoration-color: #008080; font-weight: bold\">&gt;&amp;</span><span style=\"color: #008080; text-decoration-color: #008080; font-weight: bold\">1</span>                               <span style=\"color: #7f7f7f; text-decoration-color: #7f7f7f\">            </span>\n",
       "</pre>\n"
      ],
      "text/plain": [
       "\u001b[2;36m          \u001b[0m\u001b[2;36m \u001b[0m\u001b[32mDEBUG   \u001b[0m RUN COMMAND:                                                 \u001b[2mrunner.py\u001b[0m\u001b[2m:\u001b[0m\u001b[2m79\u001b[0m\n",
       "\u001b[2;36m           \u001b[0m         \u001b[1;36mgtime -f \u001b[0m\u001b[32m'%e'\u001b[0m\u001b[1;36m g++\u001b[0m\u001b[1;36m-11\u001b[0m\u001b[1;36m -o \u001b[0m\u001b[1;35m/Users/qnbhd/Development/gimeltune/ex\u001b[0m \u001b[2m            \u001b[0m\n",
       "\u001b[2;36m           \u001b[0m         \u001b[1;35mamples/gcc/\u001b[0m\u001b[1;95m4c09dde88456a05722275f26970cc5e260e6d84b662f3fa4a\u001b[0m \u001b[2m            \u001b[0m\n",
       "\u001b[2;36m           \u001b[0m         \u001b[1;95mc1ff9d5a2457a2b70889.out\u001b[0m\u001b[1;36m \u001b[0m\u001b[1;35m/Users/qnbhd/Development/gimeltune/e\u001b[0m \u001b[2m            \u001b[0m\n",
       "\u001b[2;36m           \u001b[0m         \u001b[1;35mxamples/gcc/raytracer/\u001b[0m\u001b[1;95mraytracer.cpp\u001b[0m\u001b[1;36m  -falign-functions  \u001b[0m     \u001b[2m            \u001b[0m\n",
       "\u001b[2;36m           \u001b[0m         \u001b[1;36m-falign-labels -fno-asynchronous-unwind-tables  \u001b[0m             \u001b[2m            \u001b[0m\n",
       "\u001b[2;36m           \u001b[0m         \u001b[1;36m-fno-branch-probabilities --param early-inlining-\u001b[0m\u001b[1;33minsns\u001b[0m\u001b[1;36m=\u001b[0m\u001b[1;36m565\u001b[0m\u001b[1;36m \u001b[0m  \u001b[2m            \u001b[0m\n",
       "\u001b[2;36m           \u001b[0m         \u001b[1;36m--param gcse-cost-distance-\u001b[0m\u001b[1;33mratio\u001b[0m\u001b[1;36m=\u001b[0m\u001b[1;36m98\u001b[0m\u001b[1;36m --param \u001b[0m                 \u001b[2m            \u001b[0m\n",
       "\u001b[2;36m           \u001b[0m         \u001b[1;36miv-max-considered-\u001b[0m\u001b[1;33muses\u001b[0m\u001b[1;36m=\u001b[0m\u001b[1;36m99\u001b[0m\u001b[1;36m \u001b[0m\u001b[1;36m2\u001b[0m\u001b[1;36m>&\u001b[0m\u001b[1;36m1\u001b[0m                               \u001b[2m            \u001b[0m\n"
      ]
     },
     "metadata": {},
     "output_type": "display_data"
    },
    {
     "data": {
      "text/html": [
       "<pre style=\"white-space:pre;overflow-x:auto;line-height:normal;font-family:Menlo,'DejaVu Sans Mono',consolas,'Courier New',monospace\"><span style=\"color: #7fbfbf; text-decoration-color: #7fbfbf\">           </span><span style=\"color: #000080; text-decoration-color: #000080\">INFO    </span> <span style=\"color: #808000; text-decoration-color: #808000; font-weight: bold\">OUT: </span><span style=\"color: #008080; text-decoration-color: #008080; font-weight: bold\">0.67</span>                                                    <span style=\"color: #7f7f7f; text-decoration-color: #7f7f7f\">runner.py:85</span>\n",
       "</pre>\n"
      ],
      "text/plain": [
       "\u001b[2;36m          \u001b[0m\u001b[2;36m \u001b[0m\u001b[34mINFO    \u001b[0m \u001b[1;33mOUT: \u001b[0m\u001b[1;36m0.67\u001b[0m                                                    \u001b[2mrunner.py\u001b[0m\u001b[2m:\u001b[0m\u001b[2m85\u001b[0m\n"
      ]
     },
     "metadata": {},
     "output_type": "display_data"
    },
    {
     "data": {
      "text/html": [
       "<pre style=\"white-space:pre;overflow-x:auto;line-height:normal;font-family:Menlo,'DejaVu Sans Mono',consolas,'Courier New',monospace\"><span style=\"color: #7fbfbf; text-decoration-color: #7fbfbf\">           </span><span style=\"color: #008000; text-decoration-color: #008000\">DEBUG   </span> RUN COMMAND:                                                 <span style=\"color: #7f7f7f; text-decoration-color: #7f7f7f\">runner.py:79</span>\n",
       "<span style=\"color: #7fbfbf; text-decoration-color: #7fbfbf\">           </span>         <span style=\"color: #008080; text-decoration-color: #008080; font-weight: bold\">wc -c </span><span style=\"color: #800080; text-decoration-color: #800080; font-weight: bold\">/Users/qnbhd/Development/gimeltune/examples/gcc/</span><span style=\"color: #ff00ff; text-decoration-color: #ff00ff; font-weight: bold\">4c09dde</span> <span style=\"color: #7f7f7f; text-decoration-color: #7f7f7f\">            </span>\n",
       "<span style=\"color: #7fbfbf; text-decoration-color: #7fbfbf\">           </span>         <span style=\"color: #ff00ff; text-decoration-color: #ff00ff; font-weight: bold\">88456a05722275f26970cc5e260e6d84b662f3fa4ac1ff9d5a2457a2b708</span> <span style=\"color: #7f7f7f; text-decoration-color: #7f7f7f\">            </span>\n",
       "<span style=\"color: #7fbfbf; text-decoration-color: #7fbfbf\">           </span>         <span style=\"color: #ff00ff; text-decoration-color: #ff00ff; font-weight: bold\">89.out</span><span style=\"color: #008080; text-decoration-color: #008080; font-weight: bold\"> | awk </span><span style=\"color: #008000; text-decoration-color: #008000\">'{print $1}'</span>                                    <span style=\"color: #7f7f7f; text-decoration-color: #7f7f7f\">            </span>\n",
       "</pre>\n"
      ],
      "text/plain": [
       "\u001b[2;36m          \u001b[0m\u001b[2;36m \u001b[0m\u001b[32mDEBUG   \u001b[0m RUN COMMAND:                                                 \u001b[2mrunner.py\u001b[0m\u001b[2m:\u001b[0m\u001b[2m79\u001b[0m\n",
       "\u001b[2;36m           \u001b[0m         \u001b[1;36mwc -c \u001b[0m\u001b[1;35m/Users/qnbhd/Development/gimeltune/examples/gcc/\u001b[0m\u001b[1;95m4c09dde\u001b[0m \u001b[2m            \u001b[0m\n",
       "\u001b[2;36m           \u001b[0m         \u001b[1;95m88456a05722275f26970cc5e260e6d84b662f3fa4ac1ff9d5a2457a2b708\u001b[0m \u001b[2m            \u001b[0m\n",
       "\u001b[2;36m           \u001b[0m         \u001b[1;95m89.out\u001b[0m\u001b[1;36m | awk \u001b[0m\u001b[32m'\u001b[0m\u001b[32m{\u001b[0m\u001b[32mprint $1\u001b[0m\u001b[32m}\u001b[0m\u001b[32m'\u001b[0m                                    \u001b[2m            \u001b[0m\n"
      ]
     },
     "metadata": {},
     "output_type": "display_data"
    },
    {
     "data": {
      "text/html": [
       "<pre style=\"white-space:pre;overflow-x:auto;line-height:normal;font-family:Menlo,'DejaVu Sans Mono',consolas,'Courier New',monospace\"><span style=\"color: #7fbfbf; text-decoration-color: #7fbfbf\">           </span><span style=\"color: #000080; text-decoration-color: #000080\">INFO    </span> <span style=\"color: #808000; text-decoration-color: #808000; font-weight: bold\">OUT: </span><span style=\"color: #008080; text-decoration-color: #008080; font-weight: bold\">80672</span>                                                   <span style=\"color: #7f7f7f; text-decoration-color: #7f7f7f\">runner.py:85</span>\n",
       "</pre>\n"
      ],
      "text/plain": [
       "\u001b[2;36m          \u001b[0m\u001b[2;36m \u001b[0m\u001b[34mINFO    \u001b[0m \u001b[1;33mOUT: \u001b[0m\u001b[1;36m80672\u001b[0m                                                   \u001b[2mrunner.py\u001b[0m\u001b[2m:\u001b[0m\u001b[2m85\u001b[0m\n"
      ]
     },
     "metadata": {},
     "output_type": "display_data"
    },
    {
     "data": {
      "text/html": [
       "<pre style=\"white-space:pre;overflow-x:auto;line-height:normal;font-family:Menlo,'DejaVu Sans Mono',consolas,'Courier New',monospace\"><span style=\"color: #7fbfbf; text-decoration-color: #7fbfbf\">           </span><span style=\"color: #008000; text-decoration-color: #008000\">DEBUG   </span> RUN COMMAND:                                                 <span style=\"color: #7f7f7f; text-decoration-color: #7f7f7f\">runner.py:79</span>\n",
       "<span style=\"color: #7fbfbf; text-decoration-color: #7fbfbf\">           </span>         <span style=\"color: #008080; text-decoration-color: #008080; font-weight: bold\">gtime -f </span><span style=\"color: #008000; text-decoration-color: #008000\">'%e'</span><span style=\"color: #008080; text-decoration-color: #008080; font-weight: bold\"> </span><span style=\"color: #800080; text-decoration-color: #800080; font-weight: bold\">/Users/qnbhd/Development/gimeltune/examples/gcc</span> <span style=\"color: #7f7f7f; text-decoration-color: #7f7f7f\">            </span>\n",
       "<span style=\"color: #7fbfbf; text-decoration-color: #7fbfbf\">           </span>         <span style=\"color: #800080; text-decoration-color: #800080; font-weight: bold\">/</span><span style=\"color: #ff00ff; text-decoration-color: #ff00ff; font-weight: bold\">4c09dde88456a05722275f26970cc5e260e6d84b662f3fa4ac1ff9d5a24</span> <span style=\"color: #7f7f7f; text-decoration-color: #7f7f7f\">            </span>\n",
       "<span style=\"color: #7fbfbf; text-decoration-color: #7fbfbf\">           </span>         <span style=\"color: #ff00ff; text-decoration-color: #ff00ff; font-weight: bold\">57a2b70889.out</span><span style=\"color: #008080; text-decoration-color: #008080; font-weight: bold\"> </span><span style=\"color: #008080; text-decoration-color: #008080; font-weight: bold\">2</span><span style=\"color: #008080; text-decoration-color: #008080; font-weight: bold\">&gt;&amp;</span><span style=\"color: #008080; text-decoration-color: #008080; font-weight: bold\">1</span>                                          <span style=\"color: #7f7f7f; text-decoration-color: #7f7f7f\">            </span>\n",
       "</pre>\n"
      ],
      "text/plain": [
       "\u001b[2;36m          \u001b[0m\u001b[2;36m \u001b[0m\u001b[32mDEBUG   \u001b[0m RUN COMMAND:                                                 \u001b[2mrunner.py\u001b[0m\u001b[2m:\u001b[0m\u001b[2m79\u001b[0m\n",
       "\u001b[2;36m           \u001b[0m         \u001b[1;36mgtime -f \u001b[0m\u001b[32m'%e'\u001b[0m\u001b[1;36m \u001b[0m\u001b[1;35m/Users/qnbhd/Development/gimeltune/examples/gcc\u001b[0m \u001b[2m            \u001b[0m\n",
       "\u001b[2;36m           \u001b[0m         \u001b[1;35m/\u001b[0m\u001b[1;95m4c09dde88456a05722275f26970cc5e260e6d84b662f3fa4ac1ff9d5a24\u001b[0m \u001b[2m            \u001b[0m\n",
       "\u001b[2;36m           \u001b[0m         \u001b[1;95m57a2b70889.out\u001b[0m\u001b[1;36m \u001b[0m\u001b[1;36m2\u001b[0m\u001b[1;36m>&\u001b[0m\u001b[1;36m1\u001b[0m                                          \u001b[2m            \u001b[0m\n"
      ]
     },
     "metadata": {},
     "output_type": "display_data"
    },
    {
     "data": {
      "text/html": [
       "<pre style=\"white-space:pre;overflow-x:auto;line-height:normal;font-family:Menlo,'DejaVu Sans Mono',consolas,'Courier New',monospace\"><span style=\"color: #7fbfbf; text-decoration-color: #7fbfbf\">[11:17:36] </span><span style=\"color: #000080; text-decoration-color: #000080\">INFO    </span> <span style=\"color: #808000; text-decoration-color: #808000; font-weight: bold\">OUT: </span><span style=\"color: #008080; text-decoration-color: #008080; font-weight: bold\">1.14</span>                                                    <span style=\"color: #7f7f7f; text-decoration-color: #7f7f7f\">runner.py:85</span>\n",
       "</pre>\n"
      ],
      "text/plain": [
       "\u001b[2;36m[11:17:36]\u001b[0m\u001b[2;36m \u001b[0m\u001b[34mINFO    \u001b[0m \u001b[1;33mOUT: \u001b[0m\u001b[1;36m1.14\u001b[0m                                                    \u001b[2mrunner.py\u001b[0m\u001b[2m:\u001b[0m\u001b[2m85\u001b[0m\n"
      ]
     },
     "metadata": {},
     "output_type": "display_data"
    },
    {
     "data": {
      "text/html": [
       "<pre style=\"white-space:pre;overflow-x:auto;line-height:normal;font-family:Menlo,'DejaVu Sans Mono',consolas,'Courier New',monospace\"><span style=\"color: #7fbfbf; text-decoration-color: #7fbfbf\">           </span><span style=\"color: #008000; text-decoration-color: #008000\">DEBUG   </span> RUN COMMAND:                                                 <span style=\"color: #7f7f7f; text-decoration-color: #7f7f7f\">runner.py:79</span>\n",
       "<span style=\"color: #7fbfbf; text-decoration-color: #7fbfbf\">           </span>         <span style=\"color: #008080; text-decoration-color: #008080; font-weight: bold\">gtime -f </span><span style=\"color: #008000; text-decoration-color: #008000\">'%e'</span><span style=\"color: #008080; text-decoration-color: #008080; font-weight: bold\"> </span><span style=\"color: #800080; text-decoration-color: #800080; font-weight: bold\">/Users/qnbhd/Development/gimeltune/examples/gcc</span> <span style=\"color: #7f7f7f; text-decoration-color: #7f7f7f\">            </span>\n",
       "<span style=\"color: #7fbfbf; text-decoration-color: #7fbfbf\">           </span>         <span style=\"color: #800080; text-decoration-color: #800080; font-weight: bold\">/</span><span style=\"color: #ff00ff; text-decoration-color: #ff00ff; font-weight: bold\">4c09dde88456a05722275f26970cc5e260e6d84b662f3fa4ac1ff9d5a24</span> <span style=\"color: #7f7f7f; text-decoration-color: #7f7f7f\">            </span>\n",
       "<span style=\"color: #7fbfbf; text-decoration-color: #7fbfbf\">           </span>         <span style=\"color: #ff00ff; text-decoration-color: #ff00ff; font-weight: bold\">57a2b70889.out</span><span style=\"color: #008080; text-decoration-color: #008080; font-weight: bold\"> </span><span style=\"color: #008080; text-decoration-color: #008080; font-weight: bold\">2</span><span style=\"color: #008080; text-decoration-color: #008080; font-weight: bold\">&gt;&amp;</span><span style=\"color: #008080; text-decoration-color: #008080; font-weight: bold\">1</span>                                          <span style=\"color: #7f7f7f; text-decoration-color: #7f7f7f\">            </span>\n",
       "</pre>\n"
      ],
      "text/plain": [
       "\u001b[2;36m          \u001b[0m\u001b[2;36m \u001b[0m\u001b[32mDEBUG   \u001b[0m RUN COMMAND:                                                 \u001b[2mrunner.py\u001b[0m\u001b[2m:\u001b[0m\u001b[2m79\u001b[0m\n",
       "\u001b[2;36m           \u001b[0m         \u001b[1;36mgtime -f \u001b[0m\u001b[32m'%e'\u001b[0m\u001b[1;36m \u001b[0m\u001b[1;35m/Users/qnbhd/Development/gimeltune/examples/gcc\u001b[0m \u001b[2m            \u001b[0m\n",
       "\u001b[2;36m           \u001b[0m         \u001b[1;35m/\u001b[0m\u001b[1;95m4c09dde88456a05722275f26970cc5e260e6d84b662f3fa4ac1ff9d5a24\u001b[0m \u001b[2m            \u001b[0m\n",
       "\u001b[2;36m           \u001b[0m         \u001b[1;95m57a2b70889.out\u001b[0m\u001b[1;36m \u001b[0m\u001b[1;36m2\u001b[0m\u001b[1;36m>&\u001b[0m\u001b[1;36m1\u001b[0m                                          \u001b[2m            \u001b[0m\n"
      ]
     },
     "metadata": {},
     "output_type": "display_data"
    },
    {
     "data": {
      "text/html": [
       "<pre style=\"white-space:pre;overflow-x:auto;line-height:normal;font-family:Menlo,'DejaVu Sans Mono',consolas,'Courier New',monospace\"><span style=\"color: #7fbfbf; text-decoration-color: #7fbfbf\">[11:17:37] </span><span style=\"color: #000080; text-decoration-color: #000080\">INFO    </span> <span style=\"color: #808000; text-decoration-color: #808000; font-weight: bold\">OUT: </span><span style=\"color: #008080; text-decoration-color: #008080; font-weight: bold\">0.96</span>                                                    <span style=\"color: #7f7f7f; text-decoration-color: #7f7f7f\">runner.py:85</span>\n",
       "</pre>\n"
      ],
      "text/plain": [
       "\u001b[2;36m[11:17:37]\u001b[0m\u001b[2;36m \u001b[0m\u001b[34mINFO    \u001b[0m \u001b[1;33mOUT: \u001b[0m\u001b[1;36m0.96\u001b[0m                                                    \u001b[2mrunner.py\u001b[0m\u001b[2m:\u001b[0m\u001b[2m85\u001b[0m\n"
      ]
     },
     "metadata": {},
     "output_type": "display_data"
    },
    {
     "data": {
      "text/html": [
       "<pre style=\"white-space:pre;overflow-x:auto;line-height:normal;font-family:Menlo,'DejaVu Sans Mono',consolas,'Courier New',monospace\"><span style=\"color: #7fbfbf; text-decoration-color: #7fbfbf\">           </span><span style=\"color: #008000; text-decoration-color: #008000\">DEBUG   </span> RUN COMMAND:                                                 <span style=\"color: #7f7f7f; text-decoration-color: #7f7f7f\">runner.py:79</span>\n",
       "<span style=\"color: #7fbfbf; text-decoration-color: #7fbfbf\">           </span>         <span style=\"color: #008080; text-decoration-color: #008080; font-weight: bold\">gtime -f </span><span style=\"color: #008000; text-decoration-color: #008000\">'%e'</span><span style=\"color: #008080; text-decoration-color: #008080; font-weight: bold\"> </span><span style=\"color: #800080; text-decoration-color: #800080; font-weight: bold\">/Users/qnbhd/Development/gimeltune/examples/gcc</span> <span style=\"color: #7f7f7f; text-decoration-color: #7f7f7f\">            </span>\n",
       "<span style=\"color: #7fbfbf; text-decoration-color: #7fbfbf\">           </span>         <span style=\"color: #800080; text-decoration-color: #800080; font-weight: bold\">/</span><span style=\"color: #ff00ff; text-decoration-color: #ff00ff; font-weight: bold\">4c09dde88456a05722275f26970cc5e260e6d84b662f3fa4ac1ff9d5a24</span> <span style=\"color: #7f7f7f; text-decoration-color: #7f7f7f\">            </span>\n",
       "<span style=\"color: #7fbfbf; text-decoration-color: #7fbfbf\">           </span>         <span style=\"color: #ff00ff; text-decoration-color: #ff00ff; font-weight: bold\">57a2b70889.out</span><span style=\"color: #008080; text-decoration-color: #008080; font-weight: bold\"> </span><span style=\"color: #008080; text-decoration-color: #008080; font-weight: bold\">2</span><span style=\"color: #008080; text-decoration-color: #008080; font-weight: bold\">&gt;&amp;</span><span style=\"color: #008080; text-decoration-color: #008080; font-weight: bold\">1</span>                                          <span style=\"color: #7f7f7f; text-decoration-color: #7f7f7f\">            </span>\n",
       "</pre>\n"
      ],
      "text/plain": [
       "\u001b[2;36m          \u001b[0m\u001b[2;36m \u001b[0m\u001b[32mDEBUG   \u001b[0m RUN COMMAND:                                                 \u001b[2mrunner.py\u001b[0m\u001b[2m:\u001b[0m\u001b[2m79\u001b[0m\n",
       "\u001b[2;36m           \u001b[0m         \u001b[1;36mgtime -f \u001b[0m\u001b[32m'%e'\u001b[0m\u001b[1;36m \u001b[0m\u001b[1;35m/Users/qnbhd/Development/gimeltune/examples/gcc\u001b[0m \u001b[2m            \u001b[0m\n",
       "\u001b[2;36m           \u001b[0m         \u001b[1;35m/\u001b[0m\u001b[1;95m4c09dde88456a05722275f26970cc5e260e6d84b662f3fa4ac1ff9d5a24\u001b[0m \u001b[2m            \u001b[0m\n",
       "\u001b[2;36m           \u001b[0m         \u001b[1;95m57a2b70889.out\u001b[0m\u001b[1;36m \u001b[0m\u001b[1;36m2\u001b[0m\u001b[1;36m>&\u001b[0m\u001b[1;36m1\u001b[0m                                          \u001b[2m            \u001b[0m\n"
      ]
     },
     "metadata": {},
     "output_type": "display_data"
    },
    {
     "data": {
      "text/html": [
       "<pre style=\"white-space:pre;overflow-x:auto;line-height:normal;font-family:Menlo,'DejaVu Sans Mono',consolas,'Courier New',monospace\"><span style=\"color: #7fbfbf; text-decoration-color: #7fbfbf\">[11:17:38] </span><span style=\"color: #000080; text-decoration-color: #000080\">INFO    </span> <span style=\"color: #808000; text-decoration-color: #808000; font-weight: bold\">OUT: </span><span style=\"color: #008080; text-decoration-color: #008080; font-weight: bold\">0.95</span>                                                    <span style=\"color: #7f7f7f; text-decoration-color: #7f7f7f\">runner.py:85</span>\n",
       "</pre>\n"
      ],
      "text/plain": [
       "\u001b[2;36m[11:17:38]\u001b[0m\u001b[2;36m \u001b[0m\u001b[34mINFO    \u001b[0m \u001b[1;33mOUT: \u001b[0m\u001b[1;36m0.95\u001b[0m                                                    \u001b[2mrunner.py\u001b[0m\u001b[2m:\u001b[0m\u001b[2m85\u001b[0m\n"
      ]
     },
     "metadata": {},
     "output_type": "display_data"
    },
    {
     "data": {
      "text/html": [
       "<pre style=\"white-space:pre;overflow-x:auto;line-height:normal;font-family:Menlo,'DejaVu Sans Mono',consolas,'Courier New',monospace\"><span style=\"color: #7fbfbf; text-decoration-color: #7fbfbf\">           </span><span style=\"color: #008000; text-decoration-color: #008000\">DEBUG   </span> RUN COMMAND:                                                 <span style=\"color: #7f7f7f; text-decoration-color: #7f7f7f\">runner.py:79</span>\n",
       "<span style=\"color: #7fbfbf; text-decoration-color: #7fbfbf\">           </span>         <span style=\"color: #008080; text-decoration-color: #008080; font-weight: bold\">gtime -f </span><span style=\"color: #008000; text-decoration-color: #008000\">'%e'</span><span style=\"color: #008080; text-decoration-color: #008080; font-weight: bold\"> </span><span style=\"color: #800080; text-decoration-color: #800080; font-weight: bold\">/Users/qnbhd/Development/gimeltune/examples/gcc</span> <span style=\"color: #7f7f7f; text-decoration-color: #7f7f7f\">            </span>\n",
       "<span style=\"color: #7fbfbf; text-decoration-color: #7fbfbf\">           </span>         <span style=\"color: #800080; text-decoration-color: #800080; font-weight: bold\">/</span><span style=\"color: #ff00ff; text-decoration-color: #ff00ff; font-weight: bold\">4c09dde88456a05722275f26970cc5e260e6d84b662f3fa4ac1ff9d5a24</span> <span style=\"color: #7f7f7f; text-decoration-color: #7f7f7f\">            </span>\n",
       "<span style=\"color: #7fbfbf; text-decoration-color: #7fbfbf\">           </span>         <span style=\"color: #ff00ff; text-decoration-color: #ff00ff; font-weight: bold\">57a2b70889.out</span><span style=\"color: #008080; text-decoration-color: #008080; font-weight: bold\"> </span><span style=\"color: #008080; text-decoration-color: #008080; font-weight: bold\">2</span><span style=\"color: #008080; text-decoration-color: #008080; font-weight: bold\">&gt;&amp;</span><span style=\"color: #008080; text-decoration-color: #008080; font-weight: bold\">1</span>                                          <span style=\"color: #7f7f7f; text-decoration-color: #7f7f7f\">            </span>\n",
       "</pre>\n"
      ],
      "text/plain": [
       "\u001b[2;36m          \u001b[0m\u001b[2;36m \u001b[0m\u001b[32mDEBUG   \u001b[0m RUN COMMAND:                                                 \u001b[2mrunner.py\u001b[0m\u001b[2m:\u001b[0m\u001b[2m79\u001b[0m\n",
       "\u001b[2;36m           \u001b[0m         \u001b[1;36mgtime -f \u001b[0m\u001b[32m'%e'\u001b[0m\u001b[1;36m \u001b[0m\u001b[1;35m/Users/qnbhd/Development/gimeltune/examples/gcc\u001b[0m \u001b[2m            \u001b[0m\n",
       "\u001b[2;36m           \u001b[0m         \u001b[1;35m/\u001b[0m\u001b[1;95m4c09dde88456a05722275f26970cc5e260e6d84b662f3fa4ac1ff9d5a24\u001b[0m \u001b[2m            \u001b[0m\n",
       "\u001b[2;36m           \u001b[0m         \u001b[1;95m57a2b70889.out\u001b[0m\u001b[1;36m \u001b[0m\u001b[1;36m2\u001b[0m\u001b[1;36m>&\u001b[0m\u001b[1;36m1\u001b[0m                                          \u001b[2m            \u001b[0m\n"
      ]
     },
     "metadata": {},
     "output_type": "display_data"
    },
    {
     "data": {
      "text/html": [
       "<pre style=\"white-space:pre;overflow-x:auto;line-height:normal;font-family:Menlo,'DejaVu Sans Mono',consolas,'Courier New',monospace\"><span style=\"color: #7fbfbf; text-decoration-color: #7fbfbf\">[11:17:39] </span><span style=\"color: #000080; text-decoration-color: #000080\">INFO    </span> <span style=\"color: #808000; text-decoration-color: #808000; font-weight: bold\">OUT: </span><span style=\"color: #008080; text-decoration-color: #008080; font-weight: bold\">0.96</span>                                                    <span style=\"color: #7f7f7f; text-decoration-color: #7f7f7f\">runner.py:85</span>\n",
       "</pre>\n"
      ],
      "text/plain": [
       "\u001b[2;36m[11:17:39]\u001b[0m\u001b[2;36m \u001b[0m\u001b[34mINFO    \u001b[0m \u001b[1;33mOUT: \u001b[0m\u001b[1;36m0.96\u001b[0m                                                    \u001b[2mrunner.py\u001b[0m\u001b[2m:\u001b[0m\u001b[2m85\u001b[0m\n"
      ]
     },
     "metadata": {},
     "output_type": "display_data"
    },
    {
     "data": {
      "text/html": [
       "<pre style=\"white-space:pre;overflow-x:auto;line-height:normal;font-family:Menlo,'DejaVu Sans Mono',consolas,'Courier New',monospace\"><span style=\"color: #7fbfbf; text-decoration-color: #7fbfbf\">           </span><span style=\"color: #008000; text-decoration-color: #008000\">DEBUG   </span> RUN COMMAND:                                                 <span style=\"color: #7f7f7f; text-decoration-color: #7f7f7f\">runner.py:79</span>\n",
       "<span style=\"color: #7fbfbf; text-decoration-color: #7fbfbf\">           </span>         <span style=\"color: #008080; text-decoration-color: #008080; font-weight: bold\">gtime -f </span><span style=\"color: #008000; text-decoration-color: #008000\">'%e'</span><span style=\"color: #008080; text-decoration-color: #008080; font-weight: bold\"> </span><span style=\"color: #800080; text-decoration-color: #800080; font-weight: bold\">/Users/qnbhd/Development/gimeltune/examples/gcc</span> <span style=\"color: #7f7f7f; text-decoration-color: #7f7f7f\">            </span>\n",
       "<span style=\"color: #7fbfbf; text-decoration-color: #7fbfbf\">           </span>         <span style=\"color: #800080; text-decoration-color: #800080; font-weight: bold\">/</span><span style=\"color: #ff00ff; text-decoration-color: #ff00ff; font-weight: bold\">4c09dde88456a05722275f26970cc5e260e6d84b662f3fa4ac1ff9d5a24</span> <span style=\"color: #7f7f7f; text-decoration-color: #7f7f7f\">            </span>\n",
       "<span style=\"color: #7fbfbf; text-decoration-color: #7fbfbf\">           </span>         <span style=\"color: #ff00ff; text-decoration-color: #ff00ff; font-weight: bold\">57a2b70889.out</span><span style=\"color: #008080; text-decoration-color: #008080; font-weight: bold\"> </span><span style=\"color: #008080; text-decoration-color: #008080; font-weight: bold\">2</span><span style=\"color: #008080; text-decoration-color: #008080; font-weight: bold\">&gt;&amp;</span><span style=\"color: #008080; text-decoration-color: #008080; font-weight: bold\">1</span>                                          <span style=\"color: #7f7f7f; text-decoration-color: #7f7f7f\">            </span>\n",
       "</pre>\n"
      ],
      "text/plain": [
       "\u001b[2;36m          \u001b[0m\u001b[2;36m \u001b[0m\u001b[32mDEBUG   \u001b[0m RUN COMMAND:                                                 \u001b[2mrunner.py\u001b[0m\u001b[2m:\u001b[0m\u001b[2m79\u001b[0m\n",
       "\u001b[2;36m           \u001b[0m         \u001b[1;36mgtime -f \u001b[0m\u001b[32m'%e'\u001b[0m\u001b[1;36m \u001b[0m\u001b[1;35m/Users/qnbhd/Development/gimeltune/examples/gcc\u001b[0m \u001b[2m            \u001b[0m\n",
       "\u001b[2;36m           \u001b[0m         \u001b[1;35m/\u001b[0m\u001b[1;95m4c09dde88456a05722275f26970cc5e260e6d84b662f3fa4ac1ff9d5a24\u001b[0m \u001b[2m            \u001b[0m\n",
       "\u001b[2;36m           \u001b[0m         \u001b[1;95m57a2b70889.out\u001b[0m\u001b[1;36m \u001b[0m\u001b[1;36m2\u001b[0m\u001b[1;36m>&\u001b[0m\u001b[1;36m1\u001b[0m                                          \u001b[2m            \u001b[0m\n"
      ]
     },
     "metadata": {},
     "output_type": "display_data"
    },
    {
     "data": {
      "text/html": [
       "<pre style=\"white-space:pre;overflow-x:auto;line-height:normal;font-family:Menlo,'DejaVu Sans Mono',consolas,'Courier New',monospace\"><span style=\"color: #7fbfbf; text-decoration-color: #7fbfbf\">[11:17:40] </span><span style=\"color: #000080; text-decoration-color: #000080\">INFO    </span> <span style=\"color: #808000; text-decoration-color: #808000; font-weight: bold\">OUT: </span><span style=\"color: #008080; text-decoration-color: #008080; font-weight: bold\">0.96</span>                                                    <span style=\"color: #7f7f7f; text-decoration-color: #7f7f7f\">runner.py:85</span>\n",
       "</pre>\n"
      ],
      "text/plain": [
       "\u001b[2;36m[11:17:40]\u001b[0m\u001b[2;36m \u001b[0m\u001b[34mINFO    \u001b[0m \u001b[1;33mOUT: \u001b[0m\u001b[1;36m0.96\u001b[0m                                                    \u001b[2mrunner.py\u001b[0m\u001b[2m:\u001b[0m\u001b[2m85\u001b[0m\n"
      ]
     },
     "metadata": {},
     "output_type": "display_data"
    },
    {
     "data": {
      "text/html": [
       "<pre style=\"white-space:pre;overflow-x:auto;line-height:normal;font-family:Menlo,'DejaVu Sans Mono',consolas,'Courier New',monospace\"><span style=\"color: #7fbfbf; text-decoration-color: #7fbfbf\">           </span><span style=\"color: #008000; text-decoration-color: #008000\">DEBUG   </span> RUN COMMAND:                                                 <span style=\"color: #7f7f7f; text-decoration-color: #7f7f7f\">runner.py:79</span>\n",
       "<span style=\"color: #7fbfbf; text-decoration-color: #7fbfbf\">           </span>         <span style=\"color: #008080; text-decoration-color: #008080; font-weight: bold\">rm </span><span style=\"color: #800080; text-decoration-color: #800080; font-weight: bold\">/Users/qnbhd/Development/gimeltune/examples/gcc/</span><span style=\"color: #ff00ff; text-decoration-color: #ff00ff; font-weight: bold\">4c09dde884</span> <span style=\"color: #7f7f7f; text-decoration-color: #7f7f7f\">            </span>\n",
       "<span style=\"color: #7fbfbf; text-decoration-color: #7fbfbf\">           </span>         <span style=\"color: #ff00ff; text-decoration-color: #ff00ff; font-weight: bold\">56a05722275f26970cc5e260e6d84b662f3fa4ac1ff9d5a2457a2b70889.</span> <span style=\"color: #7f7f7f; text-decoration-color: #7f7f7f\">            </span>\n",
       "<span style=\"color: #7fbfbf; text-decoration-color: #7fbfbf\">           </span>         <span style=\"color: #ff00ff; text-decoration-color: #ff00ff; font-weight: bold\">out</span>                                                          <span style=\"color: #7f7f7f; text-decoration-color: #7f7f7f\">            </span>\n",
       "</pre>\n"
      ],
      "text/plain": [
       "\u001b[2;36m          \u001b[0m\u001b[2;36m \u001b[0m\u001b[32mDEBUG   \u001b[0m RUN COMMAND:                                                 \u001b[2mrunner.py\u001b[0m\u001b[2m:\u001b[0m\u001b[2m79\u001b[0m\n",
       "\u001b[2;36m           \u001b[0m         \u001b[1;36mrm \u001b[0m\u001b[1;35m/Users/qnbhd/Development/gimeltune/examples/gcc/\u001b[0m\u001b[1;95m4c09dde884\u001b[0m \u001b[2m            \u001b[0m\n",
       "\u001b[2;36m           \u001b[0m         \u001b[1;95m56a05722275f26970cc5e260e6d84b662f3fa4ac1ff9d5a2457a2b70889.\u001b[0m \u001b[2m            \u001b[0m\n",
       "\u001b[2;36m           \u001b[0m         \u001b[1;95mout\u001b[0m                                                          \u001b[2m            \u001b[0m\n"
      ]
     },
     "metadata": {},
     "output_type": "display_data"
    },
    {
     "data": {
      "text/html": [
       "<pre style=\"white-space:pre;overflow-x:auto;line-height:normal;font-family:Menlo,'DejaVu Sans Mono',consolas,'Courier New',monospace\"><span style=\"color: #7fbfbf; text-decoration-color: #7fbfbf\">           </span><span style=\"color: #000080; text-decoration-color: #000080\">INFO    </span> Trying experiment: <span style=\"color: #800080; text-decoration-color: #800080; font-weight: bold\">Experiment</span><span style=\"font-weight: bold\">({</span>                             <span style=\"color: #7f7f7f; text-decoration-color: #7f7f7f\">runner.py:156</span>\n",
       "<span style=\"color: #7fbfbf; text-decoration-color: #7fbfbf\">           </span>             <span style=\"color: #008000; text-decoration-color: #008000\">\"id\"</span>: <span style=\"color: #008080; text-decoration-color: #008080; font-weight: bold\">20</span>,                                               <span style=\"color: #7f7f7f; text-decoration-color: #7f7f7f\">             </span>\n",
       "<span style=\"color: #7fbfbf; text-decoration-color: #7fbfbf\">           </span>             <span style=\"color: #008000; text-decoration-color: #008000\">\"job_id\"</span>: <span style=\"color: #008080; text-decoration-color: #008080; font-weight: bold\">1</span>,                                            <span style=\"color: #7f7f7f; text-decoration-color: #7f7f7f\">             </span>\n",
       "<span style=\"color: #7fbfbf; text-decoration-color: #7fbfbf\">           </span>             <span style=\"color: #008000; text-decoration-color: #008000\">\"state\"</span>: <span style=\"color: #008000; text-decoration-color: #008000\">\"WIP\"</span>,                                         <span style=\"color: #7f7f7f; text-decoration-color: #7f7f7f\">             </span>\n",
       "<span style=\"color: #7fbfbf; text-decoration-color: #7fbfbf\">           </span>             <span style=\"color: #008000; text-decoration-color: #008000\">\"hash\"</span>: null,                                           <span style=\"color: #7f7f7f; text-decoration-color: #7f7f7f\">             </span>\n",
       "<span style=\"color: #7fbfbf; text-decoration-color: #7fbfbf\">           </span>             <span style=\"color: #008000; text-decoration-color: #008000\">\"objective_result\"</span>: null,                               <span style=\"color: #7f7f7f; text-decoration-color: #7f7f7f\">             </span>\n",
       "<span style=\"color: #7fbfbf; text-decoration-color: #7fbfbf\">           </span>             <span style=\"color: #008000; text-decoration-color: #008000\">\"params\"</span>: <span style=\"font-weight: bold\">{</span>                                             <span style=\"color: #7f7f7f; text-decoration-color: #7f7f7f\">             </span>\n",
       "<span style=\"color: #7fbfbf; text-decoration-color: #7fbfbf\">           </span>                 <span style=\"color: #008000; text-decoration-color: #008000\">\"-O\"</span>: null,                                         <span style=\"color: #7f7f7f; text-decoration-color: #7f7f7f\">             </span>\n",
       "<span style=\"color: #7fbfbf; text-decoration-color: #7fbfbf\">           </span>                 <span style=\"color: #008000; text-decoration-color: #008000\">\"align-functions\"</span>: <span style=\"color: #008000; text-decoration-color: #008000\">\"-falign-functions\"</span>,             <span style=\"color: #7f7f7f; text-decoration-color: #7f7f7f\">             </span>\n",
       "<span style=\"color: #7fbfbf; text-decoration-color: #7fbfbf\">           </span>                 <span style=\"color: #008000; text-decoration-color: #008000\">\"align-jumps\"</span>: null,                                <span style=\"color: #7f7f7f; text-decoration-color: #7f7f7f\">             </span>\n",
       "<span style=\"color: #7fbfbf; text-decoration-color: #7fbfbf\">           </span>                 <span style=\"color: #008000; text-decoration-color: #008000\">\"align-labels\"</span>: <span style=\"color: #008000; text-decoration-color: #008000\">\"-falign-labels\"</span>,                   <span style=\"color: #7f7f7f; text-decoration-color: #7f7f7f\">             </span>\n",
       "<span style=\"color: #7fbfbf; text-decoration-color: #7fbfbf\">           </span>                 <span style=\"color: #008000; text-decoration-color: #008000\">\"asynchronous-unwind-tables\"</span>:                       <span style=\"color: #7f7f7f; text-decoration-color: #7f7f7f\">             </span>\n",
       "<span style=\"color: #7fbfbf; text-decoration-color: #7fbfbf\">           </span>         <span style=\"color: #008000; text-decoration-color: #008000\">\"-fno-asynchronous-unwind-tables\"</span>,                          <span style=\"color: #7f7f7f; text-decoration-color: #7f7f7f\">             </span>\n",
       "<span style=\"color: #7fbfbf; text-decoration-color: #7fbfbf\">           </span>                 <span style=\"color: #008000; text-decoration-color: #008000\">\"branch-count-reg\"</span>: null,                           <span style=\"color: #7f7f7f; text-decoration-color: #7f7f7f\">             </span>\n",
       "<span style=\"color: #7fbfbf; text-decoration-color: #7fbfbf\">           </span>                 <span style=\"color: #008000; text-decoration-color: #008000\">\"branch-probabilities\"</span>:                             <span style=\"color: #7f7f7f; text-decoration-color: #7f7f7f\">             </span>\n",
       "<span style=\"color: #7fbfbf; text-decoration-color: #7fbfbf\">           </span>         <span style=\"color: #008000; text-decoration-color: #008000\">\"-fno-branch-probabilities\"</span>,                                <span style=\"color: #7f7f7f; text-decoration-color: #7f7f7f\">             </span>\n",
       "<span style=\"color: #7fbfbf; text-decoration-color: #7fbfbf\">           </span>                 <span style=\"color: #008000; text-decoration-color: #008000\">\"early-inlining-insns\"</span>: <span style=\"color: #008080; text-decoration-color: #008080; font-weight: bold\">565</span>,                        <span style=\"color: #7f7f7f; text-decoration-color: #7f7f7f\">             </span>\n",
       "<span style=\"color: #7fbfbf; text-decoration-color: #7fbfbf\">           </span>                 <span style=\"color: #008000; text-decoration-color: #008000\">\"gcse-cost-distance-ratio\"</span>: <span style=\"color: #008080; text-decoration-color: #008080; font-weight: bold\">98</span>,                     <span style=\"color: #7f7f7f; text-decoration-color: #7f7f7f\">             </span>\n",
       "<span style=\"color: #7fbfbf; text-decoration-color: #7fbfbf\">           </span>                 <span style=\"color: #008000; text-decoration-color: #008000\">\"iv-max-considered-uses\"</span>: <span style=\"color: #008080; text-decoration-color: #008080; font-weight: bold\">99</span>                        <span style=\"color: #7f7f7f; text-decoration-color: #7f7f7f\">             </span>\n",
       "<span style=\"color: #7fbfbf; text-decoration-color: #7fbfbf\">           </span>             <span style=\"font-weight: bold\">}</span>,                                                      <span style=\"color: #7f7f7f; text-decoration-color: #7f7f7f\">             </span>\n",
       "<span style=\"color: #7fbfbf; text-decoration-color: #7fbfbf\">           </span>             <span style=\"color: #008000; text-decoration-color: #008000\">\"requestor\"</span>: <span style=\"color: #008000; text-decoration-color: #008000\">\"SkoptBayesianAlgorithm\"</span>,                  <span style=\"color: #7f7f7f; text-decoration-color: #7f7f7f\">             </span>\n",
       "<span style=\"color: #7fbfbf; text-decoration-color: #7fbfbf\">           </span>             <span style=\"color: #008000; text-decoration-color: #008000\">\"create_timestamp\"</span>: <span style=\"color: #008080; text-decoration-color: #008080; font-weight: bold\">1645690655.038012</span>,                  <span style=\"color: #7f7f7f; text-decoration-color: #7f7f7f\">             </span>\n",
       "<span style=\"color: #7fbfbf; text-decoration-color: #7fbfbf\">           </span>             <span style=\"color: #008000; text-decoration-color: #008000\">\"finish_timestamp\"</span>: null                                <span style=\"color: #7f7f7f; text-decoration-color: #7f7f7f\">             </span>\n",
       "<span style=\"color: #7fbfbf; text-decoration-color: #7fbfbf\">           </span>         <span style=\"font-weight: bold\">})</span>                                                          <span style=\"color: #7f7f7f; text-decoration-color: #7f7f7f\">             </span>\n",
       "</pre>\n"
      ],
      "text/plain": [
       "\u001b[2;36m          \u001b[0m\u001b[2;36m \u001b[0m\u001b[34mINFO    \u001b[0m Trying experiment: \u001b[1;35mExperiment\u001b[0m\u001b[1m(\u001b[0m\u001b[1m{\u001b[0m                             \u001b[2mrunner.py\u001b[0m\u001b[2m:\u001b[0m\u001b[2m156\u001b[0m\n",
       "\u001b[2;36m           \u001b[0m             \u001b[32m\"id\"\u001b[0m: \u001b[1;36m20\u001b[0m,                                               \u001b[2m             \u001b[0m\n",
       "\u001b[2;36m           \u001b[0m             \u001b[32m\"job_id\"\u001b[0m: \u001b[1;36m1\u001b[0m,                                            \u001b[2m             \u001b[0m\n",
       "\u001b[2;36m           \u001b[0m             \u001b[32m\"state\"\u001b[0m: \u001b[32m\"WIP\"\u001b[0m,                                         \u001b[2m             \u001b[0m\n",
       "\u001b[2;36m           \u001b[0m             \u001b[32m\"hash\"\u001b[0m: null,                                           \u001b[2m             \u001b[0m\n",
       "\u001b[2;36m           \u001b[0m             \u001b[32m\"objective_result\"\u001b[0m: null,                               \u001b[2m             \u001b[0m\n",
       "\u001b[2;36m           \u001b[0m             \u001b[32m\"params\"\u001b[0m: \u001b[1m{\u001b[0m                                             \u001b[2m             \u001b[0m\n",
       "\u001b[2;36m           \u001b[0m                 \u001b[32m\"-O\"\u001b[0m: null,                                         \u001b[2m             \u001b[0m\n",
       "\u001b[2;36m           \u001b[0m                 \u001b[32m\"align-functions\"\u001b[0m: \u001b[32m\"-falign-functions\"\u001b[0m,             \u001b[2m             \u001b[0m\n",
       "\u001b[2;36m           \u001b[0m                 \u001b[32m\"align-jumps\"\u001b[0m: null,                                \u001b[2m             \u001b[0m\n",
       "\u001b[2;36m           \u001b[0m                 \u001b[32m\"align-labels\"\u001b[0m: \u001b[32m\"-falign-labels\"\u001b[0m,                   \u001b[2m             \u001b[0m\n",
       "\u001b[2;36m           \u001b[0m                 \u001b[32m\"asynchronous-unwind-tables\"\u001b[0m:                       \u001b[2m             \u001b[0m\n",
       "\u001b[2;36m           \u001b[0m         \u001b[32m\"-fno-asynchronous-unwind-tables\"\u001b[0m,                          \u001b[2m             \u001b[0m\n",
       "\u001b[2;36m           \u001b[0m                 \u001b[32m\"branch-count-reg\"\u001b[0m: null,                           \u001b[2m             \u001b[0m\n",
       "\u001b[2;36m           \u001b[0m                 \u001b[32m\"branch-probabilities\"\u001b[0m:                             \u001b[2m             \u001b[0m\n",
       "\u001b[2;36m           \u001b[0m         \u001b[32m\"-fno-branch-probabilities\"\u001b[0m,                                \u001b[2m             \u001b[0m\n",
       "\u001b[2;36m           \u001b[0m                 \u001b[32m\"early-inlining-insns\"\u001b[0m: \u001b[1;36m565\u001b[0m,                        \u001b[2m             \u001b[0m\n",
       "\u001b[2;36m           \u001b[0m                 \u001b[32m\"gcse-cost-distance-ratio\"\u001b[0m: \u001b[1;36m98\u001b[0m,                     \u001b[2m             \u001b[0m\n",
       "\u001b[2;36m           \u001b[0m                 \u001b[32m\"iv-max-considered-uses\"\u001b[0m: \u001b[1;36m99\u001b[0m                        \u001b[2m             \u001b[0m\n",
       "\u001b[2;36m           \u001b[0m             \u001b[1m}\u001b[0m,                                                      \u001b[2m             \u001b[0m\n",
       "\u001b[2;36m           \u001b[0m             \u001b[32m\"requestor\"\u001b[0m: \u001b[32m\"SkoptBayesianAlgorithm\"\u001b[0m,                  \u001b[2m             \u001b[0m\n",
       "\u001b[2;36m           \u001b[0m             \u001b[32m\"create_timestamp\"\u001b[0m: \u001b[1;36m1645690655.038012\u001b[0m,                  \u001b[2m             \u001b[0m\n",
       "\u001b[2;36m           \u001b[0m             \u001b[32m\"finish_timestamp\"\u001b[0m: null                                \u001b[2m             \u001b[0m\n",
       "\u001b[2;36m           \u001b[0m         \u001b[1m}\u001b[0m\u001b[1m)\u001b[0m                                                          \u001b[2m             \u001b[0m\n"
      ]
     },
     "metadata": {},
     "output_type": "display_data"
    },
    {
     "data": {
      "text/html": [
       "<pre style=\"white-space:pre;overflow-x:auto;line-height:normal;font-family:Menlo,'DejaVu Sans Mono',consolas,'Courier New',monospace\"><span style=\"color: #7fbfbf; text-decoration-color: #7fbfbf\">           </span><span style=\"color: #008000; text-decoration-color: #008000\">DEBUG   </span> RUN COMMAND:                                                 <span style=\"color: #7f7f7f; text-decoration-color: #7f7f7f\">runner.py:79</span>\n",
       "<span style=\"color: #7fbfbf; text-decoration-color: #7fbfbf\">           </span>         <span style=\"color: #008080; text-decoration-color: #008080; font-weight: bold\">gtime -f </span><span style=\"color: #008000; text-decoration-color: #008000\">'%e'</span><span style=\"color: #008080; text-decoration-color: #008080; font-weight: bold\"> g++</span><span style=\"color: #008080; text-decoration-color: #008080; font-weight: bold\">-11</span><span style=\"color: #008080; text-decoration-color: #008080; font-weight: bold\"> -o </span><span style=\"color: #800080; text-decoration-color: #800080; font-weight: bold\">/Users/qnbhd/Development/gimeltune/ex</span> <span style=\"color: #7f7f7f; text-decoration-color: #7f7f7f\">            </span>\n",
       "<span style=\"color: #7fbfbf; text-decoration-color: #7fbfbf\">           </span>         <span style=\"color: #800080; text-decoration-color: #800080; font-weight: bold\">amples/gcc/</span><span style=\"color: #ff00ff; text-decoration-color: #ff00ff; font-weight: bold\">bd5cf80635632cac5165d9c6a8f247e01e0f8def1892d162a</span> <span style=\"color: #7f7f7f; text-decoration-color: #7f7f7f\">            </span>\n",
       "<span style=\"color: #7fbfbf; text-decoration-color: #7fbfbf\">           </span>         <span style=\"color: #ff00ff; text-decoration-color: #ff00ff; font-weight: bold\">91295e7da4d181913578.out</span><span style=\"color: #008080; text-decoration-color: #008080; font-weight: bold\"> </span><span style=\"color: #800080; text-decoration-color: #800080; font-weight: bold\">/Users/qnbhd/Development/gimeltune/e</span> <span style=\"color: #7f7f7f; text-decoration-color: #7f7f7f\">            </span>\n",
       "<span style=\"color: #7fbfbf; text-decoration-color: #7fbfbf\">           </span>         <span style=\"color: #800080; text-decoration-color: #800080; font-weight: bold\">xamples/gcc/raytracer/</span><span style=\"color: #ff00ff; text-decoration-color: #ff00ff; font-weight: bold\">raytracer.cpp</span><span style=\"color: #008080; text-decoration-color: #008080; font-weight: bold\">  -falign-functions  </span>     <span style=\"color: #7f7f7f; text-decoration-color: #7f7f7f\">            </span>\n",
       "<span style=\"color: #7fbfbf; text-decoration-color: #7fbfbf\">           </span>         <span style=\"color: #008080; text-decoration-color: #008080; font-weight: bold\">-falign-labels -fno-asynchronous-unwind-tables  </span>             <span style=\"color: #7f7f7f; text-decoration-color: #7f7f7f\">            </span>\n",
       "<span style=\"color: #7fbfbf; text-decoration-color: #7fbfbf\">           </span>         <span style=\"color: #008080; text-decoration-color: #008080; font-weight: bold\">-fno-branch-probabilities --param early-inlining-</span><span style=\"color: #808000; text-decoration-color: #808000; font-weight: bold\">insns</span><span style=\"color: #008080; text-decoration-color: #008080; font-weight: bold\">=</span><span style=\"color: #008080; text-decoration-color: #008080; font-weight: bold\">565</span><span style=\"color: #008080; text-decoration-color: #008080; font-weight: bold\"> </span>  <span style=\"color: #7f7f7f; text-decoration-color: #7f7f7f\">            </span>\n",
       "<span style=\"color: #7fbfbf; text-decoration-color: #7fbfbf\">           </span>         <span style=\"color: #008080; text-decoration-color: #008080; font-weight: bold\">--param gcse-cost-distance-</span><span style=\"color: #808000; text-decoration-color: #808000; font-weight: bold\">ratio</span><span style=\"color: #008080; text-decoration-color: #008080; font-weight: bold\">=</span><span style=\"color: #008080; text-decoration-color: #008080; font-weight: bold\">98</span><span style=\"color: #008080; text-decoration-color: #008080; font-weight: bold\"> --param </span>                 <span style=\"color: #7f7f7f; text-decoration-color: #7f7f7f\">            </span>\n",
       "<span style=\"color: #7fbfbf; text-decoration-color: #7fbfbf\">           </span>         <span style=\"color: #008080; text-decoration-color: #008080; font-weight: bold\">iv-max-considered-</span><span style=\"color: #808000; text-decoration-color: #808000; font-weight: bold\">uses</span><span style=\"color: #008080; text-decoration-color: #008080; font-weight: bold\">=</span><span style=\"color: #008080; text-decoration-color: #008080; font-weight: bold\">99</span><span style=\"color: #008080; text-decoration-color: #008080; font-weight: bold\"> </span><span style=\"color: #008080; text-decoration-color: #008080; font-weight: bold\">2</span><span style=\"color: #008080; text-decoration-color: #008080; font-weight: bold\">&gt;&amp;</span><span style=\"color: #008080; text-decoration-color: #008080; font-weight: bold\">1</span>                               <span style=\"color: #7f7f7f; text-decoration-color: #7f7f7f\">            </span>\n",
       "</pre>\n"
      ],
      "text/plain": [
       "\u001b[2;36m          \u001b[0m\u001b[2;36m \u001b[0m\u001b[32mDEBUG   \u001b[0m RUN COMMAND:                                                 \u001b[2mrunner.py\u001b[0m\u001b[2m:\u001b[0m\u001b[2m79\u001b[0m\n",
       "\u001b[2;36m           \u001b[0m         \u001b[1;36mgtime -f \u001b[0m\u001b[32m'%e'\u001b[0m\u001b[1;36m g++\u001b[0m\u001b[1;36m-11\u001b[0m\u001b[1;36m -o \u001b[0m\u001b[1;35m/Users/qnbhd/Development/gimeltune/ex\u001b[0m \u001b[2m            \u001b[0m\n",
       "\u001b[2;36m           \u001b[0m         \u001b[1;35mamples/gcc/\u001b[0m\u001b[1;95mbd5cf80635632cac5165d9c6a8f247e01e0f8def1892d162a\u001b[0m \u001b[2m            \u001b[0m\n",
       "\u001b[2;36m           \u001b[0m         \u001b[1;95m91295e7da4d181913578.out\u001b[0m\u001b[1;36m \u001b[0m\u001b[1;35m/Users/qnbhd/Development/gimeltune/e\u001b[0m \u001b[2m            \u001b[0m\n",
       "\u001b[2;36m           \u001b[0m         \u001b[1;35mxamples/gcc/raytracer/\u001b[0m\u001b[1;95mraytracer.cpp\u001b[0m\u001b[1;36m  -falign-functions  \u001b[0m     \u001b[2m            \u001b[0m\n",
       "\u001b[2;36m           \u001b[0m         \u001b[1;36m-falign-labels -fno-asynchronous-unwind-tables  \u001b[0m             \u001b[2m            \u001b[0m\n",
       "\u001b[2;36m           \u001b[0m         \u001b[1;36m-fno-branch-probabilities --param early-inlining-\u001b[0m\u001b[1;33minsns\u001b[0m\u001b[1;36m=\u001b[0m\u001b[1;36m565\u001b[0m\u001b[1;36m \u001b[0m  \u001b[2m            \u001b[0m\n",
       "\u001b[2;36m           \u001b[0m         \u001b[1;36m--param gcse-cost-distance-\u001b[0m\u001b[1;33mratio\u001b[0m\u001b[1;36m=\u001b[0m\u001b[1;36m98\u001b[0m\u001b[1;36m --param \u001b[0m                 \u001b[2m            \u001b[0m\n",
       "\u001b[2;36m           \u001b[0m         \u001b[1;36miv-max-considered-\u001b[0m\u001b[1;33muses\u001b[0m\u001b[1;36m=\u001b[0m\u001b[1;36m99\u001b[0m\u001b[1;36m \u001b[0m\u001b[1;36m2\u001b[0m\u001b[1;36m>&\u001b[0m\u001b[1;36m1\u001b[0m                               \u001b[2m            \u001b[0m\n"
      ]
     },
     "metadata": {},
     "output_type": "display_data"
    },
    {
     "data": {
      "text/html": [
       "<pre style=\"white-space:pre;overflow-x:auto;line-height:normal;font-family:Menlo,'DejaVu Sans Mono',consolas,'Courier New',monospace\"><span style=\"color: #7fbfbf; text-decoration-color: #7fbfbf\">[11:17:41] </span><span style=\"color: #000080; text-decoration-color: #000080\">INFO    </span> <span style=\"color: #808000; text-decoration-color: #808000; font-weight: bold\">OUT: </span><span style=\"color: #008080; text-decoration-color: #008080; font-weight: bold\">0.68</span>                                                    <span style=\"color: #7f7f7f; text-decoration-color: #7f7f7f\">runner.py:85</span>\n",
       "</pre>\n"
      ],
      "text/plain": [
       "\u001b[2;36m[11:17:41]\u001b[0m\u001b[2;36m \u001b[0m\u001b[34mINFO    \u001b[0m \u001b[1;33mOUT: \u001b[0m\u001b[1;36m0.68\u001b[0m                                                    \u001b[2mrunner.py\u001b[0m\u001b[2m:\u001b[0m\u001b[2m85\u001b[0m\n"
      ]
     },
     "metadata": {},
     "output_type": "display_data"
    },
    {
     "data": {
      "text/html": [
       "<pre style=\"white-space:pre;overflow-x:auto;line-height:normal;font-family:Menlo,'DejaVu Sans Mono',consolas,'Courier New',monospace\"><span style=\"color: #7fbfbf; text-decoration-color: #7fbfbf\">           </span><span style=\"color: #008000; text-decoration-color: #008000\">DEBUG   </span> RUN COMMAND:                                                 <span style=\"color: #7f7f7f; text-decoration-color: #7f7f7f\">runner.py:79</span>\n",
       "<span style=\"color: #7fbfbf; text-decoration-color: #7fbfbf\">           </span>         <span style=\"color: #008080; text-decoration-color: #008080; font-weight: bold\">wc -c </span><span style=\"color: #800080; text-decoration-color: #800080; font-weight: bold\">/Users/qnbhd/Development/gimeltune/examples/gcc/</span><span style=\"color: #ff00ff; text-decoration-color: #ff00ff; font-weight: bold\">bd5cf80</span> <span style=\"color: #7f7f7f; text-decoration-color: #7f7f7f\">            </span>\n",
       "<span style=\"color: #7fbfbf; text-decoration-color: #7fbfbf\">           </span>         <span style=\"color: #ff00ff; text-decoration-color: #ff00ff; font-weight: bold\">635632cac5165d9c6a8f247e01e0f8def1892d162a91295e7da4d1819135</span> <span style=\"color: #7f7f7f; text-decoration-color: #7f7f7f\">            </span>\n",
       "<span style=\"color: #7fbfbf; text-decoration-color: #7fbfbf\">           </span>         <span style=\"color: #ff00ff; text-decoration-color: #ff00ff; font-weight: bold\">78.out</span><span style=\"color: #008080; text-decoration-color: #008080; font-weight: bold\"> | awk </span><span style=\"color: #008000; text-decoration-color: #008000\">'{print $1}'</span>                                    <span style=\"color: #7f7f7f; text-decoration-color: #7f7f7f\">            </span>\n",
       "</pre>\n"
      ],
      "text/plain": [
       "\u001b[2;36m          \u001b[0m\u001b[2;36m \u001b[0m\u001b[32mDEBUG   \u001b[0m RUN COMMAND:                                                 \u001b[2mrunner.py\u001b[0m\u001b[2m:\u001b[0m\u001b[2m79\u001b[0m\n",
       "\u001b[2;36m           \u001b[0m         \u001b[1;36mwc -c \u001b[0m\u001b[1;35m/Users/qnbhd/Development/gimeltune/examples/gcc/\u001b[0m\u001b[1;95mbd5cf80\u001b[0m \u001b[2m            \u001b[0m\n",
       "\u001b[2;36m           \u001b[0m         \u001b[1;95m635632cac5165d9c6a8f247e01e0f8def1892d162a91295e7da4d1819135\u001b[0m \u001b[2m            \u001b[0m\n",
       "\u001b[2;36m           \u001b[0m         \u001b[1;95m78.out\u001b[0m\u001b[1;36m | awk \u001b[0m\u001b[32m'\u001b[0m\u001b[32m{\u001b[0m\u001b[32mprint $1\u001b[0m\u001b[32m}\u001b[0m\u001b[32m'\u001b[0m                                    \u001b[2m            \u001b[0m\n"
      ]
     },
     "metadata": {},
     "output_type": "display_data"
    },
    {
     "data": {
      "text/html": [
       "<pre style=\"white-space:pre;overflow-x:auto;line-height:normal;font-family:Menlo,'DejaVu Sans Mono',consolas,'Courier New',monospace\"><span style=\"color: #7fbfbf; text-decoration-color: #7fbfbf\">           </span><span style=\"color: #000080; text-decoration-color: #000080\">INFO    </span> <span style=\"color: #808000; text-decoration-color: #808000; font-weight: bold\">OUT: </span><span style=\"color: #008080; text-decoration-color: #008080; font-weight: bold\">80672</span>                                                   <span style=\"color: #7f7f7f; text-decoration-color: #7f7f7f\">runner.py:85</span>\n",
       "</pre>\n"
      ],
      "text/plain": [
       "\u001b[2;36m          \u001b[0m\u001b[2;36m \u001b[0m\u001b[34mINFO    \u001b[0m \u001b[1;33mOUT: \u001b[0m\u001b[1;36m80672\u001b[0m                                                   \u001b[2mrunner.py\u001b[0m\u001b[2m:\u001b[0m\u001b[2m85\u001b[0m\n"
      ]
     },
     "metadata": {},
     "output_type": "display_data"
    },
    {
     "data": {
      "text/html": [
       "<pre style=\"white-space:pre;overflow-x:auto;line-height:normal;font-family:Menlo,'DejaVu Sans Mono',consolas,'Courier New',monospace\"><span style=\"color: #7fbfbf; text-decoration-color: #7fbfbf\">           </span><span style=\"color: #008000; text-decoration-color: #008000\">DEBUG   </span> RUN COMMAND:                                                 <span style=\"color: #7f7f7f; text-decoration-color: #7f7f7f\">runner.py:79</span>\n",
       "<span style=\"color: #7fbfbf; text-decoration-color: #7fbfbf\">           </span>         <span style=\"color: #008080; text-decoration-color: #008080; font-weight: bold\">gtime -f </span><span style=\"color: #008000; text-decoration-color: #008000\">'%e'</span><span style=\"color: #008080; text-decoration-color: #008080; font-weight: bold\"> </span><span style=\"color: #800080; text-decoration-color: #800080; font-weight: bold\">/Users/qnbhd/Development/gimeltune/examples/gcc</span> <span style=\"color: #7f7f7f; text-decoration-color: #7f7f7f\">            </span>\n",
       "<span style=\"color: #7fbfbf; text-decoration-color: #7fbfbf\">           </span>         <span style=\"color: #800080; text-decoration-color: #800080; font-weight: bold\">/</span><span style=\"color: #ff00ff; text-decoration-color: #ff00ff; font-weight: bold\">bd5cf80635632cac5165d9c6a8f247e01e0f8def1892d162a91295e7da4</span> <span style=\"color: #7f7f7f; text-decoration-color: #7f7f7f\">            </span>\n",
       "<span style=\"color: #7fbfbf; text-decoration-color: #7fbfbf\">           </span>         <span style=\"color: #ff00ff; text-decoration-color: #ff00ff; font-weight: bold\">d181913578.out</span><span style=\"color: #008080; text-decoration-color: #008080; font-weight: bold\"> </span><span style=\"color: #008080; text-decoration-color: #008080; font-weight: bold\">2</span><span style=\"color: #008080; text-decoration-color: #008080; font-weight: bold\">&gt;&amp;</span><span style=\"color: #008080; text-decoration-color: #008080; font-weight: bold\">1</span>                                          <span style=\"color: #7f7f7f; text-decoration-color: #7f7f7f\">            </span>\n",
       "</pre>\n"
      ],
      "text/plain": [
       "\u001b[2;36m          \u001b[0m\u001b[2;36m \u001b[0m\u001b[32mDEBUG   \u001b[0m RUN COMMAND:                                                 \u001b[2mrunner.py\u001b[0m\u001b[2m:\u001b[0m\u001b[2m79\u001b[0m\n",
       "\u001b[2;36m           \u001b[0m         \u001b[1;36mgtime -f \u001b[0m\u001b[32m'%e'\u001b[0m\u001b[1;36m \u001b[0m\u001b[1;35m/Users/qnbhd/Development/gimeltune/examples/gcc\u001b[0m \u001b[2m            \u001b[0m\n",
       "\u001b[2;36m           \u001b[0m         \u001b[1;35m/\u001b[0m\u001b[1;95mbd5cf80635632cac5165d9c6a8f247e01e0f8def1892d162a91295e7da4\u001b[0m \u001b[2m            \u001b[0m\n",
       "\u001b[2;36m           \u001b[0m         \u001b[1;95md181913578.out\u001b[0m\u001b[1;36m \u001b[0m\u001b[1;36m2\u001b[0m\u001b[1;36m>&\u001b[0m\u001b[1;36m1\u001b[0m                                          \u001b[2m            \u001b[0m\n"
      ]
     },
     "metadata": {},
     "output_type": "display_data"
    },
    {
     "data": {
      "text/html": [
       "<pre style=\"white-space:pre;overflow-x:auto;line-height:normal;font-family:Menlo,'DejaVu Sans Mono',consolas,'Courier New',monospace\"><span style=\"color: #7fbfbf; text-decoration-color: #7fbfbf\">[11:17:42] </span><span style=\"color: #000080; text-decoration-color: #000080\">INFO    </span> <span style=\"color: #808000; text-decoration-color: #808000; font-weight: bold\">OUT: </span><span style=\"color: #008080; text-decoration-color: #008080; font-weight: bold\">1.01</span>                                                    <span style=\"color: #7f7f7f; text-decoration-color: #7f7f7f\">runner.py:85</span>\n",
       "</pre>\n"
      ],
      "text/plain": [
       "\u001b[2;36m[11:17:42]\u001b[0m\u001b[2;36m \u001b[0m\u001b[34mINFO    \u001b[0m \u001b[1;33mOUT: \u001b[0m\u001b[1;36m1.01\u001b[0m                                                    \u001b[2mrunner.py\u001b[0m\u001b[2m:\u001b[0m\u001b[2m85\u001b[0m\n"
      ]
     },
     "metadata": {},
     "output_type": "display_data"
    },
    {
     "data": {
      "text/html": [
       "<pre style=\"white-space:pre;overflow-x:auto;line-height:normal;font-family:Menlo,'DejaVu Sans Mono',consolas,'Courier New',monospace\"><span style=\"color: #7fbfbf; text-decoration-color: #7fbfbf\">           </span><span style=\"color: #008000; text-decoration-color: #008000\">DEBUG   </span> RUN COMMAND:                                                 <span style=\"color: #7f7f7f; text-decoration-color: #7f7f7f\">runner.py:79</span>\n",
       "<span style=\"color: #7fbfbf; text-decoration-color: #7fbfbf\">           </span>         <span style=\"color: #008080; text-decoration-color: #008080; font-weight: bold\">gtime -f </span><span style=\"color: #008000; text-decoration-color: #008000\">'%e'</span><span style=\"color: #008080; text-decoration-color: #008080; font-weight: bold\"> </span><span style=\"color: #800080; text-decoration-color: #800080; font-weight: bold\">/Users/qnbhd/Development/gimeltune/examples/gcc</span> <span style=\"color: #7f7f7f; text-decoration-color: #7f7f7f\">            </span>\n",
       "<span style=\"color: #7fbfbf; text-decoration-color: #7fbfbf\">           </span>         <span style=\"color: #800080; text-decoration-color: #800080; font-weight: bold\">/</span><span style=\"color: #ff00ff; text-decoration-color: #ff00ff; font-weight: bold\">bd5cf80635632cac5165d9c6a8f247e01e0f8def1892d162a91295e7da4</span> <span style=\"color: #7f7f7f; text-decoration-color: #7f7f7f\">            </span>\n",
       "<span style=\"color: #7fbfbf; text-decoration-color: #7fbfbf\">           </span>         <span style=\"color: #ff00ff; text-decoration-color: #ff00ff; font-weight: bold\">d181913578.out</span><span style=\"color: #008080; text-decoration-color: #008080; font-weight: bold\"> </span><span style=\"color: #008080; text-decoration-color: #008080; font-weight: bold\">2</span><span style=\"color: #008080; text-decoration-color: #008080; font-weight: bold\">&gt;&amp;</span><span style=\"color: #008080; text-decoration-color: #008080; font-weight: bold\">1</span>                                          <span style=\"color: #7f7f7f; text-decoration-color: #7f7f7f\">            </span>\n",
       "</pre>\n"
      ],
      "text/plain": [
       "\u001b[2;36m          \u001b[0m\u001b[2;36m \u001b[0m\u001b[32mDEBUG   \u001b[0m RUN COMMAND:                                                 \u001b[2mrunner.py\u001b[0m\u001b[2m:\u001b[0m\u001b[2m79\u001b[0m\n",
       "\u001b[2;36m           \u001b[0m         \u001b[1;36mgtime -f \u001b[0m\u001b[32m'%e'\u001b[0m\u001b[1;36m \u001b[0m\u001b[1;35m/Users/qnbhd/Development/gimeltune/examples/gcc\u001b[0m \u001b[2m            \u001b[0m\n",
       "\u001b[2;36m           \u001b[0m         \u001b[1;35m/\u001b[0m\u001b[1;95mbd5cf80635632cac5165d9c6a8f247e01e0f8def1892d162a91295e7da4\u001b[0m \u001b[2m            \u001b[0m\n",
       "\u001b[2;36m           \u001b[0m         \u001b[1;95md181913578.out\u001b[0m\u001b[1;36m \u001b[0m\u001b[1;36m2\u001b[0m\u001b[1;36m>&\u001b[0m\u001b[1;36m1\u001b[0m                                          \u001b[2m            \u001b[0m\n"
      ]
     },
     "metadata": {},
     "output_type": "display_data"
    },
    {
     "data": {
      "text/html": [
       "<pre style=\"white-space:pre;overflow-x:auto;line-height:normal;font-family:Menlo,'DejaVu Sans Mono',consolas,'Courier New',monospace\"><span style=\"color: #7fbfbf; text-decoration-color: #7fbfbf\">[11:17:43] </span><span style=\"color: #000080; text-decoration-color: #000080\">INFO    </span> <span style=\"color: #808000; text-decoration-color: #808000; font-weight: bold\">OUT: </span><span style=\"color: #008080; text-decoration-color: #008080; font-weight: bold\">0.95</span>                                                    <span style=\"color: #7f7f7f; text-decoration-color: #7f7f7f\">runner.py:85</span>\n",
       "</pre>\n"
      ],
      "text/plain": [
       "\u001b[2;36m[11:17:43]\u001b[0m\u001b[2;36m \u001b[0m\u001b[34mINFO    \u001b[0m \u001b[1;33mOUT: \u001b[0m\u001b[1;36m0.95\u001b[0m                                                    \u001b[2mrunner.py\u001b[0m\u001b[2m:\u001b[0m\u001b[2m85\u001b[0m\n"
      ]
     },
     "metadata": {},
     "output_type": "display_data"
    },
    {
     "data": {
      "text/html": [
       "<pre style=\"white-space:pre;overflow-x:auto;line-height:normal;font-family:Menlo,'DejaVu Sans Mono',consolas,'Courier New',monospace\"><span style=\"color: #7fbfbf; text-decoration-color: #7fbfbf\">           </span><span style=\"color: #008000; text-decoration-color: #008000\">DEBUG   </span> RUN COMMAND:                                                 <span style=\"color: #7f7f7f; text-decoration-color: #7f7f7f\">runner.py:79</span>\n",
       "<span style=\"color: #7fbfbf; text-decoration-color: #7fbfbf\">           </span>         <span style=\"color: #008080; text-decoration-color: #008080; font-weight: bold\">gtime -f </span><span style=\"color: #008000; text-decoration-color: #008000\">'%e'</span><span style=\"color: #008080; text-decoration-color: #008080; font-weight: bold\"> </span><span style=\"color: #800080; text-decoration-color: #800080; font-weight: bold\">/Users/qnbhd/Development/gimeltune/examples/gcc</span> <span style=\"color: #7f7f7f; text-decoration-color: #7f7f7f\">            </span>\n",
       "<span style=\"color: #7fbfbf; text-decoration-color: #7fbfbf\">           </span>         <span style=\"color: #800080; text-decoration-color: #800080; font-weight: bold\">/</span><span style=\"color: #ff00ff; text-decoration-color: #ff00ff; font-weight: bold\">bd5cf80635632cac5165d9c6a8f247e01e0f8def1892d162a91295e7da4</span> <span style=\"color: #7f7f7f; text-decoration-color: #7f7f7f\">            </span>\n",
       "<span style=\"color: #7fbfbf; text-decoration-color: #7fbfbf\">           </span>         <span style=\"color: #ff00ff; text-decoration-color: #ff00ff; font-weight: bold\">d181913578.out</span><span style=\"color: #008080; text-decoration-color: #008080; font-weight: bold\"> </span><span style=\"color: #008080; text-decoration-color: #008080; font-weight: bold\">2</span><span style=\"color: #008080; text-decoration-color: #008080; font-weight: bold\">&gt;&amp;</span><span style=\"color: #008080; text-decoration-color: #008080; font-weight: bold\">1</span>                                          <span style=\"color: #7f7f7f; text-decoration-color: #7f7f7f\">            </span>\n",
       "</pre>\n"
      ],
      "text/plain": [
       "\u001b[2;36m          \u001b[0m\u001b[2;36m \u001b[0m\u001b[32mDEBUG   \u001b[0m RUN COMMAND:                                                 \u001b[2mrunner.py\u001b[0m\u001b[2m:\u001b[0m\u001b[2m79\u001b[0m\n",
       "\u001b[2;36m           \u001b[0m         \u001b[1;36mgtime -f \u001b[0m\u001b[32m'%e'\u001b[0m\u001b[1;36m \u001b[0m\u001b[1;35m/Users/qnbhd/Development/gimeltune/examples/gcc\u001b[0m \u001b[2m            \u001b[0m\n",
       "\u001b[2;36m           \u001b[0m         \u001b[1;35m/\u001b[0m\u001b[1;95mbd5cf80635632cac5165d9c6a8f247e01e0f8def1892d162a91295e7da4\u001b[0m \u001b[2m            \u001b[0m\n",
       "\u001b[2;36m           \u001b[0m         \u001b[1;95md181913578.out\u001b[0m\u001b[1;36m \u001b[0m\u001b[1;36m2\u001b[0m\u001b[1;36m>&\u001b[0m\u001b[1;36m1\u001b[0m                                          \u001b[2m            \u001b[0m\n"
      ]
     },
     "metadata": {},
     "output_type": "display_data"
    },
    {
     "data": {
      "text/html": [
       "<pre style=\"white-space:pre;overflow-x:auto;line-height:normal;font-family:Menlo,'DejaVu Sans Mono',consolas,'Courier New',monospace\"><span style=\"color: #7fbfbf; text-decoration-color: #7fbfbf\">[11:17:44] </span><span style=\"color: #000080; text-decoration-color: #000080\">INFO    </span> <span style=\"color: #808000; text-decoration-color: #808000; font-weight: bold\">OUT: </span><span style=\"color: #008080; text-decoration-color: #008080; font-weight: bold\">0.95</span>                                                    <span style=\"color: #7f7f7f; text-decoration-color: #7f7f7f\">runner.py:85</span>\n",
       "</pre>\n"
      ],
      "text/plain": [
       "\u001b[2;36m[11:17:44]\u001b[0m\u001b[2;36m \u001b[0m\u001b[34mINFO    \u001b[0m \u001b[1;33mOUT: \u001b[0m\u001b[1;36m0.95\u001b[0m                                                    \u001b[2mrunner.py\u001b[0m\u001b[2m:\u001b[0m\u001b[2m85\u001b[0m\n"
      ]
     },
     "metadata": {},
     "output_type": "display_data"
    },
    {
     "data": {
      "text/html": [
       "<pre style=\"white-space:pre;overflow-x:auto;line-height:normal;font-family:Menlo,'DejaVu Sans Mono',consolas,'Courier New',monospace\"><span style=\"color: #7fbfbf; text-decoration-color: #7fbfbf\">           </span><span style=\"color: #008000; text-decoration-color: #008000\">DEBUG   </span> RUN COMMAND:                                                 <span style=\"color: #7f7f7f; text-decoration-color: #7f7f7f\">runner.py:79</span>\n",
       "<span style=\"color: #7fbfbf; text-decoration-color: #7fbfbf\">           </span>         <span style=\"color: #008080; text-decoration-color: #008080; font-weight: bold\">gtime -f </span><span style=\"color: #008000; text-decoration-color: #008000\">'%e'</span><span style=\"color: #008080; text-decoration-color: #008080; font-weight: bold\"> </span><span style=\"color: #800080; text-decoration-color: #800080; font-weight: bold\">/Users/qnbhd/Development/gimeltune/examples/gcc</span> <span style=\"color: #7f7f7f; text-decoration-color: #7f7f7f\">            </span>\n",
       "<span style=\"color: #7fbfbf; text-decoration-color: #7fbfbf\">           </span>         <span style=\"color: #800080; text-decoration-color: #800080; font-weight: bold\">/</span><span style=\"color: #ff00ff; text-decoration-color: #ff00ff; font-weight: bold\">bd5cf80635632cac5165d9c6a8f247e01e0f8def1892d162a91295e7da4</span> <span style=\"color: #7f7f7f; text-decoration-color: #7f7f7f\">            </span>\n",
       "<span style=\"color: #7fbfbf; text-decoration-color: #7fbfbf\">           </span>         <span style=\"color: #ff00ff; text-decoration-color: #ff00ff; font-weight: bold\">d181913578.out</span><span style=\"color: #008080; text-decoration-color: #008080; font-weight: bold\"> </span><span style=\"color: #008080; text-decoration-color: #008080; font-weight: bold\">2</span><span style=\"color: #008080; text-decoration-color: #008080; font-weight: bold\">&gt;&amp;</span><span style=\"color: #008080; text-decoration-color: #008080; font-weight: bold\">1</span>                                          <span style=\"color: #7f7f7f; text-decoration-color: #7f7f7f\">            </span>\n",
       "</pre>\n"
      ],
      "text/plain": [
       "\u001b[2;36m          \u001b[0m\u001b[2;36m \u001b[0m\u001b[32mDEBUG   \u001b[0m RUN COMMAND:                                                 \u001b[2mrunner.py\u001b[0m\u001b[2m:\u001b[0m\u001b[2m79\u001b[0m\n",
       "\u001b[2;36m           \u001b[0m         \u001b[1;36mgtime -f \u001b[0m\u001b[32m'%e'\u001b[0m\u001b[1;36m \u001b[0m\u001b[1;35m/Users/qnbhd/Development/gimeltune/examples/gcc\u001b[0m \u001b[2m            \u001b[0m\n",
       "\u001b[2;36m           \u001b[0m         \u001b[1;35m/\u001b[0m\u001b[1;95mbd5cf80635632cac5165d9c6a8f247e01e0f8def1892d162a91295e7da4\u001b[0m \u001b[2m            \u001b[0m\n",
       "\u001b[2;36m           \u001b[0m         \u001b[1;95md181913578.out\u001b[0m\u001b[1;36m \u001b[0m\u001b[1;36m2\u001b[0m\u001b[1;36m>&\u001b[0m\u001b[1;36m1\u001b[0m                                          \u001b[2m            \u001b[0m\n"
      ]
     },
     "metadata": {},
     "output_type": "display_data"
    },
    {
     "data": {
      "text/html": [
       "<pre style=\"white-space:pre;overflow-x:auto;line-height:normal;font-family:Menlo,'DejaVu Sans Mono',consolas,'Courier New',monospace\"><span style=\"color: #7fbfbf; text-decoration-color: #7fbfbf\">[11:17:45] </span><span style=\"color: #000080; text-decoration-color: #000080\">INFO    </span> <span style=\"color: #808000; text-decoration-color: #808000; font-weight: bold\">OUT: </span><span style=\"color: #008080; text-decoration-color: #008080; font-weight: bold\">0.96</span>                                                    <span style=\"color: #7f7f7f; text-decoration-color: #7f7f7f\">runner.py:85</span>\n",
       "</pre>\n"
      ],
      "text/plain": [
       "\u001b[2;36m[11:17:45]\u001b[0m\u001b[2;36m \u001b[0m\u001b[34mINFO    \u001b[0m \u001b[1;33mOUT: \u001b[0m\u001b[1;36m0.96\u001b[0m                                                    \u001b[2mrunner.py\u001b[0m\u001b[2m:\u001b[0m\u001b[2m85\u001b[0m\n"
      ]
     },
     "metadata": {},
     "output_type": "display_data"
    },
    {
     "data": {
      "text/html": [
       "<pre style=\"white-space:pre;overflow-x:auto;line-height:normal;font-family:Menlo,'DejaVu Sans Mono',consolas,'Courier New',monospace\"><span style=\"color: #7fbfbf; text-decoration-color: #7fbfbf\">           </span><span style=\"color: #008000; text-decoration-color: #008000\">DEBUG   </span> RUN COMMAND:                                                 <span style=\"color: #7f7f7f; text-decoration-color: #7f7f7f\">runner.py:79</span>\n",
       "<span style=\"color: #7fbfbf; text-decoration-color: #7fbfbf\">           </span>         <span style=\"color: #008080; text-decoration-color: #008080; font-weight: bold\">gtime -f </span><span style=\"color: #008000; text-decoration-color: #008000\">'%e'</span><span style=\"color: #008080; text-decoration-color: #008080; font-weight: bold\"> </span><span style=\"color: #800080; text-decoration-color: #800080; font-weight: bold\">/Users/qnbhd/Development/gimeltune/examples/gcc</span> <span style=\"color: #7f7f7f; text-decoration-color: #7f7f7f\">            </span>\n",
       "<span style=\"color: #7fbfbf; text-decoration-color: #7fbfbf\">           </span>         <span style=\"color: #800080; text-decoration-color: #800080; font-weight: bold\">/</span><span style=\"color: #ff00ff; text-decoration-color: #ff00ff; font-weight: bold\">bd5cf80635632cac5165d9c6a8f247e01e0f8def1892d162a91295e7da4</span> <span style=\"color: #7f7f7f; text-decoration-color: #7f7f7f\">            </span>\n",
       "<span style=\"color: #7fbfbf; text-decoration-color: #7fbfbf\">           </span>         <span style=\"color: #ff00ff; text-decoration-color: #ff00ff; font-weight: bold\">d181913578.out</span><span style=\"color: #008080; text-decoration-color: #008080; font-weight: bold\"> </span><span style=\"color: #008080; text-decoration-color: #008080; font-weight: bold\">2</span><span style=\"color: #008080; text-decoration-color: #008080; font-weight: bold\">&gt;&amp;</span><span style=\"color: #008080; text-decoration-color: #008080; font-weight: bold\">1</span>                                          <span style=\"color: #7f7f7f; text-decoration-color: #7f7f7f\">            </span>\n",
       "</pre>\n"
      ],
      "text/plain": [
       "\u001b[2;36m          \u001b[0m\u001b[2;36m \u001b[0m\u001b[32mDEBUG   \u001b[0m RUN COMMAND:                                                 \u001b[2mrunner.py\u001b[0m\u001b[2m:\u001b[0m\u001b[2m79\u001b[0m\n",
       "\u001b[2;36m           \u001b[0m         \u001b[1;36mgtime -f \u001b[0m\u001b[32m'%e'\u001b[0m\u001b[1;36m \u001b[0m\u001b[1;35m/Users/qnbhd/Development/gimeltune/examples/gcc\u001b[0m \u001b[2m            \u001b[0m\n",
       "\u001b[2;36m           \u001b[0m         \u001b[1;35m/\u001b[0m\u001b[1;95mbd5cf80635632cac5165d9c6a8f247e01e0f8def1892d162a91295e7da4\u001b[0m \u001b[2m            \u001b[0m\n",
       "\u001b[2;36m           \u001b[0m         \u001b[1;95md181913578.out\u001b[0m\u001b[1;36m \u001b[0m\u001b[1;36m2\u001b[0m\u001b[1;36m>&\u001b[0m\u001b[1;36m1\u001b[0m                                          \u001b[2m            \u001b[0m\n"
      ]
     },
     "metadata": {},
     "output_type": "display_data"
    },
    {
     "data": {
      "text/html": [
       "<pre style=\"white-space:pre;overflow-x:auto;line-height:normal;font-family:Menlo,'DejaVu Sans Mono',consolas,'Courier New',monospace\"><span style=\"color: #7fbfbf; text-decoration-color: #7fbfbf\">[11:17:46] </span><span style=\"color: #000080; text-decoration-color: #000080\">INFO    </span> <span style=\"color: #808000; text-decoration-color: #808000; font-weight: bold\">OUT: </span><span style=\"color: #008080; text-decoration-color: #008080; font-weight: bold\">0.96</span>                                                    <span style=\"color: #7f7f7f; text-decoration-color: #7f7f7f\">runner.py:85</span>\n",
       "</pre>\n"
      ],
      "text/plain": [
       "\u001b[2;36m[11:17:46]\u001b[0m\u001b[2;36m \u001b[0m\u001b[34mINFO    \u001b[0m \u001b[1;33mOUT: \u001b[0m\u001b[1;36m0.96\u001b[0m                                                    \u001b[2mrunner.py\u001b[0m\u001b[2m:\u001b[0m\u001b[2m85\u001b[0m\n"
      ]
     },
     "metadata": {},
     "output_type": "display_data"
    },
    {
     "data": {
      "text/html": [
       "<pre style=\"white-space:pre;overflow-x:auto;line-height:normal;font-family:Menlo,'DejaVu Sans Mono',consolas,'Courier New',monospace\"><span style=\"color: #7fbfbf; text-decoration-color: #7fbfbf\">           </span><span style=\"color: #008000; text-decoration-color: #008000\">DEBUG   </span> RUN COMMAND:                                                 <span style=\"color: #7f7f7f; text-decoration-color: #7f7f7f\">runner.py:79</span>\n",
       "<span style=\"color: #7fbfbf; text-decoration-color: #7fbfbf\">           </span>         <span style=\"color: #008080; text-decoration-color: #008080; font-weight: bold\">rm </span><span style=\"color: #800080; text-decoration-color: #800080; font-weight: bold\">/Users/qnbhd/Development/gimeltune/examples/gcc/</span><span style=\"color: #ff00ff; text-decoration-color: #ff00ff; font-weight: bold\">bd5cf80635</span> <span style=\"color: #7f7f7f; text-decoration-color: #7f7f7f\">            </span>\n",
       "<span style=\"color: #7fbfbf; text-decoration-color: #7fbfbf\">           </span>         <span style=\"color: #ff00ff; text-decoration-color: #ff00ff; font-weight: bold\">632cac5165d9c6a8f247e01e0f8def1892d162a91295e7da4d181913578.</span> <span style=\"color: #7f7f7f; text-decoration-color: #7f7f7f\">            </span>\n",
       "<span style=\"color: #7fbfbf; text-decoration-color: #7fbfbf\">           </span>         <span style=\"color: #ff00ff; text-decoration-color: #ff00ff; font-weight: bold\">out</span>                                                          <span style=\"color: #7f7f7f; text-decoration-color: #7f7f7f\">            </span>\n",
       "</pre>\n"
      ],
      "text/plain": [
       "\u001b[2;36m          \u001b[0m\u001b[2;36m \u001b[0m\u001b[32mDEBUG   \u001b[0m RUN COMMAND:                                                 \u001b[2mrunner.py\u001b[0m\u001b[2m:\u001b[0m\u001b[2m79\u001b[0m\n",
       "\u001b[2;36m           \u001b[0m         \u001b[1;36mrm \u001b[0m\u001b[1;35m/Users/qnbhd/Development/gimeltune/examples/gcc/\u001b[0m\u001b[1;95mbd5cf80635\u001b[0m \u001b[2m            \u001b[0m\n",
       "\u001b[2;36m           \u001b[0m         \u001b[1;95m632cac5165d9c6a8f247e01e0f8def1892d162a91295e7da4d181913578.\u001b[0m \u001b[2m            \u001b[0m\n",
       "\u001b[2;36m           \u001b[0m         \u001b[1;95mout\u001b[0m                                                          \u001b[2m            \u001b[0m\n"
      ]
     },
     "metadata": {},
     "output_type": "display_data"
    }
   ],
   "source": [
    "job = run_gcc()"
   ]
  },
  {
   "cell_type": "code",
   "execution_count": 3,
   "id": "b09ee31d",
   "metadata": {},
   "outputs": [],
   "source": [
    "df = job.dataframe"
   ]
  },
  {
   "cell_type": "code",
   "execution_count": 4,
   "id": "ad6d6f79",
   "metadata": {},
   "outputs": [
    {
     "data": {
      "text/html": [
       "<div>\n",
       "<style scoped>\n",
       "    .dataframe tbody tr th:only-of-type {\n",
       "        vertical-align: middle;\n",
       "    }\n",
       "\n",
       "    .dataframe tbody tr th {\n",
       "        vertical-align: top;\n",
       "    }\n",
       "\n",
       "    .dataframe thead th {\n",
       "        text-align: right;\n",
       "    }\n",
       "</style>\n",
       "<table border=\"1\" class=\"dataframe\">\n",
       "  <thead>\n",
       "    <tr style=\"text-align: right;\">\n",
       "      <th></th>\n",
       "      <th>id</th>\n",
       "      <th>job_id</th>\n",
       "      <th>state</th>\n",
       "      <th>hash</th>\n",
       "      <th>objective_result</th>\n",
       "      <th>requestor</th>\n",
       "      <th>create_timestamp</th>\n",
       "      <th>finish_timestamp</th>\n",
       "      <th>-O</th>\n",
       "      <th>align-functions</th>\n",
       "      <th>align-jumps</th>\n",
       "      <th>align-labels</th>\n",
       "      <th>asynchronous-unwind-tables</th>\n",
       "      <th>branch-count-reg</th>\n",
       "      <th>branch-probabilities</th>\n",
       "      <th>early-inlining-insns</th>\n",
       "      <th>gcse-cost-distance-ratio</th>\n",
       "      <th>iv-max-considered-uses</th>\n",
       "    </tr>\n",
       "  </thead>\n",
       "  <tbody>\n",
       "    <tr>\n",
       "      <th>0</th>\n",
       "      <td>1</td>\n",
       "      <td>1</td>\n",
       "      <td>ExperimentState.ERROR</td>\n",
       "      <td>a6599406463238e0f4ae6f81b497826ba7d482f287f495...</td>\n",
       "      <td>1.000000e+10</td>\n",
       "      <td>SkoptBayesianAlgorithm</td>\n",
       "      <td>2022-02-24 11:16:53.005715</td>\n",
       "      <td>2022-02-24 11:16:55.894784</td>\n",
       "      <td>None</td>\n",
       "      <td>-falign-functions</td>\n",
       "      <td>-falign-jumps</td>\n",
       "      <td>-fno-align-labels</td>\n",
       "      <td>-fno-asynchronous-unwind-tables</td>\n",
       "      <td>-fbranch-count-reg</td>\n",
       "      <td>-fbranch-probabilities</td>\n",
       "      <td>950</td>\n",
       "      <td>23</td>\n",
       "      <td>674</td>\n",
       "    </tr>\n",
       "    <tr>\n",
       "      <th>1</th>\n",
       "      <td>2</td>\n",
       "      <td>1</td>\n",
       "      <td>ExperimentState.OK</td>\n",
       "      <td>e204178d17444a43b6cf3ae8286bfd5b628e43a32ca54b...</td>\n",
       "      <td>1.220000e-01</td>\n",
       "      <td>SkoptBayesianAlgorithm</td>\n",
       "      <td>2022-02-24 11:16:53.006942</td>\n",
       "      <td>2022-02-24 11:16:55.906690</td>\n",
       "      <td>-O2</td>\n",
       "      <td>None</td>\n",
       "      <td>-fno-align-jumps</td>\n",
       "      <td>None</td>\n",
       "      <td>-fasynchronous-unwind-tables</td>\n",
       "      <td>-fno-branch-count-reg</td>\n",
       "      <td>None</td>\n",
       "      <td>668</td>\n",
       "      <td>45</td>\n",
       "      <td>29</td>\n",
       "    </tr>\n",
       "    <tr>\n",
       "      <th>2</th>\n",
       "      <td>3</td>\n",
       "      <td>1</td>\n",
       "      <td>ExperimentState.OK</td>\n",
       "      <td>ebf62ffa99ee30b542f0ed6066527a94d63822d602f19c...</td>\n",
       "      <td>1.180000e-01</td>\n",
       "      <td>SkoptBayesianAlgorithm</td>\n",
       "      <td>2022-02-24 11:16:55.908465</td>\n",
       "      <td>2022-02-24 11:16:59.344486</td>\n",
       "      <td>-O3</td>\n",
       "      <td>None</td>\n",
       "      <td>-fno-align-jumps</td>\n",
       "      <td>-falign-labels</td>\n",
       "      <td>-fasynchronous-unwind-tables</td>\n",
       "      <td>-fbranch-count-reg</td>\n",
       "      <td>-fno-branch-probabilities</td>\n",
       "      <td>518</td>\n",
       "      <td>12</td>\n",
       "      <td>891</td>\n",
       "    </tr>\n",
       "    <tr>\n",
       "      <th>3</th>\n",
       "      <td>4</td>\n",
       "      <td>1</td>\n",
       "      <td>ExperimentState.OK</td>\n",
       "      <td>d1465923bff547d737f6089057a910b596500704272059...</td>\n",
       "      <td>1.420000e-01</td>\n",
       "      <td>SkoptBayesianAlgorithm</td>\n",
       "      <td>2022-02-24 11:16:55.909550</td>\n",
       "      <td>2022-02-24 11:16:59.345929</td>\n",
       "      <td>-O1</td>\n",
       "      <td>None</td>\n",
       "      <td>-fno-align-jumps</td>\n",
       "      <td>None</td>\n",
       "      <td>None</td>\n",
       "      <td>-fbranch-count-reg</td>\n",
       "      <td>None</td>\n",
       "      <td>256</td>\n",
       "      <td>0</td>\n",
       "      <td>580</td>\n",
       "    </tr>\n",
       "    <tr>\n",
       "      <th>4</th>\n",
       "      <td>5</td>\n",
       "      <td>1</td>\n",
       "      <td>ExperimentState.OK</td>\n",
       "      <td>ebc5adff84b4f3daa52a9fdd4c038cdcab48f546ae6451...</td>\n",
       "      <td>1.320000e-01</td>\n",
       "      <td>SkoptBayesianAlgorithm</td>\n",
       "      <td>2022-02-24 11:16:59.347444</td>\n",
       "      <td>2022-02-24 11:17:02.930651</td>\n",
       "      <td>-O2</td>\n",
       "      <td>-fno-align-functions</td>\n",
       "      <td>-fno-align-jumps</td>\n",
       "      <td>-fno-align-labels</td>\n",
       "      <td>-fasynchronous-unwind-tables</td>\n",
       "      <td>-fbranch-count-reg</td>\n",
       "      <td>-fno-branch-probabilities</td>\n",
       "      <td>258</td>\n",
       "      <td>94</td>\n",
       "      <td>985</td>\n",
       "    </tr>\n",
       "    <tr>\n",
       "      <th>5</th>\n",
       "      <td>6</td>\n",
       "      <td>1</td>\n",
       "      <td>ExperimentState.OK</td>\n",
       "      <td>d5826777e3cf20c162af10761dadf3086fa9ae157beb91...</td>\n",
       "      <td>1.660000e-01</td>\n",
       "      <td>SkoptBayesianAlgorithm</td>\n",
       "      <td>2022-02-24 11:16:59.348417</td>\n",
       "      <td>2022-02-24 11:17:02.932026</td>\n",
       "      <td>-O1</td>\n",
       "      <td>-falign-functions</td>\n",
       "      <td>None</td>\n",
       "      <td>-fno-align-labels</td>\n",
       "      <td>None</td>\n",
       "      <td>-fno-branch-count-reg</td>\n",
       "      <td>None</td>\n",
       "      <td>930</td>\n",
       "      <td>7</td>\n",
       "      <td>896</td>\n",
       "    </tr>\n",
       "    <tr>\n",
       "      <th>6</th>\n",
       "      <td>7</td>\n",
       "      <td>1</td>\n",
       "      <td>ExperimentState.ERROR</td>\n",
       "      <td>d6366cafab90254a6c823e48b7204fc4f84f522987f495...</td>\n",
       "      <td>1.000000e+10</td>\n",
       "      <td>SkoptBayesianAlgorithm</td>\n",
       "      <td>2022-02-24 11:17:02.933987</td>\n",
       "      <td>2022-02-24 11:17:05.491317</td>\n",
       "      <td>None</td>\n",
       "      <td>None</td>\n",
       "      <td>-fno-align-jumps</td>\n",
       "      <td>None</td>\n",
       "      <td>-fno-asynchronous-unwind-tables</td>\n",
       "      <td>-fno-branch-count-reg</td>\n",
       "      <td>-fbranch-probabilities</td>\n",
       "      <td>505</td>\n",
       "      <td>37</td>\n",
       "      <td>476</td>\n",
       "    </tr>\n",
       "    <tr>\n",
       "      <th>7</th>\n",
       "      <td>8</td>\n",
       "      <td>1</td>\n",
       "      <td>ExperimentState.OK</td>\n",
       "      <td>d2f39cee9a402978998b252813beb911a9c62048dafb0a...</td>\n",
       "      <td>1.400000e-01</td>\n",
       "      <td>SkoptBayesianAlgorithm</td>\n",
       "      <td>2022-02-24 11:17:02.935397</td>\n",
       "      <td>2022-02-24 11:17:05.493073</td>\n",
       "      <td>-O3</td>\n",
       "      <td>None</td>\n",
       "      <td>-fno-align-jumps</td>\n",
       "      <td>-fno-align-labels</td>\n",
       "      <td>-fno-asynchronous-unwind-tables</td>\n",
       "      <td>-fno-branch-count-reg</td>\n",
       "      <td>None</td>\n",
       "      <td>828</td>\n",
       "      <td>93</td>\n",
       "      <td>411</td>\n",
       "    </tr>\n",
       "    <tr>\n",
       "      <th>8</th>\n",
       "      <td>9</td>\n",
       "      <td>1</td>\n",
       "      <td>ExperimentState.OK</td>\n",
       "      <td>784bd94df238d61754d0f6da4ccb05ca827591667867e2...</td>\n",
       "      <td>9.980000e-01</td>\n",
       "      <td>SkoptBayesianAlgorithm</td>\n",
       "      <td>2022-02-24 11:17:05.494575</td>\n",
       "      <td>2022-02-24 11:17:13.203925</td>\n",
       "      <td>None</td>\n",
       "      <td>None</td>\n",
       "      <td>-falign-jumps</td>\n",
       "      <td>-falign-labels</td>\n",
       "      <td>-fno-asynchronous-unwind-tables</td>\n",
       "      <td>-fno-branch-count-reg</td>\n",
       "      <td>None</td>\n",
       "      <td>382</td>\n",
       "      <td>90</td>\n",
       "      <td>140</td>\n",
       "    </tr>\n",
       "    <tr>\n",
       "      <th>9</th>\n",
       "      <td>10</td>\n",
       "      <td>1</td>\n",
       "      <td>ExperimentState.OK</td>\n",
       "      <td>f7c73cc392371765b281d0a27101c85ff34a6170a7d9d5...</td>\n",
       "      <td>1.440000e-01</td>\n",
       "      <td>SkoptBayesianAlgorithm</td>\n",
       "      <td>2022-02-24 11:17:05.495688</td>\n",
       "      <td>2022-02-24 11:17:13.205432</td>\n",
       "      <td>-O1</td>\n",
       "      <td>-falign-functions</td>\n",
       "      <td>-fno-align-jumps</td>\n",
       "      <td>-falign-labels</td>\n",
       "      <td>-fasynchronous-unwind-tables</td>\n",
       "      <td>None</td>\n",
       "      <td>None</td>\n",
       "      <td>225</td>\n",
       "      <td>4</td>\n",
       "      <td>987</td>\n",
       "    </tr>\n",
       "    <tr>\n",
       "      <th>10</th>\n",
       "      <td>11</td>\n",
       "      <td>1</td>\n",
       "      <td>ExperimentState.ERROR</td>\n",
       "      <td>23c5a72a0f661b76ac414c984db26739f61d836587f495...</td>\n",
       "      <td>1.000000e+10</td>\n",
       "      <td>SkoptBayesianAlgorithm</td>\n",
       "      <td>2022-02-24 11:17:13.368353</td>\n",
       "      <td>2022-02-24 11:17:15.278735</td>\n",
       "      <td>-O3</td>\n",
       "      <td>-falign-functions</td>\n",
       "      <td>-falign-jumps</td>\n",
       "      <td>-falign-labels</td>\n",
       "      <td>None</td>\n",
       "      <td>None</td>\n",
       "      <td>-fbranch-probabilities</td>\n",
       "      <td>378</td>\n",
       "      <td>76</td>\n",
       "      <td>81</td>\n",
       "    </tr>\n",
       "    <tr>\n",
       "      <th>11</th>\n",
       "      <td>12</td>\n",
       "      <td>1</td>\n",
       "      <td>ExperimentState.ERROR</td>\n",
       "      <td>23c5a72a0f661b76ac414c984db26739f61d836587f495...</td>\n",
       "      <td>1.000000e+10</td>\n",
       "      <td>SkoptBayesianAlgorithm</td>\n",
       "      <td>2022-02-24 11:17:13.369013</td>\n",
       "      <td>2022-02-24 11:17:15.432445</td>\n",
       "      <td>-O3</td>\n",
       "      <td>-falign-functions</td>\n",
       "      <td>-falign-jumps</td>\n",
       "      <td>-falign-labels</td>\n",
       "      <td>None</td>\n",
       "      <td>None</td>\n",
       "      <td>-fbranch-probabilities</td>\n",
       "      <td>378</td>\n",
       "      <td>76</td>\n",
       "      <td>81</td>\n",
       "    </tr>\n",
       "    <tr>\n",
       "      <th>12</th>\n",
       "      <td>13</td>\n",
       "      <td>1</td>\n",
       "      <td>ExperimentState.OK</td>\n",
       "      <td>fcafe2d244503379402fdbef0b8cda3048dfe56786861b...</td>\n",
       "      <td>9.700000e-01</td>\n",
       "      <td>SkoptBayesianAlgorithm</td>\n",
       "      <td>2022-02-24 11:17:15.584076</td>\n",
       "      <td>2022-02-24 11:17:27.062162</td>\n",
       "      <td>None</td>\n",
       "      <td>None</td>\n",
       "      <td>-fno-align-jumps</td>\n",
       "      <td>None</td>\n",
       "      <td>None</td>\n",
       "      <td>None</td>\n",
       "      <td>None</td>\n",
       "      <td>406</td>\n",
       "      <td>85</td>\n",
       "      <td>809</td>\n",
       "    </tr>\n",
       "    <tr>\n",
       "      <th>13</th>\n",
       "      <td>14</td>\n",
       "      <td>1</td>\n",
       "      <td>ExperimentState.OK</td>\n",
       "      <td>fcafe2d244503379402fdbef0b8cda3048dfe567c14a26...</td>\n",
       "      <td>9.680000e-01</td>\n",
       "      <td>SkoptBayesianAlgorithm</td>\n",
       "      <td>2022-02-24 11:17:15.584815</td>\n",
       "      <td>2022-02-24 11:17:27.214116</td>\n",
       "      <td>None</td>\n",
       "      <td>None</td>\n",
       "      <td>-fno-align-jumps</td>\n",
       "      <td>None</td>\n",
       "      <td>None</td>\n",
       "      <td>None</td>\n",
       "      <td>None</td>\n",
       "      <td>406</td>\n",
       "      <td>85</td>\n",
       "      <td>809</td>\n",
       "    </tr>\n",
       "    <tr>\n",
       "      <th>14</th>\n",
       "      <td>15</td>\n",
       "      <td>1</td>\n",
       "      <td>ExperimentState.OK</td>\n",
       "      <td>43232ec7fff459f1f71b8059dc0518b91343967ff4f2f6...</td>\n",
       "      <td>1.480000e-01</td>\n",
       "      <td>SkoptBayesianAlgorithm</td>\n",
       "      <td>2022-02-24 11:17:27.404996</td>\n",
       "      <td>2022-02-24 11:17:31.020298</td>\n",
       "      <td>-O3</td>\n",
       "      <td>-fno-align-functions</td>\n",
       "      <td>-fno-align-jumps</td>\n",
       "      <td>None</td>\n",
       "      <td>-fasynchronous-unwind-tables</td>\n",
       "      <td>-fno-branch-count-reg</td>\n",
       "      <td>-fno-branch-probabilities</td>\n",
       "      <td>614</td>\n",
       "      <td>26</td>\n",
       "      <td>351</td>\n",
       "    </tr>\n",
       "    <tr>\n",
       "      <th>15</th>\n",
       "      <td>16</td>\n",
       "      <td>1</td>\n",
       "      <td>ExperimentState.OK</td>\n",
       "      <td>43232ec7fff459f1f71b8059dc0518b91343967f04fc30...</td>\n",
       "      <td>1.160000e-01</td>\n",
       "      <td>SkoptBayesianAlgorithm</td>\n",
       "      <td>2022-02-24 11:17:27.405698</td>\n",
       "      <td>2022-02-24 11:17:31.168063</td>\n",
       "      <td>-O3</td>\n",
       "      <td>-fno-align-functions</td>\n",
       "      <td>-fno-align-jumps</td>\n",
       "      <td>None</td>\n",
       "      <td>-fasynchronous-unwind-tables</td>\n",
       "      <td>-fno-branch-count-reg</td>\n",
       "      <td>-fno-branch-probabilities</td>\n",
       "      <td>614</td>\n",
       "      <td>26</td>\n",
       "      <td>351</td>\n",
       "    </tr>\n",
       "    <tr>\n",
       "      <th>16</th>\n",
       "      <td>17</td>\n",
       "      <td>1</td>\n",
       "      <td>ExperimentState.OK</td>\n",
       "      <td>bd7fc99b37b50d68160740975fccced45a9e87bc9b3558...</td>\n",
       "      <td>1.140000e-01</td>\n",
       "      <td>SkoptBayesianAlgorithm</td>\n",
       "      <td>2022-02-24 11:17:31.318007</td>\n",
       "      <td>2022-02-24 11:17:34.719331</td>\n",
       "      <td>-O3</td>\n",
       "      <td>None</td>\n",
       "      <td>-fno-align-jumps</td>\n",
       "      <td>None</td>\n",
       "      <td>None</td>\n",
       "      <td>-fno-branch-count-reg</td>\n",
       "      <td>None</td>\n",
       "      <td>496</td>\n",
       "      <td>88</td>\n",
       "      <td>224</td>\n",
       "    </tr>\n",
       "    <tr>\n",
       "      <th>17</th>\n",
       "      <td>18</td>\n",
       "      <td>1</td>\n",
       "      <td>ExperimentState.OK</td>\n",
       "      <td>bd7fc99b37b50d68160740975fccced45a9e87bc04fc30...</td>\n",
       "      <td>1.160000e-01</td>\n",
       "      <td>SkoptBayesianAlgorithm</td>\n",
       "      <td>2022-02-24 11:17:31.318886</td>\n",
       "      <td>2022-02-24 11:17:34.877469</td>\n",
       "      <td>-O3</td>\n",
       "      <td>None</td>\n",
       "      <td>-fno-align-jumps</td>\n",
       "      <td>None</td>\n",
       "      <td>None</td>\n",
       "      <td>-fno-branch-count-reg</td>\n",
       "      <td>None</td>\n",
       "      <td>496</td>\n",
       "      <td>88</td>\n",
       "      <td>224</td>\n",
       "    </tr>\n",
       "    <tr>\n",
       "      <th>18</th>\n",
       "      <td>19</td>\n",
       "      <td>1</td>\n",
       "      <td>ExperimentState.OK</td>\n",
       "      <td>bf37c2829da07f34d79ed87c2715398d30b21fa071ed06...</td>\n",
       "      <td>9.940000e-01</td>\n",
       "      <td>SkoptBayesianAlgorithm</td>\n",
       "      <td>2022-02-24 11:17:35.037076</td>\n",
       "      <td>2022-02-24 11:17:46.620800</td>\n",
       "      <td>None</td>\n",
       "      <td>-falign-functions</td>\n",
       "      <td>None</td>\n",
       "      <td>-falign-labels</td>\n",
       "      <td>-fno-asynchronous-unwind-tables</td>\n",
       "      <td>None</td>\n",
       "      <td>-fno-branch-probabilities</td>\n",
       "      <td>565</td>\n",
       "      <td>98</td>\n",
       "      <td>99</td>\n",
       "    </tr>\n",
       "    <tr>\n",
       "      <th>19</th>\n",
       "      <td>20</td>\n",
       "      <td>1</td>\n",
       "      <td>ExperimentState.OK</td>\n",
       "      <td>bf37c2829da07f34d79ed87c2715398d30b21fa0630a97...</td>\n",
       "      <td>9.660000e-01</td>\n",
       "      <td>SkoptBayesianAlgorithm</td>\n",
       "      <td>2022-02-24 11:17:35.038012</td>\n",
       "      <td>2022-02-24 11:17:46.780541</td>\n",
       "      <td>None</td>\n",
       "      <td>-falign-functions</td>\n",
       "      <td>None</td>\n",
       "      <td>-falign-labels</td>\n",
       "      <td>-fno-asynchronous-unwind-tables</td>\n",
       "      <td>None</td>\n",
       "      <td>-fno-branch-probabilities</td>\n",
       "      <td>565</td>\n",
       "      <td>98</td>\n",
       "      <td>99</td>\n",
       "    </tr>\n",
       "  </tbody>\n",
       "</table>\n",
       "</div>"
      ],
      "text/plain": [
       "    id  job_id                  state  \\\n",
       "0    1       1  ExperimentState.ERROR   \n",
       "1    2       1     ExperimentState.OK   \n",
       "2    3       1     ExperimentState.OK   \n",
       "3    4       1     ExperimentState.OK   \n",
       "4    5       1     ExperimentState.OK   \n",
       "5    6       1     ExperimentState.OK   \n",
       "6    7       1  ExperimentState.ERROR   \n",
       "7    8       1     ExperimentState.OK   \n",
       "8    9       1     ExperimentState.OK   \n",
       "9   10       1     ExperimentState.OK   \n",
       "10  11       1  ExperimentState.ERROR   \n",
       "11  12       1  ExperimentState.ERROR   \n",
       "12  13       1     ExperimentState.OK   \n",
       "13  14       1     ExperimentState.OK   \n",
       "14  15       1     ExperimentState.OK   \n",
       "15  16       1     ExperimentState.OK   \n",
       "16  17       1     ExperimentState.OK   \n",
       "17  18       1     ExperimentState.OK   \n",
       "18  19       1     ExperimentState.OK   \n",
       "19  20       1     ExperimentState.OK   \n",
       "\n",
       "                                                 hash  objective_result  \\\n",
       "0   a6599406463238e0f4ae6f81b497826ba7d482f287f495...      1.000000e+10   \n",
       "1   e204178d17444a43b6cf3ae8286bfd5b628e43a32ca54b...      1.220000e-01   \n",
       "2   ebf62ffa99ee30b542f0ed6066527a94d63822d602f19c...      1.180000e-01   \n",
       "3   d1465923bff547d737f6089057a910b596500704272059...      1.420000e-01   \n",
       "4   ebc5adff84b4f3daa52a9fdd4c038cdcab48f546ae6451...      1.320000e-01   \n",
       "5   d5826777e3cf20c162af10761dadf3086fa9ae157beb91...      1.660000e-01   \n",
       "6   d6366cafab90254a6c823e48b7204fc4f84f522987f495...      1.000000e+10   \n",
       "7   d2f39cee9a402978998b252813beb911a9c62048dafb0a...      1.400000e-01   \n",
       "8   784bd94df238d61754d0f6da4ccb05ca827591667867e2...      9.980000e-01   \n",
       "9   f7c73cc392371765b281d0a27101c85ff34a6170a7d9d5...      1.440000e-01   \n",
       "10  23c5a72a0f661b76ac414c984db26739f61d836587f495...      1.000000e+10   \n",
       "11  23c5a72a0f661b76ac414c984db26739f61d836587f495...      1.000000e+10   \n",
       "12  fcafe2d244503379402fdbef0b8cda3048dfe56786861b...      9.700000e-01   \n",
       "13  fcafe2d244503379402fdbef0b8cda3048dfe567c14a26...      9.680000e-01   \n",
       "14  43232ec7fff459f1f71b8059dc0518b91343967ff4f2f6...      1.480000e-01   \n",
       "15  43232ec7fff459f1f71b8059dc0518b91343967f04fc30...      1.160000e-01   \n",
       "16  bd7fc99b37b50d68160740975fccced45a9e87bc9b3558...      1.140000e-01   \n",
       "17  bd7fc99b37b50d68160740975fccced45a9e87bc04fc30...      1.160000e-01   \n",
       "18  bf37c2829da07f34d79ed87c2715398d30b21fa071ed06...      9.940000e-01   \n",
       "19  bf37c2829da07f34d79ed87c2715398d30b21fa0630a97...      9.660000e-01   \n",
       "\n",
       "                 requestor           create_timestamp  \\\n",
       "0   SkoptBayesianAlgorithm 2022-02-24 11:16:53.005715   \n",
       "1   SkoptBayesianAlgorithm 2022-02-24 11:16:53.006942   \n",
       "2   SkoptBayesianAlgorithm 2022-02-24 11:16:55.908465   \n",
       "3   SkoptBayesianAlgorithm 2022-02-24 11:16:55.909550   \n",
       "4   SkoptBayesianAlgorithm 2022-02-24 11:16:59.347444   \n",
       "5   SkoptBayesianAlgorithm 2022-02-24 11:16:59.348417   \n",
       "6   SkoptBayesianAlgorithm 2022-02-24 11:17:02.933987   \n",
       "7   SkoptBayesianAlgorithm 2022-02-24 11:17:02.935397   \n",
       "8   SkoptBayesianAlgorithm 2022-02-24 11:17:05.494575   \n",
       "9   SkoptBayesianAlgorithm 2022-02-24 11:17:05.495688   \n",
       "10  SkoptBayesianAlgorithm 2022-02-24 11:17:13.368353   \n",
       "11  SkoptBayesianAlgorithm 2022-02-24 11:17:13.369013   \n",
       "12  SkoptBayesianAlgorithm 2022-02-24 11:17:15.584076   \n",
       "13  SkoptBayesianAlgorithm 2022-02-24 11:17:15.584815   \n",
       "14  SkoptBayesianAlgorithm 2022-02-24 11:17:27.404996   \n",
       "15  SkoptBayesianAlgorithm 2022-02-24 11:17:27.405698   \n",
       "16  SkoptBayesianAlgorithm 2022-02-24 11:17:31.318007   \n",
       "17  SkoptBayesianAlgorithm 2022-02-24 11:17:31.318886   \n",
       "18  SkoptBayesianAlgorithm 2022-02-24 11:17:35.037076   \n",
       "19  SkoptBayesianAlgorithm 2022-02-24 11:17:35.038012   \n",
       "\n",
       "             finish_timestamp    -O       align-functions       align-jumps  \\\n",
       "0  2022-02-24 11:16:55.894784  None     -falign-functions     -falign-jumps   \n",
       "1  2022-02-24 11:16:55.906690   -O2                  None  -fno-align-jumps   \n",
       "2  2022-02-24 11:16:59.344486   -O3                  None  -fno-align-jumps   \n",
       "3  2022-02-24 11:16:59.345929   -O1                  None  -fno-align-jumps   \n",
       "4  2022-02-24 11:17:02.930651   -O2  -fno-align-functions  -fno-align-jumps   \n",
       "5  2022-02-24 11:17:02.932026   -O1     -falign-functions              None   \n",
       "6  2022-02-24 11:17:05.491317  None                  None  -fno-align-jumps   \n",
       "7  2022-02-24 11:17:05.493073   -O3                  None  -fno-align-jumps   \n",
       "8  2022-02-24 11:17:13.203925  None                  None     -falign-jumps   \n",
       "9  2022-02-24 11:17:13.205432   -O1     -falign-functions  -fno-align-jumps   \n",
       "10 2022-02-24 11:17:15.278735   -O3     -falign-functions     -falign-jumps   \n",
       "11 2022-02-24 11:17:15.432445   -O3     -falign-functions     -falign-jumps   \n",
       "12 2022-02-24 11:17:27.062162  None                  None  -fno-align-jumps   \n",
       "13 2022-02-24 11:17:27.214116  None                  None  -fno-align-jumps   \n",
       "14 2022-02-24 11:17:31.020298   -O3  -fno-align-functions  -fno-align-jumps   \n",
       "15 2022-02-24 11:17:31.168063   -O3  -fno-align-functions  -fno-align-jumps   \n",
       "16 2022-02-24 11:17:34.719331   -O3                  None  -fno-align-jumps   \n",
       "17 2022-02-24 11:17:34.877469   -O3                  None  -fno-align-jumps   \n",
       "18 2022-02-24 11:17:46.620800  None     -falign-functions              None   \n",
       "19 2022-02-24 11:17:46.780541  None     -falign-functions              None   \n",
       "\n",
       "         align-labels       asynchronous-unwind-tables       branch-count-reg  \\\n",
       "0   -fno-align-labels  -fno-asynchronous-unwind-tables     -fbranch-count-reg   \n",
       "1                None     -fasynchronous-unwind-tables  -fno-branch-count-reg   \n",
       "2      -falign-labels     -fasynchronous-unwind-tables     -fbranch-count-reg   \n",
       "3                None                             None     -fbranch-count-reg   \n",
       "4   -fno-align-labels     -fasynchronous-unwind-tables     -fbranch-count-reg   \n",
       "5   -fno-align-labels                             None  -fno-branch-count-reg   \n",
       "6                None  -fno-asynchronous-unwind-tables  -fno-branch-count-reg   \n",
       "7   -fno-align-labels  -fno-asynchronous-unwind-tables  -fno-branch-count-reg   \n",
       "8      -falign-labels  -fno-asynchronous-unwind-tables  -fno-branch-count-reg   \n",
       "9      -falign-labels     -fasynchronous-unwind-tables                   None   \n",
       "10     -falign-labels                             None                   None   \n",
       "11     -falign-labels                             None                   None   \n",
       "12               None                             None                   None   \n",
       "13               None                             None                   None   \n",
       "14               None     -fasynchronous-unwind-tables  -fno-branch-count-reg   \n",
       "15               None     -fasynchronous-unwind-tables  -fno-branch-count-reg   \n",
       "16               None                             None  -fno-branch-count-reg   \n",
       "17               None                             None  -fno-branch-count-reg   \n",
       "18     -falign-labels  -fno-asynchronous-unwind-tables                   None   \n",
       "19     -falign-labels  -fno-asynchronous-unwind-tables                   None   \n",
       "\n",
       "         branch-probabilities  early-inlining-insns  gcse-cost-distance-ratio  \\\n",
       "0      -fbranch-probabilities                   950                        23   \n",
       "1                        None                   668                        45   \n",
       "2   -fno-branch-probabilities                   518                        12   \n",
       "3                        None                   256                         0   \n",
       "4   -fno-branch-probabilities                   258                        94   \n",
       "5                        None                   930                         7   \n",
       "6      -fbranch-probabilities                   505                        37   \n",
       "7                        None                   828                        93   \n",
       "8                        None                   382                        90   \n",
       "9                        None                   225                         4   \n",
       "10     -fbranch-probabilities                   378                        76   \n",
       "11     -fbranch-probabilities                   378                        76   \n",
       "12                       None                   406                        85   \n",
       "13                       None                   406                        85   \n",
       "14  -fno-branch-probabilities                   614                        26   \n",
       "15  -fno-branch-probabilities                   614                        26   \n",
       "16                       None                   496                        88   \n",
       "17                       None                   496                        88   \n",
       "18  -fno-branch-probabilities                   565                        98   \n",
       "19  -fno-branch-probabilities                   565                        98   \n",
       "\n",
       "    iv-max-considered-uses  \n",
       "0                      674  \n",
       "1                       29  \n",
       "2                      891  \n",
       "3                      580  \n",
       "4                      985  \n",
       "5                      896  \n",
       "6                      476  \n",
       "7                      411  \n",
       "8                      140  \n",
       "9                      987  \n",
       "10                      81  \n",
       "11                      81  \n",
       "12                     809  \n",
       "13                     809  \n",
       "14                     351  \n",
       "15                     351  \n",
       "16                     224  \n",
       "17                     224  \n",
       "18                      99  \n",
       "19                      99  "
      ]
     },
     "execution_count": 4,
     "metadata": {},
     "output_type": "execute_result"
    }
   ],
   "source": [
    "df"
   ]
  },
  {
   "cell_type": "code",
   "execution_count": null,
   "id": "db3b0d9b",
   "metadata": {},
   "outputs": [],
   "source": []
  }
 ],
 "metadata": {
  "kernelspec": {
   "display_name": "Python 3 (ipykernel)",
   "language": "python",
   "name": "python3"
  },
  "language_info": {
   "codemirror_mode": {
    "name": "ipython",
    "version": 3
   },
   "file_extension": ".py",
   "mimetype": "text/x-python",
   "name": "python",
   "nbconvert_exporter": "python",
   "pygments_lexer": "ipython3",
   "version": "3.9.10"
  }
 },
 "nbformat": 4,
 "nbformat_minor": 5
}
