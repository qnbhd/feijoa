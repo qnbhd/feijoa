{
 "cells": [
  {
   "cell_type": "code",
   "execution_count": 1,
   "id": "0f30505d",
   "metadata": {
    "pycharm": {
     "name": "#%%\n"
    }
   },
   "outputs": [],
   "source": [
    "from feijoa import load_job\n",
    "from feijoa.models.experiment import ExperimentState\n",
    "from examples.gcc.runner_v2 import SPACE, run_gcc"
   ]
  },
  {
   "cell_type": "code",
   "execution_count": 2,
   "id": "58de2595",
   "metadata": {},
   "outputs": [
    {
     "name": "stderr",
     "output_type": "stream",
     "text": [
      "  0%|\u001b[32m                                                                                                             \u001b[0m| 0/2000 [00:00<?, ?it/s]\u001b[0m/Users/qnbhd/Development/feijoa/feijoa/search/algorithms/skopt.py:60: UserWarning: Now per-emit count in skopt technique implemented not correctly. Per-emit count is property, return default value (1).\n",
      "  warnings.warn('Now per-emit count in skopt technique implemented not correctly.'\n",
      "100%|\u001b[32m████████████████████████████████████████████████████████████████████████████████████████████████\u001b[0m| 2000/2000 [5:11:39<00:00,  9.35s/it]\u001b[0m\n"
     ]
    }
   ],
   "source": [
    "baselines, job = run_gcc(2000)"
   ]
  },
  {
   "cell_type": "code",
   "execution_count": 9,
   "id": "d3c7d469",
   "metadata": {},
   "outputs": [],
   "source": [
    "df = job.dataframe"
   ]
  },
  {
   "cell_type": "code",
   "execution_count": 10,
   "id": "17757636",
   "metadata": {},
   "outputs": [
    {
     "name": "stdout",
     "output_type": "stream",
     "text": [
      "Empty DataFrame\n",
      "Columns: [finish_time, objective_result, std]\n",
      "Index: []\n"
     ]
    },
    {
     "name": "stderr",
     "output_type": "stream",
     "text": [
      "/var/folders/gp/1qc74rb50b9cp66q8cxshnwh0000gn/T/ipykernel_81647/2778364530.py:14: FutureWarning: The frame.append method is deprecated and will be removed from pandas in a future version. Use pandas.concat instead.\n",
      "  ddf = ddf.append({'finish_time': rows['finish_time'],\n",
      "/var/folders/gp/1qc74rb50b9cp66q8cxshnwh0000gn/T/ipykernel_81647/2778364530.py:14: FutureWarning: The frame.append method is deprecated and will be removed from pandas in a future version. Use pandas.concat instead.\n",
      "  ddf = ddf.append({'finish_time': rows['finish_time'],\n",
      "/var/folders/gp/1qc74rb50b9cp66q8cxshnwh0000gn/T/ipykernel_81647/2778364530.py:14: FutureWarning: The frame.append method is deprecated and will be removed from pandas in a future version. Use pandas.concat instead.\n",
      "  ddf = ddf.append({'finish_time': rows['finish_time'],\n",
      "/var/folders/gp/1qc74rb50b9cp66q8cxshnwh0000gn/T/ipykernel_81647/2778364530.py:14: FutureWarning: The frame.append method is deprecated and will be removed from pandas in a future version. Use pandas.concat instead.\n",
      "  ddf = ddf.append({'finish_time': rows['finish_time'],\n",
      "/var/folders/gp/1qc74rb50b9cp66q8cxshnwh0000gn/T/ipykernel_81647/2778364530.py:14: FutureWarning: The frame.append method is deprecated and will be removed from pandas in a future version. Use pandas.concat instead.\n",
      "  ddf = ddf.append({'finish_time': rows['finish_time'],\n",
      "/var/folders/gp/1qc74rb50b9cp66q8cxshnwh0000gn/T/ipykernel_81647/2778364530.py:14: FutureWarning: The frame.append method is deprecated and will be removed from pandas in a future version. Use pandas.concat instead.\n",
      "  ddf = ddf.append({'finish_time': rows['finish_time'],\n",
      "/var/folders/gp/1qc74rb50b9cp66q8cxshnwh0000gn/T/ipykernel_81647/2778364530.py:14: FutureWarning: The frame.append method is deprecated and will be removed from pandas in a future version. Use pandas.concat instead.\n",
      "  ddf = ddf.append({'finish_time': rows['finish_time'],\n",
      "/var/folders/gp/1qc74rb50b9cp66q8cxshnwh0000gn/T/ipykernel_81647/2778364530.py:14: FutureWarning: The frame.append method is deprecated and will be removed from pandas in a future version. Use pandas.concat instead.\n",
      "  ddf = ddf.append({'finish_time': rows['finish_time'],\n"
     ]
    }
   ],
   "source": [
    "import pandas as pd\n",
    "\n",
    "df = job.dataframe[df['state']==ExperimentState.OK]\n",
    "\n",
    "ddf = pd.DataFrame(columns=['finish_time', 'objective_result', 'std'])\n",
    "\n",
    "print(ddf)\n",
    "\n",
    "minima = 1e100\n",
    "\n",
    "for index, rows in df.iterrows():\n",
    "    if rows['objective_result'] <= minima:\n",
    "        minima = rows['objective_result']\n",
    "        ddf = ddf.append({'finish_time': rows['finish_time'],\n",
    "             'objective_result': rows['objective_result'],\n",
    "             'std': rows['std']}, ignore_index=True)"
   ]
  },
  {
   "cell_type": "code",
   "execution_count": 11,
   "id": "6f6b90dc",
   "metadata": {},
   "outputs": [
    {
     "data": {
      "text/html": [
       "<div>\n",
       "<style scoped>\n",
       "    .dataframe tbody tr th:only-of-type {\n",
       "        vertical-align: middle;\n",
       "    }\n",
       "\n",
       "    .dataframe tbody tr th {\n",
       "        vertical-align: top;\n",
       "    }\n",
       "\n",
       "    .dataframe thead th {\n",
       "        text-align: right;\n",
       "    }\n",
       "</style>\n",
       "<table border=\"1\" class=\"dataframe\">\n",
       "  <thead>\n",
       "    <tr style=\"text-align: right;\">\n",
       "      <th></th>\n",
       "      <th>finish_time</th>\n",
       "      <th>objective_result</th>\n",
       "      <th>std</th>\n",
       "    </tr>\n",
       "  </thead>\n",
       "  <tbody>\n",
       "    <tr>\n",
       "      <th>0</th>\n",
       "      <td>2022-04-16 18:33:23.236027</td>\n",
       "      <td>0.288</td>\n",
       "      <td>0.054</td>\n",
       "    </tr>\n",
       "    <tr>\n",
       "      <th>1</th>\n",
       "      <td>2022-04-16 18:33:30.928589</td>\n",
       "      <td>0.151</td>\n",
       "      <td>0.056471</td>\n",
       "    </tr>\n",
       "    <tr>\n",
       "      <th>2</th>\n",
       "      <td>2022-04-16 18:35:17.240363</td>\n",
       "      <td>0.133</td>\n",
       "      <td>0.055866</td>\n",
       "    </tr>\n",
       "    <tr>\n",
       "      <th>3</th>\n",
       "      <td>2022-04-16 18:35:21.466644</td>\n",
       "      <td>0.128</td>\n",
       "      <td>0.054</td>\n",
       "    </tr>\n",
       "    <tr>\n",
       "      <th>4</th>\n",
       "      <td>2022-04-16 18:35:43.514362</td>\n",
       "      <td>0.128</td>\n",
       "      <td>0.054</td>\n",
       "    </tr>\n",
       "    <tr>\n",
       "      <th>5</th>\n",
       "      <td>2022-04-16 18:42:12.209783</td>\n",
       "      <td>0.119</td>\n",
       "      <td>0.057</td>\n",
       "    </tr>\n",
       "    <tr>\n",
       "      <th>6</th>\n",
       "      <td>2022-04-16 20:48:54.899843</td>\n",
       "      <td>0.113</td>\n",
       "      <td>0.026096</td>\n",
       "    </tr>\n",
       "    <tr>\n",
       "      <th>7</th>\n",
       "      <td>2022-04-16 23:50:42.414723</td>\n",
       "      <td>0.102</td>\n",
       "      <td>0.026382</td>\n",
       "    </tr>\n",
       "  </tbody>\n",
       "</table>\n",
       "</div>"
      ],
      "text/plain": [
       "                  finish_time objective_result       std\n",
       "0  2022-04-16 18:33:23.236027            0.288     0.054\n",
       "1  2022-04-16 18:33:30.928589            0.151  0.056471\n",
       "2  2022-04-16 18:35:17.240363            0.133  0.055866\n",
       "3  2022-04-16 18:35:21.466644            0.128     0.054\n",
       "4  2022-04-16 18:35:43.514362            0.128     0.054\n",
       "5  2022-04-16 18:42:12.209783            0.119     0.057\n",
       "6  2022-04-16 20:48:54.899843            0.113  0.026096\n",
       "7  2022-04-16 23:50:42.414723            0.102  0.026382"
      ]
     },
     "execution_count": 11,
     "metadata": {},
     "output_type": "execute_result"
    }
   ],
   "source": [
    "ddf"
   ]
  },
  {
   "cell_type": "code",
   "execution_count": null,
   "id": "198a0edc",
   "metadata": {},
   "outputs": [],
   "source": []
  }
 ],
 "metadata": {
  "kernelspec": {
   "display_name": "Python 3 (ipykernel)",
   "language": "python",
   "name": "python3"
  },
  "language_info": {
   "codemirror_mode": {
    "name": "ipython",
    "version": 3
   },
   "file_extension": ".py",
   "mimetype": "text/x-python",
   "name": "python",
   "nbconvert_exporter": "python",
   "pygments_lexer": "ipython3",
   "version": "3.9.7"
  }
 },
 "nbformat": 4,
 "nbformat_minor": 5
}
