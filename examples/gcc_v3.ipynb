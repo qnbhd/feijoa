{
 "cells": [
  {
   "cell_type": "code",
   "execution_count": 13,
   "id": "7f61e6c3",
   "metadata": {},
   "outputs": [],
   "source": [
    "from gimeltune import load_job, SearchSpace\n",
    "from gimeltune.models.experiment import ExperimentState\n",
    "from examples.gcc.utils.run_tools import run_baselines"
   ]
  },
  {
   "cell_type": "code",
   "execution_count": 3,
   "id": "6a9d6a15",
   "metadata": {},
   "outputs": [],
   "source": [
    "baselines = run_baselines(\n",
    "    'g++-11', \n",
    "    '/Users/qnbhd/Development/gimeltune/examples/gcc/raytracer/raytracer.cpp',\n",
    "    5\n",
    ")"
   ]
  },
  {
   "cell_type": "code",
   "execution_count": 4,
   "id": "cadd189e",
   "metadata": {},
   "outputs": [
    {
     "data": {
      "text/plain": [
       "{'O3': {'time': 0.15599999999999997,\n",
       "  'std': 0.11200000000000002,\n",
       "  'cv': 0.7179487179487182,\n",
       "  'low': 0.1,\n",
       "  'high': 0.38},\n",
       " 'O2': {'time': 0.13999999999999999,\n",
       "  'std': 0.07999999999999999,\n",
       "  'cv': 0.5714285714285714,\n",
       "  'low': 0.1,\n",
       "  'high': 0.3},\n",
       " 'O1': {'time': 0.168,\n",
       "  'std': 0.076,\n",
       "  'cv': 0.45238095238095233,\n",
       "  'low': 0.13,\n",
       "  'high': 0.32}}"
      ]
     },
     "execution_count": 4,
     "metadata": {},
     "output_type": "execute_result"
    }
   ],
   "source": [
    "baselines"
   ]
  },
  {
   "cell_type": "code",
   "execution_count": 6,
   "id": "138c7647",
   "metadata": {},
   "outputs": [],
   "source": [
    "space = SearchSpace.from_yaml_file('/Users/qnbhd/Development/gimeltune/examples/gcc/space_wided.yaml')"
   ]
  },
  {
   "cell_type": "code",
   "execution_count": 8,
   "id": "3208ccb5",
   "metadata": {},
   "outputs": [],
   "source": [
    "job = load_job(\n",
    "    search_space=space, \n",
    "    storage='sqlite:////Users/qnbhd/Development/gimeltune/examples/gcc/gcc_run.db',\n",
    "    name='job18_33_09_04_16_2022'\n",
    ")"
   ]
  },
  {
   "cell_type": "code",
   "execution_count": 9,
   "id": "27a048c2",
   "metadata": {},
   "outputs": [
    {
     "data": {
      "text/html": [
       "<div>\n",
       "<style scoped>\n",
       "    .dataframe tbody tr th:only-of-type {\n",
       "        vertical-align: middle;\n",
       "    }\n",
       "\n",
       "    .dataframe tbody tr th {\n",
       "        vertical-align: top;\n",
       "    }\n",
       "\n",
       "    .dataframe thead th {\n",
       "        text-align: right;\n",
       "    }\n",
       "</style>\n",
       "<table border=\"1\" class=\"dataframe\">\n",
       "  <thead>\n",
       "    <tr style=\"text-align: right;\">\n",
       "      <th></th>\n",
       "      <th>id</th>\n",
       "      <th>job_id</th>\n",
       "      <th>state</th>\n",
       "      <th>hash</th>\n",
       "      <th>objective_result</th>\n",
       "      <th>requestor</th>\n",
       "      <th>create_time</th>\n",
       "      <th>finish_time</th>\n",
       "      <th>-O</th>\n",
       "      <th>-faggressive-loop-optimizations</th>\n",
       "      <th>...</th>\n",
       "      <th>align-threshold</th>\n",
       "      <th>avg-loop-niter</th>\n",
       "      <th>fsm-maximum-phi-arguments</th>\n",
       "      <th>fsm-scale-path-blocks</th>\n",
       "      <th>fsm-scale-path-stmts</th>\n",
       "      <th>inline-heuristics-hint-percent</th>\n",
       "      <th>integer-share-limit</th>\n",
       "      <th>lto-max-streaming-parallelism</th>\n",
       "      <th>lto-partitions</th>\n",
       "      <th>max-combine-insns</th>\n",
       "    </tr>\n",
       "  </thead>\n",
       "  <tbody>\n",
       "    <tr>\n",
       "      <th>0</th>\n",
       "      <td>1</td>\n",
       "      <td>4</td>\n",
       "      <td>ExperimentState.ERROR</td>\n",
       "      <td>690ca4a120d7629c299eb5f39dad78b299def73387f495...</td>\n",
       "      <td>1.000000e+10</td>\n",
       "      <td>SkoptBayesianAlgorithm</td>\n",
       "      <td>2022-04-16 18:33:17.185029</td>\n",
       "      <td>2022-04-16 18:33:18.162121</td>\n",
       "      <td>-O1</td>\n",
       "      <td>-faggressive-loop-optimizations</td>\n",
       "      <td>...</td>\n",
       "      <td>NaN</td>\n",
       "      <td>NaN</td>\n",
       "      <td>NaN</td>\n",
       "      <td>NaN</td>\n",
       "      <td>NaN</td>\n",
       "      <td>NaN</td>\n",
       "      <td>NaN</td>\n",
       "      <td>NaN</td>\n",
       "      <td>NaN</td>\n",
       "      <td>NaN</td>\n",
       "    </tr>\n",
       "    <tr>\n",
       "      <th>1</th>\n",
       "      <td>2</td>\n",
       "      <td>4</td>\n",
       "      <td>ExperimentState.ERROR</td>\n",
       "      <td>f5eb62e1c836876b08b78758df75c46ca4842ffc87f495...</td>\n",
       "      <td>1.000000e+10</td>\n",
       "      <td>SkoptBayesianAlgorithm</td>\n",
       "      <td>2022-04-16 18:33:18.177656</td>\n",
       "      <td>2022-04-16 18:33:19.097095</td>\n",
       "      <td>-O1</td>\n",
       "      <td>-fno-aggressive-loop-optimizations</td>\n",
       "      <td>...</td>\n",
       "      <td>NaN</td>\n",
       "      <td>NaN</td>\n",
       "      <td>NaN</td>\n",
       "      <td>NaN</td>\n",
       "      <td>NaN</td>\n",
       "      <td>NaN</td>\n",
       "      <td>NaN</td>\n",
       "      <td>NaN</td>\n",
       "      <td>NaN</td>\n",
       "      <td>NaN</td>\n",
       "    </tr>\n",
       "    <tr>\n",
       "      <th>2</th>\n",
       "      <td>3</td>\n",
       "      <td>4</td>\n",
       "      <td>ExperimentState.OK</td>\n",
       "      <td>ccccc5c4f3d72e8143f6633f5604cdb214c05d43fef15d...</td>\n",
       "      <td>2.880000e-01</td>\n",
       "      <td>SkoptBayesianAlgorithm</td>\n",
       "      <td>2022-04-16 18:33:19.112916</td>\n",
       "      <td>2022-04-16 18:33:23.236027</td>\n",
       "      <td>-O3</td>\n",
       "      <td>-faggressive-loop-optimizations</td>\n",
       "      <td>...</td>\n",
       "      <td>NaN</td>\n",
       "      <td>NaN</td>\n",
       "      <td>NaN</td>\n",
       "      <td>NaN</td>\n",
       "      <td>NaN</td>\n",
       "      <td>NaN</td>\n",
       "      <td>NaN</td>\n",
       "      <td>NaN</td>\n",
       "      <td>NaN</td>\n",
       "      <td>NaN</td>\n",
       "    </tr>\n",
       "    <tr>\n",
       "      <th>3</th>\n",
       "      <td>4</td>\n",
       "      <td>4</td>\n",
       "      <td>ExperimentState.ERROR</td>\n",
       "      <td>823da45c7c4fbe34520efa94fad9782f678dba3b87f495...</td>\n",
       "      <td>1.000000e+10</td>\n",
       "      <td>SkoptBayesianAlgorithm</td>\n",
       "      <td>2022-04-16 18:33:23.251166</td>\n",
       "      <td>2022-04-16 18:33:24.017596</td>\n",
       "      <td>-O0</td>\n",
       "      <td>-fno-aggressive-loop-optimizations</td>\n",
       "      <td>...</td>\n",
       "      <td>NaN</td>\n",
       "      <td>NaN</td>\n",
       "      <td>NaN</td>\n",
       "      <td>NaN</td>\n",
       "      <td>NaN</td>\n",
       "      <td>NaN</td>\n",
       "      <td>NaN</td>\n",
       "      <td>NaN</td>\n",
       "      <td>NaN</td>\n",
       "      <td>NaN</td>\n",
       "    </tr>\n",
       "    <tr>\n",
       "      <th>4</th>\n",
       "      <td>5</td>\n",
       "      <td>4</td>\n",
       "      <td>ExperimentState.ERROR</td>\n",
       "      <td>90acf4899f2414edab4fc236da4827fd2bead59e87f495...</td>\n",
       "      <td>1.000000e+10</td>\n",
       "      <td>SkoptBayesianAlgorithm</td>\n",
       "      <td>2022-04-16 18:33:24.033532</td>\n",
       "      <td>2022-04-16 18:33:24.993931</td>\n",
       "      <td>-O3</td>\n",
       "      <td>None</td>\n",
       "      <td>...</td>\n",
       "      <td>NaN</td>\n",
       "      <td>NaN</td>\n",
       "      <td>NaN</td>\n",
       "      <td>NaN</td>\n",
       "      <td>NaN</td>\n",
       "      <td>NaN</td>\n",
       "      <td>NaN</td>\n",
       "      <td>NaN</td>\n",
       "      <td>NaN</td>\n",
       "      <td>NaN</td>\n",
       "    </tr>\n",
       "    <tr>\n",
       "      <th>...</th>\n",
       "      <td>...</td>\n",
       "      <td>...</td>\n",
       "      <td>...</td>\n",
       "      <td>...</td>\n",
       "      <td>...</td>\n",
       "      <td>...</td>\n",
       "      <td>...</td>\n",
       "      <td>...</td>\n",
       "      <td>...</td>\n",
       "      <td>...</td>\n",
       "      <td>...</td>\n",
       "      <td>...</td>\n",
       "      <td>...</td>\n",
       "      <td>...</td>\n",
       "      <td>...</td>\n",
       "      <td>...</td>\n",
       "      <td>...</td>\n",
       "      <td>...</td>\n",
       "      <td>...</td>\n",
       "      <td>...</td>\n",
       "      <td>...</td>\n",
       "    </tr>\n",
       "    <tr>\n",
       "      <th>373</th>\n",
       "      <td>374</td>\n",
       "      <td>4</td>\n",
       "      <td>ExperimentState.OK</td>\n",
       "      <td>495970a28a1230b186ed345c3376e9a69452a46cc7fb45...</td>\n",
       "      <td>1.390000e-01</td>\n",
       "      <td>SkoptBayesianAlgorithm</td>\n",
       "      <td>2022-04-16 22:30:55.519079</td>\n",
       "      <td>2022-04-16 22:30:58.052279</td>\n",
       "      <td>-O2</td>\n",
       "      <td>-fno-aggressive-loop-optimizations</td>\n",
       "      <td>...</td>\n",
       "      <td>29998.0</td>\n",
       "      <td>53509.0</td>\n",
       "      <td>307591.0</td>\n",
       "      <td>7.0</td>\n",
       "      <td>1.0</td>\n",
       "      <td>461025.0</td>\n",
       "      <td>38907.0</td>\n",
       "      <td>14187.0</td>\n",
       "      <td>33399.0</td>\n",
       "      <td>2.0</td>\n",
       "    </tr>\n",
       "    <tr>\n",
       "      <th>374</th>\n",
       "      <td>375</td>\n",
       "      <td>4</td>\n",
       "      <td>ExperimentState.ERROR</td>\n",
       "      <td>b540ac7bb9fe1abc43de58d49a93de7dfe0e58b587f495...</td>\n",
       "      <td>1.000000e+10</td>\n",
       "      <td>SkoptBayesianAlgorithm</td>\n",
       "      <td>2022-04-16 22:30:58.069147</td>\n",
       "      <td>2022-04-16 22:30:59.025031</td>\n",
       "      <td>-Os</td>\n",
       "      <td>-faggressive-loop-optimizations</td>\n",
       "      <td>...</td>\n",
       "      <td>42473.0</td>\n",
       "      <td>19934.0</td>\n",
       "      <td>282760.0</td>\n",
       "      <td>9.0</td>\n",
       "      <td>1.0</td>\n",
       "      <td>461218.0</td>\n",
       "      <td>37908.0</td>\n",
       "      <td>48220.0</td>\n",
       "      <td>94.0</td>\n",
       "      <td>3.0</td>\n",
       "    </tr>\n",
       "    <tr>\n",
       "      <th>375</th>\n",
       "      <td>376</td>\n",
       "      <td>4</td>\n",
       "      <td>ExperimentState.ERROR</td>\n",
       "      <td>0d18ccf4a1173c79b8d81b28f6d936fc95fc142187f495...</td>\n",
       "      <td>1.000000e+10</td>\n",
       "      <td>SkoptBayesianAlgorithm</td>\n",
       "      <td>2022-04-16 22:30:59.041605</td>\n",
       "      <td>2022-04-16 22:31:00.035225</td>\n",
       "      <td>-Ofast</td>\n",
       "      <td>-fno-aggressive-loop-optimizations</td>\n",
       "      <td>...</td>\n",
       "      <td>48936.0</td>\n",
       "      <td>59490.0</td>\n",
       "      <td>488761.0</td>\n",
       "      <td>9.0</td>\n",
       "      <td>3.0</td>\n",
       "      <td>443034.0</td>\n",
       "      <td>28810.0</td>\n",
       "      <td>46172.0</td>\n",
       "      <td>38761.0</td>\n",
       "      <td>2.0</td>\n",
       "    </tr>\n",
       "    <tr>\n",
       "      <th>376</th>\n",
       "      <td>377</td>\n",
       "      <td>4</td>\n",
       "      <td>ExperimentState.OK</td>\n",
       "      <td>04dfb428a380890481d1e7b962b469360a5bf109918aa2...</td>\n",
       "      <td>4.410000e-01</td>\n",
       "      <td>SkoptBayesianAlgorithm</td>\n",
       "      <td>2022-04-16 22:31:00.051416</td>\n",
       "      <td>2022-04-16 22:31:05.794259</td>\n",
       "      <td>-O1</td>\n",
       "      <td>-faggressive-loop-optimizations</td>\n",
       "      <td>...</td>\n",
       "      <td>11787.0</td>\n",
       "      <td>57969.0</td>\n",
       "      <td>283359.0</td>\n",
       "      <td>6.0</td>\n",
       "      <td>4.0</td>\n",
       "      <td>303671.0</td>\n",
       "      <td>36333.0</td>\n",
       "      <td>10283.0</td>\n",
       "      <td>60032.0</td>\n",
       "      <td>3.0</td>\n",
       "    </tr>\n",
       "    <tr>\n",
       "      <th>377</th>\n",
       "      <td>378</td>\n",
       "      <td>4</td>\n",
       "      <td>ExperimentState.ERROR</td>\n",
       "      <td>a5a9402b9e7ddf60eebf7d00be0d017c11ca1a8087f495...</td>\n",
       "      <td>1.000000e+10</td>\n",
       "      <td>SkoptBayesianAlgorithm</td>\n",
       "      <td>2022-04-16 22:31:05.810946</td>\n",
       "      <td>2022-04-16 22:31:06.656795</td>\n",
       "      <td>-O0</td>\n",
       "      <td>None</td>\n",
       "      <td>...</td>\n",
       "      <td>48733.0</td>\n",
       "      <td>42673.0</td>\n",
       "      <td>38457.0</td>\n",
       "      <td>9.0</td>\n",
       "      <td>3.0</td>\n",
       "      <td>647900.0</td>\n",
       "      <td>60708.0</td>\n",
       "      <td>5089.0</td>\n",
       "      <td>56964.0</td>\n",
       "      <td>2.0</td>\n",
       "    </tr>\n",
       "  </tbody>\n",
       "</table>\n",
       "<p>378 rows × 260 columns</p>\n",
       "</div>"
      ],
      "text/plain": [
       "      id  job_id                  state  \\\n",
       "0      1       4  ExperimentState.ERROR   \n",
       "1      2       4  ExperimentState.ERROR   \n",
       "2      3       4     ExperimentState.OK   \n",
       "3      4       4  ExperimentState.ERROR   \n",
       "4      5       4  ExperimentState.ERROR   \n",
       "..   ...     ...                    ...   \n",
       "373  374       4     ExperimentState.OK   \n",
       "374  375       4  ExperimentState.ERROR   \n",
       "375  376       4  ExperimentState.ERROR   \n",
       "376  377       4     ExperimentState.OK   \n",
       "377  378       4  ExperimentState.ERROR   \n",
       "\n",
       "                                                  hash  objective_result  \\\n",
       "0    690ca4a120d7629c299eb5f39dad78b299def73387f495...      1.000000e+10   \n",
       "1    f5eb62e1c836876b08b78758df75c46ca4842ffc87f495...      1.000000e+10   \n",
       "2    ccccc5c4f3d72e8143f6633f5604cdb214c05d43fef15d...      2.880000e-01   \n",
       "3    823da45c7c4fbe34520efa94fad9782f678dba3b87f495...      1.000000e+10   \n",
       "4    90acf4899f2414edab4fc236da4827fd2bead59e87f495...      1.000000e+10   \n",
       "..                                                 ...               ...   \n",
       "373  495970a28a1230b186ed345c3376e9a69452a46cc7fb45...      1.390000e-01   \n",
       "374  b540ac7bb9fe1abc43de58d49a93de7dfe0e58b587f495...      1.000000e+10   \n",
       "375  0d18ccf4a1173c79b8d81b28f6d936fc95fc142187f495...      1.000000e+10   \n",
       "376  04dfb428a380890481d1e7b962b469360a5bf109918aa2...      4.410000e-01   \n",
       "377  a5a9402b9e7ddf60eebf7d00be0d017c11ca1a8087f495...      1.000000e+10   \n",
       "\n",
       "                  requestor                create_time  \\\n",
       "0    SkoptBayesianAlgorithm 2022-04-16 18:33:17.185029   \n",
       "1    SkoptBayesianAlgorithm 2022-04-16 18:33:18.177656   \n",
       "2    SkoptBayesianAlgorithm 2022-04-16 18:33:19.112916   \n",
       "3    SkoptBayesianAlgorithm 2022-04-16 18:33:23.251166   \n",
       "4    SkoptBayesianAlgorithm 2022-04-16 18:33:24.033532   \n",
       "..                      ...                        ...   \n",
       "373  SkoptBayesianAlgorithm 2022-04-16 22:30:55.519079   \n",
       "374  SkoptBayesianAlgorithm 2022-04-16 22:30:58.069147   \n",
       "375  SkoptBayesianAlgorithm 2022-04-16 22:30:59.041605   \n",
       "376  SkoptBayesianAlgorithm 2022-04-16 22:31:00.051416   \n",
       "377  SkoptBayesianAlgorithm 2022-04-16 22:31:05.810946   \n",
       "\n",
       "                   finish_time      -O     -faggressive-loop-optimizations  \\\n",
       "0   2022-04-16 18:33:18.162121     -O1     -faggressive-loop-optimizations   \n",
       "1   2022-04-16 18:33:19.097095     -O1  -fno-aggressive-loop-optimizations   \n",
       "2   2022-04-16 18:33:23.236027     -O3     -faggressive-loop-optimizations   \n",
       "3   2022-04-16 18:33:24.017596     -O0  -fno-aggressive-loop-optimizations   \n",
       "4   2022-04-16 18:33:24.993931     -O3                                None   \n",
       "..                         ...     ...                                 ...   \n",
       "373 2022-04-16 22:30:58.052279     -O2  -fno-aggressive-loop-optimizations   \n",
       "374 2022-04-16 22:30:59.025031     -Os     -faggressive-loop-optimizations   \n",
       "375 2022-04-16 22:31:00.035225  -Ofast  -fno-aggressive-loop-optimizations   \n",
       "376 2022-04-16 22:31:05.794259     -O1     -faggressive-loop-optimizations   \n",
       "377 2022-04-16 22:31:06.656795     -O0                                None   \n",
       "\n",
       "     ... align-threshold avg-loop-niter fsm-maximum-phi-arguments  \\\n",
       "0    ...             NaN            NaN                       NaN   \n",
       "1    ...             NaN            NaN                       NaN   \n",
       "2    ...             NaN            NaN                       NaN   \n",
       "3    ...             NaN            NaN                       NaN   \n",
       "4    ...             NaN            NaN                       NaN   \n",
       "..   ...             ...            ...                       ...   \n",
       "373  ...         29998.0        53509.0                  307591.0   \n",
       "374  ...         42473.0        19934.0                  282760.0   \n",
       "375  ...         48936.0        59490.0                  488761.0   \n",
       "376  ...         11787.0        57969.0                  283359.0   \n",
       "377  ...         48733.0        42673.0                   38457.0   \n",
       "\n",
       "    fsm-scale-path-blocks fsm-scale-path-stmts inline-heuristics-hint-percent  \\\n",
       "0                     NaN                  NaN                            NaN   \n",
       "1                     NaN                  NaN                            NaN   \n",
       "2                     NaN                  NaN                            NaN   \n",
       "3                     NaN                  NaN                            NaN   \n",
       "4                     NaN                  NaN                            NaN   \n",
       "..                    ...                  ...                            ...   \n",
       "373                   7.0                  1.0                       461025.0   \n",
       "374                   9.0                  1.0                       461218.0   \n",
       "375                   9.0                  3.0                       443034.0   \n",
       "376                   6.0                  4.0                       303671.0   \n",
       "377                   9.0                  3.0                       647900.0   \n",
       "\n",
       "    integer-share-limit lto-max-streaming-parallelism lto-partitions  \\\n",
       "0                   NaN                           NaN            NaN   \n",
       "1                   NaN                           NaN            NaN   \n",
       "2                   NaN                           NaN            NaN   \n",
       "3                   NaN                           NaN            NaN   \n",
       "4                   NaN                           NaN            NaN   \n",
       "..                  ...                           ...            ...   \n",
       "373             38907.0                       14187.0        33399.0   \n",
       "374             37908.0                       48220.0           94.0   \n",
       "375             28810.0                       46172.0        38761.0   \n",
       "376             36333.0                       10283.0        60032.0   \n",
       "377             60708.0                        5089.0        56964.0   \n",
       "\n",
       "    max-combine-insns  \n",
       "0                 NaN  \n",
       "1                 NaN  \n",
       "2                 NaN  \n",
       "3                 NaN  \n",
       "4                 NaN  \n",
       "..                ...  \n",
       "373               2.0  \n",
       "374               3.0  \n",
       "375               2.0  \n",
       "376               3.0  \n",
       "377               2.0  \n",
       "\n",
       "[378 rows x 260 columns]"
      ]
     },
     "execution_count": 9,
     "metadata": {},
     "output_type": "execute_result"
    }
   ],
   "source": [
    "job.dataframe"
   ]
  },
  {
   "cell_type": "code",
   "execution_count": 10,
   "id": "a4ddc892",
   "metadata": {},
   "outputs": [],
   "source": [
    "df = job.dataframe"
   ]
  },
  {
   "cell_type": "code",
   "execution_count": 14,
   "id": "f3fc686e",
   "metadata": {},
   "outputs": [],
   "source": [
    "valid_df = df[df['state'] == ExperimentState.OK]"
   ]
  },
  {
   "cell_type": "code",
   "execution_count": 15,
   "id": "a41e7925",
   "metadata": {},
   "outputs": [
    {
     "data": {
      "text/html": [
       "<div>\n",
       "<style scoped>\n",
       "    .dataframe tbody tr th:only-of-type {\n",
       "        vertical-align: middle;\n",
       "    }\n",
       "\n",
       "    .dataframe tbody tr th {\n",
       "        vertical-align: top;\n",
       "    }\n",
       "\n",
       "    .dataframe thead th {\n",
       "        text-align: right;\n",
       "    }\n",
       "</style>\n",
       "<table border=\"1\" class=\"dataframe\">\n",
       "  <thead>\n",
       "    <tr style=\"text-align: right;\">\n",
       "      <th></th>\n",
       "      <th>id</th>\n",
       "      <th>job_id</th>\n",
       "      <th>state</th>\n",
       "      <th>hash</th>\n",
       "      <th>objective_result</th>\n",
       "      <th>requestor</th>\n",
       "      <th>create_time</th>\n",
       "      <th>finish_time</th>\n",
       "      <th>-O</th>\n",
       "      <th>-faggressive-loop-optimizations</th>\n",
       "      <th>...</th>\n",
       "      <th>align-threshold</th>\n",
       "      <th>avg-loop-niter</th>\n",
       "      <th>fsm-maximum-phi-arguments</th>\n",
       "      <th>fsm-scale-path-blocks</th>\n",
       "      <th>fsm-scale-path-stmts</th>\n",
       "      <th>inline-heuristics-hint-percent</th>\n",
       "      <th>integer-share-limit</th>\n",
       "      <th>lto-max-streaming-parallelism</th>\n",
       "      <th>lto-partitions</th>\n",
       "      <th>max-combine-insns</th>\n",
       "    </tr>\n",
       "  </thead>\n",
       "  <tbody>\n",
       "    <tr>\n",
       "      <th>2</th>\n",
       "      <td>3</td>\n",
       "      <td>4</td>\n",
       "      <td>ExperimentState.OK</td>\n",
       "      <td>ccccc5c4f3d72e8143f6633f5604cdb214c05d43fef15d...</td>\n",
       "      <td>0.288</td>\n",
       "      <td>SkoptBayesianAlgorithm</td>\n",
       "      <td>2022-04-16 18:33:19.112916</td>\n",
       "      <td>2022-04-16 18:33:23.236027</td>\n",
       "      <td>-O3</td>\n",
       "      <td>-faggressive-loop-optimizations</td>\n",
       "      <td>...</td>\n",
       "      <td>NaN</td>\n",
       "      <td>NaN</td>\n",
       "      <td>NaN</td>\n",
       "      <td>NaN</td>\n",
       "      <td>NaN</td>\n",
       "      <td>NaN</td>\n",
       "      <td>NaN</td>\n",
       "      <td>NaN</td>\n",
       "      <td>NaN</td>\n",
       "      <td>NaN</td>\n",
       "    </tr>\n",
       "    <tr>\n",
       "      <th>6</th>\n",
       "      <td>7</td>\n",
       "      <td>4</td>\n",
       "      <td>ExperimentState.OK</td>\n",
       "      <td>25a4cd8cd530dce6e11df97b0b587fd625d1fcf6160d48...</td>\n",
       "      <td>0.151</td>\n",
       "      <td>SkoptBayesianAlgorithm</td>\n",
       "      <td>2022-04-16 18:33:28.126064</td>\n",
       "      <td>2022-04-16 18:33:30.928589</td>\n",
       "      <td>-O3</td>\n",
       "      <td>None</td>\n",
       "      <td>...</td>\n",
       "      <td>NaN</td>\n",
       "      <td>NaN</td>\n",
       "      <td>NaN</td>\n",
       "      <td>NaN</td>\n",
       "      <td>NaN</td>\n",
       "      <td>NaN</td>\n",
       "      <td>NaN</td>\n",
       "      <td>NaN</td>\n",
       "      <td>NaN</td>\n",
       "      <td>NaN</td>\n",
       "    </tr>\n",
       "    <tr>\n",
       "      <th>10</th>\n",
       "      <td>11</td>\n",
       "      <td>4</td>\n",
       "      <td>ExperimentState.OK</td>\n",
       "      <td>babc59b995aadd516e86920fe37d2cf224a5b8409b75c6...</td>\n",
       "      <td>1.048</td>\n",
       "      <td>SkoptBayesianAlgorithm</td>\n",
       "      <td>2022-04-16 18:33:37.897359</td>\n",
       "      <td>2022-04-16 18:33:49.674229</td>\n",
       "      <td>-O0</td>\n",
       "      <td>-faggressive-loop-optimizations</td>\n",
       "      <td>...</td>\n",
       "      <td>NaN</td>\n",
       "      <td>NaN</td>\n",
       "      <td>NaN</td>\n",
       "      <td>NaN</td>\n",
       "      <td>NaN</td>\n",
       "      <td>NaN</td>\n",
       "      <td>NaN</td>\n",
       "      <td>NaN</td>\n",
       "      <td>NaN</td>\n",
       "      <td>NaN</td>\n",
       "    </tr>\n",
       "    <tr>\n",
       "      <th>11</th>\n",
       "      <td>12</td>\n",
       "      <td>4</td>\n",
       "      <td>ExperimentState.OK</td>\n",
       "      <td>ff2b78bc56e515370cba075d34481309b57b779715d61b...</td>\n",
       "      <td>0.169</td>\n",
       "      <td>SkoptBayesianAlgorithm</td>\n",
       "      <td>2022-04-16 18:33:51.485501</td>\n",
       "      <td>2022-04-16 18:33:54.719448</td>\n",
       "      <td>-O1</td>\n",
       "      <td>-faggressive-loop-optimizations</td>\n",
       "      <td>...</td>\n",
       "      <td>NaN</td>\n",
       "      <td>NaN</td>\n",
       "      <td>NaN</td>\n",
       "      <td>NaN</td>\n",
       "      <td>NaN</td>\n",
       "      <td>NaN</td>\n",
       "      <td>NaN</td>\n",
       "      <td>NaN</td>\n",
       "      <td>NaN</td>\n",
       "      <td>NaN</td>\n",
       "    </tr>\n",
       "    <tr>\n",
       "      <th>14</th>\n",
       "      <td>15</td>\n",
       "      <td>4</td>\n",
       "      <td>ExperimentState.OK</td>\n",
       "      <td>e9d4388383617d510ebd3399d4e5d74df99f22e0d9890a...</td>\n",
       "      <td>0.490</td>\n",
       "      <td>SkoptBayesianAlgorithm</td>\n",
       "      <td>2022-04-16 18:34:02.115811</td>\n",
       "      <td>2022-04-16 18:34:08.322903</td>\n",
       "      <td>-O3</td>\n",
       "      <td>-faggressive-loop-optimizations</td>\n",
       "      <td>...</td>\n",
       "      <td>NaN</td>\n",
       "      <td>NaN</td>\n",
       "      <td>NaN</td>\n",
       "      <td>NaN</td>\n",
       "      <td>NaN</td>\n",
       "      <td>NaN</td>\n",
       "      <td>NaN</td>\n",
       "      <td>NaN</td>\n",
       "      <td>NaN</td>\n",
       "      <td>NaN</td>\n",
       "    </tr>\n",
       "    <tr>\n",
       "      <th>...</th>\n",
       "      <td>...</td>\n",
       "      <td>...</td>\n",
       "      <td>...</td>\n",
       "      <td>...</td>\n",
       "      <td>...</td>\n",
       "      <td>...</td>\n",
       "      <td>...</td>\n",
       "      <td>...</td>\n",
       "      <td>...</td>\n",
       "      <td>...</td>\n",
       "      <td>...</td>\n",
       "      <td>...</td>\n",
       "      <td>...</td>\n",
       "      <td>...</td>\n",
       "      <td>...</td>\n",
       "      <td>...</td>\n",
       "      <td>...</td>\n",
       "      <td>...</td>\n",
       "      <td>...</td>\n",
       "      <td>...</td>\n",
       "      <td>...</td>\n",
       "    </tr>\n",
       "    <tr>\n",
       "      <th>369</th>\n",
       "      <td>370</td>\n",
       "      <td>4</td>\n",
       "      <td>ExperimentState.OK</td>\n",
       "      <td>82975de0140ae0bcbc0f1b8a1f8c46becf603ddccdc67c...</td>\n",
       "      <td>0.300</td>\n",
       "      <td>SkoptBayesianAlgorithm</td>\n",
       "      <td>2022-04-16 22:30:32.276099</td>\n",
       "      <td>2022-04-16 22:30:36.510114</td>\n",
       "      <td>-Ofast</td>\n",
       "      <td>-faggressive-loop-optimizations</td>\n",
       "      <td>...</td>\n",
       "      <td>4179.0</td>\n",
       "      <td>48996.0</td>\n",
       "      <td>821369.0</td>\n",
       "      <td>1.0</td>\n",
       "      <td>6.0</td>\n",
       "      <td>49411.0</td>\n",
       "      <td>13617.0</td>\n",
       "      <td>12793.0</td>\n",
       "      <td>11958.0</td>\n",
       "      <td>3.0</td>\n",
       "    </tr>\n",
       "    <tr>\n",
       "      <th>370</th>\n",
       "      <td>371</td>\n",
       "      <td>4</td>\n",
       "      <td>ExperimentState.OK</td>\n",
       "      <td>85e0647f19f696c2d9c6f807e428fdd4da8e08aa08c776...</td>\n",
       "      <td>0.127</td>\n",
       "      <td>SkoptBayesianAlgorithm</td>\n",
       "      <td>2022-04-16 22:30:36.526503</td>\n",
       "      <td>2022-04-16 22:30:38.973382</td>\n",
       "      <td>-O1</td>\n",
       "      <td>-faggressive-loop-optimizations</td>\n",
       "      <td>...</td>\n",
       "      <td>13912.0</td>\n",
       "      <td>45807.0</td>\n",
       "      <td>260192.0</td>\n",
       "      <td>8.0</td>\n",
       "      <td>7.0</td>\n",
       "      <td>589602.0</td>\n",
       "      <td>33836.0</td>\n",
       "      <td>42887.0</td>\n",
       "      <td>41157.0</td>\n",
       "      <td>2.0</td>\n",
       "    </tr>\n",
       "    <tr>\n",
       "      <th>371</th>\n",
       "      <td>372</td>\n",
       "      <td>4</td>\n",
       "      <td>ExperimentState.OK</td>\n",
       "      <td>18ae88eadce0d7345e070de3a3fe59de8b8034b000a956...</td>\n",
       "      <td>1.426</td>\n",
       "      <td>SkoptBayesianAlgorithm</td>\n",
       "      <td>2022-04-16 22:30:38.989901</td>\n",
       "      <td>2022-04-16 22:30:54.361518</td>\n",
       "      <td>-O0</td>\n",
       "      <td>-faggressive-loop-optimizations</td>\n",
       "      <td>...</td>\n",
       "      <td>42464.0</td>\n",
       "      <td>34105.0</td>\n",
       "      <td>847418.0</td>\n",
       "      <td>5.0</td>\n",
       "      <td>4.0</td>\n",
       "      <td>872614.0</td>\n",
       "      <td>55294.0</td>\n",
       "      <td>50640.0</td>\n",
       "      <td>47635.0</td>\n",
       "      <td>4.0</td>\n",
       "    </tr>\n",
       "    <tr>\n",
       "      <th>373</th>\n",
       "      <td>374</td>\n",
       "      <td>4</td>\n",
       "      <td>ExperimentState.OK</td>\n",
       "      <td>495970a28a1230b186ed345c3376e9a69452a46cc7fb45...</td>\n",
       "      <td>0.139</td>\n",
       "      <td>SkoptBayesianAlgorithm</td>\n",
       "      <td>2022-04-16 22:30:55.519079</td>\n",
       "      <td>2022-04-16 22:30:58.052279</td>\n",
       "      <td>-O2</td>\n",
       "      <td>-fno-aggressive-loop-optimizations</td>\n",
       "      <td>...</td>\n",
       "      <td>29998.0</td>\n",
       "      <td>53509.0</td>\n",
       "      <td>307591.0</td>\n",
       "      <td>7.0</td>\n",
       "      <td>1.0</td>\n",
       "      <td>461025.0</td>\n",
       "      <td>38907.0</td>\n",
       "      <td>14187.0</td>\n",
       "      <td>33399.0</td>\n",
       "      <td>2.0</td>\n",
       "    </tr>\n",
       "    <tr>\n",
       "      <th>376</th>\n",
       "      <td>377</td>\n",
       "      <td>4</td>\n",
       "      <td>ExperimentState.OK</td>\n",
       "      <td>04dfb428a380890481d1e7b962b469360a5bf109918aa2...</td>\n",
       "      <td>0.441</td>\n",
       "      <td>SkoptBayesianAlgorithm</td>\n",
       "      <td>2022-04-16 22:31:00.051416</td>\n",
       "      <td>2022-04-16 22:31:05.794259</td>\n",
       "      <td>-O1</td>\n",
       "      <td>-faggressive-loop-optimizations</td>\n",
       "      <td>...</td>\n",
       "      <td>11787.0</td>\n",
       "      <td>57969.0</td>\n",
       "      <td>283359.0</td>\n",
       "      <td>6.0</td>\n",
       "      <td>4.0</td>\n",
       "      <td>303671.0</td>\n",
       "      <td>36333.0</td>\n",
       "      <td>10283.0</td>\n",
       "      <td>60032.0</td>\n",
       "      <td>3.0</td>\n",
       "    </tr>\n",
       "  </tbody>\n",
       "</table>\n",
       "<p>260 rows × 260 columns</p>\n",
       "</div>"
      ],
      "text/plain": [
       "      id  job_id               state  \\\n",
       "2      3       4  ExperimentState.OK   \n",
       "6      7       4  ExperimentState.OK   \n",
       "10    11       4  ExperimentState.OK   \n",
       "11    12       4  ExperimentState.OK   \n",
       "14    15       4  ExperimentState.OK   \n",
       "..   ...     ...                 ...   \n",
       "369  370       4  ExperimentState.OK   \n",
       "370  371       4  ExperimentState.OK   \n",
       "371  372       4  ExperimentState.OK   \n",
       "373  374       4  ExperimentState.OK   \n",
       "376  377       4  ExperimentState.OK   \n",
       "\n",
       "                                                  hash  objective_result  \\\n",
       "2    ccccc5c4f3d72e8143f6633f5604cdb214c05d43fef15d...             0.288   \n",
       "6    25a4cd8cd530dce6e11df97b0b587fd625d1fcf6160d48...             0.151   \n",
       "10   babc59b995aadd516e86920fe37d2cf224a5b8409b75c6...             1.048   \n",
       "11   ff2b78bc56e515370cba075d34481309b57b779715d61b...             0.169   \n",
       "14   e9d4388383617d510ebd3399d4e5d74df99f22e0d9890a...             0.490   \n",
       "..                                                 ...               ...   \n",
       "369  82975de0140ae0bcbc0f1b8a1f8c46becf603ddccdc67c...             0.300   \n",
       "370  85e0647f19f696c2d9c6f807e428fdd4da8e08aa08c776...             0.127   \n",
       "371  18ae88eadce0d7345e070de3a3fe59de8b8034b000a956...             1.426   \n",
       "373  495970a28a1230b186ed345c3376e9a69452a46cc7fb45...             0.139   \n",
       "376  04dfb428a380890481d1e7b962b469360a5bf109918aa2...             0.441   \n",
       "\n",
       "                  requestor                create_time  \\\n",
       "2    SkoptBayesianAlgorithm 2022-04-16 18:33:19.112916   \n",
       "6    SkoptBayesianAlgorithm 2022-04-16 18:33:28.126064   \n",
       "10   SkoptBayesianAlgorithm 2022-04-16 18:33:37.897359   \n",
       "11   SkoptBayesianAlgorithm 2022-04-16 18:33:51.485501   \n",
       "14   SkoptBayesianAlgorithm 2022-04-16 18:34:02.115811   \n",
       "..                      ...                        ...   \n",
       "369  SkoptBayesianAlgorithm 2022-04-16 22:30:32.276099   \n",
       "370  SkoptBayesianAlgorithm 2022-04-16 22:30:36.526503   \n",
       "371  SkoptBayesianAlgorithm 2022-04-16 22:30:38.989901   \n",
       "373  SkoptBayesianAlgorithm 2022-04-16 22:30:55.519079   \n",
       "376  SkoptBayesianAlgorithm 2022-04-16 22:31:00.051416   \n",
       "\n",
       "                   finish_time      -O     -faggressive-loop-optimizations  \\\n",
       "2   2022-04-16 18:33:23.236027     -O3     -faggressive-loop-optimizations   \n",
       "6   2022-04-16 18:33:30.928589     -O3                                None   \n",
       "10  2022-04-16 18:33:49.674229     -O0     -faggressive-loop-optimizations   \n",
       "11  2022-04-16 18:33:54.719448     -O1     -faggressive-loop-optimizations   \n",
       "14  2022-04-16 18:34:08.322903     -O3     -faggressive-loop-optimizations   \n",
       "..                         ...     ...                                 ...   \n",
       "369 2022-04-16 22:30:36.510114  -Ofast     -faggressive-loop-optimizations   \n",
       "370 2022-04-16 22:30:38.973382     -O1     -faggressive-loop-optimizations   \n",
       "371 2022-04-16 22:30:54.361518     -O0     -faggressive-loop-optimizations   \n",
       "373 2022-04-16 22:30:58.052279     -O2  -fno-aggressive-loop-optimizations   \n",
       "376 2022-04-16 22:31:05.794259     -O1     -faggressive-loop-optimizations   \n",
       "\n",
       "     ... align-threshold avg-loop-niter fsm-maximum-phi-arguments  \\\n",
       "2    ...             NaN            NaN                       NaN   \n",
       "6    ...             NaN            NaN                       NaN   \n",
       "10   ...             NaN            NaN                       NaN   \n",
       "11   ...             NaN            NaN                       NaN   \n",
       "14   ...             NaN            NaN                       NaN   \n",
       "..   ...             ...            ...                       ...   \n",
       "369  ...          4179.0        48996.0                  821369.0   \n",
       "370  ...         13912.0        45807.0                  260192.0   \n",
       "371  ...         42464.0        34105.0                  847418.0   \n",
       "373  ...         29998.0        53509.0                  307591.0   \n",
       "376  ...         11787.0        57969.0                  283359.0   \n",
       "\n",
       "    fsm-scale-path-blocks fsm-scale-path-stmts inline-heuristics-hint-percent  \\\n",
       "2                     NaN                  NaN                            NaN   \n",
       "6                     NaN                  NaN                            NaN   \n",
       "10                    NaN                  NaN                            NaN   \n",
       "11                    NaN                  NaN                            NaN   \n",
       "14                    NaN                  NaN                            NaN   \n",
       "..                    ...                  ...                            ...   \n",
       "369                   1.0                  6.0                        49411.0   \n",
       "370                   8.0                  7.0                       589602.0   \n",
       "371                   5.0                  4.0                       872614.0   \n",
       "373                   7.0                  1.0                       461025.0   \n",
       "376                   6.0                  4.0                       303671.0   \n",
       "\n",
       "    integer-share-limit lto-max-streaming-parallelism lto-partitions  \\\n",
       "2                   NaN                           NaN            NaN   \n",
       "6                   NaN                           NaN            NaN   \n",
       "10                  NaN                           NaN            NaN   \n",
       "11                  NaN                           NaN            NaN   \n",
       "14                  NaN                           NaN            NaN   \n",
       "..                  ...                           ...            ...   \n",
       "369             13617.0                       12793.0        11958.0   \n",
       "370             33836.0                       42887.0        41157.0   \n",
       "371             55294.0                       50640.0        47635.0   \n",
       "373             38907.0                       14187.0        33399.0   \n",
       "376             36333.0                       10283.0        60032.0   \n",
       "\n",
       "    max-combine-insns  \n",
       "2                 NaN  \n",
       "6                 NaN  \n",
       "10                NaN  \n",
       "11                NaN  \n",
       "14                NaN  \n",
       "..                ...  \n",
       "369               3.0  \n",
       "370               2.0  \n",
       "371               4.0  \n",
       "373               2.0  \n",
       "376               3.0  \n",
       "\n",
       "[260 rows x 260 columns]"
      ]
     },
     "execution_count": 15,
     "metadata": {},
     "output_type": "execute_result"
    }
   ],
   "source": [
    "valid_df"
   ]
  },
  {
   "cell_type": "code",
   "execution_count": 25,
   "id": "f2427138",
   "metadata": {},
   "outputs": [
    {
     "name": "stdout",
     "output_type": "stream",
     "text": [
      "Empty DataFrame\n",
      "Columns: [finish_time, objective_result, std]\n",
      "Index: []\n"
     ]
    },
    {
     "name": "stderr",
     "output_type": "stream",
     "text": [
      "/var/folders/gp/1qc74rb50b9cp66q8cxshnwh0000gn/T/ipykernel_69179/390794594.py:12: FutureWarning:\n",
      "\n",
      "The frame.append method is deprecated and will be removed from pandas in a future version. Use pandas.concat instead.\n",
      "\n",
      "/var/folders/gp/1qc74rb50b9cp66q8cxshnwh0000gn/T/ipykernel_69179/390794594.py:12: FutureWarning:\n",
      "\n",
      "The frame.append method is deprecated and will be removed from pandas in a future version. Use pandas.concat instead.\n",
      "\n",
      "/var/folders/gp/1qc74rb50b9cp66q8cxshnwh0000gn/T/ipykernel_69179/390794594.py:12: FutureWarning:\n",
      "\n",
      "The frame.append method is deprecated and will be removed from pandas in a future version. Use pandas.concat instead.\n",
      "\n",
      "/var/folders/gp/1qc74rb50b9cp66q8cxshnwh0000gn/T/ipykernel_69179/390794594.py:12: FutureWarning:\n",
      "\n",
      "The frame.append method is deprecated and will be removed from pandas in a future version. Use pandas.concat instead.\n",
      "\n",
      "/var/folders/gp/1qc74rb50b9cp66q8cxshnwh0000gn/T/ipykernel_69179/390794594.py:12: FutureWarning:\n",
      "\n",
      "The frame.append method is deprecated and will be removed from pandas in a future version. Use pandas.concat instead.\n",
      "\n",
      "/var/folders/gp/1qc74rb50b9cp66q8cxshnwh0000gn/T/ipykernel_69179/390794594.py:12: FutureWarning:\n",
      "\n",
      "The frame.append method is deprecated and will be removed from pandas in a future version. Use pandas.concat instead.\n",
      "\n",
      "/var/folders/gp/1qc74rb50b9cp66q8cxshnwh0000gn/T/ipykernel_69179/390794594.py:12: FutureWarning:\n",
      "\n",
      "The frame.append method is deprecated and will be removed from pandas in a future version. Use pandas.concat instead.\n",
      "\n"
     ]
    }
   ],
   "source": [
    "import pandas as pd\n",
    "\n",
    "ddf = pd.DataFrame(columns=['finish_time', 'objective_result', 'std'])\n",
    "\n",
    "print(ddf)\n",
    "\n",
    "minima = 1e100\n",
    "\n",
    "for index, rows in valid_df.iterrows():\n",
    "    if rows['objective_result'] <= minima:\n",
    "        minima = rows['objective_result']\n",
    "        ddf = ddf.append({'finish_time': rows['finish_time'],\n",
    "             'objective_result': rows['objective_result'],\n",
    "             'std': rows['std']}, ignore_index=True)"
   ]
  },
  {
   "cell_type": "code",
   "execution_count": 26,
   "id": "690f7dff",
   "metadata": {},
   "outputs": [
    {
     "data": {
      "text/html": [
       "<div>\n",
       "<style scoped>\n",
       "    .dataframe tbody tr th:only-of-type {\n",
       "        vertical-align: middle;\n",
       "    }\n",
       "\n",
       "    .dataframe tbody tr th {\n",
       "        vertical-align: top;\n",
       "    }\n",
       "\n",
       "    .dataframe thead th {\n",
       "        text-align: right;\n",
       "    }\n",
       "</style>\n",
       "<table border=\"1\" class=\"dataframe\">\n",
       "  <thead>\n",
       "    <tr style=\"text-align: right;\">\n",
       "      <th></th>\n",
       "      <th>finish_time</th>\n",
       "      <th>objective_result</th>\n",
       "      <th>std</th>\n",
       "    </tr>\n",
       "  </thead>\n",
       "  <tbody>\n",
       "    <tr>\n",
       "      <th>0</th>\n",
       "      <td>2022-04-16 18:33:23.236027</td>\n",
       "      <td>0.288</td>\n",
       "      <td>0.054</td>\n",
       "    </tr>\n",
       "    <tr>\n",
       "      <th>1</th>\n",
       "      <td>2022-04-16 18:33:30.928589</td>\n",
       "      <td>0.151</td>\n",
       "      <td>0.056471</td>\n",
       "    </tr>\n",
       "    <tr>\n",
       "      <th>2</th>\n",
       "      <td>2022-04-16 18:35:17.240363</td>\n",
       "      <td>0.133</td>\n",
       "      <td>0.055866</td>\n",
       "    </tr>\n",
       "    <tr>\n",
       "      <th>3</th>\n",
       "      <td>2022-04-16 18:35:21.466644</td>\n",
       "      <td>0.128</td>\n",
       "      <td>0.054</td>\n",
       "    </tr>\n",
       "    <tr>\n",
       "      <th>4</th>\n",
       "      <td>2022-04-16 18:35:43.514362</td>\n",
       "      <td>0.128</td>\n",
       "      <td>0.054</td>\n",
       "    </tr>\n",
       "    <tr>\n",
       "      <th>5</th>\n",
       "      <td>2022-04-16 18:42:12.209783</td>\n",
       "      <td>0.119</td>\n",
       "      <td>0.057</td>\n",
       "    </tr>\n",
       "    <tr>\n",
       "      <th>6</th>\n",
       "      <td>2022-04-16 20:48:54.899843</td>\n",
       "      <td>0.113</td>\n",
       "      <td>0.026096</td>\n",
       "    </tr>\n",
       "  </tbody>\n",
       "</table>\n",
       "</div>"
      ],
      "text/plain": [
       "                  finish_time objective_result       std\n",
       "0  2022-04-16 18:33:23.236027            0.288     0.054\n",
       "1  2022-04-16 18:33:30.928589            0.151  0.056471\n",
       "2  2022-04-16 18:35:17.240363            0.133  0.055866\n",
       "3  2022-04-16 18:35:21.466644            0.128     0.054\n",
       "4  2022-04-16 18:35:43.514362            0.128     0.054\n",
       "5  2022-04-16 18:42:12.209783            0.119     0.057\n",
       "6  2022-04-16 20:48:54.899843            0.113  0.026096"
      ]
     },
     "execution_count": 26,
     "metadata": {},
     "output_type": "execute_result"
    }
   ],
   "source": [
    "import plotly.graph_objects as go\n",
    "ddf"
   ]
  },
  {
   "cell_type": "code",
   "execution_count": 67,
   "id": "3649df9a",
   "metadata": {},
   "outputs": [
    {
     "data": {
      "application/vnd.plotly.v1+json": {
       "config": {
        "plotlyServerURL": "https://plot.ly"
       },
       "data": [
        {
         "error_y": {
          "array": [
           0.05399999999999999,
           0.05647123161398201,
           0.05586591089385368,
           0.05399999999999999,
           0.05399999999999999,
           0.056999999999999995,
           0.026095976701399775
          ],
          "type": "data",
          "visible": true
         },
         "name": "Time",
         "type": "scatter",
         "x": [
          "2022-04-16T18:33:23.236027",
          "2022-04-16T18:33:30.928589",
          "2022-04-16T18:35:17.240363",
          "2022-04-16T18:35:21.466644",
          "2022-04-16T18:35:43.514362",
          "2022-04-16T18:42:12.209783",
          "2022-04-16T20:48:54.899843"
         ],
         "y": [
          0.288,
          0.15100000000000002,
          0.13299999999999998,
          0.12800000000000003,
          0.12800000000000003,
          0.11900000000000002,
          0.11300000000000002
         ]
        },
        {
         "line": {
          "color": "green",
          "dash": "dashdot",
          "width": 2
         },
         "name": "gcc -O3",
         "type": "scatter",
         "x": [
          "2022-04-16T18:33:23.236027",
          "2022-04-16T20:48:54.899843"
         ],
         "y": [
          0.15599999999999997,
          0.15599999999999997
         ]
        },
        {
         "line": {
          "color": "red",
          "dash": "dashdot",
          "width": 2
         },
         "name": "gcc -O2",
         "type": "scatter",
         "x": [
          "2022-04-16T18:33:23.236027",
          "2022-04-16T20:48:54.899843"
         ],
         "y": [
          0.13999999999999999,
          0.13999999999999999
         ]
        },
        {
         "line": {
          "color": "black",
          "dash": "dashdot",
          "width": 2
         },
         "name": "gcc -O1",
         "type": "scatter",
         "x": [
          "2022-04-16T18:33:23.236027",
          "2022-04-16T20:48:54.899843"
         ],
         "y": [
          0.168,
          0.168
         ]
        }
       ],
       "layout": {
        "template": {
         "data": {
          "bar": [
           {
            "error_x": {
             "color": "#2a3f5f"
            },
            "error_y": {
             "color": "#2a3f5f"
            },
            "marker": {
             "line": {
              "color": "#E5ECF6",
              "width": 0.5
             },
             "pattern": {
              "fillmode": "overlay",
              "size": 10,
              "solidity": 0.2
             }
            },
            "type": "bar"
           }
          ],
          "barpolar": [
           {
            "marker": {
             "line": {
              "color": "#E5ECF6",
              "width": 0.5
             },
             "pattern": {
              "fillmode": "overlay",
              "size": 10,
              "solidity": 0.2
             }
            },
            "type": "barpolar"
           }
          ],
          "carpet": [
           {
            "aaxis": {
             "endlinecolor": "#2a3f5f",
             "gridcolor": "white",
             "linecolor": "white",
             "minorgridcolor": "white",
             "startlinecolor": "#2a3f5f"
            },
            "baxis": {
             "endlinecolor": "#2a3f5f",
             "gridcolor": "white",
             "linecolor": "white",
             "minorgridcolor": "white",
             "startlinecolor": "#2a3f5f"
            },
            "type": "carpet"
           }
          ],
          "choropleth": [
           {
            "colorbar": {
             "outlinewidth": 0,
             "ticks": ""
            },
            "type": "choropleth"
           }
          ],
          "contour": [
           {
            "colorbar": {
             "outlinewidth": 0,
             "ticks": ""
            },
            "colorscale": [
             [
              0,
              "#0d0887"
             ],
             [
              0.1111111111111111,
              "#46039f"
             ],
             [
              0.2222222222222222,
              "#7201a8"
             ],
             [
              0.3333333333333333,
              "#9c179e"
             ],
             [
              0.4444444444444444,
              "#bd3786"
             ],
             [
              0.5555555555555556,
              "#d8576b"
             ],
             [
              0.6666666666666666,
              "#ed7953"
             ],
             [
              0.7777777777777778,
              "#fb9f3a"
             ],
             [
              0.8888888888888888,
              "#fdca26"
             ],
             [
              1,
              "#f0f921"
             ]
            ],
            "type": "contour"
           }
          ],
          "contourcarpet": [
           {
            "colorbar": {
             "outlinewidth": 0,
             "ticks": ""
            },
            "type": "contourcarpet"
           }
          ],
          "heatmap": [
           {
            "colorbar": {
             "outlinewidth": 0,
             "ticks": ""
            },
            "colorscale": [
             [
              0,
              "#0d0887"
             ],
             [
              0.1111111111111111,
              "#46039f"
             ],
             [
              0.2222222222222222,
              "#7201a8"
             ],
             [
              0.3333333333333333,
              "#9c179e"
             ],
             [
              0.4444444444444444,
              "#bd3786"
             ],
             [
              0.5555555555555556,
              "#d8576b"
             ],
             [
              0.6666666666666666,
              "#ed7953"
             ],
             [
              0.7777777777777778,
              "#fb9f3a"
             ],
             [
              0.8888888888888888,
              "#fdca26"
             ],
             [
              1,
              "#f0f921"
             ]
            ],
            "type": "heatmap"
           }
          ],
          "heatmapgl": [
           {
            "colorbar": {
             "outlinewidth": 0,
             "ticks": ""
            },
            "colorscale": [
             [
              0,
              "#0d0887"
             ],
             [
              0.1111111111111111,
              "#46039f"
             ],
             [
              0.2222222222222222,
              "#7201a8"
             ],
             [
              0.3333333333333333,
              "#9c179e"
             ],
             [
              0.4444444444444444,
              "#bd3786"
             ],
             [
              0.5555555555555556,
              "#d8576b"
             ],
             [
              0.6666666666666666,
              "#ed7953"
             ],
             [
              0.7777777777777778,
              "#fb9f3a"
             ],
             [
              0.8888888888888888,
              "#fdca26"
             ],
             [
              1,
              "#f0f921"
             ]
            ],
            "type": "heatmapgl"
           }
          ],
          "histogram": [
           {
            "marker": {
             "pattern": {
              "fillmode": "overlay",
              "size": 10,
              "solidity": 0.2
             }
            },
            "type": "histogram"
           }
          ],
          "histogram2d": [
           {
            "colorbar": {
             "outlinewidth": 0,
             "ticks": ""
            },
            "colorscale": [
             [
              0,
              "#0d0887"
             ],
             [
              0.1111111111111111,
              "#46039f"
             ],
             [
              0.2222222222222222,
              "#7201a8"
             ],
             [
              0.3333333333333333,
              "#9c179e"
             ],
             [
              0.4444444444444444,
              "#bd3786"
             ],
             [
              0.5555555555555556,
              "#d8576b"
             ],
             [
              0.6666666666666666,
              "#ed7953"
             ],
             [
              0.7777777777777778,
              "#fb9f3a"
             ],
             [
              0.8888888888888888,
              "#fdca26"
             ],
             [
              1,
              "#f0f921"
             ]
            ],
            "type": "histogram2d"
           }
          ],
          "histogram2dcontour": [
           {
            "colorbar": {
             "outlinewidth": 0,
             "ticks": ""
            },
            "colorscale": [
             [
              0,
              "#0d0887"
             ],
             [
              0.1111111111111111,
              "#46039f"
             ],
             [
              0.2222222222222222,
              "#7201a8"
             ],
             [
              0.3333333333333333,
              "#9c179e"
             ],
             [
              0.4444444444444444,
              "#bd3786"
             ],
             [
              0.5555555555555556,
              "#d8576b"
             ],
             [
              0.6666666666666666,
              "#ed7953"
             ],
             [
              0.7777777777777778,
              "#fb9f3a"
             ],
             [
              0.8888888888888888,
              "#fdca26"
             ],
             [
              1,
              "#f0f921"
             ]
            ],
            "type": "histogram2dcontour"
           }
          ],
          "mesh3d": [
           {
            "colorbar": {
             "outlinewidth": 0,
             "ticks": ""
            },
            "type": "mesh3d"
           }
          ],
          "parcoords": [
           {
            "line": {
             "colorbar": {
              "outlinewidth": 0,
              "ticks": ""
             }
            },
            "type": "parcoords"
           }
          ],
          "pie": [
           {
            "automargin": true,
            "type": "pie"
           }
          ],
          "scatter": [
           {
            "fillpattern": {
             "fillmode": "overlay",
             "size": 10,
             "solidity": 0.2
            },
            "type": "scatter"
           }
          ],
          "scatter3d": [
           {
            "line": {
             "colorbar": {
              "outlinewidth": 0,
              "ticks": ""
             }
            },
            "marker": {
             "colorbar": {
              "outlinewidth": 0,
              "ticks": ""
             }
            },
            "type": "scatter3d"
           }
          ],
          "scattercarpet": [
           {
            "marker": {
             "colorbar": {
              "outlinewidth": 0,
              "ticks": ""
             }
            },
            "type": "scattercarpet"
           }
          ],
          "scattergeo": [
           {
            "marker": {
             "colorbar": {
              "outlinewidth": 0,
              "ticks": ""
             }
            },
            "type": "scattergeo"
           }
          ],
          "scattergl": [
           {
            "marker": {
             "colorbar": {
              "outlinewidth": 0,
              "ticks": ""
             }
            },
            "type": "scattergl"
           }
          ],
          "scattermapbox": [
           {
            "marker": {
             "colorbar": {
              "outlinewidth": 0,
              "ticks": ""
             }
            },
            "type": "scattermapbox"
           }
          ],
          "scatterpolar": [
           {
            "marker": {
             "colorbar": {
              "outlinewidth": 0,
              "ticks": ""
             }
            },
            "type": "scatterpolar"
           }
          ],
          "scatterpolargl": [
           {
            "marker": {
             "colorbar": {
              "outlinewidth": 0,
              "ticks": ""
             }
            },
            "type": "scatterpolargl"
           }
          ],
          "scatterternary": [
           {
            "marker": {
             "colorbar": {
              "outlinewidth": 0,
              "ticks": ""
             }
            },
            "type": "scatterternary"
           }
          ],
          "surface": [
           {
            "colorbar": {
             "outlinewidth": 0,
             "ticks": ""
            },
            "colorscale": [
             [
              0,
              "#0d0887"
             ],
             [
              0.1111111111111111,
              "#46039f"
             ],
             [
              0.2222222222222222,
              "#7201a8"
             ],
             [
              0.3333333333333333,
              "#9c179e"
             ],
             [
              0.4444444444444444,
              "#bd3786"
             ],
             [
              0.5555555555555556,
              "#d8576b"
             ],
             [
              0.6666666666666666,
              "#ed7953"
             ],
             [
              0.7777777777777778,
              "#fb9f3a"
             ],
             [
              0.8888888888888888,
              "#fdca26"
             ],
             [
              1,
              "#f0f921"
             ]
            ],
            "type": "surface"
           }
          ],
          "table": [
           {
            "cells": {
             "fill": {
              "color": "#EBF0F8"
             },
             "line": {
              "color": "white"
             }
            },
            "header": {
             "fill": {
              "color": "#C8D4E3"
             },
             "line": {
              "color": "white"
             }
            },
            "type": "table"
           }
          ]
         },
         "layout": {
          "annotationdefaults": {
           "arrowcolor": "#2a3f5f",
           "arrowhead": 0,
           "arrowwidth": 1
          },
          "autotypenumbers": "strict",
          "coloraxis": {
           "colorbar": {
            "outlinewidth": 0,
            "ticks": ""
           }
          },
          "colorscale": {
           "diverging": [
            [
             0,
             "#8e0152"
            ],
            [
             0.1,
             "#c51b7d"
            ],
            [
             0.2,
             "#de77ae"
            ],
            [
             0.3,
             "#f1b6da"
            ],
            [
             0.4,
             "#fde0ef"
            ],
            [
             0.5,
             "#f7f7f7"
            ],
            [
             0.6,
             "#e6f5d0"
            ],
            [
             0.7,
             "#b8e186"
            ],
            [
             0.8,
             "#7fbc41"
            ],
            [
             0.9,
             "#4d9221"
            ],
            [
             1,
             "#276419"
            ]
           ],
           "sequential": [
            [
             0,
             "#0d0887"
            ],
            [
             0.1111111111111111,
             "#46039f"
            ],
            [
             0.2222222222222222,
             "#7201a8"
            ],
            [
             0.3333333333333333,
             "#9c179e"
            ],
            [
             0.4444444444444444,
             "#bd3786"
            ],
            [
             0.5555555555555556,
             "#d8576b"
            ],
            [
             0.6666666666666666,
             "#ed7953"
            ],
            [
             0.7777777777777778,
             "#fb9f3a"
            ],
            [
             0.8888888888888888,
             "#fdca26"
            ],
            [
             1,
             "#f0f921"
            ]
           ],
           "sequentialminus": [
            [
             0,
             "#0d0887"
            ],
            [
             0.1111111111111111,
             "#46039f"
            ],
            [
             0.2222222222222222,
             "#7201a8"
            ],
            [
             0.3333333333333333,
             "#9c179e"
            ],
            [
             0.4444444444444444,
             "#bd3786"
            ],
            [
             0.5555555555555556,
             "#d8576b"
            ],
            [
             0.6666666666666666,
             "#ed7953"
            ],
            [
             0.7777777777777778,
             "#fb9f3a"
            ],
            [
             0.8888888888888888,
             "#fdca26"
            ],
            [
             1,
             "#f0f921"
            ]
           ]
          },
          "colorway": [
           "#636efa",
           "#EF553B",
           "#00cc96",
           "#ab63fa",
           "#FFA15A",
           "#19d3f3",
           "#FF6692",
           "#B6E880",
           "#FF97FF",
           "#FECB52"
          ],
          "font": {
           "color": "#2a3f5f"
          },
          "geo": {
           "bgcolor": "white",
           "lakecolor": "white",
           "landcolor": "#E5ECF6",
           "showlakes": true,
           "showland": true,
           "subunitcolor": "white"
          },
          "hoverlabel": {
           "align": "left"
          },
          "hovermode": "closest",
          "mapbox": {
           "style": "light"
          },
          "paper_bgcolor": "white",
          "plot_bgcolor": "#E5ECF6",
          "polar": {
           "angularaxis": {
            "gridcolor": "white",
            "linecolor": "white",
            "ticks": ""
           },
           "bgcolor": "#E5ECF6",
           "radialaxis": {
            "gridcolor": "white",
            "linecolor": "white",
            "ticks": ""
           }
          },
          "scene": {
           "xaxis": {
            "backgroundcolor": "#E5ECF6",
            "gridcolor": "white",
            "gridwidth": 2,
            "linecolor": "white",
            "showbackground": true,
            "ticks": "",
            "zerolinecolor": "white"
           },
           "yaxis": {
            "backgroundcolor": "#E5ECF6",
            "gridcolor": "white",
            "gridwidth": 2,
            "linecolor": "white",
            "showbackground": true,
            "ticks": "",
            "zerolinecolor": "white"
           },
           "zaxis": {
            "backgroundcolor": "#E5ECF6",
            "gridcolor": "white",
            "gridwidth": 2,
            "linecolor": "white",
            "showbackground": true,
            "ticks": "",
            "zerolinecolor": "white"
           }
          },
          "shapedefaults": {
           "line": {
            "color": "#2a3f5f"
           }
          },
          "ternary": {
           "aaxis": {
            "gridcolor": "white",
            "linecolor": "white",
            "ticks": ""
           },
           "baxis": {
            "gridcolor": "white",
            "linecolor": "white",
            "ticks": ""
           },
           "bgcolor": "#E5ECF6",
           "caxis": {
            "gridcolor": "white",
            "linecolor": "white",
            "ticks": ""
           }
          },
          "title": {
           "x": 0.05
          },
          "xaxis": {
           "automargin": true,
           "gridcolor": "white",
           "linecolor": "white",
           "ticks": "",
           "title": {
            "standoff": 15
           },
           "zerolinecolor": "white",
           "zerolinewidth": 2
          },
          "yaxis": {
           "automargin": true,
           "gridcolor": "white",
           "linecolor": "white",
           "ticks": "",
           "title": {
            "standoff": 15
           },
           "zerolinecolor": "white",
           "zerolinewidth": 2
          }
         }
        }
       }
      },
      "text/html": [
       "<div>                            <div id=\"585e021d-c825-47d1-bb32-130abf070db3\" class=\"plotly-graph-div\" style=\"height:525px; width:100%;\"></div>            <script type=\"text/javascript\">                require([\"plotly\"], function(Plotly) {                    window.PLOTLYENV=window.PLOTLYENV || {};                                    if (document.getElementById(\"585e021d-c825-47d1-bb32-130abf070db3\")) {                    Plotly.newPlot(                        \"585e021d-c825-47d1-bb32-130abf070db3\",                        [{\"error_y\":{\"array\":[0.05399999999999999,0.05647123161398201,0.05586591089385368,0.05399999999999999,0.05399999999999999,0.056999999999999995,0.026095976701399775],\"type\":\"data\",\"visible\":true},\"name\":\"Time\",\"x\":[\"2022-04-16T18:33:23.236027\",\"2022-04-16T18:33:30.928589\",\"2022-04-16T18:35:17.240363\",\"2022-04-16T18:35:21.466644\",\"2022-04-16T18:35:43.514362\",\"2022-04-16T18:42:12.209783\",\"2022-04-16T20:48:54.899843\"],\"y\":[0.288,0.15100000000000002,0.13299999999999998,0.12800000000000003,0.12800000000000003,0.11900000000000002,0.11300000000000002],\"type\":\"scatter\"},{\"line\":{\"color\":\"green\",\"dash\":\"dashdot\",\"width\":2},\"name\":\"gcc -O3\",\"x\":[\"2022-04-16T18:33:23.236027\",\"2022-04-16T20:48:54.899843\"],\"y\":[0.15599999999999997,0.15599999999999997],\"type\":\"scatter\"},{\"line\":{\"color\":\"red\",\"dash\":\"dashdot\",\"width\":2},\"name\":\"gcc -O2\",\"x\":[\"2022-04-16T18:33:23.236027\",\"2022-04-16T20:48:54.899843\"],\"y\":[0.13999999999999999,0.13999999999999999],\"type\":\"scatter\"},{\"line\":{\"color\":\"black\",\"dash\":\"dashdot\",\"width\":2},\"name\":\"gcc -O1\",\"x\":[\"2022-04-16T18:33:23.236027\",\"2022-04-16T20:48:54.899843\"],\"y\":[0.168,0.168],\"type\":\"scatter\"}],                        {\"template\":{\"data\":{\"histogram2dcontour\":[{\"type\":\"histogram2dcontour\",\"colorbar\":{\"outlinewidth\":0,\"ticks\":\"\"},\"colorscale\":[[0.0,\"#0d0887\"],[0.1111111111111111,\"#46039f\"],[0.2222222222222222,\"#7201a8\"],[0.3333333333333333,\"#9c179e\"],[0.4444444444444444,\"#bd3786\"],[0.5555555555555556,\"#d8576b\"],[0.6666666666666666,\"#ed7953\"],[0.7777777777777778,\"#fb9f3a\"],[0.8888888888888888,\"#fdca26\"],[1.0,\"#f0f921\"]]}],\"choropleth\":[{\"type\":\"choropleth\",\"colorbar\":{\"outlinewidth\":0,\"ticks\":\"\"}}],\"histogram2d\":[{\"type\":\"histogram2d\",\"colorbar\":{\"outlinewidth\":0,\"ticks\":\"\"},\"colorscale\":[[0.0,\"#0d0887\"],[0.1111111111111111,\"#46039f\"],[0.2222222222222222,\"#7201a8\"],[0.3333333333333333,\"#9c179e\"],[0.4444444444444444,\"#bd3786\"],[0.5555555555555556,\"#d8576b\"],[0.6666666666666666,\"#ed7953\"],[0.7777777777777778,\"#fb9f3a\"],[0.8888888888888888,\"#fdca26\"],[1.0,\"#f0f921\"]]}],\"heatmap\":[{\"type\":\"heatmap\",\"colorbar\":{\"outlinewidth\":0,\"ticks\":\"\"},\"colorscale\":[[0.0,\"#0d0887\"],[0.1111111111111111,\"#46039f\"],[0.2222222222222222,\"#7201a8\"],[0.3333333333333333,\"#9c179e\"],[0.4444444444444444,\"#bd3786\"],[0.5555555555555556,\"#d8576b\"],[0.6666666666666666,\"#ed7953\"],[0.7777777777777778,\"#fb9f3a\"],[0.8888888888888888,\"#fdca26\"],[1.0,\"#f0f921\"]]}],\"heatmapgl\":[{\"type\":\"heatmapgl\",\"colorbar\":{\"outlinewidth\":0,\"ticks\":\"\"},\"colorscale\":[[0.0,\"#0d0887\"],[0.1111111111111111,\"#46039f\"],[0.2222222222222222,\"#7201a8\"],[0.3333333333333333,\"#9c179e\"],[0.4444444444444444,\"#bd3786\"],[0.5555555555555556,\"#d8576b\"],[0.6666666666666666,\"#ed7953\"],[0.7777777777777778,\"#fb9f3a\"],[0.8888888888888888,\"#fdca26\"],[1.0,\"#f0f921\"]]}],\"contourcarpet\":[{\"type\":\"contourcarpet\",\"colorbar\":{\"outlinewidth\":0,\"ticks\":\"\"}}],\"contour\":[{\"type\":\"contour\",\"colorbar\":{\"outlinewidth\":0,\"ticks\":\"\"},\"colorscale\":[[0.0,\"#0d0887\"],[0.1111111111111111,\"#46039f\"],[0.2222222222222222,\"#7201a8\"],[0.3333333333333333,\"#9c179e\"],[0.4444444444444444,\"#bd3786\"],[0.5555555555555556,\"#d8576b\"],[0.6666666666666666,\"#ed7953\"],[0.7777777777777778,\"#fb9f3a\"],[0.8888888888888888,\"#fdca26\"],[1.0,\"#f0f921\"]]}],\"surface\":[{\"type\":\"surface\",\"colorbar\":{\"outlinewidth\":0,\"ticks\":\"\"},\"colorscale\":[[0.0,\"#0d0887\"],[0.1111111111111111,\"#46039f\"],[0.2222222222222222,\"#7201a8\"],[0.3333333333333333,\"#9c179e\"],[0.4444444444444444,\"#bd3786\"],[0.5555555555555556,\"#d8576b\"],[0.6666666666666666,\"#ed7953\"],[0.7777777777777778,\"#fb9f3a\"],[0.8888888888888888,\"#fdca26\"],[1.0,\"#f0f921\"]]}],\"mesh3d\":[{\"type\":\"mesh3d\",\"colorbar\":{\"outlinewidth\":0,\"ticks\":\"\"}}],\"scatter\":[{\"fillpattern\":{\"fillmode\":\"overlay\",\"size\":10,\"solidity\":0.2},\"type\":\"scatter\"}],\"parcoords\":[{\"type\":\"parcoords\",\"line\":{\"colorbar\":{\"outlinewidth\":0,\"ticks\":\"\"}}}],\"scatterpolargl\":[{\"type\":\"scatterpolargl\",\"marker\":{\"colorbar\":{\"outlinewidth\":0,\"ticks\":\"\"}}}],\"bar\":[{\"error_x\":{\"color\":\"#2a3f5f\"},\"error_y\":{\"color\":\"#2a3f5f\"},\"marker\":{\"line\":{\"color\":\"#E5ECF6\",\"width\":0.5},\"pattern\":{\"fillmode\":\"overlay\",\"size\":10,\"solidity\":0.2}},\"type\":\"bar\"}],\"scattergeo\":[{\"type\":\"scattergeo\",\"marker\":{\"colorbar\":{\"outlinewidth\":0,\"ticks\":\"\"}}}],\"scatterpolar\":[{\"type\":\"scatterpolar\",\"marker\":{\"colorbar\":{\"outlinewidth\":0,\"ticks\":\"\"}}}],\"histogram\":[{\"marker\":{\"pattern\":{\"fillmode\":\"overlay\",\"size\":10,\"solidity\":0.2}},\"type\":\"histogram\"}],\"scattergl\":[{\"type\":\"scattergl\",\"marker\":{\"colorbar\":{\"outlinewidth\":0,\"ticks\":\"\"}}}],\"scatter3d\":[{\"type\":\"scatter3d\",\"line\":{\"colorbar\":{\"outlinewidth\":0,\"ticks\":\"\"}},\"marker\":{\"colorbar\":{\"outlinewidth\":0,\"ticks\":\"\"}}}],\"scattermapbox\":[{\"type\":\"scattermapbox\",\"marker\":{\"colorbar\":{\"outlinewidth\":0,\"ticks\":\"\"}}}],\"scatterternary\":[{\"type\":\"scatterternary\",\"marker\":{\"colorbar\":{\"outlinewidth\":0,\"ticks\":\"\"}}}],\"scattercarpet\":[{\"type\":\"scattercarpet\",\"marker\":{\"colorbar\":{\"outlinewidth\":0,\"ticks\":\"\"}}}],\"carpet\":[{\"aaxis\":{\"endlinecolor\":\"#2a3f5f\",\"gridcolor\":\"white\",\"linecolor\":\"white\",\"minorgridcolor\":\"white\",\"startlinecolor\":\"#2a3f5f\"},\"baxis\":{\"endlinecolor\":\"#2a3f5f\",\"gridcolor\":\"white\",\"linecolor\":\"white\",\"minorgridcolor\":\"white\",\"startlinecolor\":\"#2a3f5f\"},\"type\":\"carpet\"}],\"table\":[{\"cells\":{\"fill\":{\"color\":\"#EBF0F8\"},\"line\":{\"color\":\"white\"}},\"header\":{\"fill\":{\"color\":\"#C8D4E3\"},\"line\":{\"color\":\"white\"}},\"type\":\"table\"}],\"barpolar\":[{\"marker\":{\"line\":{\"color\":\"#E5ECF6\",\"width\":0.5},\"pattern\":{\"fillmode\":\"overlay\",\"size\":10,\"solidity\":0.2}},\"type\":\"barpolar\"}],\"pie\":[{\"automargin\":true,\"type\":\"pie\"}]},\"layout\":{\"autotypenumbers\":\"strict\",\"colorway\":[\"#636efa\",\"#EF553B\",\"#00cc96\",\"#ab63fa\",\"#FFA15A\",\"#19d3f3\",\"#FF6692\",\"#B6E880\",\"#FF97FF\",\"#FECB52\"],\"font\":{\"color\":\"#2a3f5f\"},\"hovermode\":\"closest\",\"hoverlabel\":{\"align\":\"left\"},\"paper_bgcolor\":\"white\",\"plot_bgcolor\":\"#E5ECF6\",\"polar\":{\"bgcolor\":\"#E5ECF6\",\"angularaxis\":{\"gridcolor\":\"white\",\"linecolor\":\"white\",\"ticks\":\"\"},\"radialaxis\":{\"gridcolor\":\"white\",\"linecolor\":\"white\",\"ticks\":\"\"}},\"ternary\":{\"bgcolor\":\"#E5ECF6\",\"aaxis\":{\"gridcolor\":\"white\",\"linecolor\":\"white\",\"ticks\":\"\"},\"baxis\":{\"gridcolor\":\"white\",\"linecolor\":\"white\",\"ticks\":\"\"},\"caxis\":{\"gridcolor\":\"white\",\"linecolor\":\"white\",\"ticks\":\"\"}},\"coloraxis\":{\"colorbar\":{\"outlinewidth\":0,\"ticks\":\"\"}},\"colorscale\":{\"sequential\":[[0.0,\"#0d0887\"],[0.1111111111111111,\"#46039f\"],[0.2222222222222222,\"#7201a8\"],[0.3333333333333333,\"#9c179e\"],[0.4444444444444444,\"#bd3786\"],[0.5555555555555556,\"#d8576b\"],[0.6666666666666666,\"#ed7953\"],[0.7777777777777778,\"#fb9f3a\"],[0.8888888888888888,\"#fdca26\"],[1.0,\"#f0f921\"]],\"sequentialminus\":[[0.0,\"#0d0887\"],[0.1111111111111111,\"#46039f\"],[0.2222222222222222,\"#7201a8\"],[0.3333333333333333,\"#9c179e\"],[0.4444444444444444,\"#bd3786\"],[0.5555555555555556,\"#d8576b\"],[0.6666666666666666,\"#ed7953\"],[0.7777777777777778,\"#fb9f3a\"],[0.8888888888888888,\"#fdca26\"],[1.0,\"#f0f921\"]],\"diverging\":[[0,\"#8e0152\"],[0.1,\"#c51b7d\"],[0.2,\"#de77ae\"],[0.3,\"#f1b6da\"],[0.4,\"#fde0ef\"],[0.5,\"#f7f7f7\"],[0.6,\"#e6f5d0\"],[0.7,\"#b8e186\"],[0.8,\"#7fbc41\"],[0.9,\"#4d9221\"],[1,\"#276419\"]]},\"xaxis\":{\"gridcolor\":\"white\",\"linecolor\":\"white\",\"ticks\":\"\",\"title\":{\"standoff\":15},\"zerolinecolor\":\"white\",\"automargin\":true,\"zerolinewidth\":2},\"yaxis\":{\"gridcolor\":\"white\",\"linecolor\":\"white\",\"ticks\":\"\",\"title\":{\"standoff\":15},\"zerolinecolor\":\"white\",\"automargin\":true,\"zerolinewidth\":2},\"scene\":{\"xaxis\":{\"backgroundcolor\":\"#E5ECF6\",\"gridcolor\":\"white\",\"linecolor\":\"white\",\"showbackground\":true,\"ticks\":\"\",\"zerolinecolor\":\"white\",\"gridwidth\":2},\"yaxis\":{\"backgroundcolor\":\"#E5ECF6\",\"gridcolor\":\"white\",\"linecolor\":\"white\",\"showbackground\":true,\"ticks\":\"\",\"zerolinecolor\":\"white\",\"gridwidth\":2},\"zaxis\":{\"backgroundcolor\":\"#E5ECF6\",\"gridcolor\":\"white\",\"linecolor\":\"white\",\"showbackground\":true,\"ticks\":\"\",\"zerolinecolor\":\"white\",\"gridwidth\":2}},\"shapedefaults\":{\"line\":{\"color\":\"#2a3f5f\"}},\"annotationdefaults\":{\"arrowcolor\":\"#2a3f5f\",\"arrowhead\":0,\"arrowwidth\":1},\"geo\":{\"bgcolor\":\"white\",\"landcolor\":\"#E5ECF6\",\"subunitcolor\":\"white\",\"showland\":true,\"showlakes\":true,\"lakecolor\":\"white\"},\"title\":{\"x\":0.05},\"mapbox\":{\"style\":\"light\"}}}},                        {\"responsive\": true}                    ).then(function(){\n",
       "                            \n",
       "var gd = document.getElementById('585e021d-c825-47d1-bb32-130abf070db3');\n",
       "var x = new MutationObserver(function (mutations, observer) {{\n",
       "        var display = window.getComputedStyle(gd).display;\n",
       "        if (!display || display === 'none') {{\n",
       "            console.log([gd, 'removed!']);\n",
       "            Plotly.purge(gd);\n",
       "            observer.disconnect();\n",
       "        }}\n",
       "}});\n",
       "\n",
       "// Listen for the removal of the full notebook cells\n",
       "var notebookContainer = gd.closest('#notebook-container');\n",
       "if (notebookContainer) {{\n",
       "    x.observe(notebookContainer, {childList: true});\n",
       "}}\n",
       "\n",
       "// Listen for the clearing of the current output cell\n",
       "var outputEl = gd.closest('.output');\n",
       "if (outputEl) {{\n",
       "    x.observe(outputEl, {childList: true});\n",
       "}}\n",
       "\n",
       "                        })                };                });            </script>        </div>"
      ]
     },
     "metadata": {},
     "output_type": "display_data"
    }
   ],
   "source": [
    "fig = go.Figure()\n",
    "\n",
    "fig.add_scatter(\n",
    "    x=ddf['finish_time'], \n",
    "    y=ddf['objective_result'], \n",
    "    name='run time',\n",
    "    error_y=dict( type='data',array=ddf['std'],visible=True)\n",
    ")\n",
    "\n",
    "o3x = baselines['O3']['time']\n",
    "o2x = baselines['O2']['time']\n",
    "o1x = baselines['O1']['time']\n",
    "\n",
    "start_time = ddf.iloc[0]['finish_time']\n",
    "finish_time = ddf.iloc[-1]['finish_time']\n",
    "\n",
    "fig.add_trace(\n",
    "    go.Scatter(\n",
    "        x=[start_time, finish_time],\n",
    "        y=[o3x, o3x], \n",
    "        line={\n",
    "            'color': 'green',\n",
    "            'width': 2,\n",
    "            'dash': 'dashdot',\n",
    "        }, name='gcc -O3'\n",
    "    )\n",
    ")\n",
    "fig.add_trace(\n",
    "    go.Scatter(\n",
    "        x=[start_time, finish_time],\n",
    "        y=[o2x, o2x], \n",
    "        line={\n",
    "            'color': 'red',\n",
    "            'width': 2,\n",
    "            'dash': 'dashdot',\n",
    "        }, name='gcc -O2'\n",
    "    )\n",
    ")\n",
    "fig.add_trace(\n",
    "    go.Scatter(\n",
    "        x=[start_time, finish_time],\n",
    "        y=[o1x, o1x], \n",
    "        line={\n",
    "            'color': 'black',\n",
    "            'width': 2,\n",
    "            'dash': 'dashdot',\n",
    "        }, name='gcc -O1'\n",
    "    ),\n",
    ")\n",
    "fig.show()"
   ]
  },
  {
   "cell_type": "code",
   "execution_count": 41,
   "id": "246e17cc",
   "metadata": {},
   "outputs": [
    {
     "data": {
      "text/html": [
       "<div>\n",
       "<style scoped>\n",
       "    .dataframe tbody tr th:only-of-type {\n",
       "        vertical-align: middle;\n",
       "    }\n",
       "\n",
       "    .dataframe tbody tr th {\n",
       "        vertical-align: top;\n",
       "    }\n",
       "\n",
       "    .dataframe thead th {\n",
       "        text-align: right;\n",
       "    }\n",
       "</style>\n",
       "<table border=\"1\" class=\"dataframe\">\n",
       "  <thead>\n",
       "    <tr style=\"text-align: right;\">\n",
       "      <th></th>\n",
       "      <th>finish_time</th>\n",
       "      <th>objective_result</th>\n",
       "      <th>std</th>\n",
       "    </tr>\n",
       "  </thead>\n",
       "  <tbody>\n",
       "    <tr>\n",
       "      <th>6</th>\n",
       "      <td>2022-04-16 20:48:54.899843</td>\n",
       "      <td>0.113</td>\n",
       "      <td>0.026096</td>\n",
       "    </tr>\n",
       "  </tbody>\n",
       "</table>\n",
       "</div>"
      ],
      "text/plain": [
       "                  finish_time objective_result       std\n",
       "6  2022-04-16 20:48:54.899843            0.113  0.026096"
      ]
     },
     "execution_count": 41,
     "metadata": {},
     "output_type": "execute_result"
    }
   ],
   "source": [
    "ddf.iloc[[-1]]"
   ]
  },
  {
   "cell_type": "code",
   "execution_count": 48,
   "id": "1f7c514a",
   "metadata": {},
   "outputs": [
    {
     "data": {
      "text/plain": [
       "(0    2022-04-16 18:33:23.236027\n",
       " Name: finish_time, dtype: object,\n",
       " 0.15599999999999997)"
      ]
     },
     "execution_count": 48,
     "metadata": {},
     "output_type": "execute_result"
    }
   ],
   "source": [
    "ddf.iloc[[0]]['finish_time'], baselines['O3']['time']\n"
   ]
  },
  {
   "cell_type": "code",
   "execution_count": 47,
   "id": "300ddafc",
   "metadata": {},
   "outputs": [
    {
     "data": {
      "text/plain": [
       "(6    2022-04-16 20:48:54.899843\n",
       " Name: finish_time, dtype: object,\n",
       " 0.15599999999999997)"
      ]
     },
     "execution_count": 47,
     "metadata": {},
     "output_type": "execute_result"
    }
   ],
   "source": [
    "ddf.iloc[[-1]]['finish_time'], baselines['O3']['time']"
   ]
  },
  {
   "cell_type": "code",
   "execution_count": 55,
   "id": "2343ccc1",
   "metadata": {},
   "outputs": [
    {
     "data": {
      "text/plain": [
       "Timestamp('2022-04-16 18:33:23.236027')"
      ]
     },
     "execution_count": 55,
     "metadata": {},
     "output_type": "execute_result"
    }
   ],
   "source": [
    "ddf.iloc[[0]]['finish_time'][0]"
   ]
  },
  {
   "cell_type": "code",
   "execution_count": 61,
   "id": "d637de74",
   "metadata": {},
   "outputs": [
    {
     "data": {
      "text/plain": [
       "Timestamp('2022-04-16 20:48:54.899843')"
      ]
     },
     "execution_count": 61,
     "metadata": {},
     "output_type": "execute_result"
    }
   ],
   "source": [
    "ddf.iloc[-1]['finish_time']"
   ]
  },
  {
   "cell_type": "code",
   "execution_count": null,
   "id": "6a4c32ab",
   "metadata": {},
   "outputs": [],
   "source": []
  }
 ],
 "metadata": {
  "kernelspec": {
   "display_name": "Python 3 (ipykernel)",
   "language": "python",
   "name": "python3"
  },
  "language_info": {
   "codemirror_mode": {
    "name": "ipython",
    "version": 3
   },
   "file_extension": ".py",
   "mimetype": "text/x-python",
   "name": "python",
   "nbconvert_exporter": "python",
   "pygments_lexer": "ipython3",
   "version": "3.9.7"
  }
 },
 "nbformat": 4,
 "nbformat_minor": 5
}
